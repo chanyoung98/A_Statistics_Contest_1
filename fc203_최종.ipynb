{
  "nbformat": 4,
  "nbformat_minor": 0,
  "metadata": {
    "colab": {
      "provenance": [],
      "include_colab_link": true
    },
    "kernelspec": {
      "display_name": "Python 3",
      "language": "python",
      "name": "python3"
    },
    "language_info": {
      "codemirror_mode": {
        "name": "ipython",
        "version": 3
      },
      "file_extension": ".py",
      "mimetype": "text/x-python",
      "name": "python",
      "nbconvert_exporter": "python",
      "pygments_lexer": "ipython3",
      "version": "3.7.4"
    }
  },
  "cells": [
    {
      "cell_type": "markdown",
      "metadata": {
        "id": "view-in-github",
        "colab_type": "text"
      },
      "source": [
        "<a href=\"https://colab.research.google.com/github/chanyoung98/predicting_the_transfer_fee_of_soccer_player/blob/main/fc203_%EC%B5%9C%EC%A2%85.ipynb\" target=\"_parent\"><img src=\"https://colab.research.google.com/assets/colab-badge.svg\" alt=\"Open In Colab\"/></a>"
      ]
    },
    {
      "cell_type": "markdown",
      "metadata": {
        "id": "3VdH_At4LgSD"
      },
      "source": [
        "# 축구선수 이적료 예측 모델링"
      ]
    },
    {
      "cell_type": "markdown",
      "metadata": {
        "id": "MNzRzj3FLgSK"
      },
      "source": [
        "#### 팀 FC203 [응용통계학과 김찬영, 김청환, 이현석]"
      ]
    },
    {
      "cell_type": "code",
      "metadata": {
        "id": "MGwgJL0KLp1f",
        "colab": {
          "base_uri": "https://localhost:8080/"
        },
        "outputId": "ee13c79d-8c46-4309-c4e5-47c2c599558c"
      },
      "source": [
        "from google.colab import drive\n",
        "drive.mount('/content/drive')"
      ],
      "execution_count": 4,
      "outputs": [
        {
          "output_type": "stream",
          "name": "stdout",
          "text": [
            "Drive already mounted at /content/drive; to attempt to forcibly remount, call drive.mount(\"/content/drive\", force_remount=True).\n"
          ]
        }
      ]
    },
    {
      "cell_type": "code",
      "metadata": {
        "id": "uI1fofKfLgSL",
        "scrolled": true
      },
      "source": [
        "import pandas as pd\n",
        "import numpy as np\n",
        "import statsmodels.api as sm\n",
        "import matplotlib.pyplot as plt"
      ],
      "execution_count": 5,
      "outputs": []
    },
    {
      "cell_type": "code",
      "metadata": {
        "colab": {
          "base_uri": "https://localhost:8080/",
          "height": 210
        },
        "id": "zOS9J_3ZLndG",
        "outputId": "64691bf2-0ba4-4096-8ec7-e49f60a5e2c5"
      },
      "source": [
        "PATH = '/content/drive/MyDrive/Colab Notebooks/통계최강자전/'\n",
        "df17 = pd.read_csv(PATH + 'transfermarkt_fbref_201718.csv', sep=';')\n",
        "df18 = pd.read_csv(PATH + 'transfermarkt_fbref_201819.csv', sep=';')\n",
        "df19 = pd.read_csv(PATH + 'transfermarkt_fbref_201920.csv', sep=';')\n",
        "df17.head(3)"
      ],
      "execution_count": 6,
      "outputs": [
        {
          "output_type": "stream",
          "name": "stderr",
          "text": [
            "<ipython-input-6-97a41f5e0d32>:3: DtypeWarning: Columns (395) have mixed types. Specify dtype option on import or set low_memory=False.\n",
            "  df18 = pd.read_csv(PATH + 'transfermarkt_fbref_201819.csv', sep=';')\n"
          ]
        },
        {
          "output_type": "execute_result",
          "data": {
            "text/plain": [
              "   Unnamed: 0          player nationality position        squad  age  \\\n",
              "0         379          Burgui      es ESP    FW,MF       Alavés   23   \n",
              "1        2530  Raphaël Varane      fr FRA       DF  Real Madrid   24   \n",
              "2         721    Rubén Duarte      es ESP       DF       Alavés   21   \n",
              "\n",
              "   birth_year     value  height               position2  ... Pts/G    xG  \\\n",
              "0        1993   1800000     186    attack - Left Winger  ...  1.24  39.0   \n",
              "1        1993  70000000     191  Defender - Centre-Back  ...  2.00  83.3   \n",
              "2        1995   2000000     179    Defender - Left-Back  ...  1.24  39.0   \n",
              "\n",
              "    xGA  xGDiff  xGDiff/90  Attendance  CL  WinCL  CLBestScorer   Season  \n",
              "0  53.2   -14.2      -0.37      16,819   0      0             0  201718#  \n",
              "1  45.4    37.9       1.00       66161   1      1             0  201718#  \n",
              "2  53.2   -14.2      -0.37      16,819   0      0             0  201718#  \n",
              "\n",
              "[3 rows x 400 columns]"
            ],
            "text/html": [
              "\n",
              "  <div id=\"df-064eaed3-62ff-4732-b2bc-cbced82fcf0f\">\n",
              "    <div class=\"colab-df-container\">\n",
              "      <div>\n",
              "<style scoped>\n",
              "    .dataframe tbody tr th:only-of-type {\n",
              "        vertical-align: middle;\n",
              "    }\n",
              "\n",
              "    .dataframe tbody tr th {\n",
              "        vertical-align: top;\n",
              "    }\n",
              "\n",
              "    .dataframe thead th {\n",
              "        text-align: right;\n",
              "    }\n",
              "</style>\n",
              "<table border=\"1\" class=\"dataframe\">\n",
              "  <thead>\n",
              "    <tr style=\"text-align: right;\">\n",
              "      <th></th>\n",
              "      <th>Unnamed: 0</th>\n",
              "      <th>player</th>\n",
              "      <th>nationality</th>\n",
              "      <th>position</th>\n",
              "      <th>squad</th>\n",
              "      <th>age</th>\n",
              "      <th>birth_year</th>\n",
              "      <th>value</th>\n",
              "      <th>height</th>\n",
              "      <th>position2</th>\n",
              "      <th>...</th>\n",
              "      <th>Pts/G</th>\n",
              "      <th>xG</th>\n",
              "      <th>xGA</th>\n",
              "      <th>xGDiff</th>\n",
              "      <th>xGDiff/90</th>\n",
              "      <th>Attendance</th>\n",
              "      <th>CL</th>\n",
              "      <th>WinCL</th>\n",
              "      <th>CLBestScorer</th>\n",
              "      <th>Season</th>\n",
              "    </tr>\n",
              "  </thead>\n",
              "  <tbody>\n",
              "    <tr>\n",
              "      <th>0</th>\n",
              "      <td>379</td>\n",
              "      <td>Burgui</td>\n",
              "      <td>es ESP</td>\n",
              "      <td>FW,MF</td>\n",
              "      <td>Alavés</td>\n",
              "      <td>23</td>\n",
              "      <td>1993</td>\n",
              "      <td>1800000</td>\n",
              "      <td>186</td>\n",
              "      <td>attack - Left Winger</td>\n",
              "      <td>...</td>\n",
              "      <td>1.24</td>\n",
              "      <td>39.0</td>\n",
              "      <td>53.2</td>\n",
              "      <td>-14.2</td>\n",
              "      <td>-0.37</td>\n",
              "      <td>16,819</td>\n",
              "      <td>0</td>\n",
              "      <td>0</td>\n",
              "      <td>0</td>\n",
              "      <td>201718#</td>\n",
              "    </tr>\n",
              "    <tr>\n",
              "      <th>1</th>\n",
              "      <td>2530</td>\n",
              "      <td>Raphaël Varane</td>\n",
              "      <td>fr FRA</td>\n",
              "      <td>DF</td>\n",
              "      <td>Real Madrid</td>\n",
              "      <td>24</td>\n",
              "      <td>1993</td>\n",
              "      <td>70000000</td>\n",
              "      <td>191</td>\n",
              "      <td>Defender - Centre-Back</td>\n",
              "      <td>...</td>\n",
              "      <td>2.00</td>\n",
              "      <td>83.3</td>\n",
              "      <td>45.4</td>\n",
              "      <td>37.9</td>\n",
              "      <td>1.00</td>\n",
              "      <td>66161</td>\n",
              "      <td>1</td>\n",
              "      <td>1</td>\n",
              "      <td>0</td>\n",
              "      <td>201718#</td>\n",
              "    </tr>\n",
              "    <tr>\n",
              "      <th>2</th>\n",
              "      <td>721</td>\n",
              "      <td>Rubén Duarte</td>\n",
              "      <td>es ESP</td>\n",
              "      <td>DF</td>\n",
              "      <td>Alavés</td>\n",
              "      <td>21</td>\n",
              "      <td>1995</td>\n",
              "      <td>2000000</td>\n",
              "      <td>179</td>\n",
              "      <td>Defender - Left-Back</td>\n",
              "      <td>...</td>\n",
              "      <td>1.24</td>\n",
              "      <td>39.0</td>\n",
              "      <td>53.2</td>\n",
              "      <td>-14.2</td>\n",
              "      <td>-0.37</td>\n",
              "      <td>16,819</td>\n",
              "      <td>0</td>\n",
              "      <td>0</td>\n",
              "      <td>0</td>\n",
              "      <td>201718#</td>\n",
              "    </tr>\n",
              "  </tbody>\n",
              "</table>\n",
              "<p>3 rows × 400 columns</p>\n",
              "</div>\n",
              "      <button class=\"colab-df-convert\" onclick=\"convertToInteractive('df-064eaed3-62ff-4732-b2bc-cbced82fcf0f')\"\n",
              "              title=\"Convert this dataframe to an interactive table.\"\n",
              "              style=\"display:none;\">\n",
              "        \n",
              "  <svg xmlns=\"http://www.w3.org/2000/svg\" height=\"24px\"viewBox=\"0 0 24 24\"\n",
              "       width=\"24px\">\n",
              "    <path d=\"M0 0h24v24H0V0z\" fill=\"none\"/>\n",
              "    <path d=\"M18.56 5.44l.94 2.06.94-2.06 2.06-.94-2.06-.94-.94-2.06-.94 2.06-2.06.94zm-11 1L8.5 8.5l.94-2.06 2.06-.94-2.06-.94L8.5 2.5l-.94 2.06-2.06.94zm10 10l.94 2.06.94-2.06 2.06-.94-2.06-.94-.94-2.06-.94 2.06-2.06.94z\"/><path d=\"M17.41 7.96l-1.37-1.37c-.4-.4-.92-.59-1.43-.59-.52 0-1.04.2-1.43.59L10.3 9.45l-7.72 7.72c-.78.78-.78 2.05 0 2.83L4 21.41c.39.39.9.59 1.41.59.51 0 1.02-.2 1.41-.59l7.78-7.78 2.81-2.81c.8-.78.8-2.07 0-2.86zM5.41 20L4 18.59l7.72-7.72 1.47 1.35L5.41 20z\"/>\n",
              "  </svg>\n",
              "      </button>\n",
              "      \n",
              "  <style>\n",
              "    .colab-df-container {\n",
              "      display:flex;\n",
              "      flex-wrap:wrap;\n",
              "      gap: 12px;\n",
              "    }\n",
              "\n",
              "    .colab-df-convert {\n",
              "      background-color: #E8F0FE;\n",
              "      border: none;\n",
              "      border-radius: 50%;\n",
              "      cursor: pointer;\n",
              "      display: none;\n",
              "      fill: #1967D2;\n",
              "      height: 32px;\n",
              "      padding: 0 0 0 0;\n",
              "      width: 32px;\n",
              "    }\n",
              "\n",
              "    .colab-df-convert:hover {\n",
              "      background-color: #E2EBFA;\n",
              "      box-shadow: 0px 1px 2px rgba(60, 64, 67, 0.3), 0px 1px 3px 1px rgba(60, 64, 67, 0.15);\n",
              "      fill: #174EA6;\n",
              "    }\n",
              "\n",
              "    [theme=dark] .colab-df-convert {\n",
              "      background-color: #3B4455;\n",
              "      fill: #D2E3FC;\n",
              "    }\n",
              "\n",
              "    [theme=dark] .colab-df-convert:hover {\n",
              "      background-color: #434B5C;\n",
              "      box-shadow: 0px 1px 3px 1px rgba(0, 0, 0, 0.15);\n",
              "      filter: drop-shadow(0px 1px 2px rgba(0, 0, 0, 0.3));\n",
              "      fill: #FFFFFF;\n",
              "    }\n",
              "  </style>\n",
              "\n",
              "      <script>\n",
              "        const buttonEl =\n",
              "          document.querySelector('#df-064eaed3-62ff-4732-b2bc-cbced82fcf0f button.colab-df-convert');\n",
              "        buttonEl.style.display =\n",
              "          google.colab.kernel.accessAllowed ? 'block' : 'none';\n",
              "\n",
              "        async function convertToInteractive(key) {\n",
              "          const element = document.querySelector('#df-064eaed3-62ff-4732-b2bc-cbced82fcf0f');\n",
              "          const dataTable =\n",
              "            await google.colab.kernel.invokeFunction('convertToInteractive',\n",
              "                                                     [key], {});\n",
              "          if (!dataTable) return;\n",
              "\n",
              "          const docLinkHtml = 'Like what you see? Visit the ' +\n",
              "            '<a target=\"_blank\" href=https://colab.research.google.com/notebooks/data_table.ipynb>data table notebook</a>'\n",
              "            + ' to learn more about interactive tables.';\n",
              "          element.innerHTML = '';\n",
              "          dataTable['output_type'] = 'display_data';\n",
              "          await google.colab.output.renderOutput(dataTable, element);\n",
              "          const docLink = document.createElement('div');\n",
              "          docLink.innerHTML = docLinkHtml;\n",
              "          element.appendChild(docLink);\n",
              "        }\n",
              "      </script>\n",
              "    </div>\n",
              "  </div>\n",
              "  "
            ]
          },
          "metadata": {},
          "execution_count": 6
        }
      ]
    },
    {
      "cell_type": "markdown",
      "metadata": {
        "id": "GiS6Rpk-LgST"
      },
      "source": [
        "## Data preprocessing"
      ]
    },
    {
      "cell_type": "code",
      "metadata": {
        "colab": {
          "base_uri": "https://localhost:8080/",
          "height": 236
        },
        "id": "ICHA9epOLgSU",
        "outputId": "d65959c1-5ee3-4f75-ed3c-8ff4a91bfd3f"
      },
      "source": [
        "# Processing missing values for each season's data\n",
        "df17 = df17.fillna(0)\n",
        "df17 = df17[df17.foot!=0]\n",
        "df18.dropna(axis=0, inplace=True)\n",
        "df19['CLBestScorer'] = df19['CLBestScorer'].fillna(0)\n",
        "df19.dropna(axis=0, inplace=True)\n",
        "\n",
        "# Changing column name('Unnamed: 0') / Data merging\n",
        "df17.rename(columns={'Unnamed: 0':'Column1'}, inplace=True)\n",
        "df0 = pd.concat([df17, df18])\n",
        "df1 = pd.concat([df0, df19])\n",
        "df1.tail()"
      ],
      "execution_count": 7,
      "outputs": [
        {
          "output_type": "execute_result",
          "data": {
            "text/plain": [
              "      Column1          player nationality position   squad   age  birth_year  \\\n",
              "2639   1997.0  Daniel Podence      pt POR    FW,MF  Wolves  23.0      1995.0   \n",
              "2640   2202.0   Romain SaĂŻss      ma MAR       DF  Wolves  29.0      1990.0   \n",
              "2641   2523.0   Adama TraorĂ©      es ESP    FW,MF  Wolves  23.0      1996.0   \n",
              "2642   2567.0  JesĂşs Vallejo      es ESP       DF  Wolves  22.0      1997.0   \n",
              "2643   2615.0  RĂşben Vinagre      pt POR       DF  Wolves  20.0      1999.0   \n",
              "\n",
              "           value  height               position2  ... Pts/G    xG   xGA  \\\n",
              "2639  12000000.0   165.0  Forward - Right Winger  ...  1.55  47.1  34.8   \n",
              "2640   4000000.0   188.0  Defender - Centre-Back  ...  1.55  47.1  34.8   \n",
              "2641  25000000.0   178.0  Forward - Right Winger  ...  1.55  47.1  34.8   \n",
              "2642   6000000.0   184.0  Defender - Centre-Back  ...  1.55  47.1  34.8   \n",
              "2643   9000000.0   174.0    Defender - Left-Back  ...  1.55  47.1  34.8   \n",
              "\n",
              "      xGDiff  xGDiff/90  Attendance   CL  WinCL  CLBestScorer   Season  \n",
              "2639    12.3       0.32       24758  0.0    0.0           0.0  201920#  \n",
              "2640    12.3       0.32       24758  0.0    0.0           0.0  201920#  \n",
              "2641    12.3       0.32       24758  0.0    0.0           0.0  201920#  \n",
              "2642    12.3       0.32       24758  0.0    0.0           0.0  201920#  \n",
              "2643    12.3       0.32       24758  0.0    0.0           0.0  201920#  \n",
              "\n",
              "[5 rows x 400 columns]"
            ],
            "text/html": [
              "\n",
              "  <div id=\"df-d62836c3-e3d6-4b0e-ac7a-7440c9be430c\">\n",
              "    <div class=\"colab-df-container\">\n",
              "      <div>\n",
              "<style scoped>\n",
              "    .dataframe tbody tr th:only-of-type {\n",
              "        vertical-align: middle;\n",
              "    }\n",
              "\n",
              "    .dataframe tbody tr th {\n",
              "        vertical-align: top;\n",
              "    }\n",
              "\n",
              "    .dataframe thead th {\n",
              "        text-align: right;\n",
              "    }\n",
              "</style>\n",
              "<table border=\"1\" class=\"dataframe\">\n",
              "  <thead>\n",
              "    <tr style=\"text-align: right;\">\n",
              "      <th></th>\n",
              "      <th>Column1</th>\n",
              "      <th>player</th>\n",
              "      <th>nationality</th>\n",
              "      <th>position</th>\n",
              "      <th>squad</th>\n",
              "      <th>age</th>\n",
              "      <th>birth_year</th>\n",
              "      <th>value</th>\n",
              "      <th>height</th>\n",
              "      <th>position2</th>\n",
              "      <th>...</th>\n",
              "      <th>Pts/G</th>\n",
              "      <th>xG</th>\n",
              "      <th>xGA</th>\n",
              "      <th>xGDiff</th>\n",
              "      <th>xGDiff/90</th>\n",
              "      <th>Attendance</th>\n",
              "      <th>CL</th>\n",
              "      <th>WinCL</th>\n",
              "      <th>CLBestScorer</th>\n",
              "      <th>Season</th>\n",
              "    </tr>\n",
              "  </thead>\n",
              "  <tbody>\n",
              "    <tr>\n",
              "      <th>2639</th>\n",
              "      <td>1997.0</td>\n",
              "      <td>Daniel Podence</td>\n",
              "      <td>pt POR</td>\n",
              "      <td>FW,MF</td>\n",
              "      <td>Wolves</td>\n",
              "      <td>23.0</td>\n",
              "      <td>1995.0</td>\n",
              "      <td>12000000.0</td>\n",
              "      <td>165.0</td>\n",
              "      <td>Forward - Right Winger</td>\n",
              "      <td>...</td>\n",
              "      <td>1.55</td>\n",
              "      <td>47.1</td>\n",
              "      <td>34.8</td>\n",
              "      <td>12.3</td>\n",
              "      <td>0.32</td>\n",
              "      <td>24758</td>\n",
              "      <td>0.0</td>\n",
              "      <td>0.0</td>\n",
              "      <td>0.0</td>\n",
              "      <td>201920#</td>\n",
              "    </tr>\n",
              "    <tr>\n",
              "      <th>2640</th>\n",
              "      <td>2202.0</td>\n",
              "      <td>Romain SaĂŻss</td>\n",
              "      <td>ma MAR</td>\n",
              "      <td>DF</td>\n",
              "      <td>Wolves</td>\n",
              "      <td>29.0</td>\n",
              "      <td>1990.0</td>\n",
              "      <td>4000000.0</td>\n",
              "      <td>188.0</td>\n",
              "      <td>Defender - Centre-Back</td>\n",
              "      <td>...</td>\n",
              "      <td>1.55</td>\n",
              "      <td>47.1</td>\n",
              "      <td>34.8</td>\n",
              "      <td>12.3</td>\n",
              "      <td>0.32</td>\n",
              "      <td>24758</td>\n",
              "      <td>0.0</td>\n",
              "      <td>0.0</td>\n",
              "      <td>0.0</td>\n",
              "      <td>201920#</td>\n",
              "    </tr>\n",
              "    <tr>\n",
              "      <th>2641</th>\n",
              "      <td>2523.0</td>\n",
              "      <td>Adama TraorĂ©</td>\n",
              "      <td>es ESP</td>\n",
              "      <td>FW,MF</td>\n",
              "      <td>Wolves</td>\n",
              "      <td>23.0</td>\n",
              "      <td>1996.0</td>\n",
              "      <td>25000000.0</td>\n",
              "      <td>178.0</td>\n",
              "      <td>Forward - Right Winger</td>\n",
              "      <td>...</td>\n",
              "      <td>1.55</td>\n",
              "      <td>47.1</td>\n",
              "      <td>34.8</td>\n",
              "      <td>12.3</td>\n",
              "      <td>0.32</td>\n",
              "      <td>24758</td>\n",
              "      <td>0.0</td>\n",
              "      <td>0.0</td>\n",
              "      <td>0.0</td>\n",
              "      <td>201920#</td>\n",
              "    </tr>\n",
              "    <tr>\n",
              "      <th>2642</th>\n",
              "      <td>2567.0</td>\n",
              "      <td>JesĂşs Vallejo</td>\n",
              "      <td>es ESP</td>\n",
              "      <td>DF</td>\n",
              "      <td>Wolves</td>\n",
              "      <td>22.0</td>\n",
              "      <td>1997.0</td>\n",
              "      <td>6000000.0</td>\n",
              "      <td>184.0</td>\n",
              "      <td>Defender - Centre-Back</td>\n",
              "      <td>...</td>\n",
              "      <td>1.55</td>\n",
              "      <td>47.1</td>\n",
              "      <td>34.8</td>\n",
              "      <td>12.3</td>\n",
              "      <td>0.32</td>\n",
              "      <td>24758</td>\n",
              "      <td>0.0</td>\n",
              "      <td>0.0</td>\n",
              "      <td>0.0</td>\n",
              "      <td>201920#</td>\n",
              "    </tr>\n",
              "    <tr>\n",
              "      <th>2643</th>\n",
              "      <td>2615.0</td>\n",
              "      <td>RĂşben Vinagre</td>\n",
              "      <td>pt POR</td>\n",
              "      <td>DF</td>\n",
              "      <td>Wolves</td>\n",
              "      <td>20.0</td>\n",
              "      <td>1999.0</td>\n",
              "      <td>9000000.0</td>\n",
              "      <td>174.0</td>\n",
              "      <td>Defender - Left-Back</td>\n",
              "      <td>...</td>\n",
              "      <td>1.55</td>\n",
              "      <td>47.1</td>\n",
              "      <td>34.8</td>\n",
              "      <td>12.3</td>\n",
              "      <td>0.32</td>\n",
              "      <td>24758</td>\n",
              "      <td>0.0</td>\n",
              "      <td>0.0</td>\n",
              "      <td>0.0</td>\n",
              "      <td>201920#</td>\n",
              "    </tr>\n",
              "  </tbody>\n",
              "</table>\n",
              "<p>5 rows × 400 columns</p>\n",
              "</div>\n",
              "      <button class=\"colab-df-convert\" onclick=\"convertToInteractive('df-d62836c3-e3d6-4b0e-ac7a-7440c9be430c')\"\n",
              "              title=\"Convert this dataframe to an interactive table.\"\n",
              "              style=\"display:none;\">\n",
              "        \n",
              "  <svg xmlns=\"http://www.w3.org/2000/svg\" height=\"24px\"viewBox=\"0 0 24 24\"\n",
              "       width=\"24px\">\n",
              "    <path d=\"M0 0h24v24H0V0z\" fill=\"none\"/>\n",
              "    <path d=\"M18.56 5.44l.94 2.06.94-2.06 2.06-.94-2.06-.94-.94-2.06-.94 2.06-2.06.94zm-11 1L8.5 8.5l.94-2.06 2.06-.94-2.06-.94L8.5 2.5l-.94 2.06-2.06.94zm10 10l.94 2.06.94-2.06 2.06-.94-2.06-.94-.94-2.06-.94 2.06-2.06.94z\"/><path d=\"M17.41 7.96l-1.37-1.37c-.4-.4-.92-.59-1.43-.59-.52 0-1.04.2-1.43.59L10.3 9.45l-7.72 7.72c-.78.78-.78 2.05 0 2.83L4 21.41c.39.39.9.59 1.41.59.51 0 1.02-.2 1.41-.59l7.78-7.78 2.81-2.81c.8-.78.8-2.07 0-2.86zM5.41 20L4 18.59l7.72-7.72 1.47 1.35L5.41 20z\"/>\n",
              "  </svg>\n",
              "      </button>\n",
              "      \n",
              "  <style>\n",
              "    .colab-df-container {\n",
              "      display:flex;\n",
              "      flex-wrap:wrap;\n",
              "      gap: 12px;\n",
              "    }\n",
              "\n",
              "    .colab-df-convert {\n",
              "      background-color: #E8F0FE;\n",
              "      border: none;\n",
              "      border-radius: 50%;\n",
              "      cursor: pointer;\n",
              "      display: none;\n",
              "      fill: #1967D2;\n",
              "      height: 32px;\n",
              "      padding: 0 0 0 0;\n",
              "      width: 32px;\n",
              "    }\n",
              "\n",
              "    .colab-df-convert:hover {\n",
              "      background-color: #E2EBFA;\n",
              "      box-shadow: 0px 1px 2px rgba(60, 64, 67, 0.3), 0px 1px 3px 1px rgba(60, 64, 67, 0.15);\n",
              "      fill: #174EA6;\n",
              "    }\n",
              "\n",
              "    [theme=dark] .colab-df-convert {\n",
              "      background-color: #3B4455;\n",
              "      fill: #D2E3FC;\n",
              "    }\n",
              "\n",
              "    [theme=dark] .colab-df-convert:hover {\n",
              "      background-color: #434B5C;\n",
              "      box-shadow: 0px 1px 3px 1px rgba(0, 0, 0, 0.15);\n",
              "      filter: drop-shadow(0px 1px 2px rgba(0, 0, 0, 0.3));\n",
              "      fill: #FFFFFF;\n",
              "    }\n",
              "  </style>\n",
              "\n",
              "      <script>\n",
              "        const buttonEl =\n",
              "          document.querySelector('#df-d62836c3-e3d6-4b0e-ac7a-7440c9be430c button.colab-df-convert');\n",
              "        buttonEl.style.display =\n",
              "          google.colab.kernel.accessAllowed ? 'block' : 'none';\n",
              "\n",
              "        async function convertToInteractive(key) {\n",
              "          const element = document.querySelector('#df-d62836c3-e3d6-4b0e-ac7a-7440c9be430c');\n",
              "          const dataTable =\n",
              "            await google.colab.kernel.invokeFunction('convertToInteractive',\n",
              "                                                     [key], {});\n",
              "          if (!dataTable) return;\n",
              "\n",
              "          const docLinkHtml = 'Like what you see? Visit the ' +\n",
              "            '<a target=\"_blank\" href=https://colab.research.google.com/notebooks/data_table.ipynb>data table notebook</a>'\n",
              "            + ' to learn more about interactive tables.';\n",
              "          element.innerHTML = '';\n",
              "          dataTable['output_type'] = 'display_data';\n",
              "          await google.colab.output.renderOutput(dataTable, element);\n",
              "          const docLink = document.createElement('div');\n",
              "          docLink.innerHTML = docLinkHtml;\n",
              "          element.appendChild(docLink);\n",
              "        }\n",
              "      </script>\n",
              "    </div>\n",
              "  </div>\n",
              "  "
            ]
          },
          "metadata": {},
          "execution_count": 7
        }
      ]
    },
    {
      "cell_type": "code",
      "metadata": {
        "colab": {
          "base_uri": "https://localhost:8080/",
          "height": 79
        },
        "id": "gseuk5beLgSV",
        "outputId": "0631aa49-9cc3-4820-cb4b-a45774f635d5"
      },
      "source": [
        "# Identifying duplicated rows\n",
        "duplicated_data = df1[df1.duplicated()]\n",
        "duplicated_data = duplicated_data.dropna()\n",
        "duplicated_data"
      ],
      "execution_count": 8,
      "outputs": [
        {
          "output_type": "execute_result",
          "data": {
            "text/plain": [
              "Empty DataFrame\n",
              "Columns: [Column1, player, nationality, position, squad, age, birth_year, value, height, position2, foot, league, games, games_starts, minutes, goals, assists, pens_made, pens_att, cards_yellow, cards_red, goals_per90, assists_per90, goals_assists_per90, goals_pens_per90, goals_assists_pens_per90, xg, npxg, xa, xg_per90, xa_per90, xg_xa_per90, npxg_per90, npxg_xa_per90, minutes_90s, shots_total, shots_on_target, shots_free_kicks, shots_on_target_pct, shots_total_per90, shots_on_target_per90, goals_per_shot, goals_per_shot_on_target, npxg_per_shot, xg_net, npxg_net, passes_completed, passes, passes_pct, passes_total_distance, passes_progressive_distance, passes_completed_short, passes_short, passes_pct_short, passes_completed_medium, passes_medium, passes_pct_medium, passes_completed_long, passes_long, passes_pct_long, xa_net, assisted_shots, passes_into_final_third, passes_into_penalty_area, crosses_into_penalty_area, progressive_passes, passes_live, passes_dead, passes_free_kicks, through_balls, passes_pressure, passes_switches, crosses, corner_kicks, corner_kicks_in, corner_kicks_out, corner_kicks_straight, passes_ground, passes_low, passes_high, passes_left_foot, passes_right_foot, passes_head, throw_ins, passes_other_body, passes_offsides, passes_oob, passes_intercepted, passes_blocked, sca, sca_per90, sca_passes_live, sca_passes_dead, sca_dribbles, sca_shots, sca_fouled, gca, gca_per90, gca_passes_live, gca_passes_dead, ...]\n",
              "Index: []\n",
              "\n",
              "[0 rows x 400 columns]"
            ],
            "text/html": [
              "\n",
              "  <div id=\"df-b3d56d67-5e5c-4bb7-a36e-ba4bf30aa22d\">\n",
              "    <div class=\"colab-df-container\">\n",
              "      <div>\n",
              "<style scoped>\n",
              "    .dataframe tbody tr th:only-of-type {\n",
              "        vertical-align: middle;\n",
              "    }\n",
              "\n",
              "    .dataframe tbody tr th {\n",
              "        vertical-align: top;\n",
              "    }\n",
              "\n",
              "    .dataframe thead th {\n",
              "        text-align: right;\n",
              "    }\n",
              "</style>\n",
              "<table border=\"1\" class=\"dataframe\">\n",
              "  <thead>\n",
              "    <tr style=\"text-align: right;\">\n",
              "      <th></th>\n",
              "      <th>Column1</th>\n",
              "      <th>player</th>\n",
              "      <th>nationality</th>\n",
              "      <th>position</th>\n",
              "      <th>squad</th>\n",
              "      <th>age</th>\n",
              "      <th>birth_year</th>\n",
              "      <th>value</th>\n",
              "      <th>height</th>\n",
              "      <th>position2</th>\n",
              "      <th>...</th>\n",
              "      <th>Pts/G</th>\n",
              "      <th>xG</th>\n",
              "      <th>xGA</th>\n",
              "      <th>xGDiff</th>\n",
              "      <th>xGDiff/90</th>\n",
              "      <th>Attendance</th>\n",
              "      <th>CL</th>\n",
              "      <th>WinCL</th>\n",
              "      <th>CLBestScorer</th>\n",
              "      <th>Season</th>\n",
              "    </tr>\n",
              "  </thead>\n",
              "  <tbody>\n",
              "  </tbody>\n",
              "</table>\n",
              "<p>0 rows × 400 columns</p>\n",
              "</div>\n",
              "      <button class=\"colab-df-convert\" onclick=\"convertToInteractive('df-b3d56d67-5e5c-4bb7-a36e-ba4bf30aa22d')\"\n",
              "              title=\"Convert this dataframe to an interactive table.\"\n",
              "              style=\"display:none;\">\n",
              "        \n",
              "  <svg xmlns=\"http://www.w3.org/2000/svg\" height=\"24px\"viewBox=\"0 0 24 24\"\n",
              "       width=\"24px\">\n",
              "    <path d=\"M0 0h24v24H0V0z\" fill=\"none\"/>\n",
              "    <path d=\"M18.56 5.44l.94 2.06.94-2.06 2.06-.94-2.06-.94-.94-2.06-.94 2.06-2.06.94zm-11 1L8.5 8.5l.94-2.06 2.06-.94-2.06-.94L8.5 2.5l-.94 2.06-2.06.94zm10 10l.94 2.06.94-2.06 2.06-.94-2.06-.94-.94-2.06-.94 2.06-2.06.94z\"/><path d=\"M17.41 7.96l-1.37-1.37c-.4-.4-.92-.59-1.43-.59-.52 0-1.04.2-1.43.59L10.3 9.45l-7.72 7.72c-.78.78-.78 2.05 0 2.83L4 21.41c.39.39.9.59 1.41.59.51 0 1.02-.2 1.41-.59l7.78-7.78 2.81-2.81c.8-.78.8-2.07 0-2.86zM5.41 20L4 18.59l7.72-7.72 1.47 1.35L5.41 20z\"/>\n",
              "  </svg>\n",
              "      </button>\n",
              "      \n",
              "  <style>\n",
              "    .colab-df-container {\n",
              "      display:flex;\n",
              "      flex-wrap:wrap;\n",
              "      gap: 12px;\n",
              "    }\n",
              "\n",
              "    .colab-df-convert {\n",
              "      background-color: #E8F0FE;\n",
              "      border: none;\n",
              "      border-radius: 50%;\n",
              "      cursor: pointer;\n",
              "      display: none;\n",
              "      fill: #1967D2;\n",
              "      height: 32px;\n",
              "      padding: 0 0 0 0;\n",
              "      width: 32px;\n",
              "    }\n",
              "\n",
              "    .colab-df-convert:hover {\n",
              "      background-color: #E2EBFA;\n",
              "      box-shadow: 0px 1px 2px rgba(60, 64, 67, 0.3), 0px 1px 3px 1px rgba(60, 64, 67, 0.15);\n",
              "      fill: #174EA6;\n",
              "    }\n",
              "\n",
              "    [theme=dark] .colab-df-convert {\n",
              "      background-color: #3B4455;\n",
              "      fill: #D2E3FC;\n",
              "    }\n",
              "\n",
              "    [theme=dark] .colab-df-convert:hover {\n",
              "      background-color: #434B5C;\n",
              "      box-shadow: 0px 1px 3px 1px rgba(0, 0, 0, 0.15);\n",
              "      filter: drop-shadow(0px 1px 2px rgba(0, 0, 0, 0.3));\n",
              "      fill: #FFFFFF;\n",
              "    }\n",
              "  </style>\n",
              "\n",
              "      <script>\n",
              "        const buttonEl =\n",
              "          document.querySelector('#df-b3d56d67-5e5c-4bb7-a36e-ba4bf30aa22d button.colab-df-convert');\n",
              "        buttonEl.style.display =\n",
              "          google.colab.kernel.accessAllowed ? 'block' : 'none';\n",
              "\n",
              "        async function convertToInteractive(key) {\n",
              "          const element = document.querySelector('#df-b3d56d67-5e5c-4bb7-a36e-ba4bf30aa22d');\n",
              "          const dataTable =\n",
              "            await google.colab.kernel.invokeFunction('convertToInteractive',\n",
              "                                                     [key], {});\n",
              "          if (!dataTable) return;\n",
              "\n",
              "          const docLinkHtml = 'Like what you see? Visit the ' +\n",
              "            '<a target=\"_blank\" href=https://colab.research.google.com/notebooks/data_table.ipynb>data table notebook</a>'\n",
              "            + ' to learn more about interactive tables.';\n",
              "          element.innerHTML = '';\n",
              "          dataTable['output_type'] = 'display_data';\n",
              "          await google.colab.output.renderOutput(dataTable, element);\n",
              "          const docLink = document.createElement('div');\n",
              "          docLink.innerHTML = docLinkHtml;\n",
              "          element.appendChild(docLink);\n",
              "        }\n",
              "      </script>\n",
              "    </div>\n",
              "  </div>\n",
              "  "
            ]
          },
          "metadata": {},
          "execution_count": 8
        }
      ]
    },
    {
      "cell_type": "code",
      "metadata": {
        "colab": {
          "base_uri": "https://localhost:8080/",
          "height": 236
        },
        "id": "bGqKu-H0LgSX",
        "outputId": "ebd4f159-fd38-4128-e0bb-75f760d5b9e0"
      },
      "source": [
        "# Index reset\n",
        "df1.reset_index(drop=True, inplace=True)\n",
        "df1.tail()"
      ],
      "execution_count": 9,
      "outputs": [
        {
          "output_type": "execute_result",
          "data": {
            "text/plain": [
              "      Column1          player nationality position   squad   age  birth_year  \\\n",
              "6947   1997.0  Daniel Podence      pt POR    FW,MF  Wolves  23.0      1995.0   \n",
              "6948   2202.0   Romain SaĂŻss      ma MAR       DF  Wolves  29.0      1990.0   \n",
              "6949   2523.0   Adama TraorĂ©      es ESP    FW,MF  Wolves  23.0      1996.0   \n",
              "6950   2567.0  JesĂşs Vallejo      es ESP       DF  Wolves  22.0      1997.0   \n",
              "6951   2615.0  RĂşben Vinagre      pt POR       DF  Wolves  20.0      1999.0   \n",
              "\n",
              "           value  height               position2  ... Pts/G    xG   xGA  \\\n",
              "6947  12000000.0   165.0  Forward - Right Winger  ...  1.55  47.1  34.8   \n",
              "6948   4000000.0   188.0  Defender - Centre-Back  ...  1.55  47.1  34.8   \n",
              "6949  25000000.0   178.0  Forward - Right Winger  ...  1.55  47.1  34.8   \n",
              "6950   6000000.0   184.0  Defender - Centre-Back  ...  1.55  47.1  34.8   \n",
              "6951   9000000.0   174.0    Defender - Left-Back  ...  1.55  47.1  34.8   \n",
              "\n",
              "      xGDiff  xGDiff/90  Attendance   CL  WinCL  CLBestScorer   Season  \n",
              "6947    12.3       0.32       24758  0.0    0.0           0.0  201920#  \n",
              "6948    12.3       0.32       24758  0.0    0.0           0.0  201920#  \n",
              "6949    12.3       0.32       24758  0.0    0.0           0.0  201920#  \n",
              "6950    12.3       0.32       24758  0.0    0.0           0.0  201920#  \n",
              "6951    12.3       0.32       24758  0.0    0.0           0.0  201920#  \n",
              "\n",
              "[5 rows x 400 columns]"
            ],
            "text/html": [
              "\n",
              "  <div id=\"df-8f5ee216-81d2-4750-920f-a828a4963e20\">\n",
              "    <div class=\"colab-df-container\">\n",
              "      <div>\n",
              "<style scoped>\n",
              "    .dataframe tbody tr th:only-of-type {\n",
              "        vertical-align: middle;\n",
              "    }\n",
              "\n",
              "    .dataframe tbody tr th {\n",
              "        vertical-align: top;\n",
              "    }\n",
              "\n",
              "    .dataframe thead th {\n",
              "        text-align: right;\n",
              "    }\n",
              "</style>\n",
              "<table border=\"1\" class=\"dataframe\">\n",
              "  <thead>\n",
              "    <tr style=\"text-align: right;\">\n",
              "      <th></th>\n",
              "      <th>Column1</th>\n",
              "      <th>player</th>\n",
              "      <th>nationality</th>\n",
              "      <th>position</th>\n",
              "      <th>squad</th>\n",
              "      <th>age</th>\n",
              "      <th>birth_year</th>\n",
              "      <th>value</th>\n",
              "      <th>height</th>\n",
              "      <th>position2</th>\n",
              "      <th>...</th>\n",
              "      <th>Pts/G</th>\n",
              "      <th>xG</th>\n",
              "      <th>xGA</th>\n",
              "      <th>xGDiff</th>\n",
              "      <th>xGDiff/90</th>\n",
              "      <th>Attendance</th>\n",
              "      <th>CL</th>\n",
              "      <th>WinCL</th>\n",
              "      <th>CLBestScorer</th>\n",
              "      <th>Season</th>\n",
              "    </tr>\n",
              "  </thead>\n",
              "  <tbody>\n",
              "    <tr>\n",
              "      <th>6947</th>\n",
              "      <td>1997.0</td>\n",
              "      <td>Daniel Podence</td>\n",
              "      <td>pt POR</td>\n",
              "      <td>FW,MF</td>\n",
              "      <td>Wolves</td>\n",
              "      <td>23.0</td>\n",
              "      <td>1995.0</td>\n",
              "      <td>12000000.0</td>\n",
              "      <td>165.0</td>\n",
              "      <td>Forward - Right Winger</td>\n",
              "      <td>...</td>\n",
              "      <td>1.55</td>\n",
              "      <td>47.1</td>\n",
              "      <td>34.8</td>\n",
              "      <td>12.3</td>\n",
              "      <td>0.32</td>\n",
              "      <td>24758</td>\n",
              "      <td>0.0</td>\n",
              "      <td>0.0</td>\n",
              "      <td>0.0</td>\n",
              "      <td>201920#</td>\n",
              "    </tr>\n",
              "    <tr>\n",
              "      <th>6948</th>\n",
              "      <td>2202.0</td>\n",
              "      <td>Romain SaĂŻss</td>\n",
              "      <td>ma MAR</td>\n",
              "      <td>DF</td>\n",
              "      <td>Wolves</td>\n",
              "      <td>29.0</td>\n",
              "      <td>1990.0</td>\n",
              "      <td>4000000.0</td>\n",
              "      <td>188.0</td>\n",
              "      <td>Defender - Centre-Back</td>\n",
              "      <td>...</td>\n",
              "      <td>1.55</td>\n",
              "      <td>47.1</td>\n",
              "      <td>34.8</td>\n",
              "      <td>12.3</td>\n",
              "      <td>0.32</td>\n",
              "      <td>24758</td>\n",
              "      <td>0.0</td>\n",
              "      <td>0.0</td>\n",
              "      <td>0.0</td>\n",
              "      <td>201920#</td>\n",
              "    </tr>\n",
              "    <tr>\n",
              "      <th>6949</th>\n",
              "      <td>2523.0</td>\n",
              "      <td>Adama TraorĂ©</td>\n",
              "      <td>es ESP</td>\n",
              "      <td>FW,MF</td>\n",
              "      <td>Wolves</td>\n",
              "      <td>23.0</td>\n",
              "      <td>1996.0</td>\n",
              "      <td>25000000.0</td>\n",
              "      <td>178.0</td>\n",
              "      <td>Forward - Right Winger</td>\n",
              "      <td>...</td>\n",
              "      <td>1.55</td>\n",
              "      <td>47.1</td>\n",
              "      <td>34.8</td>\n",
              "      <td>12.3</td>\n",
              "      <td>0.32</td>\n",
              "      <td>24758</td>\n",
              "      <td>0.0</td>\n",
              "      <td>0.0</td>\n",
              "      <td>0.0</td>\n",
              "      <td>201920#</td>\n",
              "    </tr>\n",
              "    <tr>\n",
              "      <th>6950</th>\n",
              "      <td>2567.0</td>\n",
              "      <td>JesĂşs Vallejo</td>\n",
              "      <td>es ESP</td>\n",
              "      <td>DF</td>\n",
              "      <td>Wolves</td>\n",
              "      <td>22.0</td>\n",
              "      <td>1997.0</td>\n",
              "      <td>6000000.0</td>\n",
              "      <td>184.0</td>\n",
              "      <td>Defender - Centre-Back</td>\n",
              "      <td>...</td>\n",
              "      <td>1.55</td>\n",
              "      <td>47.1</td>\n",
              "      <td>34.8</td>\n",
              "      <td>12.3</td>\n",
              "      <td>0.32</td>\n",
              "      <td>24758</td>\n",
              "      <td>0.0</td>\n",
              "      <td>0.0</td>\n",
              "      <td>0.0</td>\n",
              "      <td>201920#</td>\n",
              "    </tr>\n",
              "    <tr>\n",
              "      <th>6951</th>\n",
              "      <td>2615.0</td>\n",
              "      <td>RĂşben Vinagre</td>\n",
              "      <td>pt POR</td>\n",
              "      <td>DF</td>\n",
              "      <td>Wolves</td>\n",
              "      <td>20.0</td>\n",
              "      <td>1999.0</td>\n",
              "      <td>9000000.0</td>\n",
              "      <td>174.0</td>\n",
              "      <td>Defender - Left-Back</td>\n",
              "      <td>...</td>\n",
              "      <td>1.55</td>\n",
              "      <td>47.1</td>\n",
              "      <td>34.8</td>\n",
              "      <td>12.3</td>\n",
              "      <td>0.32</td>\n",
              "      <td>24758</td>\n",
              "      <td>0.0</td>\n",
              "      <td>0.0</td>\n",
              "      <td>0.0</td>\n",
              "      <td>201920#</td>\n",
              "    </tr>\n",
              "  </tbody>\n",
              "</table>\n",
              "<p>5 rows × 400 columns</p>\n",
              "</div>\n",
              "      <button class=\"colab-df-convert\" onclick=\"convertToInteractive('df-8f5ee216-81d2-4750-920f-a828a4963e20')\"\n",
              "              title=\"Convert this dataframe to an interactive table.\"\n",
              "              style=\"display:none;\">\n",
              "        \n",
              "  <svg xmlns=\"http://www.w3.org/2000/svg\" height=\"24px\"viewBox=\"0 0 24 24\"\n",
              "       width=\"24px\">\n",
              "    <path d=\"M0 0h24v24H0V0z\" fill=\"none\"/>\n",
              "    <path d=\"M18.56 5.44l.94 2.06.94-2.06 2.06-.94-2.06-.94-.94-2.06-.94 2.06-2.06.94zm-11 1L8.5 8.5l.94-2.06 2.06-.94-2.06-.94L8.5 2.5l-.94 2.06-2.06.94zm10 10l.94 2.06.94-2.06 2.06-.94-2.06-.94-.94-2.06-.94 2.06-2.06.94z\"/><path d=\"M17.41 7.96l-1.37-1.37c-.4-.4-.92-.59-1.43-.59-.52 0-1.04.2-1.43.59L10.3 9.45l-7.72 7.72c-.78.78-.78 2.05 0 2.83L4 21.41c.39.39.9.59 1.41.59.51 0 1.02-.2 1.41-.59l7.78-7.78 2.81-2.81c.8-.78.8-2.07 0-2.86zM5.41 20L4 18.59l7.72-7.72 1.47 1.35L5.41 20z\"/>\n",
              "  </svg>\n",
              "      </button>\n",
              "      \n",
              "  <style>\n",
              "    .colab-df-container {\n",
              "      display:flex;\n",
              "      flex-wrap:wrap;\n",
              "      gap: 12px;\n",
              "    }\n",
              "\n",
              "    .colab-df-convert {\n",
              "      background-color: #E8F0FE;\n",
              "      border: none;\n",
              "      border-radius: 50%;\n",
              "      cursor: pointer;\n",
              "      display: none;\n",
              "      fill: #1967D2;\n",
              "      height: 32px;\n",
              "      padding: 0 0 0 0;\n",
              "      width: 32px;\n",
              "    }\n",
              "\n",
              "    .colab-df-convert:hover {\n",
              "      background-color: #E2EBFA;\n",
              "      box-shadow: 0px 1px 2px rgba(60, 64, 67, 0.3), 0px 1px 3px 1px rgba(60, 64, 67, 0.15);\n",
              "      fill: #174EA6;\n",
              "    }\n",
              "\n",
              "    [theme=dark] .colab-df-convert {\n",
              "      background-color: #3B4455;\n",
              "      fill: #D2E3FC;\n",
              "    }\n",
              "\n",
              "    [theme=dark] .colab-df-convert:hover {\n",
              "      background-color: #434B5C;\n",
              "      box-shadow: 0px 1px 3px 1px rgba(0, 0, 0, 0.15);\n",
              "      filter: drop-shadow(0px 1px 2px rgba(0, 0, 0, 0.3));\n",
              "      fill: #FFFFFF;\n",
              "    }\n",
              "  </style>\n",
              "\n",
              "      <script>\n",
              "        const buttonEl =\n",
              "          document.querySelector('#df-8f5ee216-81d2-4750-920f-a828a4963e20 button.colab-df-convert');\n",
              "        buttonEl.style.display =\n",
              "          google.colab.kernel.accessAllowed ? 'block' : 'none';\n",
              "\n",
              "        async function convertToInteractive(key) {\n",
              "          const element = document.querySelector('#df-8f5ee216-81d2-4750-920f-a828a4963e20');\n",
              "          const dataTable =\n",
              "            await google.colab.kernel.invokeFunction('convertToInteractive',\n",
              "                                                     [key], {});\n",
              "          if (!dataTable) return;\n",
              "\n",
              "          const docLinkHtml = 'Like what you see? Visit the ' +\n",
              "            '<a target=\"_blank\" href=https://colab.research.google.com/notebooks/data_table.ipynb>data table notebook</a>'\n",
              "            + ' to learn more about interactive tables.';\n",
              "          element.innerHTML = '';\n",
              "          dataTable['output_type'] = 'display_data';\n",
              "          await google.colab.output.renderOutput(dataTable, element);\n",
              "          const docLink = document.createElement('div');\n",
              "          docLink.innerHTML = docLinkHtml;\n",
              "          element.appendChild(docLink);\n",
              "        }\n",
              "      </script>\n",
              "    </div>\n",
              "  </div>\n",
              "  "
            ]
          },
          "metadata": {},
          "execution_count": 9
        }
      ]
    },
    {
      "cell_type": "code",
      "metadata": {
        "colab": {
          "base_uri": "https://localhost:8080/"
        },
        "id": "rkWCgjnmLgSY",
        "outputId": "48423b4f-a1af-46c9-d840-6ae152b1ffe3"
      },
      "source": [
        "# Delete 'birth_year' column\n",
        "df1.drop(columns=['birth_year'], axis=1, inplace=True)\n",
        "\n",
        "# Fill zero data\n",
        "df1.iloc[2218,5] = 19\n",
        "df1.iloc[4738,5] = 17\n",
        "df1.iloc[5024,5] = 20\n",
        "df1.iloc[6452,5] = 17\n",
        "\n",
        "df1.iloc[2218,2] = 'es ESP'\n",
        "\n",
        "df1.iloc[2218,3] = 'DF'\n",
        "\n",
        "df1.iloc[4494,7] = 183\n",
        "df1.iloc[4738,7] = 178\n",
        "df1.iloc[4836,7] = 182\n",
        "df1.iloc[4841,7] = 176\n",
        "df1.iloc[5189,7] = 179\n",
        "df1.iloc[5454,7] = 181\n",
        "df1.iloc[5488,7] = 188\n",
        "df1.iloc[6439,7] = 178\n",
        "\n",
        "# Reorganizing the values for 'position2'\n",
        "df1['position2'].value_counts()"
      ],
      "execution_count": 10,
      "outputs": [
        {
          "output_type": "execute_result",
          "data": {
            "text/plain": [
              "Defender - Centre-Back             1248\n",
              "Forward - Centre-Forward            666\n",
              "Midfielder - Central Midfield       659\n",
              "Defender - Right-Back               593\n",
              "Goalkeeper                          531\n",
              "Defender - Left-Back                531\n",
              "Midfielder - Defensive Midfield     366\n",
              "Forward - Right Winger              337\n",
              "attack - Centre-Forward             324\n",
              "midfield - Central Midfield         313\n",
              "Forward - Left Winger               309\n",
              "Midfielder - Attacking Midfield     255\n",
              "midfield - Defensive Midfield       183\n",
              "attack - Left Winger                147\n",
              "attack - Right Winger               142\n",
              "midfield - Attacking Midfield       112\n",
              "Forward - Second Striker             62\n",
              "Midfielder - Left Midfield           55\n",
              "Midfielder - Right Midfield          41\n",
              "attack - Second Striker              34\n",
              "midfield - Right Midfield            22\n",
              "midfield - Left Midfield             21\n",
              "Central Midfield                      1\n",
              "Name: position2, dtype: int64"
            ]
          },
          "metadata": {},
          "execution_count": 10
        }
      ]
    },
    {
      "cell_type": "code",
      "metadata": {
        "colab": {
          "base_uri": "https://localhost:8080/"
        },
        "id": "AEgr5todLgSZ",
        "outputId": "9ddb5504-cc2d-44f3-f8b4-4c2ab28b231d"
      },
      "source": [
        "df1['position2'] = df1['position2'].replace('attack - Centre-Forward','Forward - Centre-Forward')\n",
        "df1['position2'] = df1['position2'].replace('attack - Left Winger','Forward - Left Winger')\n",
        "df1['position2'] = df1['position2'].replace('attack - Right Winger','Forward - Right Winger')\n",
        "df1['position2'] = df1['position2'].replace('attack - Second Striker','Forward - Second Striker')\n",
        "\n",
        "df1['position2'] = df1['position2'].replace('Central Midfield','Midfielder - Central Midfield')\n",
        "df1['position2'] = df1['position2'].replace('midfield - Central Midfield','Midfielder - Central Midfield')\n",
        "df1['position2'] = df1['position2'].replace('midfield - Attacking Midfield','Midfielder - Attacking Midfield')\n",
        "df1['position2'] = df1['position2'].replace('midfield - Defensive Midfield','Midfielder - Defensive Midfield')\n",
        "df1['position2'] = df1['position2'].replace('midfield - Right Midfield','Midfielder - Right Midfield')\n",
        "df1['position2'] = df1['position2'].replace('midfield - Left Midfield','Midfielder - Left Midfield')\n",
        "\n",
        "df1['position2'].value_counts()"
      ],
      "execution_count": 11,
      "outputs": [
        {
          "output_type": "execute_result",
          "data": {
            "text/plain": [
              "Defender - Centre-Back             1248\n",
              "Forward - Centre-Forward            990\n",
              "Midfielder - Central Midfield       973\n",
              "Defender - Right-Back               593\n",
              "Midfielder - Defensive Midfield     549\n",
              "Defender - Left-Back                531\n",
              "Goalkeeper                          531\n",
              "Forward - Right Winger              479\n",
              "Forward - Left Winger               456\n",
              "Midfielder - Attacking Midfield     367\n",
              "Forward - Second Striker             96\n",
              "Midfielder - Left Midfield           76\n",
              "Midfielder - Right Midfield          63\n",
              "Name: position2, dtype: int64"
            ]
          },
          "metadata": {},
          "execution_count": 11
        }
      ]
    },
    {
      "cell_type": "code",
      "metadata": {
        "colab": {
          "base_uri": "https://localhost:8080/"
        },
        "id": "N37uhfNOLgSc",
        "outputId": "3ea63ff1-d672-42c2-d25d-4a5f72f624d4"
      },
      "source": [
        "# Reorganizing the values for 'position'\n",
        "df1['position'].value_counts()"
      ],
      "execution_count": 12,
      "outputs": [
        {
          "output_type": "execute_result",
          "data": {
            "text/plain": [
              "DF       2087\n",
              "MF       1412\n",
              "FW        908\n",
              "FW,MF     784\n",
              "MF,FW     668\n",
              "GK        524\n",
              "DF,MF     314\n",
              "MF,DF     152\n",
              "DF,FW      56\n",
              "FW,DF      46\n",
              "GK,MF       1\n",
              "Name: position, dtype: int64"
            ]
          },
          "metadata": {},
          "execution_count": 12
        }
      ]
    },
    {
      "cell_type": "code",
      "metadata": {
        "colab": {
          "base_uri": "https://localhost:8080/"
        },
        "id": "VeZRSpkxLgSd",
        "scrolled": true,
        "outputId": "bad5d1b6-f739-4b9b-a0a3-dd97b5da5f6f"
      },
      "source": [
        "df1['position'] = df1['position'].replace('GK,MF','GK')\n",
        "for i in range(0,len(df1)-1):\n",
        "    if df1.iloc[i,8].startswith('Goalkeeper'):\n",
        "        df1.iloc[i,3] = 'GK'\n",
        "    elif df1.iloc[i,8].startswith('Defender'):\n",
        "        df1.iloc[i,3] = 'DF'\n",
        "    elif df1.iloc[i,8].startswith('Midfielder'):\n",
        "        df1.iloc[i,3] = 'MF'\n",
        "    elif df1.iloc[i,8].startswith('Forward'):\n",
        "        df1.iloc[i,3] = 'FW'\n",
        "\n",
        "df1['position'].value_counts()"
      ],
      "execution_count": 13,
      "outputs": [
        {
          "output_type": "execute_result",
          "data": {
            "text/plain": [
              "DF    2372\n",
              "MF    2028\n",
              "FW    2021\n",
              "GK     531\n",
              "Name: position, dtype: int64"
            ]
          },
          "metadata": {},
          "execution_count": 13
        }
      ]
    },
    {
      "cell_type": "code",
      "metadata": {
        "id": "0ZdIoFZdLgSd"
      },
      "source": [
        "# Delete the columns whose names with 'm' on the back\n",
        "df1.drop(columns=list(df1)[197:380], axis=1, inplace=True)\n",
        "\n",
        "# Delete the column 'Attendance'\n",
        "df1.drop(columns=['Attendance'], axis=1, inplace=True)\n",
        "\n",
        "# Organizing the order of columns\n",
        "df1_1 = df1.columns[:11].tolist()\n",
        "df1_2 = df1.columns[11:-4].tolist()\n",
        "df1_3 = df1.columns[-4:].tolist()\n",
        "col = df1_1 + df1_3 + df1_2\n",
        "df1 = df1[col]\n",
        "df1_1 = df1.columns[:5].tolist()\n",
        "df1_2 = df1.columns[5:8].tolist()\n",
        "df1_3 = df1.columns[8:15].tolist()\n",
        "df1_4 = df1.columns[15:].tolist()\n",
        "col = df1_1 + df1_3 + df1_2 + df1_4\n",
        "df1 = df1[col]\n",
        "\n",
        "# Delete the column 'Column1'\n",
        "df1.drop(columns=['Column1'], axis=1, inplace=True)"
      ],
      "execution_count": 14,
      "outputs": []
    },
    {
      "cell_type": "code",
      "metadata": {
        "colab": {
          "base_uri": "https://localhost:8080/",
          "height": 236
        },
        "id": "nbYe4ZiDLgSe",
        "outputId": "fa9dec80-1da5-4ea0-b262-d8eb6f358deb"
      },
      "source": [
        "# Multiple columns label encoding\n",
        "\n",
        "from sklearn.preprocessing import LabelEncoder\n",
        "from collections import defaultdict\n",
        "class MultiColLabelEncoder:\n",
        "    def __init__(self):\n",
        "        self.encoder_dict = defaultdict(LabelEncoder)\n",
        "    def fit_transform(self, X: pd.DataFrame, columns: list):\n",
        "        if not isinstance(columns, list):\n",
        "            columns = [columns]\n",
        "        output = X.copy()\n",
        "        output[columns] = X[columns].apply(lambda x: self.encoder_dict[x.name].fit_transform(x))\n",
        "        \n",
        "        return output\n",
        "    \n",
        "    def inverse_transform(self, X: pd.DataFrame, columns: list):\n",
        "        if not isinstance(columns, list):\n",
        "            columns = [columns]\n",
        "        if not all(key in self.encoder_dict for key in columns):\n",
        "            raise KeyError(f'At least one of {columns} is not encoded before')\n",
        "        output = X.copy()\n",
        "        try:\n",
        "            output[columns] = X[columns].apply(lambda x: self.encoder_dict[x.name].inverse_transform(x))\n",
        "        except ValueError:\n",
        "            print(f'Need assignment when do \"fit_transform\" function')\n",
        "            raise\n",
        "        return output\n",
        "from collections import defaultdict\n",
        "class MultiColLabelEncoder:\n",
        "    def __init__(self):\n",
        "        self.encoder_dict = defaultdict(LabelEncoder)\n",
        "    def fit_transform(self, X: pd.DataFrame, columns: list):\n",
        "        if not isinstance(columns, list):\n",
        "            columns = [columns]\n",
        "        output = X.copy()\n",
        "        output[columns] = X[columns].apply(lambda x: self.encoder_dict[x.name].fit_transform(x))\n",
        "        \n",
        "        return output\n",
        "    \n",
        "    def inverse_transform(self, X: pd.DataFrame, columns: list):\n",
        "        if not isinstance(columns, list):\n",
        "            columns = [columns]\n",
        "        if not all(key in self.encoder_dict for key in columns):\n",
        "            raise KeyError(f'At least one of {columns} is not encoded before')\n",
        "        output = X.copy()\n",
        "        try:\n",
        "            output[columns] = X[columns].apply(lambda x: self.encoder_dict[x.name].inverse_transform(x))\n",
        "        except ValueError:\n",
        "            print(f'Need assignment when do \"fit_transform\" function')\n",
        "            raise\n",
        "        return output\n",
        "\n",
        "mcle = MultiColLabelEncoder()\n",
        "df2 = mcle.fit_transform(df1, columns=['nationality','position','squad','position2','foot','league','Season'])\n",
        "df2.head()"
      ],
      "execution_count": 15,
      "outputs": [
        {
          "output_type": "execute_result",
          "data": {
            "text/plain": [
              "           player  nationality  position  squad  position2  foot  league   CL  \\\n",
              "0          Burgui           41         1      0          4     2       1  0.0   \n",
              "1  Raphaël Varane           43         0     96          0     2       1  1.0   \n",
              "2    Rubén Duarte           41         0      0          1     1       1  0.0   \n",
              "3   Samuel Umtiti           43         0     11          0     1       1  1.0   \n",
              "4     Manu García           41         3      0         10     1       1  0.0   \n",
              "\n",
              "   WinCL  CLBestScorer  ...     L    GF    GA  GDiff   Pts  Pts/G    xG   xGA  \\\n",
              "0    0.0           0.0  ...  21.0  40.0  50.0  -10.0  47.0   1.24  39.0  53.2   \n",
              "1    1.0           0.0  ...   6.0  94.0  44.0   50.0  76.0   2.00  83.3  45.4   \n",
              "2    0.0           0.0  ...  21.0  40.0  50.0  -10.0  47.0   1.24  39.0  53.2   \n",
              "3    0.0           0.0  ...   1.0  99.0  29.0   70.0  93.0   2.45  78.3  41.1   \n",
              "4    0.0           0.0  ...  21.0  40.0  50.0  -10.0  47.0   1.24  39.0  53.2   \n",
              "\n",
              "   xGDiff  xGDiff/90  \n",
              "0   -14.2      -0.37  \n",
              "1    37.9       1.00  \n",
              "2   -14.2      -0.37  \n",
              "3    37.2       0.98  \n",
              "4   -14.2      -0.37  \n",
              "\n",
              "[5 rows x 214 columns]"
            ],
            "text/html": [
              "\n",
              "  <div id=\"df-1bcf3d25-5247-4e1b-baf9-7855dcec8a01\">\n",
              "    <div class=\"colab-df-container\">\n",
              "      <div>\n",
              "<style scoped>\n",
              "    .dataframe tbody tr th:only-of-type {\n",
              "        vertical-align: middle;\n",
              "    }\n",
              "\n",
              "    .dataframe tbody tr th {\n",
              "        vertical-align: top;\n",
              "    }\n",
              "\n",
              "    .dataframe thead th {\n",
              "        text-align: right;\n",
              "    }\n",
              "</style>\n",
              "<table border=\"1\" class=\"dataframe\">\n",
              "  <thead>\n",
              "    <tr style=\"text-align: right;\">\n",
              "      <th></th>\n",
              "      <th>player</th>\n",
              "      <th>nationality</th>\n",
              "      <th>position</th>\n",
              "      <th>squad</th>\n",
              "      <th>position2</th>\n",
              "      <th>foot</th>\n",
              "      <th>league</th>\n",
              "      <th>CL</th>\n",
              "      <th>WinCL</th>\n",
              "      <th>CLBestScorer</th>\n",
              "      <th>...</th>\n",
              "      <th>L</th>\n",
              "      <th>GF</th>\n",
              "      <th>GA</th>\n",
              "      <th>GDiff</th>\n",
              "      <th>Pts</th>\n",
              "      <th>Pts/G</th>\n",
              "      <th>xG</th>\n",
              "      <th>xGA</th>\n",
              "      <th>xGDiff</th>\n",
              "      <th>xGDiff/90</th>\n",
              "    </tr>\n",
              "  </thead>\n",
              "  <tbody>\n",
              "    <tr>\n",
              "      <th>0</th>\n",
              "      <td>Burgui</td>\n",
              "      <td>41</td>\n",
              "      <td>1</td>\n",
              "      <td>0</td>\n",
              "      <td>4</td>\n",
              "      <td>2</td>\n",
              "      <td>1</td>\n",
              "      <td>0.0</td>\n",
              "      <td>0.0</td>\n",
              "      <td>0.0</td>\n",
              "      <td>...</td>\n",
              "      <td>21.0</td>\n",
              "      <td>40.0</td>\n",
              "      <td>50.0</td>\n",
              "      <td>-10.0</td>\n",
              "      <td>47.0</td>\n",
              "      <td>1.24</td>\n",
              "      <td>39.0</td>\n",
              "      <td>53.2</td>\n",
              "      <td>-14.2</td>\n",
              "      <td>-0.37</td>\n",
              "    </tr>\n",
              "    <tr>\n",
              "      <th>1</th>\n",
              "      <td>Raphaël Varane</td>\n",
              "      <td>43</td>\n",
              "      <td>0</td>\n",
              "      <td>96</td>\n",
              "      <td>0</td>\n",
              "      <td>2</td>\n",
              "      <td>1</td>\n",
              "      <td>1.0</td>\n",
              "      <td>1.0</td>\n",
              "      <td>0.0</td>\n",
              "      <td>...</td>\n",
              "      <td>6.0</td>\n",
              "      <td>94.0</td>\n",
              "      <td>44.0</td>\n",
              "      <td>50.0</td>\n",
              "      <td>76.0</td>\n",
              "      <td>2.00</td>\n",
              "      <td>83.3</td>\n",
              "      <td>45.4</td>\n",
              "      <td>37.9</td>\n",
              "      <td>1.00</td>\n",
              "    </tr>\n",
              "    <tr>\n",
              "      <th>2</th>\n",
              "      <td>Rubén Duarte</td>\n",
              "      <td>41</td>\n",
              "      <td>0</td>\n",
              "      <td>0</td>\n",
              "      <td>1</td>\n",
              "      <td>1</td>\n",
              "      <td>1</td>\n",
              "      <td>0.0</td>\n",
              "      <td>0.0</td>\n",
              "      <td>0.0</td>\n",
              "      <td>...</td>\n",
              "      <td>21.0</td>\n",
              "      <td>40.0</td>\n",
              "      <td>50.0</td>\n",
              "      <td>-10.0</td>\n",
              "      <td>47.0</td>\n",
              "      <td>1.24</td>\n",
              "      <td>39.0</td>\n",
              "      <td>53.2</td>\n",
              "      <td>-14.2</td>\n",
              "      <td>-0.37</td>\n",
              "    </tr>\n",
              "    <tr>\n",
              "      <th>3</th>\n",
              "      <td>Samuel Umtiti</td>\n",
              "      <td>43</td>\n",
              "      <td>0</td>\n",
              "      <td>11</td>\n",
              "      <td>0</td>\n",
              "      <td>1</td>\n",
              "      <td>1</td>\n",
              "      <td>1.0</td>\n",
              "      <td>0.0</td>\n",
              "      <td>0.0</td>\n",
              "      <td>...</td>\n",
              "      <td>1.0</td>\n",
              "      <td>99.0</td>\n",
              "      <td>29.0</td>\n",
              "      <td>70.0</td>\n",
              "      <td>93.0</td>\n",
              "      <td>2.45</td>\n",
              "      <td>78.3</td>\n",
              "      <td>41.1</td>\n",
              "      <td>37.2</td>\n",
              "      <td>0.98</td>\n",
              "    </tr>\n",
              "    <tr>\n",
              "      <th>4</th>\n",
              "      <td>Manu García</td>\n",
              "      <td>41</td>\n",
              "      <td>3</td>\n",
              "      <td>0</td>\n",
              "      <td>10</td>\n",
              "      <td>1</td>\n",
              "      <td>1</td>\n",
              "      <td>0.0</td>\n",
              "      <td>0.0</td>\n",
              "      <td>0.0</td>\n",
              "      <td>...</td>\n",
              "      <td>21.0</td>\n",
              "      <td>40.0</td>\n",
              "      <td>50.0</td>\n",
              "      <td>-10.0</td>\n",
              "      <td>47.0</td>\n",
              "      <td>1.24</td>\n",
              "      <td>39.0</td>\n",
              "      <td>53.2</td>\n",
              "      <td>-14.2</td>\n",
              "      <td>-0.37</td>\n",
              "    </tr>\n",
              "  </tbody>\n",
              "</table>\n",
              "<p>5 rows × 214 columns</p>\n",
              "</div>\n",
              "      <button class=\"colab-df-convert\" onclick=\"convertToInteractive('df-1bcf3d25-5247-4e1b-baf9-7855dcec8a01')\"\n",
              "              title=\"Convert this dataframe to an interactive table.\"\n",
              "              style=\"display:none;\">\n",
              "        \n",
              "  <svg xmlns=\"http://www.w3.org/2000/svg\" height=\"24px\"viewBox=\"0 0 24 24\"\n",
              "       width=\"24px\">\n",
              "    <path d=\"M0 0h24v24H0V0z\" fill=\"none\"/>\n",
              "    <path d=\"M18.56 5.44l.94 2.06.94-2.06 2.06-.94-2.06-.94-.94-2.06-.94 2.06-2.06.94zm-11 1L8.5 8.5l.94-2.06 2.06-.94-2.06-.94L8.5 2.5l-.94 2.06-2.06.94zm10 10l.94 2.06.94-2.06 2.06-.94-2.06-.94-.94-2.06-.94 2.06-2.06.94z\"/><path d=\"M17.41 7.96l-1.37-1.37c-.4-.4-.92-.59-1.43-.59-.52 0-1.04.2-1.43.59L10.3 9.45l-7.72 7.72c-.78.78-.78 2.05 0 2.83L4 21.41c.39.39.9.59 1.41.59.51 0 1.02-.2 1.41-.59l7.78-7.78 2.81-2.81c.8-.78.8-2.07 0-2.86zM5.41 20L4 18.59l7.72-7.72 1.47 1.35L5.41 20z\"/>\n",
              "  </svg>\n",
              "      </button>\n",
              "      \n",
              "  <style>\n",
              "    .colab-df-container {\n",
              "      display:flex;\n",
              "      flex-wrap:wrap;\n",
              "      gap: 12px;\n",
              "    }\n",
              "\n",
              "    .colab-df-convert {\n",
              "      background-color: #E8F0FE;\n",
              "      border: none;\n",
              "      border-radius: 50%;\n",
              "      cursor: pointer;\n",
              "      display: none;\n",
              "      fill: #1967D2;\n",
              "      height: 32px;\n",
              "      padding: 0 0 0 0;\n",
              "      width: 32px;\n",
              "    }\n",
              "\n",
              "    .colab-df-convert:hover {\n",
              "      background-color: #E2EBFA;\n",
              "      box-shadow: 0px 1px 2px rgba(60, 64, 67, 0.3), 0px 1px 3px 1px rgba(60, 64, 67, 0.15);\n",
              "      fill: #174EA6;\n",
              "    }\n",
              "\n",
              "    [theme=dark] .colab-df-convert {\n",
              "      background-color: #3B4455;\n",
              "      fill: #D2E3FC;\n",
              "    }\n",
              "\n",
              "    [theme=dark] .colab-df-convert:hover {\n",
              "      background-color: #434B5C;\n",
              "      box-shadow: 0px 1px 3px 1px rgba(0, 0, 0, 0.15);\n",
              "      filter: drop-shadow(0px 1px 2px rgba(0, 0, 0, 0.3));\n",
              "      fill: #FFFFFF;\n",
              "    }\n",
              "  </style>\n",
              "\n",
              "      <script>\n",
              "        const buttonEl =\n",
              "          document.querySelector('#df-1bcf3d25-5247-4e1b-baf9-7855dcec8a01 button.colab-df-convert');\n",
              "        buttonEl.style.display =\n",
              "          google.colab.kernel.accessAllowed ? 'block' : 'none';\n",
              "\n",
              "        async function convertToInteractive(key) {\n",
              "          const element = document.querySelector('#df-1bcf3d25-5247-4e1b-baf9-7855dcec8a01');\n",
              "          const dataTable =\n",
              "            await google.colab.kernel.invokeFunction('convertToInteractive',\n",
              "                                                     [key], {});\n",
              "          if (!dataTable) return;\n",
              "\n",
              "          const docLinkHtml = 'Like what you see? Visit the ' +\n",
              "            '<a target=\"_blank\" href=https://colab.research.google.com/notebooks/data_table.ipynb>data table notebook</a>'\n",
              "            + ' to learn more about interactive tables.';\n",
              "          element.innerHTML = '';\n",
              "          dataTable['output_type'] = 'display_data';\n",
              "          await google.colab.output.renderOutput(dataTable, element);\n",
              "          const docLink = document.createElement('div');\n",
              "          docLink.innerHTML = docLinkHtml;\n",
              "          element.appendChild(docLink);\n",
              "        }\n",
              "      </script>\n",
              "    </div>\n",
              "  </div>\n",
              "  "
            ]
          },
          "metadata": {},
          "execution_count": 15
        }
      ]
    },
    {
      "cell_type": "code",
      "metadata": {
        "colab": {
          "base_uri": "https://localhost:8080/",
          "height": 236
        },
        "id": "oBj8rC4kLgSg",
        "outputId": "02d17d4e-540f-48e4-8724-f8809abb2c04"
      },
      "source": [
        "inverse_df2 = mcle.inverse_transform(df2, columns=['nationality','position','squad','position2','foot','league','Season'])\n",
        "inverse_df2.head()"
      ],
      "execution_count": 16,
      "outputs": [
        {
          "output_type": "execute_result",
          "data": {
            "text/plain": [
              "           player nationality position        squad  \\\n",
              "0          Burgui      es ESP       FW       Alavés   \n",
              "1  Raphaël Varane      fr FRA       DF  Real Madrid   \n",
              "2    Rubén Duarte      es ESP       DF       Alavés   \n",
              "3   Samuel Umtiti      fr FRA       DF    Barcelona   \n",
              "4     Manu García      es ESP       MF       Alavés   \n",
              "\n",
              "                         position2   foot   league   CL  WinCL  CLBestScorer  \\\n",
              "0            Forward - Left Winger  right  La Liga  0.0    0.0           0.0   \n",
              "1           Defender - Centre-Back  right  La Liga  1.0    1.0           0.0   \n",
              "2             Defender - Left-Back   left  La Liga  0.0    0.0           0.0   \n",
              "3           Defender - Centre-Back   left  La Liga  1.0    0.0           0.0   \n",
              "4  Midfielder - Defensive Midfield   left  La Liga  0.0    0.0           0.0   \n",
              "\n",
              "   ...     L    GF    GA  GDiff   Pts  Pts/G    xG   xGA  xGDiff  xGDiff/90  \n",
              "0  ...  21.0  40.0  50.0  -10.0  47.0   1.24  39.0  53.2   -14.2      -0.37  \n",
              "1  ...   6.0  94.0  44.0   50.0  76.0   2.00  83.3  45.4    37.9       1.00  \n",
              "2  ...  21.0  40.0  50.0  -10.0  47.0   1.24  39.0  53.2   -14.2      -0.37  \n",
              "3  ...   1.0  99.0  29.0   70.0  93.0   2.45  78.3  41.1    37.2       0.98  \n",
              "4  ...  21.0  40.0  50.0  -10.0  47.0   1.24  39.0  53.2   -14.2      -0.37  \n",
              "\n",
              "[5 rows x 214 columns]"
            ],
            "text/html": [
              "\n",
              "  <div id=\"df-2cfeaee3-5b30-4f84-826f-8259270ce0ec\">\n",
              "    <div class=\"colab-df-container\">\n",
              "      <div>\n",
              "<style scoped>\n",
              "    .dataframe tbody tr th:only-of-type {\n",
              "        vertical-align: middle;\n",
              "    }\n",
              "\n",
              "    .dataframe tbody tr th {\n",
              "        vertical-align: top;\n",
              "    }\n",
              "\n",
              "    .dataframe thead th {\n",
              "        text-align: right;\n",
              "    }\n",
              "</style>\n",
              "<table border=\"1\" class=\"dataframe\">\n",
              "  <thead>\n",
              "    <tr style=\"text-align: right;\">\n",
              "      <th></th>\n",
              "      <th>player</th>\n",
              "      <th>nationality</th>\n",
              "      <th>position</th>\n",
              "      <th>squad</th>\n",
              "      <th>position2</th>\n",
              "      <th>foot</th>\n",
              "      <th>league</th>\n",
              "      <th>CL</th>\n",
              "      <th>WinCL</th>\n",
              "      <th>CLBestScorer</th>\n",
              "      <th>...</th>\n",
              "      <th>L</th>\n",
              "      <th>GF</th>\n",
              "      <th>GA</th>\n",
              "      <th>GDiff</th>\n",
              "      <th>Pts</th>\n",
              "      <th>Pts/G</th>\n",
              "      <th>xG</th>\n",
              "      <th>xGA</th>\n",
              "      <th>xGDiff</th>\n",
              "      <th>xGDiff/90</th>\n",
              "    </tr>\n",
              "  </thead>\n",
              "  <tbody>\n",
              "    <tr>\n",
              "      <th>0</th>\n",
              "      <td>Burgui</td>\n",
              "      <td>es ESP</td>\n",
              "      <td>FW</td>\n",
              "      <td>Alavés</td>\n",
              "      <td>Forward - Left Winger</td>\n",
              "      <td>right</td>\n",
              "      <td>La Liga</td>\n",
              "      <td>0.0</td>\n",
              "      <td>0.0</td>\n",
              "      <td>0.0</td>\n",
              "      <td>...</td>\n",
              "      <td>21.0</td>\n",
              "      <td>40.0</td>\n",
              "      <td>50.0</td>\n",
              "      <td>-10.0</td>\n",
              "      <td>47.0</td>\n",
              "      <td>1.24</td>\n",
              "      <td>39.0</td>\n",
              "      <td>53.2</td>\n",
              "      <td>-14.2</td>\n",
              "      <td>-0.37</td>\n",
              "    </tr>\n",
              "    <tr>\n",
              "      <th>1</th>\n",
              "      <td>Raphaël Varane</td>\n",
              "      <td>fr FRA</td>\n",
              "      <td>DF</td>\n",
              "      <td>Real Madrid</td>\n",
              "      <td>Defender - Centre-Back</td>\n",
              "      <td>right</td>\n",
              "      <td>La Liga</td>\n",
              "      <td>1.0</td>\n",
              "      <td>1.0</td>\n",
              "      <td>0.0</td>\n",
              "      <td>...</td>\n",
              "      <td>6.0</td>\n",
              "      <td>94.0</td>\n",
              "      <td>44.0</td>\n",
              "      <td>50.0</td>\n",
              "      <td>76.0</td>\n",
              "      <td>2.00</td>\n",
              "      <td>83.3</td>\n",
              "      <td>45.4</td>\n",
              "      <td>37.9</td>\n",
              "      <td>1.00</td>\n",
              "    </tr>\n",
              "    <tr>\n",
              "      <th>2</th>\n",
              "      <td>Rubén Duarte</td>\n",
              "      <td>es ESP</td>\n",
              "      <td>DF</td>\n",
              "      <td>Alavés</td>\n",
              "      <td>Defender - Left-Back</td>\n",
              "      <td>left</td>\n",
              "      <td>La Liga</td>\n",
              "      <td>0.0</td>\n",
              "      <td>0.0</td>\n",
              "      <td>0.0</td>\n",
              "      <td>...</td>\n",
              "      <td>21.0</td>\n",
              "      <td>40.0</td>\n",
              "      <td>50.0</td>\n",
              "      <td>-10.0</td>\n",
              "      <td>47.0</td>\n",
              "      <td>1.24</td>\n",
              "      <td>39.0</td>\n",
              "      <td>53.2</td>\n",
              "      <td>-14.2</td>\n",
              "      <td>-0.37</td>\n",
              "    </tr>\n",
              "    <tr>\n",
              "      <th>3</th>\n",
              "      <td>Samuel Umtiti</td>\n",
              "      <td>fr FRA</td>\n",
              "      <td>DF</td>\n",
              "      <td>Barcelona</td>\n",
              "      <td>Defender - Centre-Back</td>\n",
              "      <td>left</td>\n",
              "      <td>La Liga</td>\n",
              "      <td>1.0</td>\n",
              "      <td>0.0</td>\n",
              "      <td>0.0</td>\n",
              "      <td>...</td>\n",
              "      <td>1.0</td>\n",
              "      <td>99.0</td>\n",
              "      <td>29.0</td>\n",
              "      <td>70.0</td>\n",
              "      <td>93.0</td>\n",
              "      <td>2.45</td>\n",
              "      <td>78.3</td>\n",
              "      <td>41.1</td>\n",
              "      <td>37.2</td>\n",
              "      <td>0.98</td>\n",
              "    </tr>\n",
              "    <tr>\n",
              "      <th>4</th>\n",
              "      <td>Manu García</td>\n",
              "      <td>es ESP</td>\n",
              "      <td>MF</td>\n",
              "      <td>Alavés</td>\n",
              "      <td>Midfielder - Defensive Midfield</td>\n",
              "      <td>left</td>\n",
              "      <td>La Liga</td>\n",
              "      <td>0.0</td>\n",
              "      <td>0.0</td>\n",
              "      <td>0.0</td>\n",
              "      <td>...</td>\n",
              "      <td>21.0</td>\n",
              "      <td>40.0</td>\n",
              "      <td>50.0</td>\n",
              "      <td>-10.0</td>\n",
              "      <td>47.0</td>\n",
              "      <td>1.24</td>\n",
              "      <td>39.0</td>\n",
              "      <td>53.2</td>\n",
              "      <td>-14.2</td>\n",
              "      <td>-0.37</td>\n",
              "    </tr>\n",
              "  </tbody>\n",
              "</table>\n",
              "<p>5 rows × 214 columns</p>\n",
              "</div>\n",
              "      <button class=\"colab-df-convert\" onclick=\"convertToInteractive('df-2cfeaee3-5b30-4f84-826f-8259270ce0ec')\"\n",
              "              title=\"Convert this dataframe to an interactive table.\"\n",
              "              style=\"display:none;\">\n",
              "        \n",
              "  <svg xmlns=\"http://www.w3.org/2000/svg\" height=\"24px\"viewBox=\"0 0 24 24\"\n",
              "       width=\"24px\">\n",
              "    <path d=\"M0 0h24v24H0V0z\" fill=\"none\"/>\n",
              "    <path d=\"M18.56 5.44l.94 2.06.94-2.06 2.06-.94-2.06-.94-.94-2.06-.94 2.06-2.06.94zm-11 1L8.5 8.5l.94-2.06 2.06-.94-2.06-.94L8.5 2.5l-.94 2.06-2.06.94zm10 10l.94 2.06.94-2.06 2.06-.94-2.06-.94-.94-2.06-.94 2.06-2.06.94z\"/><path d=\"M17.41 7.96l-1.37-1.37c-.4-.4-.92-.59-1.43-.59-.52 0-1.04.2-1.43.59L10.3 9.45l-7.72 7.72c-.78.78-.78 2.05 0 2.83L4 21.41c.39.39.9.59 1.41.59.51 0 1.02-.2 1.41-.59l7.78-7.78 2.81-2.81c.8-.78.8-2.07 0-2.86zM5.41 20L4 18.59l7.72-7.72 1.47 1.35L5.41 20z\"/>\n",
              "  </svg>\n",
              "      </button>\n",
              "      \n",
              "  <style>\n",
              "    .colab-df-container {\n",
              "      display:flex;\n",
              "      flex-wrap:wrap;\n",
              "      gap: 12px;\n",
              "    }\n",
              "\n",
              "    .colab-df-convert {\n",
              "      background-color: #E8F0FE;\n",
              "      border: none;\n",
              "      border-radius: 50%;\n",
              "      cursor: pointer;\n",
              "      display: none;\n",
              "      fill: #1967D2;\n",
              "      height: 32px;\n",
              "      padding: 0 0 0 0;\n",
              "      width: 32px;\n",
              "    }\n",
              "\n",
              "    .colab-df-convert:hover {\n",
              "      background-color: #E2EBFA;\n",
              "      box-shadow: 0px 1px 2px rgba(60, 64, 67, 0.3), 0px 1px 3px 1px rgba(60, 64, 67, 0.15);\n",
              "      fill: #174EA6;\n",
              "    }\n",
              "\n",
              "    [theme=dark] .colab-df-convert {\n",
              "      background-color: #3B4455;\n",
              "      fill: #D2E3FC;\n",
              "    }\n",
              "\n",
              "    [theme=dark] .colab-df-convert:hover {\n",
              "      background-color: #434B5C;\n",
              "      box-shadow: 0px 1px 3px 1px rgba(0, 0, 0, 0.15);\n",
              "      filter: drop-shadow(0px 1px 2px rgba(0, 0, 0, 0.3));\n",
              "      fill: #FFFFFF;\n",
              "    }\n",
              "  </style>\n",
              "\n",
              "      <script>\n",
              "        const buttonEl =\n",
              "          document.querySelector('#df-2cfeaee3-5b30-4f84-826f-8259270ce0ec button.colab-df-convert');\n",
              "        buttonEl.style.display =\n",
              "          google.colab.kernel.accessAllowed ? 'block' : 'none';\n",
              "\n",
              "        async function convertToInteractive(key) {\n",
              "          const element = document.querySelector('#df-2cfeaee3-5b30-4f84-826f-8259270ce0ec');\n",
              "          const dataTable =\n",
              "            await google.colab.kernel.invokeFunction('convertToInteractive',\n",
              "                                                     [key], {});\n",
              "          if (!dataTable) return;\n",
              "\n",
              "          const docLinkHtml = 'Like what you see? Visit the ' +\n",
              "            '<a target=\"_blank\" href=https://colab.research.google.com/notebooks/data_table.ipynb>data table notebook</a>'\n",
              "            + ' to learn more about interactive tables.';\n",
              "          element.innerHTML = '';\n",
              "          dataTable['output_type'] = 'display_data';\n",
              "          await google.colab.output.renderOutput(dataTable, element);\n",
              "          const docLink = document.createElement('div');\n",
              "          docLink.innerHTML = docLinkHtml;\n",
              "          element.appendChild(docLink);\n",
              "        }\n",
              "      </script>\n",
              "    </div>\n",
              "  </div>\n",
              "  "
            ]
          },
          "metadata": {},
          "execution_count": 16
        }
      ]
    },
    {
      "cell_type": "code",
      "metadata": {
        "id": "lIK43_rvLgSh"
      },
      "source": [
        "# Split df into field players and goalkeepers\n",
        "c1 = df2.columns[:14].tolist()\n",
        "c2 = df2.columns[-55:].tolist()\n",
        "gkcol = c1 + c2\n",
        "df2_gk = df2[gkcol]\n",
        "gks = df2_gk['position'] == 2\n",
        "df2_gk = df2_gk.loc[gks, :]\n",
        "\n",
        "c3 = df2.columns[:-55].tolist()\n",
        "c4 = df2.columns[-13:].tolist()\n",
        "fpcol = c3 + c4\n",
        "df2_fp = df2[fpcol]\n",
        "fps = df2_fp['position'] != 2\n",
        "df2_fp = df2_fp.loc[fps, :]\n",
        "\n",
        "# Reset each index\n",
        "df2_fp.reset_index(drop=True, inplace=True)\n",
        "df2_gk.reset_index(drop=True, inplace=True)"
      ],
      "execution_count": 17,
      "outputs": []
    },
    {
      "cell_type": "code",
      "metadata": {
        "colab": {
          "base_uri": "https://localhost:8080/"
        },
        "id": "H8TwFznPLgSh",
        "outputId": "c29e0756-9755-44b5-d853-90339b6e479b"
      },
      "source": [
        "# Stepwise variables selection of field players data\n",
        "\n",
        "# Delete columns for response and categorical variables\n",
        "df0_fp = df2_fp.drop(['value','player','nationality','position','squad','position2','foot','league','CL','WinCL','CLBestScorer','Season','age','height'], axis=1)\n",
        "\n",
        "# Explanatory variables and response variable\n",
        "variables = df0_fp.columns.tolist()\n",
        "y = df2_fp['value']\n",
        "selected_variables = []\n",
        "# Significance level\n",
        "sl_enter = 0.05\n",
        "sl_remove = 0.05\n",
        "sv_per_step = []\n",
        "adjusted_r_squared = []\n",
        "steps = []\n",
        "step = 0\n",
        "\n",
        "while len(variables) > 0:\n",
        "    remainder = list(set(variables) - set(selected_variables))\n",
        "    pval = pd.Series(index=remainder) ## p-value\n",
        "    ## 기존에 포함된 변수와 새로운 변수 하나씩 돌아가면서 \n",
        "    ## 선형 모형을 적합한다.\n",
        "    for col in remainder: \n",
        "        X = df0_fp[selected_variables+[col]]\n",
        "        X = sm.add_constant(X)\n",
        "        model = sm.OLS(y,X).fit()\n",
        "        pval[col] = model.pvalues[col]\n",
        " \n",
        "    min_pval = pval.min()\n",
        "    if min_pval < sl_enter: ## 최소 p-value 값이 기준 값보다 작으면 포함\n",
        "        selected_variables.append(pval.idxmin())\n",
        "        ## 선택된 변수들에대해서\n",
        "        ## 어떤 변수를 제거할지 고른다.\n",
        "        while len(selected_variables) > 0:\n",
        "            selected_X = df0_fp[selected_variables]\n",
        "            selected_X = sm.add_constant(selected_X)\n",
        "            selected_pval = sm.OLS(y,selected_X).fit().pvalues[1:] ## 절편항의 p-value는 뺀다\n",
        "            max_pval = selected_pval.max()\n",
        "            if max_pval >= sl_remove: ## 최대 p-value값이 기준값보다 크거나 같으면 제외\n",
        "                remove_variable = selected_pval.idxmax()\n",
        "                selected_variables.remove(remove_variable)\n",
        "            else:\n",
        "                break\n",
        "        \n",
        "        step += 1\n",
        "        steps.append(step)\n",
        "        adj_r_squared = sm.OLS(y,sm.add_constant(df0_fp[selected_variables])).fit().rsquared_adj\n",
        "        adjusted_r_squared.append(adj_r_squared)\n",
        "        sv_per_step.append(selected_variables.copy())\n",
        "    else:\n",
        "        break"
      ],
      "execution_count": 18,
      "outputs": [
        {
          "output_type": "stream",
          "name": "stderr",
          "text": [
            "<ipython-input-18-1122852ea1ba>:20: FutureWarning: The default dtype for empty Series will be 'object' instead of 'float64' in a future version. Specify a dtype explicitly to silence this warning.\n",
            "  pval = pd.Series(index=remainder) ## p-value\n",
            "<ipython-input-18-1122852ea1ba>:20: FutureWarning: The default dtype for empty Series will be 'object' instead of 'float64' in a future version. Specify a dtype explicitly to silence this warning.\n",
            "  pval = pd.Series(index=remainder) ## p-value\n",
            "<ipython-input-18-1122852ea1ba>:20: FutureWarning: The default dtype for empty Series will be 'object' instead of 'float64' in a future version. Specify a dtype explicitly to silence this warning.\n",
            "  pval = pd.Series(index=remainder) ## p-value\n",
            "<ipython-input-18-1122852ea1ba>:20: FutureWarning: The default dtype for empty Series will be 'object' instead of 'float64' in a future version. Specify a dtype explicitly to silence this warning.\n",
            "  pval = pd.Series(index=remainder) ## p-value\n",
            "<ipython-input-18-1122852ea1ba>:20: FutureWarning: The default dtype for empty Series will be 'object' instead of 'float64' in a future version. Specify a dtype explicitly to silence this warning.\n",
            "  pval = pd.Series(index=remainder) ## p-value\n",
            "<ipython-input-18-1122852ea1ba>:20: FutureWarning: The default dtype for empty Series will be 'object' instead of 'float64' in a future version. Specify a dtype explicitly to silence this warning.\n",
            "  pval = pd.Series(index=remainder) ## p-value\n",
            "<ipython-input-18-1122852ea1ba>:20: FutureWarning: The default dtype for empty Series will be 'object' instead of 'float64' in a future version. Specify a dtype explicitly to silence this warning.\n",
            "  pval = pd.Series(index=remainder) ## p-value\n",
            "<ipython-input-18-1122852ea1ba>:20: FutureWarning: The default dtype for empty Series will be 'object' instead of 'float64' in a future version. Specify a dtype explicitly to silence this warning.\n",
            "  pval = pd.Series(index=remainder) ## p-value\n",
            "<ipython-input-18-1122852ea1ba>:20: FutureWarning: The default dtype for empty Series will be 'object' instead of 'float64' in a future version. Specify a dtype explicitly to silence this warning.\n",
            "  pval = pd.Series(index=remainder) ## p-value\n",
            "<ipython-input-18-1122852ea1ba>:20: FutureWarning: The default dtype for empty Series will be 'object' instead of 'float64' in a future version. Specify a dtype explicitly to silence this warning.\n",
            "  pval = pd.Series(index=remainder) ## p-value\n",
            "<ipython-input-18-1122852ea1ba>:20: FutureWarning: The default dtype for empty Series will be 'object' instead of 'float64' in a future version. Specify a dtype explicitly to silence this warning.\n",
            "  pval = pd.Series(index=remainder) ## p-value\n",
            "<ipython-input-18-1122852ea1ba>:20: FutureWarning: The default dtype for empty Series will be 'object' instead of 'float64' in a future version. Specify a dtype explicitly to silence this warning.\n",
            "  pval = pd.Series(index=remainder) ## p-value\n",
            "<ipython-input-18-1122852ea1ba>:20: FutureWarning: The default dtype for empty Series will be 'object' instead of 'float64' in a future version. Specify a dtype explicitly to silence this warning.\n",
            "  pval = pd.Series(index=remainder) ## p-value\n",
            "<ipython-input-18-1122852ea1ba>:20: FutureWarning: The default dtype for empty Series will be 'object' instead of 'float64' in a future version. Specify a dtype explicitly to silence this warning.\n",
            "  pval = pd.Series(index=remainder) ## p-value\n",
            "<ipython-input-18-1122852ea1ba>:20: FutureWarning: The default dtype for empty Series will be 'object' instead of 'float64' in a future version. Specify a dtype explicitly to silence this warning.\n",
            "  pval = pd.Series(index=remainder) ## p-value\n",
            "<ipython-input-18-1122852ea1ba>:20: FutureWarning: The default dtype for empty Series will be 'object' instead of 'float64' in a future version. Specify a dtype explicitly to silence this warning.\n",
            "  pval = pd.Series(index=remainder) ## p-value\n",
            "<ipython-input-18-1122852ea1ba>:20: FutureWarning: The default dtype for empty Series will be 'object' instead of 'float64' in a future version. Specify a dtype explicitly to silence this warning.\n",
            "  pval = pd.Series(index=remainder) ## p-value\n",
            "<ipython-input-18-1122852ea1ba>:20: FutureWarning: The default dtype for empty Series will be 'object' instead of 'float64' in a future version. Specify a dtype explicitly to silence this warning.\n",
            "  pval = pd.Series(index=remainder) ## p-value\n",
            "<ipython-input-18-1122852ea1ba>:20: FutureWarning: The default dtype for empty Series will be 'object' instead of 'float64' in a future version. Specify a dtype explicitly to silence this warning.\n",
            "  pval = pd.Series(index=remainder) ## p-value\n",
            "<ipython-input-18-1122852ea1ba>:20: FutureWarning: The default dtype for empty Series will be 'object' instead of 'float64' in a future version. Specify a dtype explicitly to silence this warning.\n",
            "  pval = pd.Series(index=remainder) ## p-value\n",
            "<ipython-input-18-1122852ea1ba>:20: FutureWarning: The default dtype for empty Series will be 'object' instead of 'float64' in a future version. Specify a dtype explicitly to silence this warning.\n",
            "  pval = pd.Series(index=remainder) ## p-value\n",
            "<ipython-input-18-1122852ea1ba>:20: FutureWarning: The default dtype for empty Series will be 'object' instead of 'float64' in a future version. Specify a dtype explicitly to silence this warning.\n",
            "  pval = pd.Series(index=remainder) ## p-value\n",
            "<ipython-input-18-1122852ea1ba>:20: FutureWarning: The default dtype for empty Series will be 'object' instead of 'float64' in a future version. Specify a dtype explicitly to silence this warning.\n",
            "  pval = pd.Series(index=remainder) ## p-value\n",
            "<ipython-input-18-1122852ea1ba>:20: FutureWarning: The default dtype for empty Series will be 'object' instead of 'float64' in a future version. Specify a dtype explicitly to silence this warning.\n",
            "  pval = pd.Series(index=remainder) ## p-value\n",
            "<ipython-input-18-1122852ea1ba>:20: FutureWarning: The default dtype for empty Series will be 'object' instead of 'float64' in a future version. Specify a dtype explicitly to silence this warning.\n",
            "  pval = pd.Series(index=remainder) ## p-value\n",
            "<ipython-input-18-1122852ea1ba>:20: FutureWarning: The default dtype for empty Series will be 'object' instead of 'float64' in a future version. Specify a dtype explicitly to silence this warning.\n",
            "  pval = pd.Series(index=remainder) ## p-value\n",
            "<ipython-input-18-1122852ea1ba>:20: FutureWarning: The default dtype for empty Series will be 'object' instead of 'float64' in a future version. Specify a dtype explicitly to silence this warning.\n",
            "  pval = pd.Series(index=remainder) ## p-value\n",
            "<ipython-input-18-1122852ea1ba>:20: FutureWarning: The default dtype for empty Series will be 'object' instead of 'float64' in a future version. Specify a dtype explicitly to silence this warning.\n",
            "  pval = pd.Series(index=remainder) ## p-value\n",
            "<ipython-input-18-1122852ea1ba>:20: FutureWarning: The default dtype for empty Series will be 'object' instead of 'float64' in a future version. Specify a dtype explicitly to silence this warning.\n",
            "  pval = pd.Series(index=remainder) ## p-value\n",
            "<ipython-input-18-1122852ea1ba>:20: FutureWarning: The default dtype for empty Series will be 'object' instead of 'float64' in a future version. Specify a dtype explicitly to silence this warning.\n",
            "  pval = pd.Series(index=remainder) ## p-value\n",
            "<ipython-input-18-1122852ea1ba>:20: FutureWarning: The default dtype for empty Series will be 'object' instead of 'float64' in a future version. Specify a dtype explicitly to silence this warning.\n",
            "  pval = pd.Series(index=remainder) ## p-value\n",
            "<ipython-input-18-1122852ea1ba>:20: FutureWarning: The default dtype for empty Series will be 'object' instead of 'float64' in a future version. Specify a dtype explicitly to silence this warning.\n",
            "  pval = pd.Series(index=remainder) ## p-value\n",
            "<ipython-input-18-1122852ea1ba>:20: FutureWarning: The default dtype for empty Series will be 'object' instead of 'float64' in a future version. Specify a dtype explicitly to silence this warning.\n",
            "  pval = pd.Series(index=remainder) ## p-value\n",
            "<ipython-input-18-1122852ea1ba>:20: FutureWarning: The default dtype for empty Series will be 'object' instead of 'float64' in a future version. Specify a dtype explicitly to silence this warning.\n",
            "  pval = pd.Series(index=remainder) ## p-value\n",
            "<ipython-input-18-1122852ea1ba>:20: FutureWarning: The default dtype for empty Series will be 'object' instead of 'float64' in a future version. Specify a dtype explicitly to silence this warning.\n",
            "  pval = pd.Series(index=remainder) ## p-value\n",
            "<ipython-input-18-1122852ea1ba>:20: FutureWarning: The default dtype for empty Series will be 'object' instead of 'float64' in a future version. Specify a dtype explicitly to silence this warning.\n",
            "  pval = pd.Series(index=remainder) ## p-value\n",
            "<ipython-input-18-1122852ea1ba>:20: FutureWarning: The default dtype for empty Series will be 'object' instead of 'float64' in a future version. Specify a dtype explicitly to silence this warning.\n",
            "  pval = pd.Series(index=remainder) ## p-value\n",
            "<ipython-input-18-1122852ea1ba>:20: FutureWarning: The default dtype for empty Series will be 'object' instead of 'float64' in a future version. Specify a dtype explicitly to silence this warning.\n",
            "  pval = pd.Series(index=remainder) ## p-value\n",
            "<ipython-input-18-1122852ea1ba>:20: FutureWarning: The default dtype for empty Series will be 'object' instead of 'float64' in a future version. Specify a dtype explicitly to silence this warning.\n",
            "  pval = pd.Series(index=remainder) ## p-value\n",
            "<ipython-input-18-1122852ea1ba>:20: FutureWarning: The default dtype for empty Series will be 'object' instead of 'float64' in a future version. Specify a dtype explicitly to silence this warning.\n",
            "  pval = pd.Series(index=remainder) ## p-value\n",
            "<ipython-input-18-1122852ea1ba>:20: FutureWarning: The default dtype for empty Series will be 'object' instead of 'float64' in a future version. Specify a dtype explicitly to silence this warning.\n",
            "  pval = pd.Series(index=remainder) ## p-value\n",
            "<ipython-input-18-1122852ea1ba>:20: FutureWarning: The default dtype for empty Series will be 'object' instead of 'float64' in a future version. Specify a dtype explicitly to silence this warning.\n",
            "  pval = pd.Series(index=remainder) ## p-value\n",
            "<ipython-input-18-1122852ea1ba>:20: FutureWarning: The default dtype for empty Series will be 'object' instead of 'float64' in a future version. Specify a dtype explicitly to silence this warning.\n",
            "  pval = pd.Series(index=remainder) ## p-value\n",
            "<ipython-input-18-1122852ea1ba>:20: FutureWarning: The default dtype for empty Series will be 'object' instead of 'float64' in a future version. Specify a dtype explicitly to silence this warning.\n",
            "  pval = pd.Series(index=remainder) ## p-value\n",
            "<ipython-input-18-1122852ea1ba>:20: FutureWarning: The default dtype for empty Series will be 'object' instead of 'float64' in a future version. Specify a dtype explicitly to silence this warning.\n",
            "  pval = pd.Series(index=remainder) ## p-value\n",
            "<ipython-input-18-1122852ea1ba>:20: FutureWarning: The default dtype for empty Series will be 'object' instead of 'float64' in a future version. Specify a dtype explicitly to silence this warning.\n",
            "  pval = pd.Series(index=remainder) ## p-value\n",
            "<ipython-input-18-1122852ea1ba>:20: FutureWarning: The default dtype for empty Series will be 'object' instead of 'float64' in a future version. Specify a dtype explicitly to silence this warning.\n",
            "  pval = pd.Series(index=remainder) ## p-value\n",
            "<ipython-input-18-1122852ea1ba>:20: FutureWarning: The default dtype for empty Series will be 'object' instead of 'float64' in a future version. Specify a dtype explicitly to silence this warning.\n",
            "  pval = pd.Series(index=remainder) ## p-value\n",
            "<ipython-input-18-1122852ea1ba>:20: FutureWarning: The default dtype for empty Series will be 'object' instead of 'float64' in a future version. Specify a dtype explicitly to silence this warning.\n",
            "  pval = pd.Series(index=remainder) ## p-value\n",
            "<ipython-input-18-1122852ea1ba>:20: FutureWarning: The default dtype for empty Series will be 'object' instead of 'float64' in a future version. Specify a dtype explicitly to silence this warning.\n",
            "  pval = pd.Series(index=remainder) ## p-value\n",
            "<ipython-input-18-1122852ea1ba>:20: FutureWarning: The default dtype for empty Series will be 'object' instead of 'float64' in a future version. Specify a dtype explicitly to silence this warning.\n",
            "  pval = pd.Series(index=remainder) ## p-value\n"
          ]
        }
      ]
    },
    {
      "cell_type": "code",
      "metadata": {
        "colab": {
          "base_uri": "https://localhost:8080/"
        },
        "id": "8kz7a1WiLgSj",
        "outputId": "74b17505-ad51-44de-e853-d71d004bb9a0"
      },
      "source": [
        "# Number of selected variables\n",
        "len_stepwise_fp = len(selected_variables)\n",
        "len_stepwise_fp"
      ],
      "execution_count": 19,
      "outputs": [
        {
          "output_type": "execute_result",
          "data": {
            "text/plain": [
              "45"
            ]
          },
          "metadata": {},
          "execution_count": 19
        }
      ]
    },
    {
      "cell_type": "code",
      "metadata": {
        "colab": {
          "base_uri": "https://localhost:8080/"
        },
        "id": "dx_YMEgjLgSj",
        "scrolled": false,
        "outputId": "e7ed0951-c954-41b6-edc1-5b8816d8e5a9"
      },
      "source": [
        "# List of selected variables\n",
        "stepwise_variables_fp = selected_variables\n",
        "stepwise_variables_fp"
      ],
      "execution_count": 20,
      "outputs": [
        {
          "output_type": "execute_result",
          "data": {
            "text/plain": [
              "['goals',\n",
              " 'fouls',\n",
              " 'W',\n",
              " 'through_balls',\n",
              " 'pens_made',\n",
              " 'games',\n",
              " 'touches_att_pen_area',\n",
              " 'passes_into_final_third',\n",
              " 'players_dribbled_past',\n",
              " 'miscontrols',\n",
              " 'xGA',\n",
              " 'passes_low',\n",
              " 'passes_completed',\n",
              " 'passes_other_body',\n",
              " 'aerials_won',\n",
              " 'passes_completed_medium',\n",
              " 'gca_fouled',\n",
              " 'npxg_net',\n",
              " 'passes_free_kicks',\n",
              " 'touches_def_pen_area',\n",
              " 'minutes_90s',\n",
              " 'pressures_def_3rd',\n",
              " 'dribbles_vs',\n",
              " 'tackles_won',\n",
              " 'corner_kicks',\n",
              " 'sca_passes_dead',\n",
              " 'goals_per_shot_on_target',\n",
              " 'touches_def_3rd',\n",
              " 'ball_recoveries',\n",
              " 'sca_passes_live',\n",
              " 'passes_into_penalty_area',\n",
              " 'gca_passes_live',\n",
              " 'crosses_into_penalty_area',\n",
              " 'progressive_passes',\n",
              " 'passes_oob',\n",
              " 'dribbles_completed',\n",
              " 'passes_total_distance',\n",
              " 'MP',\n",
              " 'throw_ins',\n",
              " 'passes_dead',\n",
              " 'shots_free_kicks',\n",
              " 'dribbles_completed_pct',\n",
              " 'assists',\n",
              " 'pens_conceded',\n",
              " 'corner_kicks_in']"
            ]
          },
          "metadata": {},
          "execution_count": 20
        }
      ]
    },
    {
      "cell_type": "code",
      "metadata": {
        "colab": {
          "base_uri": "https://localhost:8080/",
          "height": 1000
        },
        "id": "j3yvNW5FLgSj",
        "scrolled": false,
        "outputId": "dd6c8678-e67d-447f-8544-13454eef4daf"
      },
      "source": [
        "# Visulalization of stepwise selection for field players\n",
        "fig = plt.figure(figsize=(10,10))\n",
        "fig.set_facecolor('white')\n",
        " \n",
        "font_size = 5\n",
        "plt.xticks(steps,[f'step {s}\\n'+'\\n'.join(sv_per_step[i]) for i,s in enumerate(steps)], fontsize=3)\n",
        "plt.plot(steps,adjusted_r_squared, marker='o')\n",
        "    \n",
        "plt.ylabel('Adjusted R Squared',fontsize=font_size)\n",
        "plt.grid(True)\n",
        "plt.show()"
      ],
      "execution_count": 21,
      "outputs": [
        {
          "output_type": "display_data",
          "data": {
            "text/plain": [
              "<Figure size 1000x1000 with 1 Axes>"
            ],
            "image/png": "[encoded data removed]"
          },
          "metadata": {}
        }
      ]
    },
    {
      "cell_type": "code",
      "metadata": {
        "colab": {
          "base_uri": "https://localhost:8080/"
        },
        "collapsed": true,
        "id": "aYhKTYLNLgSk",
        "outputId": "0c89bf15-989d-4103-cb26-7cd3d4490134"
      },
      "source": [
        "# Stepwise variables selection of goalkeepers data\n",
        "\n",
        "# Delete columns for response and categorical variables\n",
        "df0_gk = df2_gk.drop(['value','player','nationality','position','squad','position2','foot','league','CL','WinCL','CLBestScorer','Season','age','height'], axis=1)\n",
        "\n",
        "# Explanatory variables and response variable\n",
        "variables = df0_gk.columns.tolist()\n",
        "y = df2_gk['value']\n",
        "selected_variables = []\n",
        "# Significance level\n",
        "sl_enter = 0.05\n",
        "sl_remove = 0.05\n",
        "sv_per_step = []\n",
        "adjusted_r_squared = []\n",
        "steps = []\n",
        "step = 0\n",
        "\n",
        "while len(variables) > 0:\n",
        "    remainder = list(set(variables) - set(selected_variables))\n",
        "    pval = pd.Series(index=remainder) ## p-value\n",
        "    ## 기존에 포함된 변수와 새로운 변수 하나씩 돌아가면서 \n",
        "    ## 선형 모형을 적합한다.\n",
        "    for col in remainder: \n",
        "        X = df0_gk[selected_variables+[col]]\n",
        "        X = sm.add_constant(X)\n",
        "        model = sm.OLS(y,X).fit()\n",
        "        pval[col] = model.pvalues[col]\n",
        " \n",
        "    min_pval = pval.min()\n",
        "    if min_pval < sl_enter: ## 최소 p-value 값이 기준 값보다 작으면 포함\n",
        "        selected_variables.append(pval.idxmin())\n",
        "        ## 선택된 변수들에대해서\n",
        "        ## 어떤 변수를 제거할지 고른다.\n",
        "        while len(selected_variables) > 0:\n",
        "            selected_X = df0_gk[selected_variables]\n",
        "            selected_X = sm.add_constant(selected_X)\n",
        "            selected_pval = sm.OLS(y,selected_X).fit().pvalues[1:] ## 절편항의 p-value는 뺀다\n",
        "            max_pval = selected_pval.max()\n",
        "            if max_pval >= sl_remove: ## 최대 p-value값이 기준값보다 크거나 같으면 제외\n",
        "                remove_variable = selected_pval.idxmax()\n",
        "                selected_variables.remove(remove_variable)\n",
        "            else:\n",
        "                break\n",
        "        \n",
        "        step += 1\n",
        "        steps.append(step)\n",
        "        adj_r_squared = sm.OLS(y,sm.add_constant(df0_gk[selected_variables])).fit().rsquared_adj\n",
        "        adjusted_r_squared.append(adj_r_squared)\n",
        "        sv_per_step.append(selected_variables.copy())\n",
        "    else:\n",
        "        break"
      ],
      "execution_count": 22,
      "outputs": [
        {
          "output_type": "stream",
          "name": "stderr",
          "text": [
            "<ipython-input-22-d774d91b7b0e>:20: FutureWarning: The default dtype for empty Series will be 'object' instead of 'float64' in a future version. Specify a dtype explicitly to silence this warning.\n",
            "  pval = pd.Series(index=remainder) ## p-value\n",
            "<ipython-input-22-d774d91b7b0e>:20: FutureWarning: The default dtype for empty Series will be 'object' instead of 'float64' in a future version. Specify a dtype explicitly to silence this warning.\n",
            "  pval = pd.Series(index=remainder) ## p-value\n",
            "<ipython-input-22-d774d91b7b0e>:20: FutureWarning: The default dtype for empty Series will be 'object' instead of 'float64' in a future version. Specify a dtype explicitly to silence this warning.\n",
            "  pval = pd.Series(index=remainder) ## p-value\n",
            "<ipython-input-22-d774d91b7b0e>:20: FutureWarning: The default dtype for empty Series will be 'object' instead of 'float64' in a future version. Specify a dtype explicitly to silence this warning.\n",
            "  pval = pd.Series(index=remainder) ## p-value\n",
            "<ipython-input-22-d774d91b7b0e>:20: FutureWarning: The default dtype for empty Series will be 'object' instead of 'float64' in a future version. Specify a dtype explicitly to silence this warning.\n",
            "  pval = pd.Series(index=remainder) ## p-value\n",
            "<ipython-input-22-d774d91b7b0e>:20: FutureWarning: The default dtype for empty Series will be 'object' instead of 'float64' in a future version. Specify a dtype explicitly to silence this warning.\n",
            "  pval = pd.Series(index=remainder) ## p-value\n",
            "<ipython-input-22-d774d91b7b0e>:20: FutureWarning: The default dtype for empty Series will be 'object' instead of 'float64' in a future version. Specify a dtype explicitly to silence this warning.\n",
            "  pval = pd.Series(index=remainder) ## p-value\n"
          ]
        }
      ]
    },
    {
      "cell_type": "code",
      "metadata": {
        "colab": {
          "base_uri": "https://localhost:8080/"
        },
        "id": "L9vwkft3LgSk",
        "outputId": "0915b53a-e98a-45c1-a536-5720a6bc355f"
      },
      "source": [
        "# Number of selected variables\n",
        "len_stepwise_gk = len(selected_variables)\n",
        "len_stepwise_gk"
      ],
      "execution_count": 23,
      "outputs": [
        {
          "output_type": "execute_result",
          "data": {
            "text/plain": [
              "5"
            ]
          },
          "metadata": {},
          "execution_count": 23
        }
      ]
    },
    {
      "cell_type": "code",
      "metadata": {
        "colab": {
          "base_uri": "https://localhost:8080/"
        },
        "id": "AyLWq0WnLgSl",
        "outputId": "a17aad50-2790-4e31-e4e1-003cbcb8a9b3"
      },
      "source": [
        "# List of selected variables\n",
        "stepwise_variables_gk = selected_variables\n",
        "stepwise_variables_gk"
      ],
      "execution_count": 24,
      "outputs": [
        {
          "output_type": "execute_result",
          "data": {
            "text/plain": [
              "['wins_gk', 'clean_sheets', 'passes_launched_gk', 'pens_saved', 'MP']"
            ]
          },
          "metadata": {},
          "execution_count": 24
        }
      ]
    },
    {
      "cell_type": "code",
      "metadata": {
        "colab": {
          "base_uri": "https://localhost:8080/",
          "height": 843
        },
        "id": "cdrDlUXiLgSl",
        "scrolled": false,
        "outputId": "bf5ef230-fedb-49c9-ba99-a4fa1eed846a"
      },
      "source": [
        "# Visualization of stepwise selection for goalkeepers\n",
        "fig = plt.figure(figsize=(10,10))\n",
        "fig.set_facecolor('white')\n",
        " \n",
        "font_size = 5\n",
        "plt.xticks(steps,[f'step {s}\\n'+'\\n'.join(sv_per_step[i]) for i,s in enumerate(steps)], fontsize=3)\n",
        "plt.plot(steps,adjusted_r_squared, marker='o')\n",
        "    \n",
        "plt.ylabel('Adjusted R Squared',fontsize=font_size)\n",
        "plt.grid(True)\n",
        "plt.show()"
      ],
      "execution_count": 25,
      "outputs": [
        {
          "output_type": "display_data",
          "data": {
            "text/plain": [
              "<Figure size 1000x1000 with 1 Axes>"
            ],
            "image/png": "[encoded data removed]"
          },
          "metadata": {}
        }
      ]
    },
    {
      "cell_type": "code",
      "metadata": {
        "colab": {
          "base_uri": "https://localhost:8080/",
          "height": 1000
        },
        "id": "RAYdULAvLgSl",
        "scrolled": false,
        "outputId": "ca25fa20-70c2-4d52-93c3-efb2a5fdf823"
      },
      "source": [
        "# Vif for field players data\n",
        "vif_fp = df2_fp[stepwise_variables_fp]\n",
        "from statsmodels.stats.outliers_influence import variance_inflation_factor\n",
        "vif = pd.DataFrame()\n",
        "vif[\"VIF Factor\"] = [variance_inflation_factor(vif_fp.values, i) for i in range(vif_fp.shape[1])]\n",
        "vif[\"features\"] = vif_fp.columns\n",
        "vif = vif.sort_values(\"VIF Factor\").reset_index(drop=True)\n",
        "vif"
      ],
      "execution_count": 26,
      "outputs": [
        {
          "output_type": "execute_result",
          "data": {
            "text/plain": [
              "    VIF Factor                   features\n",
              "0     1.477166              pens_conceded\n",
              "1     1.656575                 gca_fouled\n",
              "2     2.243684           shots_free_kicks\n",
              "3     2.367441                  pens_made\n",
              "4     2.388769   goals_per_shot_on_target\n",
              "5     2.794388            corner_kicks_in\n",
              "6     3.040383                   npxg_net\n",
              "7     3.155304              through_balls\n",
              "8     4.028410          passes_other_body\n",
              "9     5.424077                aerials_won\n",
              "10    7.067074     dribbles_completed_pct\n",
              "11    7.134167  crosses_into_penalty_area\n",
              "12    7.515036                    assists\n",
              "13   10.026837                      fouls\n",
              "14   10.607953            gca_passes_live\n",
              "15   11.279858                 passes_oob\n",
              "16   13.739144            sca_passes_dead\n",
              "17   15.421840                miscontrols\n",
              "18   15.921430                          W\n",
              "19   17.970413                dribbles_vs\n",
              "20   18.362409                tackles_won\n",
              "21   18.766506                      goals\n",
              "22   20.068525          pressures_def_3rd\n",
              "23   22.870907       touches_att_pen_area\n",
              "24   26.119822   passes_into_penalty_area\n",
              "25   28.418909                 passes_low\n",
              "26   28.648741            sca_passes_live\n",
              "27   28.857252       touches_def_pen_area\n",
              "28   29.796913          passes_free_kicks\n",
              "29   30.679539               corner_kicks\n",
              "30   34.492669            ball_recoveries\n",
              "31   37.799382                      games\n",
              "32   40.625202    passes_into_final_third\n",
              "33   52.287142                        xGA\n",
              "34   57.543023         progressive_passes\n",
              "35   69.439246            touches_def_3rd\n",
              "36   81.472603                minutes_90s\n",
              "37  102.697499                         MP\n",
              "38  181.720486    passes_completed_medium\n",
              "39  190.512702                  throw_ins\n",
              "40  242.626447           passes_completed\n",
              "41  304.933146      passes_total_distance\n",
              "42  326.942771                passes_dead\n",
              "43  419.404510         dribbles_completed\n",
              "44  434.411816      players_dribbled_past"
            ],
            "text/html": [
              "\n",
              "  <div id=\"df-e93bf4cb-1bfb-4030-9325-184b0468c95b\">\n",
              "    <div class=\"colab-df-container\">\n",
              "      <div>\n",
              "<style scoped>\n",
              "    .dataframe tbody tr th:only-of-type {\n",
              "        vertical-align: middle;\n",
              "    }\n",
              "\n",
              "    .dataframe tbody tr th {\n",
              "        vertical-align: top;\n",
              "    }\n",
              "\n",
              "    .dataframe thead th {\n",
              "        text-align: right;\n",
              "    }\n",
              "</style>\n",
              "<table border=\"1\" class=\"dataframe\">\n",
              "  <thead>\n",
              "    <tr style=\"text-align: right;\">\n",
              "      <th></th>\n",
              "      <th>VIF Factor</th>\n",
              "      <th>features</th>\n",
              "    </tr>\n",
              "  </thead>\n",
              "  <tbody>\n",
              "    <tr>\n",
              "      <th>0</th>\n",
              "      <td>1.477166</td>\n",
              "      <td>pens_conceded</td>\n",
              "    </tr>\n",
              "    <tr>\n",
              "      <th>1</th>\n",
              "      <td>1.656575</td>\n",
              "      <td>gca_fouled</td>\n",
              "    </tr>\n",
              "    <tr>\n",
              "      <th>2</th>\n",
              "      <td>2.243684</td>\n",
              "      <td>shots_free_kicks</td>\n",
              "    </tr>\n",
              "    <tr>\n",
              "      <th>3</th>\n",
              "      <td>2.367441</td>\n",
              "      <td>pens_made</td>\n",
              "    </tr>\n",
              "    <tr>\n",
              "      <th>4</th>\n",
              "      <td>2.388769</td>\n",
              "      <td>goals_per_shot_on_target</td>\n",
              "    </tr>\n",
              "    <tr>\n",
              "      <th>5</th>\n",
              "      <td>2.794388</td>\n",
              "      <td>corner_kicks_in</td>\n",
              "    </tr>\n",
              "    <tr>\n",
              "      <th>6</th>\n",
              "      <td>3.040383</td>\n",
              "      <td>npxg_net</td>\n",
              "    </tr>\n",
              "    <tr>\n",
              "      <th>7</th>\n",
              "      <td>3.155304</td>\n",
              "      <td>through_balls</td>\n",
              "    </tr>\n",
              "    <tr>\n",
              "      <th>8</th>\n",
              "      <td>4.028410</td>\n",
              "      <td>passes_other_body</td>\n",
              "    </tr>\n",
              "    <tr>\n",
              "      <th>9</th>\n",
              "      <td>5.424077</td>\n",
              "      <td>aerials_won</td>\n",
              "    </tr>\n",
              "    <tr>\n",
              "      <th>10</th>\n",
              "      <td>7.067074</td>\n",
              "      <td>dribbles_completed_pct</td>\n",
              "    </tr>\n",
              "    <tr>\n",
              "      <th>11</th>\n",
              "      <td>7.134167</td>\n",
              "      <td>crosses_into_penalty_area</td>\n",
              "    </tr>\n",
              "    <tr>\n",
              "      <th>12</th>\n",
              "      <td>7.515036</td>\n",
              "      <td>assists</td>\n",
              "    </tr>\n",
              "    <tr>\n",
              "      <th>13</th>\n",
              "      <td>10.026837</td>\n",
              "      <td>fouls</td>\n",
              "    </tr>\n",
              "    <tr>\n",
              "      <th>14</th>\n",
              "      <td>10.607953</td>\n",
              "      <td>gca_passes_live</td>\n",
              "    </tr>\n",
              "    <tr>\n",
              "      <th>15</th>\n",
              "      <td>11.279858</td>\n",
              "      <td>passes_oob</td>\n",
              "    </tr>\n",
              "    <tr>\n",
              "      <th>16</th>\n",
              "      <td>13.739144</td>\n",
              "      <td>sca_passes_dead</td>\n",
              "    </tr>\n",
              "    <tr>\n",
              "      <th>17</th>\n",
              "      <td>15.421840</td>\n",
              "      <td>miscontrols</td>\n",
              "    </tr>\n",
              "    <tr>\n",
              "      <th>18</th>\n",
              "      <td>15.921430</td>\n",
              "      <td>W</td>\n",
              "    </tr>\n",
              "    <tr>\n",
              "      <th>19</th>\n",
              "      <td>17.970413</td>\n",
              "      <td>dribbles_vs</td>\n",
              "    </tr>\n",
              "    <tr>\n",
              "      <th>20</th>\n",
              "      <td>18.362409</td>\n",
              "      <td>tackles_won</td>\n",
              "    </tr>\n",
              "    <tr>\n",
              "      <th>21</th>\n",
              "      <td>18.766506</td>\n",
              "      <td>goals</td>\n",
              "    </tr>\n",
              "    <tr>\n",
              "      <th>22</th>\n",
              "      <td>20.068525</td>\n",
              "      <td>pressures_def_3rd</td>\n",
              "    </tr>\n",
              "    <tr>\n",
              "      <th>23</th>\n",
              "      <td>22.870907</td>\n",
              "      <td>touches_att_pen_area</td>\n",
              "    </tr>\n",
              "    <tr>\n",
              "      <th>24</th>\n",
              "      <td>26.119822</td>\n",
              "      <td>passes_into_penalty_area</td>\n",
              "    </tr>\n",
              "    <tr>\n",
              "      <th>25</th>\n",
              "      <td>28.418909</td>\n",
              "      <td>passes_low</td>\n",
              "    </tr>\n",
              "    <tr>\n",
              "      <th>26</th>\n",
              "      <td>28.648741</td>\n",
              "      <td>sca_passes_live</td>\n",
              "    </tr>\n",
              "    <tr>\n",
              "      <th>27</th>\n",
              "      <td>28.857252</td>\n",
              "      <td>touches_def_pen_area</td>\n",
              "    </tr>\n",
              "    <tr>\n",
              "      <th>28</th>\n",
              "      <td>29.796913</td>\n",
              "      <td>passes_free_kicks</td>\n",
              "    </tr>\n",
              "    <tr>\n",
              "      <th>29</th>\n",
              "      <td>30.679539</td>\n",
              "      <td>corner_kicks</td>\n",
              "    </tr>\n",
              "    <tr>\n",
              "      <th>30</th>\n",
              "      <td>34.492669</td>\n",
              "      <td>ball_recoveries</td>\n",
              "    </tr>\n",
              "    <tr>\n",
              "      <th>31</th>\n",
              "      <td>37.799382</td>\n",
              "      <td>games</td>\n",
              "    </tr>\n",
              "    <tr>\n",
              "      <th>32</th>\n",
              "      <td>40.625202</td>\n",
              "      <td>passes_into_final_third</td>\n",
              "    </tr>\n",
              "    <tr>\n",
              "      <th>33</th>\n",
              "      <td>52.287142</td>\n",
              "      <td>xGA</td>\n",
              "    </tr>\n",
              "    <tr>\n",
              "      <th>34</th>\n",
              "      <td>57.543023</td>\n",
              "      <td>progressive_passes</td>\n",
              "    </tr>\n",
              "    <tr>\n",
              "      <th>35</th>\n",
              "      <td>69.439246</td>\n",
              "      <td>touches_def_3rd</td>\n",
              "    </tr>\n",
              "    <tr>\n",
              "      <th>36</th>\n",
              "      <td>81.472603</td>\n",
              "      <td>minutes_90s</td>\n",
              "    </tr>\n",
              "    <tr>\n",
              "      <th>37</th>\n",
              "      <td>102.697499</td>\n",
              "      <td>MP</td>\n",
              "    </tr>\n",
              "    <tr>\n",
              "      <th>38</th>\n",
              "      <td>181.720486</td>\n",
              "      <td>passes_completed_medium</td>\n",
              "    </tr>\n",
              "    <tr>\n",
              "      <th>39</th>\n",
              "      <td>190.512702</td>\n",
              "      <td>throw_ins</td>\n",
              "    </tr>\n",
              "    <tr>\n",
              "      <th>40</th>\n",
              "      <td>242.626447</td>\n",
              "      <td>passes_completed</td>\n",
              "    </tr>\n",
              "    <tr>\n",
              "      <th>41</th>\n",
              "      <td>304.933146</td>\n",
              "      <td>passes_total_distance</td>\n",
              "    </tr>\n",
              "    <tr>\n",
              "      <th>42</th>\n",
              "      <td>326.942771</td>\n",
              "      <td>passes_dead</td>\n",
              "    </tr>\n",
              "    <tr>\n",
              "      <th>43</th>\n",
              "      <td>419.404510</td>\n",
              "      <td>dribbles_completed</td>\n",
              "    </tr>\n",
              "    <tr>\n",
              "      <th>44</th>\n",
              "      <td>434.411816</td>\n",
              "      <td>players_dribbled_past</td>\n",
              "    </tr>\n",
              "  </tbody>\n",
              "</table>\n",
              "</div>\n",
              "      <button class=\"colab-df-convert\" onclick=\"convertToInteractive('df-e93bf4cb-1bfb-4030-9325-184b0468c95b')\"\n",
              "              title=\"Convert this dataframe to an interactive table.\"\n",
              "              style=\"display:none;\">\n",
              "        \n",
              "  <svg xmlns=\"http://www.w3.org/2000/svg\" height=\"24px\"viewBox=\"0 0 24 24\"\n",
              "       width=\"24px\">\n",
              "    <path d=\"M0 0h24v24H0V0z\" fill=\"none\"/>\n",
              "    <path d=\"M18.56 5.44l.94 2.06.94-2.06 2.06-.94-2.06-.94-.94-2.06-.94 2.06-2.06.94zm-11 1L8.5 8.5l.94-2.06 2.06-.94-2.06-.94L8.5 2.5l-.94 2.06-2.06.94zm10 10l.94 2.06.94-2.06 2.06-.94-2.06-.94-.94-2.06-.94 2.06-2.06.94z\"/><path d=\"M17.41 7.96l-1.37-1.37c-.4-.4-.92-.59-1.43-.59-.52 0-1.04.2-1.43.59L10.3 9.45l-7.72 7.72c-.78.78-.78 2.05 0 2.83L4 21.41c.39.39.9.59 1.41.59.51 0 1.02-.2 1.41-.59l7.78-7.78 2.81-2.81c.8-.78.8-2.07 0-2.86zM5.41 20L4 18.59l7.72-7.72 1.47 1.35L5.41 20z\"/>\n",
              "  </svg>\n",
              "      </button>\n",
              "      \n",
              "  <style>\n",
              "    .colab-df-container {\n",
              "      display:flex;\n",
              "      flex-wrap:wrap;\n",
              "      gap: 12px;\n",
              "    }\n",
              "\n",
              "    .colab-df-convert {\n",
              "      background-color: #E8F0FE;\n",
              "      border: none;\n",
              "      border-radius: 50%;\n",
              "      cursor: pointer;\n",
              "      display: none;\n",
              "      fill: #1967D2;\n",
              "      height: 32px;\n",
              "      padding: 0 0 0 0;\n",
              "      width: 32px;\n",
              "    }\n",
              "\n",
              "    .colab-df-convert:hover {\n",
              "      background-color: #E2EBFA;\n",
              "      box-shadow: 0px 1px 2px rgba(60, 64, 67, 0.3), 0px 1px 3px 1px rgba(60, 64, 67, 0.15);\n",
              "      fill: #174EA6;\n",
              "    }\n",
              "\n",
              "    [theme=dark] .colab-df-convert {\n",
              "      background-color: #3B4455;\n",
              "      fill: #D2E3FC;\n",
              "    }\n",
              "\n",
              "    [theme=dark] .colab-df-convert:hover {\n",
              "      background-color: #434B5C;\n",
              "      box-shadow: 0px 1px 3px 1px rgba(0, 0, 0, 0.15);\n",
              "      filter: drop-shadow(0px 1px 2px rgba(0, 0, 0, 0.3));\n",
              "      fill: #FFFFFF;\n",
              "    }\n",
              "  </style>\n",
              "\n",
              "      <script>\n",
              "        const buttonEl =\n",
              "          document.querySelector('#df-e93bf4cb-1bfb-4030-9325-184b0468c95b button.colab-df-convert');\n",
              "        buttonEl.style.display =\n",
              "          google.colab.kernel.accessAllowed ? 'block' : 'none';\n",
              "\n",
              "        async function convertToInteractive(key) {\n",
              "          const element = document.querySelector('#df-e93bf4cb-1bfb-4030-9325-184b0468c95b');\n",
              "          const dataTable =\n",
              "            await google.colab.kernel.invokeFunction('convertToInteractive',\n",
              "                                                     [key], {});\n",
              "          if (!dataTable) return;\n",
              "\n",
              "          const docLinkHtml = 'Like what you see? Visit the ' +\n",
              "            '<a target=\"_blank\" href=https://colab.research.google.com/notebooks/data_table.ipynb>data table notebook</a>'\n",
              "            + ' to learn more about interactive tables.';\n",
              "          element.innerHTML = '';\n",
              "          dataTable['output_type'] = 'display_data';\n",
              "          await google.colab.output.renderOutput(dataTable, element);\n",
              "          const docLink = document.createElement('div');\n",
              "          docLink.innerHTML = docLinkHtml;\n",
              "          element.appendChild(docLink);\n",
              "        }\n",
              "      </script>\n",
              "    </div>\n",
              "  </div>\n",
              "  "
            ]
          },
          "metadata": {},
          "execution_count": 26
        }
      ]
    },
    {
      "cell_type": "code",
      "metadata": {
        "colab": {
          "base_uri": "https://localhost:8080/",
          "height": 206
        },
        "id": "dkEdo3ONLgSm",
        "scrolled": false,
        "outputId": "cfac1a09-138d-4e56-abd3-73b58f1eae3d"
      },
      "source": [
        "# Vif for goalkeepers data\n",
        "vif_gk = df2_gk[stepwise_variables_gk]\n",
        "from statsmodels.stats.outliers_influence import variance_inflation_factor\n",
        "vif = pd.DataFrame()\n",
        "vif[\"VIF Factor\"] = [variance_inflation_factor(vif_gk.values, i) for i in range(vif_gk.shape[1])]\n",
        "vif[\"features\"] = vif_gk.columns\n",
        "vif = vif.sort_values(\"VIF Factor\").reset_index(drop=True)\n",
        "vif"
      ],
      "execution_count": 27,
      "outputs": [
        {
          "output_type": "execute_result",
          "data": {
            "text/plain": [
              "   VIF Factor            features\n",
              "0    1.783736          pens_saved\n",
              "1    2.328734                  MP\n",
              "2    4.768164  passes_launched_gk\n",
              "3   12.012378             wins_gk\n",
              "4   15.321328        clean_sheets"
            ],
            "text/html": [
              "\n",
              "  <div id=\"df-c7c6e6a9-4abb-4571-84e5-8f9b406d5152\">\n",
              "    <div class=\"colab-df-container\">\n",
              "      <div>\n",
              "<style scoped>\n",
              "    .dataframe tbody tr th:only-of-type {\n",
              "        vertical-align: middle;\n",
              "    }\n",
              "\n",
              "    .dataframe tbody tr th {\n",
              "        vertical-align: top;\n",
              "    }\n",
              "\n",
              "    .dataframe thead th {\n",
              "        text-align: right;\n",
              "    }\n",
              "</style>\n",
              "<table border=\"1\" class=\"dataframe\">\n",
              "  <thead>\n",
              "    <tr style=\"text-align: right;\">\n",
              "      <th></th>\n",
              "      <th>VIF Factor</th>\n",
              "      <th>features</th>\n",
              "    </tr>\n",
              "  </thead>\n",
              "  <tbody>\n",
              "    <tr>\n",
              "      <th>0</th>\n",
              "      <td>1.783736</td>\n",
              "      <td>pens_saved</td>\n",
              "    </tr>\n",
              "    <tr>\n",
              "      <th>1</th>\n",
              "      <td>2.328734</td>\n",
              "      <td>MP</td>\n",
              "    </tr>\n",
              "    <tr>\n",
              "      <th>2</th>\n",
              "      <td>4.768164</td>\n",
              "      <td>passes_launched_gk</td>\n",
              "    </tr>\n",
              "    <tr>\n",
              "      <th>3</th>\n",
              "      <td>12.012378</td>\n",
              "      <td>wins_gk</td>\n",
              "    </tr>\n",
              "    <tr>\n",
              "      <th>4</th>\n",
              "      <td>15.321328</td>\n",
              "      <td>clean_sheets</td>\n",
              "    </tr>\n",
              "  </tbody>\n",
              "</table>\n",
              "</div>\n",
              "      <button class=\"colab-df-convert\" onclick=\"convertToInteractive('df-c7c6e6a9-4abb-4571-84e5-8f9b406d5152')\"\n",
              "              title=\"Convert this dataframe to an interactive table.\"\n",
              "              style=\"display:none;\">\n",
              "        \n",
              "  <svg xmlns=\"http://www.w3.org/2000/svg\" height=\"24px\"viewBox=\"0 0 24 24\"\n",
              "       width=\"24px\">\n",
              "    <path d=\"M0 0h24v24H0V0z\" fill=\"none\"/>\n",
              "    <path d=\"M18.56 5.44l.94 2.06.94-2.06 2.06-.94-2.06-.94-.94-2.06-.94 2.06-2.06.94zm-11 1L8.5 8.5l.94-2.06 2.06-.94-2.06-.94L8.5 2.5l-.94 2.06-2.06.94zm10 10l.94 2.06.94-2.06 2.06-.94-2.06-.94-.94-2.06-.94 2.06-2.06.94z\"/><path d=\"M17.41 7.96l-1.37-1.37c-.4-.4-.92-.59-1.43-.59-.52 0-1.04.2-1.43.59L10.3 9.45l-7.72 7.72c-.78.78-.78 2.05 0 2.83L4 21.41c.39.39.9.59 1.41.59.51 0 1.02-.2 1.41-.59l7.78-7.78 2.81-2.81c.8-.78.8-2.07 0-2.86zM5.41 20L4 18.59l7.72-7.72 1.47 1.35L5.41 20z\"/>\n",
              "  </svg>\n",
              "      </button>\n",
              "      \n",
              "  <style>\n",
              "    .colab-df-container {\n",
              "      display:flex;\n",
              "      flex-wrap:wrap;\n",
              "      gap: 12px;\n",
              "    }\n",
              "\n",
              "    .colab-df-convert {\n",
              "      background-color: #E8F0FE;\n",
              "      border: none;\n",
              "      border-radius: 50%;\n",
              "      cursor: pointer;\n",
              "      display: none;\n",
              "      fill: #1967D2;\n",
              "      height: 32px;\n",
              "      padding: 0 0 0 0;\n",
              "      width: 32px;\n",
              "    }\n",
              "\n",
              "    .colab-df-convert:hover {\n",
              "      background-color: #E2EBFA;\n",
              "      box-shadow: 0px 1px 2px rgba(60, 64, 67, 0.3), 0px 1px 3px 1px rgba(60, 64, 67, 0.15);\n",
              "      fill: #174EA6;\n",
              "    }\n",
              "\n",
              "    [theme=dark] .colab-df-convert {\n",
              "      background-color: #3B4455;\n",
              "      fill: #D2E3FC;\n",
              "    }\n",
              "\n",
              "    [theme=dark] .colab-df-convert:hover {\n",
              "      background-color: #434B5C;\n",
              "      box-shadow: 0px 1px 3px 1px rgba(0, 0, 0, 0.15);\n",
              "      filter: drop-shadow(0px 1px 2px rgba(0, 0, 0, 0.3));\n",
              "      fill: #FFFFFF;\n",
              "    }\n",
              "  </style>\n",
              "\n",
              "      <script>\n",
              "        const buttonEl =\n",
              "          document.querySelector('#df-c7c6e6a9-4abb-4571-84e5-8f9b406d5152 button.colab-df-convert');\n",
              "        buttonEl.style.display =\n",
              "          google.colab.kernel.accessAllowed ? 'block' : 'none';\n",
              "\n",
              "        async function convertToInteractive(key) {\n",
              "          const element = document.querySelector('#df-c7c6e6a9-4abb-4571-84e5-8f9b406d5152');\n",
              "          const dataTable =\n",
              "            await google.colab.kernel.invokeFunction('convertToInteractive',\n",
              "                                                     [key], {});\n",
              "          if (!dataTable) return;\n",
              "\n",
              "          const docLinkHtml = 'Like what you see? Visit the ' +\n",
              "            '<a target=\"_blank\" href=https://colab.research.google.com/notebooks/data_table.ipynb>data table notebook</a>'\n",
              "            + ' to learn more about interactive tables.';\n",
              "          element.innerHTML = '';\n",
              "          dataTable['output_type'] = 'display_data';\n",
              "          await google.colab.output.renderOutput(dataTable, element);\n",
              "          const docLink = document.createElement('div');\n",
              "          docLink.innerHTML = docLinkHtml;\n",
              "          element.appendChild(docLink);\n",
              "        }\n",
              "      </script>\n",
              "    </div>\n",
              "  </div>\n",
              "  "
            ]
          },
          "metadata": {},
          "execution_count": 27
        }
      ]
    },
    {
      "cell_type": "code",
      "metadata": {
        "colab": {
          "base_uri": "https://localhost:8080/",
          "height": 267
        },
        "id": "ivq4k6mOLgSm",
        "scrolled": true,
        "outputId": "8b559e95-e2ca-4224-9c0d-01c631e12529"
      },
      "source": [
        "# Vif for goalkeepers data\n",
        "vif_gk = df2_gk[stepwise_variables_gk]\n",
        "vif_gk.drop(columns=['wins_gk'], axis=1, inplace=True)\n",
        "from statsmodels.stats.outliers_influence import variance_inflation_factor\n",
        "vif = pd.DataFrame()\n",
        "vif[\"VIF Factor\"] = [variance_inflation_factor(vif_gk.values, i) for i in range(vif_gk.shape[1])]\n",
        "vif[\"features\"] = vif_gk.columns\n",
        "vif = vif.sort_values(\"VIF Factor\").reset_index(drop=True)\n",
        "vif"
      ],
      "execution_count": 28,
      "outputs": [
        {
          "output_type": "stream",
          "name": "stderr",
          "text": [
            "<ipython-input-28-2d64f26fc1d3>:3: SettingWithCopyWarning: \n",
            "A value is trying to be set on a copy of a slice from a DataFrame\n",
            "\n",
            "See the caveats in the documentation: https://pandas.pydata.org/pandas-docs/stable/user_guide/indexing.html#returning-a-view-versus-a-copy\n",
            "  vif_gk.drop(columns=['wins_gk'], axis=1, inplace=True)\n"
          ]
        },
        {
          "output_type": "execute_result",
          "data": {
            "text/plain": [
              "   VIF Factor            features\n",
              "0    1.778623          pens_saved\n",
              "1    2.280624                  MP\n",
              "2    4.145338        clean_sheets\n",
              "3    4.697773  passes_launched_gk"
            ],
            "text/html": [
              "\n",
              "  <div id=\"df-49afd488-4437-4725-ae06-5f0a541dcf9f\">\n",
              "    <div class=\"colab-df-container\">\n",
              "      <div>\n",
              "<style scoped>\n",
              "    .dataframe tbody tr th:only-of-type {\n",
              "        vertical-align: middle;\n",
              "    }\n",
              "\n",
              "    .dataframe tbody tr th {\n",
              "        vertical-align: top;\n",
              "    }\n",
              "\n",
              "    .dataframe thead th {\n",
              "        text-align: right;\n",
              "    }\n",
              "</style>\n",
              "<table border=\"1\" class=\"dataframe\">\n",
              "  <thead>\n",
              "    <tr style=\"text-align: right;\">\n",
              "      <th></th>\n",
              "      <th>VIF Factor</th>\n",
              "      <th>features</th>\n",
              "    </tr>\n",
              "  </thead>\n",
              "  <tbody>\n",
              "    <tr>\n",
              "      <th>0</th>\n",
              "      <td>1.778623</td>\n",
              "      <td>pens_saved</td>\n",
              "    </tr>\n",
              "    <tr>\n",
              "      <th>1</th>\n",
              "      <td>2.280624</td>\n",
              "      <td>MP</td>\n",
              "    </tr>\n",
              "    <tr>\n",
              "      <th>2</th>\n",
              "      <td>4.145338</td>\n",
              "      <td>clean_sheets</td>\n",
              "    </tr>\n",
              "    <tr>\n",
              "      <th>3</th>\n",
              "      <td>4.697773</td>\n",
              "      <td>passes_launched_gk</td>\n",
              "    </tr>\n",
              "  </tbody>\n",
              "</table>\n",
              "</div>\n",
              "      <button class=\"colab-df-convert\" onclick=\"convertToInteractive('df-49afd488-4437-4725-ae06-5f0a541dcf9f')\"\n",
              "              title=\"Convert this dataframe to an interactive table.\"\n",
              "              style=\"display:none;\">\n",
              "        \n",
              "  <svg xmlns=\"http://www.w3.org/2000/svg\" height=\"24px\"viewBox=\"0 0 24 24\"\n",
              "       width=\"24px\">\n",
              "    <path d=\"M0 0h24v24H0V0z\" fill=\"none\"/>\n",
              "    <path d=\"M18.56 5.44l.94 2.06.94-2.06 2.06-.94-2.06-.94-.94-2.06-.94 2.06-2.06.94zm-11 1L8.5 8.5l.94-2.06 2.06-.94-2.06-.94L8.5 2.5l-.94 2.06-2.06.94zm10 10l.94 2.06.94-2.06 2.06-.94-2.06-.94-.94-2.06-.94 2.06-2.06.94z\"/><path d=\"M17.41 7.96l-1.37-1.37c-.4-.4-.92-.59-1.43-.59-.52 0-1.04.2-1.43.59L10.3 9.45l-7.72 7.72c-.78.78-.78 2.05 0 2.83L4 21.41c.39.39.9.59 1.41.59.51 0 1.02-.2 1.41-.59l7.78-7.78 2.81-2.81c.8-.78.8-2.07 0-2.86zM5.41 20L4 18.59l7.72-7.72 1.47 1.35L5.41 20z\"/>\n",
              "  </svg>\n",
              "      </button>\n",
              "      \n",
              "  <style>\n",
              "    .colab-df-container {\n",
              "      display:flex;\n",
              "      flex-wrap:wrap;\n",
              "      gap: 12px;\n",
              "    }\n",
              "\n",
              "    .colab-df-convert {\n",
              "      background-color: #E8F0FE;\n",
              "      border: none;\n",
              "      border-radius: 50%;\n",
              "      cursor: pointer;\n",
              "      display: none;\n",
              "      fill: #1967D2;\n",
              "      height: 32px;\n",
              "      padding: 0 0 0 0;\n",
              "      width: 32px;\n",
              "    }\n",
              "\n",
              "    .colab-df-convert:hover {\n",
              "      background-color: #E2EBFA;\n",
              "      box-shadow: 0px 1px 2px rgba(60, 64, 67, 0.3), 0px 1px 3px 1px rgba(60, 64, 67, 0.15);\n",
              "      fill: #174EA6;\n",
              "    }\n",
              "\n",
              "    [theme=dark] .colab-df-convert {\n",
              "      background-color: #3B4455;\n",
              "      fill: #D2E3FC;\n",
              "    }\n",
              "\n",
              "    [theme=dark] .colab-df-convert:hover {\n",
              "      background-color: #434B5C;\n",
              "      box-shadow: 0px 1px 3px 1px rgba(0, 0, 0, 0.15);\n",
              "      filter: drop-shadow(0px 1px 2px rgba(0, 0, 0, 0.3));\n",
              "      fill: #FFFFFF;\n",
              "    }\n",
              "  </style>\n",
              "\n",
              "      <script>\n",
              "        const buttonEl =\n",
              "          document.querySelector('#df-49afd488-4437-4725-ae06-5f0a541dcf9f button.colab-df-convert');\n",
              "        buttonEl.style.display =\n",
              "          google.colab.kernel.accessAllowed ? 'block' : 'none';\n",
              "\n",
              "        async function convertToInteractive(key) {\n",
              "          const element = document.querySelector('#df-49afd488-4437-4725-ae06-5f0a541dcf9f');\n",
              "          const dataTable =\n",
              "            await google.colab.kernel.invokeFunction('convertToInteractive',\n",
              "                                                     [key], {});\n",
              "          if (!dataTable) return;\n",
              "\n",
              "          const docLinkHtml = 'Like what you see? Visit the ' +\n",
              "            '<a target=\"_blank\" href=https://colab.research.google.com/notebooks/data_table.ipynb>data table notebook</a>'\n",
              "            + ' to learn more about interactive tables.';\n",
              "          element.innerHTML = '';\n",
              "          dataTable['output_type'] = 'display_data';\n",
              "          await google.colab.output.renderOutput(dataTable, element);\n",
              "          const docLink = document.createElement('div');\n",
              "          docLink.innerHTML = docLinkHtml;\n",
              "          element.appendChild(docLink);\n",
              "        }\n",
              "      </script>\n",
              "    </div>\n",
              "  </div>\n",
              "  "
            ]
          },
          "metadata": {},
          "execution_count": 28
        }
      ]
    },
    {
      "cell_type": "code",
      "metadata": {
        "colab": {
          "base_uri": "https://localhost:8080/"
        },
        "collapsed": true,
        "id": "eR7l6wjgLgSm",
        "outputId": "d88c3c6b-e07f-445a-af7c-feaca2badbd2"
      },
      "source": [
        "# Applying the result\n",
        "vif_col_fp = ['pens_conceded','gca_dribbles','shots_free_kicks','goals_per_shot_on_target','pens_att','through_balls','xg_net',\n",
        "             'passes_other_body','sca_shots','sca_fouled','aerials_won','passes_free_kicks','crosses_into_penalty_area',\n",
        "             'dribbles_completed_pct','fouled','gca']\n",
        "vif_col_gk = ['pens_saved','MP','clean_sheets','passes_launched_gk']\n",
        "col_fp = list(df2_fp.iloc[:, 0:14]) + vif_col_fp\n",
        "df3_fp = df2_fp[col_fp]\n",
        "col_gk = list(df2_gk.iloc[:, 0:14]) + vif_col_gk\n",
        "df3_gk = df2_gk[col_gk]\n",
        "\n",
        "# Delete the columns 'plyaer', 'position2'\n",
        "df3_fp.drop(columns=['player','position2'], axis=1, inplace=True)\n",
        "df3_gk.drop(columns=['player','position2'], axis=1, inplace=True)"
      ],
      "execution_count": 29,
      "outputs": [
        {
          "output_type": "stream",
          "name": "stderr",
          "text": [
            "<ipython-input-29-33375d0d0184>:12: SettingWithCopyWarning: \n",
            "A value is trying to be set on a copy of a slice from a DataFrame\n",
            "\n",
            "See the caveats in the documentation: https://pandas.pydata.org/pandas-docs/stable/user_guide/indexing.html#returning-a-view-versus-a-copy\n",
            "  df3_fp.drop(columns=['player','position2'], axis=1, inplace=True)\n",
            "<ipython-input-29-33375d0d0184>:13: SettingWithCopyWarning: \n",
            "A value is trying to be set on a copy of a slice from a DataFrame\n",
            "\n",
            "See the caveats in the documentation: https://pandas.pydata.org/pandas-docs/stable/user_guide/indexing.html#returning-a-view-versus-a-copy\n",
            "  df3_gk.drop(columns=['player','position2'], axis=1, inplace=True)\n"
          ]
        }
      ]
    },
    {
      "cell_type": "code",
      "metadata": {
        "colab": {
          "base_uri": "https://localhost:8080/",
          "height": 300
        },
        "id": "bPwMSXAQLgSn",
        "outputId": "be5ce244-8d68-4a43-de74-3e65e37d63dd"
      },
      "source": [
        "df3_fp.head()"
      ],
      "execution_count": 30,
      "outputs": [
        {
          "output_type": "execute_result",
          "data": {
            "text/plain": [
              "   nationality  position  squad  foot  league   CL  WinCL  CLBestScorer  \\\n",
              "0           41         1      0     2       1  0.0    0.0           0.0   \n",
              "1           43         0     96     2       1  1.0    1.0           0.0   \n",
              "2           41         0      0     1       1  0.0    0.0           0.0   \n",
              "3           43         0     11     1       1  1.0    0.0           0.0   \n",
              "4           41         3      0     1       1  0.0    0.0           0.0   \n",
              "\n",
              "   Season   age  ...  xg_net  passes_other_body  sca_shots  sca_fouled  \\\n",
              "0       0  23.0  ...     0.1                0.0        2.0         4.0   \n",
              "1       0  24.0  ...    -0.9                5.0        3.0         0.0   \n",
              "2       0  21.0  ...    -0.5                2.0        1.0         5.0   \n",
              "3       0  23.0  ...    -0.1                8.0        0.0         1.0   \n",
              "4       0  31.0  ...    -0.1                2.0        2.0         6.0   \n",
              "\n",
              "   aerials_won  passes_free_kicks  crosses_into_penalty_area  \\\n",
              "0          1.0                3.0                        1.0   \n",
              "1         31.0               24.0                        0.0   \n",
              "2         22.0                5.0                        8.0   \n",
              "3         41.0               19.0                        0.0   \n",
              "4         42.0                7.0                        2.0   \n",
              "\n",
              "   dribbles_completed_pct  fouled  gca  \n",
              "0                    77.4    19.0  3.0  \n",
              "1                    83.3    12.0  2.0  \n",
              "2                    91.7    35.0  2.0  \n",
              "3                    75.0    25.0  1.0  \n",
              "4                    81.0    72.0  2.0  \n",
              "\n",
              "[5 rows x 28 columns]"
            ],
            "text/html": [
              "\n",
              "  <div id=\"df-05649a61-f810-4b62-8194-44812ada2d74\">\n",
              "    <div class=\"colab-df-container\">\n",
              "      <div>\n",
              "<style scoped>\n",
              "    .dataframe tbody tr th:only-of-type {\n",
              "        vertical-align: middle;\n",
              "    }\n",
              "\n",
              "    .dataframe tbody tr th {\n",
              "        vertical-align: top;\n",
              "    }\n",
              "\n",
              "    .dataframe thead th {\n",
              "        text-align: right;\n",
              "    }\n",
              "</style>\n",
              "<table border=\"1\" class=\"dataframe\">\n",
              "  <thead>\n",
              "    <tr style=\"text-align: right;\">\n",
              "      <th></th>\n",
              "      <th>nationality</th>\n",
              "      <th>position</th>\n",
              "      <th>squad</th>\n",
              "      <th>foot</th>\n",
              "      <th>league</th>\n",
              "      <th>CL</th>\n",
              "      <th>WinCL</th>\n",
              "      <th>CLBestScorer</th>\n",
              "      <th>Season</th>\n",
              "      <th>age</th>\n",
              "      <th>...</th>\n",
              "      <th>xg_net</th>\n",
              "      <th>passes_other_body</th>\n",
              "      <th>sca_shots</th>\n",
              "      <th>sca_fouled</th>\n",
              "      <th>aerials_won</th>\n",
              "      <th>passes_free_kicks</th>\n",
              "      <th>crosses_into_penalty_area</th>\n",
              "      <th>dribbles_completed_pct</th>\n",
              "      <th>fouled</th>\n",
              "      <th>gca</th>\n",
              "    </tr>\n",
              "  </thead>\n",
              "  <tbody>\n",
              "    <tr>\n",
              "      <th>0</th>\n",
              "      <td>41</td>\n",
              "      <td>1</td>\n",
              "      <td>0</td>\n",
              "      <td>2</td>\n",
              "      <td>1</td>\n",
              "      <td>0.0</td>\n",
              "      <td>0.0</td>\n",
              "      <td>0.0</td>\n",
              "      <td>0</td>\n",
              "      <td>23.0</td>\n",
              "      <td>...</td>\n",
              "      <td>0.1</td>\n",
              "      <td>0.0</td>\n",
              "      <td>2.0</td>\n",
              "      <td>4.0</td>\n",
              "      <td>1.0</td>\n",
              "      <td>3.0</td>\n",
              "      <td>1.0</td>\n",
              "      <td>77.4</td>\n",
              "      <td>19.0</td>\n",
              "      <td>3.0</td>\n",
              "    </tr>\n",
              "    <tr>\n",
              "      <th>1</th>\n",
              "      <td>43</td>\n",
              "      <td>0</td>\n",
              "      <td>96</td>\n",
              "      <td>2</td>\n",
              "      <td>1</td>\n",
              "      <td>1.0</td>\n",
              "      <td>1.0</td>\n",
              "      <td>0.0</td>\n",
              "      <td>0</td>\n",
              "      <td>24.0</td>\n",
              "      <td>...</td>\n",
              "      <td>-0.9</td>\n",
              "      <td>5.0</td>\n",
              "      <td>3.0</td>\n",
              "      <td>0.0</td>\n",
              "      <td>31.0</td>\n",
              "      <td>24.0</td>\n",
              "      <td>0.0</td>\n",
              "      <td>83.3</td>\n",
              "      <td>12.0</td>\n",
              "      <td>2.0</td>\n",
              "    </tr>\n",
              "    <tr>\n",
              "      <th>2</th>\n",
              "      <td>41</td>\n",
              "      <td>0</td>\n",
              "      <td>0</td>\n",
              "      <td>1</td>\n",
              "      <td>1</td>\n",
              "      <td>0.0</td>\n",
              "      <td>0.0</td>\n",
              "      <td>0.0</td>\n",
              "      <td>0</td>\n",
              "      <td>21.0</td>\n",
              "      <td>...</td>\n",
              "      <td>-0.5</td>\n",
              "      <td>2.0</td>\n",
              "      <td>1.0</td>\n",
              "      <td>5.0</td>\n",
              "      <td>22.0</td>\n",
              "      <td>5.0</td>\n",
              "      <td>8.0</td>\n",
              "      <td>91.7</td>\n",
              "      <td>35.0</td>\n",
              "      <td>2.0</td>\n",
              "    </tr>\n",
              "    <tr>\n",
              "      <th>3</th>\n",
              "      <td>43</td>\n",
              "      <td>0</td>\n",
              "      <td>11</td>\n",
              "      <td>1</td>\n",
              "      <td>1</td>\n",
              "      <td>1.0</td>\n",
              "      <td>0.0</td>\n",
              "      <td>0.0</td>\n",
              "      <td>0</td>\n",
              "      <td>23.0</td>\n",
              "      <td>...</td>\n",
              "      <td>-0.1</td>\n",
              "      <td>8.0</td>\n",
              "      <td>0.0</td>\n",
              "      <td>1.0</td>\n",
              "      <td>41.0</td>\n",
              "      <td>19.0</td>\n",
              "      <td>0.0</td>\n",
              "      <td>75.0</td>\n",
              "      <td>25.0</td>\n",
              "      <td>1.0</td>\n",
              "    </tr>\n",
              "    <tr>\n",
              "      <th>4</th>\n",
              "      <td>41</td>\n",
              "      <td>3</td>\n",
              "      <td>0</td>\n",
              "      <td>1</td>\n",
              "      <td>1</td>\n",
              "      <td>0.0</td>\n",
              "      <td>0.0</td>\n",
              "      <td>0.0</td>\n",
              "      <td>0</td>\n",
              "      <td>31.0</td>\n",
              "      <td>...</td>\n",
              "      <td>-0.1</td>\n",
              "      <td>2.0</td>\n",
              "      <td>2.0</td>\n",
              "      <td>6.0</td>\n",
              "      <td>42.0</td>\n",
              "      <td>7.0</td>\n",
              "      <td>2.0</td>\n",
              "      <td>81.0</td>\n",
              "      <td>72.0</td>\n",
              "      <td>2.0</td>\n",
              "    </tr>\n",
              "  </tbody>\n",
              "</table>\n",
              "<p>5 rows × 28 columns</p>\n",
              "</div>\n",
              "      <button class=\"colab-df-convert\" onclick=\"convertToInteractive('df-05649a61-f810-4b62-8194-44812ada2d74')\"\n",
              "              title=\"Convert this dataframe to an interactive table.\"\n",
              "              style=\"display:none;\">\n",
              "        \n",
              "  <svg xmlns=\"http://www.w3.org/2000/svg\" height=\"24px\"viewBox=\"0 0 24 24\"\n",
              "       width=\"24px\">\n",
              "    <path d=\"M0 0h24v24H0V0z\" fill=\"none\"/>\n",
              "    <path d=\"M18.56 5.44l.94 2.06.94-2.06 2.06-.94-2.06-.94-.94-2.06-.94 2.06-2.06.94zm-11 1L8.5 8.5l.94-2.06 2.06-.94-2.06-.94L8.5 2.5l-.94 2.06-2.06.94zm10 10l.94 2.06.94-2.06 2.06-.94-2.06-.94-.94-2.06-.94 2.06-2.06.94z\"/><path d=\"M17.41 7.96l-1.37-1.37c-.4-.4-.92-.59-1.43-.59-.52 0-1.04.2-1.43.59L10.3 9.45l-7.72 7.72c-.78.78-.78 2.05 0 2.83L4 21.41c.39.39.9.59 1.41.59.51 0 1.02-.2 1.41-.59l7.78-7.78 2.81-2.81c.8-.78.8-2.07 0-2.86zM5.41 20L4 18.59l7.72-7.72 1.47 1.35L5.41 20z\"/>\n",
              "  </svg>\n",
              "      </button>\n",
              "      \n",
              "  <style>\n",
              "    .colab-df-container {\n",
              "      display:flex;\n",
              "      flex-wrap:wrap;\n",
              "      gap: 12px;\n",
              "    }\n",
              "\n",
              "    .colab-df-convert {\n",
              "      background-color: #E8F0FE;\n",
              "      border: none;\n",
              "      border-radius: 50%;\n",
              "      cursor: pointer;\n",
              "      display: none;\n",
              "      fill: #1967D2;\n",
              "      height: 32px;\n",
              "      padding: 0 0 0 0;\n",
              "      width: 32px;\n",
              "    }\n",
              "\n",
              "    .colab-df-convert:hover {\n",
              "      background-color: #E2EBFA;\n",
              "      box-shadow: 0px 1px 2px rgba(60, 64, 67, 0.3), 0px 1px 3px 1px rgba(60, 64, 67, 0.15);\n",
              "      fill: #174EA6;\n",
              "    }\n",
              "\n",
              "    [theme=dark] .colab-df-convert {\n",
              "      background-color: #3B4455;\n",
              "      fill: #D2E3FC;\n",
              "    }\n",
              "\n",
              "    [theme=dark] .colab-df-convert:hover {\n",
              "      background-color: #434B5C;\n",
              "      box-shadow: 0px 1px 3px 1px rgba(0, 0, 0, 0.15);\n",
              "      filter: drop-shadow(0px 1px 2px rgba(0, 0, 0, 0.3));\n",
              "      fill: #FFFFFF;\n",
              "    }\n",
              "  </style>\n",
              "\n",
              "      <script>\n",
              "        const buttonEl =\n",
              "          document.querySelector('#df-05649a61-f810-4b62-8194-44812ada2d74 button.colab-df-convert');\n",
              "        buttonEl.style.display =\n",
              "          google.colab.kernel.accessAllowed ? 'block' : 'none';\n",
              "\n",
              "        async function convertToInteractive(key) {\n",
              "          const element = document.querySelector('#df-05649a61-f810-4b62-8194-44812ada2d74');\n",
              "          const dataTable =\n",
              "            await google.colab.kernel.invokeFunction('convertToInteractive',\n",
              "                                                     [key], {});\n",
              "          if (!dataTable) return;\n",
              "\n",
              "          const docLinkHtml = 'Like what you see? Visit the ' +\n",
              "            '<a target=\"_blank\" href=https://colab.research.google.com/notebooks/data_table.ipynb>data table notebook</a>'\n",
              "            + ' to learn more about interactive tables.';\n",
              "          element.innerHTML = '';\n",
              "          dataTable['output_type'] = 'display_data';\n",
              "          await google.colab.output.renderOutput(dataTable, element);\n",
              "          const docLink = document.createElement('div');\n",
              "          docLink.innerHTML = docLinkHtml;\n",
              "          element.appendChild(docLink);\n",
              "        }\n",
              "      </script>\n",
              "    </div>\n",
              "  </div>\n",
              "  "
            ]
          },
          "metadata": {},
          "execution_count": 30
        }
      ]
    },
    {
      "cell_type": "code",
      "metadata": {
        "colab": {
          "base_uri": "https://localhost:8080/",
          "height": 206
        },
        "id": "7-u4cVWhLgSn",
        "outputId": "4acda401-7894-4121-eab6-f17ecd0f0cc5"
      },
      "source": [
        "df3_gk.head()"
      ],
      "execution_count": 31,
      "outputs": [
        {
          "output_type": "execute_result",
          "data": {
            "text/plain": [
              "   nationality  position  squad  foot  league   CL  WinCL  CLBestScorer  \\\n",
              "0           41         2      0     1       1  0.0    0.0           0.0   \n",
              "1           41         2      0     2       1  0.0    0.0           0.0   \n",
              "2           43         2      2     2       2  0.0    0.0           0.0   \n",
              "3           43         2      2     2       2  0.0    0.0           0.0   \n",
              "4           43         2      3     1       2  0.0    0.0           0.0   \n",
              "\n",
              "   Season   age      value  height  pens_saved    MP  clean_sheets  \\\n",
              "0       0  25.0  9000000.0   185.0         3.0  38.0          12.0   \n",
              "1       0  20.0  1000000.0   185.0         0.0  38.0           0.0   \n",
              "2       0  34.0    20000.0   184.0         0.0  38.0           0.0   \n",
              "3       0  30.0  3000000.0   182.0         0.0  38.0          11.0   \n",
              "4       0  34.0    50000.0   188.0         0.0  38.0           4.0   \n",
              "\n",
              "   passes_launched_gk  \n",
              "0               586.0  \n",
              "1                10.0  \n",
              "2                15.0  \n",
              "3               725.0  \n",
              "4               228.0  "
            ],
            "text/html": [
              "\n",
              "  <div id=\"df-c9c5b108-e24c-4bb0-a7a0-c0376d98008f\">\n",
              "    <div class=\"colab-df-container\">\n",
              "      <div>\n",
              "<style scoped>\n",
              "    .dataframe tbody tr th:only-of-type {\n",
              "        vertical-align: middle;\n",
              "    }\n",
              "\n",
              "    .dataframe tbody tr th {\n",
              "        vertical-align: top;\n",
              "    }\n",
              "\n",
              "    .dataframe thead th {\n",
              "        text-align: right;\n",
              "    }\n",
              "</style>\n",
              "<table border=\"1\" class=\"dataframe\">\n",
              "  <thead>\n",
              "    <tr style=\"text-align: right;\">\n",
              "      <th></th>\n",
              "      <th>nationality</th>\n",
              "      <th>position</th>\n",
              "      <th>squad</th>\n",
              "      <th>foot</th>\n",
              "      <th>league</th>\n",
              "      <th>CL</th>\n",
              "      <th>WinCL</th>\n",
              "      <th>CLBestScorer</th>\n",
              "      <th>Season</th>\n",
              "      <th>age</th>\n",
              "      <th>value</th>\n",
              "      <th>height</th>\n",
              "      <th>pens_saved</th>\n",
              "      <th>MP</th>\n",
              "      <th>clean_sheets</th>\n",
              "      <th>passes_launched_gk</th>\n",
              "    </tr>\n",
              "  </thead>\n",
              "  <tbody>\n",
              "    <tr>\n",
              "      <th>0</th>\n",
              "      <td>41</td>\n",
              "      <td>2</td>\n",
              "      <td>0</td>\n",
              "      <td>1</td>\n",
              "      <td>1</td>\n",
              "      <td>0.0</td>\n",
              "      <td>0.0</td>\n",
              "      <td>0.0</td>\n",
              "      <td>0</td>\n",
              "      <td>25.0</td>\n",
              "      <td>9000000.0</td>\n",
              "      <td>185.0</td>\n",
              "      <td>3.0</td>\n",
              "      <td>38.0</td>\n",
              "      <td>12.0</td>\n",
              "      <td>586.0</td>\n",
              "    </tr>\n",
              "    <tr>\n",
              "      <th>1</th>\n",
              "      <td>41</td>\n",
              "      <td>2</td>\n",
              "      <td>0</td>\n",
              "      <td>2</td>\n",
              "      <td>1</td>\n",
              "      <td>0.0</td>\n",
              "      <td>0.0</td>\n",
              "      <td>0.0</td>\n",
              "      <td>0</td>\n",
              "      <td>20.0</td>\n",
              "      <td>1000000.0</td>\n",
              "      <td>185.0</td>\n",
              "      <td>0.0</td>\n",
              "      <td>38.0</td>\n",
              "      <td>0.0</td>\n",
              "      <td>10.0</td>\n",
              "    </tr>\n",
              "    <tr>\n",
              "      <th>2</th>\n",
              "      <td>43</td>\n",
              "      <td>2</td>\n",
              "      <td>2</td>\n",
              "      <td>2</td>\n",
              "      <td>2</td>\n",
              "      <td>0.0</td>\n",
              "      <td>0.0</td>\n",
              "      <td>0.0</td>\n",
              "      <td>0</td>\n",
              "      <td>34.0</td>\n",
              "      <td>20000.0</td>\n",
              "      <td>184.0</td>\n",
              "      <td>0.0</td>\n",
              "      <td>38.0</td>\n",
              "      <td>0.0</td>\n",
              "      <td>15.0</td>\n",
              "    </tr>\n",
              "    <tr>\n",
              "      <th>3</th>\n",
              "      <td>43</td>\n",
              "      <td>2</td>\n",
              "      <td>2</td>\n",
              "      <td>2</td>\n",
              "      <td>2</td>\n",
              "      <td>0.0</td>\n",
              "      <td>0.0</td>\n",
              "      <td>0.0</td>\n",
              "      <td>0</td>\n",
              "      <td>30.0</td>\n",
              "      <td>3000000.0</td>\n",
              "      <td>182.0</td>\n",
              "      <td>0.0</td>\n",
              "      <td>38.0</td>\n",
              "      <td>11.0</td>\n",
              "      <td>725.0</td>\n",
              "    </tr>\n",
              "    <tr>\n",
              "      <th>4</th>\n",
              "      <td>43</td>\n",
              "      <td>2</td>\n",
              "      <td>3</td>\n",
              "      <td>1</td>\n",
              "      <td>2</td>\n",
              "      <td>0.0</td>\n",
              "      <td>0.0</td>\n",
              "      <td>0.0</td>\n",
              "      <td>0</td>\n",
              "      <td>34.0</td>\n",
              "      <td>50000.0</td>\n",
              "      <td>188.0</td>\n",
              "      <td>0.0</td>\n",
              "      <td>38.0</td>\n",
              "      <td>4.0</td>\n",
              "      <td>228.0</td>\n",
              "    </tr>\n",
              "  </tbody>\n",
              "</table>\n",
              "</div>\n",
              "      <button class=\"colab-df-convert\" onclick=\"convertToInteractive('df-c9c5b108-e24c-4bb0-a7a0-c0376d98008f')\"\n",
              "              title=\"Convert this dataframe to an interactive table.\"\n",
              "              style=\"display:none;\">\n",
              "        \n",
              "  <svg xmlns=\"http://www.w3.org/2000/svg\" height=\"24px\"viewBox=\"0 0 24 24\"\n",
              "       width=\"24px\">\n",
              "    <path d=\"M0 0h24v24H0V0z\" fill=\"none\"/>\n",
              "    <path d=\"M18.56 5.44l.94 2.06.94-2.06 2.06-.94-2.06-.94-.94-2.06-.94 2.06-2.06.94zm-11 1L8.5 8.5l.94-2.06 2.06-.94-2.06-.94L8.5 2.5l-.94 2.06-2.06.94zm10 10l.94 2.06.94-2.06 2.06-.94-2.06-.94-.94-2.06-.94 2.06-2.06.94z\"/><path d=\"M17.41 7.96l-1.37-1.37c-.4-.4-.92-.59-1.43-.59-.52 0-1.04.2-1.43.59L10.3 9.45l-7.72 7.72c-.78.78-.78 2.05 0 2.83L4 21.41c.39.39.9.59 1.41.59.51 0 1.02-.2 1.41-.59l7.78-7.78 2.81-2.81c.8-.78.8-2.07 0-2.86zM5.41 20L4 18.59l7.72-7.72 1.47 1.35L5.41 20z\"/>\n",
              "  </svg>\n",
              "      </button>\n",
              "      \n",
              "  <style>\n",
              "    .colab-df-container {\n",
              "      display:flex;\n",
              "      flex-wrap:wrap;\n",
              "      gap: 12px;\n",
              "    }\n",
              "\n",
              "    .colab-df-convert {\n",
              "      background-color: #E8F0FE;\n",
              "      border: none;\n",
              "      border-radius: 50%;\n",
              "      cursor: pointer;\n",
              "      display: none;\n",
              "      fill: #1967D2;\n",
              "      height: 32px;\n",
              "      padding: 0 0 0 0;\n",
              "      width: 32px;\n",
              "    }\n",
              "\n",
              "    .colab-df-convert:hover {\n",
              "      background-color: #E2EBFA;\n",
              "      box-shadow: 0px 1px 2px rgba(60, 64, 67, 0.3), 0px 1px 3px 1px rgba(60, 64, 67, 0.15);\n",
              "      fill: #174EA6;\n",
              "    }\n",
              "\n",
              "    [theme=dark] .colab-df-convert {\n",
              "      background-color: #3B4455;\n",
              "      fill: #D2E3FC;\n",
              "    }\n",
              "\n",
              "    [theme=dark] .colab-df-convert:hover {\n",
              "      background-color: #434B5C;\n",
              "      box-shadow: 0px 1px 3px 1px rgba(0, 0, 0, 0.15);\n",
              "      filter: drop-shadow(0px 1px 2px rgba(0, 0, 0, 0.3));\n",
              "      fill: #FFFFFF;\n",
              "    }\n",
              "  </style>\n",
              "\n",
              "      <script>\n",
              "        const buttonEl =\n",
              "          document.querySelector('#df-c9c5b108-e24c-4bb0-a7a0-c0376d98008f button.colab-df-convert');\n",
              "        buttonEl.style.display =\n",
              "          google.colab.kernel.accessAllowed ? 'block' : 'none';\n",
              "\n",
              "        async function convertToInteractive(key) {\n",
              "          const element = document.querySelector('#df-c9c5b108-e24c-4bb0-a7a0-c0376d98008f');\n",
              "          const dataTable =\n",
              "            await google.colab.kernel.invokeFunction('convertToInteractive',\n",
              "                                                     [key], {});\n",
              "          if (!dataTable) return;\n",
              "\n",
              "          const docLinkHtml = 'Like what you see? Visit the ' +\n",
              "            '<a target=\"_blank\" href=https://colab.research.google.com/notebooks/data_table.ipynb>data table notebook</a>'\n",
              "            + ' to learn more about interactive tables.';\n",
              "          element.innerHTML = '';\n",
              "          dataTable['output_type'] = 'display_data';\n",
              "          await google.colab.output.renderOutput(dataTable, element);\n",
              "          const docLink = document.createElement('div');\n",
              "          docLink.innerHTML = docLinkHtml;\n",
              "          element.appendChild(docLink);\n",
              "        }\n",
              "      </script>\n",
              "    </div>\n",
              "  </div>\n",
              "  "
            ]
          },
          "metadata": {},
          "execution_count": 31
        }
      ]
    },
    {
      "cell_type": "code",
      "metadata": {
        "colab": {
          "base_uri": "https://localhost:8080/"
        },
        "id": "-nAVMbNCLgSo",
        "scrolled": true,
        "outputId": "ee2aa2b3-324e-49cf-d4a4-60cdbe927155"
      },
      "source": [
        "print(df3_fp.shape)\n",
        "print(df3_gk.shape)"
      ],
      "execution_count": 32,
      "outputs": [
        {
          "output_type": "stream",
          "name": "stdout",
          "text": [
            "(6421, 28)\n",
            "(531, 16)\n"
          ]
        }
      ]
    },
    {
      "cell_type": "code",
      "metadata": {
        "colab": {
          "base_uri": "https://localhost:8080/",
          "height": 300
        },
        "id": "u0wIJLTCLgSo",
        "outputId": "c0c1c7b9-cb76-4a00-a55d-d1285fda2100"
      },
      "source": [
        "# Data scaling for PCA\n",
        "df3_fp_pca = df3_fp.iloc[:, 12:]\n",
        "\n",
        "from sklearn.preprocessing import StandardScaler\n",
        "scaler = StandardScaler()\n",
        "result = scaler.fit_transform(df3_fp_pca)\n",
        "data_scaled = pd.DataFrame(result)\n",
        "data_scaled.describe()"
      ],
      "execution_count": 33,
      "outputs": [
        {
          "output_type": "execute_result",
          "data": {
            "text/plain": [
              "                 0             1             2             3             4   \\\n",
              "count  6.421000e+03  6.421000e+03  6.421000e+03  6.421000e+03  6.421000e+03   \n",
              "mean   2.213184e-18 -2.213184e-18  2.323843e-17  3.098458e-17 -9.129384e-18   \n",
              "std    1.000078e+00  1.000078e+00  1.000078e+00  1.000078e+00  1.000078e+00   \n",
              "min   -4.049025e-01 -3.497560e-01 -3.125010e-01 -8.033159e-01 -2.603871e-01   \n",
              "25%   -4.049025e-01 -3.497560e-01 -3.125010e-01 -8.033159e-01 -2.603871e-01   \n",
              "50%   -4.049025e-01 -3.497560e-01 -3.125010e-01 -2.962709e-01 -2.603871e-01   \n",
              "75%   -4.049025e-01 -3.497560e-01 -3.125010e-01  4.837985e-01 -2.603871e-01   \n",
              "max    9.556319e+00  1.553681e+01  1.838471e+01  3.097031e+00  1.600368e+01   \n",
              "\n",
              "                 5             6             7             8             9   \\\n",
              "count  6.421000e+03  6.421000e+03  6.421000e+03  6.421000e+03  6.421000e+03   \n",
              "mean   4.426368e-18  5.532960e-19 -4.979664e-17 -7.524826e-17 -1.770547e-17   \n",
              "std    1.000078e+00  1.000078e+00  1.000078e+00  1.000078e+00  1.000078e+00   \n",
              "min   -5.519409e-01 -6.164943e+00 -7.973580e-01 -6.832236e-01 -6.437464e-01   \n",
              "25%   -5.519409e-01 -4.058073e-01 -5.830314e-01 -6.832236e-01 -6.437464e-01   \n",
              "50%   -5.519409e-01 -8.585536e-02 -3.687047e-01 -2.214364e-01 -2.731290e-01   \n",
              "75%    2.864817e-01  3.140846e-01  2.742754e-01  2.403509e-01  9.748835e-02   \n",
              "max    1.957020e+01  1.015261e+01  1.313388e+01  1.178503e+01  1.121601e+01   \n",
              "\n",
              "                 10            11            12            13            14  \\\n",
              "count  6.421000e+03  6.421000e+03  6.421000e+03  6.421000e+03  6.421000e+03   \n",
              "mean  -1.770547e-17 -8.852736e-18 -3.541094e-17 -1.421971e-16 -2.213184e-17   \n",
              "std    1.000078e+00  1.000078e+00  1.000078e+00  1.000078e+00  1.000078e+00   \n",
              "min   -8.107176e-01 -7.201735e-01 -6.381164e-01 -2.227858e+00 -1.029660e+00   \n",
              "25%   -6.517589e-01 -6.703944e-01 -6.381164e-01 -3.096647e-01 -7.388117e-01   \n",
              "50%   -3.338416e-01 -4.214986e-01 -4.457618e-01  1.085015e-01 -2.734545e-01   \n",
              "75%    2.622533e-01  2.754095e-01  1.313020e-01  5.842135e-01  4.827511e-01   \n",
              "max    9.760032e+00  8.538748e+00  8.787260e+00  1.608529e+00  8.684673e+00   \n",
              "\n",
              "                 15  \n",
              "count  6.421000e+03  \n",
              "mean   1.991866e-17  \n",
              "std    1.000078e+00  \n",
              "min   -7.652776e-01  \n",
              "25%   -7.652776e-01  \n",
              "50%   -3.091302e-01  \n",
              "75%    3.750908e-01  \n",
              "max    9.041891e+00  "
            ],
            "text/html": [
              "\n",
              "  <div id=\"df-f861c6b3-4a04-48c4-ab46-467c3d2f04e3\">\n",
              "    <div class=\"colab-df-container\">\n",
              "      <div>\n",
              "<style scoped>\n",
              "    .dataframe tbody tr th:only-of-type {\n",
              "        vertical-align: middle;\n",
              "    }\n",
              "\n",
              "    .dataframe tbody tr th {\n",
              "        vertical-align: top;\n",
              "    }\n",
              "\n",
              "    .dataframe thead th {\n",
              "        text-align: right;\n",
              "    }\n",
              "</style>\n",
              "<table border=\"1\" class=\"dataframe\">\n",
              "  <thead>\n",
              "    <tr style=\"text-align: right;\">\n",
              "      <th></th>\n",
              "      <th>0</th>\n",
              "      <th>1</th>\n",
              "      <th>2</th>\n",
              "      <th>3</th>\n",
              "      <th>4</th>\n",
              "      <th>5</th>\n",
              "      <th>6</th>\n",
              "      <th>7</th>\n",
              "      <th>8</th>\n",
              "      <th>9</th>\n",
              "      <th>10</th>\n",
              "      <th>11</th>\n",
              "      <th>12</th>\n",
              "      <th>13</th>\n",
              "      <th>14</th>\n",
              "      <th>15</th>\n",
              "    </tr>\n",
              "  </thead>\n",
              "  <tbody>\n",
              "    <tr>\n",
              "      <th>count</th>\n",
              "      <td>6.421000e+03</td>\n",
              "      <td>6.421000e+03</td>\n",
              "      <td>6.421000e+03</td>\n",
              "      <td>6.421000e+03</td>\n",
              "      <td>6.421000e+03</td>\n",
              "      <td>6.421000e+03</td>\n",
              "      <td>6.421000e+03</td>\n",
              "      <td>6.421000e+03</td>\n",
              "      <td>6.421000e+03</td>\n",
              "      <td>6.421000e+03</td>\n",
              "      <td>6.421000e+03</td>\n",
              "      <td>6.421000e+03</td>\n",
              "      <td>6.421000e+03</td>\n",
              "      <td>6.421000e+03</td>\n",
              "      <td>6.421000e+03</td>\n",
              "      <td>6.421000e+03</td>\n",
              "    </tr>\n",
              "    <tr>\n",
              "      <th>mean</th>\n",
              "      <td>2.213184e-18</td>\n",
              "      <td>-2.213184e-18</td>\n",
              "      <td>2.323843e-17</td>\n",
              "      <td>3.098458e-17</td>\n",
              "      <td>-9.129384e-18</td>\n",
              "      <td>4.426368e-18</td>\n",
              "      <td>5.532960e-19</td>\n",
              "      <td>-4.979664e-17</td>\n",
              "      <td>-7.524826e-17</td>\n",
              "      <td>-1.770547e-17</td>\n",
              "      <td>-1.770547e-17</td>\n",
              "      <td>-8.852736e-18</td>\n",
              "      <td>-3.541094e-17</td>\n",
              "      <td>-1.421971e-16</td>\n",
              "      <td>-2.213184e-17</td>\n",
              "      <td>1.991866e-17</td>\n",
              "    </tr>\n",
              "    <tr>\n",
              "      <th>std</th>\n",
              "      <td>1.000078e+00</td>\n",
              "      <td>1.000078e+00</td>\n",
              "      <td>1.000078e+00</td>\n",
              "      <td>1.000078e+00</td>\n",
              "      <td>1.000078e+00</td>\n",
              "      <td>1.000078e+00</td>\n",
              "      <td>1.000078e+00</td>\n",
              "      <td>1.000078e+00</td>\n",
              "      <td>1.000078e+00</td>\n",
              "      <td>1.000078e+00</td>\n",
              "      <td>1.000078e+00</td>\n",
              "      <td>1.000078e+00</td>\n",
              "      <td>1.000078e+00</td>\n",
              "      <td>1.000078e+00</td>\n",
              "      <td>1.000078e+00</td>\n",
              "      <td>1.000078e+00</td>\n",
              "    </tr>\n",
              "    <tr>\n",
              "      <th>min</th>\n",
              "      <td>-4.049025e-01</td>\n",
              "      <td>-3.497560e-01</td>\n",
              "      <td>-3.125010e-01</td>\n",
              "      <td>-8.033159e-01</td>\n",
              "      <td>-2.603871e-01</td>\n",
              "      <td>-5.519409e-01</td>\n",
              "      <td>-6.164943e+00</td>\n",
              "      <td>-7.973580e-01</td>\n",
              "      <td>-6.832236e-01</td>\n",
              "      <td>-6.437464e-01</td>\n",
              "      <td>-8.107176e-01</td>\n",
              "      <td>-7.201735e-01</td>\n",
              "      <td>-6.381164e-01</td>\n",
              "      <td>-2.227858e+00</td>\n",
              "      <td>-1.029660e+00</td>\n",
              "      <td>-7.652776e-01</td>\n",
              "    </tr>\n",
              "    <tr>\n",
              "      <th>25%</th>\n",
              "      <td>-4.049025e-01</td>\n",
              "      <td>-3.497560e-01</td>\n",
              "      <td>-3.125010e-01</td>\n",
              "      <td>-8.033159e-01</td>\n",
              "      <td>-2.603871e-01</td>\n",
              "      <td>-5.519409e-01</td>\n",
              "      <td>-4.058073e-01</td>\n",
              "      <td>-5.830314e-01</td>\n",
              "      <td>-6.832236e-01</td>\n",
              "      <td>-6.437464e-01</td>\n",
              "      <td>-6.517589e-01</td>\n",
              "      <td>-6.703944e-01</td>\n",
              "      <td>-6.381164e-01</td>\n",
              "      <td>-3.096647e-01</td>\n",
              "      <td>-7.388117e-01</td>\n",
              "      <td>-7.652776e-01</td>\n",
              "    </tr>\n",
              "    <tr>\n",
              "      <th>50%</th>\n",
              "      <td>-4.049025e-01</td>\n",
              "      <td>-3.497560e-01</td>\n",
              "      <td>-3.125010e-01</td>\n",
              "      <td>-2.962709e-01</td>\n",
              "      <td>-2.603871e-01</td>\n",
              "      <td>-5.519409e-01</td>\n",
              "      <td>-8.585536e-02</td>\n",
              "      <td>-3.687047e-01</td>\n",
              "      <td>-2.214364e-01</td>\n",
              "      <td>-2.731290e-01</td>\n",
              "      <td>-3.338416e-01</td>\n",
              "      <td>-4.214986e-01</td>\n",
              "      <td>-4.457618e-01</td>\n",
              "      <td>1.085015e-01</td>\n",
              "      <td>-2.734545e-01</td>\n",
              "      <td>-3.091302e-01</td>\n",
              "    </tr>\n",
              "    <tr>\n",
              "      <th>75%</th>\n",
              "      <td>-4.049025e-01</td>\n",
              "      <td>-3.497560e-01</td>\n",
              "      <td>-3.125010e-01</td>\n",
              "      <td>4.837985e-01</td>\n",
              "      <td>-2.603871e-01</td>\n",
              "      <td>2.864817e-01</td>\n",
              "      <td>3.140846e-01</td>\n",
              "      <td>2.742754e-01</td>\n",
              "      <td>2.403509e-01</td>\n",
              "      <td>9.748835e-02</td>\n",
              "      <td>2.622533e-01</td>\n",
              "      <td>2.754095e-01</td>\n",
              "      <td>1.313020e-01</td>\n",
              "      <td>5.842135e-01</td>\n",
              "      <td>4.827511e-01</td>\n",
              "      <td>3.750908e-01</td>\n",
              "    </tr>\n",
              "    <tr>\n",
              "      <th>max</th>\n",
              "      <td>9.556319e+00</td>\n",
              "      <td>1.553681e+01</td>\n",
              "      <td>1.838471e+01</td>\n",
              "      <td>3.097031e+00</td>\n",
              "      <td>1.600368e+01</td>\n",
              "      <td>1.957020e+01</td>\n",
              "      <td>1.015261e+01</td>\n",
              "      <td>1.313388e+01</td>\n",
              "      <td>1.178503e+01</td>\n",
              "      <td>1.121601e+01</td>\n",
              "      <td>9.760032e+00</td>\n",
              "      <td>8.538748e+00</td>\n",
              "      <td>8.787260e+00</td>\n",
              "      <td>1.608529e+00</td>\n",
              "      <td>8.684673e+00</td>\n",
              "      <td>9.041891e+00</td>\n",
              "    </tr>\n",
              "  </tbody>\n",
              "</table>\n",
              "</div>\n",
              "      <button class=\"colab-df-convert\" onclick=\"convertToInteractive('df-f861c6b3-4a04-48c4-ab46-467c3d2f04e3')\"\n",
              "              title=\"Convert this dataframe to an interactive table.\"\n",
              "              style=\"display:none;\">\n",
              "        \n",
              "  <svg xmlns=\"http://www.w3.org/2000/svg\" height=\"24px\"viewBox=\"0 0 24 24\"\n",
              "       width=\"24px\">\n",
              "    <path d=\"M0 0h24v24H0V0z\" fill=\"none\"/>\n",
              "    <path d=\"M18.56 5.44l.94 2.06.94-2.06 2.06-.94-2.06-.94-.94-2.06-.94 2.06-2.06.94zm-11 1L8.5 8.5l.94-2.06 2.06-.94-2.06-.94L8.5 2.5l-.94 2.06-2.06.94zm10 10l.94 2.06.94-2.06 2.06-.94-2.06-.94-.94-2.06-.94 2.06-2.06.94z\"/><path d=\"M17.41 7.96l-1.37-1.37c-.4-.4-.92-.59-1.43-.59-.52 0-1.04.2-1.43.59L10.3 9.45l-7.72 7.72c-.78.78-.78 2.05 0 2.83L4 21.41c.39.39.9.59 1.41.59.51 0 1.02-.2 1.41-.59l7.78-7.78 2.81-2.81c.8-.78.8-2.07 0-2.86zM5.41 20L4 18.59l7.72-7.72 1.47 1.35L5.41 20z\"/>\n",
              "  </svg>\n",
              "      </button>\n",
              "      \n",
              "  <style>\n",
              "    .colab-df-container {\n",
              "      display:flex;\n",
              "      flex-wrap:wrap;\n",
              "      gap: 12px;\n",
              "    }\n",
              "\n",
              "    .colab-df-convert {\n",
              "      background-color: #E8F0FE;\n",
              "      border: none;\n",
              "      border-radius: 50%;\n",
              "      cursor: pointer;\n",
              "      display: none;\n",
              "      fill: #1967D2;\n",
              "      height: 32px;\n",
              "      padding: 0 0 0 0;\n",
              "      width: 32px;\n",
              "    }\n",
              "\n",
              "    .colab-df-convert:hover {\n",
              "      background-color: #E2EBFA;\n",
              "      box-shadow: 0px 1px 2px rgba(60, 64, 67, 0.3), 0px 1px 3px 1px rgba(60, 64, 67, 0.15);\n",
              "      fill: #174EA6;\n",
              "    }\n",
              "\n",
              "    [theme=dark] .colab-df-convert {\n",
              "      background-color: #3B4455;\n",
              "      fill: #D2E3FC;\n",
              "    }\n",
              "\n",
              "    [theme=dark] .colab-df-convert:hover {\n",
              "      background-color: #434B5C;\n",
              "      box-shadow: 0px 1px 3px 1px rgba(0, 0, 0, 0.15);\n",
              "      filter: drop-shadow(0px 1px 2px rgba(0, 0, 0, 0.3));\n",
              "      fill: #FFFFFF;\n",
              "    }\n",
              "  </style>\n",
              "\n",
              "      <script>\n",
              "        const buttonEl =\n",
              "          document.querySelector('#df-f861c6b3-4a04-48c4-ab46-467c3d2f04e3 button.colab-df-convert');\n",
              "        buttonEl.style.display =\n",
              "          google.colab.kernel.accessAllowed ? 'block' : 'none';\n",
              "\n",
              "        async function convertToInteractive(key) {\n",
              "          const element = document.querySelector('#df-f861c6b3-4a04-48c4-ab46-467c3d2f04e3');\n",
              "          const dataTable =\n",
              "            await google.colab.kernel.invokeFunction('convertToInteractive',\n",
              "                                                     [key], {});\n",
              "          if (!dataTable) return;\n",
              "\n",
              "          const docLinkHtml = 'Like what you see? Visit the ' +\n",
              "            '<a target=\"_blank\" href=https://colab.research.google.com/notebooks/data_table.ipynb>data table notebook</a>'\n",
              "            + ' to learn more about interactive tables.';\n",
              "          element.innerHTML = '';\n",
              "          dataTable['output_type'] = 'display_data';\n",
              "          await google.colab.output.renderOutput(dataTable, element);\n",
              "          const docLink = document.createElement('div');\n",
              "          docLink.innerHTML = docLinkHtml;\n",
              "          element.appendChild(docLink);\n",
              "        }\n",
              "      </script>\n",
              "    </div>\n",
              "  </div>\n",
              "  "
            ]
          },
          "metadata": {},
          "execution_count": 33
        }
      ]
    },
    {
      "cell_type": "code",
      "metadata": {
        "colab": {
          "base_uri": "https://localhost:8080/"
        },
        "id": "_Xar4aw9LgSo",
        "outputId": "9e3cb9b0-d0e6-4816-aff7-4556a58ffa4f"
      },
      "source": [
        "from sklearn.decomposition import PCA\n",
        "\n",
        "pca = PCA()\n",
        "pca.fit(data_scaled)\n",
        "cumsum = np.cumsum(pca.explained_variance_ratio_)\n",
        "d = np.argmax(cumsum>=0.90)+1\n",
        "\n",
        "print(d)"
      ],
      "execution_count": 34,
      "outputs": [
        {
          "output_type": "stream",
          "name": "stdout",
          "text": [
            "11\n"
          ]
        }
      ]
    },
    {
      "cell_type": "code",
      "metadata": {
        "colab": {
          "base_uri": "https://localhost:8080/",
          "height": 424
        },
        "id": "qsdjq8whLgSo",
        "scrolled": false,
        "outputId": "5e894101-a191-40e8-fa82-564b0303c1cf"
      },
      "source": [
        "# Processing PCA\n",
        "pca = PCA(n_components=10)\n",
        "X_redufced = pca.fit_transform(data_scaled)\n",
        "result = pd.DataFrame(X_redufced) \n",
        "result"
      ],
      "execution_count": 35,
      "outputs": [
        {
          "output_type": "execute_result",
          "data": {
            "text/plain": [
              "             0         1         2         3         4         5         6  \\\n",
              "0    -0.114021  0.794820  0.048132  0.200802 -0.006153 -1.066376  0.003152   \n",
              "1    -0.551850 -0.853237 -0.716878 -0.571188  0.403582 -1.100049 -0.342823   \n",
              "2     0.315503 -1.940694 -1.050466  0.383511 -0.964051  0.113453  2.835954   \n",
              "3    -0.388489 -1.180292  0.252729 -0.673271  0.133535 -0.622214 -0.683045   \n",
              "4     1.912225 -0.549556  0.277757 -1.349356  0.326239 -0.775639 -0.355057   \n",
              "...        ...       ...       ...       ...       ...       ...       ...   \n",
              "6416 -0.827285  1.094987  0.273594 -0.178586 -0.211198 -1.027333  0.736182   \n",
              "6417  0.516999 -2.980781  0.190652 -1.039191  0.502628 -0.332186 -1.255526   \n",
              "6418  4.581098  0.462026 -0.456580 -0.825325 -0.560257 -0.823766  0.060652   \n",
              "6419 -2.056018  0.202595 -0.099135  0.263833  0.272449 -1.826330  0.307526   \n",
              "6420 -1.750758  0.668921 -0.646665  0.116098 -0.319683  0.356444 -0.176668   \n",
              "\n",
              "             7         8         9  \n",
              "0    -0.097474  1.060440  0.537769  \n",
              "1     0.366134 -0.486845  0.221188  \n",
              "2    -1.176430  1.406322  0.348393  \n",
              "3     0.360870  0.093796 -0.738499  \n",
              "4    -1.582995  2.055626 -0.763453  \n",
              "...        ...       ...       ...  \n",
              "6416  0.214511  0.167914  0.213800  \n",
              "6417  0.732786 -0.755802 -0.151114  \n",
              "6418  0.448670  3.060358 -1.203156  \n",
              "6419 -0.434713 -0.190398 -0.103663  \n",
              "6420 -0.393541 -0.346361 -0.327183  \n",
              "\n",
              "[6421 rows x 10 columns]"
            ],
            "text/html": [
              "\n",
              "  <div id=\"df-15055dbe-6cc3-481c-af64-86ea86d64c78\">\n",
              "    <div class=\"colab-df-container\">\n",
              "      <div>\n",
              "<style scoped>\n",
              "    .dataframe tbody tr th:only-of-type {\n",
              "        vertical-align: middle;\n",
              "    }\n",
              "\n",
              "    .dataframe tbody tr th {\n",
              "        vertical-align: top;\n",
              "    }\n",
              "\n",
              "    .dataframe thead th {\n",
              "        text-align: right;\n",
              "    }\n",
              "</style>\n",
              "<table border=\"1\" class=\"dataframe\">\n",
              "  <thead>\n",
              "    <tr style=\"text-align: right;\">\n",
              "      <th></th>\n",
              "      <th>0</th>\n",
              "      <th>1</th>\n",
              "      <th>2</th>\n",
              "      <th>3</th>\n",
              "      <th>4</th>\n",
              "      <th>5</th>\n",
              "      <th>6</th>\n",
              "      <th>7</th>\n",
              "      <th>8</th>\n",
              "      <th>9</th>\n",
              "    </tr>\n",
              "  </thead>\n",
              "  <tbody>\n",
              "    <tr>\n",
              "      <th>0</th>\n",
              "      <td>-0.114021</td>\n",
              "      <td>0.794820</td>\n",
              "      <td>0.048132</td>\n",
              "      <td>0.200802</td>\n",
              "      <td>-0.006153</td>\n",
              "      <td>-1.066376</td>\n",
              "      <td>0.003152</td>\n",
              "      <td>-0.097474</td>\n",
              "      <td>1.060440</td>\n",
              "      <td>0.537769</td>\n",
              "    </tr>\n",
              "    <tr>\n",
              "      <th>1</th>\n",
              "      <td>-0.551850</td>\n",
              "      <td>-0.853237</td>\n",
              "      <td>-0.716878</td>\n",
              "      <td>-0.571188</td>\n",
              "      <td>0.403582</td>\n",
              "      <td>-1.100049</td>\n",
              "      <td>-0.342823</td>\n",
              "      <td>0.366134</td>\n",
              "      <td>-0.486845</td>\n",
              "      <td>0.221188</td>\n",
              "    </tr>\n",
              "    <tr>\n",
              "      <th>2</th>\n",
              "      <td>0.315503</td>\n",
              "      <td>-1.940694</td>\n",
              "      <td>-1.050466</td>\n",
              "      <td>0.383511</td>\n",
              "      <td>-0.964051</td>\n",
              "      <td>0.113453</td>\n",
              "      <td>2.835954</td>\n",
              "      <td>-1.176430</td>\n",
              "      <td>1.406322</td>\n",
              "      <td>0.348393</td>\n",
              "    </tr>\n",
              "    <tr>\n",
              "      <th>3</th>\n",
              "      <td>-0.388489</td>\n",
              "      <td>-1.180292</td>\n",
              "      <td>0.252729</td>\n",
              "      <td>-0.673271</td>\n",
              "      <td>0.133535</td>\n",
              "      <td>-0.622214</td>\n",
              "      <td>-0.683045</td>\n",
              "      <td>0.360870</td>\n",
              "      <td>0.093796</td>\n",
              "      <td>-0.738499</td>\n",
              "    </tr>\n",
              "    <tr>\n",
              "      <th>4</th>\n",
              "      <td>1.912225</td>\n",
              "      <td>-0.549556</td>\n",
              "      <td>0.277757</td>\n",
              "      <td>-1.349356</td>\n",
              "      <td>0.326239</td>\n",
              "      <td>-0.775639</td>\n",
              "      <td>-0.355057</td>\n",
              "      <td>-1.582995</td>\n",
              "      <td>2.055626</td>\n",
              "      <td>-0.763453</td>\n",
              "    </tr>\n",
              "    <tr>\n",
              "      <th>...</th>\n",
              "      <td>...</td>\n",
              "      <td>...</td>\n",
              "      <td>...</td>\n",
              "      <td>...</td>\n",
              "      <td>...</td>\n",
              "      <td>...</td>\n",
              "      <td>...</td>\n",
              "      <td>...</td>\n",
              "      <td>...</td>\n",
              "      <td>...</td>\n",
              "    </tr>\n",
              "    <tr>\n",
              "      <th>6416</th>\n",
              "      <td>-0.827285</td>\n",
              "      <td>1.094987</td>\n",
              "      <td>0.273594</td>\n",
              "      <td>-0.178586</td>\n",
              "      <td>-0.211198</td>\n",
              "      <td>-1.027333</td>\n",
              "      <td>0.736182</td>\n",
              "      <td>0.214511</td>\n",
              "      <td>0.167914</td>\n",
              "      <td>0.213800</td>\n",
              "    </tr>\n",
              "    <tr>\n",
              "      <th>6417</th>\n",
              "      <td>0.516999</td>\n",
              "      <td>-2.980781</td>\n",
              "      <td>0.190652</td>\n",
              "      <td>-1.039191</td>\n",
              "      <td>0.502628</td>\n",
              "      <td>-0.332186</td>\n",
              "      <td>-1.255526</td>\n",
              "      <td>0.732786</td>\n",
              "      <td>-0.755802</td>\n",
              "      <td>-0.151114</td>\n",
              "    </tr>\n",
              "    <tr>\n",
              "      <th>6418</th>\n",
              "      <td>4.581098</td>\n",
              "      <td>0.462026</td>\n",
              "      <td>-0.456580</td>\n",
              "      <td>-0.825325</td>\n",
              "      <td>-0.560257</td>\n",
              "      <td>-0.823766</td>\n",
              "      <td>0.060652</td>\n",
              "      <td>0.448670</td>\n",
              "      <td>3.060358</td>\n",
              "      <td>-1.203156</td>\n",
              "    </tr>\n",
              "    <tr>\n",
              "      <th>6419</th>\n",
              "      <td>-2.056018</td>\n",
              "      <td>0.202595</td>\n",
              "      <td>-0.099135</td>\n",
              "      <td>0.263833</td>\n",
              "      <td>0.272449</td>\n",
              "      <td>-1.826330</td>\n",
              "      <td>0.307526</td>\n",
              "      <td>-0.434713</td>\n",
              "      <td>-0.190398</td>\n",
              "      <td>-0.103663</td>\n",
              "    </tr>\n",
              "    <tr>\n",
              "      <th>6420</th>\n",
              "      <td>-1.750758</td>\n",
              "      <td>0.668921</td>\n",
              "      <td>-0.646665</td>\n",
              "      <td>0.116098</td>\n",
              "      <td>-0.319683</td>\n",
              "      <td>0.356444</td>\n",
              "      <td>-0.176668</td>\n",
              "      <td>-0.393541</td>\n",
              "      <td>-0.346361</td>\n",
              "      <td>-0.327183</td>\n",
              "    </tr>\n",
              "  </tbody>\n",
              "</table>\n",
              "<p>6421 rows × 10 columns</p>\n",
              "</div>\n",
              "      <button class=\"colab-df-convert\" onclick=\"convertToInteractive('df-15055dbe-6cc3-481c-af64-86ea86d64c78')\"\n",
              "              title=\"Convert this dataframe to an interactive table.\"\n",
              "              style=\"display:none;\">\n",
              "        \n",
              "  <svg xmlns=\"http://www.w3.org/2000/svg\" height=\"24px\"viewBox=\"0 0 24 24\"\n",
              "       width=\"24px\">\n",
              "    <path d=\"M0 0h24v24H0V0z\" fill=\"none\"/>\n",
              "    <path d=\"M18.56 5.44l.94 2.06.94-2.06 2.06-.94-2.06-.94-.94-2.06-.94 2.06-2.06.94zm-11 1L8.5 8.5l.94-2.06 2.06-.94-2.06-.94L8.5 2.5l-.94 2.06-2.06.94zm10 10l.94 2.06.94-2.06 2.06-.94-2.06-.94-.94-2.06-.94 2.06-2.06.94z\"/><path d=\"M17.41 7.96l-1.37-1.37c-.4-.4-.92-.59-1.43-.59-.52 0-1.04.2-1.43.59L10.3 9.45l-7.72 7.72c-.78.78-.78 2.05 0 2.83L4 21.41c.39.39.9.59 1.41.59.51 0 1.02-.2 1.41-.59l7.78-7.78 2.81-2.81c.8-.78.8-2.07 0-2.86zM5.41 20L4 18.59l7.72-7.72 1.47 1.35L5.41 20z\"/>\n",
              "  </svg>\n",
              "      </button>\n",
              "      \n",
              "  <style>\n",
              "    .colab-df-container {\n",
              "      display:flex;\n",
              "      flex-wrap:wrap;\n",
              "      gap: 12px;\n",
              "    }\n",
              "\n",
              "    .colab-df-convert {\n",
              "      background-color: #E8F0FE;\n",
              "      border: none;\n",
              "      border-radius: 50%;\n",
              "      cursor: pointer;\n",
              "      display: none;\n",
              "      fill: #1967D2;\n",
              "      height: 32px;\n",
              "      padding: 0 0 0 0;\n",
              "      width: 32px;\n",
              "    }\n",
              "\n",
              "    .colab-df-convert:hover {\n",
              "      background-color: #E2EBFA;\n",
              "      box-shadow: 0px 1px 2px rgba(60, 64, 67, 0.3), 0px 1px 3px 1px rgba(60, 64, 67, 0.15);\n",
              "      fill: #174EA6;\n",
              "    }\n",
              "\n",
              "    [theme=dark] .colab-df-convert {\n",
              "      background-color: #3B4455;\n",
              "      fill: #D2E3FC;\n",
              "    }\n",
              "\n",
              "    [theme=dark] .colab-df-convert:hover {\n",
              "      background-color: #434B5C;\n",
              "      box-shadow: 0px 1px 3px 1px rgba(0, 0, 0, 0.15);\n",
              "      filter: drop-shadow(0px 1px 2px rgba(0, 0, 0, 0.3));\n",
              "      fill: #FFFFFF;\n",
              "    }\n",
              "  </style>\n",
              "\n",
              "      <script>\n",
              "        const buttonEl =\n",
              "          document.querySelector('#df-15055dbe-6cc3-481c-af64-86ea86d64c78 button.colab-df-convert');\n",
              "        buttonEl.style.display =\n",
              "          google.colab.kernel.accessAllowed ? 'block' : 'none';\n",
              "\n",
              "        async function convertToInteractive(key) {\n",
              "          const element = document.querySelector('#df-15055dbe-6cc3-481c-af64-86ea86d64c78');\n",
              "          const dataTable =\n",
              "            await google.colab.kernel.invokeFunction('convertToInteractive',\n",
              "                                                     [key], {});\n",
              "          if (!dataTable) return;\n",
              "\n",
              "          const docLinkHtml = 'Like what you see? Visit the ' +\n",
              "            '<a target=\"_blank\" href=https://colab.research.google.com/notebooks/data_table.ipynb>data table notebook</a>'\n",
              "            + ' to learn more about interactive tables.';\n",
              "          element.innerHTML = '';\n",
              "          dataTable['output_type'] = 'display_data';\n",
              "          await google.colab.output.renderOutput(dataTable, element);\n",
              "          const docLink = document.createElement('div');\n",
              "          docLink.innerHTML = docLinkHtml;\n",
              "          element.appendChild(docLink);\n",
              "        }\n",
              "      </script>\n",
              "    </div>\n",
              "  </div>\n",
              "  "
            ]
          },
          "metadata": {},
          "execution_count": 35
        }
      ]
    },
    {
      "cell_type": "code",
      "metadata": {
        "colab": {
          "base_uri": "https://localhost:8080/",
          "height": 424
        },
        "id": "OYZXPmGFLgSp",
        "outputId": "2c40c459-2d13-4942-99f7-5ef85a063c63"
      },
      "source": [
        "# Applying the PCA result\n",
        "df4_fp = df3_fp.iloc[:,0:12]\n",
        "df4_fp = pd.concat([df4_fp, result], axis=1)\n",
        "df4_gk = df3_gk\n",
        "df4_fp"
      ],
      "execution_count": 36,
      "outputs": [
        {
          "output_type": "execute_result",
          "data": {
            "text/plain": [
              "      nationality  position  squad  foot  league   CL  WinCL  CLBestScorer  \\\n",
              "0              41         1      0     2       1  0.0    0.0           0.0   \n",
              "1              43         0     96     2       1  1.0    1.0           0.0   \n",
              "2              41         0      0     1       1  0.0    0.0           0.0   \n",
              "3              43         0     11     1       1  1.0    0.0           0.0   \n",
              "4              41         3      0     1       1  0.0    0.0           0.0   \n",
              "...           ...       ...    ...   ...     ...  ...    ...           ...   \n",
              "6416           89         1    128     2       3  0.0    0.0           0.0   \n",
              "6417           69         0    128     1       3  0.0    0.0           0.0   \n",
              "6418           41         1    128     2       3  0.0    0.0           0.0   \n",
              "6419           41         0    128     2       3  0.0    0.0           0.0   \n",
              "6420           89         0    128     1       3  0.0    0.0           0.0   \n",
              "\n",
              "      Season   age  ...         0         1         2         3         4  \\\n",
              "0          0  23.0  ... -0.114021  0.794820  0.048132  0.200802 -0.006153   \n",
              "1          0  24.0  ... -0.551850 -0.853237 -0.716878 -0.571188  0.403582   \n",
              "2          0  21.0  ...  0.315503 -1.940694 -1.050466  0.383511 -0.964051   \n",
              "3          0  23.0  ... -0.388489 -1.180292  0.252729 -0.673271  0.133535   \n",
              "4          0  31.0  ...  1.912225 -0.549556  0.277757 -1.349356  0.326239   \n",
              "...      ...   ...  ...       ...       ...       ...       ...       ...   \n",
              "6416       2  23.0  ... -0.827285  1.094987  0.273594 -0.178586 -0.211198   \n",
              "6417       2  29.0  ...  0.516999 -2.980781  0.190652 -1.039191  0.502628   \n",
              "6418       2  23.0  ...  4.581098  0.462026 -0.456580 -0.825325 -0.560257   \n",
              "6419       2  22.0  ... -2.056018  0.202595 -0.099135  0.263833  0.272449   \n",
              "6420       2  20.0  ... -1.750758  0.668921 -0.646665  0.116098 -0.319683   \n",
              "\n",
              "             5         6         7         8         9  \n",
              "0    -1.066376  0.003152 -0.097474  1.060440  0.537769  \n",
              "1    -1.100049 -0.342823  0.366134 -0.486845  0.221188  \n",
              "2     0.113453  2.835954 -1.176430  1.406322  0.348393  \n",
              "3    -0.622214 -0.683045  0.360870  0.093796 -0.738499  \n",
              "4    -0.775639 -0.355057 -1.582995  2.055626 -0.763453  \n",
              "...        ...       ...       ...       ...       ...  \n",
              "6416 -1.027333  0.736182  0.214511  0.167914  0.213800  \n",
              "6417 -0.332186 -1.255526  0.732786 -0.755802 -0.151114  \n",
              "6418 -0.823766  0.060652  0.448670  3.060358 -1.203156  \n",
              "6419 -1.826330  0.307526 -0.434713 -0.190398 -0.103663  \n",
              "6420  0.356444 -0.176668 -0.393541 -0.346361 -0.327183  \n",
              "\n",
              "[6421 rows x 22 columns]"
            ],
            "text/html": [
              "\n",
              "  <div id=\"df-a154f096-0b01-45ba-aa88-42684aa6563f\">\n",
              "    <div class=\"colab-df-container\">\n",
              "      <div>\n",
              "<style scoped>\n",
              "    .dataframe tbody tr th:only-of-type {\n",
              "        vertical-align: middle;\n",
              "    }\n",
              "\n",
              "    .dataframe tbody tr th {\n",
              "        vertical-align: top;\n",
              "    }\n",
              "\n",
              "    .dataframe thead th {\n",
              "        text-align: right;\n",
              "    }\n",
              "</style>\n",
              "<table border=\"1\" class=\"dataframe\">\n",
              "  <thead>\n",
              "    <tr style=\"text-align: right;\">\n",
              "      <th></th>\n",
              "      <th>nationality</th>\n",
              "      <th>position</th>\n",
              "      <th>squad</th>\n",
              "      <th>foot</th>\n",
              "      <th>league</th>\n",
              "      <th>CL</th>\n",
              "      <th>WinCL</th>\n",
              "      <th>CLBestScorer</th>\n",
              "      <th>Season</th>\n",
              "      <th>age</th>\n",
              "      <th>...</th>\n",
              "      <th>0</th>\n",
              "      <th>1</th>\n",
              "      <th>2</th>\n",
              "      <th>3</th>\n",
              "      <th>4</th>\n",
              "      <th>5</th>\n",
              "      <th>6</th>\n",
              "      <th>7</th>\n",
              "      <th>8</th>\n",
              "      <th>9</th>\n",
              "    </tr>\n",
              "  </thead>\n",
              "  <tbody>\n",
              "    <tr>\n",
              "      <th>0</th>\n",
              "      <td>41</td>\n",
              "      <td>1</td>\n",
              "      <td>0</td>\n",
              "      <td>2</td>\n",
              "      <td>1</td>\n",
              "      <td>0.0</td>\n",
              "      <td>0.0</td>\n",
              "      <td>0.0</td>\n",
              "      <td>0</td>\n",
              "      <td>23.0</td>\n",
              "      <td>...</td>\n",
              "      <td>-0.114021</td>\n",
              "      <td>0.794820</td>\n",
              "      <td>0.048132</td>\n",
              "      <td>0.200802</td>\n",
              "      <td>-0.006153</td>\n",
              "      <td>-1.066376</td>\n",
              "      <td>0.003152</td>\n",
              "      <td>-0.097474</td>\n",
              "      <td>1.060440</td>\n",
              "      <td>0.537769</td>\n",
              "    </tr>\n",
              "    <tr>\n",
              "      <th>1</th>\n",
              "      <td>43</td>\n",
              "      <td>0</td>\n",
              "      <td>96</td>\n",
              "      <td>2</td>\n",
              "      <td>1</td>\n",
              "      <td>1.0</td>\n",
              "      <td>1.0</td>\n",
              "      <td>0.0</td>\n",
              "      <td>0</td>\n",
              "      <td>24.0</td>\n",
              "      <td>...</td>\n",
              "      <td>-0.551850</td>\n",
              "      <td>-0.853237</td>\n",
              "      <td>-0.716878</td>\n",
              "      <td>-0.571188</td>\n",
              "      <td>0.403582</td>\n",
              "      <td>-1.100049</td>\n",
              "      <td>-0.342823</td>\n",
              "      <td>0.366134</td>\n",
              "      <td>-0.486845</td>\n",
              "      <td>0.221188</td>\n",
              "    </tr>\n",
              "    <tr>\n",
              "      <th>2</th>\n",
              "      <td>41</td>\n",
              "      <td>0</td>\n",
              "      <td>0</td>\n",
              "      <td>1</td>\n",
              "      <td>1</td>\n",
              "      <td>0.0</td>\n",
              "      <td>0.0</td>\n",
              "      <td>0.0</td>\n",
              "      <td>0</td>\n",
              "      <td>21.0</td>\n",
              "      <td>...</td>\n",
              "      <td>0.315503</td>\n",
              "      <td>-1.940694</td>\n",
              "      <td>-1.050466</td>\n",
              "      <td>0.383511</td>\n",
              "      <td>-0.964051</td>\n",
              "      <td>0.113453</td>\n",
              "      <td>2.835954</td>\n",
              "      <td>-1.176430</td>\n",
              "      <td>1.406322</td>\n",
              "      <td>0.348393</td>\n",
              "    </tr>\n",
              "    <tr>\n",
              "      <th>3</th>\n",
              "      <td>43</td>\n",
              "      <td>0</td>\n",
              "      <td>11</td>\n",
              "      <td>1</td>\n",
              "      <td>1</td>\n",
              "      <td>1.0</td>\n",
              "      <td>0.0</td>\n",
              "      <td>0.0</td>\n",
              "      <td>0</td>\n",
              "      <td>23.0</td>\n",
              "      <td>...</td>\n",
              "      <td>-0.388489</td>\n",
              "      <td>-1.180292</td>\n",
              "      <td>0.252729</td>\n",
              "      <td>-0.673271</td>\n",
              "      <td>0.133535</td>\n",
              "      <td>-0.622214</td>\n",
              "      <td>-0.683045</td>\n",
              "      <td>0.360870</td>\n",
              "      <td>0.093796</td>\n",
              "      <td>-0.738499</td>\n",
              "    </tr>\n",
              "    <tr>\n",
              "      <th>4</th>\n",
              "      <td>41</td>\n",
              "      <td>3</td>\n",
              "      <td>0</td>\n",
              "      <td>1</td>\n",
              "      <td>1</td>\n",
              "      <td>0.0</td>\n",
              "      <td>0.0</td>\n",
              "      <td>0.0</td>\n",
              "      <td>0</td>\n",
              "      <td>31.0</td>\n",
              "      <td>...</td>\n",
              "      <td>1.912225</td>\n",
              "      <td>-0.549556</td>\n",
              "      <td>0.277757</td>\n",
              "      <td>-1.349356</td>\n",
              "      <td>0.326239</td>\n",
              "      <td>-0.775639</td>\n",
              "      <td>-0.355057</td>\n",
              "      <td>-1.582995</td>\n",
              "      <td>2.055626</td>\n",
              "      <td>-0.763453</td>\n",
              "    </tr>\n",
              "    <tr>\n",
              "      <th>...</th>\n",
              "      <td>...</td>\n",
              "      <td>...</td>\n",
              "      <td>...</td>\n",
              "      <td>...</td>\n",
              "      <td>...</td>\n",
              "      <td>...</td>\n",
              "      <td>...</td>\n",
              "      <td>...</td>\n",
              "      <td>...</td>\n",
              "      <td>...</td>\n",
              "      <td>...</td>\n",
              "      <td>...</td>\n",
              "      <td>...</td>\n",
              "      <td>...</td>\n",
              "      <td>...</td>\n",
              "      <td>...</td>\n",
              "      <td>...</td>\n",
              "      <td>...</td>\n",
              "      <td>...</td>\n",
              "      <td>...</td>\n",
              "      <td>...</td>\n",
              "    </tr>\n",
              "    <tr>\n",
              "      <th>6416</th>\n",
              "      <td>89</td>\n",
              "      <td>1</td>\n",
              "      <td>128</td>\n",
              "      <td>2</td>\n",
              "      <td>3</td>\n",
              "      <td>0.0</td>\n",
              "      <td>0.0</td>\n",
              "      <td>0.0</td>\n",
              "      <td>2</td>\n",
              "      <td>23.0</td>\n",
              "      <td>...</td>\n",
              "      <td>-0.827285</td>\n",
              "      <td>1.094987</td>\n",
              "      <td>0.273594</td>\n",
              "      <td>-0.178586</td>\n",
              "      <td>-0.211198</td>\n",
              "      <td>-1.027333</td>\n",
              "      <td>0.736182</td>\n",
              "      <td>0.214511</td>\n",
              "      <td>0.167914</td>\n",
              "      <td>0.213800</td>\n",
              "    </tr>\n",
              "    <tr>\n",
              "      <th>6417</th>\n",
              "      <td>69</td>\n",
              "      <td>0</td>\n",
              "      <td>128</td>\n",
              "      <td>1</td>\n",
              "      <td>3</td>\n",
              "      <td>0.0</td>\n",
              "      <td>0.0</td>\n",
              "      <td>0.0</td>\n",
              "      <td>2</td>\n",
              "      <td>29.0</td>\n",
              "      <td>...</td>\n",
              "      <td>0.516999</td>\n",
              "      <td>-2.980781</td>\n",
              "      <td>0.190652</td>\n",
              "      <td>-1.039191</td>\n",
              "      <td>0.502628</td>\n",
              "      <td>-0.332186</td>\n",
              "      <td>-1.255526</td>\n",
              "      <td>0.732786</td>\n",
              "      <td>-0.755802</td>\n",
              "      <td>-0.151114</td>\n",
              "    </tr>\n",
              "    <tr>\n",
              "      <th>6418</th>\n",
              "      <td>41</td>\n",
              "      <td>1</td>\n",
              "      <td>128</td>\n",
              "      <td>2</td>\n",
              "      <td>3</td>\n",
              "      <td>0.0</td>\n",
              "      <td>0.0</td>\n",
              "      <td>0.0</td>\n",
              "      <td>2</td>\n",
              "      <td>23.0</td>\n",
              "      <td>...</td>\n",
              "      <td>4.581098</td>\n",
              "      <td>0.462026</td>\n",
              "      <td>-0.456580</td>\n",
              "      <td>-0.825325</td>\n",
              "      <td>-0.560257</td>\n",
              "      <td>-0.823766</td>\n",
              "      <td>0.060652</td>\n",
              "      <td>0.448670</td>\n",
              "      <td>3.060358</td>\n",
              "      <td>-1.203156</td>\n",
              "    </tr>\n",
              "    <tr>\n",
              "      <th>6419</th>\n",
              "      <td>41</td>\n",
              "      <td>0</td>\n",
              "      <td>128</td>\n",
              "      <td>2</td>\n",
              "      <td>3</td>\n",
              "      <td>0.0</td>\n",
              "      <td>0.0</td>\n",
              "      <td>0.0</td>\n",
              "      <td>2</td>\n",
              "      <td>22.0</td>\n",
              "      <td>...</td>\n",
              "      <td>-2.056018</td>\n",
              "      <td>0.202595</td>\n",
              "      <td>-0.099135</td>\n",
              "      <td>0.263833</td>\n",
              "      <td>0.272449</td>\n",
              "      <td>-1.826330</td>\n",
              "      <td>0.307526</td>\n",
              "      <td>-0.434713</td>\n",
              "      <td>-0.190398</td>\n",
              "      <td>-0.103663</td>\n",
              "    </tr>\n",
              "    <tr>\n",
              "      <th>6420</th>\n",
              "      <td>89</td>\n",
              "      <td>0</td>\n",
              "      <td>128</td>\n",
              "      <td>1</td>\n",
              "      <td>3</td>\n",
              "      <td>0.0</td>\n",
              "      <td>0.0</td>\n",
              "      <td>0.0</td>\n",
              "      <td>2</td>\n",
              "      <td>20.0</td>\n",
              "      <td>...</td>\n",
              "      <td>-1.750758</td>\n",
              "      <td>0.668921</td>\n",
              "      <td>-0.646665</td>\n",
              "      <td>0.116098</td>\n",
              "      <td>-0.319683</td>\n",
              "      <td>0.356444</td>\n",
              "      <td>-0.176668</td>\n",
              "      <td>-0.393541</td>\n",
              "      <td>-0.346361</td>\n",
              "      <td>-0.327183</td>\n",
              "    </tr>\n",
              "  </tbody>\n",
              "</table>\n",
              "<p>6421 rows × 22 columns</p>\n",
              "</div>\n",
              "      <button class=\"colab-df-convert\" onclick=\"convertToInteractive('df-a154f096-0b01-45ba-aa88-42684aa6563f')\"\n",
              "              title=\"Convert this dataframe to an interactive table.\"\n",
              "              style=\"display:none;\">\n",
              "        \n",
              "  <svg xmlns=\"http://www.w3.org/2000/svg\" height=\"24px\"viewBox=\"0 0 24 24\"\n",
              "       width=\"24px\">\n",
              "    <path d=\"M0 0h24v24H0V0z\" fill=\"none\"/>\n",
              "    <path d=\"M18.56 5.44l.94 2.06.94-2.06 2.06-.94-2.06-.94-.94-2.06-.94 2.06-2.06.94zm-11 1L8.5 8.5l.94-2.06 2.06-.94-2.06-.94L8.5 2.5l-.94 2.06-2.06.94zm10 10l.94 2.06.94-2.06 2.06-.94-2.06-.94-.94-2.06-.94 2.06-2.06.94z\"/><path d=\"M17.41 7.96l-1.37-1.37c-.4-.4-.92-.59-1.43-.59-.52 0-1.04.2-1.43.59L10.3 9.45l-7.72 7.72c-.78.78-.78 2.05 0 2.83L4 21.41c.39.39.9.59 1.41.59.51 0 1.02-.2 1.41-.59l7.78-7.78 2.81-2.81c.8-.78.8-2.07 0-2.86zM5.41 20L4 18.59l7.72-7.72 1.47 1.35L5.41 20z\"/>\n",
              "  </svg>\n",
              "      </button>\n",
              "      \n",
              "  <style>\n",
              "    .colab-df-container {\n",
              "      display:flex;\n",
              "      flex-wrap:wrap;\n",
              "      gap: 12px;\n",
              "    }\n",
              "\n",
              "    .colab-df-convert {\n",
              "      background-color: #E8F0FE;\n",
              "      border: none;\n",
              "      border-radius: 50%;\n",
              "      cursor: pointer;\n",
              "      display: none;\n",
              "      fill: #1967D2;\n",
              "      height: 32px;\n",
              "      padding: 0 0 0 0;\n",
              "      width: 32px;\n",
              "    }\n",
              "\n",
              "    .colab-df-convert:hover {\n",
              "      background-color: #E2EBFA;\n",
              "      box-shadow: 0px 1px 2px rgba(60, 64, 67, 0.3), 0px 1px 3px 1px rgba(60, 64, 67, 0.15);\n",
              "      fill: #174EA6;\n",
              "    }\n",
              "\n",
              "    [theme=dark] .colab-df-convert {\n",
              "      background-color: #3B4455;\n",
              "      fill: #D2E3FC;\n",
              "    }\n",
              "\n",
              "    [theme=dark] .colab-df-convert:hover {\n",
              "      background-color: #434B5C;\n",
              "      box-shadow: 0px 1px 3px 1px rgba(0, 0, 0, 0.15);\n",
              "      filter: drop-shadow(0px 1px 2px rgba(0, 0, 0, 0.3));\n",
              "      fill: #FFFFFF;\n",
              "    }\n",
              "  </style>\n",
              "\n",
              "      <script>\n",
              "        const buttonEl =\n",
              "          document.querySelector('#df-a154f096-0b01-45ba-aa88-42684aa6563f button.colab-df-convert');\n",
              "        buttonEl.style.display =\n",
              "          google.colab.kernel.accessAllowed ? 'block' : 'none';\n",
              "\n",
              "        async function convertToInteractive(key) {\n",
              "          const element = document.querySelector('#df-a154f096-0b01-45ba-aa88-42684aa6563f');\n",
              "          const dataTable =\n",
              "            await google.colab.kernel.invokeFunction('convertToInteractive',\n",
              "                                                     [key], {});\n",
              "          if (!dataTable) return;\n",
              "\n",
              "          const docLinkHtml = 'Like what you see? Visit the ' +\n",
              "            '<a target=\"_blank\" href=https://colab.research.google.com/notebooks/data_table.ipynb>data table notebook</a>'\n",
              "            + ' to learn more about interactive tables.';\n",
              "          element.innerHTML = '';\n",
              "          dataTable['output_type'] = 'display_data';\n",
              "          await google.colab.output.renderOutput(dataTable, element);\n",
              "          const docLink = document.createElement('div');\n",
              "          docLink.innerHTML = docLinkHtml;\n",
              "          element.appendChild(docLink);\n",
              "        }\n",
              "      </script>\n",
              "    </div>\n",
              "  </div>\n",
              "  "
            ]
          },
          "metadata": {},
          "execution_count": 36
        }
      ]
    },
    {
      "cell_type": "code",
      "metadata": {
        "colab": {
          "base_uri": "https://localhost:8080/",
          "height": 731
        },
        "id": "bipBPp5DLgSp",
        "scrolled": false,
        "outputId": "96338a8b-7cf4-4ca7-dabe-01511bcb3f36"
      },
      "source": [
        "# Checking the distribution of 'value'\n",
        "fig = plt.figure(figsize=(8,8))\n",
        "plt.hist(df3_fp['value'])\n",
        "plt.figure()"
      ],
      "execution_count": 37,
      "outputs": [
        {
          "output_type": "execute_result",
          "data": {
            "text/plain": [
              "<Figure size 640x480 with 0 Axes>"
            ]
          },
          "metadata": {},
          "execution_count": 37
        },
        {
          "output_type": "display_data",
          "data": {
            "text/plain": [
              "<Figure size 800x800 with 1 Axes>"
            ],
            "image/png": "[encoded data removed]"
          },
          "metadata": {}
        },
        {
          "output_type": "display_data",
          "data": {
            "text/plain": [
              "<Figure size 640x480 with 0 Axes>"
            ]
          },
          "metadata": {}
        }
      ]
    },
    {
      "cell_type": "code",
      "metadata": {
        "colab": {
          "base_uri": "https://localhost:8080/",
          "height": 312
        },
        "id": "qvzo8JOVLgSq",
        "outputId": "83ff99f5-24f4-49d3-d953-57a8127d2646"
      },
      "source": [
        "# Changing the column 'value' to 'log_value'\n",
        "df4_fp['log_value'] = np.log1p(df4_fp['value'])\n",
        "real_value = df4_fp['value']\n",
        "df4_fp.drop('value', axis=1, inplace=True)\n",
        "\n",
        "df4_gk['log_value'] = np.log1p(df4_gk['value'])\n",
        "real_value = df4_gk['value']\n",
        "df4_gk.drop('value', axis=1, inplace=True)\n",
        "\n",
        "df4_fp.head(1)"
      ],
      "execution_count": 38,
      "outputs": [
        {
          "output_type": "stream",
          "name": "stderr",
          "text": [
            "<ipython-input-38-63fbbb909cf4>:6: SettingWithCopyWarning: \n",
            "A value is trying to be set on a copy of a slice from a DataFrame.\n",
            "Try using .loc[row_indexer,col_indexer] = value instead\n",
            "\n",
            "See the caveats in the documentation: https://pandas.pydata.org/pandas-docs/stable/user_guide/indexing.html#returning-a-view-versus-a-copy\n",
            "  df4_gk['log_value'] = np.log1p(df4_gk['value'])\n",
            "<ipython-input-38-63fbbb909cf4>:8: SettingWithCopyWarning: \n",
            "A value is trying to be set on a copy of a slice from a DataFrame\n",
            "\n",
            "See the caveats in the documentation: https://pandas.pydata.org/pandas-docs/stable/user_guide/indexing.html#returning-a-view-versus-a-copy\n",
            "  df4_gk.drop('value', axis=1, inplace=True)\n"
          ]
        },
        {
          "output_type": "execute_result",
          "data": {
            "text/plain": [
              "   nationality  position  squad  foot  league   CL  WinCL  CLBestScorer  \\\n",
              "0           41         1      0     2       1  0.0    0.0           0.0   \n",
              "\n",
              "   Season   age  ...        1         2         3         4         5  \\\n",
              "0       0  23.0  ...  0.79482  0.048132  0.200802 -0.006153 -1.066376   \n",
              "\n",
              "          6         7        8         9  log_value  \n",
              "0  0.003152 -0.097474  1.06044  0.537769  14.403298  \n",
              "\n",
              "[1 rows x 22 columns]"
            ],
            "text/html": [
              "\n",
              "  <div id=\"df-bf29dfa4-62e4-4fe7-8b74-fda7762b189c\">\n",
              "    <div class=\"colab-df-container\">\n",
              "      <div>\n",
              "<style scoped>\n",
              "    .dataframe tbody tr th:only-of-type {\n",
              "        vertical-align: middle;\n",
              "    }\n",
              "\n",
              "    .dataframe tbody tr th {\n",
              "        vertical-align: top;\n",
              "    }\n",
              "\n",
              "    .dataframe thead th {\n",
              "        text-align: right;\n",
              "    }\n",
              "</style>\n",
              "<table border=\"1\" class=\"dataframe\">\n",
              "  <thead>\n",
              "    <tr style=\"text-align: right;\">\n",
              "      <th></th>\n",
              "      <th>nationality</th>\n",
              "      <th>position</th>\n",
              "      <th>squad</th>\n",
              "      <th>foot</th>\n",
              "      <th>league</th>\n",
              "      <th>CL</th>\n",
              "      <th>WinCL</th>\n",
              "      <th>CLBestScorer</th>\n",
              "      <th>Season</th>\n",
              "      <th>age</th>\n",
              "      <th>...</th>\n",
              "      <th>1</th>\n",
              "      <th>2</th>\n",
              "      <th>3</th>\n",
              "      <th>4</th>\n",
              "      <th>5</th>\n",
              "      <th>6</th>\n",
              "      <th>7</th>\n",
              "      <th>8</th>\n",
              "      <th>9</th>\n",
              "      <th>log_value</th>\n",
              "    </tr>\n",
              "  </thead>\n",
              "  <tbody>\n",
              "    <tr>\n",
              "      <th>0</th>\n",
              "      <td>41</td>\n",
              "      <td>1</td>\n",
              "      <td>0</td>\n",
              "      <td>2</td>\n",
              "      <td>1</td>\n",
              "      <td>0.0</td>\n",
              "      <td>0.0</td>\n",
              "      <td>0.0</td>\n",
              "      <td>0</td>\n",
              "      <td>23.0</td>\n",
              "      <td>...</td>\n",
              "      <td>0.79482</td>\n",
              "      <td>0.048132</td>\n",
              "      <td>0.200802</td>\n",
              "      <td>-0.006153</td>\n",
              "      <td>-1.066376</td>\n",
              "      <td>0.003152</td>\n",
              "      <td>-0.097474</td>\n",
              "      <td>1.06044</td>\n",
              "      <td>0.537769</td>\n",
              "      <td>14.403298</td>\n",
              "    </tr>\n",
              "  </tbody>\n",
              "</table>\n",
              "<p>1 rows × 22 columns</p>\n",
              "</div>\n",
              "      <button class=\"colab-df-convert\" onclick=\"convertToInteractive('df-bf29dfa4-62e4-4fe7-8b74-fda7762b189c')\"\n",
              "              title=\"Convert this dataframe to an interactive table.\"\n",
              "              style=\"display:none;\">\n",
              "        \n",
              "  <svg xmlns=\"http://www.w3.org/2000/svg\" height=\"24px\"viewBox=\"0 0 24 24\"\n",
              "       width=\"24px\">\n",
              "    <path d=\"M0 0h24v24H0V0z\" fill=\"none\"/>\n",
              "    <path d=\"M18.56 5.44l.94 2.06.94-2.06 2.06-.94-2.06-.94-.94-2.06-.94 2.06-2.06.94zm-11 1L8.5 8.5l.94-2.06 2.06-.94-2.06-.94L8.5 2.5l-.94 2.06-2.06.94zm10 10l.94 2.06.94-2.06 2.06-.94-2.06-.94-.94-2.06-.94 2.06-2.06.94z\"/><path d=\"M17.41 7.96l-1.37-1.37c-.4-.4-.92-.59-1.43-.59-.52 0-1.04.2-1.43.59L10.3 9.45l-7.72 7.72c-.78.78-.78 2.05 0 2.83L4 21.41c.39.39.9.59 1.41.59.51 0 1.02-.2 1.41-.59l7.78-7.78 2.81-2.81c.8-.78.8-2.07 0-2.86zM5.41 20L4 18.59l7.72-7.72 1.47 1.35L5.41 20z\"/>\n",
              "  </svg>\n",
              "      </button>\n",
              "      \n",
              "  <style>\n",
              "    .colab-df-container {\n",
              "      display:flex;\n",
              "      flex-wrap:wrap;\n",
              "      gap: 12px;\n",
              "    }\n",
              "\n",
              "    .colab-df-convert {\n",
              "      background-color: #E8F0FE;\n",
              "      border: none;\n",
              "      border-radius: 50%;\n",
              "      cursor: pointer;\n",
              "      display: none;\n",
              "      fill: #1967D2;\n",
              "      height: 32px;\n",
              "      padding: 0 0 0 0;\n",
              "      width: 32px;\n",
              "    }\n",
              "\n",
              "    .colab-df-convert:hover {\n",
              "      background-color: #E2EBFA;\n",
              "      box-shadow: 0px 1px 2px rgba(60, 64, 67, 0.3), 0px 1px 3px 1px rgba(60, 64, 67, 0.15);\n",
              "      fill: #174EA6;\n",
              "    }\n",
              "\n",
              "    [theme=dark] .colab-df-convert {\n",
              "      background-color: #3B4455;\n",
              "      fill: #D2E3FC;\n",
              "    }\n",
              "\n",
              "    [theme=dark] .colab-df-convert:hover {\n",
              "      background-color: #434B5C;\n",
              "      box-shadow: 0px 1px 3px 1px rgba(0, 0, 0, 0.15);\n",
              "      filter: drop-shadow(0px 1px 2px rgba(0, 0, 0, 0.3));\n",
              "      fill: #FFFFFF;\n",
              "    }\n",
              "  </style>\n",
              "\n",
              "      <script>\n",
              "        const buttonEl =\n",
              "          document.querySelector('#df-bf29dfa4-62e4-4fe7-8b74-fda7762b189c button.colab-df-convert');\n",
              "        buttonEl.style.display =\n",
              "          google.colab.kernel.accessAllowed ? 'block' : 'none';\n",
              "\n",
              "        async function convertToInteractive(key) {\n",
              "          const element = document.querySelector('#df-bf29dfa4-62e4-4fe7-8b74-fda7762b189c');\n",
              "          const dataTable =\n",
              "            await google.colab.kernel.invokeFunction('convertToInteractive',\n",
              "                                                     [key], {});\n",
              "          if (!dataTable) return;\n",
              "\n",
              "          const docLinkHtml = 'Like what you see? Visit the ' +\n",
              "            '<a target=\"_blank\" href=https://colab.research.google.com/notebooks/data_table.ipynb>data table notebook</a>'\n",
              "            + ' to learn more about interactive tables.';\n",
              "          element.innerHTML = '';\n",
              "          dataTable['output_type'] = 'display_data';\n",
              "          await google.colab.output.renderOutput(dataTable, element);\n",
              "          const docLink = document.createElement('div');\n",
              "          docLink.innerHTML = docLinkHtml;\n",
              "          element.appendChild(docLink);\n",
              "        }\n",
              "      </script>\n",
              "    </div>\n",
              "  </div>\n",
              "  "
            ]
          },
          "metadata": {},
          "execution_count": 38
        }
      ]
    },
    {
      "cell_type": "code",
      "metadata": {
        "colab": {
          "base_uri": "https://localhost:8080/",
          "height": 487
        },
        "id": "k1bAizFLLgSq",
        "outputId": "125d6f86-30f9-4faa-a5f4-9500fd636b5e"
      },
      "source": [
        "# Visualization for the distributions\n",
        "f, (ax1, ax2) = plt.subplots(1,2,figsize=(12,5))\n",
        "ax1.hist(real_value, bins=30)\n",
        "ax1.set_title('Price Distribution')\n",
        "ax1.set_xlabel('Price')\n",
        "\n",
        "ax2.hist(df4_fp['log_value'], bins=30)\n",
        "ax2.set_title('Log Price Distribution')\n",
        "ax2.set_xlabel('Log Price')\n",
        "plt.show()"
      ],
      "execution_count": 39,
      "outputs": [
        {
          "output_type": "display_data",
          "data": {
            "text/plain": [
              "<Figure size 1200x500 with 2 Axes>"
            ],
            "image/png": "[encoded data removed]"
          },
          "metadata": {}
        }
      ]
    },
    {
      "cell_type": "code",
      "metadata": {
        "colab": {
          "base_uri": "https://localhost:8080/",
          "height": 487
        },
        "id": "N2a62EW-LgSr",
        "outputId": "edf9069a-0811-495a-a081-298ed20c5801"
      },
      "source": [
        "# Same process for goalkeepers data\n",
        "f, (ax1, ax2) = plt.subplots(1,2,figsize=(12,5))\n",
        "ax1.hist(real_value, bins=30)\n",
        "ax1.set_title('Price Distribution')\n",
        "ax1.set_xlabel('Price')\n",
        "\n",
        "ax2.hist(df4_gk['log_value'], bins=30)\n",
        "ax2.set_title('Log Price Distribution')\n",
        "ax2.set_xlabel('Log Price')\n",
        "plt.show()"
      ],
      "execution_count": 40,
      "outputs": [
        {
          "output_type": "display_data",
          "data": {
            "text/plain": [
              "<Figure size 1200x500 with 2 Axes>"
            ],
            "image/png": "[encoded data removed]"
          },
          "metadata": {}
        }
      ]
    },
    {
      "cell_type": "markdown",
      "metadata": {
        "id": "mMQ18qNBLgSr"
      },
      "source": [
        "## Data modeling"
      ]
    },
    {
      "cell_type": "code",
      "metadata": {
        "colab": {
          "base_uri": "https://localhost:8080/"
        },
        "id": "le-G9dCGLgSs",
        "outputId": "e7142502-c8e0-4202-d430-57f54f34583f"
      },
      "source": [
        "!pip3 install optuna\n",
        "\n",
        "# Split the data into explanatory variables and response variable\n",
        "df_X = df4_fp.drop('log_value', axis=1)\n",
        "df_y = pd.DataFrame(df4_fp['log_value'])\n",
        "\n",
        "df_gk_X = df3_gk.drop('log_value', axis=1)\n",
        "df_gk_y = pd.DataFrame(df3_gk['log_value'])"
      ],
      "execution_count": 41,
      "outputs": [
        {
          "output_type": "stream",
          "name": "stdout",
          "text": [
            "Looking in indexes: https://pypi.org/simple, https://us-python.pkg.dev/colab-wheels/public/simple/\n",
            "Collecting optuna\n",
            "  Downloading optuna-3.1.1-py3-none-any.whl (365 kB)\n",
            "\u001b[2K     \u001b[90m━━━━━━━━━━━━━━━━━━━━━━━━━━━━━━━━━━━━━━━\u001b[0m \u001b[32m365.7/365.7 kB\u001b[0m \u001b[31m7.2 MB/s\u001b[0m eta \u001b[36m0:00:00\u001b[0m\n",
            "\u001b[?25hRequirement already satisfied: numpy in /usr/local/lib/python3.9/dist-packages (from optuna) (1.22.4)\n",
            "Collecting colorlog\n",
            "  Downloading colorlog-6.7.0-py2.py3-none-any.whl (11 kB)\n",
            "Requirement already satisfied: sqlalchemy>=1.3.0 in /usr/local/lib/python3.9/dist-packages (from optuna) (2.0.9)\n",
            "Requirement already satisfied: PyYAML in /usr/local/lib/python3.9/dist-packages (from optuna) (6.0)\n",
            "Requirement already satisfied: tqdm in /usr/local/lib/python3.9/dist-packages (from optuna) (4.65.0)\n",
            "Requirement already satisfied: packaging>=20.0 in /usr/local/lib/python3.9/dist-packages (from optuna) (23.1)\n",
            "Collecting alembic>=1.5.0\n",
            "  Downloading alembic-1.10.4-py3-none-any.whl (212 kB)\n",
            "\u001b[2K     \u001b[90m━━━━━━━━━━━━━━━━━━━━━━━━━━━━━━━━━━━━━━\u001b[0m \u001b[32m212.9/212.9 kB\u001b[0m \u001b[31m18.2 MB/s\u001b[0m eta \u001b[36m0:00:00\u001b[0m\n",
            "\u001b[?25hCollecting cmaes>=0.9.1\n",
            "  Downloading cmaes-0.9.1-py3-none-any.whl (21 kB)\n",
            "Requirement already satisfied: typing-extensions>=4 in /usr/local/lib/python3.9/dist-packages (from alembic>=1.5.0->optuna) (4.5.0)\n",
            "Collecting Mako\n",
            "  Downloading Mako-1.2.4-py3-none-any.whl (78 kB)\n",
            "\u001b[2K     \u001b[90m━━━━━━━━━━━━━━━━━━━━━━━━━━━━━━━━━━━━━━━━\u001b[0m \u001b[32m78.7/78.7 kB\u001b[0m \u001b[31m8.2 MB/s\u001b[0m eta \u001b[36m0:00:00\u001b[0m\n",
            "\u001b[?25hRequirement already satisfied: greenlet!=0.4.17 in /usr/local/lib/python3.9/dist-packages (from sqlalchemy>=1.3.0->optuna) (2.0.2)\n",
            "Requirement already satisfied: MarkupSafe>=0.9.2 in /usr/local/lib/python3.9/dist-packages (from Mako->alembic>=1.5.0->optuna) (2.1.2)\n",
            "Installing collected packages: Mako, colorlog, cmaes, alembic, optuna\n",
            "Successfully installed Mako-1.2.4 alembic-1.10.4 cmaes-0.9.1 colorlog-6.7.0 optuna-3.1.1\n"
          ]
        }
      ]
    },
    {
      "cell_type": "code",
      "metadata": {
        "id": "nK85wyd2LgSs"
      },
      "source": [
        "from sklearn.model_selection import train_test_split\n",
        "X_train, X_test, y_train, y_test = train_test_split(df_X, df_y, test_size=0.2, random_state=2012)\n",
        "X_train_gk, X_test_gk, y_train_gk, y_test_gk = train_test_split(df_gk_X, df_gk_y, test_size=0.2, random_state=2012)"
      ],
      "execution_count": 42,
      "outputs": []
    },
    {
      "cell_type": "code",
      "metadata": {
        "colab": {
          "base_uri": "https://localhost:8080/"
        },
        "id": "LtVw-bmsLgSs",
        "outputId": "ece8c91c-892e-4d79-a5ae-c9eb8368c38d"
      },
      "source": [
        "# Field players\n",
        "print(X_train.shape)\n",
        "print(X_test.shape)\n",
        "print(y_train.shape)\n",
        "print(y_test.shape)\n",
        "# Goalkeepers\n",
        "print(X_train_gk.shape)\n",
        "print(X_test_gk.shape)\n",
        "print(y_train_gk.shape)\n",
        "print(y_test_gk.shape)"
      ],
      "execution_count": 43,
      "outputs": [
        {
          "output_type": "stream",
          "name": "stdout",
          "text": [
            "(5136, 21)\n",
            "(1285, 21)\n",
            "(5136, 1)\n",
            "(1285, 1)\n",
            "(424, 15)\n",
            "(107, 15)\n",
            "(424, 1)\n",
            "(107, 1)\n"
          ]
        }
      ]
    },
    {
      "cell_type": "code",
      "metadata": {
        "colab": {
          "base_uri": "https://localhost:8080/"
        },
        "id": "zMNciq98LgSs",
        "scrolled": true,
        "outputId": "d89e7f0e-6429-4f64-975d-4d9dc65f8f1b"
      },
      "source": [
        "# Modeling\n",
        "def my_regressor(df_X, df_y):\n",
        "  from sklearn.linear_model import LinearRegression\n",
        "  from sklearn.linear_model import Ridge, Lasso, ElasticNet\n",
        "  from sklearn.linear_model import ARDRegression, BayesianRidge\n",
        "  from sklearn.ensemble import RandomForestRegressor\n",
        "  from xgboost import XGBRegressor\n",
        "  from sklearn.model_selection import cross_val_score\n",
        "  \n",
        "  import ast\n",
        "  \n",
        "  linear = LinearRegression()\n",
        "  ridge, lasso, elasticnet = Ridge(), Lasso(), ElasticNet()\n",
        "  ardr_linear, baysian_ridge = ARDRegression(), BayesianRidge()\n",
        "  random_forest = RandomForestRegressor()\n",
        "  xgboost_linear = XGBRegressor()\n",
        "\n",
        "  my_model_list = ['linear','ridge','lasso','elasticnet','ardr_linear','baysian_ridge','random_forest','xgboost_linear']\n",
        "  \n",
        "  for model_nm in my_model_list:\n",
        "    if model_nm == 'linear':\n",
        "      model = LinearRegression()\n",
        "    elif model_nm == 'ridge':\n",
        "      model = Ridge()\n",
        "    elif model_nm == 'lasso':\n",
        "      model = Lasso()\n",
        "    elif model_nm == 'elasticnet':\n",
        "      model = ElasticNet()\n",
        "    elif model_nm == 'ardr_linear':\n",
        "      model = ARDRegression()\n",
        "    elif model_nm == 'baysian_ridge':\n",
        "      model = BayesianRidge()\n",
        "    elif model_nm == 'random_forest':\n",
        "      model = RandomForestRegressor()\n",
        "    elif model_nm == 'xgboost_linear':\n",
        "      model = XGBRegressor()\n",
        "\n",
        "  score_dic = dict()\n",
        "\n",
        "  for model_nm in my_model_list:\n",
        "    scores = cross_val_score(model, df_X, df_y, scoring = \"neg_mean_squared_error\", cv=5)\n",
        "    rmse_score = np.sqrt(-scores)\n",
        "    rmse_sm = rmse_score.mean()\n",
        "    score_dic[model_nm] = rmse_sm\n",
        "\n",
        "  score_dic = sorted(score_dic.items(), key=lambda t : t[1])\n",
        "\n",
        "  return score_dic\n",
        "\n",
        "linear_model_train_score = my_regressor(X_train, y_train)\n",
        "linear_model_train_score_gk = my_regressor(X_train_gk, y_train_gk)\n",
        "print(linear_model_train_score)\n",
        "print(linear_model_train_score_gk)"
      ],
      "execution_count": 47,
      "outputs": [
        {
          "output_type": "stream",
          "name": "stdout",
          "text": [
            "[('linear', 1.3021809507787743), ('ridge', 1.3021809507787743), ('lasso', 1.3021809507787743), ('elasticnet', 1.3021809507787743), ('ardr_linear', 1.3021809507787743), ('baysian_ridge', 1.3021809507787743), ('random_forest', 1.3021809507787743), ('xgboost_linear', 1.3021809507787743)]\n",
            "[('linear', 1.5908761304730263), ('ridge', 1.5908761304730263), ('lasso', 1.5908761304730263), ('elasticnet', 1.5908761304730263), ('ardr_linear', 1.5908761304730263), ('baysian_ridge', 1.5908761304730263), ('random_forest', 1.5908761304730263), ('xgboost_linear', 1.5908761304730263)]\n"
          ]
        }
      ]
    },
    {
      "cell_type": "code",
      "metadata": {
        "colab": {
          "base_uri": "https://localhost:8080/"
        },
        "id": "jZoarEw0LgSt",
        "scrolled": true,
        "outputId": "8334eea4-5380-4121-890b-d0d0912ec0ef"
      },
      "source": [
        "# Hyper-parameter tuning for Field players\n",
        "import xgboost as xgb\n",
        "from sklearn.model_selection import KFold\n",
        "import optuna\n",
        "from optuna import Trial\n",
        "from optuna.samplers import TPESampler\n",
        "from xgboost import XGBRegressor\n",
        "from sklearn.model_selection import KFold\n",
        "from sklearn.metrics import mean_squared_error\n",
        "\n",
        "def objective(trial):\n",
        "\n",
        "    kf = KFold(n_splits=10, shuffle=True)\n",
        "    \n",
        "    param = {\n",
        "        'lambda': trial.suggest_loguniform('lambda', 1e-3, 10.0),\n",
        "        'alpha': trial.suggest_loguniform('alpha', 1e-3, 10.0),\n",
        "        'colsample_bytree': trial.suggest_categorical('colsample_bytree', [0.3,0.4,0.5,0.6,0.7,0.8,0.9, 1.0]),\n",
        "        'subsample': trial.suggest_categorical('subsample', [0.4,0.5,0.6,0.7,0.8,1.0]),\n",
        "        'learning_rate': trial.suggest_categorical('learning_rate', [0.008,0.009,0.01,0.012,0.014,0.016,0.018, 0.02]),\n",
        "        'n_estimators': 4000,\n",
        "        'max_depth': trial.suggest_categorical('max_depth', [5,7,9,11,13,15,17,20]),\n",
        "        'random_state': trial.suggest_categorical('random_state', [24, 48,2020]),\n",
        "        'min_child_weight': trial.suggest_int('min_child_weight', 1, 300),\n",
        "        'folds' : kf\n",
        "    }\n",
        "    model = xgb.XGBRegressor(**param)  \n",
        "    \n",
        "    model.fit(X_train,y_train,eval_set=[(X_train, y_train),(X_test,y_test)],early_stopping_rounds=100,verbose=False)\n",
        "    \n",
        "    preds = model.predict(X_test)\n",
        "    \n",
        "    rmse = mean_squared_error(y_test, preds,squared=False)\n",
        "    \n",
        "    return rmse\n",
        "\n",
        "study = optuna.create_study(direction='minimize')\n",
        "study.optimize(objective, n_trials=100)\n",
        "print('Number of finished trials:', len(study.trials))\n",
        "print('Best trial:', study.best_trial.params)"
      ],
      "execution_count": 48,
      "outputs": [
        {
          "output_type": "stream",
          "name": "stderr",
          "text": [
            "\u001b[32m[I 2023-04-25 07:31:13,412]\u001b[0m A new study created in memory with name: no-name-4bd775ca-d79d-4c52-a427-7fd9a3200010\u001b[0m\n",
            "<ipython-input-48-f880d349052c>:16: FutureWarning: suggest_loguniform has been deprecated in v3.0.0. This feature will be removed in v6.0.0. See https://github.com/optuna/optuna/releases/tag/v3.0.0. Use :func:`~optuna.trial.Trial.suggest_float` instead.\n",
            "  'lambda': trial.suggest_loguniform('lambda', 1e-3, 10.0),\n",
            "<ipython-input-48-f880d349052c>:17: FutureWarning: suggest_loguniform has been deprecated in v3.0.0. This feature will be removed in v6.0.0. See https://github.com/optuna/optuna/releases/tag/v3.0.0. Use :func:`~optuna.trial.Trial.suggest_float` instead.\n",
            "  'alpha': trial.suggest_loguniform('alpha', 1e-3, 10.0),\n",
            "/usr/local/lib/python3.9/dist-packages/xgboost/sklearn.py:835: UserWarning: `early_stopping_rounds` in `fit` method is deprecated for better compatibility with scikit-learn, use `early_stopping_rounds` in constructor or`set_params` instead.\n",
            "  warnings.warn(\n"
          ]
        },
        {
          "output_type": "stream",
          "name": "stdout",
          "text": [
            "[07:31:13] WARNING: ../src/learner.cc:767: \n",
            "Parameters: { \"folds\" } are not used.\n",
            "\n"
          ]
        },
        {
          "output_type": "stream",
          "name": "stderr",
          "text": [
            "\u001b[32m[I 2023-04-25 07:31:54,546]\u001b[0m Trial 0 finished with value: 1.1999199887382213 and parameters: {'lambda': 2.6449137930676647, 'alpha': 1.126476220482965, 'colsample_bytree': 0.6, 'subsample': 0.7, 'learning_rate': 0.008, 'max_depth': 11, 'random_state': 2020, 'min_child_weight': 42}. Best is trial 0 with value: 1.1999199887382213.\u001b[0m\n",
            "<ipython-input-48-f880d349052c>:16: FutureWarning: suggest_loguniform has been deprecated in v3.0.0. This feature will be removed in v6.0.0. See https://github.com/optuna/optuna/releases/tag/v3.0.0. Use :func:`~optuna.trial.Trial.suggest_float` instead.\n",
            "  'lambda': trial.suggest_loguniform('lambda', 1e-3, 10.0),\n",
            "<ipython-input-48-f880d349052c>:17: FutureWarning: suggest_loguniform has been deprecated in v3.0.0. This feature will be removed in v6.0.0. See https://github.com/optuna/optuna/releases/tag/v3.0.0. Use :func:`~optuna.trial.Trial.suggest_float` instead.\n",
            "  'alpha': trial.suggest_loguniform('alpha', 1e-3, 10.0),\n",
            "/usr/local/lib/python3.9/dist-packages/xgboost/sklearn.py:835: UserWarning: `early_stopping_rounds` in `fit` method is deprecated for better compatibility with scikit-learn, use `early_stopping_rounds` in constructor or`set_params` instead.\n",
            "  warnings.warn(\n"
          ]
        },
        {
          "output_type": "stream",
          "name": "stdout",
          "text": [
            "[07:31:54] WARNING: ../src/learner.cc:767: \n",
            "Parameters: { \"folds\" } are not used.\n",
            "\n"
          ]
        },
        {
          "output_type": "stream",
          "name": "stderr",
          "text": [
            "\u001b[32m[I 2023-04-25 07:32:15,310]\u001b[0m Trial 1 finished with value: 1.2585047618400502 and parameters: {'lambda': 0.06514737627841048, 'alpha': 0.007755660804742296, 'colsample_bytree': 0.4, 'subsample': 0.7, 'learning_rate': 0.01, 'max_depth': 17, 'random_state': 24, 'min_child_weight': 162}. Best is trial 0 with value: 1.1999199887382213.\u001b[0m\n",
            "<ipython-input-48-f880d349052c>:16: FutureWarning: suggest_loguniform has been deprecated in v3.0.0. This feature will be removed in v6.0.0. See https://github.com/optuna/optuna/releases/tag/v3.0.0. Use :func:`~optuna.trial.Trial.suggest_float` instead.\n",
            "  'lambda': trial.suggest_loguniform('lambda', 1e-3, 10.0),\n",
            "<ipython-input-48-f880d349052c>:17: FutureWarning: suggest_loguniform has been deprecated in v3.0.0. This feature will be removed in v6.0.0. See https://github.com/optuna/optuna/releases/tag/v3.0.0. Use :func:`~optuna.trial.Trial.suggest_float` instead.\n",
            "  'alpha': trial.suggest_loguniform('alpha', 1e-3, 10.0),\n",
            "/usr/local/lib/python3.9/dist-packages/xgboost/sklearn.py:835: UserWarning: `early_stopping_rounds` in `fit` method is deprecated for better compatibility with scikit-learn, use `early_stopping_rounds` in constructor or`set_params` instead.\n",
            "  warnings.warn(\n"
          ]
        },
        {
          "output_type": "stream",
          "name": "stdout",
          "text": [
            "[07:32:15] WARNING: ../src/learner.cc:767: \n",
            "Parameters: { \"folds\" } are not used.\n",
            "\n"
          ]
        },
        {
          "output_type": "stream",
          "name": "stderr",
          "text": [
            "\u001b[32m[I 2023-04-25 07:32:37,413]\u001b[0m Trial 2 finished with value: 1.311108046473122 and parameters: {'lambda': 0.003602030588048829, 'alpha': 9.877414295983671, 'colsample_bytree': 0.9, 'subsample': 0.5, 'learning_rate': 0.018, 'max_depth': 9, 'random_state': 24, 'min_child_weight': 266}. Best is trial 0 with value: 1.1999199887382213.\u001b[0m\n",
            "<ipython-input-48-f880d349052c>:16: FutureWarning: suggest_loguniform has been deprecated in v3.0.0. This feature will be removed in v6.0.0. See https://github.com/optuna/optuna/releases/tag/v3.0.0. Use :func:`~optuna.trial.Trial.suggest_float` instead.\n",
            "  'lambda': trial.suggest_loguniform('lambda', 1e-3, 10.0),\n",
            "<ipython-input-48-f880d349052c>:17: FutureWarning: suggest_loguniform has been deprecated in v3.0.0. This feature will be removed in v6.0.0. See https://github.com/optuna/optuna/releases/tag/v3.0.0. Use :func:`~optuna.trial.Trial.suggest_float` instead.\n",
            "  'alpha': trial.suggest_loguniform('alpha', 1e-3, 10.0),\n",
            "/usr/local/lib/python3.9/dist-packages/xgboost/sklearn.py:835: UserWarning: `early_stopping_rounds` in `fit` method is deprecated for better compatibility with scikit-learn, use `early_stopping_rounds` in constructor or`set_params` instead.\n",
            "  warnings.warn(\n"
          ]
        },
        {
          "output_type": "stream",
          "name": "stdout",
          "text": [
            "[07:32:37] WARNING: ../src/learner.cc:767: \n",
            "Parameters: { \"folds\" } are not used.\n",
            "\n"
          ]
        },
        {
          "output_type": "stream",
          "name": "stderr",
          "text": [
            "\u001b[32m[I 2023-04-25 07:32:53,084]\u001b[0m Trial 3 finished with value: 1.276284313913168 and parameters: {'lambda': 0.3554765646718139, 'alpha': 3.661220487140072, 'colsample_bytree': 0.9, 'subsample': 0.7, 'learning_rate': 0.02, 'max_depth': 20, 'random_state': 24, 'min_child_weight': 234}. Best is trial 0 with value: 1.1999199887382213.\u001b[0m\n",
            "<ipython-input-48-f880d349052c>:16: FutureWarning: suggest_loguniform has been deprecated in v3.0.0. This feature will be removed in v6.0.0. See https://github.com/optuna/optuna/releases/tag/v3.0.0. Use :func:`~optuna.trial.Trial.suggest_float` instead.\n",
            "  'lambda': trial.suggest_loguniform('lambda', 1e-3, 10.0),\n",
            "<ipython-input-48-f880d349052c>:17: FutureWarning: suggest_loguniform has been deprecated in v3.0.0. This feature will be removed in v6.0.0. See https://github.com/optuna/optuna/releases/tag/v3.0.0. Use :func:`~optuna.trial.Trial.suggest_float` instead.\n",
            "  'alpha': trial.suggest_loguniform('alpha', 1e-3, 10.0),\n",
            "/usr/local/lib/python3.9/dist-packages/xgboost/sklearn.py:835: UserWarning: `early_stopping_rounds` in `fit` method is deprecated for better compatibility with scikit-learn, use `early_stopping_rounds` in constructor or`set_params` instead.\n",
            "  warnings.warn(\n"
          ]
        },
        {
          "output_type": "stream",
          "name": "stdout",
          "text": [
            "[07:32:53] WARNING: ../src/learner.cc:767: \n",
            "Parameters: { \"folds\" } are not used.\n",
            "\n"
          ]
        },
        {
          "output_type": "stream",
          "name": "stderr",
          "text": [
            "\u001b[32m[I 2023-04-25 07:33:21,607]\u001b[0m Trial 4 finished with value: 1.274655862557837 and parameters: {'lambda': 0.03629287756847684, 'alpha': 0.006458339800700777, 'colsample_bytree': 0.7, 'subsample': 0.8, 'learning_rate': 0.012, 'max_depth': 17, 'random_state': 24, 'min_child_weight': 269}. Best is trial 0 with value: 1.1999199887382213.\u001b[0m\n",
            "<ipython-input-48-f880d349052c>:16: FutureWarning: suggest_loguniform has been deprecated in v3.0.0. This feature will be removed in v6.0.0. See https://github.com/optuna/optuna/releases/tag/v3.0.0. Use :func:`~optuna.trial.Trial.suggest_float` instead.\n",
            "  'lambda': trial.suggest_loguniform('lambda', 1e-3, 10.0),\n",
            "<ipython-input-48-f880d349052c>:17: FutureWarning: suggest_loguniform has been deprecated in v3.0.0. This feature will be removed in v6.0.0. See https://github.com/optuna/optuna/releases/tag/v3.0.0. Use :func:`~optuna.trial.Trial.suggest_float` instead.\n",
            "  'alpha': trial.suggest_loguniform('alpha', 1e-3, 10.0),\n",
            "/usr/local/lib/python3.9/dist-packages/xgboost/sklearn.py:835: UserWarning: `early_stopping_rounds` in `fit` method is deprecated for better compatibility with scikit-learn, use `early_stopping_rounds` in constructor or`set_params` instead.\n",
            "  warnings.warn(\n"
          ]
        },
        {
          "output_type": "stream",
          "name": "stdout",
          "text": [
            "[07:33:21] WARNING: ../src/learner.cc:767: \n",
            "Parameters: { \"folds\" } are not used.\n",
            "\n"
          ]
        },
        {
          "output_type": "stream",
          "name": "stderr",
          "text": [
            "\u001b[32m[I 2023-04-25 07:33:56,429]\u001b[0m Trial 5 finished with value: 1.200022819681766 and parameters: {'lambda': 3.2145629877744826, 'alpha': 0.04386103851436957, 'colsample_bytree': 0.8, 'subsample': 0.5, 'learning_rate': 0.008, 'max_depth': 13, 'random_state': 48, 'min_child_weight': 17}. Best is trial 0 with value: 1.1999199887382213.\u001b[0m\n",
            "<ipython-input-48-f880d349052c>:16: FutureWarning: suggest_loguniform has been deprecated in v3.0.0. This feature will be removed in v6.0.0. See https://github.com/optuna/optuna/releases/tag/v3.0.0. Use :func:`~optuna.trial.Trial.suggest_float` instead.\n",
            "  'lambda': trial.suggest_loguniform('lambda', 1e-3, 10.0),\n",
            "<ipython-input-48-f880d349052c>:17: FutureWarning: suggest_loguniform has been deprecated in v3.0.0. This feature will be removed in v6.0.0. See https://github.com/optuna/optuna/releases/tag/v3.0.0. Use :func:`~optuna.trial.Trial.suggest_float` instead.\n",
            "  'alpha': trial.suggest_loguniform('alpha', 1e-3, 10.0),\n",
            "/usr/local/lib/python3.9/dist-packages/xgboost/sklearn.py:835: UserWarning: `early_stopping_rounds` in `fit` method is deprecated for better compatibility with scikit-learn, use `early_stopping_rounds` in constructor or`set_params` instead.\n",
            "  warnings.warn(\n"
          ]
        },
        {
          "output_type": "stream",
          "name": "stdout",
          "text": [
            "[07:33:56] WARNING: ../src/learner.cc:767: \n",
            "Parameters: { \"folds\" } are not used.\n",
            "\n"
          ]
        },
        {
          "output_type": "stream",
          "name": "stderr",
          "text": [
            "\u001b[32m[I 2023-04-25 07:34:24,127]\u001b[0m Trial 6 finished with value: 1.2975618379630727 and parameters: {'lambda': 0.39298155880953395, 'alpha': 0.0744329863550653, 'colsample_bytree': 1.0, 'subsample': 0.5, 'learning_rate': 0.014, 'max_depth': 15, 'random_state': 24, 'min_child_weight': 233}. Best is trial 0 with value: 1.1999199887382213.\u001b[0m\n",
            "<ipython-input-48-f880d349052c>:16: FutureWarning: suggest_loguniform has been deprecated in v3.0.0. This feature will be removed in v6.0.0. See https://github.com/optuna/optuna/releases/tag/v3.0.0. Use :func:`~optuna.trial.Trial.suggest_float` instead.\n",
            "  'lambda': trial.suggest_loguniform('lambda', 1e-3, 10.0),\n",
            "<ipython-input-48-f880d349052c>:17: FutureWarning: suggest_loguniform has been deprecated in v3.0.0. This feature will be removed in v6.0.0. See https://github.com/optuna/optuna/releases/tag/v3.0.0. Use :func:`~optuna.trial.Trial.suggest_float` instead.\n",
            "  'alpha': trial.suggest_loguniform('alpha', 1e-3, 10.0),\n",
            "/usr/local/lib/python3.9/dist-packages/xgboost/sklearn.py:835: UserWarning: `early_stopping_rounds` in `fit` method is deprecated for better compatibility with scikit-learn, use `early_stopping_rounds` in constructor or`set_params` instead.\n",
            "  warnings.warn(\n"
          ]
        },
        {
          "output_type": "stream",
          "name": "stdout",
          "text": [
            "[07:34:24] WARNING: ../src/learner.cc:767: \n",
            "Parameters: { \"folds\" } are not used.\n",
            "\n"
          ]
        },
        {
          "output_type": "stream",
          "name": "stderr",
          "text": [
            "\u001b[32m[I 2023-04-25 07:35:11,988]\u001b[0m Trial 7 finished with value: 1.1967055250233098 and parameters: {'lambda': 0.012149778543304552, 'alpha': 0.011385228860764422, 'colsample_bytree': 1.0, 'subsample': 1.0, 'learning_rate': 0.009, 'max_depth': 5, 'random_state': 48, 'min_child_weight': 37}. Best is trial 7 with value: 1.1967055250233098.\u001b[0m\n",
            "<ipython-input-48-f880d349052c>:16: FutureWarning: suggest_loguniform has been deprecated in v3.0.0. This feature will be removed in v6.0.0. See https://github.com/optuna/optuna/releases/tag/v3.0.0. Use :func:`~optuna.trial.Trial.suggest_float` instead.\n",
            "  'lambda': trial.suggest_loguniform('lambda', 1e-3, 10.0),\n",
            "<ipython-input-48-f880d349052c>:17: FutureWarning: suggest_loguniform has been deprecated in v3.0.0. This feature will be removed in v6.0.0. See https://github.com/optuna/optuna/releases/tag/v3.0.0. Use :func:`~optuna.trial.Trial.suggest_float` instead.\n",
            "  'alpha': trial.suggest_loguniform('alpha', 1e-3, 10.0),\n",
            "/usr/local/lib/python3.9/dist-packages/xgboost/sklearn.py:835: UserWarning: `early_stopping_rounds` in `fit` method is deprecated for better compatibility with scikit-learn, use `early_stopping_rounds` in constructor or`set_params` instead.\n",
            "  warnings.warn(\n"
          ]
        },
        {
          "output_type": "stream",
          "name": "stdout",
          "text": [
            "[07:35:12] WARNING: ../src/learner.cc:767: \n",
            "Parameters: { \"folds\" } are not used.\n",
            "\n"
          ]
        },
        {
          "output_type": "stream",
          "name": "stderr",
          "text": [
            "\u001b[32m[I 2023-04-25 07:35:31,067]\u001b[0m Trial 8 finished with value: 1.2525447243702832 and parameters: {'lambda': 0.22887032838461824, 'alpha': 0.1671762673401422, 'colsample_bytree': 0.8, 'subsample': 0.6, 'learning_rate': 0.018, 'max_depth': 17, 'random_state': 24, 'min_child_weight': 120}. Best is trial 7 with value: 1.1967055250233098.\u001b[0m\n",
            "<ipython-input-48-f880d349052c>:16: FutureWarning: suggest_loguniform has been deprecated in v3.0.0. This feature will be removed in v6.0.0. See https://github.com/optuna/optuna/releases/tag/v3.0.0. Use :func:`~optuna.trial.Trial.suggest_float` instead.\n",
            "  'lambda': trial.suggest_loguniform('lambda', 1e-3, 10.0),\n",
            "<ipython-input-48-f880d349052c>:17: FutureWarning: suggest_loguniform has been deprecated in v3.0.0. This feature will be removed in v6.0.0. See https://github.com/optuna/optuna/releases/tag/v3.0.0. Use :func:`~optuna.trial.Trial.suggest_float` instead.\n",
            "  'alpha': trial.suggest_loguniform('alpha', 1e-3, 10.0),\n",
            "/usr/local/lib/python3.9/dist-packages/xgboost/sklearn.py:835: UserWarning: `early_stopping_rounds` in `fit` method is deprecated for better compatibility with scikit-learn, use `early_stopping_rounds` in constructor or`set_params` instead.\n",
            "  warnings.warn(\n"
          ]
        },
        {
          "output_type": "stream",
          "name": "stdout",
          "text": [
            "[07:35:31] WARNING: ../src/learner.cc:767: \n",
            "Parameters: { \"folds\" } are not used.\n",
            "\n"
          ]
        },
        {
          "output_type": "stream",
          "name": "stderr",
          "text": [
            "\u001b[32m[I 2023-04-25 07:36:13,871]\u001b[0m Trial 9 finished with value: 1.2096699773210862 and parameters: {'lambda': 6.689416593362891, 'alpha': 1.1926910549999046, 'colsample_bytree': 0.8, 'subsample': 1.0, 'learning_rate': 0.01, 'max_depth': 17, 'random_state': 48, 'min_child_weight': 92}. Best is trial 7 with value: 1.1967055250233098.\u001b[0m\n",
            "<ipython-input-48-f880d349052c>:16: FutureWarning: suggest_loguniform has been deprecated in v3.0.0. This feature will be removed in v6.0.0. See https://github.com/optuna/optuna/releases/tag/v3.0.0. Use :func:`~optuna.trial.Trial.suggest_float` instead.\n",
            "  'lambda': trial.suggest_loguniform('lambda', 1e-3, 10.0),\n",
            "<ipython-input-48-f880d349052c>:17: FutureWarning: suggest_loguniform has been deprecated in v3.0.0. This feature will be removed in v6.0.0. See https://github.com/optuna/optuna/releases/tag/v3.0.0. Use :func:`~optuna.trial.Trial.suggest_float` instead.\n",
            "  'alpha': trial.suggest_loguniform('alpha', 1e-3, 10.0),\n",
            "/usr/local/lib/python3.9/dist-packages/xgboost/sklearn.py:835: UserWarning: `early_stopping_rounds` in `fit` method is deprecated for better compatibility with scikit-learn, use `early_stopping_rounds` in constructor or`set_params` instead.\n",
            "  warnings.warn(\n"
          ]
        },
        {
          "output_type": "stream",
          "name": "stdout",
          "text": [
            "[07:36:13] WARNING: ../src/learner.cc:767: \n",
            "Parameters: { \"folds\" } are not used.\n",
            "\n"
          ]
        },
        {
          "output_type": "stream",
          "name": "stderr",
          "text": [
            "\u001b[32m[I 2023-04-25 07:36:40,613]\u001b[0m Trial 10 finished with value: 1.2491538593604765 and parameters: {'lambda': 0.0022757758207489695, 'alpha': 0.002505093940338026, 'colsample_bytree': 1.0, 'subsample': 0.4, 'learning_rate': 0.009, 'max_depth': 5, 'random_state': 48, 'min_child_weight': 66}. Best is trial 7 with value: 1.1967055250233098.\u001b[0m\n",
            "<ipython-input-48-f880d349052c>:16: FutureWarning: suggest_loguniform has been deprecated in v3.0.0. This feature will be removed in v6.0.0. See https://github.com/optuna/optuna/releases/tag/v3.0.0. Use :func:`~optuna.trial.Trial.suggest_float` instead.\n",
            "  'lambda': trial.suggest_loguniform('lambda', 1e-3, 10.0),\n",
            "<ipython-input-48-f880d349052c>:17: FutureWarning: suggest_loguniform has been deprecated in v3.0.0. This feature will be removed in v6.0.0. See https://github.com/optuna/optuna/releases/tag/v3.0.0. Use :func:`~optuna.trial.Trial.suggest_float` instead.\n",
            "  'alpha': trial.suggest_loguniform('alpha', 1e-3, 10.0),\n",
            "/usr/local/lib/python3.9/dist-packages/xgboost/sklearn.py:835: UserWarning: `early_stopping_rounds` in `fit` method is deprecated for better compatibility with scikit-learn, use `early_stopping_rounds` in constructor or`set_params` instead.\n",
            "  warnings.warn(\n"
          ]
        },
        {
          "output_type": "stream",
          "name": "stdout",
          "text": [
            "[07:36:40] WARNING: ../src/learner.cc:767: \n",
            "Parameters: { \"folds\" } are not used.\n",
            "\n"
          ]
        },
        {
          "output_type": "stream",
          "name": "stderr",
          "text": [
            "\u001b[32m[I 2023-04-25 07:37:33,607]\u001b[0m Trial 11 finished with value: 1.239726471540288 and parameters: {'lambda': 0.011770623215582088, 'alpha': 0.41949354893262886, 'colsample_bytree': 0.6, 'subsample': 1.0, 'learning_rate': 0.009, 'max_depth': 11, 'random_state': 2020, 'min_child_weight': 2}. Best is trial 7 with value: 1.1967055250233098.\u001b[0m\n",
            "<ipython-input-48-f880d349052c>:16: FutureWarning: suggest_loguniform has been deprecated in v3.0.0. This feature will be removed in v6.0.0. See https://github.com/optuna/optuna/releases/tag/v3.0.0. Use :func:`~optuna.trial.Trial.suggest_float` instead.\n",
            "  'lambda': trial.suggest_loguniform('lambda', 1e-3, 10.0),\n",
            "<ipython-input-48-f880d349052c>:17: FutureWarning: suggest_loguniform has been deprecated in v3.0.0. This feature will be removed in v6.0.0. See https://github.com/optuna/optuna/releases/tag/v3.0.0. Use :func:`~optuna.trial.Trial.suggest_float` instead.\n",
            "  'alpha': trial.suggest_loguniform('alpha', 1e-3, 10.0),\n",
            "/usr/local/lib/python3.9/dist-packages/xgboost/sklearn.py:835: UserWarning: `early_stopping_rounds` in `fit` method is deprecated for better compatibility with scikit-learn, use `early_stopping_rounds` in constructor or`set_params` instead.\n",
            "  warnings.warn(\n"
          ]
        },
        {
          "output_type": "stream",
          "name": "stdout",
          "text": [
            "[07:37:33] WARNING: ../src/learner.cc:767: \n",
            "Parameters: { \"folds\" } are not used.\n",
            "\n"
          ]
        },
        {
          "output_type": "stream",
          "name": "stderr",
          "text": [
            "\u001b[32m[I 2023-04-25 07:37:51,158]\u001b[0m Trial 12 finished with value: 1.207782777824967 and parameters: {'lambda': 0.0010862893266590549, 'alpha': 0.0011256638296206327, 'colsample_bytree': 0.3, 'subsample': 1.0, 'learning_rate': 0.016, 'max_depth': 7, 'random_state': 2020, 'min_child_weight': 53}. Best is trial 7 with value: 1.1967055250233098.\u001b[0m\n",
            "<ipython-input-48-f880d349052c>:16: FutureWarning: suggest_loguniform has been deprecated in v3.0.0. This feature will be removed in v6.0.0. See https://github.com/optuna/optuna/releases/tag/v3.0.0. Use :func:`~optuna.trial.Trial.suggest_float` instead.\n",
            "  'lambda': trial.suggest_loguniform('lambda', 1e-3, 10.0),\n",
            "<ipython-input-48-f880d349052c>:17: FutureWarning: suggest_loguniform has been deprecated in v3.0.0. This feature will be removed in v6.0.0. See https://github.com/optuna/optuna/releases/tag/v3.0.0. Use :func:`~optuna.trial.Trial.suggest_float` instead.\n",
            "  'alpha': trial.suggest_loguniform('alpha', 1e-3, 10.0),\n",
            "/usr/local/lib/python3.9/dist-packages/xgboost/sklearn.py:835: UserWarning: `early_stopping_rounds` in `fit` method is deprecated for better compatibility with scikit-learn, use `early_stopping_rounds` in constructor or`set_params` instead.\n",
            "  warnings.warn(\n"
          ]
        },
        {
          "output_type": "stream",
          "name": "stdout",
          "text": [
            "[07:37:51] WARNING: ../src/learner.cc:767: \n",
            "Parameters: { \"folds\" } are not used.\n",
            "\n"
          ]
        },
        {
          "output_type": "stream",
          "name": "stderr",
          "text": [
            "\u001b[32m[I 2023-04-25 07:38:28,166]\u001b[0m Trial 13 finished with value: 1.2530745352860027 and parameters: {'lambda': 1.6963000867988458, 'alpha': 0.028665243038823743, 'colsample_bytree': 0.6, 'subsample': 0.7, 'learning_rate': 0.008, 'max_depth': 11, 'random_state': 2020, 'min_child_weight': 146}. Best is trial 7 with value: 1.1967055250233098.\u001b[0m\n",
            "<ipython-input-48-f880d349052c>:16: FutureWarning: suggest_loguniform has been deprecated in v3.0.0. This feature will be removed in v6.0.0. See https://github.com/optuna/optuna/releases/tag/v3.0.0. Use :func:`~optuna.trial.Trial.suggest_float` instead.\n",
            "  'lambda': trial.suggest_loguniform('lambda', 1e-3, 10.0),\n",
            "<ipython-input-48-f880d349052c>:17: FutureWarning: suggest_loguniform has been deprecated in v3.0.0. This feature will be removed in v6.0.0. See https://github.com/optuna/optuna/releases/tag/v3.0.0. Use :func:`~optuna.trial.Trial.suggest_float` instead.\n",
            "  'alpha': trial.suggest_loguniform('alpha', 1e-3, 10.0),\n",
            "/usr/local/lib/python3.9/dist-packages/xgboost/sklearn.py:835: UserWarning: `early_stopping_rounds` in `fit` method is deprecated for better compatibility with scikit-learn, use `early_stopping_rounds` in constructor or`set_params` instead.\n",
            "  warnings.warn(\n"
          ]
        },
        {
          "output_type": "stream",
          "name": "stdout",
          "text": [
            "[07:38:28] WARNING: ../src/learner.cc:767: \n",
            "Parameters: { \"folds\" } are not used.\n",
            "\n"
          ]
        },
        {
          "output_type": "stream",
          "name": "stderr",
          "text": [
            "\u001b[32m[I 2023-04-25 07:38:54,083]\u001b[0m Trial 14 finished with value: 1.2104129212847 and parameters: {'lambda': 0.01693910110668107, 'alpha': 0.4359178701019419, 'colsample_bytree': 0.5, 'subsample': 0.8, 'learning_rate': 0.009, 'max_depth': 5, 'random_state': 2020, 'min_child_weight': 42}. Best is trial 7 with value: 1.1967055250233098.\u001b[0m\n",
            "<ipython-input-48-f880d349052c>:16: FutureWarning: suggest_loguniform has been deprecated in v3.0.0. This feature will be removed in v6.0.0. See https://github.com/optuna/optuna/releases/tag/v3.0.0. Use :func:`~optuna.trial.Trial.suggest_float` instead.\n",
            "  'lambda': trial.suggest_loguniform('lambda', 1e-3, 10.0),\n",
            "<ipython-input-48-f880d349052c>:17: FutureWarning: suggest_loguniform has been deprecated in v3.0.0. This feature will be removed in v6.0.0. See https://github.com/optuna/optuna/releases/tag/v3.0.0. Use :func:`~optuna.trial.Trial.suggest_float` instead.\n",
            "  'alpha': trial.suggest_loguniform('alpha', 1e-3, 10.0),\n",
            "/usr/local/lib/python3.9/dist-packages/xgboost/sklearn.py:835: UserWarning: `early_stopping_rounds` in `fit` method is deprecated for better compatibility with scikit-learn, use `early_stopping_rounds` in constructor or`set_params` instead.\n",
            "  warnings.warn(\n"
          ]
        },
        {
          "output_type": "stream",
          "name": "stdout",
          "text": [
            "[07:38:54] WARNING: ../src/learner.cc:767: \n",
            "Parameters: { \"folds\" } are not used.\n",
            "\n"
          ]
        },
        {
          "output_type": "stream",
          "name": "stderr",
          "text": [
            "\u001b[32m[I 2023-04-25 07:39:25,102]\u001b[0m Trial 15 finished with value: 1.2602196838544366 and parameters: {'lambda': 9.893558835650639, 'alpha': 0.018007652626780796, 'colsample_bytree': 1.0, 'subsample': 0.4, 'learning_rate': 0.008, 'max_depth': 11, 'random_state': 48, 'min_child_weight': 99}. Best is trial 7 with value: 1.1967055250233098.\u001b[0m\n",
            "<ipython-input-48-f880d349052c>:16: FutureWarning: suggest_loguniform has been deprecated in v3.0.0. This feature will be removed in v6.0.0. See https://github.com/optuna/optuna/releases/tag/v3.0.0. Use :func:`~optuna.trial.Trial.suggest_float` instead.\n",
            "  'lambda': trial.suggest_loguniform('lambda', 1e-3, 10.0),\n",
            "<ipython-input-48-f880d349052c>:17: FutureWarning: suggest_loguniform has been deprecated in v3.0.0. This feature will be removed in v6.0.0. See https://github.com/optuna/optuna/releases/tag/v3.0.0. Use :func:`~optuna.trial.Trial.suggest_float` instead.\n",
            "  'alpha': trial.suggest_loguniform('alpha', 1e-3, 10.0),\n",
            "/usr/local/lib/python3.9/dist-packages/xgboost/sklearn.py:835: UserWarning: `early_stopping_rounds` in `fit` method is deprecated for better compatibility with scikit-learn, use `early_stopping_rounds` in constructor or`set_params` instead.\n",
            "  warnings.warn(\n"
          ]
        },
        {
          "output_type": "stream",
          "name": "stdout",
          "text": [
            "[07:39:25] WARNING: ../src/learner.cc:767: \n",
            "Parameters: { \"folds\" } are not used.\n",
            "\n"
          ]
        },
        {
          "output_type": "stream",
          "name": "stderr",
          "text": [
            "\u001b[32m[I 2023-04-25 07:39:52,023]\u001b[0m Trial 16 finished with value: 1.2706908248358026 and parameters: {'lambda': 1.3336007936907766, 'alpha': 0.2263240138543886, 'colsample_bytree': 0.6, 'subsample': 0.6, 'learning_rate': 0.012, 'max_depth': 5, 'random_state': 2020, 'min_child_weight': 171}. Best is trial 7 with value: 1.1967055250233098.\u001b[0m\n",
            "<ipython-input-48-f880d349052c>:16: FutureWarning: suggest_loguniform has been deprecated in v3.0.0. This feature will be removed in v6.0.0. See https://github.com/optuna/optuna/releases/tag/v3.0.0. Use :func:`~optuna.trial.Trial.suggest_float` instead.\n",
            "  'lambda': trial.suggest_loguniform('lambda', 1e-3, 10.0),\n",
            "<ipython-input-48-f880d349052c>:17: FutureWarning: suggest_loguniform has been deprecated in v3.0.0. This feature will be removed in v6.0.0. See https://github.com/optuna/optuna/releases/tag/v3.0.0. Use :func:`~optuna.trial.Trial.suggest_float` instead.\n",
            "  'alpha': trial.suggest_loguniform('alpha', 1e-3, 10.0),\n",
            "/usr/local/lib/python3.9/dist-packages/xgboost/sklearn.py:835: UserWarning: `early_stopping_rounds` in `fit` method is deprecated for better compatibility with scikit-learn, use `early_stopping_rounds` in constructor or`set_params` instead.\n",
            "  warnings.warn(\n"
          ]
        },
        {
          "output_type": "stream",
          "name": "stdout",
          "text": [
            "[07:39:52] WARNING: ../src/learner.cc:767: \n",
            "Parameters: { \"folds\" } are not used.\n",
            "\n"
          ]
        },
        {
          "output_type": "stream",
          "name": "stderr",
          "text": [
            "\u001b[32m[I 2023-04-25 07:40:14,325]\u001b[0m Trial 17 finished with value: 1.1905394319016693 and parameters: {'lambda': 0.12910384221298302, 'alpha': 0.9651968390254696, 'colsample_bytree': 0.5, 'subsample': 1.0, 'learning_rate': 0.016, 'max_depth': 9, 'random_state': 48, 'min_child_weight': 36}. Best is trial 17 with value: 1.1905394319016693.\u001b[0m\n",
            "<ipython-input-48-f880d349052c>:16: FutureWarning: suggest_loguniform has been deprecated in v3.0.0. This feature will be removed in v6.0.0. See https://github.com/optuna/optuna/releases/tag/v3.0.0. Use :func:`~optuna.trial.Trial.suggest_float` instead.\n",
            "  'lambda': trial.suggest_loguniform('lambda', 1e-3, 10.0),\n",
            "<ipython-input-48-f880d349052c>:17: FutureWarning: suggest_loguniform has been deprecated in v3.0.0. This feature will be removed in v6.0.0. See https://github.com/optuna/optuna/releases/tag/v3.0.0. Use :func:`~optuna.trial.Trial.suggest_float` instead.\n",
            "  'alpha': trial.suggest_loguniform('alpha', 1e-3, 10.0),\n",
            "/usr/local/lib/python3.9/dist-packages/xgboost/sklearn.py:835: UserWarning: `early_stopping_rounds` in `fit` method is deprecated for better compatibility with scikit-learn, use `early_stopping_rounds` in constructor or`set_params` instead.\n",
            "  warnings.warn(\n"
          ]
        },
        {
          "output_type": "stream",
          "name": "stdout",
          "text": [
            "[07:40:14] WARNING: ../src/learner.cc:767: \n",
            "Parameters: { \"folds\" } are not used.\n",
            "\n"
          ]
        },
        {
          "output_type": "stream",
          "name": "stderr",
          "text": [
            "\u001b[32m[I 2023-04-25 07:40:32,028]\u001b[0m Trial 18 finished with value: 1.2095085016496063 and parameters: {'lambda': 0.08351582044619957, 'alpha': 0.0865545434464413, 'colsample_bytree': 0.5, 'subsample': 1.0, 'learning_rate': 0.016, 'max_depth': 9, 'random_state': 48, 'min_child_weight': 88}. Best is trial 17 with value: 1.1905394319016693.\u001b[0m\n",
            "<ipython-input-48-f880d349052c>:16: FutureWarning: suggest_loguniform has been deprecated in v3.0.0. This feature will be removed in v6.0.0. See https://github.com/optuna/optuna/releases/tag/v3.0.0. Use :func:`~optuna.trial.Trial.suggest_float` instead.\n",
            "  'lambda': trial.suggest_loguniform('lambda', 1e-3, 10.0),\n",
            "<ipython-input-48-f880d349052c>:17: FutureWarning: suggest_loguniform has been deprecated in v3.0.0. This feature will be removed in v6.0.0. See https://github.com/optuna/optuna/releases/tag/v3.0.0. Use :func:`~optuna.trial.Trial.suggest_float` instead.\n",
            "  'alpha': trial.suggest_loguniform('alpha', 1e-3, 10.0),\n",
            "/usr/local/lib/python3.9/dist-packages/xgboost/sklearn.py:835: UserWarning: `early_stopping_rounds` in `fit` method is deprecated for better compatibility with scikit-learn, use `early_stopping_rounds` in constructor or`set_params` instead.\n",
            "  warnings.warn(\n"
          ]
        },
        {
          "output_type": "stream",
          "name": "stdout",
          "text": [
            "[07:40:32] WARNING: ../src/learner.cc:767: \n",
            "Parameters: { \"folds\" } are not used.\n",
            "\n"
          ]
        },
        {
          "output_type": "stream",
          "name": "stderr",
          "text": [
            "\u001b[32m[I 2023-04-25 07:40:55,596]\u001b[0m Trial 19 finished with value: 1.238677449664054 and parameters: {'lambda': 0.013699577066033579, 'alpha': 0.017390044482598357, 'colsample_bytree': 0.5, 'subsample': 1.0, 'learning_rate': 0.016, 'max_depth': 9, 'random_state': 48, 'min_child_weight': 194}. Best is trial 17 with value: 1.1905394319016693.\u001b[0m\n",
            "<ipython-input-48-f880d349052c>:16: FutureWarning: suggest_loguniform has been deprecated in v3.0.0. This feature will be removed in v6.0.0. See https://github.com/optuna/optuna/releases/tag/v3.0.0. Use :func:`~optuna.trial.Trial.suggest_float` instead.\n",
            "  'lambda': trial.suggest_loguniform('lambda', 1e-3, 10.0),\n",
            "<ipython-input-48-f880d349052c>:17: FutureWarning: suggest_loguniform has been deprecated in v3.0.0. This feature will be removed in v6.0.0. See https://github.com/optuna/optuna/releases/tag/v3.0.0. Use :func:`~optuna.trial.Trial.suggest_float` instead.\n",
            "  'alpha': trial.suggest_loguniform('alpha', 1e-3, 10.0),\n",
            "/usr/local/lib/python3.9/dist-packages/xgboost/sklearn.py:835: UserWarning: `early_stopping_rounds` in `fit` method is deprecated for better compatibility with scikit-learn, use `early_stopping_rounds` in constructor or`set_params` instead.\n",
            "  warnings.warn(\n"
          ]
        },
        {
          "output_type": "stream",
          "name": "stdout",
          "text": [
            "[07:40:55] WARNING: ../src/learner.cc:767: \n",
            "Parameters: { \"folds\" } are not used.\n",
            "\n"
          ]
        },
        {
          "output_type": "stream",
          "name": "stderr",
          "text": [
            "\u001b[32m[I 2023-04-25 07:41:14,390]\u001b[0m Trial 20 finished with value: 1.211327618327163 and parameters: {'lambda': 0.22410333354006892, 'alpha': 0.05925037484744968, 'colsample_bytree': 0.3, 'subsample': 1.0, 'learning_rate': 0.014, 'max_depth': 15, 'random_state': 48, 'min_child_weight': 25}. Best is trial 17 with value: 1.1905394319016693.\u001b[0m\n",
            "<ipython-input-48-f880d349052c>:16: FutureWarning: suggest_loguniform has been deprecated in v3.0.0. This feature will be removed in v6.0.0. See https://github.com/optuna/optuna/releases/tag/v3.0.0. Use :func:`~optuna.trial.Trial.suggest_float` instead.\n",
            "  'lambda': trial.suggest_loguniform('lambda', 1e-3, 10.0),\n",
            "<ipython-input-48-f880d349052c>:17: FutureWarning: suggest_loguniform has been deprecated in v3.0.0. This feature will be removed in v6.0.0. See https://github.com/optuna/optuna/releases/tag/v3.0.0. Use :func:`~optuna.trial.Trial.suggest_float` instead.\n",
            "  'alpha': trial.suggest_loguniform('alpha', 1e-3, 10.0),\n",
            "/usr/local/lib/python3.9/dist-packages/xgboost/sklearn.py:835: UserWarning: `early_stopping_rounds` in `fit` method is deprecated for better compatibility with scikit-learn, use `early_stopping_rounds` in constructor or`set_params` instead.\n",
            "  warnings.warn(\n"
          ]
        },
        {
          "output_type": "stream",
          "name": "stdout",
          "text": [
            "[07:41:14] WARNING: ../src/learner.cc:767: \n",
            "Parameters: { \"folds\" } are not used.\n",
            "\n"
          ]
        },
        {
          "output_type": "stream",
          "name": "stderr",
          "text": [
            "\u001b[32m[I 2023-04-25 07:41:34,471]\u001b[0m Trial 21 finished with value: 1.2218482755750857 and parameters: {'lambda': 0.7199530363275295, 'alpha': 1.1343215678057268, 'colsample_bytree': 0.7, 'subsample': 0.7, 'learning_rate': 0.02, 'max_depth': 20, 'random_state': 48, 'min_child_weight': 69}. Best is trial 17 with value: 1.1905394319016693.\u001b[0m\n",
            "<ipython-input-48-f880d349052c>:16: FutureWarning: suggest_loguniform has been deprecated in v3.0.0. This feature will be removed in v6.0.0. See https://github.com/optuna/optuna/releases/tag/v3.0.0. Use :func:`~optuna.trial.Trial.suggest_float` instead.\n",
            "  'lambda': trial.suggest_loguniform('lambda', 1e-3, 10.0),\n",
            "<ipython-input-48-f880d349052c>:17: FutureWarning: suggest_loguniform has been deprecated in v3.0.0. This feature will be removed in v6.0.0. See https://github.com/optuna/optuna/releases/tag/v3.0.0. Use :func:`~optuna.trial.Trial.suggest_float` instead.\n",
            "  'alpha': trial.suggest_loguniform('alpha', 1e-3, 10.0),\n",
            "/usr/local/lib/python3.9/dist-packages/xgboost/sklearn.py:835: UserWarning: `early_stopping_rounds` in `fit` method is deprecated for better compatibility with scikit-learn, use `early_stopping_rounds` in constructor or`set_params` instead.\n",
            "  warnings.warn(\n"
          ]
        },
        {
          "output_type": "stream",
          "name": "stdout",
          "text": [
            "[07:41:34] WARNING: ../src/learner.cc:767: \n",
            "Parameters: { \"folds\" } are not used.\n",
            "\n"
          ]
        },
        {
          "output_type": "stream",
          "name": "stderr",
          "text": [
            "\u001b[32m[I 2023-04-25 07:41:51,722]\u001b[0m Trial 22 finished with value: 1.2008884262385096 and parameters: {'lambda': 0.12480112980194716, 'alpha': 1.1071751573855586, 'colsample_bytree': 0.4, 'subsample': 1.0, 'learning_rate': 0.016, 'max_depth': 13, 'random_state': 2020, 'min_child_weight': 37}. Best is trial 17 with value: 1.1905394319016693.\u001b[0m\n",
            "<ipython-input-48-f880d349052c>:16: FutureWarning: suggest_loguniform has been deprecated in v3.0.0. This feature will be removed in v6.0.0. See https://github.com/optuna/optuna/releases/tag/v3.0.0. Use :func:`~optuna.trial.Trial.suggest_float` instead.\n",
            "  'lambda': trial.suggest_loguniform('lambda', 1e-3, 10.0),\n",
            "<ipython-input-48-f880d349052c>:17: FutureWarning: suggest_loguniform has been deprecated in v3.0.0. This feature will be removed in v6.0.0. See https://github.com/optuna/optuna/releases/tag/v3.0.0. Use :func:`~optuna.trial.Trial.suggest_float` instead.\n",
            "  'alpha': trial.suggest_loguniform('alpha', 1e-3, 10.0),\n",
            "/usr/local/lib/python3.9/dist-packages/xgboost/sklearn.py:835: UserWarning: `early_stopping_rounds` in `fit` method is deprecated for better compatibility with scikit-learn, use `early_stopping_rounds` in constructor or`set_params` instead.\n",
            "  warnings.warn(\n"
          ]
        },
        {
          "output_type": "stream",
          "name": "stdout",
          "text": [
            "[07:41:51] WARNING: ../src/learner.cc:767: \n",
            "Parameters: { \"folds\" } are not used.\n",
            "\n"
          ]
        },
        {
          "output_type": "stream",
          "name": "stderr",
          "text": [
            "\u001b[32m[I 2023-04-25 07:42:29,074]\u001b[0m Trial 23 finished with value: 1.2409458514967093 and parameters: {'lambda': 0.7208490555502769, 'alpha': 3.2386073646265445, 'colsample_bytree': 1.0, 'subsample': 0.7, 'learning_rate': 0.008, 'max_depth': 7, 'random_state': 48, 'min_child_weight': 120}. Best is trial 17 with value: 1.1905394319016693.\u001b[0m\n",
            "<ipython-input-48-f880d349052c>:16: FutureWarning: suggest_loguniform has been deprecated in v3.0.0. This feature will be removed in v6.0.0. See https://github.com/optuna/optuna/releases/tag/v3.0.0. Use :func:`~optuna.trial.Trial.suggest_float` instead.\n",
            "  'lambda': trial.suggest_loguniform('lambda', 1e-3, 10.0),\n",
            "<ipython-input-48-f880d349052c>:17: FutureWarning: suggest_loguniform has been deprecated in v3.0.0. This feature will be removed in v6.0.0. See https://github.com/optuna/optuna/releases/tag/v3.0.0. Use :func:`~optuna.trial.Trial.suggest_float` instead.\n",
            "  'alpha': trial.suggest_loguniform('alpha', 1e-3, 10.0),\n",
            "/usr/local/lib/python3.9/dist-packages/xgboost/sklearn.py:835: UserWarning: `early_stopping_rounds` in `fit` method is deprecated for better compatibility with scikit-learn, use `early_stopping_rounds` in constructor or`set_params` instead.\n",
            "  warnings.warn(\n"
          ]
        },
        {
          "output_type": "stream",
          "name": "stdout",
          "text": [
            "[07:42:29] WARNING: ../src/learner.cc:767: \n",
            "Parameters: { \"folds\" } are not used.\n",
            "\n"
          ]
        },
        {
          "output_type": "stream",
          "name": "stderr",
          "text": [
            "\u001b[32m[I 2023-04-25 07:43:05,753]\u001b[0m Trial 24 finished with value: 1.2276701541457935 and parameters: {'lambda': 0.03438696760753818, 'alpha': 0.15804209597082158, 'colsample_bytree': 0.5, 'subsample': 1.0, 'learning_rate': 0.009, 'max_depth': 9, 'random_state': 48, 'min_child_weight': 2}. Best is trial 17 with value: 1.1905394319016693.\u001b[0m\n",
            "<ipython-input-48-f880d349052c>:16: FutureWarning: suggest_loguniform has been deprecated in v3.0.0. This feature will be removed in v6.0.0. See https://github.com/optuna/optuna/releases/tag/v3.0.0. Use :func:`~optuna.trial.Trial.suggest_float` instead.\n",
            "  'lambda': trial.suggest_loguniform('lambda', 1e-3, 10.0),\n",
            "<ipython-input-48-f880d349052c>:17: FutureWarning: suggest_loguniform has been deprecated in v3.0.0. This feature will be removed in v6.0.0. See https://github.com/optuna/optuna/releases/tag/v3.0.0. Use :func:`~optuna.trial.Trial.suggest_float` instead.\n",
            "  'alpha': trial.suggest_loguniform('alpha', 1e-3, 10.0),\n",
            "/usr/local/lib/python3.9/dist-packages/xgboost/sklearn.py:835: UserWarning: `early_stopping_rounds` in `fit` method is deprecated for better compatibility with scikit-learn, use `early_stopping_rounds` in constructor or`set_params` instead.\n",
            "  warnings.warn(\n"
          ]
        },
        {
          "output_type": "stream",
          "name": "stdout",
          "text": [
            "[07:43:05] WARNING: ../src/learner.cc:767: \n",
            "Parameters: { \"folds\" } are not used.\n",
            "\n"
          ]
        },
        {
          "output_type": "stream",
          "name": "stderr",
          "text": [
            "\u001b[32m[I 2023-04-25 07:43:44,011]\u001b[0m Trial 25 finished with value: 1.2157609753385732 and parameters: {'lambda': 0.006612076403953886, 'alpha': 0.4549228188904668, 'colsample_bytree': 0.5, 'subsample': 0.8, 'learning_rate': 0.008, 'max_depth': 11, 'random_state': 2020, 'min_child_weight': 66}. Best is trial 17 with value: 1.1905394319016693.\u001b[0m\n",
            "<ipython-input-48-f880d349052c>:16: FutureWarning: suggest_loguniform has been deprecated in v3.0.0. This feature will be removed in v6.0.0. See https://github.com/optuna/optuna/releases/tag/v3.0.0. Use :func:`~optuna.trial.Trial.suggest_float` instead.\n",
            "  'lambda': trial.suggest_loguniform('lambda', 1e-3, 10.0),\n",
            "<ipython-input-48-f880d349052c>:17: FutureWarning: suggest_loguniform has been deprecated in v3.0.0. This feature will be removed in v6.0.0. See https://github.com/optuna/optuna/releases/tag/v3.0.0. Use :func:`~optuna.trial.Trial.suggest_float` instead.\n",
            "  'alpha': trial.suggest_loguniform('alpha', 1e-3, 10.0),\n",
            "/usr/local/lib/python3.9/dist-packages/xgboost/sklearn.py:835: UserWarning: `early_stopping_rounds` in `fit` method is deprecated for better compatibility with scikit-learn, use `early_stopping_rounds` in constructor or`set_params` instead.\n",
            "  warnings.warn(\n"
          ]
        },
        {
          "output_type": "stream",
          "name": "stdout",
          "text": [
            "[07:43:44] WARNING: ../src/learner.cc:767: \n",
            "Parameters: { \"folds\" } are not used.\n",
            "\n"
          ]
        },
        {
          "output_type": "stream",
          "name": "stderr",
          "text": [
            "\u001b[32m[I 2023-04-25 07:43:58,176]\u001b[0m Trial 26 finished with value: 1.213270010917192 and parameters: {'lambda': 3.9119112769299083, 'alpha': 0.15589621878775703, 'colsample_bytree': 0.6, 'subsample': 0.6, 'learning_rate': 0.016, 'max_depth': 5, 'random_state': 48, 'min_child_weight': 28}. Best is trial 17 with value: 1.1905394319016693.\u001b[0m\n",
            "<ipython-input-48-f880d349052c>:16: FutureWarning: suggest_loguniform has been deprecated in v3.0.0. This feature will be removed in v6.0.0. See https://github.com/optuna/optuna/releases/tag/v3.0.0. Use :func:`~optuna.trial.Trial.suggest_float` instead.\n",
            "  'lambda': trial.suggest_loguniform('lambda', 1e-3, 10.0),\n",
            "<ipython-input-48-f880d349052c>:17: FutureWarning: suggest_loguniform has been deprecated in v3.0.0. This feature will be removed in v6.0.0. See https://github.com/optuna/optuna/releases/tag/v3.0.0. Use :func:`~optuna.trial.Trial.suggest_float` instead.\n",
            "  'alpha': trial.suggest_loguniform('alpha', 1e-3, 10.0),\n",
            "/usr/local/lib/python3.9/dist-packages/xgboost/sklearn.py:835: UserWarning: `early_stopping_rounds` in `fit` method is deprecated for better compatibility with scikit-learn, use `early_stopping_rounds` in constructor or`set_params` instead.\n",
            "  warnings.warn(\n"
          ]
        },
        {
          "output_type": "stream",
          "name": "stdout",
          "text": [
            "[07:43:58] WARNING: ../src/learner.cc:767: \n",
            "Parameters: { \"folds\" } are not used.\n",
            "\n"
          ]
        },
        {
          "output_type": "stream",
          "name": "stderr",
          "text": [
            "\u001b[32m[I 2023-04-25 07:44:17,366]\u001b[0m Trial 27 finished with value: 1.2936157802087538 and parameters: {'lambda': 0.03528219513724638, 'alpha': 0.6250841382035738, 'colsample_bytree': 0.6, 'subsample': 0.4, 'learning_rate': 0.009, 'max_depth': 11, 'random_state': 2020, 'min_child_weight': 119}. Best is trial 17 with value: 1.1905394319016693.\u001b[0m\n",
            "<ipython-input-48-f880d349052c>:16: FutureWarning: suggest_loguniform has been deprecated in v3.0.0. This feature will be removed in v6.0.0. See https://github.com/optuna/optuna/releases/tag/v3.0.0. Use :func:`~optuna.trial.Trial.suggest_float` instead.\n",
            "  'lambda': trial.suggest_loguniform('lambda', 1e-3, 10.0),\n",
            "<ipython-input-48-f880d349052c>:17: FutureWarning: suggest_loguniform has been deprecated in v3.0.0. This feature will be removed in v6.0.0. See https://github.com/optuna/optuna/releases/tag/v3.0.0. Use :func:`~optuna.trial.Trial.suggest_float` instead.\n",
            "  'alpha': trial.suggest_loguniform('alpha', 1e-3, 10.0),\n",
            "/usr/local/lib/python3.9/dist-packages/xgboost/sklearn.py:835: UserWarning: `early_stopping_rounds` in `fit` method is deprecated for better compatibility with scikit-learn, use `early_stopping_rounds` in constructor or`set_params` instead.\n",
            "  warnings.warn(\n"
          ]
        },
        {
          "output_type": "stream",
          "name": "stdout",
          "text": [
            "[07:44:17] WARNING: ../src/learner.cc:767: \n",
            "Parameters: { \"folds\" } are not used.\n",
            "\n"
          ]
        },
        {
          "output_type": "stream",
          "name": "stderr",
          "text": [
            "\u001b[32m[I 2023-04-25 07:44:47,103]\u001b[0m Trial 28 finished with value: 1.2155706563830593 and parameters: {'lambda': 0.14022701507331653, 'alpha': 2.5181406838611267, 'colsample_bytree': 1.0, 'subsample': 0.7, 'learning_rate': 0.01, 'max_depth': 5, 'random_state': 48, 'min_child_weight': 55}. Best is trial 17 with value: 1.1905394319016693.\u001b[0m\n",
            "<ipython-input-48-f880d349052c>:16: FutureWarning: suggest_loguniform has been deprecated in v3.0.0. This feature will be removed in v6.0.0. See https://github.com/optuna/optuna/releases/tag/v3.0.0. Use :func:`~optuna.trial.Trial.suggest_float` instead.\n",
            "  'lambda': trial.suggest_loguniform('lambda', 1e-3, 10.0),\n",
            "<ipython-input-48-f880d349052c>:17: FutureWarning: suggest_loguniform has been deprecated in v3.0.0. This feature will be removed in v6.0.0. See https://github.com/optuna/optuna/releases/tag/v3.0.0. Use :func:`~optuna.trial.Trial.suggest_float` instead.\n",
            "  'alpha': trial.suggest_loguniform('alpha', 1e-3, 10.0),\n",
            "/usr/local/lib/python3.9/dist-packages/xgboost/sklearn.py:835: UserWarning: `early_stopping_rounds` in `fit` method is deprecated for better compatibility with scikit-learn, use `early_stopping_rounds` in constructor or`set_params` instead.\n",
            "  warnings.warn(\n"
          ]
        },
        {
          "output_type": "stream",
          "name": "stdout",
          "text": [
            "[07:44:47] WARNING: ../src/learner.cc:767: \n",
            "Parameters: { \"folds\" } are not used.\n",
            "\n"
          ]
        },
        {
          "output_type": "stream",
          "name": "stderr",
          "text": [
            "\u001b[32m[I 2023-04-25 07:45:06,616]\u001b[0m Trial 29 finished with value: 1.2297704328761865 and parameters: {'lambda': 0.06654894946449375, 'alpha': 0.008415489637266377, 'colsample_bytree': 0.4, 'subsample': 0.7, 'learning_rate': 0.018, 'max_depth': 9, 'random_state': 2020, 'min_child_weight': 83}. Best is trial 17 with value: 1.1905394319016693.\u001b[0m\n",
            "<ipython-input-48-f880d349052c>:16: FutureWarning: suggest_loguniform has been deprecated in v3.0.0. This feature will be removed in v6.0.0. See https://github.com/optuna/optuna/releases/tag/v3.0.0. Use :func:`~optuna.trial.Trial.suggest_float` instead.\n",
            "  'lambda': trial.suggest_loguniform('lambda', 1e-3, 10.0),\n",
            "<ipython-input-48-f880d349052c>:17: FutureWarning: suggest_loguniform has been deprecated in v3.0.0. This feature will be removed in v6.0.0. See https://github.com/optuna/optuna/releases/tag/v3.0.0. Use :func:`~optuna.trial.Trial.suggest_float` instead.\n",
            "  'alpha': trial.suggest_loguniform('alpha', 1e-3, 10.0),\n",
            "/usr/local/lib/python3.9/dist-packages/xgboost/sklearn.py:835: UserWarning: `early_stopping_rounds` in `fit` method is deprecated for better compatibility with scikit-learn, use `early_stopping_rounds` in constructor or`set_params` instead.\n",
            "  warnings.warn(\n"
          ]
        },
        {
          "output_type": "stream",
          "name": "stdout",
          "text": [
            "[07:45:06] WARNING: ../src/learner.cc:767: \n",
            "Parameters: { \"folds\" } are not used.\n",
            "\n"
          ]
        },
        {
          "output_type": "stream",
          "name": "stderr",
          "text": [
            "\u001b[32m[I 2023-04-25 07:45:38,883]\u001b[0m Trial 30 finished with value: 1.2175602082583004 and parameters: {'lambda': 0.06385909416862509, 'alpha': 0.11698931582671453, 'colsample_bytree': 0.9, 'subsample': 1.0, 'learning_rate': 0.02, 'max_depth': 13, 'random_state': 48, 'min_child_weight': 141}. Best is trial 17 with value: 1.1905394319016693.\u001b[0m\n",
            "<ipython-input-48-f880d349052c>:16: FutureWarning: suggest_loguniform has been deprecated in v3.0.0. This feature will be removed in v6.0.0. See https://github.com/optuna/optuna/releases/tag/v3.0.0. Use :func:`~optuna.trial.Trial.suggest_float` instead.\n",
            "  'lambda': trial.suggest_loguniform('lambda', 1e-3, 10.0),\n",
            "<ipython-input-48-f880d349052c>:17: FutureWarning: suggest_loguniform has been deprecated in v3.0.0. This feature will be removed in v6.0.0. See https://github.com/optuna/optuna/releases/tag/v3.0.0. Use :func:`~optuna.trial.Trial.suggest_float` instead.\n",
            "  'alpha': trial.suggest_loguniform('alpha', 1e-3, 10.0),\n",
            "/usr/local/lib/python3.9/dist-packages/xgboost/sklearn.py:835: UserWarning: `early_stopping_rounds` in `fit` method is deprecated for better compatibility with scikit-learn, use `early_stopping_rounds` in constructor or`set_params` instead.\n",
            "  warnings.warn(\n"
          ]
        },
        {
          "output_type": "stream",
          "name": "stdout",
          "text": [
            "[07:45:38] WARNING: ../src/learner.cc:767: \n",
            "Parameters: { \"folds\" } are not used.\n",
            "\n"
          ]
        },
        {
          "output_type": "stream",
          "name": "stderr",
          "text": [
            "\u001b[32m[I 2023-04-25 07:46:10,311]\u001b[0m Trial 31 finished with value: 1.200082943110946 and parameters: {'lambda': 3.5609778246729964, 'alpha': 0.043673689522316095, 'colsample_bytree': 0.8, 'subsample': 0.5, 'learning_rate': 0.008, 'max_depth': 13, 'random_state': 48, 'min_child_weight': 17}. Best is trial 17 with value: 1.1905394319016693.\u001b[0m\n",
            "<ipython-input-48-f880d349052c>:16: FutureWarning: suggest_loguniform has been deprecated in v3.0.0. This feature will be removed in v6.0.0. See https://github.com/optuna/optuna/releases/tag/v3.0.0. Use :func:`~optuna.trial.Trial.suggest_float` instead.\n",
            "  'lambda': trial.suggest_loguniform('lambda', 1e-3, 10.0),\n",
            "<ipython-input-48-f880d349052c>:17: FutureWarning: suggest_loguniform has been deprecated in v3.0.0. This feature will be removed in v6.0.0. See https://github.com/optuna/optuna/releases/tag/v3.0.0. Use :func:`~optuna.trial.Trial.suggest_float` instead.\n",
            "  'alpha': trial.suggest_loguniform('alpha', 1e-3, 10.0),\n",
            "/usr/local/lib/python3.9/dist-packages/xgboost/sklearn.py:835: UserWarning: `early_stopping_rounds` in `fit` method is deprecated for better compatibility with scikit-learn, use `early_stopping_rounds` in constructor or`set_params` instead.\n",
            "  warnings.warn(\n"
          ]
        },
        {
          "output_type": "stream",
          "name": "stdout",
          "text": [
            "[07:46:10] WARNING: ../src/learner.cc:767: \n",
            "Parameters: { \"folds\" } are not used.\n",
            "\n"
          ]
        },
        {
          "output_type": "stream",
          "name": "stderr",
          "text": [
            "\u001b[32m[I 2023-04-25 07:46:47,170]\u001b[0m Trial 32 finished with value: 1.202328545689359 and parameters: {'lambda': 2.2945154417285956, 'alpha': 0.03892941519670415, 'colsample_bytree': 0.8, 'subsample': 0.5, 'learning_rate': 0.008, 'max_depth': 13, 'random_state': 48, 'min_child_weight': 11}. Best is trial 17 with value: 1.1905394319016693.\u001b[0m\n",
            "<ipython-input-48-f880d349052c>:16: FutureWarning: suggest_loguniform has been deprecated in v3.0.0. This feature will be removed in v6.0.0. See https://github.com/optuna/optuna/releases/tag/v3.0.0. Use :func:`~optuna.trial.Trial.suggest_float` instead.\n",
            "  'lambda': trial.suggest_loguniform('lambda', 1e-3, 10.0),\n",
            "<ipython-input-48-f880d349052c>:17: FutureWarning: suggest_loguniform has been deprecated in v3.0.0. This feature will be removed in v6.0.0. See https://github.com/optuna/optuna/releases/tag/v3.0.0. Use :func:`~optuna.trial.Trial.suggest_float` instead.\n",
            "  'alpha': trial.suggest_loguniform('alpha', 1e-3, 10.0),\n",
            "/usr/local/lib/python3.9/dist-packages/xgboost/sklearn.py:835: UserWarning: `early_stopping_rounds` in `fit` method is deprecated for better compatibility with scikit-learn, use `early_stopping_rounds` in constructor or`set_params` instead.\n",
            "  warnings.warn(\n"
          ]
        },
        {
          "output_type": "stream",
          "name": "stdout",
          "text": [
            "[07:46:47] WARNING: ../src/learner.cc:767: \n",
            "Parameters: { \"folds\" } are not used.\n",
            "\n"
          ]
        },
        {
          "output_type": "stream",
          "name": "stderr",
          "text": [
            "\u001b[32m[I 2023-04-25 07:47:12,668]\u001b[0m Trial 33 finished with value: 1.3323115409790576 and parameters: {'lambda': 0.935472598982549, 'alpha': 7.81137933747011, 'colsample_bytree': 0.8, 'subsample': 0.5, 'learning_rate': 0.008, 'max_depth': 13, 'random_state': 48, 'min_child_weight': 296}. Best is trial 17 with value: 1.1905394319016693.\u001b[0m\n",
            "<ipython-input-48-f880d349052c>:16: FutureWarning: suggest_loguniform has been deprecated in v3.0.0. This feature will be removed in v6.0.0. See https://github.com/optuna/optuna/releases/tag/v3.0.0. Use :func:`~optuna.trial.Trial.suggest_float` instead.\n",
            "  'lambda': trial.suggest_loguniform('lambda', 1e-3, 10.0),\n",
            "<ipython-input-48-f880d349052c>:17: FutureWarning: suggest_loguniform has been deprecated in v3.0.0. This feature will be removed in v6.0.0. See https://github.com/optuna/optuna/releases/tag/v3.0.0. Use :func:`~optuna.trial.Trial.suggest_float` instead.\n",
            "  'alpha': trial.suggest_loguniform('alpha', 1e-3, 10.0),\n",
            "/usr/local/lib/python3.9/dist-packages/xgboost/sklearn.py:835: UserWarning: `early_stopping_rounds` in `fit` method is deprecated for better compatibility with scikit-learn, use `early_stopping_rounds` in constructor or`set_params` instead.\n",
            "  warnings.warn(\n"
          ]
        },
        {
          "output_type": "stream",
          "name": "stdout",
          "text": [
            "[07:47:12] WARNING: ../src/learner.cc:767: \n",
            "Parameters: { \"folds\" } are not used.\n",
            "\n"
          ]
        },
        {
          "output_type": "stream",
          "name": "stderr",
          "text": [
            "\u001b[32m[I 2023-04-25 07:47:32,593]\u001b[0m Trial 34 finished with value: 1.2164111058976117 and parameters: {'lambda': 2.397310156873482, 'alpha': 0.2668477132168417, 'colsample_bytree': 0.7, 'subsample': 0.5, 'learning_rate': 0.012, 'max_depth': 20, 'random_state': 24, 'min_child_weight': 40}. Best is trial 17 with value: 1.1905394319016693.\u001b[0m\n",
            "<ipython-input-48-f880d349052c>:16: FutureWarning: suggest_loguniform has been deprecated in v3.0.0. This feature will be removed in v6.0.0. See https://github.com/optuna/optuna/releases/tag/v3.0.0. Use :func:`~optuna.trial.Trial.suggest_float` instead.\n",
            "  'lambda': trial.suggest_loguniform('lambda', 1e-3, 10.0),\n",
            "<ipython-input-48-f880d349052c>:17: FutureWarning: suggest_loguniform has been deprecated in v3.0.0. This feature will be removed in v6.0.0. See https://github.com/optuna/optuna/releases/tag/v3.0.0. Use :func:`~optuna.trial.Trial.suggest_float` instead.\n",
            "  'alpha': trial.suggest_loguniform('alpha', 1e-3, 10.0),\n",
            "/usr/local/lib/python3.9/dist-packages/xgboost/sklearn.py:835: UserWarning: `early_stopping_rounds` in `fit` method is deprecated for better compatibility with scikit-learn, use `early_stopping_rounds` in constructor or`set_params` instead.\n",
            "  warnings.warn(\n"
          ]
        },
        {
          "output_type": "stream",
          "name": "stdout",
          "text": [
            "[07:47:32] WARNING: ../src/learner.cc:767: \n",
            "Parameters: { \"folds\" } are not used.\n",
            "\n"
          ]
        },
        {
          "output_type": "stream",
          "name": "stderr",
          "text": [
            "\u001b[32m[I 2023-04-25 07:47:53,348]\u001b[0m Trial 35 finished with value: 1.2102088611302924 and parameters: {'lambda': 3.7240891698328515, 'alpha': 0.0982613528555351, 'colsample_bytree': 0.9, 'subsample': 0.5, 'learning_rate': 0.014, 'max_depth': 9, 'random_state': 48, 'min_child_weight': 26}. Best is trial 17 with value: 1.1905394319016693.\u001b[0m\n",
            "<ipython-input-48-f880d349052c>:16: FutureWarning: suggest_loguniform has been deprecated in v3.0.0. This feature will be removed in v6.0.0. See https://github.com/optuna/optuna/releases/tag/v3.0.0. Use :func:`~optuna.trial.Trial.suggest_float` instead.\n",
            "  'lambda': trial.suggest_loguniform('lambda', 1e-3, 10.0),\n",
            "<ipython-input-48-f880d349052c>:17: FutureWarning: suggest_loguniform has been deprecated in v3.0.0. This feature will be removed in v6.0.0. See https://github.com/optuna/optuna/releases/tag/v3.0.0. Use :func:`~optuna.trial.Trial.suggest_float` instead.\n",
            "  'alpha': trial.suggest_loguniform('alpha', 1e-3, 10.0),\n",
            "/usr/local/lib/python3.9/dist-packages/xgboost/sklearn.py:835: UserWarning: `early_stopping_rounds` in `fit` method is deprecated for better compatibility with scikit-learn, use `early_stopping_rounds` in constructor or`set_params` instead.\n",
            "  warnings.warn(\n"
          ]
        },
        {
          "output_type": "stream",
          "name": "stdout",
          "text": [
            "[07:47:53] WARNING: ../src/learner.cc:767: \n",
            "Parameters: { \"folds\" } are not used.\n",
            "\n"
          ]
        },
        {
          "output_type": "stream",
          "name": "stderr",
          "text": [
            "\u001b[32m[I 2023-04-25 07:48:37,732]\u001b[0m Trial 36 finished with value: 1.2189844828425873 and parameters: {'lambda': 0.4434729574437595, 'alpha': 0.06858300430713966, 'colsample_bytree': 1.0, 'subsample': 0.7, 'learning_rate': 0.008, 'max_depth': 15, 'random_state': 24, 'min_child_weight': 51}. Best is trial 17 with value: 1.1905394319016693.\u001b[0m\n",
            "<ipython-input-48-f880d349052c>:16: FutureWarning: suggest_loguniform has been deprecated in v3.0.0. This feature will be removed in v6.0.0. See https://github.com/optuna/optuna/releases/tag/v3.0.0. Use :func:`~optuna.trial.Trial.suggest_float` instead.\n",
            "  'lambda': trial.suggest_loguniform('lambda', 1e-3, 10.0),\n",
            "<ipython-input-48-f880d349052c>:17: FutureWarning: suggest_loguniform has been deprecated in v3.0.0. This feature will be removed in v6.0.0. See https://github.com/optuna/optuna/releases/tag/v3.0.0. Use :func:`~optuna.trial.Trial.suggest_float` instead.\n",
            "  'alpha': trial.suggest_loguniform('alpha', 1e-3, 10.0),\n",
            "/usr/local/lib/python3.9/dist-packages/xgboost/sklearn.py:835: UserWarning: `early_stopping_rounds` in `fit` method is deprecated for better compatibility with scikit-learn, use `early_stopping_rounds` in constructor or`set_params` instead.\n",
            "  warnings.warn(\n"
          ]
        },
        {
          "output_type": "stream",
          "name": "stdout",
          "text": [
            "[07:48:37] WARNING: ../src/learner.cc:767: \n",
            "Parameters: { \"folds\" } are not used.\n",
            "\n"
          ]
        },
        {
          "output_type": "stream",
          "name": "stderr",
          "text": [
            "\u001b[32m[I 2023-04-25 07:49:09,736]\u001b[0m Trial 37 finished with value: 1.2088293679209956 and parameters: {'lambda': 1.262947750800741, 'alpha': 2.0520531445693195, 'colsample_bytree': 0.8, 'subsample': 0.8, 'learning_rate': 0.01, 'max_depth': 7, 'random_state': 48, 'min_child_weight': 77}. Best is trial 17 with value: 1.1905394319016693.\u001b[0m\n",
            "<ipython-input-48-f880d349052c>:16: FutureWarning: suggest_loguniform has been deprecated in v3.0.0. This feature will be removed in v6.0.0. See https://github.com/optuna/optuna/releases/tag/v3.0.0. Use :func:`~optuna.trial.Trial.suggest_float` instead.\n",
            "  'lambda': trial.suggest_loguniform('lambda', 1e-3, 10.0),\n",
            "<ipython-input-48-f880d349052c>:17: FutureWarning: suggest_loguniform has been deprecated in v3.0.0. This feature will be removed in v6.0.0. See https://github.com/optuna/optuna/releases/tag/v3.0.0. Use :func:`~optuna.trial.Trial.suggest_float` instead.\n",
            "  'alpha': trial.suggest_loguniform('alpha', 1e-3, 10.0),\n",
            "/usr/local/lib/python3.9/dist-packages/xgboost/sklearn.py:835: UserWarning: `early_stopping_rounds` in `fit` method is deprecated for better compatibility with scikit-learn, use `early_stopping_rounds` in constructor or`set_params` instead.\n",
            "  warnings.warn(\n"
          ]
        },
        {
          "output_type": "stream",
          "name": "stdout",
          "text": [
            "[07:49:09] WARNING: ../src/learner.cc:767: \n",
            "Parameters: { \"folds\" } are not used.\n",
            "\n"
          ]
        },
        {
          "output_type": "stream",
          "name": "stderr",
          "text": [
            "\u001b[32m[I 2023-04-25 07:49:46,653]\u001b[0m Trial 38 finished with value: 1.1975915103401105 and parameters: {'lambda': 0.47610841635566636, 'alpha': 6.934032439064383, 'colsample_bytree': 0.3, 'subsample': 1.0, 'learning_rate': 0.009, 'max_depth': 17, 'random_state': 24, 'min_child_weight': 12}. Best is trial 17 with value: 1.1905394319016693.\u001b[0m\n",
            "<ipython-input-48-f880d349052c>:16: FutureWarning: suggest_loguniform has been deprecated in v3.0.0. This feature will be removed in v6.0.0. See https://github.com/optuna/optuna/releases/tag/v3.0.0. Use :func:`~optuna.trial.Trial.suggest_float` instead.\n",
            "  'lambda': trial.suggest_loguniform('lambda', 1e-3, 10.0),\n",
            "<ipython-input-48-f880d349052c>:17: FutureWarning: suggest_loguniform has been deprecated in v3.0.0. This feature will be removed in v6.0.0. See https://github.com/optuna/optuna/releases/tag/v3.0.0. Use :func:`~optuna.trial.Trial.suggest_float` instead.\n",
            "  'alpha': trial.suggest_loguniform('alpha', 1e-3, 10.0),\n",
            "/usr/local/lib/python3.9/dist-packages/xgboost/sklearn.py:835: UserWarning: `early_stopping_rounds` in `fit` method is deprecated for better compatibility with scikit-learn, use `early_stopping_rounds` in constructor or`set_params` instead.\n",
            "  warnings.warn(\n"
          ]
        },
        {
          "output_type": "stream",
          "name": "stdout",
          "text": [
            "[07:49:46] WARNING: ../src/learner.cc:767: \n",
            "Parameters: { \"folds\" } are not used.\n",
            "\n"
          ]
        },
        {
          "output_type": "stream",
          "name": "stderr",
          "text": [
            "\u001b[32m[I 2023-04-25 07:50:15,384]\u001b[0m Trial 39 finished with value: 1.2166893297804826 and parameters: {'lambda': 0.24712102034775343, 'alpha': 5.022975404362465, 'colsample_bytree': 0.3, 'subsample': 1.0, 'learning_rate': 0.009, 'max_depth': 17, 'random_state': 24, 'min_child_weight': 107}. Best is trial 17 with value: 1.1905394319016693.\u001b[0m\n",
            "<ipython-input-48-f880d349052c>:16: FutureWarning: suggest_loguniform has been deprecated in v3.0.0. This feature will be removed in v6.0.0. See https://github.com/optuna/optuna/releases/tag/v3.0.0. Use :func:`~optuna.trial.Trial.suggest_float` instead.\n",
            "  'lambda': trial.suggest_loguniform('lambda', 1e-3, 10.0),\n",
            "<ipython-input-48-f880d349052c>:17: FutureWarning: suggest_loguniform has been deprecated in v3.0.0. This feature will be removed in v6.0.0. See https://github.com/optuna/optuna/releases/tag/v3.0.0. Use :func:`~optuna.trial.Trial.suggest_float` instead.\n",
            "  'alpha': trial.suggest_loguniform('alpha', 1e-3, 10.0),\n",
            "/usr/local/lib/python3.9/dist-packages/xgboost/sklearn.py:835: UserWarning: `early_stopping_rounds` in `fit` method is deprecated for better compatibility with scikit-learn, use `early_stopping_rounds` in constructor or`set_params` instead.\n",
            "  warnings.warn(\n"
          ]
        },
        {
          "output_type": "stream",
          "name": "stdout",
          "text": [
            "[07:50:15] WARNING: ../src/learner.cc:767: \n",
            "Parameters: { \"folds\" } are not used.\n",
            "\n"
          ]
        },
        {
          "output_type": "stream",
          "name": "stderr",
          "text": [
            "\u001b[32m[I 2023-04-25 07:50:43,852]\u001b[0m Trial 40 finished with value: 1.2503404012416184 and parameters: {'lambda': 0.47995949642870084, 'alpha': 8.023221373924233, 'colsample_bytree': 0.3, 'subsample': 1.0, 'learning_rate': 0.009, 'max_depth': 17, 'random_state': 24, 'min_child_weight': 211}. Best is trial 17 with value: 1.1905394319016693.\u001b[0m\n",
            "<ipython-input-48-f880d349052c>:16: FutureWarning: suggest_loguniform has been deprecated in v3.0.0. This feature will be removed in v6.0.0. See https://github.com/optuna/optuna/releases/tag/v3.0.0. Use :func:`~optuna.trial.Trial.suggest_float` instead.\n",
            "  'lambda': trial.suggest_loguniform('lambda', 1e-3, 10.0),\n",
            "<ipython-input-48-f880d349052c>:17: FutureWarning: suggest_loguniform has been deprecated in v3.0.0. This feature will be removed in v6.0.0. See https://github.com/optuna/optuna/releases/tag/v3.0.0. Use :func:`~optuna.trial.Trial.suggest_float` instead.\n",
            "  'alpha': trial.suggest_loguniform('alpha', 1e-3, 10.0),\n",
            "/usr/local/lib/python3.9/dist-packages/xgboost/sklearn.py:835: UserWarning: `early_stopping_rounds` in `fit` method is deprecated for better compatibility with scikit-learn, use `early_stopping_rounds` in constructor or`set_params` instead.\n",
            "  warnings.warn(\n"
          ]
        },
        {
          "output_type": "stream",
          "name": "stdout",
          "text": [
            "[07:50:43] WARNING: ../src/learner.cc:767: \n",
            "Parameters: { \"folds\" } are not used.\n",
            "\n"
          ]
        },
        {
          "output_type": "stream",
          "name": "stderr",
          "text": [
            "\u001b[32m[I 2023-04-25 07:51:06,436]\u001b[0m Trial 41 finished with value: 1.1929758871907172 and parameters: {'lambda': 0.6801271009528304, 'alpha': 4.62168619967699, 'colsample_bytree': 0.3, 'subsample': 1.0, 'learning_rate': 0.018, 'max_depth': 17, 'random_state': 24, 'min_child_weight': 12}. Best is trial 17 with value: 1.1905394319016693.\u001b[0m\n",
            "<ipython-input-48-f880d349052c>:16: FutureWarning: suggest_loguniform has been deprecated in v3.0.0. This feature will be removed in v6.0.0. See https://github.com/optuna/optuna/releases/tag/v3.0.0. Use :func:`~optuna.trial.Trial.suggest_float` instead.\n",
            "  'lambda': trial.suggest_loguniform('lambda', 1e-3, 10.0),\n",
            "<ipython-input-48-f880d349052c>:17: FutureWarning: suggest_loguniform has been deprecated in v3.0.0. This feature will be removed in v6.0.0. See https://github.com/optuna/optuna/releases/tag/v3.0.0. Use :func:`~optuna.trial.Trial.suggest_float` instead.\n",
            "  'alpha': trial.suggest_loguniform('alpha', 1e-3, 10.0),\n",
            "/usr/local/lib/python3.9/dist-packages/xgboost/sklearn.py:835: UserWarning: `early_stopping_rounds` in `fit` method is deprecated for better compatibility with scikit-learn, use `early_stopping_rounds` in constructor or`set_params` instead.\n",
            "  warnings.warn(\n"
          ]
        },
        {
          "output_type": "stream",
          "name": "stdout",
          "text": [
            "[07:51:06] WARNING: ../src/learner.cc:767: \n",
            "Parameters: { \"folds\" } are not used.\n",
            "\n"
          ]
        },
        {
          "output_type": "stream",
          "name": "stderr",
          "text": [
            "\u001b[32m[I 2023-04-25 07:51:36,126]\u001b[0m Trial 42 finished with value: 1.202056319384845 and parameters: {'lambda': 0.6427846515334843, 'alpha': 5.379931370115662, 'colsample_bytree': 0.3, 'subsample': 1.0, 'learning_rate': 0.018, 'max_depth': 17, 'random_state': 24, 'min_child_weight': 2}. Best is trial 17 with value: 1.1905394319016693.\u001b[0m\n",
            "<ipython-input-48-f880d349052c>:16: FutureWarning: suggest_loguniform has been deprecated in v3.0.0. This feature will be removed in v6.0.0. See https://github.com/optuna/optuna/releases/tag/v3.0.0. Use :func:`~optuna.trial.Trial.suggest_float` instead.\n",
            "  'lambda': trial.suggest_loguniform('lambda', 1e-3, 10.0),\n",
            "<ipython-input-48-f880d349052c>:17: FutureWarning: suggest_loguniform has been deprecated in v3.0.0. This feature will be removed in v6.0.0. See https://github.com/optuna/optuna/releases/tag/v3.0.0. Use :func:`~optuna.trial.Trial.suggest_float` instead.\n",
            "  'alpha': trial.suggest_loguniform('alpha', 1e-3, 10.0),\n",
            "/usr/local/lib/python3.9/dist-packages/xgboost/sklearn.py:835: UserWarning: `early_stopping_rounds` in `fit` method is deprecated for better compatibility with scikit-learn, use `early_stopping_rounds` in constructor or`set_params` instead.\n",
            "  warnings.warn(\n"
          ]
        },
        {
          "output_type": "stream",
          "name": "stdout",
          "text": [
            "[07:51:36] WARNING: ../src/learner.cc:767: \n",
            "Parameters: { \"folds\" } are not used.\n",
            "\n"
          ]
        },
        {
          "output_type": "stream",
          "name": "stderr",
          "text": [
            "\u001b[32m[I 2023-04-25 07:51:49,338]\u001b[0m Trial 43 finished with value: 1.1989176943270916 and parameters: {'lambda': 0.30900583369166174, 'alpha': 4.098063691084799, 'colsample_bytree': 0.3, 'subsample': 1.0, 'learning_rate': 0.018, 'max_depth': 17, 'random_state': 24, 'min_child_weight': 40}. Best is trial 17 with value: 1.1905394319016693.\u001b[0m\n",
            "<ipython-input-48-f880d349052c>:16: FutureWarning: suggest_loguniform has been deprecated in v3.0.0. This feature will be removed in v6.0.0. See https://github.com/optuna/optuna/releases/tag/v3.0.0. Use :func:`~optuna.trial.Trial.suggest_float` instead.\n",
            "  'lambda': trial.suggest_loguniform('lambda', 1e-3, 10.0),\n",
            "<ipython-input-48-f880d349052c>:17: FutureWarning: suggest_loguniform has been deprecated in v3.0.0. This feature will be removed in v6.0.0. See https://github.com/optuna/optuna/releases/tag/v3.0.0. Use :func:`~optuna.trial.Trial.suggest_float` instead.\n",
            "  'alpha': trial.suggest_loguniform('alpha', 1e-3, 10.0),\n",
            "/usr/local/lib/python3.9/dist-packages/xgboost/sklearn.py:835: UserWarning: `early_stopping_rounds` in `fit` method is deprecated for better compatibility with scikit-learn, use `early_stopping_rounds` in constructor or`set_params` instead.\n",
            "  warnings.warn(\n"
          ]
        },
        {
          "output_type": "stream",
          "name": "stdout",
          "text": [
            "[07:51:49] WARNING: ../src/learner.cc:767: \n",
            "Parameters: { \"folds\" } are not used.\n",
            "\n"
          ]
        },
        {
          "output_type": "stream",
          "name": "stderr",
          "text": [
            "\u001b[32m[I 2023-04-25 07:52:05,369]\u001b[0m Trial 44 finished with value: 1.198422757050654 and parameters: {'lambda': 0.2930175020780148, 'alpha': 4.549736031569196, 'colsample_bytree': 0.3, 'subsample': 1.0, 'learning_rate': 0.018, 'max_depth': 17, 'random_state': 24, 'min_child_weight': 18}. Best is trial 17 with value: 1.1905394319016693.\u001b[0m\n",
            "<ipython-input-48-f880d349052c>:16: FutureWarning: suggest_loguniform has been deprecated in v3.0.0. This feature will be removed in v6.0.0. See https://github.com/optuna/optuna/releases/tag/v3.0.0. Use :func:`~optuna.trial.Trial.suggest_float` instead.\n",
            "  'lambda': trial.suggest_loguniform('lambda', 1e-3, 10.0),\n",
            "<ipython-input-48-f880d349052c>:17: FutureWarning: suggest_loguniform has been deprecated in v3.0.0. This feature will be removed in v6.0.0. See https://github.com/optuna/optuna/releases/tag/v3.0.0. Use :func:`~optuna.trial.Trial.suggest_float` instead.\n",
            "  'alpha': trial.suggest_loguniform('alpha', 1e-3, 10.0),\n",
            "/usr/local/lib/python3.9/dist-packages/xgboost/sklearn.py:835: UserWarning: `early_stopping_rounds` in `fit` method is deprecated for better compatibility with scikit-learn, use `early_stopping_rounds` in constructor or`set_params` instead.\n",
            "  warnings.warn(\n"
          ]
        },
        {
          "output_type": "stream",
          "name": "stdout",
          "text": [
            "[07:52:05] WARNING: ../src/learner.cc:767: \n",
            "Parameters: { \"folds\" } are not used.\n",
            "\n"
          ]
        },
        {
          "output_type": "stream",
          "name": "stderr",
          "text": [
            "\u001b[32m[I 2023-04-25 07:52:29,352]\u001b[0m Trial 45 finished with value: 1.1986322198444885 and parameters: {'lambda': 0.16107807117341413, 'alpha': 9.047903382325503, 'colsample_bytree': 0.3, 'subsample': 1.0, 'learning_rate': 0.018, 'max_depth': 17, 'random_state': 24, 'min_child_weight': 17}. Best is trial 17 with value: 1.1905394319016693.\u001b[0m\n",
            "<ipython-input-48-f880d349052c>:16: FutureWarning: suggest_loguniform has been deprecated in v3.0.0. This feature will be removed in v6.0.0. See https://github.com/optuna/optuna/releases/tag/v3.0.0. Use :func:`~optuna.trial.Trial.suggest_float` instead.\n",
            "  'lambda': trial.suggest_loguniform('lambda', 1e-3, 10.0),\n",
            "<ipython-input-48-f880d349052c>:17: FutureWarning: suggest_loguniform has been deprecated in v3.0.0. This feature will be removed in v6.0.0. See https://github.com/optuna/optuna/releases/tag/v3.0.0. Use :func:`~optuna.trial.Trial.suggest_float` instead.\n",
            "  'alpha': trial.suggest_loguniform('alpha', 1e-3, 10.0),\n",
            "/usr/local/lib/python3.9/dist-packages/xgboost/sklearn.py:835: UserWarning: `early_stopping_rounds` in `fit` method is deprecated for better compatibility with scikit-learn, use `early_stopping_rounds` in constructor or`set_params` instead.\n",
            "  warnings.warn(\n"
          ]
        },
        {
          "output_type": "stream",
          "name": "stdout",
          "text": [
            "[07:52:29] WARNING: ../src/learner.cc:767: \n",
            "Parameters: { \"folds\" } are not used.\n",
            "\n"
          ]
        },
        {
          "output_type": "stream",
          "name": "stderr",
          "text": [
            "\u001b[32m[I 2023-04-25 07:52:43,693]\u001b[0m Trial 46 finished with value: 1.2076121577124224 and parameters: {'lambda': 0.3031938347722914, 'alpha': 1.9662460119803613, 'colsample_bytree': 0.3, 'subsample': 1.0, 'learning_rate': 0.018, 'max_depth': 17, 'random_state': 24, 'min_child_weight': 55}. Best is trial 17 with value: 1.1905394319016693.\u001b[0m\n",
            "<ipython-input-48-f880d349052c>:16: FutureWarning: suggest_loguniform has been deprecated in v3.0.0. This feature will be removed in v6.0.0. See https://github.com/optuna/optuna/releases/tag/v3.0.0. Use :func:`~optuna.trial.Trial.suggest_float` instead.\n",
            "  'lambda': trial.suggest_loguniform('lambda', 1e-3, 10.0),\n",
            "<ipython-input-48-f880d349052c>:17: FutureWarning: suggest_loguniform has been deprecated in v3.0.0. This feature will be removed in v6.0.0. See https://github.com/optuna/optuna/releases/tag/v3.0.0. Use :func:`~optuna.trial.Trial.suggest_float` instead.\n",
            "  'alpha': trial.suggest_loguniform('alpha', 1e-3, 10.0),\n",
            "/usr/local/lib/python3.9/dist-packages/xgboost/sklearn.py:835: UserWarning: `early_stopping_rounds` in `fit` method is deprecated for better compatibility with scikit-learn, use `early_stopping_rounds` in constructor or`set_params` instead.\n",
            "  warnings.warn(\n"
          ]
        },
        {
          "output_type": "stream",
          "name": "stdout",
          "text": [
            "[07:52:43] WARNING: ../src/learner.cc:767: \n",
            "Parameters: { \"folds\" } are not used.\n",
            "\n"
          ]
        },
        {
          "output_type": "stream",
          "name": "stderr",
          "text": [
            "\u001b[32m[I 2023-04-25 07:52:58,714]\u001b[0m Trial 47 finished with value: 1.1974111184249263 and parameters: {'lambda': 0.19702224357630782, 'alpha': 5.293548768482051, 'colsample_bytree': 0.3, 'subsample': 1.0, 'learning_rate': 0.018, 'max_depth': 17, 'random_state': 24, 'min_child_weight': 29}. Best is trial 17 with value: 1.1905394319016693.\u001b[0m\n",
            "<ipython-input-48-f880d349052c>:16: FutureWarning: suggest_loguniform has been deprecated in v3.0.0. This feature will be removed in v6.0.0. See https://github.com/optuna/optuna/releases/tag/v3.0.0. Use :func:`~optuna.trial.Trial.suggest_float` instead.\n",
            "  'lambda': trial.suggest_loguniform('lambda', 1e-3, 10.0),\n",
            "<ipython-input-48-f880d349052c>:17: FutureWarning: suggest_loguniform has been deprecated in v3.0.0. This feature will be removed in v6.0.0. See https://github.com/optuna/optuna/releases/tag/v3.0.0. Use :func:`~optuna.trial.Trial.suggest_float` instead.\n",
            "  'alpha': trial.suggest_loguniform('alpha', 1e-3, 10.0),\n",
            "/usr/local/lib/python3.9/dist-packages/xgboost/sklearn.py:835: UserWarning: `early_stopping_rounds` in `fit` method is deprecated for better compatibility with scikit-learn, use `early_stopping_rounds` in constructor or`set_params` instead.\n",
            "  warnings.warn(\n"
          ]
        },
        {
          "output_type": "stream",
          "name": "stdout",
          "text": [
            "[07:52:58] WARNING: ../src/learner.cc:767: \n",
            "Parameters: { \"folds\" } are not used.\n",
            "\n"
          ]
        },
        {
          "output_type": "stream",
          "name": "stderr",
          "text": [
            "\u001b[32m[I 2023-04-25 07:53:35,768]\u001b[0m Trial 48 finished with value: 1.1957710826702412 and parameters: {'lambda': 0.16207218155719594, 'alpha': 2.9836029583205765, 'colsample_bytree': 0.3, 'subsample': 1.0, 'learning_rate': 0.009, 'max_depth': 17, 'random_state': 24, 'min_child_weight': 33}. Best is trial 17 with value: 1.1905394319016693.\u001b[0m\n",
            "<ipython-input-48-f880d349052c>:16: FutureWarning: suggest_loguniform has been deprecated in v3.0.0. This feature will be removed in v6.0.0. See https://github.com/optuna/optuna/releases/tag/v3.0.0. Use :func:`~optuna.trial.Trial.suggest_float` instead.\n",
            "  'lambda': trial.suggest_loguniform('lambda', 1e-3, 10.0),\n",
            "<ipython-input-48-f880d349052c>:17: FutureWarning: suggest_loguniform has been deprecated in v3.0.0. This feature will be removed in v6.0.0. See https://github.com/optuna/optuna/releases/tag/v3.0.0. Use :func:`~optuna.trial.Trial.suggest_float` instead.\n",
            "  'alpha': trial.suggest_loguniform('alpha', 1e-3, 10.0),\n",
            "/usr/local/lib/python3.9/dist-packages/xgboost/sklearn.py:835: UserWarning: `early_stopping_rounds` in `fit` method is deprecated for better compatibility with scikit-learn, use `early_stopping_rounds` in constructor or`set_params` instead.\n",
            "  warnings.warn(\n"
          ]
        },
        {
          "output_type": "stream",
          "name": "stdout",
          "text": [
            "[07:53:35] WARNING: ../src/learner.cc:767: \n",
            "Parameters: { \"folds\" } are not used.\n",
            "\n"
          ]
        },
        {
          "output_type": "stream",
          "name": "stderr",
          "text": [
            "\u001b[32m[I 2023-04-25 07:53:50,226]\u001b[0m Trial 49 finished with value: 1.2030486194037215 and parameters: {'lambda': 0.18113226282918377, 'alpha': 2.7060817476185, 'colsample_bytree': 0.3, 'subsample': 1.0, 'learning_rate': 0.018, 'max_depth': 5, 'random_state': 24, 'min_child_weight': 32}. Best is trial 17 with value: 1.1905394319016693.\u001b[0m\n",
            "<ipython-input-48-f880d349052c>:16: FutureWarning: suggest_loguniform has been deprecated in v3.0.0. This feature will be removed in v6.0.0. See https://github.com/optuna/optuna/releases/tag/v3.0.0. Use :func:`~optuna.trial.Trial.suggest_float` instead.\n",
            "  'lambda': trial.suggest_loguniform('lambda', 1e-3, 10.0),\n",
            "<ipython-input-48-f880d349052c>:17: FutureWarning: suggest_loguniform has been deprecated in v3.0.0. This feature will be removed in v6.0.0. See https://github.com/optuna/optuna/releases/tag/v3.0.0. Use :func:`~optuna.trial.Trial.suggest_float` instead.\n",
            "  'alpha': trial.suggest_loguniform('alpha', 1e-3, 10.0),\n",
            "/usr/local/lib/python3.9/dist-packages/xgboost/sklearn.py:835: UserWarning: `early_stopping_rounds` in `fit` method is deprecated for better compatibility with scikit-learn, use `early_stopping_rounds` in constructor or`set_params` instead.\n",
            "  warnings.warn(\n"
          ]
        },
        {
          "output_type": "stream",
          "name": "stdout",
          "text": [
            "[07:53:50] WARNING: ../src/learner.cc:767: \n",
            "Parameters: { \"folds\" } are not used.\n",
            "\n"
          ]
        },
        {
          "output_type": "stream",
          "name": "stderr",
          "text": [
            "\u001b[32m[I 2023-04-25 07:54:16,575]\u001b[0m Trial 50 finished with value: 1.2216339977761943 and parameters: {'lambda': 0.10332374446471237, 'alpha': 2.0186724749578726, 'colsample_bytree': 0.5, 'subsample': 0.6, 'learning_rate': 0.009, 'max_depth': 17, 'random_state': 24, 'min_child_weight': 51}. Best is trial 17 with value: 1.1905394319016693.\u001b[0m\n",
            "<ipython-input-48-f880d349052c>:16: FutureWarning: suggest_loguniform has been deprecated in v3.0.0. This feature will be removed in v6.0.0. See https://github.com/optuna/optuna/releases/tag/v3.0.0. Use :func:`~optuna.trial.Trial.suggest_float` instead.\n",
            "  'lambda': trial.suggest_loguniform('lambda', 1e-3, 10.0),\n",
            "<ipython-input-48-f880d349052c>:17: FutureWarning: suggest_loguniform has been deprecated in v3.0.0. This feature will be removed in v6.0.0. See https://github.com/optuna/optuna/releases/tag/v3.0.0. Use :func:`~optuna.trial.Trial.suggest_float` instead.\n",
            "  'alpha': trial.suggest_loguniform('alpha', 1e-3, 10.0),\n",
            "/usr/local/lib/python3.9/dist-packages/xgboost/sklearn.py:835: UserWarning: `early_stopping_rounds` in `fit` method is deprecated for better compatibility with scikit-learn, use `early_stopping_rounds` in constructor or`set_params` instead.\n",
            "  warnings.warn(\n"
          ]
        },
        {
          "output_type": "stream",
          "name": "stdout",
          "text": [
            "[07:54:16] WARNING: ../src/learner.cc:767: \n",
            "Parameters: { \"folds\" } are not used.\n",
            "\n"
          ]
        },
        {
          "output_type": "stream",
          "name": "stderr",
          "text": [
            "\u001b[32m[I 2023-04-25 07:54:57,459]\u001b[0m Trial 51 finished with value: 1.195102718099015 and parameters: {'lambda': 0.19756736010688733, 'alpha': 6.056988330836171, 'colsample_bytree': 0.3, 'subsample': 1.0, 'learning_rate': 0.009, 'max_depth': 17, 'random_state': 24, 'min_child_weight': 10}. Best is trial 17 with value: 1.1905394319016693.\u001b[0m\n",
            "<ipython-input-48-f880d349052c>:16: FutureWarning: suggest_loguniform has been deprecated in v3.0.0. This feature will be removed in v6.0.0. See https://github.com/optuna/optuna/releases/tag/v3.0.0. Use :func:`~optuna.trial.Trial.suggest_float` instead.\n",
            "  'lambda': trial.suggest_loguniform('lambda', 1e-3, 10.0),\n",
            "<ipython-input-48-f880d349052c>:17: FutureWarning: suggest_loguniform has been deprecated in v3.0.0. This feature will be removed in v6.0.0. See https://github.com/optuna/optuna/releases/tag/v3.0.0. Use :func:`~optuna.trial.Trial.suggest_float` instead.\n",
            "  'alpha': trial.suggest_loguniform('alpha', 1e-3, 10.0),\n",
            "/usr/local/lib/python3.9/dist-packages/xgboost/sklearn.py:835: UserWarning: `early_stopping_rounds` in `fit` method is deprecated for better compatibility with scikit-learn, use `early_stopping_rounds` in constructor or`set_params` instead.\n",
            "  warnings.warn(\n"
          ]
        },
        {
          "output_type": "stream",
          "name": "stdout",
          "text": [
            "[07:54:57] WARNING: ../src/learner.cc:767: \n",
            "Parameters: { \"folds\" } are not used.\n",
            "\n"
          ]
        },
        {
          "output_type": "stream",
          "name": "stderr",
          "text": [
            "\u001b[32m[I 2023-04-25 07:55:27,879]\u001b[0m Trial 52 finished with value: 1.1932643891116186 and parameters: {'lambda': 0.178585453564267, 'alpha': 5.985988667666954, 'colsample_bytree': 0.3, 'subsample': 1.0, 'learning_rate': 0.009, 'max_depth': 17, 'random_state': 24, 'min_child_weight': 32}. Best is trial 17 with value: 1.1905394319016693.\u001b[0m\n",
            "<ipython-input-48-f880d349052c>:16: FutureWarning: suggest_loguniform has been deprecated in v3.0.0. This feature will be removed in v6.0.0. See https://github.com/optuna/optuna/releases/tag/v3.0.0. Use :func:`~optuna.trial.Trial.suggest_float` instead.\n",
            "  'lambda': trial.suggest_loguniform('lambda', 1e-3, 10.0),\n",
            "<ipython-input-48-f880d349052c>:17: FutureWarning: suggest_loguniform has been deprecated in v3.0.0. This feature will be removed in v6.0.0. See https://github.com/optuna/optuna/releases/tag/v3.0.0. Use :func:`~optuna.trial.Trial.suggest_float` instead.\n",
            "  'alpha': trial.suggest_loguniform('alpha', 1e-3, 10.0),\n",
            "/usr/local/lib/python3.9/dist-packages/xgboost/sklearn.py:835: UserWarning: `early_stopping_rounds` in `fit` method is deprecated for better compatibility with scikit-learn, use `early_stopping_rounds` in constructor or`set_params` instead.\n",
            "  warnings.warn(\n"
          ]
        },
        {
          "output_type": "stream",
          "name": "stdout",
          "text": [
            "[07:55:27] WARNING: ../src/learner.cc:767: \n",
            "Parameters: { \"folds\" } are not used.\n",
            "\n"
          ]
        },
        {
          "output_type": "stream",
          "name": "stderr",
          "text": [
            "\u001b[32m[I 2023-04-25 07:55:55,512]\u001b[0m Trial 53 finished with value: 1.2034381644096261 and parameters: {'lambda': 0.09683792234797606, 'alpha': 3.293356592431665, 'colsample_bytree': 0.3, 'subsample': 1.0, 'learning_rate': 0.009, 'max_depth': 17, 'random_state': 24, 'min_child_weight': 61}. Best is trial 17 with value: 1.1905394319016693.\u001b[0m\n",
            "<ipython-input-48-f880d349052c>:16: FutureWarning: suggest_loguniform has been deprecated in v3.0.0. This feature will be removed in v6.0.0. See https://github.com/optuna/optuna/releases/tag/v3.0.0. Use :func:`~optuna.trial.Trial.suggest_float` instead.\n",
            "  'lambda': trial.suggest_loguniform('lambda', 1e-3, 10.0),\n",
            "<ipython-input-48-f880d349052c>:17: FutureWarning: suggest_loguniform has been deprecated in v3.0.0. This feature will be removed in v6.0.0. See https://github.com/optuna/optuna/releases/tag/v3.0.0. Use :func:`~optuna.trial.Trial.suggest_float` instead.\n",
            "  'alpha': trial.suggest_loguniform('alpha', 1e-3, 10.0),\n",
            "/usr/local/lib/python3.9/dist-packages/xgboost/sklearn.py:835: UserWarning: `early_stopping_rounds` in `fit` method is deprecated for better compatibility with scikit-learn, use `early_stopping_rounds` in constructor or`set_params` instead.\n",
            "  warnings.warn(\n"
          ]
        },
        {
          "output_type": "stream",
          "name": "stdout",
          "text": [
            "[07:55:55] WARNING: ../src/learner.cc:767: \n",
            "Parameters: { \"folds\" } are not used.\n",
            "\n"
          ]
        },
        {
          "output_type": "stream",
          "name": "stderr",
          "text": [
            "\u001b[32m[I 2023-04-25 07:56:33,283]\u001b[0m Trial 54 finished with value: 1.2349204560435834 and parameters: {'lambda': 0.05578322293282297, 'alpha': 9.343033666970854, 'colsample_bytree': 1.0, 'subsample': 0.4, 'learning_rate': 0.009, 'max_depth': 17, 'random_state': 24, 'min_child_weight': 42}. Best is trial 17 with value: 1.1905394319016693.\u001b[0m\n",
            "<ipython-input-48-f880d349052c>:16: FutureWarning: suggest_loguniform has been deprecated in v3.0.0. This feature will be removed in v6.0.0. See https://github.com/optuna/optuna/releases/tag/v3.0.0. Use :func:`~optuna.trial.Trial.suggest_float` instead.\n",
            "  'lambda': trial.suggest_loguniform('lambda', 1e-3, 10.0),\n",
            "<ipython-input-48-f880d349052c>:17: FutureWarning: suggest_loguniform has been deprecated in v3.0.0. This feature will be removed in v6.0.0. See https://github.com/optuna/optuna/releases/tag/v3.0.0. Use :func:`~optuna.trial.Trial.suggest_float` instead.\n",
            "  'alpha': trial.suggest_loguniform('alpha', 1e-3, 10.0),\n",
            "/usr/local/lib/python3.9/dist-packages/xgboost/sklearn.py:835: UserWarning: `early_stopping_rounds` in `fit` method is deprecated for better compatibility with scikit-learn, use `early_stopping_rounds` in constructor or`set_params` instead.\n",
            "  warnings.warn(\n"
          ]
        },
        {
          "output_type": "stream",
          "name": "stdout",
          "text": [
            "[07:56:33] WARNING: ../src/learner.cc:767: \n",
            "Parameters: { \"folds\" } are not used.\n",
            "\n"
          ]
        },
        {
          "output_type": "stream",
          "name": "stderr",
          "text": [
            "\u001b[32m[I 2023-04-25 07:57:10,816]\u001b[0m Trial 55 finished with value: 1.202693624267739 and parameters: {'lambda': 0.13616793942926325, 'alpha': 1.3945489439881864, 'colsample_bytree': 0.4, 'subsample': 1.0, 'learning_rate': 0.009, 'max_depth': 9, 'random_state': 24, 'min_child_weight': 1}. Best is trial 17 with value: 1.1905394319016693.\u001b[0m\n",
            "<ipython-input-48-f880d349052c>:16: FutureWarning: suggest_loguniform has been deprecated in v3.0.0. This feature will be removed in v6.0.0. See https://github.com/optuna/optuna/releases/tag/v3.0.0. Use :func:`~optuna.trial.Trial.suggest_float` instead.\n",
            "  'lambda': trial.suggest_loguniform('lambda', 1e-3, 10.0),\n",
            "<ipython-input-48-f880d349052c>:17: FutureWarning: suggest_loguniform has been deprecated in v3.0.0. This feature will be removed in v6.0.0. See https://github.com/optuna/optuna/releases/tag/v3.0.0. Use :func:`~optuna.trial.Trial.suggest_float` instead.\n",
            "  'alpha': trial.suggest_loguniform('alpha', 1e-3, 10.0),\n",
            "/usr/local/lib/python3.9/dist-packages/xgboost/sklearn.py:835: UserWarning: `early_stopping_rounds` in `fit` method is deprecated for better compatibility with scikit-learn, use `early_stopping_rounds` in constructor or`set_params` instead.\n",
            "  warnings.warn(\n"
          ]
        },
        {
          "output_type": "stream",
          "name": "stdout",
          "text": [
            "[07:57:10] WARNING: ../src/learner.cc:767: \n",
            "Parameters: { \"folds\" } are not used.\n",
            "\n"
          ]
        },
        {
          "output_type": "stream",
          "name": "stderr",
          "text": [
            "\u001b[32m[I 2023-04-25 07:57:33,421]\u001b[0m Trial 56 finished with value: 1.188791087440358 and parameters: {'lambda': 0.17638611307289442, 'alpha': 3.8538988857846572, 'colsample_bytree': 0.7, 'subsample': 1.0, 'learning_rate': 0.016, 'max_depth': 5, 'random_state': 24, 'min_child_weight': 13}. Best is trial 56 with value: 1.188791087440358.\u001b[0m\n",
            "<ipython-input-48-f880d349052c>:16: FutureWarning: suggest_loguniform has been deprecated in v3.0.0. This feature will be removed in v6.0.0. See https://github.com/optuna/optuna/releases/tag/v3.0.0. Use :func:`~optuna.trial.Trial.suggest_float` instead.\n",
            "  'lambda': trial.suggest_loguniform('lambda', 1e-3, 10.0),\n",
            "<ipython-input-48-f880d349052c>:17: FutureWarning: suggest_loguniform has been deprecated in v3.0.0. This feature will be removed in v6.0.0. See https://github.com/optuna/optuna/releases/tag/v3.0.0. Use :func:`~optuna.trial.Trial.suggest_float` instead.\n",
            "  'alpha': trial.suggest_loguniform('alpha', 1e-3, 10.0),\n",
            "/usr/local/lib/python3.9/dist-packages/xgboost/sklearn.py:835: UserWarning: `early_stopping_rounds` in `fit` method is deprecated for better compatibility with scikit-learn, use `early_stopping_rounds` in constructor or`set_params` instead.\n",
            "  warnings.warn(\n"
          ]
        },
        {
          "output_type": "stream",
          "name": "stdout",
          "text": [
            "[07:57:33] WARNING: ../src/learner.cc:767: \n",
            "Parameters: { \"folds\" } are not used.\n",
            "\n"
          ]
        },
        {
          "output_type": "stream",
          "name": "stderr",
          "text": [
            "\u001b[32m[I 2023-04-25 07:58:00,651]\u001b[0m Trial 57 finished with value: 1.1992308654585004 and parameters: {'lambda': 0.2090831067965854, 'alpha': 3.5484074714426352, 'colsample_bytree': 0.7, 'subsample': 1.0, 'learning_rate': 0.016, 'max_depth': 20, 'random_state': 24, 'min_child_weight': 74}. Best is trial 56 with value: 1.188791087440358.\u001b[0m\n",
            "<ipython-input-48-f880d349052c>:16: FutureWarning: suggest_loguniform has been deprecated in v3.0.0. This feature will be removed in v6.0.0. See https://github.com/optuna/optuna/releases/tag/v3.0.0. Use :func:`~optuna.trial.Trial.suggest_float` instead.\n",
            "  'lambda': trial.suggest_loguniform('lambda', 1e-3, 10.0),\n",
            "<ipython-input-48-f880d349052c>:17: FutureWarning: suggest_loguniform has been deprecated in v3.0.0. This feature will be removed in v6.0.0. See https://github.com/optuna/optuna/releases/tag/v3.0.0. Use :func:`~optuna.trial.Trial.suggest_float` instead.\n",
            "  'alpha': trial.suggest_loguniform('alpha', 1e-3, 10.0),\n",
            "/usr/local/lib/python3.9/dist-packages/xgboost/sklearn.py:835: UserWarning: `early_stopping_rounds` in `fit` method is deprecated for better compatibility with scikit-learn, use `early_stopping_rounds` in constructor or`set_params` instead.\n",
            "  warnings.warn(\n"
          ]
        },
        {
          "output_type": "stream",
          "name": "stdout",
          "text": [
            "[07:58:00] WARNING: ../src/learner.cc:767: \n",
            "Parameters: { \"folds\" } are not used.\n",
            "\n"
          ]
        },
        {
          "output_type": "stream",
          "name": "stderr",
          "text": [
            "\u001b[32m[I 2023-04-25 07:58:29,533]\u001b[0m Trial 58 finished with value: 1.184167722821997 and parameters: {'lambda': 0.1082899117011074, 'alpha': 6.449640429389442, 'colsample_bytree': 0.7, 'subsample': 1.0, 'learning_rate': 0.016, 'max_depth': 15, 'random_state': 24, 'min_child_weight': 11}. Best is trial 58 with value: 1.184167722821997.\u001b[0m\n",
            "<ipython-input-48-f880d349052c>:16: FutureWarning: suggest_loguniform has been deprecated in v3.0.0. This feature will be removed in v6.0.0. See https://github.com/optuna/optuna/releases/tag/v3.0.0. Use :func:`~optuna.trial.Trial.suggest_float` instead.\n",
            "  'lambda': trial.suggest_loguniform('lambda', 1e-3, 10.0),\n",
            "<ipython-input-48-f880d349052c>:17: FutureWarning: suggest_loguniform has been deprecated in v3.0.0. This feature will be removed in v6.0.0. See https://github.com/optuna/optuna/releases/tag/v3.0.0. Use :func:`~optuna.trial.Trial.suggest_float` instead.\n",
            "  'alpha': trial.suggest_loguniform('alpha', 1e-3, 10.0),\n",
            "/usr/local/lib/python3.9/dist-packages/xgboost/sklearn.py:835: UserWarning: `early_stopping_rounds` in `fit` method is deprecated for better compatibility with scikit-learn, use `early_stopping_rounds` in constructor or`set_params` instead.\n",
            "  warnings.warn(\n"
          ]
        },
        {
          "output_type": "stream",
          "name": "stdout",
          "text": [
            "[07:58:29] WARNING: ../src/learner.cc:767: \n",
            "Parameters: { \"folds\" } are not used.\n",
            "\n"
          ]
        },
        {
          "output_type": "stream",
          "name": "stderr",
          "text": [
            "\u001b[32m[I 2023-04-25 07:59:09,104]\u001b[0m Trial 59 finished with value: 1.1783343208268584 and parameters: {'lambda': 0.32351603816941527, 'alpha': 6.225732423408061, 'colsample_bytree': 0.7, 'subsample': 1.0, 'learning_rate': 0.016, 'max_depth': 15, 'random_state': 24, 'min_child_weight': 14}. Best is trial 59 with value: 1.1783343208268584.\u001b[0m\n",
            "<ipython-input-48-f880d349052c>:16: FutureWarning: suggest_loguniform has been deprecated in v3.0.0. This feature will be removed in v6.0.0. See https://github.com/optuna/optuna/releases/tag/v3.0.0. Use :func:`~optuna.trial.Trial.suggest_float` instead.\n",
            "  'lambda': trial.suggest_loguniform('lambda', 1e-3, 10.0),\n",
            "<ipython-input-48-f880d349052c>:17: FutureWarning: suggest_loguniform has been deprecated in v3.0.0. This feature will be removed in v6.0.0. See https://github.com/optuna/optuna/releases/tag/v3.0.0. Use :func:`~optuna.trial.Trial.suggest_float` instead.\n",
            "  'alpha': trial.suggest_loguniform('alpha', 1e-3, 10.0),\n",
            "/usr/local/lib/python3.9/dist-packages/xgboost/sklearn.py:835: UserWarning: `early_stopping_rounds` in `fit` method is deprecated for better compatibility with scikit-learn, use `early_stopping_rounds` in constructor or`set_params` instead.\n",
            "  warnings.warn(\n"
          ]
        },
        {
          "output_type": "stream",
          "name": "stdout",
          "text": [
            "[07:59:09] WARNING: ../src/learner.cc:767: \n",
            "Parameters: { \"folds\" } are not used.\n",
            "\n"
          ]
        },
        {
          "output_type": "stream",
          "name": "stderr",
          "text": [
            "\u001b[32m[I 2023-04-25 07:59:35,087]\u001b[0m Trial 60 finished with value: 1.1952188040580443 and parameters: {'lambda': 0.36481304797063646, 'alpha': 6.64273971922072, 'colsample_bytree': 0.7, 'subsample': 0.8, 'learning_rate': 0.016, 'max_depth': 15, 'random_state': 24, 'min_child_weight': 23}. Best is trial 59 with value: 1.1783343208268584.\u001b[0m\n",
            "<ipython-input-48-f880d349052c>:16: FutureWarning: suggest_loguniform has been deprecated in v3.0.0. This feature will be removed in v6.0.0. See https://github.com/optuna/optuna/releases/tag/v3.0.0. Use :func:`~optuna.trial.Trial.suggest_float` instead.\n",
            "  'lambda': trial.suggest_loguniform('lambda', 1e-3, 10.0),\n",
            "<ipython-input-48-f880d349052c>:17: FutureWarning: suggest_loguniform has been deprecated in v3.0.0. This feature will be removed in v6.0.0. See https://github.com/optuna/optuna/releases/tag/v3.0.0. Use :func:`~optuna.trial.Trial.suggest_float` instead.\n",
            "  'alpha': trial.suggest_loguniform('alpha', 1e-3, 10.0),\n",
            "/usr/local/lib/python3.9/dist-packages/xgboost/sklearn.py:835: UserWarning: `early_stopping_rounds` in `fit` method is deprecated for better compatibility with scikit-learn, use `early_stopping_rounds` in constructor or`set_params` instead.\n",
            "  warnings.warn(\n"
          ]
        },
        {
          "output_type": "stream",
          "name": "stdout",
          "text": [
            "[07:59:35] WARNING: ../src/learner.cc:767: \n",
            "Parameters: { \"folds\" } are not used.\n",
            "\n"
          ]
        },
        {
          "output_type": "stream",
          "name": "stderr",
          "text": [
            "\u001b[32m[I 2023-04-25 08:00:07,379]\u001b[0m Trial 61 finished with value: 1.1823263707597296 and parameters: {'lambda': 0.11360173188492702, 'alpha': 6.619426435416087, 'colsample_bytree': 0.7, 'subsample': 1.0, 'learning_rate': 0.016, 'max_depth': 15, 'random_state': 24, 'min_child_weight': 10}. Best is trial 59 with value: 1.1783343208268584.\u001b[0m\n",
            "<ipython-input-48-f880d349052c>:16: FutureWarning: suggest_loguniform has been deprecated in v3.0.0. This feature will be removed in v6.0.0. See https://github.com/optuna/optuna/releases/tag/v3.0.0. Use :func:`~optuna.trial.Trial.suggest_float` instead.\n",
            "  'lambda': trial.suggest_loguniform('lambda', 1e-3, 10.0),\n",
            "<ipython-input-48-f880d349052c>:17: FutureWarning: suggest_loguniform has been deprecated in v3.0.0. This feature will be removed in v6.0.0. See https://github.com/optuna/optuna/releases/tag/v3.0.0. Use :func:`~optuna.trial.Trial.suggest_float` instead.\n",
            "  'alpha': trial.suggest_loguniform('alpha', 1e-3, 10.0),\n",
            "/usr/local/lib/python3.9/dist-packages/xgboost/sklearn.py:835: UserWarning: `early_stopping_rounds` in `fit` method is deprecated for better compatibility with scikit-learn, use `early_stopping_rounds` in constructor or`set_params` instead.\n",
            "  warnings.warn(\n"
          ]
        },
        {
          "output_type": "stream",
          "name": "stdout",
          "text": [
            "[08:00:07] WARNING: ../src/learner.cc:767: \n",
            "Parameters: { \"folds\" } are not used.\n",
            "\n"
          ]
        },
        {
          "output_type": "stream",
          "name": "stderr",
          "text": [
            "\u001b[32m[I 2023-04-25 08:00:42,780]\u001b[0m Trial 62 finished with value: 1.189420974945905 and parameters: {'lambda': 0.11469351939419045, 'alpha': 9.8463969219989, 'colsample_bytree': 0.7, 'subsample': 1.0, 'learning_rate': 0.016, 'max_depth': 15, 'random_state': 24, 'min_child_weight': 10}. Best is trial 59 with value: 1.1783343208268584.\u001b[0m\n",
            "<ipython-input-48-f880d349052c>:16: FutureWarning: suggest_loguniform has been deprecated in v3.0.0. This feature will be removed in v6.0.0. See https://github.com/optuna/optuna/releases/tag/v3.0.0. Use :func:`~optuna.trial.Trial.suggest_float` instead.\n",
            "  'lambda': trial.suggest_loguniform('lambda', 1e-3, 10.0),\n",
            "<ipython-input-48-f880d349052c>:17: FutureWarning: suggest_loguniform has been deprecated in v3.0.0. This feature will be removed in v6.0.0. See https://github.com/optuna/optuna/releases/tag/v3.0.0. Use :func:`~optuna.trial.Trial.suggest_float` instead.\n",
            "  'alpha': trial.suggest_loguniform('alpha', 1e-3, 10.0),\n",
            "/usr/local/lib/python3.9/dist-packages/xgboost/sklearn.py:835: UserWarning: `early_stopping_rounds` in `fit` method is deprecated for better compatibility with scikit-learn, use `early_stopping_rounds` in constructor or`set_params` instead.\n",
            "  warnings.warn(\n"
          ]
        },
        {
          "output_type": "stream",
          "name": "stdout",
          "text": [
            "[08:00:42] WARNING: ../src/learner.cc:767: \n",
            "Parameters: { \"folds\" } are not used.\n",
            "\n"
          ]
        },
        {
          "output_type": "stream",
          "name": "stderr",
          "text": [
            "\u001b[32m[I 2023-04-25 08:01:13,381]\u001b[0m Trial 63 finished with value: 1.1788829647091588 and parameters: {'lambda': 0.11559392505533322, 'alpha': 9.498758239051055, 'colsample_bytree': 0.7, 'subsample': 1.0, 'learning_rate': 0.016, 'max_depth': 15, 'random_state': 24, 'min_child_weight': 9}. Best is trial 59 with value: 1.1783343208268584.\u001b[0m\n",
            "<ipython-input-48-f880d349052c>:16: FutureWarning: suggest_loguniform has been deprecated in v3.0.0. This feature will be removed in v6.0.0. See https://github.com/optuna/optuna/releases/tag/v3.0.0. Use :func:`~optuna.trial.Trial.suggest_float` instead.\n",
            "  'lambda': trial.suggest_loguniform('lambda', 1e-3, 10.0),\n",
            "<ipython-input-48-f880d349052c>:17: FutureWarning: suggest_loguniform has been deprecated in v3.0.0. This feature will be removed in v6.0.0. See https://github.com/optuna/optuna/releases/tag/v3.0.0. Use :func:`~optuna.trial.Trial.suggest_float` instead.\n",
            "  'alpha': trial.suggest_loguniform('alpha', 1e-3, 10.0),\n",
            "/usr/local/lib/python3.9/dist-packages/xgboost/sklearn.py:835: UserWarning: `early_stopping_rounds` in `fit` method is deprecated for better compatibility with scikit-learn, use `early_stopping_rounds` in constructor or`set_params` instead.\n",
            "  warnings.warn(\n"
          ]
        },
        {
          "output_type": "stream",
          "name": "stdout",
          "text": [
            "[08:01:13] WARNING: ../src/learner.cc:767: \n",
            "Parameters: { \"folds\" } are not used.\n",
            "\n"
          ]
        },
        {
          "output_type": "stream",
          "name": "stderr",
          "text": [
            "\u001b[32m[I 2023-04-25 08:01:59,403]\u001b[0m Trial 64 finished with value: 1.1944998509658884 and parameters: {'lambda': 0.0959443009189854, 'alpha': 9.941848704115852, 'colsample_bytree': 0.7, 'subsample': 1.0, 'learning_rate': 0.016, 'max_depth': 15, 'random_state': 24, 'min_child_weight': 1}. Best is trial 59 with value: 1.1783343208268584.\u001b[0m\n",
            "<ipython-input-48-f880d349052c>:16: FutureWarning: suggest_loguniform has been deprecated in v3.0.0. This feature will be removed in v6.0.0. See https://github.com/optuna/optuna/releases/tag/v3.0.0. Use :func:`~optuna.trial.Trial.suggest_float` instead.\n",
            "  'lambda': trial.suggest_loguniform('lambda', 1e-3, 10.0),\n",
            "<ipython-input-48-f880d349052c>:17: FutureWarning: suggest_loguniform has been deprecated in v3.0.0. This feature will be removed in v6.0.0. See https://github.com/optuna/optuna/releases/tag/v3.0.0. Use :func:`~optuna.trial.Trial.suggest_float` instead.\n",
            "  'alpha': trial.suggest_loguniform('alpha', 1e-3, 10.0),\n",
            "/usr/local/lib/python3.9/dist-packages/xgboost/sklearn.py:835: UserWarning: `early_stopping_rounds` in `fit` method is deprecated for better compatibility with scikit-learn, use `early_stopping_rounds` in constructor or`set_params` instead.\n",
            "  warnings.warn(\n"
          ]
        },
        {
          "output_type": "stream",
          "name": "stdout",
          "text": [
            "[08:01:59] WARNING: ../src/learner.cc:767: \n",
            "Parameters: { \"folds\" } are not used.\n",
            "\n"
          ]
        },
        {
          "output_type": "stream",
          "name": "stderr",
          "text": [
            "\u001b[32m[I 2023-04-25 08:02:26,645]\u001b[0m Trial 65 finished with value: 1.2067280907774511 and parameters: {'lambda': 0.04976477373328391, 'alpha': 9.835432101729056, 'colsample_bytree': 0.7, 'subsample': 0.6, 'learning_rate': 0.016, 'max_depth': 15, 'random_state': 24, 'min_child_weight': 23}. Best is trial 59 with value: 1.1783343208268584.\u001b[0m\n",
            "<ipython-input-48-f880d349052c>:16: FutureWarning: suggest_loguniform has been deprecated in v3.0.0. This feature will be removed in v6.0.0. See https://github.com/optuna/optuna/releases/tag/v3.0.0. Use :func:`~optuna.trial.Trial.suggest_float` instead.\n",
            "  'lambda': trial.suggest_loguniform('lambda', 1e-3, 10.0),\n",
            "<ipython-input-48-f880d349052c>:17: FutureWarning: suggest_loguniform has been deprecated in v3.0.0. This feature will be removed in v6.0.0. See https://github.com/optuna/optuna/releases/tag/v3.0.0. Use :func:`~optuna.trial.Trial.suggest_float` instead.\n",
            "  'alpha': trial.suggest_loguniform('alpha', 1e-3, 10.0),\n",
            "/usr/local/lib/python3.9/dist-packages/xgboost/sklearn.py:835: UserWarning: `early_stopping_rounds` in `fit` method is deprecated for better compatibility with scikit-learn, use `early_stopping_rounds` in constructor or`set_params` instead.\n",
            "  warnings.warn(\n"
          ]
        },
        {
          "output_type": "stream",
          "name": "stdout",
          "text": [
            "[08:02:26] WARNING: ../src/learner.cc:767: \n",
            "Parameters: { \"folds\" } are not used.\n",
            "\n"
          ]
        },
        {
          "output_type": "stream",
          "name": "stderr",
          "text": [
            "\u001b[32m[I 2023-04-25 08:03:05,260]\u001b[0m Trial 66 finished with value: 1.1881080301572808 and parameters: {'lambda': 0.11849460259664384, 'alpha': 3.898078327035384, 'colsample_bytree': 0.7, 'subsample': 1.0, 'learning_rate': 0.016, 'max_depth': 15, 'random_state': 24, 'min_child_weight': 10}. Best is trial 59 with value: 1.1783343208268584.\u001b[0m\n",
            "<ipython-input-48-f880d349052c>:16: FutureWarning: suggest_loguniform has been deprecated in v3.0.0. This feature will be removed in v6.0.0. See https://github.com/optuna/optuna/releases/tag/v3.0.0. Use :func:`~optuna.trial.Trial.suggest_float` instead.\n",
            "  'lambda': trial.suggest_loguniform('lambda', 1e-3, 10.0),\n",
            "<ipython-input-48-f880d349052c>:17: FutureWarning: suggest_loguniform has been deprecated in v3.0.0. This feature will be removed in v6.0.0. See https://github.com/optuna/optuna/releases/tag/v3.0.0. Use :func:`~optuna.trial.Trial.suggest_float` instead.\n",
            "  'alpha': trial.suggest_loguniform('alpha', 1e-3, 10.0),\n",
            "/usr/local/lib/python3.9/dist-packages/xgboost/sklearn.py:835: UserWarning: `early_stopping_rounds` in `fit` method is deprecated for better compatibility with scikit-learn, use `early_stopping_rounds` in constructor or`set_params` instead.\n",
            "  warnings.warn(\n"
          ]
        },
        {
          "output_type": "stream",
          "name": "stdout",
          "text": [
            "[08:03:05] WARNING: ../src/learner.cc:767: \n",
            "Parameters: { \"folds\" } are not used.\n",
            "\n"
          ]
        },
        {
          "output_type": "stream",
          "name": "stderr",
          "text": [
            "\u001b[32m[I 2023-04-25 08:03:20,825]\u001b[0m Trial 67 finished with value: 1.21679994251508 and parameters: {'lambda': 0.07858755263389713, 'alpha': 3.738370506231322, 'colsample_bytree': 0.7, 'subsample': 0.4, 'learning_rate': 0.016, 'max_depth': 15, 'random_state': 24, 'min_child_weight': 8}. Best is trial 59 with value: 1.1783343208268584.\u001b[0m\n",
            "<ipython-input-48-f880d349052c>:16: FutureWarning: suggest_loguniform has been deprecated in v3.0.0. This feature will be removed in v6.0.0. See https://github.com/optuna/optuna/releases/tag/v3.0.0. Use :func:`~optuna.trial.Trial.suggest_float` instead.\n",
            "  'lambda': trial.suggest_loguniform('lambda', 1e-3, 10.0),\n",
            "<ipython-input-48-f880d349052c>:17: FutureWarning: suggest_loguniform has been deprecated in v3.0.0. This feature will be removed in v6.0.0. See https://github.com/optuna/optuna/releases/tag/v3.0.0. Use :func:`~optuna.trial.Trial.suggest_float` instead.\n",
            "  'alpha': trial.suggest_loguniform('alpha', 1e-3, 10.0),\n",
            "/usr/local/lib/python3.9/dist-packages/xgboost/sklearn.py:835: UserWarning: `early_stopping_rounds` in `fit` method is deprecated for better compatibility with scikit-learn, use `early_stopping_rounds` in constructor or`set_params` instead.\n",
            "  warnings.warn(\n"
          ]
        },
        {
          "output_type": "stream",
          "name": "stdout",
          "text": [
            "[08:03:20] WARNING: ../src/learner.cc:767: \n",
            "Parameters: { \"folds\" } are not used.\n",
            "\n"
          ]
        },
        {
          "output_type": "stream",
          "name": "stderr",
          "text": [
            "\u001b[32m[I 2023-04-25 08:03:45,302]\u001b[0m Trial 68 finished with value: 1.192425823163109 and parameters: {'lambda': 0.04407238899219339, 'alpha': 6.013014624573386, 'colsample_bytree': 0.7, 'subsample': 1.0, 'learning_rate': 0.016, 'max_depth': 15, 'random_state': 24, 'min_child_weight': 48}. Best is trial 59 with value: 1.1783343208268584.\u001b[0m\n",
            "<ipython-input-48-f880d349052c>:16: FutureWarning: suggest_loguniform has been deprecated in v3.0.0. This feature will be removed in v6.0.0. See https://github.com/optuna/optuna/releases/tag/v3.0.0. Use :func:`~optuna.trial.Trial.suggest_float` instead.\n",
            "  'lambda': trial.suggest_loguniform('lambda', 1e-3, 10.0),\n",
            "<ipython-input-48-f880d349052c>:17: FutureWarning: suggest_loguniform has been deprecated in v3.0.0. This feature will be removed in v6.0.0. See https://github.com/optuna/optuna/releases/tag/v3.0.0. Use :func:`~optuna.trial.Trial.suggest_float` instead.\n",
            "  'alpha': trial.suggest_loguniform('alpha', 1e-3, 10.0),\n",
            "/usr/local/lib/python3.9/dist-packages/xgboost/sklearn.py:835: UserWarning: `early_stopping_rounds` in `fit` method is deprecated for better compatibility with scikit-learn, use `early_stopping_rounds` in constructor or`set_params` instead.\n",
            "  warnings.warn(\n"
          ]
        },
        {
          "output_type": "stream",
          "name": "stdout",
          "text": [
            "[08:03:45] WARNING: ../src/learner.cc:767: \n",
            "Parameters: { \"folds\" } are not used.\n",
            "\n"
          ]
        },
        {
          "output_type": "stream",
          "name": "stderr",
          "text": [
            "\u001b[32m[I 2023-04-25 08:04:14,702]\u001b[0m Trial 69 finished with value: 1.2403162457719297 and parameters: {'lambda': 0.12167057532702934, 'alpha': 7.13426275006313, 'colsample_bytree': 0.7, 'subsample': 1.0, 'learning_rate': 0.016, 'max_depth': 15, 'random_state': 24, 'min_child_weight': 243}. Best is trial 59 with value: 1.1783343208268584.\u001b[0m\n",
            "<ipython-input-48-f880d349052c>:16: FutureWarning: suggest_loguniform has been deprecated in v3.0.0. This feature will be removed in v6.0.0. See https://github.com/optuna/optuna/releases/tag/v3.0.0. Use :func:`~optuna.trial.Trial.suggest_float` instead.\n",
            "  'lambda': trial.suggest_loguniform('lambda', 1e-3, 10.0),\n",
            "<ipython-input-48-f880d349052c>:17: FutureWarning: suggest_loguniform has been deprecated in v3.0.0. This feature will be removed in v6.0.0. See https://github.com/optuna/optuna/releases/tag/v3.0.0. Use :func:`~optuna.trial.Trial.suggest_float` instead.\n",
            "  'alpha': trial.suggest_loguniform('alpha', 1e-3, 10.0),\n",
            "/usr/local/lib/python3.9/dist-packages/xgboost/sklearn.py:835: UserWarning: `early_stopping_rounds` in `fit` method is deprecated for better compatibility with scikit-learn, use `early_stopping_rounds` in constructor or`set_params` instead.\n",
            "  warnings.warn(\n"
          ]
        },
        {
          "output_type": "stream",
          "name": "stdout",
          "text": [
            "[08:04:14] WARNING: ../src/learner.cc:767: \n",
            "Parameters: { \"folds\" } are not used.\n",
            "\n"
          ]
        },
        {
          "output_type": "stream",
          "name": "stderr",
          "text": [
            "\u001b[32m[I 2023-04-25 08:04:41,182]\u001b[0m Trial 70 finished with value: 1.1886855790166007 and parameters: {'lambda': 0.07098865121742289, 'alpha': 3.9864263321375057, 'colsample_bytree': 0.7, 'subsample': 1.0, 'learning_rate': 0.016, 'max_depth': 15, 'random_state': 24, 'min_child_weight': 17}. Best is trial 59 with value: 1.1783343208268584.\u001b[0m\n",
            "<ipython-input-48-f880d349052c>:16: FutureWarning: suggest_loguniform has been deprecated in v3.0.0. This feature will be removed in v6.0.0. See https://github.com/optuna/optuna/releases/tag/v3.0.0. Use :func:`~optuna.trial.Trial.suggest_float` instead.\n",
            "  'lambda': trial.suggest_loguniform('lambda', 1e-3, 10.0),\n",
            "<ipython-input-48-f880d349052c>:17: FutureWarning: suggest_loguniform has been deprecated in v3.0.0. This feature will be removed in v6.0.0. See https://github.com/optuna/optuna/releases/tag/v3.0.0. Use :func:`~optuna.trial.Trial.suggest_float` instead.\n",
            "  'alpha': trial.suggest_loguniform('alpha', 1e-3, 10.0),\n",
            "/usr/local/lib/python3.9/dist-packages/xgboost/sklearn.py:835: UserWarning: `early_stopping_rounds` in `fit` method is deprecated for better compatibility with scikit-learn, use `early_stopping_rounds` in constructor or`set_params` instead.\n",
            "  warnings.warn(\n"
          ]
        },
        {
          "output_type": "stream",
          "name": "stdout",
          "text": [
            "[08:04:41] WARNING: ../src/learner.cc:767: \n",
            "Parameters: { \"folds\" } are not used.\n",
            "\n"
          ]
        },
        {
          "output_type": "stream",
          "name": "stderr",
          "text": [
            "\u001b[32m[I 2023-04-25 08:05:05,214]\u001b[0m Trial 71 finished with value: 1.188324213760463 and parameters: {'lambda': 0.08866531768688024, 'alpha': 4.117833545504161, 'colsample_bytree': 0.7, 'subsample': 1.0, 'learning_rate': 0.016, 'max_depth': 15, 'random_state': 24, 'min_child_weight': 23}. Best is trial 59 with value: 1.1783343208268584.\u001b[0m\n",
            "<ipython-input-48-f880d349052c>:16: FutureWarning: suggest_loguniform has been deprecated in v3.0.0. This feature will be removed in v6.0.0. See https://github.com/optuna/optuna/releases/tag/v3.0.0. Use :func:`~optuna.trial.Trial.suggest_float` instead.\n",
            "  'lambda': trial.suggest_loguniform('lambda', 1e-3, 10.0),\n",
            "<ipython-input-48-f880d349052c>:17: FutureWarning: suggest_loguniform has been deprecated in v3.0.0. This feature will be removed in v6.0.0. See https://github.com/optuna/optuna/releases/tag/v3.0.0. Use :func:`~optuna.trial.Trial.suggest_float` instead.\n",
            "  'alpha': trial.suggest_loguniform('alpha', 1e-3, 10.0),\n",
            "/usr/local/lib/python3.9/dist-packages/xgboost/sklearn.py:835: UserWarning: `early_stopping_rounds` in `fit` method is deprecated for better compatibility with scikit-learn, use `early_stopping_rounds` in constructor or`set_params` instead.\n",
            "  warnings.warn(\n"
          ]
        },
        {
          "output_type": "stream",
          "name": "stdout",
          "text": [
            "[08:05:05] WARNING: ../src/learner.cc:767: \n",
            "Parameters: { \"folds\" } are not used.\n",
            "\n"
          ]
        },
        {
          "output_type": "stream",
          "name": "stderr",
          "text": [
            "\u001b[32m[I 2023-04-25 08:05:28,874]\u001b[0m Trial 72 finished with value: 1.1850135846824734 and parameters: {'lambda': 0.07550510354189409, 'alpha': 3.830265591402794, 'colsample_bytree': 0.7, 'subsample': 1.0, 'learning_rate': 0.016, 'max_depth': 15, 'random_state': 24, 'min_child_weight': 22}. Best is trial 59 with value: 1.1783343208268584.\u001b[0m\n",
            "<ipython-input-48-f880d349052c>:16: FutureWarning: suggest_loguniform has been deprecated in v3.0.0. This feature will be removed in v6.0.0. See https://github.com/optuna/optuna/releases/tag/v3.0.0. Use :func:`~optuna.trial.Trial.suggest_float` instead.\n",
            "  'lambda': trial.suggest_loguniform('lambda', 1e-3, 10.0),\n",
            "<ipython-input-48-f880d349052c>:17: FutureWarning: suggest_loguniform has been deprecated in v3.0.0. This feature will be removed in v6.0.0. See https://github.com/optuna/optuna/releases/tag/v3.0.0. Use :func:`~optuna.trial.Trial.suggest_float` instead.\n",
            "  'alpha': trial.suggest_loguniform('alpha', 1e-3, 10.0),\n",
            "/usr/local/lib/python3.9/dist-packages/xgboost/sklearn.py:835: UserWarning: `early_stopping_rounds` in `fit` method is deprecated for better compatibility with scikit-learn, use `early_stopping_rounds` in constructor or`set_params` instead.\n",
            "  warnings.warn(\n"
          ]
        },
        {
          "output_type": "stream",
          "name": "stdout",
          "text": [
            "[08:05:28] WARNING: ../src/learner.cc:767: \n",
            "Parameters: { \"folds\" } are not used.\n",
            "\n"
          ]
        },
        {
          "output_type": "stream",
          "name": "stderr",
          "text": [
            "\u001b[32m[I 2023-04-25 08:05:46,444]\u001b[0m Trial 73 finished with value: 1.187245806036547 and parameters: {'lambda': 0.08019841295029166, 'alpha': 4.366770970340959, 'colsample_bytree': 0.7, 'subsample': 1.0, 'learning_rate': 0.016, 'max_depth': 15, 'random_state': 24, 'min_child_weight': 22}. Best is trial 59 with value: 1.1783343208268584.\u001b[0m\n",
            "<ipython-input-48-f880d349052c>:16: FutureWarning: suggest_loguniform has been deprecated in v3.0.0. This feature will be removed in v6.0.0. See https://github.com/optuna/optuna/releases/tag/v3.0.0. Use :func:`~optuna.trial.Trial.suggest_float` instead.\n",
            "  'lambda': trial.suggest_loguniform('lambda', 1e-3, 10.0),\n",
            "<ipython-input-48-f880d349052c>:17: FutureWarning: suggest_loguniform has been deprecated in v3.0.0. This feature will be removed in v6.0.0. See https://github.com/optuna/optuna/releases/tag/v3.0.0. Use :func:`~optuna.trial.Trial.suggest_float` instead.\n",
            "  'alpha': trial.suggest_loguniform('alpha', 1e-3, 10.0),\n",
            "/usr/local/lib/python3.9/dist-packages/xgboost/sklearn.py:835: UserWarning: `early_stopping_rounds` in `fit` method is deprecated for better compatibility with scikit-learn, use `early_stopping_rounds` in constructor or`set_params` instead.\n",
            "  warnings.warn(\n"
          ]
        },
        {
          "output_type": "stream",
          "name": "stdout",
          "text": [
            "[08:05:46] WARNING: ../src/learner.cc:767: \n",
            "Parameters: { \"folds\" } are not used.\n",
            "\n"
          ]
        },
        {
          "output_type": "stream",
          "name": "stderr",
          "text": [
            "\u001b[32m[I 2023-04-25 08:06:09,939]\u001b[0m Trial 74 finished with value: 1.1874970938285052 and parameters: {'lambda': 0.07483205734512866, 'alpha': 2.5471645013632984, 'colsample_bytree': 0.7, 'subsample': 1.0, 'learning_rate': 0.016, 'max_depth': 15, 'random_state': 24, 'min_child_weight': 22}. Best is trial 59 with value: 1.1783343208268584.\u001b[0m\n",
            "<ipython-input-48-f880d349052c>:16: FutureWarning: suggest_loguniform has been deprecated in v3.0.0. This feature will be removed in v6.0.0. See https://github.com/optuna/optuna/releases/tag/v3.0.0. Use :func:`~optuna.trial.Trial.suggest_float` instead.\n",
            "  'lambda': trial.suggest_loguniform('lambda', 1e-3, 10.0),\n",
            "<ipython-input-48-f880d349052c>:17: FutureWarning: suggest_loguniform has been deprecated in v3.0.0. This feature will be removed in v6.0.0. See https://github.com/optuna/optuna/releases/tag/v3.0.0. Use :func:`~optuna.trial.Trial.suggest_float` instead.\n",
            "  'alpha': trial.suggest_loguniform('alpha', 1e-3, 10.0),\n",
            "/usr/local/lib/python3.9/dist-packages/xgboost/sklearn.py:835: UserWarning: `early_stopping_rounds` in `fit` method is deprecated for better compatibility with scikit-learn, use `early_stopping_rounds` in constructor or`set_params` instead.\n",
            "  warnings.warn(\n"
          ]
        },
        {
          "output_type": "stream",
          "name": "stdout",
          "text": [
            "[08:06:09] WARNING: ../src/learner.cc:767: \n",
            "Parameters: { \"folds\" } are not used.\n",
            "\n"
          ]
        },
        {
          "output_type": "stream",
          "name": "stderr",
          "text": [
            "\u001b[32m[I 2023-04-25 08:06:29,282]\u001b[0m Trial 75 finished with value: 1.1949956776032153 and parameters: {'lambda': 0.03630647970690096, 'alpha': 2.353149775933044, 'colsample_bytree': 0.7, 'subsample': 1.0, 'learning_rate': 0.016, 'max_depth': 15, 'random_state': 24, 'min_child_weight': 42}. Best is trial 59 with value: 1.1783343208268584.\u001b[0m\n",
            "<ipython-input-48-f880d349052c>:16: FutureWarning: suggest_loguniform has been deprecated in v3.0.0. This feature will be removed in v6.0.0. See https://github.com/optuna/optuna/releases/tag/v3.0.0. Use :func:`~optuna.trial.Trial.suggest_float` instead.\n",
            "  'lambda': trial.suggest_loguniform('lambda', 1e-3, 10.0),\n",
            "<ipython-input-48-f880d349052c>:17: FutureWarning: suggest_loguniform has been deprecated in v3.0.0. This feature will be removed in v6.0.0. See https://github.com/optuna/optuna/releases/tag/v3.0.0. Use :func:`~optuna.trial.Trial.suggest_float` instead.\n",
            "  'alpha': trial.suggest_loguniform('alpha', 1e-3, 10.0),\n",
            "/usr/local/lib/python3.9/dist-packages/xgboost/sklearn.py:835: UserWarning: `early_stopping_rounds` in `fit` method is deprecated for better compatibility with scikit-learn, use `early_stopping_rounds` in constructor or`set_params` instead.\n",
            "  warnings.warn(\n"
          ]
        },
        {
          "output_type": "stream",
          "name": "stdout",
          "text": [
            "[08:06:29] WARNING: ../src/learner.cc:767: \n",
            "Parameters: { \"folds\" } are not used.\n",
            "\n"
          ]
        },
        {
          "output_type": "stream",
          "name": "stderr",
          "text": [
            "\u001b[32m[I 2023-04-25 08:06:54,407]\u001b[0m Trial 76 finished with value: 1.1974627721424371 and parameters: {'lambda': 0.07639273451700512, 'alpha': 1.566326127539907, 'colsample_bytree': 0.7, 'subsample': 0.8, 'learning_rate': 0.016, 'max_depth': 15, 'random_state': 24, 'min_child_weight': 21}. Best is trial 59 with value: 1.1783343208268584.\u001b[0m\n",
            "<ipython-input-48-f880d349052c>:16: FutureWarning: suggest_loguniform has been deprecated in v3.0.0. This feature will be removed in v6.0.0. See https://github.com/optuna/optuna/releases/tag/v3.0.0. Use :func:`~optuna.trial.Trial.suggest_float` instead.\n",
            "  'lambda': trial.suggest_loguniform('lambda', 1e-3, 10.0),\n",
            "<ipython-input-48-f880d349052c>:17: FutureWarning: suggest_loguniform has been deprecated in v3.0.0. This feature will be removed in v6.0.0. See https://github.com/optuna/optuna/releases/tag/v3.0.0. Use :func:`~optuna.trial.Trial.suggest_float` instead.\n",
            "  'alpha': trial.suggest_loguniform('alpha', 1e-3, 10.0),\n",
            "/usr/local/lib/python3.9/dist-packages/xgboost/sklearn.py:835: UserWarning: `early_stopping_rounds` in `fit` method is deprecated for better compatibility with scikit-learn, use `early_stopping_rounds` in constructor or`set_params` instead.\n",
            "  warnings.warn(\n"
          ]
        },
        {
          "output_type": "stream",
          "name": "stdout",
          "text": [
            "[08:06:54] WARNING: ../src/learner.cc:767: \n",
            "Parameters: { \"folds\" } are not used.\n",
            "\n"
          ]
        },
        {
          "output_type": "stream",
          "name": "stderr",
          "text": [
            "\u001b[32m[I 2023-04-25 08:07:31,025]\u001b[0m Trial 77 finished with value: 1.2349791215214494 and parameters: {'lambda': 0.02473708992204684, 'alpha': 2.9682182584772576, 'colsample_bytree': 0.7, 'subsample': 1.0, 'learning_rate': 0.016, 'max_depth': 15, 'random_state': 24, 'min_child_weight': 173}. Best is trial 59 with value: 1.1783343208268584.\u001b[0m\n",
            "<ipython-input-48-f880d349052c>:16: FutureWarning: suggest_loguniform has been deprecated in v3.0.0. This feature will be removed in v6.0.0. See https://github.com/optuna/optuna/releases/tag/v3.0.0. Use :func:`~optuna.trial.Trial.suggest_float` instead.\n",
            "  'lambda': trial.suggest_loguniform('lambda', 1e-3, 10.0),\n",
            "<ipython-input-48-f880d349052c>:17: FutureWarning: suggest_loguniform has been deprecated in v3.0.0. This feature will be removed in v6.0.0. See https://github.com/optuna/optuna/releases/tag/v3.0.0. Use :func:`~optuna.trial.Trial.suggest_float` instead.\n",
            "  'alpha': trial.suggest_loguniform('alpha', 1e-3, 10.0),\n",
            "/usr/local/lib/python3.9/dist-packages/xgboost/sklearn.py:835: UserWarning: `early_stopping_rounds` in `fit` method is deprecated for better compatibility with scikit-learn, use `early_stopping_rounds` in constructor or`set_params` instead.\n",
            "  warnings.warn(\n"
          ]
        },
        {
          "output_type": "stream",
          "name": "stdout",
          "text": [
            "[08:07:31] WARNING: ../src/learner.cc:767: \n",
            "Parameters: { \"folds\" } are not used.\n",
            "\n"
          ]
        },
        {
          "output_type": "stream",
          "name": "stderr",
          "text": [
            "\u001b[32m[I 2023-04-25 08:07:47,808]\u001b[0m Trial 78 finished with value: 1.1883431988077648 and parameters: {'lambda': 0.06436145581972787, 'alpha': 7.122829859805528, 'colsample_bytree': 0.7, 'subsample': 1.0, 'learning_rate': 0.02, 'max_depth': 15, 'random_state': 2020, 'min_child_weight': 34}. Best is trial 59 with value: 1.1783343208268584.\u001b[0m\n",
            "<ipython-input-48-f880d349052c>:16: FutureWarning: suggest_loguniform has been deprecated in v3.0.0. This feature will be removed in v6.0.0. See https://github.com/optuna/optuna/releases/tag/v3.0.0. Use :func:`~optuna.trial.Trial.suggest_float` instead.\n",
            "  'lambda': trial.suggest_loguniform('lambda', 1e-3, 10.0),\n",
            "<ipython-input-48-f880d349052c>:17: FutureWarning: suggest_loguniform has been deprecated in v3.0.0. This feature will be removed in v6.0.0. See https://github.com/optuna/optuna/releases/tag/v3.0.0. Use :func:`~optuna.trial.Trial.suggest_float` instead.\n",
            "  'alpha': trial.suggest_loguniform('alpha', 1e-3, 10.0),\n",
            "/usr/local/lib/python3.9/dist-packages/xgboost/sklearn.py:835: UserWarning: `early_stopping_rounds` in `fit` method is deprecated for better compatibility with scikit-learn, use `early_stopping_rounds` in constructor or`set_params` instead.\n",
            "  warnings.warn(\n"
          ]
        },
        {
          "output_type": "stream",
          "name": "stdout",
          "text": [
            "[08:07:47] WARNING: ../src/learner.cc:767: \n",
            "Parameters: { \"folds\" } are not used.\n",
            "\n"
          ]
        },
        {
          "output_type": "stream",
          "name": "stderr",
          "text": [
            "\u001b[32m[I 2023-04-25 08:08:14,684]\u001b[0m Trial 79 finished with value: 1.2190278088255004 and parameters: {'lambda': 0.10939089035124805, 'alpha': 5.085414993910692, 'colsample_bytree': 0.7, 'subsample': 0.6, 'learning_rate': 0.012, 'max_depth': 15, 'random_state': 24, 'min_child_weight': 61}. Best is trial 59 with value: 1.1783343208268584.\u001b[0m\n",
            "<ipython-input-48-f880d349052c>:16: FutureWarning: suggest_loguniform has been deprecated in v3.0.0. This feature will be removed in v6.0.0. See https://github.com/optuna/optuna/releases/tag/v3.0.0. Use :func:`~optuna.trial.Trial.suggest_float` instead.\n",
            "  'lambda': trial.suggest_loguniform('lambda', 1e-3, 10.0),\n",
            "<ipython-input-48-f880d349052c>:17: FutureWarning: suggest_loguniform has been deprecated in v3.0.0. This feature will be removed in v6.0.0. See https://github.com/optuna/optuna/releases/tag/v3.0.0. Use :func:`~optuna.trial.Trial.suggest_float` instead.\n",
            "  'alpha': trial.suggest_loguniform('alpha', 1e-3, 10.0),\n",
            "/usr/local/lib/python3.9/dist-packages/xgboost/sklearn.py:835: UserWarning: `early_stopping_rounds` in `fit` method is deprecated for better compatibility with scikit-learn, use `early_stopping_rounds` in constructor or`set_params` instead.\n",
            "  warnings.warn(\n"
          ]
        },
        {
          "output_type": "stream",
          "name": "stdout",
          "text": [
            "[08:08:14] WARNING: ../src/learner.cc:767: \n",
            "Parameters: { \"folds\" } are not used.\n",
            "\n"
          ]
        },
        {
          "output_type": "stream",
          "name": "stderr",
          "text": [
            "\u001b[32m[I 2023-04-25 08:08:38,007]\u001b[0m Trial 80 finished with value: 1.202543449575481 and parameters: {'lambda': 0.05480493165927048, 'alpha': 2.67165119319795, 'colsample_bytree': 0.7, 'subsample': 1.0, 'learning_rate': 0.016, 'max_depth': 15, 'random_state': 24, 'min_child_weight': 45}. Best is trial 59 with value: 1.1783343208268584.\u001b[0m\n",
            "<ipython-input-48-f880d349052c>:16: FutureWarning: suggest_loguniform has been deprecated in v3.0.0. This feature will be removed in v6.0.0. See https://github.com/optuna/optuna/releases/tag/v3.0.0. Use :func:`~optuna.trial.Trial.suggest_float` instead.\n",
            "  'lambda': trial.suggest_loguniform('lambda', 1e-3, 10.0),\n",
            "<ipython-input-48-f880d349052c>:17: FutureWarning: suggest_loguniform has been deprecated in v3.0.0. This feature will be removed in v6.0.0. See https://github.com/optuna/optuna/releases/tag/v3.0.0. Use :func:`~optuna.trial.Trial.suggest_float` instead.\n",
            "  'alpha': trial.suggest_loguniform('alpha', 1e-3, 10.0),\n",
            "/usr/local/lib/python3.9/dist-packages/xgboost/sklearn.py:835: UserWarning: `early_stopping_rounds` in `fit` method is deprecated for better compatibility with scikit-learn, use `early_stopping_rounds` in constructor or`set_params` instead.\n",
            "  warnings.warn(\n"
          ]
        },
        {
          "output_type": "stream",
          "name": "stdout",
          "text": [
            "[08:08:38] WARNING: ../src/learner.cc:767: \n",
            "Parameters: { \"folds\" } are not used.\n",
            "\n"
          ]
        },
        {
          "output_type": "stream",
          "name": "stderr",
          "text": [
            "\u001b[32m[I 2023-04-25 08:08:56,275]\u001b[0m Trial 81 finished with value: 1.1872680075632083 and parameters: {'lambda': 0.08529480317803155, 'alpha': 4.636395327400846, 'colsample_bytree': 0.7, 'subsample': 1.0, 'learning_rate': 0.016, 'max_depth': 15, 'random_state': 24, 'min_child_weight': 27}. Best is trial 59 with value: 1.1783343208268584.\u001b[0m\n",
            "<ipython-input-48-f880d349052c>:16: FutureWarning: suggest_loguniform has been deprecated in v3.0.0. This feature will be removed in v6.0.0. See https://github.com/optuna/optuna/releases/tag/v3.0.0. Use :func:`~optuna.trial.Trial.suggest_float` instead.\n",
            "  'lambda': trial.suggest_loguniform('lambda', 1e-3, 10.0),\n",
            "<ipython-input-48-f880d349052c>:17: FutureWarning: suggest_loguniform has been deprecated in v3.0.0. This feature will be removed in v6.0.0. See https://github.com/optuna/optuna/releases/tag/v3.0.0. Use :func:`~optuna.trial.Trial.suggest_float` instead.\n",
            "  'alpha': trial.suggest_loguniform('alpha', 1e-3, 10.0),\n",
            "/usr/local/lib/python3.9/dist-packages/xgboost/sklearn.py:835: UserWarning: `early_stopping_rounds` in `fit` method is deprecated for better compatibility with scikit-learn, use `early_stopping_rounds` in constructor or`set_params` instead.\n",
            "  warnings.warn(\n"
          ]
        },
        {
          "output_type": "stream",
          "name": "stdout",
          "text": [
            "[08:08:56] WARNING: ../src/learner.cc:767: \n",
            "Parameters: { \"folds\" } are not used.\n",
            "\n"
          ]
        },
        {
          "output_type": "stream",
          "name": "stderr",
          "text": [
            "\u001b[32m[I 2023-04-25 08:09:32,426]\u001b[0m Trial 82 finished with value: 1.1835596868372402 and parameters: {'lambda': 0.08549679733043364, 'alpha': 7.724097021349951, 'colsample_bytree': 0.7, 'subsample': 1.0, 'learning_rate': 0.016, 'max_depth': 15, 'random_state': 24, 'min_child_weight': 7}. Best is trial 59 with value: 1.1783343208268584.\u001b[0m\n",
            "<ipython-input-48-f880d349052c>:16: FutureWarning: suggest_loguniform has been deprecated in v3.0.0. This feature will be removed in v6.0.0. See https://github.com/optuna/optuna/releases/tag/v3.0.0. Use :func:`~optuna.trial.Trial.suggest_float` instead.\n",
            "  'lambda': trial.suggest_loguniform('lambda', 1e-3, 10.0),\n",
            "<ipython-input-48-f880d349052c>:17: FutureWarning: suggest_loguniform has been deprecated in v3.0.0. This feature will be removed in v6.0.0. See https://github.com/optuna/optuna/releases/tag/v3.0.0. Use :func:`~optuna.trial.Trial.suggest_float` instead.\n",
            "  'alpha': trial.suggest_loguniform('alpha', 1e-3, 10.0),\n",
            "/usr/local/lib/python3.9/dist-packages/xgboost/sklearn.py:835: UserWarning: `early_stopping_rounds` in `fit` method is deprecated for better compatibility with scikit-learn, use `early_stopping_rounds` in constructor or`set_params` instead.\n",
            "  warnings.warn(\n"
          ]
        },
        {
          "output_type": "stream",
          "name": "stdout",
          "text": [
            "[08:09:32] WARNING: ../src/learner.cc:767: \n",
            "Parameters: { \"folds\" } are not used.\n",
            "\n"
          ]
        },
        {
          "output_type": "stream",
          "name": "stderr",
          "text": [
            "\u001b[32m[I 2023-04-25 08:10:01,087]\u001b[0m Trial 83 finished with value: 1.191651958941416 and parameters: {'lambda': 0.0810682036591932, 'alpha': 7.44475945977991, 'colsample_bytree': 0.7, 'subsample': 1.0, 'learning_rate': 0.014, 'max_depth': 15, 'random_state': 24, 'min_child_weight': 27}. Best is trial 59 with value: 1.1783343208268584.\u001b[0m\n",
            "<ipython-input-48-f880d349052c>:16: FutureWarning: suggest_loguniform has been deprecated in v3.0.0. This feature will be removed in v6.0.0. See https://github.com/optuna/optuna/releases/tag/v3.0.0. Use :func:`~optuna.trial.Trial.suggest_float` instead.\n",
            "  'lambda': trial.suggest_loguniform('lambda', 1e-3, 10.0),\n",
            "<ipython-input-48-f880d349052c>:17: FutureWarning: suggest_loguniform has been deprecated in v3.0.0. This feature will be removed in v6.0.0. See https://github.com/optuna/optuna/releases/tag/v3.0.0. Use :func:`~optuna.trial.Trial.suggest_float` instead.\n",
            "  'alpha': trial.suggest_loguniform('alpha', 1e-3, 10.0),\n",
            "/usr/local/lib/python3.9/dist-packages/xgboost/sklearn.py:835: UserWarning: `early_stopping_rounds` in `fit` method is deprecated for better compatibility with scikit-learn, use `early_stopping_rounds` in constructor or`set_params` instead.\n",
            "  warnings.warn(\n"
          ]
        },
        {
          "output_type": "stream",
          "name": "stdout",
          "text": [
            "[08:10:01] WARNING: ../src/learner.cc:767: \n",
            "Parameters: { \"folds\" } are not used.\n",
            "\n"
          ]
        },
        {
          "output_type": "stream",
          "name": "stderr",
          "text": [
            "\u001b[32m[I 2023-04-25 08:10:46,973]\u001b[0m Trial 84 finished with value: 1.1892403588971339 and parameters: {'lambda': 0.14753375421339962, 'alpha': 5.464636836836998, 'colsample_bytree': 0.9, 'subsample': 1.0, 'learning_rate': 0.016, 'max_depth': 15, 'random_state': 24, 'min_child_weight': 5}. Best is trial 59 with value: 1.1783343208268584.\u001b[0m\n",
            "<ipython-input-48-f880d349052c>:16: FutureWarning: suggest_loguniform has been deprecated in v3.0.0. This feature will be removed in v6.0.0. See https://github.com/optuna/optuna/releases/tag/v3.0.0. Use :func:`~optuna.trial.Trial.suggest_float` instead.\n",
            "  'lambda': trial.suggest_loguniform('lambda', 1e-3, 10.0),\n",
            "<ipython-input-48-f880d349052c>:17: FutureWarning: suggest_loguniform has been deprecated in v3.0.0. This feature will be removed in v6.0.0. See https://github.com/optuna/optuna/releases/tag/v3.0.0. Use :func:`~optuna.trial.Trial.suggest_float` instead.\n",
            "  'alpha': trial.suggest_loguniform('alpha', 1e-3, 10.0),\n",
            "/usr/local/lib/python3.9/dist-packages/xgboost/sklearn.py:835: UserWarning: `early_stopping_rounds` in `fit` method is deprecated for better compatibility with scikit-learn, use `early_stopping_rounds` in constructor or`set_params` instead.\n",
            "  warnings.warn(\n"
          ]
        },
        {
          "output_type": "stream",
          "name": "stdout",
          "text": [
            "[08:10:47] WARNING: ../src/learner.cc:767: \n",
            "Parameters: { \"folds\" } are not used.\n",
            "\n"
          ]
        },
        {
          "output_type": "stream",
          "name": "stderr",
          "text": [
            "\u001b[32m[I 2023-04-25 08:11:08,667]\u001b[0m Trial 85 finished with value: 1.224113739359921 and parameters: {'lambda': 0.04607245137048356, 'alpha': 7.635911816607272, 'colsample_bytree': 0.7, 'subsample': 0.4, 'learning_rate': 0.016, 'max_depth': 15, 'random_state': 24, 'min_child_weight': 16}. Best is trial 59 with value: 1.1783343208268584.\u001b[0m\n",
            "<ipython-input-48-f880d349052c>:16: FutureWarning: suggest_loguniform has been deprecated in v3.0.0. This feature will be removed in v6.0.0. See https://github.com/optuna/optuna/releases/tag/v3.0.0. Use :func:`~optuna.trial.Trial.suggest_float` instead.\n",
            "  'lambda': trial.suggest_loguniform('lambda', 1e-3, 10.0),\n",
            "<ipython-input-48-f880d349052c>:17: FutureWarning: suggest_loguniform has been deprecated in v3.0.0. This feature will be removed in v6.0.0. See https://github.com/optuna/optuna/releases/tag/v3.0.0. Use :func:`~optuna.trial.Trial.suggest_float` instead.\n",
            "  'alpha': trial.suggest_loguniform('alpha', 1e-3, 10.0),\n",
            "/usr/local/lib/python3.9/dist-packages/xgboost/sklearn.py:835: UserWarning: `early_stopping_rounds` in `fit` method is deprecated for better compatibility with scikit-learn, use `early_stopping_rounds` in constructor or`set_params` instead.\n",
            "  warnings.warn(\n"
          ]
        },
        {
          "output_type": "stream",
          "name": "stdout",
          "text": [
            "[08:11:08] WARNING: ../src/learner.cc:767: \n",
            "Parameters: { \"folds\" } are not used.\n",
            "\n"
          ]
        },
        {
          "output_type": "stream",
          "name": "stderr",
          "text": [
            "\u001b[32m[I 2023-04-25 08:11:34,277]\u001b[0m Trial 86 finished with value: 1.1897995247221973 and parameters: {'lambda': 0.2562981480154029, 'alpha': 4.921561690289399, 'colsample_bytree': 0.7, 'subsample': 1.0, 'learning_rate': 0.01, 'max_depth': 7, 'random_state': 24, 'min_child_weight': 27}. Best is trial 59 with value: 1.1783343208268584.\u001b[0m\n",
            "<ipython-input-48-f880d349052c>:16: FutureWarning: suggest_loguniform has been deprecated in v3.0.0. This feature will be removed in v6.0.0. See https://github.com/optuna/optuna/releases/tag/v3.0.0. Use :func:`~optuna.trial.Trial.suggest_float` instead.\n",
            "  'lambda': trial.suggest_loguniform('lambda', 1e-3, 10.0),\n",
            "<ipython-input-48-f880d349052c>:17: FutureWarning: suggest_loguniform has been deprecated in v3.0.0. This feature will be removed in v6.0.0. See https://github.com/optuna/optuna/releases/tag/v3.0.0. Use :func:`~optuna.trial.Trial.suggest_float` instead.\n",
            "  'alpha': trial.suggest_loguniform('alpha', 1e-3, 10.0),\n",
            "/usr/local/lib/python3.9/dist-packages/xgboost/sklearn.py:835: UserWarning: `early_stopping_rounds` in `fit` method is deprecated for better compatibility with scikit-learn, use `early_stopping_rounds` in constructor or`set_params` instead.\n",
            "  warnings.warn(\n"
          ]
        },
        {
          "output_type": "stream",
          "name": "stdout",
          "text": [
            "[08:11:34] WARNING: ../src/learner.cc:767: \n",
            "Parameters: { \"folds\" } are not used.\n",
            "\n"
          ]
        },
        {
          "output_type": "stream",
          "name": "stderr",
          "text": [
            "\u001b[32m[I 2023-04-25 08:11:51,523]\u001b[0m Trial 87 finished with value: 1.2091358415421511 and parameters: {'lambda': 0.06271759915663347, 'alpha': 6.151711183838229, 'colsample_bytree': 0.7, 'subsample': 0.7, 'learning_rate': 0.016, 'max_depth': 15, 'random_state': 24, 'min_child_weight': 36}. Best is trial 59 with value: 1.1783343208268584.\u001b[0m\n",
            "<ipython-input-48-f880d349052c>:16: FutureWarning: suggest_loguniform has been deprecated in v3.0.0. This feature will be removed in v6.0.0. See https://github.com/optuna/optuna/releases/tag/v3.0.0. Use :func:`~optuna.trial.Trial.suggest_float` instead.\n",
            "  'lambda': trial.suggest_loguniform('lambda', 1e-3, 10.0),\n",
            "<ipython-input-48-f880d349052c>:17: FutureWarning: suggest_loguniform has been deprecated in v3.0.0. This feature will be removed in v6.0.0. See https://github.com/optuna/optuna/releases/tag/v3.0.0. Use :func:`~optuna.trial.Trial.suggest_float` instead.\n",
            "  'alpha': trial.suggest_loguniform('alpha', 1e-3, 10.0),\n",
            "/usr/local/lib/python3.9/dist-packages/xgboost/sklearn.py:835: UserWarning: `early_stopping_rounds` in `fit` method is deprecated for better compatibility with scikit-learn, use `early_stopping_rounds` in constructor or`set_params` instead.\n",
            "  warnings.warn(\n"
          ]
        },
        {
          "output_type": "stream",
          "name": "stdout",
          "text": [
            "[08:11:51] WARNING: ../src/learner.cc:767: \n",
            "Parameters: { \"folds\" } are not used.\n",
            "\n"
          ]
        },
        {
          "output_type": "stream",
          "name": "stderr",
          "text": [
            "\u001b[32m[I 2023-04-25 08:12:30,962]\u001b[0m Trial 88 finished with value: 1.1931134287436693 and parameters: {'lambda': 0.07832346812458596, 'alpha': 3.19176569522465, 'colsample_bytree': 0.7, 'subsample': 1.0, 'learning_rate': 0.016, 'max_depth': 15, 'random_state': 24, 'min_child_weight': 6}. Best is trial 59 with value: 1.1783343208268584.\u001b[0m\n",
            "<ipython-input-48-f880d349052c>:16: FutureWarning: suggest_loguniform has been deprecated in v3.0.0. This feature will be removed in v6.0.0. See https://github.com/optuna/optuna/releases/tag/v3.0.0. Use :func:`~optuna.trial.Trial.suggest_float` instead.\n",
            "  'lambda': trial.suggest_loguniform('lambda', 1e-3, 10.0),\n",
            "<ipython-input-48-f880d349052c>:17: FutureWarning: suggest_loguniform has been deprecated in v3.0.0. This feature will be removed in v6.0.0. See https://github.com/optuna/optuna/releases/tag/v3.0.0. Use :func:`~optuna.trial.Trial.suggest_float` instead.\n",
            "  'alpha': trial.suggest_loguniform('alpha', 1e-3, 10.0),\n",
            "/usr/local/lib/python3.9/dist-packages/xgboost/sklearn.py:835: UserWarning: `early_stopping_rounds` in `fit` method is deprecated for better compatibility with scikit-learn, use `early_stopping_rounds` in constructor or`set_params` instead.\n",
            "  warnings.warn(\n"
          ]
        },
        {
          "output_type": "stream",
          "name": "stdout",
          "text": [
            "[08:12:31] WARNING: ../src/learner.cc:767: \n",
            "Parameters: { \"folds\" } are not used.\n",
            "\n"
          ]
        },
        {
          "output_type": "stream",
          "name": "stderr",
          "text": [
            "\u001b[32m[I 2023-04-25 08:12:54,704]\u001b[0m Trial 89 finished with value: 1.18936763163809 and parameters: {'lambda': 0.14501054081799075, 'alpha': 8.048263636956584, 'colsample_bytree': 0.6, 'subsample': 1.0, 'learning_rate': 0.016, 'max_depth': 11, 'random_state': 2020, 'min_child_weight': 22}. Best is trial 59 with value: 1.1783343208268584.\u001b[0m\n",
            "<ipython-input-48-f880d349052c>:16: FutureWarning: suggest_loguniform has been deprecated in v3.0.0. This feature will be removed in v6.0.0. See https://github.com/optuna/optuna/releases/tag/v3.0.0. Use :func:`~optuna.trial.Trial.suggest_float` instead.\n",
            "  'lambda': trial.suggest_loguniform('lambda', 1e-3, 10.0),\n",
            "<ipython-input-48-f880d349052c>:17: FutureWarning: suggest_loguniform has been deprecated in v3.0.0. This feature will be removed in v6.0.0. See https://github.com/optuna/optuna/releases/tag/v3.0.0. Use :func:`~optuna.trial.Trial.suggest_float` instead.\n",
            "  'alpha': trial.suggest_loguniform('alpha', 1e-3, 10.0),\n",
            "/usr/local/lib/python3.9/dist-packages/xgboost/sklearn.py:835: UserWarning: `early_stopping_rounds` in `fit` method is deprecated for better compatibility with scikit-learn, use `early_stopping_rounds` in constructor or`set_params` instead.\n",
            "  warnings.warn(\n"
          ]
        },
        {
          "output_type": "stream",
          "name": "stdout",
          "text": [
            "[08:12:54] WARNING: ../src/learner.cc:767: \n",
            "Parameters: { \"folds\" } are not used.\n",
            "\n"
          ]
        },
        {
          "output_type": "stream",
          "name": "stderr",
          "text": [
            "\u001b[32m[I 2023-04-25 08:13:09,780]\u001b[0m Trial 90 finished with value: 1.2274681677927155 and parameters: {'lambda': 0.09171060432152521, 'alpha': 4.665622515065789, 'colsample_bytree': 0.4, 'subsample': 1.0, 'learning_rate': 0.016, 'max_depth': 15, 'random_state': 24, 'min_child_weight': 137}. Best is trial 59 with value: 1.1783343208268584.\u001b[0m\n",
            "<ipython-input-48-f880d349052c>:16: FutureWarning: suggest_loguniform has been deprecated in v3.0.0. This feature will be removed in v6.0.0. See https://github.com/optuna/optuna/releases/tag/v3.0.0. Use :func:`~optuna.trial.Trial.suggest_float` instead.\n",
            "  'lambda': trial.suggest_loguniform('lambda', 1e-3, 10.0),\n",
            "<ipython-input-48-f880d349052c>:17: FutureWarning: suggest_loguniform has been deprecated in v3.0.0. This feature will be removed in v6.0.0. See https://github.com/optuna/optuna/releases/tag/v3.0.0. Use :func:`~optuna.trial.Trial.suggest_float` instead.\n",
            "  'alpha': trial.suggest_loguniform('alpha', 1e-3, 10.0),\n",
            "/usr/local/lib/python3.9/dist-packages/xgboost/sklearn.py:835: UserWarning: `early_stopping_rounds` in `fit` method is deprecated for better compatibility with scikit-learn, use `early_stopping_rounds` in constructor or`set_params` instead.\n",
            "  warnings.warn(\n"
          ]
        },
        {
          "output_type": "stream",
          "name": "stdout",
          "text": [
            "[08:13:09] WARNING: ../src/learner.cc:767: \n",
            "Parameters: { \"folds\" } are not used.\n",
            "\n"
          ]
        },
        {
          "output_type": "stream",
          "name": "stderr",
          "text": [
            "\u001b[32m[I 2023-04-25 08:13:52,344]\u001b[0m Trial 91 finished with value: 1.190139927453386 and parameters: {'lambda': 0.11457955759922511, 'alpha': 2.325685674477899, 'colsample_bytree': 0.7, 'subsample': 1.0, 'learning_rate': 0.016, 'max_depth': 15, 'random_state': 24, 'min_child_weight': 9}. Best is trial 59 with value: 1.1783343208268584.\u001b[0m\n",
            "<ipython-input-48-f880d349052c>:16: FutureWarning: suggest_loguniform has been deprecated in v3.0.0. This feature will be removed in v6.0.0. See https://github.com/optuna/optuna/releases/tag/v3.0.0. Use :func:`~optuna.trial.Trial.suggest_float` instead.\n",
            "  'lambda': trial.suggest_loguniform('lambda', 1e-3, 10.0),\n",
            "<ipython-input-48-f880d349052c>:17: FutureWarning: suggest_loguniform has been deprecated in v3.0.0. This feature will be removed in v6.0.0. See https://github.com/optuna/optuna/releases/tag/v3.0.0. Use :func:`~optuna.trial.Trial.suggest_float` instead.\n",
            "  'alpha': trial.suggest_loguniform('alpha', 1e-3, 10.0),\n",
            "/usr/local/lib/python3.9/dist-packages/xgboost/sklearn.py:835: UserWarning: `early_stopping_rounds` in `fit` method is deprecated for better compatibility with scikit-learn, use `early_stopping_rounds` in constructor or`set_params` instead.\n",
            "  warnings.warn(\n"
          ]
        },
        {
          "output_type": "stream",
          "name": "stdout",
          "text": [
            "[08:13:52] WARNING: ../src/learner.cc:767: \n",
            "Parameters: { \"folds\" } are not used.\n",
            "\n"
          ]
        },
        {
          "output_type": "stream",
          "name": "stderr",
          "text": [
            "\u001b[32m[I 2023-04-25 08:14:20,877]\u001b[0m Trial 92 finished with value: 1.1891926430026112 and parameters: {'lambda': 0.13190972754181898, 'alpha': 4.268108203830955, 'colsample_bytree': 0.7, 'subsample': 1.0, 'learning_rate': 0.016, 'max_depth': 15, 'random_state': 24, 'min_child_weight': 17}. Best is trial 59 with value: 1.1783343208268584.\u001b[0m\n",
            "<ipython-input-48-f880d349052c>:16: FutureWarning: suggest_loguniform has been deprecated in v3.0.0. This feature will be removed in v6.0.0. See https://github.com/optuna/optuna/releases/tag/v3.0.0. Use :func:`~optuna.trial.Trial.suggest_float` instead.\n",
            "  'lambda': trial.suggest_loguniform('lambda', 1e-3, 10.0),\n",
            "<ipython-input-48-f880d349052c>:17: FutureWarning: suggest_loguniform has been deprecated in v3.0.0. This feature will be removed in v6.0.0. See https://github.com/optuna/optuna/releases/tag/v3.0.0. Use :func:`~optuna.trial.Trial.suggest_float` instead.\n",
            "  'alpha': trial.suggest_loguniform('alpha', 1e-3, 10.0),\n",
            "/usr/local/lib/python3.9/dist-packages/xgboost/sklearn.py:835: UserWarning: `early_stopping_rounds` in `fit` method is deprecated for better compatibility with scikit-learn, use `early_stopping_rounds` in constructor or`set_params` instead.\n",
            "  warnings.warn(\n"
          ]
        },
        {
          "output_type": "stream",
          "name": "stdout",
          "text": [
            "[08:14:20] WARNING: ../src/learner.cc:767: \n",
            "Parameters: { \"folds\" } are not used.\n",
            "\n"
          ]
        },
        {
          "output_type": "stream",
          "name": "stderr",
          "text": [
            "\u001b[32m[I 2023-04-25 08:14:43,088]\u001b[0m Trial 93 finished with value: 1.1910700073226799 and parameters: {'lambda': 0.1025267090868673, 'alpha': 3.24319918667477, 'colsample_bytree': 0.7, 'subsample': 1.0, 'learning_rate': 0.016, 'max_depth': 15, 'random_state': 24, 'min_child_weight': 31}. Best is trial 59 with value: 1.1783343208268584.\u001b[0m\n",
            "<ipython-input-48-f880d349052c>:16: FutureWarning: suggest_loguniform has been deprecated in v3.0.0. This feature will be removed in v6.0.0. See https://github.com/optuna/optuna/releases/tag/v3.0.0. Use :func:`~optuna.trial.Trial.suggest_float` instead.\n",
            "  'lambda': trial.suggest_loguniform('lambda', 1e-3, 10.0),\n",
            "<ipython-input-48-f880d349052c>:17: FutureWarning: suggest_loguniform has been deprecated in v3.0.0. This feature will be removed in v6.0.0. See https://github.com/optuna/optuna/releases/tag/v3.0.0. Use :func:`~optuna.trial.Trial.suggest_float` instead.\n",
            "  'alpha': trial.suggest_loguniform('alpha', 1e-3, 10.0),\n",
            "/usr/local/lib/python3.9/dist-packages/xgboost/sklearn.py:835: UserWarning: `early_stopping_rounds` in `fit` method is deprecated for better compatibility with scikit-learn, use `early_stopping_rounds` in constructor or`set_params` instead.\n",
            "  warnings.warn(\n"
          ]
        },
        {
          "output_type": "stream",
          "name": "stdout",
          "text": [
            "[08:14:43] WARNING: ../src/learner.cc:767: \n",
            "Parameters: { \"folds\" } are not used.\n",
            "\n"
          ]
        },
        {
          "output_type": "stream",
          "name": "stderr",
          "text": [
            "\u001b[32m[I 2023-04-25 08:15:26,501]\u001b[0m Trial 94 finished with value: 1.2060910859070082 and parameters: {'lambda': 0.22788174786586768, 'alpha': 6.011209424679765, 'colsample_bytree': 0.7, 'subsample': 1.0, 'learning_rate': 0.016, 'max_depth': 15, 'random_state': 24, 'min_child_weight': 1}. Best is trial 59 with value: 1.1783343208268584.\u001b[0m\n",
            "<ipython-input-48-f880d349052c>:16: FutureWarning: suggest_loguniform has been deprecated in v3.0.0. This feature will be removed in v6.0.0. See https://github.com/optuna/optuna/releases/tag/v3.0.0. Use :func:`~optuna.trial.Trial.suggest_float` instead.\n",
            "  'lambda': trial.suggest_loguniform('lambda', 1e-3, 10.0),\n",
            "<ipython-input-48-f880d349052c>:17: FutureWarning: suggest_loguniform has been deprecated in v3.0.0. This feature will be removed in v6.0.0. See https://github.com/optuna/optuna/releases/tag/v3.0.0. Use :func:`~optuna.trial.Trial.suggest_float` instead.\n",
            "  'alpha': trial.suggest_loguniform('alpha', 1e-3, 10.0),\n",
            "/usr/local/lib/python3.9/dist-packages/xgboost/sklearn.py:835: UserWarning: `early_stopping_rounds` in `fit` method is deprecated for better compatibility with scikit-learn, use `early_stopping_rounds` in constructor or`set_params` instead.\n",
            "  warnings.warn(\n"
          ]
        },
        {
          "output_type": "stream",
          "name": "stdout",
          "text": [
            "[08:15:26] WARNING: ../src/learner.cc:767: \n",
            "Parameters: { \"folds\" } are not used.\n",
            "\n"
          ]
        },
        {
          "output_type": "stream",
          "name": "stderr",
          "text": [
            "\u001b[32m[I 2023-04-25 08:15:44,706]\u001b[0m Trial 95 finished with value: 1.2154590188079264 and parameters: {'lambda': 0.06350125939355689, 'alpha': 1.6792867086000118, 'colsample_bytree': 0.7, 'subsample': 0.5, 'learning_rate': 0.012, 'max_depth': 15, 'random_state': 24, 'min_child_weight': 15}. Best is trial 59 with value: 1.1783343208268584.\u001b[0m\n",
            "<ipython-input-48-f880d349052c>:16: FutureWarning: suggest_loguniform has been deprecated in v3.0.0. This feature will be removed in v6.0.0. See https://github.com/optuna/optuna/releases/tag/v3.0.0. Use :func:`~optuna.trial.Trial.suggest_float` instead.\n",
            "  'lambda': trial.suggest_loguniform('lambda', 1e-3, 10.0),\n",
            "<ipython-input-48-f880d349052c>:17: FutureWarning: suggest_loguniform has been deprecated in v3.0.0. This feature will be removed in v6.0.0. See https://github.com/optuna/optuna/releases/tag/v3.0.0. Use :func:`~optuna.trial.Trial.suggest_float` instead.\n",
            "  'alpha': trial.suggest_loguniform('alpha', 1e-3, 10.0),\n",
            "/usr/local/lib/python3.9/dist-packages/xgboost/sklearn.py:835: UserWarning: `early_stopping_rounds` in `fit` method is deprecated for better compatibility with scikit-learn, use `early_stopping_rounds` in constructor or`set_params` instead.\n",
            "  warnings.warn(\n"
          ]
        },
        {
          "output_type": "stream",
          "name": "stdout",
          "text": [
            "[08:15:44] WARNING: ../src/learner.cc:767: \n",
            "Parameters: { \"folds\" } are not used.\n",
            "\n"
          ]
        },
        {
          "output_type": "stream",
          "name": "stderr",
          "text": [
            "\u001b[32m[I 2023-04-25 08:16:20,726]\u001b[0m Trial 96 finished with value: 1.19068031307876 and parameters: {'lambda': 0.05320874151856562, 'alpha': 8.362007922549328, 'colsample_bytree': 0.7, 'subsample': 1.0, 'learning_rate': 0.016, 'max_depth': 20, 'random_state': 24, 'min_child_weight': 8}. Best is trial 59 with value: 1.1783343208268584.\u001b[0m\n",
            "<ipython-input-48-f880d349052c>:16: FutureWarning: suggest_loguniform has been deprecated in v3.0.0. This feature will be removed in v6.0.0. See https://github.com/optuna/optuna/releases/tag/v3.0.0. Use :func:`~optuna.trial.Trial.suggest_float` instead.\n",
            "  'lambda': trial.suggest_loguniform('lambda', 1e-3, 10.0),\n",
            "<ipython-input-48-f880d349052c>:17: FutureWarning: suggest_loguniform has been deprecated in v3.0.0. This feature will be removed in v6.0.0. See https://github.com/optuna/optuna/releases/tag/v3.0.0. Use :func:`~optuna.trial.Trial.suggest_float` instead.\n",
            "  'alpha': trial.suggest_loguniform('alpha', 1e-3, 10.0),\n",
            "/usr/local/lib/python3.9/dist-packages/xgboost/sklearn.py:835: UserWarning: `early_stopping_rounds` in `fit` method is deprecated for better compatibility with scikit-learn, use `early_stopping_rounds` in constructor or`set_params` instead.\n",
            "  warnings.warn(\n"
          ]
        },
        {
          "output_type": "stream",
          "name": "stdout",
          "text": [
            "[08:16:20] WARNING: ../src/learner.cc:767: \n",
            "Parameters: { \"folds\" } are not used.\n",
            "\n"
          ]
        },
        {
          "output_type": "stream",
          "name": "stderr",
          "text": [
            "\u001b[32m[I 2023-04-25 08:16:38,537]\u001b[0m Trial 97 finished with value: 1.1917673993901474 and parameters: {'lambda': 0.14803445416051567, 'alpha': 2.629366524710594, 'colsample_bytree': 0.7, 'subsample': 1.0, 'learning_rate': 0.02, 'max_depth': 15, 'random_state': 24, 'min_child_weight': 38}. Best is trial 59 with value: 1.1783343208268584.\u001b[0m\n",
            "<ipython-input-48-f880d349052c>:16: FutureWarning: suggest_loguniform has been deprecated in v3.0.0. This feature will be removed in v6.0.0. See https://github.com/optuna/optuna/releases/tag/v3.0.0. Use :func:`~optuna.trial.Trial.suggest_float` instead.\n",
            "  'lambda': trial.suggest_loguniform('lambda', 1e-3, 10.0),\n",
            "<ipython-input-48-f880d349052c>:17: FutureWarning: suggest_loguniform has been deprecated in v3.0.0. This feature will be removed in v6.0.0. See https://github.com/optuna/optuna/releases/tag/v3.0.0. Use :func:`~optuna.trial.Trial.suggest_float` instead.\n",
            "  'alpha': trial.suggest_loguniform('alpha', 1e-3, 10.0),\n",
            "/usr/local/lib/python3.9/dist-packages/xgboost/sklearn.py:835: UserWarning: `early_stopping_rounds` in `fit` method is deprecated for better compatibility with scikit-learn, use `early_stopping_rounds` in constructor or`set_params` instead.\n",
            "  warnings.warn(\n"
          ]
        },
        {
          "output_type": "stream",
          "name": "stdout",
          "text": [
            "[08:16:38] WARNING: ../src/learner.cc:767: \n",
            "Parameters: { \"folds\" } are not used.\n",
            "\n"
          ]
        },
        {
          "output_type": "stream",
          "name": "stderr",
          "text": [
            "\u001b[32m[I 2023-04-25 08:17:03,870]\u001b[0m Trial 98 finished with value: 1.2075728570672477 and parameters: {'lambda': 0.040932422137981775, 'alpha': 4.7348071946645645, 'colsample_bytree': 0.7, 'subsample': 0.8, 'learning_rate': 0.014, 'max_depth': 15, 'random_state': 24, 'min_child_weight': 57}. Best is trial 59 with value: 1.1783343208268584.\u001b[0m\n",
            "<ipython-input-48-f880d349052c>:16: FutureWarning: suggest_loguniform has been deprecated in v3.0.0. This feature will be removed in v6.0.0. See https://github.com/optuna/optuna/releases/tag/v3.0.0. Use :func:`~optuna.trial.Trial.suggest_float` instead.\n",
            "  'lambda': trial.suggest_loguniform('lambda', 1e-3, 10.0),\n",
            "<ipython-input-48-f880d349052c>:17: FutureWarning: suggest_loguniform has been deprecated in v3.0.0. This feature will be removed in v6.0.0. See https://github.com/optuna/optuna/releases/tag/v3.0.0. Use :func:`~optuna.trial.Trial.suggest_float` instead.\n",
            "  'alpha': trial.suggest_loguniform('alpha', 1e-3, 10.0),\n",
            "/usr/local/lib/python3.9/dist-packages/xgboost/sklearn.py:835: UserWarning: `early_stopping_rounds` in `fit` method is deprecated for better compatibility with scikit-learn, use `early_stopping_rounds` in constructor or`set_params` instead.\n",
            "  warnings.warn(\n"
          ]
        },
        {
          "output_type": "stream",
          "name": "stdout",
          "text": [
            "[08:17:03] WARNING: ../src/learner.cc:767: \n",
            "Parameters: { \"folds\" } are not used.\n",
            "\n"
          ]
        },
        {
          "output_type": "stream",
          "name": "stderr",
          "text": [
            "\u001b[32m[I 2023-04-25 08:17:28,267]\u001b[0m Trial 99 finished with value: 1.1989270331820157 and parameters: {'lambda': 0.08375925495346706, 'alpha': 3.5585961950781737, 'colsample_bytree': 0.9, 'subsample': 1.0, 'learning_rate': 0.016, 'max_depth': 7, 'random_state': 24, 'min_child_weight': 28}. Best is trial 59 with value: 1.1783343208268584.\u001b[0m\n"
          ]
        },
        {
          "output_type": "stream",
          "name": "stdout",
          "text": [
            "Number of finished trials: 100\n",
            "Best trial: {'lambda': 0.32351603816941527, 'alpha': 6.225732423408061, 'colsample_bytree': 0.7, 'subsample': 1.0, 'learning_rate': 0.016, 'max_depth': 15, 'random_state': 24, 'min_child_weight': 14}\n"
          ]
        }
      ]
    },
    {
      "cell_type": "code",
      "metadata": {
        "id": "sd4yAXfWLgSt",
        "colab": {
          "base_uri": "https://localhost:8080/"
        },
        "outputId": "427416be-4735-4031-b85e-f25ffddec46d"
      },
      "source": [
        "trial = study.best_trial\n",
        "trial_params = trial.params\n",
        "print('Best Trial: score {},\\nparams {}'.format(trial.value, trial_params))"
      ],
      "execution_count": 49,
      "outputs": [
        {
          "output_type": "stream",
          "name": "stdout",
          "text": [
            "Best Trial: score 1.1783343208268584,\n",
            "params {'lambda': 0.32351603816941527, 'alpha': 6.225732423408061, 'colsample_bytree': 0.7, 'subsample': 1.0, 'learning_rate': 0.016, 'max_depth': 15, 'random_state': 24, 'min_child_weight': 14}\n"
          ]
        }
      ]
    },
    {
      "cell_type": "code",
      "metadata": {
        "id": "2SyJokSGLgSt",
        "scrolled": true,
        "colab": {
          "base_uri": "https://localhost:8080/"
        },
        "outputId": "620fc5c9-651f-40f7-8c9a-2dd54082ca4a"
      },
      "source": [
        "# Hyper-parameter tuning for goalkeepers\n",
        "def objective_gk(trial):\n",
        "    \n",
        "    kf = KFold(n_splits=10, shuffle=True)\n",
        "\n",
        "    param = {\n",
        "        'lambda': trial.suggest_loguniform('lambda', 1e-3, 10.0),\n",
        "        'alpha': trial.suggest_loguniform('alpha', 1e-3, 10.0),\n",
        "        'colsample_bytree': trial.suggest_categorical('colsample_bytree', [0.3,0.4,0.5,0.6,0.7,0.8,0.9, 1.0]),\n",
        "        'subsample': trial.suggest_categorical('subsample', [0.4,0.5,0.6,0.7,0.8,1.0]),\n",
        "        'learning_rate': trial.suggest_categorical('learning_rate', [0.008,0.009,0.01,0.012,0.014,0.016,0.018, 0.02]),\n",
        "        'n_estimators': 4000,\n",
        "        'max_depth': trial.suggest_categorical('max_depth', [5,7,9,11,13,15,17,20]),\n",
        "        'random_state': trial.suggest_categorical('random_state', [24, 48,2020]),\n",
        "        'min_child_weight': trial.suggest_int('min_child_weight', 1, 300),\n",
        "        'folds' : kf\n",
        "    }\n",
        "    model = xgb.XGBRegressor(**param)  \n",
        "    \n",
        "    model.fit(X_train_gk,y_train_gk,eval_set=[(X_train_gk, y_train_gk),(X_test_gk,y_test_gk)],early_stopping_rounds=100,verbose=False)\n",
        "    \n",
        "    preds = model.predict(X_test_gk)\n",
        "    \n",
        "    rmse = mean_squared_error(y_test_gk, preds,squared=False)\n",
        "    \n",
        "    return rmse\n",
        "\n",
        "study_gk = optuna.create_study(direction='minimize')\n",
        "study_gk.optimize(objective_gk, n_trials=100)\n",
        "print('Number of finished trials:', len(study_gk.trials))\n",
        "print('Best trial:', study_gk.best_trial.params)"
      ],
      "execution_count": 50,
      "outputs": [
        {
          "output_type": "stream",
          "name": "stderr",
          "text": [
            "\u001b[32m[I 2023-04-25 08:17:28,350]\u001b[0m A new study created in memory with name: no-name-8605d780-799e-4dfa-bd24-8e5ee1791c8c\u001b[0m\n",
            "<ipython-input-50-9441937f327c>:7: FutureWarning: suggest_loguniform has been deprecated in v3.0.0. This feature will be removed in v6.0.0. See https://github.com/optuna/optuna/releases/tag/v3.0.0. Use :func:`~optuna.trial.Trial.suggest_float` instead.\n",
            "  'lambda': trial.suggest_loguniform('lambda', 1e-3, 10.0),\n",
            "<ipython-input-50-9441937f327c>:8: FutureWarning: suggest_loguniform has been deprecated in v3.0.0. This feature will be removed in v6.0.0. See https://github.com/optuna/optuna/releases/tag/v3.0.0. Use :func:`~optuna.trial.Trial.suggest_float` instead.\n",
            "  'alpha': trial.suggest_loguniform('alpha', 1e-3, 10.0),\n",
            "/usr/local/lib/python3.9/dist-packages/xgboost/sklearn.py:835: UserWarning: `early_stopping_rounds` in `fit` method is deprecated for better compatibility with scikit-learn, use `early_stopping_rounds` in constructor or`set_params` instead.\n",
            "  warnings.warn(\n",
            "\u001b[32m[I 2023-04-25 08:17:28,430]\u001b[0m Trial 0 finished with value: 13.840229243806807 and parameters: {'lambda': 0.07776906133268768, 'alpha': 6.025358006342228, 'colsample_bytree': 0.4, 'subsample': 0.4, 'learning_rate': 0.012, 'max_depth': 9, 'random_state': 2020, 'min_child_weight': 205}. Best is trial 0 with value: 13.840229243806807.\u001b[0m\n",
            "<ipython-input-50-9441937f327c>:7: FutureWarning: suggest_loguniform has been deprecated in v3.0.0. This feature will be removed in v6.0.0. See https://github.com/optuna/optuna/releases/tag/v3.0.0. Use :func:`~optuna.trial.Trial.suggest_float` instead.\n",
            "  'lambda': trial.suggest_loguniform('lambda', 1e-3, 10.0),\n",
            "<ipython-input-50-9441937f327c>:8: FutureWarning: suggest_loguniform has been deprecated in v3.0.0. This feature will be removed in v6.0.0. See https://github.com/optuna/optuna/releases/tag/v3.0.0. Use :func:`~optuna.trial.Trial.suggest_float` instead.\n",
            "  'alpha': trial.suggest_loguniform('alpha', 1e-3, 10.0),\n",
            "/usr/local/lib/python3.9/dist-packages/xgboost/sklearn.py:835: UserWarning: `early_stopping_rounds` in `fit` method is deprecated for better compatibility with scikit-learn, use `early_stopping_rounds` in constructor or`set_params` instead.\n",
            "  warnings.warn(\n"
          ]
        },
        {
          "output_type": "stream",
          "name": "stdout",
          "text": [
            "[08:17:28] WARNING: ../src/learner.cc:767: \n",
            "Parameters: { \"folds\" } are not used.\n",
            "\n",
            "[08:17:28] WARNING: ../src/learner.cc:767: \n",
            "Parameters: { \"folds\" } are not used.\n",
            "\n"
          ]
        },
        {
          "output_type": "stream",
          "name": "stderr",
          "text": [
            "\u001b[32m[I 2023-04-25 08:17:28,839]\u001b[0m Trial 1 finished with value: 2.4343969417645175 and parameters: {'lambda': 0.005060078888512058, 'alpha': 0.0026418413670293113, 'colsample_bytree': 0.3, 'subsample': 0.6, 'learning_rate': 0.018, 'max_depth': 20, 'random_state': 48, 'min_child_weight': 241}. Best is trial 1 with value: 2.4343969417645175.\u001b[0m\n",
            "<ipython-input-50-9441937f327c>:7: FutureWarning: suggest_loguniform has been deprecated in v3.0.0. This feature will be removed in v6.0.0. See https://github.com/optuna/optuna/releases/tag/v3.0.0. Use :func:`~optuna.trial.Trial.suggest_float` instead.\n",
            "  'lambda': trial.suggest_loguniform('lambda', 1e-3, 10.0),\n",
            "<ipython-input-50-9441937f327c>:8: FutureWarning: suggest_loguniform has been deprecated in v3.0.0. This feature will be removed in v6.0.0. See https://github.com/optuna/optuna/releases/tag/v3.0.0. Use :func:`~optuna.trial.Trial.suggest_float` instead.\n",
            "  'alpha': trial.suggest_loguniform('alpha', 1e-3, 10.0),\n",
            "/usr/local/lib/python3.9/dist-packages/xgboost/sklearn.py:835: UserWarning: `early_stopping_rounds` in `fit` method is deprecated for better compatibility with scikit-learn, use `early_stopping_rounds` in constructor or`set_params` instead.\n",
            "  warnings.warn(\n"
          ]
        },
        {
          "output_type": "stream",
          "name": "stdout",
          "text": [
            "[08:17:28] WARNING: ../src/learner.cc:767: \n",
            "Parameters: { \"folds\" } are not used.\n",
            "\n"
          ]
        },
        {
          "output_type": "stream",
          "name": "stderr",
          "text": [
            "\u001b[32m[I 2023-04-25 08:17:29,323]\u001b[0m Trial 2 finished with value: 2.407709562705588 and parameters: {'lambda': 0.03738649847241576, 'alpha': 0.015215259698254354, 'colsample_bytree': 0.5, 'subsample': 0.4, 'learning_rate': 0.02, 'max_depth': 17, 'random_state': 2020, 'min_child_weight': 101}. Best is trial 2 with value: 2.407709562705588.\u001b[0m\n",
            "<ipython-input-50-9441937f327c>:7: FutureWarning: suggest_loguniform has been deprecated in v3.0.0. This feature will be removed in v6.0.0. See https://github.com/optuna/optuna/releases/tag/v3.0.0. Use :func:`~optuna.trial.Trial.suggest_float` instead.\n",
            "  'lambda': trial.suggest_loguniform('lambda', 1e-3, 10.0),\n",
            "<ipython-input-50-9441937f327c>:8: FutureWarning: suggest_loguniform has been deprecated in v3.0.0. This feature will be removed in v6.0.0. See https://github.com/optuna/optuna/releases/tag/v3.0.0. Use :func:`~optuna.trial.Trial.suggest_float` instead.\n",
            "  'alpha': trial.suggest_loguniform('alpha', 1e-3, 10.0),\n",
            "/usr/local/lib/python3.9/dist-packages/xgboost/sklearn.py:835: UserWarning: `early_stopping_rounds` in `fit` method is deprecated for better compatibility with scikit-learn, use `early_stopping_rounds` in constructor or`set_params` instead.\n",
            "  warnings.warn(\n"
          ]
        },
        {
          "output_type": "stream",
          "name": "stdout",
          "text": [
            "[08:17:29] WARNING: ../src/learner.cc:767: \n",
            "Parameters: { \"folds\" } are not used.\n",
            "\n"
          ]
        },
        {
          "output_type": "stream",
          "name": "stderr",
          "text": [
            "\u001b[32m[I 2023-04-25 08:17:29,892]\u001b[0m Trial 3 finished with value: 1.4338990979102555 and parameters: {'lambda': 0.012553263551318779, 'alpha': 0.0645181039457321, 'colsample_bytree': 0.3, 'subsample': 0.6, 'learning_rate': 0.02, 'max_depth': 17, 'random_state': 24, 'min_child_weight': 17}. Best is trial 3 with value: 1.4338990979102555.\u001b[0m\n",
            "<ipython-input-50-9441937f327c>:7: FutureWarning: suggest_loguniform has been deprecated in v3.0.0. This feature will be removed in v6.0.0. See https://github.com/optuna/optuna/releases/tag/v3.0.0. Use :func:`~optuna.trial.Trial.suggest_float` instead.\n",
            "  'lambda': trial.suggest_loguniform('lambda', 1e-3, 10.0),\n",
            "<ipython-input-50-9441937f327c>:8: FutureWarning: suggest_loguniform has been deprecated in v3.0.0. This feature will be removed in v6.0.0. See https://github.com/optuna/optuna/releases/tag/v3.0.0. Use :func:`~optuna.trial.Trial.suggest_float` instead.\n",
            "  'alpha': trial.suggest_loguniform('alpha', 1e-3, 10.0),\n",
            "/usr/local/lib/python3.9/dist-packages/xgboost/sklearn.py:835: UserWarning: `early_stopping_rounds` in `fit` method is deprecated for better compatibility with scikit-learn, use `early_stopping_rounds` in constructor or`set_params` instead.\n",
            "  warnings.warn(\n"
          ]
        },
        {
          "output_type": "stream",
          "name": "stdout",
          "text": [
            "[08:17:29] WARNING: ../src/learner.cc:767: \n",
            "Parameters: { \"folds\" } are not used.\n",
            "\n"
          ]
        },
        {
          "output_type": "stream",
          "name": "stderr",
          "text": [
            "\u001b[32m[I 2023-04-25 08:17:30,886]\u001b[0m Trial 4 finished with value: 1.8231345955885871 and parameters: {'lambda': 0.9338439377816463, 'alpha': 0.0017061526915299308, 'colsample_bytree': 0.3, 'subsample': 0.4, 'learning_rate': 0.01, 'max_depth': 20, 'random_state': 24, 'min_child_weight': 75}. Best is trial 3 with value: 1.4338990979102555.\u001b[0m\n",
            "<ipython-input-50-9441937f327c>:7: FutureWarning: suggest_loguniform has been deprecated in v3.0.0. This feature will be removed in v6.0.0. See https://github.com/optuna/optuna/releases/tag/v3.0.0. Use :func:`~optuna.trial.Trial.suggest_float` instead.\n",
            "  'lambda': trial.suggest_loguniform('lambda', 1e-3, 10.0),\n",
            "<ipython-input-50-9441937f327c>:8: FutureWarning: suggest_loguniform has been deprecated in v3.0.0. This feature will be removed in v6.0.0. See https://github.com/optuna/optuna/releases/tag/v3.0.0. Use :func:`~optuna.trial.Trial.suggest_float` instead.\n",
            "  'alpha': trial.suggest_loguniform('alpha', 1e-3, 10.0),\n",
            "/usr/local/lib/python3.9/dist-packages/xgboost/sklearn.py:835: UserWarning: `early_stopping_rounds` in `fit` method is deprecated for better compatibility with scikit-learn, use `early_stopping_rounds` in constructor or`set_params` instead.\n",
            "  warnings.warn(\n"
          ]
        },
        {
          "output_type": "stream",
          "name": "stdout",
          "text": [
            "[08:17:30] WARNING: ../src/learner.cc:767: \n",
            "Parameters: { \"folds\" } are not used.\n",
            "\n"
          ]
        },
        {
          "output_type": "stream",
          "name": "stderr",
          "text": [
            "\u001b[32m[I 2023-04-25 08:17:31,911]\u001b[0m Trial 5 finished with value: 1.4059423930832378 and parameters: {'lambda': 0.18511471776390448, 'alpha': 1.141711855752377, 'colsample_bytree': 0.4, 'subsample': 0.7, 'learning_rate': 0.008, 'max_depth': 13, 'random_state': 24, 'min_child_weight': 44}. Best is trial 5 with value: 1.4059423930832378.\u001b[0m\n",
            "<ipython-input-50-9441937f327c>:7: FutureWarning: suggest_loguniform has been deprecated in v3.0.0. This feature will be removed in v6.0.0. See https://github.com/optuna/optuna/releases/tag/v3.0.0. Use :func:`~optuna.trial.Trial.suggest_float` instead.\n",
            "  'lambda': trial.suggest_loguniform('lambda', 1e-3, 10.0),\n",
            "<ipython-input-50-9441937f327c>:8: FutureWarning: suggest_loguniform has been deprecated in v3.0.0. This feature will be removed in v6.0.0. See https://github.com/optuna/optuna/releases/tag/v3.0.0. Use :func:`~optuna.trial.Trial.suggest_float` instead.\n",
            "  'alpha': trial.suggest_loguniform('alpha', 1e-3, 10.0),\n",
            "/usr/local/lib/python3.9/dist-packages/xgboost/sklearn.py:835: UserWarning: `early_stopping_rounds` in `fit` method is deprecated for better compatibility with scikit-learn, use `early_stopping_rounds` in constructor or`set_params` instead.\n",
            "  warnings.warn(\n"
          ]
        },
        {
          "output_type": "stream",
          "name": "stdout",
          "text": [
            "[08:17:31] WARNING: ../src/learner.cc:767: \n",
            "Parameters: { \"folds\" } are not used.\n",
            "\n"
          ]
        },
        {
          "output_type": "stream",
          "name": "stderr",
          "text": [
            "\u001b[32m[I 2023-04-25 08:17:32,429]\u001b[0m Trial 6 finished with value: 1.765238232776591 and parameters: {'lambda': 0.0029682504198567544, 'alpha': 0.020499527983730614, 'colsample_bytree': 0.4, 'subsample': 0.4, 'learning_rate': 0.014, 'max_depth': 15, 'random_state': 24, 'min_child_weight': 65}. Best is trial 5 with value: 1.4059423930832378.\u001b[0m\n",
            "<ipython-input-50-9441937f327c>:7: FutureWarning: suggest_loguniform has been deprecated in v3.0.0. This feature will be removed in v6.0.0. See https://github.com/optuna/optuna/releases/tag/v3.0.0. Use :func:`~optuna.trial.Trial.suggest_float` instead.\n",
            "  'lambda': trial.suggest_loguniform('lambda', 1e-3, 10.0),\n",
            "<ipython-input-50-9441937f327c>:8: FutureWarning: suggest_loguniform has been deprecated in v3.0.0. This feature will be removed in v6.0.0. See https://github.com/optuna/optuna/releases/tag/v3.0.0. Use :func:`~optuna.trial.Trial.suggest_float` instead.\n",
            "  'alpha': trial.suggest_loguniform('alpha', 1e-3, 10.0),\n",
            "/usr/local/lib/python3.9/dist-packages/xgboost/sklearn.py:835: UserWarning: `early_stopping_rounds` in `fit` method is deprecated for better compatibility with scikit-learn, use `early_stopping_rounds` in constructor or`set_params` instead.\n",
            "  warnings.warn(\n"
          ]
        },
        {
          "output_type": "stream",
          "name": "stdout",
          "text": [
            "[08:17:32] WARNING: ../src/learner.cc:767: \n",
            "Parameters: { \"folds\" } are not used.\n",
            "\n"
          ]
        },
        {
          "output_type": "stream",
          "name": "stderr",
          "text": [
            "\u001b[32m[I 2023-04-25 08:17:36,497]\u001b[0m Trial 7 finished with value: 1.5625441550504633 and parameters: {'lambda': 0.013051739263460014, 'alpha': 0.017276174999817314, 'colsample_bytree': 1.0, 'subsample': 0.5, 'learning_rate': 0.009, 'max_depth': 15, 'random_state': 2020, 'min_child_weight': 53}. Best is trial 5 with value: 1.4059423930832378.\u001b[0m\n",
            "<ipython-input-50-9441937f327c>:7: FutureWarning: suggest_loguniform has been deprecated in v3.0.0. This feature will be removed in v6.0.0. See https://github.com/optuna/optuna/releases/tag/v3.0.0. Use :func:`~optuna.trial.Trial.suggest_float` instead.\n",
            "  'lambda': trial.suggest_loguniform('lambda', 1e-3, 10.0),\n",
            "<ipython-input-50-9441937f327c>:8: FutureWarning: suggest_loguniform has been deprecated in v3.0.0. This feature will be removed in v6.0.0. See https://github.com/optuna/optuna/releases/tag/v3.0.0. Use :func:`~optuna.trial.Trial.suggest_float` instead.\n",
            "  'alpha': trial.suggest_loguniform('alpha', 1e-3, 10.0),\n",
            "/usr/local/lib/python3.9/dist-packages/xgboost/sklearn.py:835: UserWarning: `early_stopping_rounds` in `fit` method is deprecated for better compatibility with scikit-learn, use `early_stopping_rounds` in constructor or`set_params` instead.\n",
            "  warnings.warn(\n"
          ]
        },
        {
          "output_type": "stream",
          "name": "stdout",
          "text": [
            "[08:17:36] WARNING: ../src/learner.cc:767: \n",
            "Parameters: { \"folds\" } are not used.\n",
            "\n"
          ]
        },
        {
          "output_type": "stream",
          "name": "stderr",
          "text": [
            "\u001b[32m[I 2023-04-25 08:17:37,191]\u001b[0m Trial 8 finished with value: 1.417642440369207 and parameters: {'lambda': 0.0028671950854929885, 'alpha': 6.79455961633662, 'colsample_bytree': 0.9, 'subsample': 0.5, 'learning_rate': 0.016, 'max_depth': 5, 'random_state': 48, 'min_child_weight': 23}. Best is trial 5 with value: 1.4059423930832378.\u001b[0m\n",
            "<ipython-input-50-9441937f327c>:7: FutureWarning: suggest_loguniform has been deprecated in v3.0.0. This feature will be removed in v6.0.0. See https://github.com/optuna/optuna/releases/tag/v3.0.0. Use :func:`~optuna.trial.Trial.suggest_float` instead.\n",
            "  'lambda': trial.suggest_loguniform('lambda', 1e-3, 10.0),\n",
            "<ipython-input-50-9441937f327c>:8: FutureWarning: suggest_loguniform has been deprecated in v3.0.0. This feature will be removed in v6.0.0. See https://github.com/optuna/optuna/releases/tag/v3.0.0. Use :func:`~optuna.trial.Trial.suggest_float` instead.\n",
            "  'alpha': trial.suggest_loguniform('alpha', 1e-3, 10.0),\n",
            "/usr/local/lib/python3.9/dist-packages/xgboost/sklearn.py:835: UserWarning: `early_stopping_rounds` in `fit` method is deprecated for better compatibility with scikit-learn, use `early_stopping_rounds` in constructor or`set_params` instead.\n",
            "  warnings.warn(\n",
            "\u001b[32m[I 2023-04-25 08:17:37,308]\u001b[0m Trial 9 finished with value: 13.840229243806807 and parameters: {'lambda': 0.006544997405915843, 'alpha': 0.017355439975192063, 'colsample_bytree': 0.9, 'subsample': 0.4, 'learning_rate': 0.012, 'max_depth': 20, 'random_state': 2020, 'min_child_weight': 208}. Best is trial 5 with value: 1.4059423930832378.\u001b[0m\n",
            "<ipython-input-50-9441937f327c>:7: FutureWarning: suggest_loguniform has been deprecated in v3.0.0. This feature will be removed in v6.0.0. See https://github.com/optuna/optuna/releases/tag/v3.0.0. Use :func:`~optuna.trial.Trial.suggest_float` instead.\n",
            "  'lambda': trial.suggest_loguniform('lambda', 1e-3, 10.0),\n",
            "<ipython-input-50-9441937f327c>:8: FutureWarning: suggest_loguniform has been deprecated in v3.0.0. This feature will be removed in v6.0.0. See https://github.com/optuna/optuna/releases/tag/v3.0.0. Use :func:`~optuna.trial.Trial.suggest_float` instead.\n",
            "  'alpha': trial.suggest_loguniform('alpha', 1e-3, 10.0),\n",
            "/usr/local/lib/python3.9/dist-packages/xgboost/sklearn.py:835: UserWarning: `early_stopping_rounds` in `fit` method is deprecated for better compatibility with scikit-learn, use `early_stopping_rounds` in constructor or`set_params` instead.\n",
            "  warnings.warn(\n"
          ]
        },
        {
          "output_type": "stream",
          "name": "stdout",
          "text": [
            "[08:17:37] WARNING: ../src/learner.cc:767: \n",
            "Parameters: { \"folds\" } are not used.\n",
            "\n",
            "[08:17:37] WARNING: ../src/learner.cc:767: \n",
            "Parameters: { \"folds\" } are not used.\n",
            "\n"
          ]
        },
        {
          "output_type": "stream",
          "name": "stderr",
          "text": [
            "\u001b[32m[I 2023-04-25 08:17:38,917]\u001b[0m Trial 10 finished with value: 1.8462429262264186 and parameters: {'lambda': 0.5466681418645245, 'alpha': 0.726729168768373, 'colsample_bytree': 0.8, 'subsample': 0.7, 'learning_rate': 0.008, 'max_depth': 13, 'random_state': 24, 'min_child_weight': 144}. Best is trial 5 with value: 1.4059423930832378.\u001b[0m\n",
            "<ipython-input-50-9441937f327c>:7: FutureWarning: suggest_loguniform has been deprecated in v3.0.0. This feature will be removed in v6.0.0. See https://github.com/optuna/optuna/releases/tag/v3.0.0. Use :func:`~optuna.trial.Trial.suggest_float` instead.\n",
            "  'lambda': trial.suggest_loguniform('lambda', 1e-3, 10.0),\n",
            "<ipython-input-50-9441937f327c>:8: FutureWarning: suggest_loguniform has been deprecated in v3.0.0. This feature will be removed in v6.0.0. See https://github.com/optuna/optuna/releases/tag/v3.0.0. Use :func:`~optuna.trial.Trial.suggest_float` instead.\n",
            "  'alpha': trial.suggest_loguniform('alpha', 1e-3, 10.0),\n",
            "/usr/local/lib/python3.9/dist-packages/xgboost/sklearn.py:835: UserWarning: `early_stopping_rounds` in `fit` method is deprecated for better compatibility with scikit-learn, use `early_stopping_rounds` in constructor or`set_params` instead.\n",
            "  warnings.warn(\n"
          ]
        },
        {
          "output_type": "stream",
          "name": "stdout",
          "text": [
            "[08:17:38] WARNING: ../src/learner.cc:767: \n",
            "Parameters: { \"folds\" } are not used.\n",
            "\n"
          ]
        },
        {
          "output_type": "stream",
          "name": "stderr",
          "text": [
            "\u001b[32m[I 2023-04-25 08:17:39,638]\u001b[0m Trial 11 finished with value: 1.4739997098922364 and parameters: {'lambda': 8.089337108547483, 'alpha': 3.6644174707835946, 'colsample_bytree': 0.9, 'subsample': 1.0, 'learning_rate': 0.016, 'max_depth': 5, 'random_state': 48, 'min_child_weight': 2}. Best is trial 5 with value: 1.4059423930832378.\u001b[0m\n",
            "<ipython-input-50-9441937f327c>:7: FutureWarning: suggest_loguniform has been deprecated in v3.0.0. This feature will be removed in v6.0.0. See https://github.com/optuna/optuna/releases/tag/v3.0.0. Use :func:`~optuna.trial.Trial.suggest_float` instead.\n",
            "  'lambda': trial.suggest_loguniform('lambda', 1e-3, 10.0),\n",
            "<ipython-input-50-9441937f327c>:8: FutureWarning: suggest_loguniform has been deprecated in v3.0.0. This feature will be removed in v6.0.0. See https://github.com/optuna/optuna/releases/tag/v3.0.0. Use :func:`~optuna.trial.Trial.suggest_float` instead.\n",
            "  'alpha': trial.suggest_loguniform('alpha', 1e-3, 10.0),\n",
            "/usr/local/lib/python3.9/dist-packages/xgboost/sklearn.py:835: UserWarning: `early_stopping_rounds` in `fit` method is deprecated for better compatibility with scikit-learn, use `early_stopping_rounds` in constructor or`set_params` instead.\n",
            "  warnings.warn(\n"
          ]
        },
        {
          "output_type": "stream",
          "name": "stdout",
          "text": [
            "[08:17:39] WARNING: ../src/learner.cc:767: \n",
            "Parameters: { \"folds\" } are not used.\n",
            "\n"
          ]
        },
        {
          "output_type": "stream",
          "name": "stderr",
          "text": [
            "\u001b[32m[I 2023-04-25 08:17:40,944]\u001b[0m Trial 12 finished with value: 1.8185799044332769 and parameters: {'lambda': 0.001343647977434782, 'alpha': 1.511799417139692, 'colsample_bytree': 0.6, 'subsample': 0.7, 'learning_rate': 0.008, 'max_depth': 7, 'random_state': 48, 'min_child_weight': 130}. Best is trial 5 with value: 1.4059423930832378.\u001b[0m\n",
            "<ipython-input-50-9441937f327c>:7: FutureWarning: suggest_loguniform has been deprecated in v3.0.0. This feature will be removed in v6.0.0. See https://github.com/optuna/optuna/releases/tag/v3.0.0. Use :func:`~optuna.trial.Trial.suggest_float` instead.\n",
            "  'lambda': trial.suggest_loguniform('lambda', 1e-3, 10.0),\n",
            "<ipython-input-50-9441937f327c>:8: FutureWarning: suggest_loguniform has been deprecated in v3.0.0. This feature will be removed in v6.0.0. See https://github.com/optuna/optuna/releases/tag/v3.0.0. Use :func:`~optuna.trial.Trial.suggest_float` instead.\n",
            "  'alpha': trial.suggest_loguniform('alpha', 1e-3, 10.0),\n",
            "/usr/local/lib/python3.9/dist-packages/xgboost/sklearn.py:835: UserWarning: `early_stopping_rounds` in `fit` method is deprecated for better compatibility with scikit-learn, use `early_stopping_rounds` in constructor or`set_params` instead.\n",
            "  warnings.warn(\n"
          ]
        },
        {
          "output_type": "stream",
          "name": "stdout",
          "text": [
            "[08:17:40] WARNING: ../src/learner.cc:767: \n",
            "Parameters: { \"folds\" } are not used.\n",
            "\n"
          ]
        },
        {
          "output_type": "stream",
          "name": "stderr",
          "text": [
            "\u001b[32m[I 2023-04-25 08:17:41,499]\u001b[0m Trial 13 finished with value: 1.4244947642103631 and parameters: {'lambda': 0.001189612192119203, 'alpha': 8.940792501606502, 'colsample_bytree': 0.9, 'subsample': 0.8, 'learning_rate': 0.016, 'max_depth': 11, 'random_state': 48, 'min_child_weight': 32}. Best is trial 5 with value: 1.4059423930832378.\u001b[0m\n",
            "<ipython-input-50-9441937f327c>:7: FutureWarning: suggest_loguniform has been deprecated in v3.0.0. This feature will be removed in v6.0.0. See https://github.com/optuna/optuna/releases/tag/v3.0.0. Use :func:`~optuna.trial.Trial.suggest_float` instead.\n",
            "  'lambda': trial.suggest_loguniform('lambda', 1e-3, 10.0),\n",
            "<ipython-input-50-9441937f327c>:8: FutureWarning: suggest_loguniform has been deprecated in v3.0.0. This feature will be removed in v6.0.0. See https://github.com/optuna/optuna/releases/tag/v3.0.0. Use :func:`~optuna.trial.Trial.suggest_float` instead.\n",
            "  'alpha': trial.suggest_loguniform('alpha', 1e-3, 10.0),\n",
            "/usr/local/lib/python3.9/dist-packages/xgboost/sklearn.py:835: UserWarning: `early_stopping_rounds` in `fit` method is deprecated for better compatibility with scikit-learn, use `early_stopping_rounds` in constructor or`set_params` instead.\n",
            "  warnings.warn(\n",
            "\u001b[32m[I 2023-04-25 08:17:41,592]\u001b[0m Trial 14 finished with value: 13.840229243806807 and parameters: {'lambda': 0.1968897338943429, 'alpha': 0.552254245509169, 'colsample_bytree': 0.7, 'subsample': 0.5, 'learning_rate': 0.008, 'max_depth': 13, 'random_state': 24, 'min_child_weight': 295}. Best is trial 5 with value: 1.4059423930832378.\u001b[0m\n",
            "<ipython-input-50-9441937f327c>:7: FutureWarning: suggest_loguniform has been deprecated in v3.0.0. This feature will be removed in v6.0.0. See https://github.com/optuna/optuna/releases/tag/v3.0.0. Use :func:`~optuna.trial.Trial.suggest_float` instead.\n",
            "  'lambda': trial.suggest_loguniform('lambda', 1e-3, 10.0),\n",
            "<ipython-input-50-9441937f327c>:8: FutureWarning: suggest_loguniform has been deprecated in v3.0.0. This feature will be removed in v6.0.0. See https://github.com/optuna/optuna/releases/tag/v3.0.0. Use :func:`~optuna.trial.Trial.suggest_float` instead.\n",
            "  'alpha': trial.suggest_loguniform('alpha', 1e-3, 10.0),\n",
            "/usr/local/lib/python3.9/dist-packages/xgboost/sklearn.py:835: UserWarning: `early_stopping_rounds` in `fit` method is deprecated for better compatibility with scikit-learn, use `early_stopping_rounds` in constructor or`set_params` instead.\n",
            "  warnings.warn(\n"
          ]
        },
        {
          "output_type": "stream",
          "name": "stdout",
          "text": [
            "[08:17:41] WARNING: ../src/learner.cc:767: \n",
            "Parameters: { \"folds\" } are not used.\n",
            "\n",
            "[08:17:41] WARNING: ../src/learner.cc:767: \n",
            "Parameters: { \"folds\" } are not used.\n",
            "\n"
          ]
        },
        {
          "output_type": "stream",
          "name": "stderr",
          "text": [
            "\u001b[32m[I 2023-04-25 08:17:42,773]\u001b[0m Trial 15 finished with value: 1.8154537806252307 and parameters: {'lambda': 0.03985883225643818, 'alpha': 1.7614212230762885, 'colsample_bytree': 0.4, 'subsample': 0.5, 'learning_rate': 0.016, 'max_depth': 5, 'random_state': 48, 'min_child_weight': 98}. Best is trial 5 with value: 1.4059423930832378.\u001b[0m\n",
            "<ipython-input-50-9441937f327c>:7: FutureWarning: suggest_loguniform has been deprecated in v3.0.0. This feature will be removed in v6.0.0. See https://github.com/optuna/optuna/releases/tag/v3.0.0. Use :func:`~optuna.trial.Trial.suggest_float` instead.\n",
            "  'lambda': trial.suggest_loguniform('lambda', 1e-3, 10.0),\n",
            "<ipython-input-50-9441937f327c>:8: FutureWarning: suggest_loguniform has been deprecated in v3.0.0. This feature will be removed in v6.0.0. See https://github.com/optuna/optuna/releases/tag/v3.0.0. Use :func:`~optuna.trial.Trial.suggest_float` instead.\n",
            "  'alpha': trial.suggest_loguniform('alpha', 1e-3, 10.0),\n",
            "/usr/local/lib/python3.9/dist-packages/xgboost/sklearn.py:835: UserWarning: `early_stopping_rounds` in `fit` method is deprecated for better compatibility with scikit-learn, use `early_stopping_rounds` in constructor or`set_params` instead.\n",
            "  warnings.warn(\n"
          ]
        },
        {
          "output_type": "stream",
          "name": "stdout",
          "text": [
            "[08:17:42] WARNING: ../src/learner.cc:767: \n",
            "Parameters: { \"folds\" } are not used.\n",
            "\n"
          ]
        },
        {
          "output_type": "stream",
          "name": "stderr",
          "text": [
            "\u001b[32m[I 2023-04-25 08:17:43,480]\u001b[0m Trial 16 finished with value: 1.4126657300644836 and parameters: {'lambda': 0.025177175453620262, 'alpha': 0.4360596169147583, 'colsample_bytree': 0.7, 'subsample': 0.7, 'learning_rate': 0.014, 'max_depth': 13, 'random_state': 48, 'min_child_weight': 38}. Best is trial 5 with value: 1.4059423930832378.\u001b[0m\n",
            "<ipython-input-50-9441937f327c>:7: FutureWarning: suggest_loguniform has been deprecated in v3.0.0. This feature will be removed in v6.0.0. See https://github.com/optuna/optuna/releases/tag/v3.0.0. Use :func:`~optuna.trial.Trial.suggest_float` instead.\n",
            "  'lambda': trial.suggest_loguniform('lambda', 1e-3, 10.0),\n",
            "<ipython-input-50-9441937f327c>:8: FutureWarning: suggest_loguniform has been deprecated in v3.0.0. This feature will be removed in v6.0.0. See https://github.com/optuna/optuna/releases/tag/v3.0.0. Use :func:`~optuna.trial.Trial.suggest_float` instead.\n",
            "  'alpha': trial.suggest_loguniform('alpha', 1e-3, 10.0),\n",
            "/usr/local/lib/python3.9/dist-packages/xgboost/sklearn.py:835: UserWarning: `early_stopping_rounds` in `fit` method is deprecated for better compatibility with scikit-learn, use `early_stopping_rounds` in constructor or`set_params` instead.\n",
            "  warnings.warn(\n"
          ]
        },
        {
          "output_type": "stream",
          "name": "stdout",
          "text": [
            "[08:17:43] WARNING: ../src/learner.cc:767: \n",
            "Parameters: { \"folds\" } are not used.\n",
            "\n"
          ]
        },
        {
          "output_type": "stream",
          "name": "stderr",
          "text": [
            "\u001b[32m[I 2023-04-25 08:17:44,323]\u001b[0m Trial 17 finished with value: 1.6877050499065225 and parameters: {'lambda': 0.1682112753224833, 'alpha': 0.254104911782602, 'colsample_bytree': 0.7, 'subsample': 0.7, 'learning_rate': 0.014, 'max_depth': 13, 'random_state': 24, 'min_child_weight': 104}. Best is trial 5 with value: 1.4059423930832378.\u001b[0m\n",
            "<ipython-input-50-9441937f327c>:7: FutureWarning: suggest_loguniform has been deprecated in v3.0.0. This feature will be removed in v6.0.0. See https://github.com/optuna/optuna/releases/tag/v3.0.0. Use :func:`~optuna.trial.Trial.suggest_float` instead.\n",
            "  'lambda': trial.suggest_loguniform('lambda', 1e-3, 10.0),\n",
            "<ipython-input-50-9441937f327c>:8: FutureWarning: suggest_loguniform has been deprecated in v3.0.0. This feature will be removed in v6.0.0. See https://github.com/optuna/optuna/releases/tag/v3.0.0. Use :func:`~optuna.trial.Trial.suggest_float` instead.\n",
            "  'alpha': trial.suggest_loguniform('alpha', 1e-3, 10.0),\n",
            "/usr/local/lib/python3.9/dist-packages/xgboost/sklearn.py:835: UserWarning: `early_stopping_rounds` in `fit` method is deprecated for better compatibility with scikit-learn, use `early_stopping_rounds` in constructor or`set_params` instead.\n",
            "  warnings.warn(\n"
          ]
        },
        {
          "output_type": "stream",
          "name": "stdout",
          "text": [
            "[08:17:44] WARNING: ../src/learner.cc:767: \n",
            "Parameters: { \"folds\" } are not used.\n",
            "\n"
          ]
        },
        {
          "output_type": "stream",
          "name": "stderr",
          "text": [
            "\u001b[32m[I 2023-04-25 08:17:44,784]\u001b[0m Trial 18 finished with value: 2.4343969409323916 and parameters: {'lambda': 0.022704108608308647, 'alpha': 0.194740294294798, 'colsample_bytree': 0.7, 'subsample': 0.7, 'learning_rate': 0.014, 'max_depth': 13, 'random_state': 48, 'min_child_weight': 163}. Best is trial 5 with value: 1.4059423930832378.\u001b[0m\n",
            "<ipython-input-50-9441937f327c>:7: FutureWarning: suggest_loguniform has been deprecated in v3.0.0. This feature will be removed in v6.0.0. See https://github.com/optuna/optuna/releases/tag/v3.0.0. Use :func:`~optuna.trial.Trial.suggest_float` instead.\n",
            "  'lambda': trial.suggest_loguniform('lambda', 1e-3, 10.0),\n",
            "<ipython-input-50-9441937f327c>:8: FutureWarning: suggest_loguniform has been deprecated in v3.0.0. This feature will be removed in v6.0.0. See https://github.com/optuna/optuna/releases/tag/v3.0.0. Use :func:`~optuna.trial.Trial.suggest_float` instead.\n",
            "  'alpha': trial.suggest_loguniform('alpha', 1e-3, 10.0),\n",
            "/usr/local/lib/python3.9/dist-packages/xgboost/sklearn.py:835: UserWarning: `early_stopping_rounds` in `fit` method is deprecated for better compatibility with scikit-learn, use `early_stopping_rounds` in constructor or`set_params` instead.\n",
            "  warnings.warn(\n"
          ]
        },
        {
          "output_type": "stream",
          "name": "stdout",
          "text": [
            "[08:17:44] WARNING: ../src/learner.cc:767: \n",
            "Parameters: { \"folds\" } are not used.\n",
            "\n"
          ]
        },
        {
          "output_type": "stream",
          "name": "stderr",
          "text": [
            "\u001b[32m[I 2023-04-25 08:17:45,334]\u001b[0m Trial 19 finished with value: 1.4156576563568795 and parameters: {'lambda': 0.06873469806485549, 'alpha': 1.85127067314304, 'colsample_bytree': 0.6, 'subsample': 0.7, 'learning_rate': 0.018, 'max_depth': 13, 'random_state': 24, 'min_child_weight': 47}. Best is trial 5 with value: 1.4059423930832378.\u001b[0m\n",
            "<ipython-input-50-9441937f327c>:7: FutureWarning: suggest_loguniform has been deprecated in v3.0.0. This feature will be removed in v6.0.0. See https://github.com/optuna/optuna/releases/tag/v3.0.0. Use :func:`~optuna.trial.Trial.suggest_float` instead.\n",
            "  'lambda': trial.suggest_loguniform('lambda', 1e-3, 10.0),\n",
            "<ipython-input-50-9441937f327c>:8: FutureWarning: suggest_loguniform has been deprecated in v3.0.0. This feature will be removed in v6.0.0. See https://github.com/optuna/optuna/releases/tag/v3.0.0. Use :func:`~optuna.trial.Trial.suggest_float` instead.\n",
            "  'alpha': trial.suggest_loguniform('alpha', 1e-3, 10.0),\n",
            "/usr/local/lib/python3.9/dist-packages/xgboost/sklearn.py:835: UserWarning: `early_stopping_rounds` in `fit` method is deprecated for better compatibility with scikit-learn, use `early_stopping_rounds` in constructor or`set_params` instead.\n",
            "  warnings.warn(\n"
          ]
        },
        {
          "output_type": "stream",
          "name": "stdout",
          "text": [
            "[08:17:45] WARNING: ../src/learner.cc:767: \n",
            "Parameters: { \"folds\" } are not used.\n",
            "\n"
          ]
        },
        {
          "output_type": "stream",
          "name": "stderr",
          "text": [
            "\u001b[32m[I 2023-04-25 08:17:46,057]\u001b[0m Trial 20 finished with value: 1.5457062028239776 and parameters: {'lambda': 0.17601610619191876, 'alpha': 0.6950408567283444, 'colsample_bytree': 0.8, 'subsample': 1.0, 'learning_rate': 0.009, 'max_depth': 9, 'random_state': 48, 'min_child_weight': 77}. Best is trial 5 with value: 1.4059423930832378.\u001b[0m\n",
            "<ipython-input-50-9441937f327c>:7: FutureWarning: suggest_loguniform has been deprecated in v3.0.0. This feature will be removed in v6.0.0. See https://github.com/optuna/optuna/releases/tag/v3.0.0. Use :func:`~optuna.trial.Trial.suggest_float` instead.\n",
            "  'lambda': trial.suggest_loguniform('lambda', 1e-3, 10.0),\n",
            "<ipython-input-50-9441937f327c>:8: FutureWarning: suggest_loguniform has been deprecated in v3.0.0. This feature will be removed in v6.0.0. See https://github.com/optuna/optuna/releases/tag/v3.0.0. Use :func:`~optuna.trial.Trial.suggest_float` instead.\n",
            "  'alpha': trial.suggest_loguniform('alpha', 1e-3, 10.0),\n",
            "/usr/local/lib/python3.9/dist-packages/xgboost/sklearn.py:835: UserWarning: `early_stopping_rounds` in `fit` method is deprecated for better compatibility with scikit-learn, use `early_stopping_rounds` in constructor or`set_params` instead.\n",
            "  warnings.warn(\n"
          ]
        },
        {
          "output_type": "stream",
          "name": "stdout",
          "text": [
            "[08:17:46] WARNING: ../src/learner.cc:767: \n",
            "Parameters: { \"folds\" } are not used.\n",
            "\n"
          ]
        },
        {
          "output_type": "stream",
          "name": "stderr",
          "text": [
            "\u001b[32m[I 2023-04-25 08:17:49,618]\u001b[0m Trial 21 finished with value: 1.4090301762663537 and parameters: {'lambda': 0.07574454146953649, 'alpha': 2.72559854118199, 'colsample_bytree': 0.6, 'subsample': 0.7, 'learning_rate': 0.018, 'max_depth': 13, 'random_state': 24, 'min_child_weight': 47}. Best is trial 5 with value: 1.4059423930832378.\u001b[0m\n",
            "<ipython-input-50-9441937f327c>:7: FutureWarning: suggest_loguniform has been deprecated in v3.0.0. This feature will be removed in v6.0.0. See https://github.com/optuna/optuna/releases/tag/v3.0.0. Use :func:`~optuna.trial.Trial.suggest_float` instead.\n",
            "  'lambda': trial.suggest_loguniform('lambda', 1e-3, 10.0),\n",
            "<ipython-input-50-9441937f327c>:8: FutureWarning: suggest_loguniform has been deprecated in v3.0.0. This feature will be removed in v6.0.0. See https://github.com/optuna/optuna/releases/tag/v3.0.0. Use :func:`~optuna.trial.Trial.suggest_float` instead.\n",
            "  'alpha': trial.suggest_loguniform('alpha', 1e-3, 10.0),\n",
            "/usr/local/lib/python3.9/dist-packages/xgboost/sklearn.py:835: UserWarning: `early_stopping_rounds` in `fit` method is deprecated for better compatibility with scikit-learn, use `early_stopping_rounds` in constructor or`set_params` instead.\n",
            "  warnings.warn(\n"
          ]
        },
        {
          "output_type": "stream",
          "name": "stdout",
          "text": [
            "[08:17:49] WARNING: ../src/learner.cc:767: \n",
            "Parameters: { \"folds\" } are not used.\n",
            "\n"
          ]
        },
        {
          "output_type": "stream",
          "name": "stderr",
          "text": [
            "\u001b[32m[I 2023-04-25 08:17:50,229]\u001b[0m Trial 22 finished with value: 1.4293209660212498 and parameters: {'lambda': 0.024292947017602165, 'alpha': 3.082798813955862, 'colsample_bytree': 0.6, 'subsample': 0.7, 'learning_rate': 0.018, 'max_depth': 13, 'random_state': 24, 'min_child_weight': 5}. Best is trial 5 with value: 1.4059423930832378.\u001b[0m\n",
            "<ipython-input-50-9441937f327c>:7: FutureWarning: suggest_loguniform has been deprecated in v3.0.0. This feature will be removed in v6.0.0. See https://github.com/optuna/optuna/releases/tag/v3.0.0. Use :func:`~optuna.trial.Trial.suggest_float` instead.\n",
            "  'lambda': trial.suggest_loguniform('lambda', 1e-3, 10.0),\n",
            "<ipython-input-50-9441937f327c>:8: FutureWarning: suggest_loguniform has been deprecated in v3.0.0. This feature will be removed in v6.0.0. See https://github.com/optuna/optuna/releases/tag/v3.0.0. Use :func:`~optuna.trial.Trial.suggest_float` instead.\n",
            "  'alpha': trial.suggest_loguniform('alpha', 1e-3, 10.0),\n",
            "/usr/local/lib/python3.9/dist-packages/xgboost/sklearn.py:835: UserWarning: `early_stopping_rounds` in `fit` method is deprecated for better compatibility with scikit-learn, use `early_stopping_rounds` in constructor or`set_params` instead.\n",
            "  warnings.warn(\n"
          ]
        },
        {
          "output_type": "stream",
          "name": "stdout",
          "text": [
            "[08:17:50] WARNING: ../src/learner.cc:767: \n",
            "Parameters: { \"folds\" } are not used.\n",
            "\n"
          ]
        },
        {
          "output_type": "stream",
          "name": "stderr",
          "text": [
            "\u001b[32m[I 2023-04-25 08:17:51,029]\u001b[0m Trial 23 finished with value: 1.4249547365277078 and parameters: {'lambda': 0.1184558498852857, 'alpha': 1.0038937975860245, 'colsample_bytree': 1.0, 'subsample': 0.7, 'learning_rate': 0.01, 'max_depth': 13, 'random_state': 24, 'min_child_weight': 41}. Best is trial 5 with value: 1.4059423930832378.\u001b[0m\n",
            "<ipython-input-50-9441937f327c>:7: FutureWarning: suggest_loguniform has been deprecated in v3.0.0. This feature will be removed in v6.0.0. See https://github.com/optuna/optuna/releases/tag/v3.0.0. Use :func:`~optuna.trial.Trial.suggest_float` instead.\n",
            "  'lambda': trial.suggest_loguniform('lambda', 1e-3, 10.0),\n",
            "<ipython-input-50-9441937f327c>:8: FutureWarning: suggest_loguniform has been deprecated in v3.0.0. This feature will be removed in v6.0.0. See https://github.com/optuna/optuna/releases/tag/v3.0.0. Use :func:`~optuna.trial.Trial.suggest_float` instead.\n",
            "  'alpha': trial.suggest_loguniform('alpha', 1e-3, 10.0),\n",
            "/usr/local/lib/python3.9/dist-packages/xgboost/sklearn.py:835: UserWarning: `early_stopping_rounds` in `fit` method is deprecated for better compatibility with scikit-learn, use `early_stopping_rounds` in constructor or`set_params` instead.\n",
            "  warnings.warn(\n"
          ]
        },
        {
          "output_type": "stream",
          "name": "stdout",
          "text": [
            "[08:17:51] WARNING: ../src/learner.cc:767: \n",
            "Parameters: { \"folds\" } are not used.\n",
            "\n"
          ]
        },
        {
          "output_type": "stream",
          "name": "stderr",
          "text": [
            "\u001b[32m[I 2023-04-25 08:17:51,995]\u001b[0m Trial 24 finished with value: 1.7311915222000125 and parameters: {'lambda': 0.05495419102533141, 'alpha': 0.347336172668984, 'colsample_bytree': 0.5, 'subsample': 0.8, 'learning_rate': 0.014, 'max_depth': 11, 'random_state': 24, 'min_child_weight': 124}. Best is trial 5 with value: 1.4059423930832378.\u001b[0m\n",
            "<ipython-input-50-9441937f327c>:7: FutureWarning: suggest_loguniform has been deprecated in v3.0.0. This feature will be removed in v6.0.0. See https://github.com/optuna/optuna/releases/tag/v3.0.0. Use :func:`~optuna.trial.Trial.suggest_float` instead.\n",
            "  'lambda': trial.suggest_loguniform('lambda', 1e-3, 10.0),\n",
            "<ipython-input-50-9441937f327c>:8: FutureWarning: suggest_loguniform has been deprecated in v3.0.0. This feature will be removed in v6.0.0. See https://github.com/optuna/optuna/releases/tag/v3.0.0. Use :func:`~optuna.trial.Trial.suggest_float` instead.\n",
            "  'alpha': trial.suggest_loguniform('alpha', 1e-3, 10.0),\n",
            "/usr/local/lib/python3.9/dist-packages/xgboost/sklearn.py:835: UserWarning: `early_stopping_rounds` in `fit` method is deprecated for better compatibility with scikit-learn, use `early_stopping_rounds` in constructor or`set_params` instead.\n",
            "  warnings.warn(\n"
          ]
        },
        {
          "output_type": "stream",
          "name": "stdout",
          "text": [
            "[08:17:52] WARNING: ../src/learner.cc:767: \n",
            "Parameters: { \"folds\" } are not used.\n",
            "\n"
          ]
        },
        {
          "output_type": "stream",
          "name": "stderr",
          "text": [
            "\u001b[32m[I 2023-04-25 08:17:53,695]\u001b[0m Trial 25 finished with value: 1.6130572695557217 and parameters: {'lambda': 0.3064647934619444, 'alpha': 3.08082406898941, 'colsample_bytree': 0.4, 'subsample': 0.7, 'learning_rate': 0.008, 'max_depth': 7, 'random_state': 24, 'min_child_weight': 82}. Best is trial 5 with value: 1.4059423930832378.\u001b[0m\n",
            "<ipython-input-50-9441937f327c>:7: FutureWarning: suggest_loguniform has been deprecated in v3.0.0. This feature will be removed in v6.0.0. See https://github.com/optuna/optuna/releases/tag/v3.0.0. Use :func:`~optuna.trial.Trial.suggest_float` instead.\n",
            "  'lambda': trial.suggest_loguniform('lambda', 1e-3, 10.0),\n",
            "<ipython-input-50-9441937f327c>:8: FutureWarning: suggest_loguniform has been deprecated in v3.0.0. This feature will be removed in v6.0.0. See https://github.com/optuna/optuna/releases/tag/v3.0.0. Use :func:`~optuna.trial.Trial.suggest_float` instead.\n",
            "  'alpha': trial.suggest_loguniform('alpha', 1e-3, 10.0),\n",
            "/usr/local/lib/python3.9/dist-packages/xgboost/sklearn.py:835: UserWarning: `early_stopping_rounds` in `fit` method is deprecated for better compatibility with scikit-learn, use `early_stopping_rounds` in constructor or`set_params` instead.\n",
            "  warnings.warn(\n"
          ]
        },
        {
          "output_type": "stream",
          "name": "stdout",
          "text": [
            "[08:17:53] WARNING: ../src/learner.cc:767: \n",
            "Parameters: { \"folds\" } are not used.\n",
            "\n"
          ]
        },
        {
          "output_type": "stream",
          "name": "stderr",
          "text": [
            "\u001b[32m[I 2023-04-25 08:17:54,258]\u001b[0m Trial 26 finished with value: 1.4862229435467622 and parameters: {'lambda': 0.06506888510906816, 'alpha': 1.1946752033298764, 'colsample_bytree': 0.6, 'subsample': 0.7, 'learning_rate': 0.018, 'max_depth': 13, 'random_state': 24, 'min_child_weight': 54}. Best is trial 5 with value: 1.4059423930832378.\u001b[0m\n",
            "<ipython-input-50-9441937f327c>:7: FutureWarning: suggest_loguniform has been deprecated in v3.0.0. This feature will be removed in v6.0.0. See https://github.com/optuna/optuna/releases/tag/v3.0.0. Use :func:`~optuna.trial.Trial.suggest_float` instead.\n",
            "  'lambda': trial.suggest_loguniform('lambda', 1e-3, 10.0),\n",
            "<ipython-input-50-9441937f327c>:8: FutureWarning: suggest_loguniform has been deprecated in v3.0.0. This feature will be removed in v6.0.0. See https://github.com/optuna/optuna/releases/tag/v3.0.0. Use :func:`~optuna.trial.Trial.suggest_float` instead.\n",
            "  'alpha': trial.suggest_loguniform('alpha', 1e-3, 10.0),\n",
            "/usr/local/lib/python3.9/dist-packages/xgboost/sklearn.py:835: UserWarning: `early_stopping_rounds` in `fit` method is deprecated for better compatibility with scikit-learn, use `early_stopping_rounds` in constructor or`set_params` instead.\n",
            "  warnings.warn(\n"
          ]
        },
        {
          "output_type": "stream",
          "name": "stdout",
          "text": [
            "[08:17:54] WARNING: ../src/learner.cc:767: \n",
            "Parameters: { \"folds\" } are not used.\n",
            "\n"
          ]
        },
        {
          "output_type": "stream",
          "name": "stderr",
          "text": [
            "\u001b[32m[I 2023-04-25 08:17:54,719]\u001b[0m Trial 27 finished with value: 2.4343969421986946 and parameters: {'lambda': 0.09942786165446237, 'alpha': 0.4741571888028977, 'colsample_bytree': 0.7, 'subsample': 0.7, 'learning_rate': 0.018, 'max_depth': 13, 'random_state': 48, 'min_child_weight': 172}. Best is trial 5 with value: 1.4059423930832378.\u001b[0m\n",
            "<ipython-input-50-9441937f327c>:7: FutureWarning: suggest_loguniform has been deprecated in v3.0.0. This feature will be removed in v6.0.0. See https://github.com/optuna/optuna/releases/tag/v3.0.0. Use :func:`~optuna.trial.Trial.suggest_float` instead.\n",
            "  'lambda': trial.suggest_loguniform('lambda', 1e-3, 10.0),\n",
            "<ipython-input-50-9441937f327c>:8: FutureWarning: suggest_loguniform has been deprecated in v3.0.0. This feature will be removed in v6.0.0. See https://github.com/optuna/optuna/releases/tag/v3.0.0. Use :func:`~optuna.trial.Trial.suggest_float` instead.\n",
            "  'alpha': trial.suggest_loguniform('alpha', 1e-3, 10.0),\n",
            "/usr/local/lib/python3.9/dist-packages/xgboost/sklearn.py:835: UserWarning: `early_stopping_rounds` in `fit` method is deprecated for better compatibility with scikit-learn, use `early_stopping_rounds` in constructor or`set_params` instead.\n",
            "  warnings.warn(\n"
          ]
        },
        {
          "output_type": "stream",
          "name": "stdout",
          "text": [
            "[08:17:54] WARNING: ../src/learner.cc:767: \n",
            "Parameters: { \"folds\" } are not used.\n",
            "\n"
          ]
        },
        {
          "output_type": "stream",
          "name": "stderr",
          "text": [
            "\u001b[32m[I 2023-04-25 08:17:55,358]\u001b[0m Trial 28 finished with value: 1.4073600882685267 and parameters: {'lambda': 0.0245937207952113, 'alpha': 0.12034727985028942, 'colsample_bytree': 0.6, 'subsample': 0.7, 'learning_rate': 0.014, 'max_depth': 13, 'random_state': 24, 'min_child_weight': 31}. Best is trial 5 with value: 1.4059423930832378.\u001b[0m\n",
            "<ipython-input-50-9441937f327c>:7: FutureWarning: suggest_loguniform has been deprecated in v3.0.0. This feature will be removed in v6.0.0. See https://github.com/optuna/optuna/releases/tag/v3.0.0. Use :func:`~optuna.trial.Trial.suggest_float` instead.\n",
            "  'lambda': trial.suggest_loguniform('lambda', 1e-3, 10.0),\n",
            "<ipython-input-50-9441937f327c>:8: FutureWarning: suggest_loguniform has been deprecated in v3.0.0. This feature will be removed in v6.0.0. See https://github.com/optuna/optuna/releases/tag/v3.0.0. Use :func:`~optuna.trial.Trial.suggest_float` instead.\n",
            "  'alpha': trial.suggest_loguniform('alpha', 1e-3, 10.0),\n",
            "/usr/local/lib/python3.9/dist-packages/xgboost/sklearn.py:835: UserWarning: `early_stopping_rounds` in `fit` method is deprecated for better compatibility with scikit-learn, use `early_stopping_rounds` in constructor or`set_params` instead.\n",
            "  warnings.warn(\n"
          ]
        },
        {
          "output_type": "stream",
          "name": "stdout",
          "text": [
            "[08:17:55] WARNING: ../src/learner.cc:767: \n",
            "Parameters: { \"folds\" } are not used.\n",
            "\n"
          ]
        },
        {
          "output_type": "stream",
          "name": "stderr",
          "text": [
            "\u001b[32m[I 2023-04-25 08:17:55,818]\u001b[0m Trial 29 finished with value: 2.43441914687082 and parameters: {'lambda': 0.09060600474432087, 'alpha': 0.12410179531542832, 'colsample_bytree': 0.6, 'subsample': 0.6, 'learning_rate': 0.012, 'max_depth': 9, 'random_state': 24, 'min_child_weight': 187}. Best is trial 5 with value: 1.4059423930832378.\u001b[0m\n",
            "<ipython-input-50-9441937f327c>:7: FutureWarning: suggest_loguniform has been deprecated in v3.0.0. This feature will be removed in v6.0.0. See https://github.com/optuna/optuna/releases/tag/v3.0.0. Use :func:`~optuna.trial.Trial.suggest_float` instead.\n",
            "  'lambda': trial.suggest_loguniform('lambda', 1e-3, 10.0),\n",
            "<ipython-input-50-9441937f327c>:8: FutureWarning: suggest_loguniform has been deprecated in v3.0.0. This feature will be removed in v6.0.0. See https://github.com/optuna/optuna/releases/tag/v3.0.0. Use :func:`~optuna.trial.Trial.suggest_float` instead.\n",
            "  'alpha': trial.suggest_loguniform('alpha', 1e-3, 10.0),\n",
            "/usr/local/lib/python3.9/dist-packages/xgboost/sklearn.py:835: UserWarning: `early_stopping_rounds` in `fit` method is deprecated for better compatibility with scikit-learn, use `early_stopping_rounds` in constructor or`set_params` instead.\n",
            "  warnings.warn(\n"
          ]
        },
        {
          "output_type": "stream",
          "name": "stdout",
          "text": [
            "[08:17:55] WARNING: ../src/learner.cc:767: \n",
            "Parameters: { \"folds\" } are not used.\n",
            "\n"
          ]
        },
        {
          "output_type": "stream",
          "name": "stderr",
          "text": [
            "\u001b[32m[I 2023-04-25 08:17:56,876]\u001b[0m Trial 30 finished with value: 1.4172370826621128 and parameters: {'lambda': 0.5043281216225204, 'alpha': 4.545998772764299, 'colsample_bytree': 0.4, 'subsample': 0.8, 'learning_rate': 0.008, 'max_depth': 13, 'random_state': 2020, 'min_child_weight': 21}. Best is trial 5 with value: 1.4059423930832378.\u001b[0m\n",
            "<ipython-input-50-9441937f327c>:7: FutureWarning: suggest_loguniform has been deprecated in v3.0.0. This feature will be removed in v6.0.0. See https://github.com/optuna/optuna/releases/tag/v3.0.0. Use :func:`~optuna.trial.Trial.suggest_float` instead.\n",
            "  'lambda': trial.suggest_loguniform('lambda', 1e-3, 10.0),\n",
            "<ipython-input-50-9441937f327c>:8: FutureWarning: suggest_loguniform has been deprecated in v3.0.0. This feature will be removed in v6.0.0. See https://github.com/optuna/optuna/releases/tag/v3.0.0. Use :func:`~optuna.trial.Trial.suggest_float` instead.\n",
            "  'alpha': trial.suggest_loguniform('alpha', 1e-3, 10.0),\n",
            "/usr/local/lib/python3.9/dist-packages/xgboost/sklearn.py:835: UserWarning: `early_stopping_rounds` in `fit` method is deprecated for better compatibility with scikit-learn, use `early_stopping_rounds` in constructor or`set_params` instead.\n",
            "  warnings.warn(\n"
          ]
        },
        {
          "output_type": "stream",
          "name": "stdout",
          "text": [
            "[08:17:56] WARNING: ../src/learner.cc:767: \n",
            "Parameters: { \"folds\" } are not used.\n",
            "\n"
          ]
        },
        {
          "output_type": "stream",
          "name": "stderr",
          "text": [
            "\u001b[32m[I 2023-04-25 08:17:57,463]\u001b[0m Trial 31 finished with value: 1.4037921624623175 and parameters: {'lambda': 0.02678565017712322, 'alpha': 0.4502353816880552, 'colsample_bytree': 0.6, 'subsample': 0.7, 'learning_rate': 0.014, 'max_depth': 13, 'random_state': 24, 'min_child_weight': 37}. Best is trial 31 with value: 1.4037921624623175.\u001b[0m\n",
            "<ipython-input-50-9441937f327c>:7: FutureWarning: suggest_loguniform has been deprecated in v3.0.0. This feature will be removed in v6.0.0. See https://github.com/optuna/optuna/releases/tag/v3.0.0. Use :func:`~optuna.trial.Trial.suggest_float` instead.\n",
            "  'lambda': trial.suggest_loguniform('lambda', 1e-3, 10.0),\n",
            "<ipython-input-50-9441937f327c>:8: FutureWarning: suggest_loguniform has been deprecated in v3.0.0. This feature will be removed in v6.0.0. See https://github.com/optuna/optuna/releases/tag/v3.0.0. Use :func:`~optuna.trial.Trial.suggest_float` instead.\n",
            "  'alpha': trial.suggest_loguniform('alpha', 1e-3, 10.0),\n",
            "/usr/local/lib/python3.9/dist-packages/xgboost/sklearn.py:835: UserWarning: `early_stopping_rounds` in `fit` method is deprecated for better compatibility with scikit-learn, use `early_stopping_rounds` in constructor or`set_params` instead.\n",
            "  warnings.warn(\n"
          ]
        },
        {
          "output_type": "stream",
          "name": "stdout",
          "text": [
            "[08:17:57] WARNING: ../src/learner.cc:767: \n",
            "Parameters: { \"folds\" } are not used.\n",
            "\n"
          ]
        },
        {
          "output_type": "stream",
          "name": "stderr",
          "text": [
            "\u001b[32m[I 2023-04-25 08:17:58,200]\u001b[0m Trial 32 finished with value: 1.6541188861362817 and parameters: {'lambda': 0.013501095107610616, 'alpha': 0.17826779428090475, 'colsample_bytree': 0.6, 'subsample': 0.7, 'learning_rate': 0.014, 'max_depth': 13, 'random_state': 24, 'min_child_weight': 86}. Best is trial 31 with value: 1.4037921624623175.\u001b[0m\n",
            "<ipython-input-50-9441937f327c>:7: FutureWarning: suggest_loguniform has been deprecated in v3.0.0. This feature will be removed in v6.0.0. See https://github.com/optuna/optuna/releases/tag/v3.0.0. Use :func:`~optuna.trial.Trial.suggest_float` instead.\n",
            "  'lambda': trial.suggest_loguniform('lambda', 1e-3, 10.0),\n",
            "<ipython-input-50-9441937f327c>:8: FutureWarning: suggest_loguniform has been deprecated in v3.0.0. This feature will be removed in v6.0.0. See https://github.com/optuna/optuna/releases/tag/v3.0.0. Use :func:`~optuna.trial.Trial.suggest_float` instead.\n",
            "  'alpha': trial.suggest_loguniform('alpha', 1e-3, 10.0),\n",
            "/usr/local/lib/python3.9/dist-packages/xgboost/sklearn.py:835: UserWarning: `early_stopping_rounds` in `fit` method is deprecated for better compatibility with scikit-learn, use `early_stopping_rounds` in constructor or`set_params` instead.\n",
            "  warnings.warn(\n"
          ]
        },
        {
          "output_type": "stream",
          "name": "stdout",
          "text": [
            "[08:17:58] WARNING: ../src/learner.cc:767: \n",
            "Parameters: { \"folds\" } are not used.\n",
            "\n"
          ]
        },
        {
          "output_type": "stream",
          "name": "stderr",
          "text": [
            "\u001b[32m[I 2023-04-25 08:17:58,894]\u001b[0m Trial 33 finished with value: 1.5152632574347493 and parameters: {'lambda': 0.040160621550230514, 'alpha': 0.9171145153246382, 'colsample_bytree': 0.6, 'subsample': 0.7, 'learning_rate': 0.014, 'max_depth': 17, 'random_state': 24, 'min_child_weight': 61}. Best is trial 31 with value: 1.4037921624623175.\u001b[0m\n",
            "<ipython-input-50-9441937f327c>:7: FutureWarning: suggest_loguniform has been deprecated in v3.0.0. This feature will be removed in v6.0.0. See https://github.com/optuna/optuna/releases/tag/v3.0.0. Use :func:`~optuna.trial.Trial.suggest_float` instead.\n",
            "  'lambda': trial.suggest_loguniform('lambda', 1e-3, 10.0),\n",
            "<ipython-input-50-9441937f327c>:8: FutureWarning: suggest_loguniform has been deprecated in v3.0.0. This feature will be removed in v6.0.0. See https://github.com/optuna/optuna/releases/tag/v3.0.0. Use :func:`~optuna.trial.Trial.suggest_float` instead.\n",
            "  'alpha': trial.suggest_loguniform('alpha', 1e-3, 10.0),\n",
            "/usr/local/lib/python3.9/dist-packages/xgboost/sklearn.py:835: UserWarning: `early_stopping_rounds` in `fit` method is deprecated for better compatibility with scikit-learn, use `early_stopping_rounds` in constructor or`set_params` instead.\n",
            "  warnings.warn(\n"
          ]
        },
        {
          "output_type": "stream",
          "name": "stdout",
          "text": [
            "[08:17:58] WARNING: ../src/learner.cc:767: \n",
            "Parameters: { \"folds\" } are not used.\n",
            "\n"
          ]
        },
        {
          "output_type": "stream",
          "name": "stderr",
          "text": [
            "\u001b[32m[I 2023-04-25 08:18:03,189]\u001b[0m Trial 34 finished with value: 1.491922763605946 and parameters: {'lambda': 0.05064733619475851, 'alpha': 0.07703696859398733, 'colsample_bytree': 0.6, 'subsample': 1.0, 'learning_rate': 0.02, 'max_depth': 13, 'random_state': 24, 'min_child_weight': 3}. Best is trial 31 with value: 1.4037921624623175.\u001b[0m\n",
            "<ipython-input-50-9441937f327c>:7: FutureWarning: suggest_loguniform has been deprecated in v3.0.0. This feature will be removed in v6.0.0. See https://github.com/optuna/optuna/releases/tag/v3.0.0. Use :func:`~optuna.trial.Trial.suggest_float` instead.\n",
            "  'lambda': trial.suggest_loguniform('lambda', 1e-3, 10.0),\n",
            "<ipython-input-50-9441937f327c>:8: FutureWarning: suggest_loguniform has been deprecated in v3.0.0. This feature will be removed in v6.0.0. See https://github.com/optuna/optuna/releases/tag/v3.0.0. Use :func:`~optuna.trial.Trial.suggest_float` instead.\n",
            "  'alpha': trial.suggest_loguniform('alpha', 1e-3, 10.0),\n",
            "/usr/local/lib/python3.9/dist-packages/xgboost/sklearn.py:835: UserWarning: `early_stopping_rounds` in `fit` method is deprecated for better compatibility with scikit-learn, use `early_stopping_rounds` in constructor or`set_params` instead.\n",
            "  warnings.warn(\n"
          ]
        },
        {
          "output_type": "stream",
          "name": "stdout",
          "text": [
            "[08:18:03] WARNING: ../src/learner.cc:767: \n",
            "Parameters: { \"folds\" } are not used.\n",
            "\n"
          ]
        },
        {
          "output_type": "stream",
          "name": "stderr",
          "text": [
            "\u001b[32m[I 2023-04-25 08:18:04,001]\u001b[0m Trial 35 finished with value: 1.821139477725144 and parameters: {'lambda': 0.009161643164857966, 'alpha': 2.246910548977417, 'colsample_bytree': 0.5, 'subsample': 0.6, 'learning_rate': 0.018, 'max_depth': 11, 'random_state': 24, 'min_child_weight': 117}. Best is trial 31 with value: 1.4037921624623175.\u001b[0m\n",
            "<ipython-input-50-9441937f327c>:7: FutureWarning: suggest_loguniform has been deprecated in v3.0.0. This feature will be removed in v6.0.0. See https://github.com/optuna/optuna/releases/tag/v3.0.0. Use :func:`~optuna.trial.Trial.suggest_float` instead.\n",
            "  'lambda': trial.suggest_loguniform('lambda', 1e-3, 10.0),\n",
            "<ipython-input-50-9441937f327c>:8: FutureWarning: suggest_loguniform has been deprecated in v3.0.0. This feature will be removed in v6.0.0. See https://github.com/optuna/optuna/releases/tag/v3.0.0. Use :func:`~optuna.trial.Trial.suggest_float` instead.\n",
            "  'alpha': trial.suggest_loguniform('alpha', 1e-3, 10.0),\n",
            "/usr/local/lib/python3.9/dist-packages/xgboost/sklearn.py:835: UserWarning: `early_stopping_rounds` in `fit` method is deprecated for better compatibility with scikit-learn, use `early_stopping_rounds` in constructor or`set_params` instead.\n",
            "  warnings.warn(\n"
          ]
        },
        {
          "output_type": "stream",
          "name": "stdout",
          "text": [
            "[08:18:04] WARNING: ../src/learner.cc:767: \n",
            "Parameters: { \"folds\" } are not used.\n",
            "\n"
          ]
        },
        {
          "output_type": "stream",
          "name": "stderr",
          "text": [
            "\u001b[32m[I 2023-04-25 08:18:04,918]\u001b[0m Trial 36 finished with value: 1.4161881520012778 and parameters: {'lambda': 0.02351093551442553, 'alpha': 0.05156354308809097, 'colsample_bytree': 0.3, 'subsample': 0.7, 'learning_rate': 0.01, 'max_depth': 15, 'random_state': 24, 'min_child_weight': 28}. Best is trial 31 with value: 1.4037921624623175.\u001b[0m\n",
            "<ipython-input-50-9441937f327c>:7: FutureWarning: suggest_loguniform has been deprecated in v3.0.0. This feature will be removed in v6.0.0. See https://github.com/optuna/optuna/releases/tag/v3.0.0. Use :func:`~optuna.trial.Trial.suggest_float` instead.\n",
            "  'lambda': trial.suggest_loguniform('lambda', 1e-3, 10.0),\n",
            "<ipython-input-50-9441937f327c>:8: FutureWarning: suggest_loguniform has been deprecated in v3.0.0. This feature will be removed in v6.0.0. See https://github.com/optuna/optuna/releases/tag/v3.0.0. Use :func:`~optuna.trial.Trial.suggest_float` instead.\n",
            "  'alpha': trial.suggest_loguniform('alpha', 1e-3, 10.0),\n",
            "/usr/local/lib/python3.9/dist-packages/xgboost/sklearn.py:835: UserWarning: `early_stopping_rounds` in `fit` method is deprecated for better compatibility with scikit-learn, use `early_stopping_rounds` in constructor or`set_params` instead.\n",
            "  warnings.warn(\n"
          ]
        },
        {
          "output_type": "stream",
          "name": "stdout",
          "text": [
            "[08:18:04] WARNING: ../src/learner.cc:767: \n",
            "Parameters: { \"folds\" } are not used.\n",
            "\n"
          ]
        },
        {
          "output_type": "stream",
          "name": "stderr",
          "text": [
            "\u001b[32m[I 2023-04-25 08:18:05,505]\u001b[0m Trial 37 finished with value: 1.5302472103069458 and parameters: {'lambda': 0.0898439048400668, 'alpha': 0.28532185457527687, 'colsample_bytree': 0.6, 'subsample': 0.7, 'learning_rate': 0.02, 'max_depth': 17, 'random_state': 2020, 'min_child_weight': 67}. Best is trial 31 with value: 1.4037921624623175.\u001b[0m\n",
            "<ipython-input-50-9441937f327c>:7: FutureWarning: suggest_loguniform has been deprecated in v3.0.0. This feature will be removed in v6.0.0. See https://github.com/optuna/optuna/releases/tag/v3.0.0. Use :func:`~optuna.trial.Trial.suggest_float` instead.\n",
            "  'lambda': trial.suggest_loguniform('lambda', 1e-3, 10.0),\n",
            "<ipython-input-50-9441937f327c>:8: FutureWarning: suggest_loguniform has been deprecated in v3.0.0. This feature will be removed in v6.0.0. See https://github.com/optuna/optuna/releases/tag/v3.0.0. Use :func:`~optuna.trial.Trial.suggest_float` instead.\n",
            "  'alpha': trial.suggest_loguniform('alpha', 1e-3, 10.0),\n",
            "/usr/local/lib/python3.9/dist-packages/xgboost/sklearn.py:835: UserWarning: `early_stopping_rounds` in `fit` method is deprecated for better compatibility with scikit-learn, use `early_stopping_rounds` in constructor or`set_params` instead.\n",
            "  warnings.warn(\n"
          ]
        },
        {
          "output_type": "stream",
          "name": "stdout",
          "text": [
            "[08:18:05] WARNING: ../src/learner.cc:767: \n",
            "Parameters: { \"folds\" } are not used.\n",
            "\n"
          ]
        },
        {
          "output_type": "stream",
          "name": "stderr",
          "text": [
            "\u001b[32m[I 2023-04-25 08:18:06,331]\u001b[0m Trial 38 finished with value: 1.4008747640630108 and parameters: {'lambda': 0.013702304568900097, 'alpha': 1.0503289417894863, 'colsample_bytree': 0.4, 'subsample': 0.4, 'learning_rate': 0.014, 'max_depth': 20, 'random_state': 24, 'min_child_weight': 15}. Best is trial 38 with value: 1.4008747640630108.\u001b[0m\n",
            "<ipython-input-50-9441937f327c>:7: FutureWarning: suggest_loguniform has been deprecated in v3.0.0. This feature will be removed in v6.0.0. See https://github.com/optuna/optuna/releases/tag/v3.0.0. Use :func:`~optuna.trial.Trial.suggest_float` instead.\n",
            "  'lambda': trial.suggest_loguniform('lambda', 1e-3, 10.0),\n",
            "<ipython-input-50-9441937f327c>:8: FutureWarning: suggest_loguniform has been deprecated in v3.0.0. This feature will be removed in v6.0.0. See https://github.com/optuna/optuna/releases/tag/v3.0.0. Use :func:`~optuna.trial.Trial.suggest_float` instead.\n",
            "  'alpha': trial.suggest_loguniform('alpha', 1e-3, 10.0),\n",
            "/usr/local/lib/python3.9/dist-packages/xgboost/sklearn.py:835: UserWarning: `early_stopping_rounds` in `fit` method is deprecated for better compatibility with scikit-learn, use `early_stopping_rounds` in constructor or`set_params` instead.\n",
            "  warnings.warn(\n"
          ]
        },
        {
          "output_type": "stream",
          "name": "stdout",
          "text": [
            "[08:18:06] WARNING: ../src/learner.cc:767: \n",
            "Parameters: { \"folds\" } are not used.\n",
            "\n"
          ]
        },
        {
          "output_type": "stream",
          "name": "stderr",
          "text": [
            "\u001b[32m[I 2023-04-25 08:18:06,926]\u001b[0m Trial 39 finished with value: 1.406635646994449 and parameters: {'lambda': 0.005802890994044611, 'alpha': 1.1589075846356758, 'colsample_bytree': 0.4, 'subsample': 0.6, 'learning_rate': 0.014, 'max_depth': 20, 'random_state': 24, 'min_child_weight': 15}. Best is trial 38 with value: 1.4008747640630108.\u001b[0m\n",
            "<ipython-input-50-9441937f327c>:7: FutureWarning: suggest_loguniform has been deprecated in v3.0.0. This feature will be removed in v6.0.0. See https://github.com/optuna/optuna/releases/tag/v3.0.0. Use :func:`~optuna.trial.Trial.suggest_float` instead.\n",
            "  'lambda': trial.suggest_loguniform('lambda', 1e-3, 10.0),\n",
            "<ipython-input-50-9441937f327c>:8: FutureWarning: suggest_loguniform has been deprecated in v3.0.0. This feature will be removed in v6.0.0. See https://github.com/optuna/optuna/releases/tag/v3.0.0. Use :func:`~optuna.trial.Trial.suggest_float` instead.\n",
            "  'alpha': trial.suggest_loguniform('alpha', 1e-3, 10.0),\n",
            "/usr/local/lib/python3.9/dist-packages/xgboost/sklearn.py:835: UserWarning: `early_stopping_rounds` in `fit` method is deprecated for better compatibility with scikit-learn, use `early_stopping_rounds` in constructor or`set_params` instead.\n",
            "  warnings.warn(\n"
          ]
        },
        {
          "output_type": "stream",
          "name": "stdout",
          "text": [
            "[08:18:06] WARNING: ../src/learner.cc:767: \n",
            "Parameters: { \"folds\" } are not used.\n",
            "\n"
          ]
        },
        {
          "output_type": "stream",
          "name": "stderr",
          "text": [
            "\u001b[32m[I 2023-04-25 08:18:07,844]\u001b[0m Trial 40 finished with value: 1.400192746254668 and parameters: {'lambda': 0.004136668088406425, 'alpha': 1.192311898786272, 'colsample_bytree': 0.4, 'subsample': 0.4, 'learning_rate': 0.014, 'max_depth': 20, 'random_state': 24, 'min_child_weight': 13}. Best is trial 40 with value: 1.400192746254668.\u001b[0m\n",
            "<ipython-input-50-9441937f327c>:7: FutureWarning: suggest_loguniform has been deprecated in v3.0.0. This feature will be removed in v6.0.0. See https://github.com/optuna/optuna/releases/tag/v3.0.0. Use :func:`~optuna.trial.Trial.suggest_float` instead.\n",
            "  'lambda': trial.suggest_loguniform('lambda', 1e-3, 10.0),\n",
            "<ipython-input-50-9441937f327c>:8: FutureWarning: suggest_loguniform has been deprecated in v3.0.0. This feature will be removed in v6.0.0. See https://github.com/optuna/optuna/releases/tag/v3.0.0. Use :func:`~optuna.trial.Trial.suggest_float` instead.\n",
            "  'alpha': trial.suggest_loguniform('alpha', 1e-3, 10.0),\n",
            "/usr/local/lib/python3.9/dist-packages/xgboost/sklearn.py:835: UserWarning: `early_stopping_rounds` in `fit` method is deprecated for better compatibility with scikit-learn, use `early_stopping_rounds` in constructor or`set_params` instead.\n",
            "  warnings.warn(\n"
          ]
        },
        {
          "output_type": "stream",
          "name": "stdout",
          "text": [
            "[08:18:07] WARNING: ../src/learner.cc:767: \n",
            "Parameters: { \"folds\" } are not used.\n",
            "\n"
          ]
        },
        {
          "output_type": "stream",
          "name": "stderr",
          "text": [
            "\u001b[32m[I 2023-04-25 08:18:08,471]\u001b[0m Trial 41 finished with value: 1.416238774300808 and parameters: {'lambda': 0.0044943185246367956, 'alpha': 1.2839385771549898, 'colsample_bytree': 0.4, 'subsample': 0.4, 'learning_rate': 0.014, 'max_depth': 20, 'random_state': 24, 'min_child_weight': 14}. Best is trial 40 with value: 1.400192746254668.\u001b[0m\n",
            "<ipython-input-50-9441937f327c>:7: FutureWarning: suggest_loguniform has been deprecated in v3.0.0. This feature will be removed in v6.0.0. See https://github.com/optuna/optuna/releases/tag/v3.0.0. Use :func:`~optuna.trial.Trial.suggest_float` instead.\n",
            "  'lambda': trial.suggest_loguniform('lambda', 1e-3, 10.0),\n",
            "<ipython-input-50-9441937f327c>:8: FutureWarning: suggest_loguniform has been deprecated in v3.0.0. This feature will be removed in v6.0.0. See https://github.com/optuna/optuna/releases/tag/v3.0.0. Use :func:`~optuna.trial.Trial.suggest_float` instead.\n",
            "  'alpha': trial.suggest_loguniform('alpha', 1e-3, 10.0),\n",
            "/usr/local/lib/python3.9/dist-packages/xgboost/sklearn.py:835: UserWarning: `early_stopping_rounds` in `fit` method is deprecated for better compatibility with scikit-learn, use `early_stopping_rounds` in constructor or`set_params` instead.\n",
            "  warnings.warn(\n"
          ]
        },
        {
          "output_type": "stream",
          "name": "stdout",
          "text": [
            "[08:18:08] WARNING: ../src/learner.cc:767: \n",
            "Parameters: { \"folds\" } are not used.\n",
            "\n"
          ]
        },
        {
          "output_type": "stream",
          "name": "stderr",
          "text": [
            "\u001b[32m[I 2023-04-25 08:18:09,313]\u001b[0m Trial 42 finished with value: 1.3968223944190794 and parameters: {'lambda': 0.007296436707641132, 'alpha': 0.7843549545553833, 'colsample_bytree': 0.4, 'subsample': 0.4, 'learning_rate': 0.014, 'max_depth': 20, 'random_state': 24, 'min_child_weight': 19}. Best is trial 42 with value: 1.3968223944190794.\u001b[0m\n",
            "<ipython-input-50-9441937f327c>:7: FutureWarning: suggest_loguniform has been deprecated in v3.0.0. This feature will be removed in v6.0.0. See https://github.com/optuna/optuna/releases/tag/v3.0.0. Use :func:`~optuna.trial.Trial.suggest_float` instead.\n",
            "  'lambda': trial.suggest_loguniform('lambda', 1e-3, 10.0),\n",
            "<ipython-input-50-9441937f327c>:8: FutureWarning: suggest_loguniform has been deprecated in v3.0.0. This feature will be removed in v6.0.0. See https://github.com/optuna/optuna/releases/tag/v3.0.0. Use :func:`~optuna.trial.Trial.suggest_float` instead.\n",
            "  'alpha': trial.suggest_loguniform('alpha', 1e-3, 10.0),\n",
            "/usr/local/lib/python3.9/dist-packages/xgboost/sklearn.py:835: UserWarning: `early_stopping_rounds` in `fit` method is deprecated for better compatibility with scikit-learn, use `early_stopping_rounds` in constructor or`set_params` instead.\n",
            "  warnings.warn(\n"
          ]
        },
        {
          "output_type": "stream",
          "name": "stdout",
          "text": [
            "[08:18:09] WARNING: ../src/learner.cc:767: \n",
            "Parameters: { \"folds\" } are not used.\n",
            "\n"
          ]
        },
        {
          "output_type": "stream",
          "name": "stderr",
          "text": [
            "\u001b[32m[I 2023-04-25 08:18:10,176]\u001b[0m Trial 43 finished with value: 1.3994670286038724 and parameters: {'lambda': 0.0033262819270390093, 'alpha': 0.6628884716545791, 'colsample_bytree': 0.4, 'subsample': 0.4, 'learning_rate': 0.014, 'max_depth': 20, 'random_state': 24, 'min_child_weight': 13}. Best is trial 42 with value: 1.3968223944190794.\u001b[0m\n",
            "<ipython-input-50-9441937f327c>:7: FutureWarning: suggest_loguniform has been deprecated in v3.0.0. This feature will be removed in v6.0.0. See https://github.com/optuna/optuna/releases/tag/v3.0.0. Use :func:`~optuna.trial.Trial.suggest_float` instead.\n",
            "  'lambda': trial.suggest_loguniform('lambda', 1e-3, 10.0),\n",
            "<ipython-input-50-9441937f327c>:8: FutureWarning: suggest_loguniform has been deprecated in v3.0.0. This feature will be removed in v6.0.0. See https://github.com/optuna/optuna/releases/tag/v3.0.0. Use :func:`~optuna.trial.Trial.suggest_float` instead.\n",
            "  'alpha': trial.suggest_loguniform('alpha', 1e-3, 10.0),\n",
            "/usr/local/lib/python3.9/dist-packages/xgboost/sklearn.py:835: UserWarning: `early_stopping_rounds` in `fit` method is deprecated for better compatibility with scikit-learn, use `early_stopping_rounds` in constructor or`set_params` instead.\n",
            "  warnings.warn(\n"
          ]
        },
        {
          "output_type": "stream",
          "name": "stdout",
          "text": [
            "[08:18:10] WARNING: ../src/learner.cc:767: \n",
            "Parameters: { \"folds\" } are not used.\n",
            "\n"
          ]
        },
        {
          "output_type": "stream",
          "name": "stderr",
          "text": [
            "\u001b[32m[I 2023-04-25 08:18:10,781]\u001b[0m Trial 44 finished with value: 1.4038249434290946 and parameters: {'lambda': 0.0026756009625277335, 'alpha': 0.6720379317959636, 'colsample_bytree': 0.4, 'subsample': 0.4, 'learning_rate': 0.014, 'max_depth': 20, 'random_state': 24, 'min_child_weight': 17}. Best is trial 42 with value: 1.3968223944190794.\u001b[0m\n",
            "<ipython-input-50-9441937f327c>:7: FutureWarning: suggest_loguniform has been deprecated in v3.0.0. This feature will be removed in v6.0.0. See https://github.com/optuna/optuna/releases/tag/v3.0.0. Use :func:`~optuna.trial.Trial.suggest_float` instead.\n",
            "  'lambda': trial.suggest_loguniform('lambda', 1e-3, 10.0),\n",
            "<ipython-input-50-9441937f327c>:8: FutureWarning: suggest_loguniform has been deprecated in v3.0.0. This feature will be removed in v6.0.0. See https://github.com/optuna/optuna/releases/tag/v3.0.0. Use :func:`~optuna.trial.Trial.suggest_float` instead.\n",
            "  'alpha': trial.suggest_loguniform('alpha', 1e-3, 10.0),\n",
            "/usr/local/lib/python3.9/dist-packages/xgboost/sklearn.py:835: UserWarning: `early_stopping_rounds` in `fit` method is deprecated for better compatibility with scikit-learn, use `early_stopping_rounds` in constructor or`set_params` instead.\n",
            "  warnings.warn(\n",
            "\u001b[32m[I 2023-04-25 08:18:10,882]\u001b[0m Trial 45 finished with value: 13.840229243806807 and parameters: {'lambda': 0.009214899904068668, 'alpha': 0.3717444478397032, 'colsample_bytree': 0.4, 'subsample': 0.4, 'learning_rate': 0.014, 'max_depth': 20, 'random_state': 2020, 'min_child_weight': 230}. Best is trial 42 with value: 1.3968223944190794.\u001b[0m\n",
            "<ipython-input-50-9441937f327c>:7: FutureWarning: suggest_loguniform has been deprecated in v3.0.0. This feature will be removed in v6.0.0. See https://github.com/optuna/optuna/releases/tag/v3.0.0. Use :func:`~optuna.trial.Trial.suggest_float` instead.\n",
            "  'lambda': trial.suggest_loguniform('lambda', 1e-3, 10.0),\n",
            "<ipython-input-50-9441937f327c>:8: FutureWarning: suggest_loguniform has been deprecated in v3.0.0. This feature will be removed in v6.0.0. See https://github.com/optuna/optuna/releases/tag/v3.0.0. Use :func:`~optuna.trial.Trial.suggest_float` instead.\n",
            "  'alpha': trial.suggest_loguniform('alpha', 1e-3, 10.0),\n",
            "/usr/local/lib/python3.9/dist-packages/xgboost/sklearn.py:835: UserWarning: `early_stopping_rounds` in `fit` method is deprecated for better compatibility with scikit-learn, use `early_stopping_rounds` in constructor or`set_params` instead.\n",
            "  warnings.warn(\n"
          ]
        },
        {
          "output_type": "stream",
          "name": "stdout",
          "text": [
            "[08:18:10] WARNING: ../src/learner.cc:767: \n",
            "Parameters: { \"folds\" } are not used.\n",
            "\n",
            "[08:18:10] WARNING: ../src/learner.cc:767: \n",
            "Parameters: { \"folds\" } are not used.\n",
            "\n"
          ]
        },
        {
          "output_type": "stream",
          "name": "stderr",
          "text": [
            "\u001b[32m[I 2023-04-25 08:18:11,521]\u001b[0m Trial 46 finished with value: 1.4193756809600595 and parameters: {'lambda': 0.004193977959930407, 'alpha': 0.775107216951702, 'colsample_bytree': 0.4, 'subsample': 0.4, 'learning_rate': 0.014, 'max_depth': 20, 'random_state': 24, 'min_child_weight': 8}. Best is trial 42 with value: 1.3968223944190794.\u001b[0m\n",
            "<ipython-input-50-9441937f327c>:7: FutureWarning: suggest_loguniform has been deprecated in v3.0.0. This feature will be removed in v6.0.0. See https://github.com/optuna/optuna/releases/tag/v3.0.0. Use :func:`~optuna.trial.Trial.suggest_float` instead.\n",
            "  'lambda': trial.suggest_loguniform('lambda', 1e-3, 10.0),\n",
            "<ipython-input-50-9441937f327c>:8: FutureWarning: suggest_loguniform has been deprecated in v3.0.0. This feature will be removed in v6.0.0. See https://github.com/optuna/optuna/releases/tag/v3.0.0. Use :func:`~optuna.trial.Trial.suggest_float` instead.\n",
            "  'alpha': trial.suggest_loguniform('alpha', 1e-3, 10.0),\n",
            "/usr/local/lib/python3.9/dist-packages/xgboost/sklearn.py:835: UserWarning: `early_stopping_rounds` in `fit` method is deprecated for better compatibility with scikit-learn, use `early_stopping_rounds` in constructor or`set_params` instead.\n",
            "  warnings.warn(\n"
          ]
        },
        {
          "output_type": "stream",
          "name": "stdout",
          "text": [
            "[08:18:11] WARNING: ../src/learner.cc:767: \n",
            "Parameters: { \"folds\" } are not used.\n",
            "\n"
          ]
        },
        {
          "output_type": "stream",
          "name": "stderr",
          "text": [
            "\u001b[32m[I 2023-04-25 08:18:12,649]\u001b[0m Trial 47 finished with value: 1.452410746063326 and parameters: {'lambda': 0.0024686096673181166, 'alpha': 0.5418735642821368, 'colsample_bytree': 0.4, 'subsample': 0.4, 'learning_rate': 0.009, 'max_depth': 20, 'random_state': 24, 'min_child_weight': 31}. Best is trial 42 with value: 1.3968223944190794.\u001b[0m\n",
            "<ipython-input-50-9441937f327c>:7: FutureWarning: suggest_loguniform has been deprecated in v3.0.0. This feature will be removed in v6.0.0. See https://github.com/optuna/optuna/releases/tag/v3.0.0. Use :func:`~optuna.trial.Trial.suggest_float` instead.\n",
            "  'lambda': trial.suggest_loguniform('lambda', 1e-3, 10.0),\n",
            "<ipython-input-50-9441937f327c>:8: FutureWarning: suggest_loguniform has been deprecated in v3.0.0. This feature will be removed in v6.0.0. See https://github.com/optuna/optuna/releases/tag/v3.0.0. Use :func:`~optuna.trial.Trial.suggest_float` instead.\n",
            "  'alpha': trial.suggest_loguniform('alpha', 1e-3, 10.0),\n",
            "/usr/local/lib/python3.9/dist-packages/xgboost/sklearn.py:835: UserWarning: `early_stopping_rounds` in `fit` method is deprecated for better compatibility with scikit-learn, use `early_stopping_rounds` in constructor or`set_params` instead.\n",
            "  warnings.warn(\n",
            "\u001b[32m[I 2023-04-25 08:18:12,752]\u001b[0m Trial 48 finished with value: 13.840229243806807 and parameters: {'lambda': 0.014291450301942068, 'alpha': 5.367871565077493, 'colsample_bytree': 0.4, 'subsample': 0.4, 'learning_rate': 0.014, 'max_depth': 20, 'random_state': 24, 'min_child_weight': 266}. Best is trial 42 with value: 1.3968223944190794.\u001b[0m\n",
            "<ipython-input-50-9441937f327c>:7: FutureWarning: suggest_loguniform has been deprecated in v3.0.0. This feature will be removed in v6.0.0. See https://github.com/optuna/optuna/releases/tag/v3.0.0. Use :func:`~optuna.trial.Trial.suggest_float` instead.\n",
            "  'lambda': trial.suggest_loguniform('lambda', 1e-3, 10.0),\n",
            "<ipython-input-50-9441937f327c>:8: FutureWarning: suggest_loguniform has been deprecated in v3.0.0. This feature will be removed in v6.0.0. See https://github.com/optuna/optuna/releases/tag/v3.0.0. Use :func:`~optuna.trial.Trial.suggest_float` instead.\n",
            "  'alpha': trial.suggest_loguniform('alpha', 1e-3, 10.0),\n",
            "/usr/local/lib/python3.9/dist-packages/xgboost/sklearn.py:835: UserWarning: `early_stopping_rounds` in `fit` method is deprecated for better compatibility with scikit-learn, use `early_stopping_rounds` in constructor or`set_params` instead.\n",
            "  warnings.warn(\n"
          ]
        },
        {
          "output_type": "stream",
          "name": "stdout",
          "text": [
            "[08:18:12] WARNING: ../src/learner.cc:767: \n",
            "Parameters: { \"folds\" } are not used.\n",
            "\n",
            "[08:18:12] WARNING: ../src/learner.cc:767: \n",
            "Parameters: { \"folds\" } are not used.\n",
            "\n"
          ]
        },
        {
          "output_type": "stream",
          "name": "stderr",
          "text": [
            "\u001b[32m[I 2023-04-25 08:18:16,182]\u001b[0m Trial 49 finished with value: 1.7675439349710615 and parameters: {'lambda': 0.0018642238670532338, 'alpha': 1.4343927508540748, 'colsample_bytree': 0.3, 'subsample': 0.4, 'learning_rate': 0.012, 'max_depth': 20, 'random_state': 24, 'min_child_weight': 67}. Best is trial 42 with value: 1.3968223944190794.\u001b[0m\n",
            "<ipython-input-50-9441937f327c>:7: FutureWarning: suggest_loguniform has been deprecated in v3.0.0. This feature will be removed in v6.0.0. See https://github.com/optuna/optuna/releases/tag/v3.0.0. Use :func:`~optuna.trial.Trial.suggest_float` instead.\n",
            "  'lambda': trial.suggest_loguniform('lambda', 1e-3, 10.0),\n",
            "<ipython-input-50-9441937f327c>:8: FutureWarning: suggest_loguniform has been deprecated in v3.0.0. This feature will be removed in v6.0.0. See https://github.com/optuna/optuna/releases/tag/v3.0.0. Use :func:`~optuna.trial.Trial.suggest_float` instead.\n",
            "  'alpha': trial.suggest_loguniform('alpha', 1e-3, 10.0),\n",
            "/usr/local/lib/python3.9/dist-packages/xgboost/sklearn.py:835: UserWarning: `early_stopping_rounds` in `fit` method is deprecated for better compatibility with scikit-learn, use `early_stopping_rounds` in constructor or`set_params` instead.\n",
            "  warnings.warn(\n"
          ]
        },
        {
          "output_type": "stream",
          "name": "stdout",
          "text": [
            "[08:18:16] WARNING: ../src/learner.cc:767: \n",
            "Parameters: { \"folds\" } are not used.\n",
            "\n"
          ]
        },
        {
          "output_type": "stream",
          "name": "stderr",
          "text": [
            "\u001b[32m[I 2023-04-25 08:18:17,377]\u001b[0m Trial 50 finished with value: 1.6687044257236905 and parameters: {'lambda': 0.007522817410256134, 'alpha': 2.0381707878755253, 'colsample_bytree': 1.0, 'subsample': 0.4, 'learning_rate': 0.014, 'max_depth': 20, 'random_state': 2020, 'min_child_weight': 55}. Best is trial 42 with value: 1.3968223944190794.\u001b[0m\n",
            "<ipython-input-50-9441937f327c>:7: FutureWarning: suggest_loguniform has been deprecated in v3.0.0. This feature will be removed in v6.0.0. See https://github.com/optuna/optuna/releases/tag/v3.0.0. Use :func:`~optuna.trial.Trial.suggest_float` instead.\n",
            "  'lambda': trial.suggest_loguniform('lambda', 1e-3, 10.0),\n",
            "<ipython-input-50-9441937f327c>:8: FutureWarning: suggest_loguniform has been deprecated in v3.0.0. This feature will be removed in v6.0.0. See https://github.com/optuna/optuna/releases/tag/v3.0.0. Use :func:`~optuna.trial.Trial.suggest_float` instead.\n",
            "  'alpha': trial.suggest_loguniform('alpha', 1e-3, 10.0),\n",
            "/usr/local/lib/python3.9/dist-packages/xgboost/sklearn.py:835: UserWarning: `early_stopping_rounds` in `fit` method is deprecated for better compatibility with scikit-learn, use `early_stopping_rounds` in constructor or`set_params` instead.\n",
            "  warnings.warn(\n"
          ]
        },
        {
          "output_type": "stream",
          "name": "stdout",
          "text": [
            "[08:18:17] WARNING: ../src/learner.cc:767: \n",
            "Parameters: { \"folds\" } are not used.\n",
            "\n"
          ]
        },
        {
          "output_type": "stream",
          "name": "stderr",
          "text": [
            "\u001b[32m[I 2023-04-25 08:18:18,231]\u001b[0m Trial 51 finished with value: 1.3912998772028544 and parameters: {'lambda': 0.003467815753759791, 'alpha': 0.6918624848427822, 'colsample_bytree': 0.4, 'subsample': 0.4, 'learning_rate': 0.014, 'max_depth': 20, 'random_state': 24, 'min_child_weight': 19}. Best is trial 51 with value: 1.3912998772028544.\u001b[0m\n",
            "<ipython-input-50-9441937f327c>:7: FutureWarning: suggest_loguniform has been deprecated in v3.0.0. This feature will be removed in v6.0.0. See https://github.com/optuna/optuna/releases/tag/v3.0.0. Use :func:`~optuna.trial.Trial.suggest_float` instead.\n",
            "  'lambda': trial.suggest_loguniform('lambda', 1e-3, 10.0),\n",
            "<ipython-input-50-9441937f327c>:8: FutureWarning: suggest_loguniform has been deprecated in v3.0.0. This feature will be removed in v6.0.0. See https://github.com/optuna/optuna/releases/tag/v3.0.0. Use :func:`~optuna.trial.Trial.suggest_float` instead.\n",
            "  'alpha': trial.suggest_loguniform('alpha', 1e-3, 10.0),\n",
            "/usr/local/lib/python3.9/dist-packages/xgboost/sklearn.py:835: UserWarning: `early_stopping_rounds` in `fit` method is deprecated for better compatibility with scikit-learn, use `early_stopping_rounds` in constructor or`set_params` instead.\n",
            "  warnings.warn(\n"
          ]
        },
        {
          "output_type": "stream",
          "name": "stdout",
          "text": [
            "[08:18:18] WARNING: ../src/learner.cc:767: \n",
            "Parameters: { \"folds\" } are not used.\n",
            "\n"
          ]
        },
        {
          "output_type": "stream",
          "name": "stderr",
          "text": [
            "\u001b[32m[I 2023-04-25 08:18:18,819]\u001b[0m Trial 52 finished with value: 1.410727951755596 and parameters: {'lambda': 0.0034254142278407973, 'alpha': 0.49938791265782134, 'colsample_bytree': 0.4, 'subsample': 0.4, 'learning_rate': 0.014, 'max_depth': 20, 'random_state': 24, 'min_child_weight': 25}. Best is trial 51 with value: 1.3912998772028544.\u001b[0m\n",
            "<ipython-input-50-9441937f327c>:7: FutureWarning: suggest_loguniform has been deprecated in v3.0.0. This feature will be removed in v6.0.0. See https://github.com/optuna/optuna/releases/tag/v3.0.0. Use :func:`~optuna.trial.Trial.suggest_float` instead.\n",
            "  'lambda': trial.suggest_loguniform('lambda', 1e-3, 10.0),\n",
            "<ipython-input-50-9441937f327c>:8: FutureWarning: suggest_loguniform has been deprecated in v3.0.0. This feature will be removed in v6.0.0. See https://github.com/optuna/optuna/releases/tag/v3.0.0. Use :func:`~optuna.trial.Trial.suggest_float` instead.\n",
            "  'alpha': trial.suggest_loguniform('alpha', 1e-3, 10.0),\n",
            "/usr/local/lib/python3.9/dist-packages/xgboost/sklearn.py:835: UserWarning: `early_stopping_rounds` in `fit` method is deprecated for better compatibility with scikit-learn, use `early_stopping_rounds` in constructor or`set_params` instead.\n",
            "  warnings.warn(\n"
          ]
        },
        {
          "output_type": "stream",
          "name": "stdout",
          "text": [
            "[08:18:18] WARNING: ../src/learner.cc:767: \n",
            "Parameters: { \"folds\" } are not used.\n",
            "\n"
          ]
        },
        {
          "output_type": "stream",
          "name": "stderr",
          "text": [
            "\u001b[32m[I 2023-04-25 08:18:19,578]\u001b[0m Trial 53 finished with value: 1.4338375919844861 and parameters: {'lambda': 0.005027148507090741, 'alpha': 0.8376950205394993, 'colsample_bytree': 0.4, 'subsample': 0.4, 'learning_rate': 0.014, 'max_depth': 20, 'random_state': 24, 'min_child_weight': 2}. Best is trial 51 with value: 1.3912998772028544.\u001b[0m\n",
            "<ipython-input-50-9441937f327c>:7: FutureWarning: suggest_loguniform has been deprecated in v3.0.0. This feature will be removed in v6.0.0. See https://github.com/optuna/optuna/releases/tag/v3.0.0. Use :func:`~optuna.trial.Trial.suggest_float` instead.\n",
            "  'lambda': trial.suggest_loguniform('lambda', 1e-3, 10.0),\n",
            "<ipython-input-50-9441937f327c>:8: FutureWarning: suggest_loguniform has been deprecated in v3.0.0. This feature will be removed in v6.0.0. See https://github.com/optuna/optuna/releases/tag/v3.0.0. Use :func:`~optuna.trial.Trial.suggest_float` instead.\n",
            "  'alpha': trial.suggest_loguniform('alpha', 1e-3, 10.0),\n",
            "/usr/local/lib/python3.9/dist-packages/xgboost/sklearn.py:835: UserWarning: `early_stopping_rounds` in `fit` method is deprecated for better compatibility with scikit-learn, use `early_stopping_rounds` in constructor or`set_params` instead.\n",
            "  warnings.warn(\n"
          ]
        },
        {
          "output_type": "stream",
          "name": "stdout",
          "text": [
            "[08:18:19] WARNING: ../src/learner.cc:767: \n",
            "Parameters: { \"folds\" } are not used.\n",
            "\n"
          ]
        },
        {
          "output_type": "stream",
          "name": "stderr",
          "text": [
            "\u001b[32m[I 2023-04-25 08:18:20,433]\u001b[0m Trial 54 finished with value: 1.515453087257428 and parameters: {'lambda': 0.006369079390396675, 'alpha': 1.699567886235184, 'colsample_bytree': 0.8, 'subsample': 0.4, 'learning_rate': 0.014, 'max_depth': 20, 'random_state': 24, 'min_child_weight': 39}. Best is trial 51 with value: 1.3912998772028544.\u001b[0m\n",
            "<ipython-input-50-9441937f327c>:7: FutureWarning: suggest_loguniform has been deprecated in v3.0.0. This feature will be removed in v6.0.0. See https://github.com/optuna/optuna/releases/tag/v3.0.0. Use :func:`~optuna.trial.Trial.suggest_float` instead.\n",
            "  'lambda': trial.suggest_loguniform('lambda', 1e-3, 10.0),\n",
            "<ipython-input-50-9441937f327c>:8: FutureWarning: suggest_loguniform has been deprecated in v3.0.0. This feature will be removed in v6.0.0. See https://github.com/optuna/optuna/releases/tag/v3.0.0. Use :func:`~optuna.trial.Trial.suggest_float` instead.\n",
            "  'alpha': trial.suggest_loguniform('alpha', 1e-3, 10.0),\n",
            "/usr/local/lib/python3.9/dist-packages/xgboost/sklearn.py:835: UserWarning: `early_stopping_rounds` in `fit` method is deprecated for better compatibility with scikit-learn, use `early_stopping_rounds` in constructor or`set_params` instead.\n",
            "  warnings.warn(\n"
          ]
        },
        {
          "output_type": "stream",
          "name": "stdout",
          "text": [
            "[08:18:20] WARNING: ../src/learner.cc:767: \n",
            "Parameters: { \"folds\" } are not used.\n",
            "\n"
          ]
        },
        {
          "output_type": "stream",
          "name": "stderr",
          "text": [
            "\u001b[32m[I 2023-04-25 08:18:21,055]\u001b[0m Trial 55 finished with value: 1.4010941986721466 and parameters: {'lambda': 0.0010437899334760448, 'alpha': 0.3571363348405347, 'colsample_bytree': 0.4, 'subsample': 0.4, 'learning_rate': 0.014, 'max_depth': 5, 'random_state': 24, 'min_child_weight': 19}. Best is trial 51 with value: 1.3912998772028544.\u001b[0m\n",
            "<ipython-input-50-9441937f327c>:7: FutureWarning: suggest_loguniform has been deprecated in v3.0.0. This feature will be removed in v6.0.0. See https://github.com/optuna/optuna/releases/tag/v3.0.0. Use :func:`~optuna.trial.Trial.suggest_float` instead.\n",
            "  'lambda': trial.suggest_loguniform('lambda', 1e-3, 10.0),\n",
            "<ipython-input-50-9441937f327c>:8: FutureWarning: suggest_loguniform has been deprecated in v3.0.0. This feature will be removed in v6.0.0. See https://github.com/optuna/optuna/releases/tag/v3.0.0. Use :func:`~optuna.trial.Trial.suggest_float` instead.\n",
            "  'alpha': trial.suggest_loguniform('alpha', 1e-3, 10.0),\n",
            "/usr/local/lib/python3.9/dist-packages/xgboost/sklearn.py:835: UserWarning: `early_stopping_rounds` in `fit` method is deprecated for better compatibility with scikit-learn, use `early_stopping_rounds` in constructor or`set_params` instead.\n",
            "  warnings.warn(\n"
          ]
        },
        {
          "output_type": "stream",
          "name": "stdout",
          "text": [
            "[08:18:21] WARNING: ../src/learner.cc:767: \n",
            "Parameters: { \"folds\" } are not used.\n",
            "\n"
          ]
        },
        {
          "output_type": "stream",
          "name": "stderr",
          "text": [
            "\u001b[32m[I 2023-04-25 08:18:21,683]\u001b[0m Trial 56 finished with value: 1.3966916806802998 and parameters: {'lambda': 0.0014880518839583887, 'alpha': 0.6725533362256567, 'colsample_bytree': 0.4, 'subsample': 0.4, 'learning_rate': 0.016, 'max_depth': 5, 'random_state': 24, 'min_child_weight': 17}. Best is trial 51 with value: 1.3912998772028544.\u001b[0m\n",
            "<ipython-input-50-9441937f327c>:7: FutureWarning: suggest_loguniform has been deprecated in v3.0.0. This feature will be removed in v6.0.0. See https://github.com/optuna/optuna/releases/tag/v3.0.0. Use :func:`~optuna.trial.Trial.suggest_float` instead.\n",
            "  'lambda': trial.suggest_loguniform('lambda', 1e-3, 10.0),\n",
            "<ipython-input-50-9441937f327c>:8: FutureWarning: suggest_loguniform has been deprecated in v3.0.0. This feature will be removed in v6.0.0. See https://github.com/optuna/optuna/releases/tag/v3.0.0. Use :func:`~optuna.trial.Trial.suggest_float` instead.\n",
            "  'alpha': trial.suggest_loguniform('alpha', 1e-3, 10.0),\n",
            "/usr/local/lib/python3.9/dist-packages/xgboost/sklearn.py:835: UserWarning: `early_stopping_rounds` in `fit` method is deprecated for better compatibility with scikit-learn, use `early_stopping_rounds` in constructor or`set_params` instead.\n",
            "  warnings.warn(\n"
          ]
        },
        {
          "output_type": "stream",
          "name": "stdout",
          "text": [
            "[08:18:21] WARNING: ../src/learner.cc:767: \n",
            "Parameters: { \"folds\" } are not used.\n",
            "\n"
          ]
        },
        {
          "output_type": "stream",
          "name": "stderr",
          "text": [
            "\u001b[32m[I 2023-04-25 08:18:22,219]\u001b[0m Trial 57 finished with value: 1.448931477109422 and parameters: {'lambda': 0.0017185353143234063, 'alpha': 0.9642860932548888, 'colsample_bytree': 0.4, 'subsample': 0.4, 'learning_rate': 0.016, 'max_depth': 5, 'random_state': 24, 'min_child_weight': 1}. Best is trial 51 with value: 1.3912998772028544.\u001b[0m\n",
            "<ipython-input-50-9441937f327c>:7: FutureWarning: suggest_loguniform has been deprecated in v3.0.0. This feature will be removed in v6.0.0. See https://github.com/optuna/optuna/releases/tag/v3.0.0. Use :func:`~optuna.trial.Trial.suggest_float` instead.\n",
            "  'lambda': trial.suggest_loguniform('lambda', 1e-3, 10.0),\n",
            "<ipython-input-50-9441937f327c>:8: FutureWarning: suggest_loguniform has been deprecated in v3.0.0. This feature will be removed in v6.0.0. See https://github.com/optuna/optuna/releases/tag/v3.0.0. Use :func:`~optuna.trial.Trial.suggest_float` instead.\n",
            "  'alpha': trial.suggest_loguniform('alpha', 1e-3, 10.0),\n",
            "/usr/local/lib/python3.9/dist-packages/xgboost/sklearn.py:835: UserWarning: `early_stopping_rounds` in `fit` method is deprecated for better compatibility with scikit-learn, use `early_stopping_rounds` in constructor or`set_params` instead.\n",
            "  warnings.warn(\n"
          ]
        },
        {
          "output_type": "stream",
          "name": "stdout",
          "text": [
            "[08:18:22] WARNING: ../src/learner.cc:767: \n",
            "Parameters: { \"folds\" } are not used.\n",
            "\n"
          ]
        },
        {
          "output_type": "stream",
          "name": "stderr",
          "text": [
            "\u001b[32m[I 2023-04-25 08:18:22,774]\u001b[0m Trial 58 finished with value: 1.6197376937359391 and parameters: {'lambda': 0.0034340521779882296, 'alpha': 2.7042051205591324, 'colsample_bytree': 0.4, 'subsample': 0.4, 'learning_rate': 0.016, 'max_depth': 5, 'random_state': 24, 'min_child_weight': 47}. Best is trial 51 with value: 1.3912998772028544.\u001b[0m\n",
            "<ipython-input-50-9441937f327c>:7: FutureWarning: suggest_loguniform has been deprecated in v3.0.0. This feature will be removed in v6.0.0. See https://github.com/optuna/optuna/releases/tag/v3.0.0. Use :func:`~optuna.trial.Trial.suggest_float` instead.\n",
            "  'lambda': trial.suggest_loguniform('lambda', 1e-3, 10.0),\n",
            "<ipython-input-50-9441937f327c>:8: FutureWarning: suggest_loguniform has been deprecated in v3.0.0. This feature will be removed in v6.0.0. See https://github.com/optuna/optuna/releases/tag/v3.0.0. Use :func:`~optuna.trial.Trial.suggest_float` instead.\n",
            "  'alpha': trial.suggest_loguniform('alpha', 1e-3, 10.0),\n",
            "/usr/local/lib/python3.9/dist-packages/xgboost/sklearn.py:835: UserWarning: `early_stopping_rounds` in `fit` method is deprecated for better compatibility with scikit-learn, use `early_stopping_rounds` in constructor or`set_params` instead.\n",
            "  warnings.warn(\n"
          ]
        },
        {
          "output_type": "stream",
          "name": "stdout",
          "text": [
            "[08:18:22] WARNING: ../src/learner.cc:767: \n",
            "Parameters: { \"folds\" } are not used.\n",
            "\n"
          ]
        },
        {
          "output_type": "stream",
          "name": "stderr",
          "text": [
            "\u001b[32m[I 2023-04-25 08:18:23,289]\u001b[0m Trial 59 finished with value: 1.4286973268318692 and parameters: {'lambda': 0.0023995247946914833, 'alpha': 0.6871648135543255, 'colsample_bytree': 0.9, 'subsample': 0.4, 'learning_rate': 0.016, 'max_depth': 7, 'random_state': 24, 'min_child_weight': 25}. Best is trial 51 with value: 1.3912998772028544.\u001b[0m\n",
            "<ipython-input-50-9441937f327c>:7: FutureWarning: suggest_loguniform has been deprecated in v3.0.0. This feature will be removed in v6.0.0. See https://github.com/optuna/optuna/releases/tag/v3.0.0. Use :func:`~optuna.trial.Trial.suggest_float` instead.\n",
            "  'lambda': trial.suggest_loguniform('lambda', 1e-3, 10.0),\n",
            "<ipython-input-50-9441937f327c>:8: FutureWarning: suggest_loguniform has been deprecated in v3.0.0. This feature will be removed in v6.0.0. See https://github.com/optuna/optuna/releases/tag/v3.0.0. Use :func:`~optuna.trial.Trial.suggest_float` instead.\n",
            "  'alpha': trial.suggest_loguniform('alpha', 1e-3, 10.0),\n",
            "/usr/local/lib/python3.9/dist-packages/xgboost/sklearn.py:835: UserWarning: `early_stopping_rounds` in `fit` method is deprecated for better compatibility with scikit-learn, use `early_stopping_rounds` in constructor or`set_params` instead.\n",
            "  warnings.warn(\n"
          ]
        },
        {
          "output_type": "stream",
          "name": "stdout",
          "text": [
            "[08:18:23] WARNING: ../src/learner.cc:767: \n",
            "Parameters: { \"folds\" } are not used.\n",
            "\n"
          ]
        },
        {
          "output_type": "stream",
          "name": "stderr",
          "text": [
            "\u001b[32m[I 2023-04-25 08:18:24,156]\u001b[0m Trial 60 finished with value: 1.828047320380752 and parameters: {'lambda': 0.0016343996228026364, 'alpha': 1.476607539844514, 'colsample_bytree': 0.4, 'subsample': 0.5, 'learning_rate': 0.009, 'max_depth': 15, 'random_state': 24, 'min_child_weight': 94}. Best is trial 51 with value: 1.3912998772028544.\u001b[0m\n",
            "<ipython-input-50-9441937f327c>:7: FutureWarning: suggest_loguniform has been deprecated in v3.0.0. This feature will be removed in v6.0.0. See https://github.com/optuna/optuna/releases/tag/v3.0.0. Use :func:`~optuna.trial.Trial.suggest_float` instead.\n",
            "  'lambda': trial.suggest_loguniform('lambda', 1e-3, 10.0),\n",
            "<ipython-input-50-9441937f327c>:8: FutureWarning: suggest_loguniform has been deprecated in v3.0.0. This feature will be removed in v6.0.0. See https://github.com/optuna/optuna/releases/tag/v3.0.0. Use :func:`~optuna.trial.Trial.suggest_float` instead.\n",
            "  'alpha': trial.suggest_loguniform('alpha', 1e-3, 10.0),\n",
            "/usr/local/lib/python3.9/dist-packages/xgboost/sklearn.py:835: UserWarning: `early_stopping_rounds` in `fit` method is deprecated for better compatibility with scikit-learn, use `early_stopping_rounds` in constructor or`set_params` instead.\n",
            "  warnings.warn(\n"
          ]
        },
        {
          "output_type": "stream",
          "name": "stdout",
          "text": [
            "[08:18:24] WARNING: ../src/learner.cc:767: \n",
            "Parameters: { \"folds\" } are not used.\n",
            "\n"
          ]
        },
        {
          "output_type": "stream",
          "name": "stderr",
          "text": [
            "\u001b[32m[I 2023-04-25 08:18:24,943]\u001b[0m Trial 61 finished with value: 1.4018278159096542 and parameters: {'lambda': 0.0010544101419456338, 'alpha': 0.28615379347528436, 'colsample_bytree': 0.4, 'subsample': 0.4, 'learning_rate': 0.014, 'max_depth': 5, 'random_state': 24, 'min_child_weight': 15}. Best is trial 51 with value: 1.3912998772028544.\u001b[0m\n",
            "<ipython-input-50-9441937f327c>:7: FutureWarning: suggest_loguniform has been deprecated in v3.0.0. This feature will be removed in v6.0.0. See https://github.com/optuna/optuna/releases/tag/v3.0.0. Use :func:`~optuna.trial.Trial.suggest_float` instead.\n",
            "  'lambda': trial.suggest_loguniform('lambda', 1e-3, 10.0),\n",
            "<ipython-input-50-9441937f327c>:8: FutureWarning: suggest_loguniform has been deprecated in v3.0.0. This feature will be removed in v6.0.0. See https://github.com/optuna/optuna/releases/tag/v3.0.0. Use :func:`~optuna.trial.Trial.suggest_float` instead.\n",
            "  'alpha': trial.suggest_loguniform('alpha', 1e-3, 10.0),\n",
            "/usr/local/lib/python3.9/dist-packages/xgboost/sklearn.py:835: UserWarning: `early_stopping_rounds` in `fit` method is deprecated for better compatibility with scikit-learn, use `early_stopping_rounds` in constructor or`set_params` instead.\n",
            "  warnings.warn(\n"
          ]
        },
        {
          "output_type": "stream",
          "name": "stdout",
          "text": [
            "[08:18:24] WARNING: ../src/learner.cc:767: \n",
            "Parameters: { \"folds\" } are not used.\n",
            "\n"
          ]
        },
        {
          "output_type": "stream",
          "name": "stderr",
          "text": [
            "\u001b[32m[I 2023-04-25 08:18:25,792]\u001b[0m Trial 62 finished with value: 1.404236411973192 and parameters: {'lambda': 0.001015761823826569, 'alpha': 0.5658051950404929, 'colsample_bytree': 0.4, 'subsample': 0.4, 'learning_rate': 0.01, 'max_depth': 5, 'random_state': 24, 'min_child_weight': 16}. Best is trial 51 with value: 1.3912998772028544.\u001b[0m\n",
            "<ipython-input-50-9441937f327c>:7: FutureWarning: suggest_loguniform has been deprecated in v3.0.0. This feature will be removed in v6.0.0. See https://github.com/optuna/optuna/releases/tag/v3.0.0. Use :func:`~optuna.trial.Trial.suggest_float` instead.\n",
            "  'lambda': trial.suggest_loguniform('lambda', 1e-3, 10.0),\n",
            "<ipython-input-50-9441937f327c>:8: FutureWarning: suggest_loguniform has been deprecated in v3.0.0. This feature will be removed in v6.0.0. See https://github.com/optuna/optuna/releases/tag/v3.0.0. Use :func:`~optuna.trial.Trial.suggest_float` instead.\n",
            "  'alpha': trial.suggest_loguniform('alpha', 1e-3, 10.0),\n",
            "/usr/local/lib/python3.9/dist-packages/xgboost/sklearn.py:835: UserWarning: `early_stopping_rounds` in `fit` method is deprecated for better compatibility with scikit-learn, use `early_stopping_rounds` in constructor or`set_params` instead.\n",
            "  warnings.warn(\n"
          ]
        },
        {
          "output_type": "stream",
          "name": "stdout",
          "text": [
            "[08:18:25] WARNING: ../src/learner.cc:767: \n",
            "Parameters: { \"folds\" } are not used.\n",
            "\n"
          ]
        },
        {
          "output_type": "stream",
          "name": "stderr",
          "text": [
            "\u001b[32m[I 2023-04-25 08:18:26,371]\u001b[0m Trial 63 finished with value: 1.4913986757302231 and parameters: {'lambda': 0.0014663870190995746, 'alpha': 0.3705376183640569, 'colsample_bytree': 0.4, 'subsample': 0.4, 'learning_rate': 0.016, 'max_depth': 5, 'random_state': 24, 'min_child_weight': 34}. Best is trial 51 with value: 1.3912998772028544.\u001b[0m\n",
            "<ipython-input-50-9441937f327c>:7: FutureWarning: suggest_loguniform has been deprecated in v3.0.0. This feature will be removed in v6.0.0. See https://github.com/optuna/optuna/releases/tag/v3.0.0. Use :func:`~optuna.trial.Trial.suggest_float` instead.\n",
            "  'lambda': trial.suggest_loguniform('lambda', 1e-3, 10.0),\n",
            "<ipython-input-50-9441937f327c>:8: FutureWarning: suggest_loguniform has been deprecated in v3.0.0. This feature will be removed in v6.0.0. See https://github.com/optuna/optuna/releases/tag/v3.0.0. Use :func:`~optuna.trial.Trial.suggest_float` instead.\n",
            "  'alpha': trial.suggest_loguniform('alpha', 1e-3, 10.0),\n",
            "/usr/local/lib/python3.9/dist-packages/xgboost/sklearn.py:835: UserWarning: `early_stopping_rounds` in `fit` method is deprecated for better compatibility with scikit-learn, use `early_stopping_rounds` in constructor or`set_params` instead.\n",
            "  warnings.warn(\n"
          ]
        },
        {
          "output_type": "stream",
          "name": "stdout",
          "text": [
            "[08:18:26] WARNING: ../src/learner.cc:767: \n",
            "Parameters: { \"folds\" } are not used.\n",
            "\n"
          ]
        },
        {
          "output_type": "stream",
          "name": "stderr",
          "text": [
            "\u001b[32m[I 2023-04-25 08:18:27,265]\u001b[0m Trial 64 finished with value: 1.4084454013732457 and parameters: {'lambda': 0.0021214067232084004, 'alpha': 1.047678157408082, 'colsample_bytree': 0.4, 'subsample': 0.4, 'learning_rate': 0.014, 'max_depth': 20, 'random_state': 24, 'min_child_weight': 11}. Best is trial 51 with value: 1.3912998772028544.\u001b[0m\n",
            "<ipython-input-50-9441937f327c>:7: FutureWarning: suggest_loguniform has been deprecated in v3.0.0. This feature will be removed in v6.0.0. See https://github.com/optuna/optuna/releases/tag/v3.0.0. Use :func:`~optuna.trial.Trial.suggest_float` instead.\n",
            "  'lambda': trial.suggest_loguniform('lambda', 1e-3, 10.0),\n",
            "<ipython-input-50-9441937f327c>:8: FutureWarning: suggest_loguniform has been deprecated in v3.0.0. This feature will be removed in v6.0.0. See https://github.com/optuna/optuna/releases/tag/v3.0.0. Use :func:`~optuna.trial.Trial.suggest_float` instead.\n",
            "  'alpha': trial.suggest_loguniform('alpha', 1e-3, 10.0),\n",
            "/usr/local/lib/python3.9/dist-packages/xgboost/sklearn.py:835: UserWarning: `early_stopping_rounds` in `fit` method is deprecated for better compatibility with scikit-learn, use `early_stopping_rounds` in constructor or`set_params` instead.\n",
            "  warnings.warn(\n"
          ]
        },
        {
          "output_type": "stream",
          "name": "stdout",
          "text": [
            "[08:18:27] WARNING: ../src/learner.cc:767: \n",
            "Parameters: { \"folds\" } are not used.\n",
            "\n"
          ]
        },
        {
          "output_type": "stream",
          "name": "stderr",
          "text": [
            "\u001b[32m[I 2023-04-25 08:18:30,597]\u001b[0m Trial 65 finished with value: 1.5848999021616343 and parameters: {'lambda': 0.003739955031815797, 'alpha': 0.657403041655617, 'colsample_bytree': 0.5, 'subsample': 0.4, 'learning_rate': 0.02, 'max_depth': 9, 'random_state': 24, 'min_child_weight': 46}. Best is trial 51 with value: 1.3912998772028544.\u001b[0m\n",
            "<ipython-input-50-9441937f327c>:7: FutureWarning: suggest_loguniform has been deprecated in v3.0.0. This feature will be removed in v6.0.0. See https://github.com/optuna/optuna/releases/tag/v3.0.0. Use :func:`~optuna.trial.Trial.suggest_float` instead.\n",
            "  'lambda': trial.suggest_loguniform('lambda', 1e-3, 10.0),\n",
            "<ipython-input-50-9441937f327c>:8: FutureWarning: suggest_loguniform has been deprecated in v3.0.0. This feature will be removed in v6.0.0. See https://github.com/optuna/optuna/releases/tag/v3.0.0. Use :func:`~optuna.trial.Trial.suggest_float` instead.\n",
            "  'alpha': trial.suggest_loguniform('alpha', 1e-3, 10.0),\n",
            "/usr/local/lib/python3.9/dist-packages/xgboost/sklearn.py:835: UserWarning: `early_stopping_rounds` in `fit` method is deprecated for better compatibility with scikit-learn, use `early_stopping_rounds` in constructor or`set_params` instead.\n",
            "  warnings.warn(\n"
          ]
        },
        {
          "output_type": "stream",
          "name": "stdout",
          "text": [
            "[08:18:30] WARNING: ../src/learner.cc:767: \n",
            "Parameters: { \"folds\" } are not used.\n",
            "\n"
          ]
        },
        {
          "output_type": "stream",
          "name": "stderr",
          "text": [
            "\u001b[32m[I 2023-04-25 08:18:31,170]\u001b[0m Trial 66 finished with value: 1.411024148504584 and parameters: {'lambda': 0.0013531970545932895, 'alpha': 0.22820554155198988, 'colsample_bytree': 0.4, 'subsample': 1.0, 'learning_rate': 0.014, 'max_depth': 5, 'random_state': 48, 'min_child_weight': 25}. Best is trial 51 with value: 1.3912998772028544.\u001b[0m\n",
            "<ipython-input-50-9441937f327c>:7: FutureWarning: suggest_loguniform has been deprecated in v3.0.0. This feature will be removed in v6.0.0. See https://github.com/optuna/optuna/releases/tag/v3.0.0. Use :func:`~optuna.trial.Trial.suggest_float` instead.\n",
            "  'lambda': trial.suggest_loguniform('lambda', 1e-3, 10.0),\n",
            "<ipython-input-50-9441937f327c>:8: FutureWarning: suggest_loguniform has been deprecated in v3.0.0. This feature will be removed in v6.0.0. See https://github.com/optuna/optuna/releases/tag/v3.0.0. Use :func:`~optuna.trial.Trial.suggest_float` instead.\n",
            "  'alpha': trial.suggest_loguniform('alpha', 1e-3, 10.0),\n",
            "/usr/local/lib/python3.9/dist-packages/xgboost/sklearn.py:835: UserWarning: `early_stopping_rounds` in `fit` method is deprecated for better compatibility with scikit-learn, use `early_stopping_rounds` in constructor or`set_params` instead.\n",
            "  warnings.warn(\n"
          ]
        },
        {
          "output_type": "stream",
          "name": "stdout",
          "text": [
            "[08:18:31] WARNING: ../src/learner.cc:767: \n",
            "Parameters: { \"folds\" } are not used.\n",
            "\n"
          ]
        },
        {
          "output_type": "stream",
          "name": "stderr",
          "text": [
            "\u001b[32m[I 2023-04-25 08:18:31,790]\u001b[0m Trial 67 finished with value: 1.5180952112998563 and parameters: {'lambda': 0.0031701602791373443, 'alpha': 0.8431754486454118, 'colsample_bytree': 1.0, 'subsample': 0.8, 'learning_rate': 0.012, 'max_depth': 20, 'random_state': 24, 'min_child_weight': 62}. Best is trial 51 with value: 1.3912998772028544.\u001b[0m\n",
            "<ipython-input-50-9441937f327c>:7: FutureWarning: suggest_loguniform has been deprecated in v3.0.0. This feature will be removed in v6.0.0. See https://github.com/optuna/optuna/releases/tag/v3.0.0. Use :func:`~optuna.trial.Trial.suggest_float` instead.\n",
            "  'lambda': trial.suggest_loguniform('lambda', 1e-3, 10.0),\n",
            "<ipython-input-50-9441937f327c>:8: FutureWarning: suggest_loguniform has been deprecated in v3.0.0. This feature will be removed in v6.0.0. See https://github.com/optuna/optuna/releases/tag/v3.0.0. Use :func:`~optuna.trial.Trial.suggest_float` instead.\n",
            "  'alpha': trial.suggest_loguniform('alpha', 1e-3, 10.0),\n",
            "/usr/local/lib/python3.9/dist-packages/xgboost/sklearn.py:835: UserWarning: `early_stopping_rounds` in `fit` method is deprecated for better compatibility with scikit-learn, use `early_stopping_rounds` in constructor or`set_params` instead.\n",
            "  warnings.warn(\n"
          ]
        },
        {
          "output_type": "stream",
          "name": "stdout",
          "text": [
            "[08:18:31] WARNING: ../src/learner.cc:767: \n",
            "Parameters: { \"folds\" } are not used.\n",
            "\n"
          ]
        },
        {
          "output_type": "stream",
          "name": "stderr",
          "text": [
            "\u001b[32m[I 2023-04-25 08:18:32,634]\u001b[0m Trial 68 finished with value: 1.524733716222955 and parameters: {'lambda': 0.002321174056273772, 'alpha': 0.37786225890422565, 'colsample_bytree': 0.8, 'subsample': 0.4, 'learning_rate': 0.014, 'max_depth': 20, 'random_state': 2020, 'min_child_weight': 39}. Best is trial 51 with value: 1.3912998772028544.\u001b[0m\n",
            "<ipython-input-50-9441937f327c>:7: FutureWarning: suggest_loguniform has been deprecated in v3.0.0. This feature will be removed in v6.0.0. See https://github.com/optuna/optuna/releases/tag/v3.0.0. Use :func:`~optuna.trial.Trial.suggest_float` instead.\n",
            "  'lambda': trial.suggest_loguniform('lambda', 1e-3, 10.0),\n",
            "<ipython-input-50-9441937f327c>:8: FutureWarning: suggest_loguniform has been deprecated in v3.0.0. This feature will be removed in v6.0.0. See https://github.com/optuna/optuna/releases/tag/v3.0.0. Use :func:`~optuna.trial.Trial.suggest_float` instead.\n",
            "  'alpha': trial.suggest_loguniform('alpha', 1e-3, 10.0),\n",
            "/usr/local/lib/python3.9/dist-packages/xgboost/sklearn.py:835: UserWarning: `early_stopping_rounds` in `fit` method is deprecated for better compatibility with scikit-learn, use `early_stopping_rounds` in constructor or`set_params` instead.\n",
            "  warnings.warn(\n"
          ]
        },
        {
          "output_type": "stream",
          "name": "stdout",
          "text": [
            "[08:18:32] WARNING: ../src/learner.cc:767: \n",
            "Parameters: { \"folds\" } are not used.\n",
            "\n"
          ]
        },
        {
          "output_type": "stream",
          "name": "stderr",
          "text": [
            "\u001b[32m[I 2023-04-25 08:18:33,090]\u001b[0m Trial 69 finished with value: 2.434396962440939 and parameters: {'lambda': 0.001334703547936959, 'alpha': 2.1076306895406507, 'colsample_bytree': 0.4, 'subsample': 0.4, 'learning_rate': 0.014, 'max_depth': 5, 'random_state': 24, 'min_child_weight': 143}. Best is trial 51 with value: 1.3912998772028544.\u001b[0m\n",
            "<ipython-input-50-9441937f327c>:7: FutureWarning: suggest_loguniform has been deprecated in v3.0.0. This feature will be removed in v6.0.0. See https://github.com/optuna/optuna/releases/tag/v3.0.0. Use :func:`~optuna.trial.Trial.suggest_float` instead.\n",
            "  'lambda': trial.suggest_loguniform('lambda', 1e-3, 10.0),\n",
            "<ipython-input-50-9441937f327c>:8: FutureWarning: suggest_loguniform has been deprecated in v3.0.0. This feature will be removed in v6.0.0. See https://github.com/optuna/optuna/releases/tag/v3.0.0. Use :func:`~optuna.trial.Trial.suggest_float` instead.\n",
            "  'alpha': trial.suggest_loguniform('alpha', 1e-3, 10.0),\n",
            "/usr/local/lib/python3.9/dist-packages/xgboost/sklearn.py:835: UserWarning: `early_stopping_rounds` in `fit` method is deprecated for better compatibility with scikit-learn, use `early_stopping_rounds` in constructor or`set_params` instead.\n",
            "  warnings.warn(\n"
          ]
        },
        {
          "output_type": "stream",
          "name": "stdout",
          "text": [
            "[08:18:33] WARNING: ../src/learner.cc:767: \n",
            "Parameters: { \"folds\" } are not used.\n",
            "\n"
          ]
        },
        {
          "output_type": "stream",
          "name": "stderr",
          "text": [
            "\u001b[32m[I 2023-04-25 08:18:34,021]\u001b[0m Trial 70 finished with value: 1.5322068336730863 and parameters: {'lambda': 0.005214745028446381, 'alpha': 1.3236544681786122, 'colsample_bytree': 0.4, 'subsample': 0.5, 'learning_rate': 0.016, 'max_depth': 11, 'random_state': 24, 'min_child_weight': 51}. Best is trial 51 with value: 1.3912998772028544.\u001b[0m\n",
            "<ipython-input-50-9441937f327c>:7: FutureWarning: suggest_loguniform has been deprecated in v3.0.0. This feature will be removed in v6.0.0. See https://github.com/optuna/optuna/releases/tag/v3.0.0. Use :func:`~optuna.trial.Trial.suggest_float` instead.\n",
            "  'lambda': trial.suggest_loguniform('lambda', 1e-3, 10.0),\n",
            "<ipython-input-50-9441937f327c>:8: FutureWarning: suggest_loguniform has been deprecated in v3.0.0. This feature will be removed in v6.0.0. See https://github.com/optuna/optuna/releases/tag/v3.0.0. Use :func:`~optuna.trial.Trial.suggest_float` instead.\n",
            "  'alpha': trial.suggest_loguniform('alpha', 1e-3, 10.0),\n",
            "/usr/local/lib/python3.9/dist-packages/xgboost/sklearn.py:835: UserWarning: `early_stopping_rounds` in `fit` method is deprecated for better compatibility with scikit-learn, use `early_stopping_rounds` in constructor or`set_params` instead.\n",
            "  warnings.warn(\n"
          ]
        },
        {
          "output_type": "stream",
          "name": "stdout",
          "text": [
            "[08:18:34] WARNING: ../src/learner.cc:767: \n",
            "Parameters: { \"folds\" } are not used.\n",
            "\n"
          ]
        },
        {
          "output_type": "stream",
          "name": "stderr",
          "text": [
            "\u001b[32m[I 2023-04-25 08:18:34,630]\u001b[0m Trial 71 finished with value: 1.4160446796862163 and parameters: {'lambda': 0.0010854696961490236, 'alpha': 0.3440414476472358, 'colsample_bytree': 0.4, 'subsample': 0.4, 'learning_rate': 0.014, 'max_depth': 5, 'random_state': 24, 'min_child_weight': 11}. Best is trial 51 with value: 1.3912998772028544.\u001b[0m\n",
            "<ipython-input-50-9441937f327c>:7: FutureWarning: suggest_loguniform has been deprecated in v3.0.0. This feature will be removed in v6.0.0. See https://github.com/optuna/optuna/releases/tag/v3.0.0. Use :func:`~optuna.trial.Trial.suggest_float` instead.\n",
            "  'lambda': trial.suggest_loguniform('lambda', 1e-3, 10.0),\n",
            "<ipython-input-50-9441937f327c>:8: FutureWarning: suggest_loguniform has been deprecated in v3.0.0. This feature will be removed in v6.0.0. See https://github.com/optuna/optuna/releases/tag/v3.0.0. Use :func:`~optuna.trial.Trial.suggest_float` instead.\n",
            "  'alpha': trial.suggest_loguniform('alpha', 1e-3, 10.0),\n",
            "/usr/local/lib/python3.9/dist-packages/xgboost/sklearn.py:835: UserWarning: `early_stopping_rounds` in `fit` method is deprecated for better compatibility with scikit-learn, use `early_stopping_rounds` in constructor or`set_params` instead.\n",
            "  warnings.warn(\n"
          ]
        },
        {
          "output_type": "stream",
          "name": "stdout",
          "text": [
            "[08:18:34] WARNING: ../src/learner.cc:767: \n",
            "Parameters: { \"folds\" } are not used.\n",
            "\n"
          ]
        },
        {
          "output_type": "stream",
          "name": "stderr",
          "text": [
            "\u001b[32m[I 2023-04-25 08:18:35,463]\u001b[0m Trial 72 finished with value: 1.3950635324282659 and parameters: {'lambda': 0.0019980327090074065, 'alpha': 0.5382521178241958, 'colsample_bytree': 0.4, 'subsample': 0.4, 'learning_rate': 0.014, 'max_depth': 5, 'random_state': 24, 'min_child_weight': 20}. Best is trial 51 with value: 1.3912998772028544.\u001b[0m\n",
            "<ipython-input-50-9441937f327c>:7: FutureWarning: suggest_loguniform has been deprecated in v3.0.0. This feature will be removed in v6.0.0. See https://github.com/optuna/optuna/releases/tag/v3.0.0. Use :func:`~optuna.trial.Trial.suggest_float` instead.\n",
            "  'lambda': trial.suggest_loguniform('lambda', 1e-3, 10.0),\n",
            "<ipython-input-50-9441937f327c>:8: FutureWarning: suggest_loguniform has been deprecated in v3.0.0. This feature will be removed in v6.0.0. See https://github.com/optuna/optuna/releases/tag/v3.0.0. Use :func:`~optuna.trial.Trial.suggest_float` instead.\n",
            "  'alpha': trial.suggest_loguniform('alpha', 1e-3, 10.0),\n",
            "/usr/local/lib/python3.9/dist-packages/xgboost/sklearn.py:835: UserWarning: `early_stopping_rounds` in `fit` method is deprecated for better compatibility with scikit-learn, use `early_stopping_rounds` in constructor or`set_params` instead.\n",
            "  warnings.warn(\n"
          ]
        },
        {
          "output_type": "stream",
          "name": "stdout",
          "text": [
            "[08:18:35] WARNING: ../src/learner.cc:767: \n",
            "Parameters: { \"folds\" } are not used.\n",
            "\n"
          ]
        },
        {
          "output_type": "stream",
          "name": "stderr",
          "text": [
            "\u001b[32m[I 2023-04-25 08:18:36,170]\u001b[0m Trial 73 finished with value: 1.3969382131695276 and parameters: {'lambda': 0.0018133814442006675, 'alpha': 1.0237633194957767, 'colsample_bytree': 0.4, 'subsample': 0.4, 'learning_rate': 0.014, 'max_depth': 5, 'random_state': 24, 'min_child_weight': 23}. Best is trial 51 with value: 1.3912998772028544.\u001b[0m\n",
            "<ipython-input-50-9441937f327c>:7: FutureWarning: suggest_loguniform has been deprecated in v3.0.0. This feature will be removed in v6.0.0. See https://github.com/optuna/optuna/releases/tag/v3.0.0. Use :func:`~optuna.trial.Trial.suggest_float` instead.\n",
            "  'lambda': trial.suggest_loguniform('lambda', 1e-3, 10.0),\n",
            "<ipython-input-50-9441937f327c>:8: FutureWarning: suggest_loguniform has been deprecated in v3.0.0. This feature will be removed in v6.0.0. See https://github.com/optuna/optuna/releases/tag/v3.0.0. Use :func:`~optuna.trial.Trial.suggest_float` instead.\n",
            "  'alpha': trial.suggest_loguniform('alpha', 1e-3, 10.0),\n",
            "/usr/local/lib/python3.9/dist-packages/xgboost/sklearn.py:835: UserWarning: `early_stopping_rounds` in `fit` method is deprecated for better compatibility with scikit-learn, use `early_stopping_rounds` in constructor or`set_params` instead.\n",
            "  warnings.warn(\n"
          ]
        },
        {
          "output_type": "stream",
          "name": "stdout",
          "text": [
            "[08:18:36] WARNING: ../src/learner.cc:767: \n",
            "Parameters: { \"folds\" } are not used.\n",
            "\n"
          ]
        },
        {
          "output_type": "stream",
          "name": "stderr",
          "text": [
            "\u001b[32m[I 2023-04-25 08:18:36,799]\u001b[0m Trial 74 finished with value: 1.4594663948724849 and parameters: {'lambda': 0.001953938397790023, 'alpha': 1.04658194201621, 'colsample_bytree': 0.9, 'subsample': 0.4, 'learning_rate': 0.014, 'max_depth': 7, 'random_state': 24, 'min_child_weight': 31}. Best is trial 51 with value: 1.3912998772028544.\u001b[0m\n",
            "<ipython-input-50-9441937f327c>:7: FutureWarning: suggest_loguniform has been deprecated in v3.0.0. This feature will be removed in v6.0.0. See https://github.com/optuna/optuna/releases/tag/v3.0.0. Use :func:`~optuna.trial.Trial.suggest_float` instead.\n",
            "  'lambda': trial.suggest_loguniform('lambda', 1e-3, 10.0),\n",
            "<ipython-input-50-9441937f327c>:8: FutureWarning: suggest_loguniform has been deprecated in v3.0.0. This feature will be removed in v6.0.0. See https://github.com/optuna/optuna/releases/tag/v3.0.0. Use :func:`~optuna.trial.Trial.suggest_float` instead.\n",
            "  'alpha': trial.suggest_loguniform('alpha', 1e-3, 10.0),\n",
            "/usr/local/lib/python3.9/dist-packages/xgboost/sklearn.py:835: UserWarning: `early_stopping_rounds` in `fit` method is deprecated for better compatibility with scikit-learn, use `early_stopping_rounds` in constructor or`set_params` instead.\n",
            "  warnings.warn(\n"
          ]
        },
        {
          "output_type": "stream",
          "name": "stdout",
          "text": [
            "[08:18:36] WARNING: ../src/learner.cc:767: \n",
            "Parameters: { \"folds\" } are not used.\n",
            "\n"
          ]
        },
        {
          "output_type": "stream",
          "name": "stderr",
          "text": [
            "\u001b[32m[I 2023-04-25 08:18:37,477]\u001b[0m Trial 75 finished with value: 1.4337863899534535 and parameters: {'lambda': 0.003077065819044924, 'alpha': 0.5797467125482171, 'colsample_bytree': 0.4, 'subsample': 0.4, 'learning_rate': 0.014, 'max_depth': 17, 'random_state': 24, 'min_child_weight': 7}. Best is trial 51 with value: 1.3912998772028544.\u001b[0m\n",
            "<ipython-input-50-9441937f327c>:7: FutureWarning: suggest_loguniform has been deprecated in v3.0.0. This feature will be removed in v6.0.0. See https://github.com/optuna/optuna/releases/tag/v3.0.0. Use :func:`~optuna.trial.Trial.suggest_float` instead.\n",
            "  'lambda': trial.suggest_loguniform('lambda', 1e-3, 10.0),\n",
            "<ipython-input-50-9441937f327c>:8: FutureWarning: suggest_loguniform has been deprecated in v3.0.0. This feature will be removed in v6.0.0. See https://github.com/optuna/optuna/releases/tag/v3.0.0. Use :func:`~optuna.trial.Trial.suggest_float` instead.\n",
            "  'alpha': trial.suggest_loguniform('alpha', 1e-3, 10.0),\n",
            "/usr/local/lib/python3.9/dist-packages/xgboost/sklearn.py:835: UserWarning: `early_stopping_rounds` in `fit` method is deprecated for better compatibility with scikit-learn, use `early_stopping_rounds` in constructor or`set_params` instead.\n",
            "  warnings.warn(\n"
          ]
        },
        {
          "output_type": "stream",
          "name": "stdout",
          "text": [
            "[08:18:37] WARNING: ../src/learner.cc:767: \n",
            "Parameters: { \"folds\" } are not used.\n",
            "\n"
          ]
        },
        {
          "output_type": "stream",
          "name": "stderr",
          "text": [
            "\u001b[32m[I 2023-04-25 08:18:38,442]\u001b[0m Trial 76 finished with value: 1.4315180405283472 and parameters: {'lambda': 0.0038573952835674386, 'alpha': 1.4863610176032374, 'colsample_bytree': 0.3, 'subsample': 0.4, 'learning_rate': 0.01, 'max_depth': 5, 'random_state': 24, 'min_child_weight': 25}. Best is trial 51 with value: 1.3912998772028544.\u001b[0m\n",
            "<ipython-input-50-9441937f327c>:7: FutureWarning: suggest_loguniform has been deprecated in v3.0.0. This feature will be removed in v6.0.0. See https://github.com/optuna/optuna/releases/tag/v3.0.0. Use :func:`~optuna.trial.Trial.suggest_float` instead.\n",
            "  'lambda': trial.suggest_loguniform('lambda', 1e-3, 10.0),\n",
            "<ipython-input-50-9441937f327c>:8: FutureWarning: suggest_loguniform has been deprecated in v3.0.0. This feature will be removed in v6.0.0. See https://github.com/optuna/optuna/releases/tag/v3.0.0. Use :func:`~optuna.trial.Trial.suggest_float` instead.\n",
            "  'alpha': trial.suggest_loguniform('alpha', 1e-3, 10.0),\n",
            "/usr/local/lib/python3.9/dist-packages/xgboost/sklearn.py:835: UserWarning: `early_stopping_rounds` in `fit` method is deprecated for better compatibility with scikit-learn, use `early_stopping_rounds` in constructor or`set_params` instead.\n",
            "  warnings.warn(\n"
          ]
        },
        {
          "output_type": "stream",
          "name": "stdout",
          "text": [
            "[08:18:38] WARNING: ../src/learner.cc:767: \n",
            "Parameters: { \"folds\" } are not used.\n",
            "\n"
          ]
        },
        {
          "output_type": "stream",
          "name": "stderr",
          "text": [
            "\u001b[32m[I 2023-04-25 08:18:39,118]\u001b[0m Trial 77 finished with value: 1.3944543155796638 and parameters: {'lambda': 0.004672199338576309, 'alpha': 3.644690261327746, 'colsample_bytree': 0.4, 'subsample': 1.0, 'learning_rate': 0.014, 'max_depth': 20, 'random_state': 48, 'min_child_weight': 40}. Best is trial 51 with value: 1.3912998772028544.\u001b[0m\n",
            "<ipython-input-50-9441937f327c>:7: FutureWarning: suggest_loguniform has been deprecated in v3.0.0. This feature will be removed in v6.0.0. See https://github.com/optuna/optuna/releases/tag/v3.0.0. Use :func:`~optuna.trial.Trial.suggest_float` instead.\n",
            "  'lambda': trial.suggest_loguniform('lambda', 1e-3, 10.0),\n",
            "<ipython-input-50-9441937f327c>:8: FutureWarning: suggest_loguniform has been deprecated in v3.0.0. This feature will be removed in v6.0.0. See https://github.com/optuna/optuna/releases/tag/v3.0.0. Use :func:`~optuna.trial.Trial.suggest_float` instead.\n",
            "  'alpha': trial.suggest_loguniform('alpha', 1e-3, 10.0),\n",
            "/usr/local/lib/python3.9/dist-packages/xgboost/sklearn.py:835: UserWarning: `early_stopping_rounds` in `fit` method is deprecated for better compatibility with scikit-learn, use `early_stopping_rounds` in constructor or`set_params` instead.\n",
            "  warnings.warn(\n"
          ]
        },
        {
          "output_type": "stream",
          "name": "stdout",
          "text": [
            "[08:18:39] WARNING: ../src/learner.cc:767: \n",
            "Parameters: { \"folds\" } are not used.\n",
            "\n"
          ]
        },
        {
          "output_type": "stream",
          "name": "stderr",
          "text": [
            "\u001b[32m[I 2023-04-25 08:18:39,916]\u001b[0m Trial 78 finished with value: 1.428980909333141 and parameters: {'lambda': 0.0026323238081284728, 'alpha': 4.139830984331314, 'colsample_bytree': 0.7, 'subsample': 1.0, 'learning_rate': 0.008, 'max_depth': 9, 'random_state': 48, 'min_child_weight': 43}. Best is trial 51 with value: 1.3912998772028544.\u001b[0m\n",
            "<ipython-input-50-9441937f327c>:7: FutureWarning: suggest_loguniform has been deprecated in v3.0.0. This feature will be removed in v6.0.0. See https://github.com/optuna/optuna/releases/tag/v3.0.0. Use :func:`~optuna.trial.Trial.suggest_float` instead.\n",
            "  'lambda': trial.suggest_loguniform('lambda', 1e-3, 10.0),\n",
            "<ipython-input-50-9441937f327c>:8: FutureWarning: suggest_loguniform has been deprecated in v3.0.0. This feature will be removed in v6.0.0. See https://github.com/optuna/optuna/releases/tag/v3.0.0. Use :func:`~optuna.trial.Trial.suggest_float` instead.\n",
            "  'alpha': trial.suggest_loguniform('alpha', 1e-3, 10.0),\n",
            "/usr/local/lib/python3.9/dist-packages/xgboost/sklearn.py:835: UserWarning: `early_stopping_rounds` in `fit` method is deprecated for better compatibility with scikit-learn, use `early_stopping_rounds` in constructor or`set_params` instead.\n",
            "  warnings.warn(\n"
          ]
        },
        {
          "output_type": "stream",
          "name": "stdout",
          "text": [
            "[08:18:39] WARNING: ../src/learner.cc:767: \n",
            "Parameters: { \"folds\" } are not used.\n",
            "\n"
          ]
        },
        {
          "output_type": "stream",
          "name": "stderr",
          "text": [
            "\u001b[32m[I 2023-04-25 08:18:41,331]\u001b[0m Trial 79 finished with value: 1.4977327239311338 and parameters: {'lambda': 0.0045148585828847934, 'alpha': 3.196046866326359, 'colsample_bytree': 0.4, 'subsample': 1.0, 'learning_rate': 0.009, 'max_depth': 15, 'random_state': 48, 'min_child_weight': 75}. Best is trial 51 with value: 1.3912998772028544.\u001b[0m\n",
            "<ipython-input-50-9441937f327c>:7: FutureWarning: suggest_loguniform has been deprecated in v3.0.0. This feature will be removed in v6.0.0. See https://github.com/optuna/optuna/releases/tag/v3.0.0. Use :func:`~optuna.trial.Trial.suggest_float` instead.\n",
            "  'lambda': trial.suggest_loguniform('lambda', 1e-3, 10.0),\n",
            "<ipython-input-50-9441937f327c>:8: FutureWarning: suggest_loguniform has been deprecated in v3.0.0. This feature will be removed in v6.0.0. See https://github.com/optuna/optuna/releases/tag/v3.0.0. Use :func:`~optuna.trial.Trial.suggest_float` instead.\n",
            "  'alpha': trial.suggest_loguniform('alpha', 1e-3, 10.0),\n",
            "/usr/local/lib/python3.9/dist-packages/xgboost/sklearn.py:835: UserWarning: `early_stopping_rounds` in `fit` method is deprecated for better compatibility with scikit-learn, use `early_stopping_rounds` in constructor or`set_params` instead.\n",
            "  warnings.warn(\n"
          ]
        },
        {
          "output_type": "stream",
          "name": "stdout",
          "text": [
            "[08:18:41] WARNING: ../src/learner.cc:767: \n",
            "Parameters: { \"folds\" } are not used.\n",
            "\n"
          ]
        },
        {
          "output_type": "stream",
          "name": "stderr",
          "text": [
            "\u001b[32m[I 2023-04-25 08:18:44,317]\u001b[0m Trial 80 finished with value: 1.4098159476323593 and parameters: {'lambda': 0.0018538967959715628, 'alpha': 1.998285110099321, 'colsample_bytree': 0.4, 'subsample': 1.0, 'learning_rate': 0.014, 'max_depth': 20, 'random_state': 48, 'min_child_weight': 35}. Best is trial 51 with value: 1.3912998772028544.\u001b[0m\n",
            "<ipython-input-50-9441937f327c>:7: FutureWarning: suggest_loguniform has been deprecated in v3.0.0. This feature will be removed in v6.0.0. See https://github.com/optuna/optuna/releases/tag/v3.0.0. Use :func:`~optuna.trial.Trial.suggest_float` instead.\n",
            "  'lambda': trial.suggest_loguniform('lambda', 1e-3, 10.0),\n",
            "<ipython-input-50-9441937f327c>:8: FutureWarning: suggest_loguniform has been deprecated in v3.0.0. This feature will be removed in v6.0.0. See https://github.com/optuna/optuna/releases/tag/v3.0.0. Use :func:`~optuna.trial.Trial.suggest_float` instead.\n",
            "  'alpha': trial.suggest_loguniform('alpha', 1e-3, 10.0),\n",
            "/usr/local/lib/python3.9/dist-packages/xgboost/sklearn.py:835: UserWarning: `early_stopping_rounds` in `fit` method is deprecated for better compatibility with scikit-learn, use `early_stopping_rounds` in constructor or`set_params` instead.\n",
            "  warnings.warn(\n"
          ]
        },
        {
          "output_type": "stream",
          "name": "stdout",
          "text": [
            "[08:18:44] WARNING: ../src/learner.cc:767: \n",
            "Parameters: { \"folds\" } are not used.\n",
            "\n"
          ]
        },
        {
          "output_type": "stream",
          "name": "stderr",
          "text": [
            "\u001b[32m[I 2023-04-25 08:18:45,113]\u001b[0m Trial 81 finished with value: 1.420808435111843 and parameters: {'lambda': 0.0071348118755946216, 'alpha': 7.611642483593658, 'colsample_bytree': 0.4, 'subsample': 0.6, 'learning_rate': 0.014, 'max_depth': 20, 'random_state': 48, 'min_child_weight': 20}. Best is trial 51 with value: 1.3912998772028544.\u001b[0m\n",
            "<ipython-input-50-9441937f327c>:7: FutureWarning: suggest_loguniform has been deprecated in v3.0.0. This feature will be removed in v6.0.0. See https://github.com/optuna/optuna/releases/tag/v3.0.0. Use :func:`~optuna.trial.Trial.suggest_float` instead.\n",
            "  'lambda': trial.suggest_loguniform('lambda', 1e-3, 10.0),\n",
            "<ipython-input-50-9441937f327c>:8: FutureWarning: suggest_loguniform has been deprecated in v3.0.0. This feature will be removed in v6.0.0. See https://github.com/optuna/optuna/releases/tag/v3.0.0. Use :func:`~optuna.trial.Trial.suggest_float` instead.\n",
            "  'alpha': trial.suggest_loguniform('alpha', 1e-3, 10.0),\n",
            "/usr/local/lib/python3.9/dist-packages/xgboost/sklearn.py:835: UserWarning: `early_stopping_rounds` in `fit` method is deprecated for better compatibility with scikit-learn, use `early_stopping_rounds` in constructor or`set_params` instead.\n",
            "  warnings.warn(\n"
          ]
        },
        {
          "output_type": "stream",
          "name": "stdout",
          "text": [
            "[08:18:45] WARNING: ../src/learner.cc:767: \n",
            "Parameters: { \"folds\" } are not used.\n",
            "\n"
          ]
        },
        {
          "output_type": "stream",
          "name": "stderr",
          "text": [
            "\u001b[32m[I 2023-04-25 08:18:45,919]\u001b[0m Trial 82 finished with value: 1.405637519131779 and parameters: {'lambda': 0.0029177163296901752, 'alpha': 0.7710177305554774, 'colsample_bytree': 0.4, 'subsample': 0.8, 'learning_rate': 0.014, 'max_depth': 20, 'random_state': 48, 'min_child_weight': 11}. Best is trial 51 with value: 1.3912998772028544.\u001b[0m\n",
            "<ipython-input-50-9441937f327c>:7: FutureWarning: suggest_loguniform has been deprecated in v3.0.0. This feature will be removed in v6.0.0. See https://github.com/optuna/optuna/releases/tag/v3.0.0. Use :func:`~optuna.trial.Trial.suggest_float` instead.\n",
            "  'lambda': trial.suggest_loguniform('lambda', 1e-3, 10.0),\n",
            "<ipython-input-50-9441937f327c>:8: FutureWarning: suggest_loguniform has been deprecated in v3.0.0. This feature will be removed in v6.0.0. See https://github.com/optuna/optuna/releases/tag/v3.0.0. Use :func:`~optuna.trial.Trial.suggest_float` instead.\n",
            "  'alpha': trial.suggest_loguniform('alpha', 1e-3, 10.0),\n",
            "/usr/local/lib/python3.9/dist-packages/xgboost/sklearn.py:835: UserWarning: `early_stopping_rounds` in `fit` method is deprecated for better compatibility with scikit-learn, use `early_stopping_rounds` in constructor or`set_params` instead.\n",
            "  warnings.warn(\n"
          ]
        },
        {
          "output_type": "stream",
          "name": "stdout",
          "text": [
            "[08:18:45] WARNING: ../src/learner.cc:767: \n",
            "Parameters: { \"folds\" } are not used.\n",
            "\n"
          ]
        },
        {
          "output_type": "stream",
          "name": "stderr",
          "text": [
            "\u001b[32m[I 2023-04-25 08:18:46,714]\u001b[0m Trial 83 finished with value: 1.403504798083882 and parameters: {'lambda': 0.005428379881034736, 'alpha': 1.1491856007083292, 'colsample_bytree': 0.4, 'subsample': 1.0, 'learning_rate': 0.014, 'max_depth': 20, 'random_state': 24, 'min_child_weight': 7}. Best is trial 51 with value: 1.3912998772028544.\u001b[0m\n",
            "<ipython-input-50-9441937f327c>:7: FutureWarning: suggest_loguniform has been deprecated in v3.0.0. This feature will be removed in v6.0.0. See https://github.com/optuna/optuna/releases/tag/v3.0.0. Use :func:`~optuna.trial.Trial.suggest_float` instead.\n",
            "  'lambda': trial.suggest_loguniform('lambda', 1e-3, 10.0),\n",
            "<ipython-input-50-9441937f327c>:8: FutureWarning: suggest_loguniform has been deprecated in v3.0.0. This feature will be removed in v6.0.0. See https://github.com/optuna/optuna/releases/tag/v3.0.0. Use :func:`~optuna.trial.Trial.suggest_float` instead.\n",
            "  'alpha': trial.suggest_loguniform('alpha', 1e-3, 10.0),\n",
            "/usr/local/lib/python3.9/dist-packages/xgboost/sklearn.py:835: UserWarning: `early_stopping_rounds` in `fit` method is deprecated for better compatibility with scikit-learn, use `early_stopping_rounds` in constructor or`set_params` instead.\n",
            "  warnings.warn(\n"
          ]
        },
        {
          "output_type": "stream",
          "name": "stdout",
          "text": [
            "[08:18:46] WARNING: ../src/learner.cc:767: \n",
            "Parameters: { \"folds\" } are not used.\n",
            "\n"
          ]
        },
        {
          "output_type": "stream",
          "name": "stderr",
          "text": [
            "\u001b[32m[I 2023-04-25 08:18:47,223]\u001b[0m Trial 84 finished with value: 1.705340077718632 and parameters: {'lambda': 0.004278265083025971, 'alpha': 2.50286606521546, 'colsample_bytree': 0.5, 'subsample': 0.4, 'learning_rate': 0.014, 'max_depth': 20, 'random_state': 24, 'min_child_weight': 56}. Best is trial 51 with value: 1.3912998772028544.\u001b[0m\n",
            "<ipython-input-50-9441937f327c>:7: FutureWarning: suggest_loguniform has been deprecated in v3.0.0. This feature will be removed in v6.0.0. See https://github.com/optuna/optuna/releases/tag/v3.0.0. Use :func:`~optuna.trial.Trial.suggest_float` instead.\n",
            "  'lambda': trial.suggest_loguniform('lambda', 1e-3, 10.0),\n",
            "<ipython-input-50-9441937f327c>:8: FutureWarning: suggest_loguniform has been deprecated in v3.0.0. This feature will be removed in v6.0.0. See https://github.com/optuna/optuna/releases/tag/v3.0.0. Use :func:`~optuna.trial.Trial.suggest_float` instead.\n",
            "  'alpha': trial.suggest_loguniform('alpha', 1e-3, 10.0),\n",
            "/usr/local/lib/python3.9/dist-packages/xgboost/sklearn.py:835: UserWarning: `early_stopping_rounds` in `fit` method is deprecated for better compatibility with scikit-learn, use `early_stopping_rounds` in constructor or`set_params` instead.\n",
            "  warnings.warn(\n"
          ]
        },
        {
          "output_type": "stream",
          "name": "stdout",
          "text": [
            "[08:18:47] WARNING: ../src/learner.cc:767: \n",
            "Parameters: { \"folds\" } are not used.\n",
            "\n"
          ]
        },
        {
          "output_type": "stream",
          "name": "stderr",
          "text": [
            "\u001b[32m[I 2023-04-25 08:18:47,821]\u001b[0m Trial 85 finished with value: 1.3944468367088303 and parameters: {'lambda': 0.0021999067823351435, 'alpha': 1.8001758430342236, 'colsample_bytree': 0.4, 'subsample': 0.4, 'learning_rate': 0.02, 'max_depth': 20, 'random_state': 24, 'min_child_weight': 22}. Best is trial 51 with value: 1.3912998772028544.\u001b[0m\n",
            "<ipython-input-50-9441937f327c>:7: FutureWarning: suggest_loguniform has been deprecated in v3.0.0. This feature will be removed in v6.0.0. See https://github.com/optuna/optuna/releases/tag/v3.0.0. Use :func:`~optuna.trial.Trial.suggest_float` instead.\n",
            "  'lambda': trial.suggest_loguniform('lambda', 1e-3, 10.0),\n",
            "<ipython-input-50-9441937f327c>:8: FutureWarning: suggest_loguniform has been deprecated in v3.0.0. This feature will be removed in v6.0.0. See https://github.com/optuna/optuna/releases/tag/v3.0.0. Use :func:`~optuna.trial.Trial.suggest_float` instead.\n",
            "  'alpha': trial.suggest_loguniform('alpha', 1e-3, 10.0),\n",
            "/usr/local/lib/python3.9/dist-packages/xgboost/sklearn.py:835: UserWarning: `early_stopping_rounds` in `fit` method is deprecated for better compatibility with scikit-learn, use `early_stopping_rounds` in constructor or`set_params` instead.\n",
            "  warnings.warn(\n"
          ]
        },
        {
          "output_type": "stream",
          "name": "stdout",
          "text": [
            "[08:18:47] WARNING: ../src/learner.cc:767: \n",
            "Parameters: { \"folds\" } are not used.\n",
            "\n"
          ]
        },
        {
          "output_type": "stream",
          "name": "stderr",
          "text": [
            "\u001b[32m[I 2023-04-25 08:18:48,306]\u001b[0m Trial 86 finished with value: 1.4595215487900604 and parameters: {'lambda': 0.0014134523309925126, 'alpha': 1.6668439348585704, 'colsample_bytree': 0.4, 'subsample': 0.4, 'learning_rate': 0.02, 'max_depth': 5, 'random_state': 2020, 'min_child_weight': 1}. Best is trial 51 with value: 1.3912998772028544.\u001b[0m\n",
            "<ipython-input-50-9441937f327c>:7: FutureWarning: suggest_loguniform has been deprecated in v3.0.0. This feature will be removed in v6.0.0. See https://github.com/optuna/optuna/releases/tag/v3.0.0. Use :func:`~optuna.trial.Trial.suggest_float` instead.\n",
            "  'lambda': trial.suggest_loguniform('lambda', 1e-3, 10.0),\n",
            "<ipython-input-50-9441937f327c>:8: FutureWarning: suggest_loguniform has been deprecated in v3.0.0. This feature will be removed in v6.0.0. See https://github.com/optuna/optuna/releases/tag/v3.0.0. Use :func:`~optuna.trial.Trial.suggest_float` instead.\n",
            "  'alpha': trial.suggest_loguniform('alpha', 1e-3, 10.0),\n",
            "/usr/local/lib/python3.9/dist-packages/xgboost/sklearn.py:835: UserWarning: `early_stopping_rounds` in `fit` method is deprecated for better compatibility with scikit-learn, use `early_stopping_rounds` in constructor or`set_params` instead.\n",
            "  warnings.warn(\n"
          ]
        },
        {
          "output_type": "stream",
          "name": "stdout",
          "text": [
            "[08:18:48] WARNING: ../src/learner.cc:767: \n",
            "Parameters: { \"folds\" } are not used.\n",
            "\n"
          ]
        },
        {
          "output_type": "stream",
          "name": "stderr",
          "text": [
            "\u001b[32m[I 2023-04-25 08:18:48,803]\u001b[0m Trial 87 finished with value: 1.455707153287045 and parameters: {'lambda': 0.002123920320158284, 'alpha': 3.684501858822686, 'colsample_bytree': 1.0, 'subsample': 0.4, 'learning_rate': 0.02, 'max_depth': 20, 'random_state': 24, 'min_child_weight': 30}. Best is trial 51 with value: 1.3912998772028544.\u001b[0m\n",
            "<ipython-input-50-9441937f327c>:7: FutureWarning: suggest_loguniform has been deprecated in v3.0.0. This feature will be removed in v6.0.0. See https://github.com/optuna/optuna/releases/tag/v3.0.0. Use :func:`~optuna.trial.Trial.suggest_float` instead.\n",
            "  'lambda': trial.suggest_loguniform('lambda', 1e-3, 10.0),\n",
            "<ipython-input-50-9441937f327c>:8: FutureWarning: suggest_loguniform has been deprecated in v3.0.0. This feature will be removed in v6.0.0. See https://github.com/optuna/optuna/releases/tag/v3.0.0. Use :func:`~optuna.trial.Trial.suggest_float` instead.\n",
            "  'alpha': trial.suggest_loguniform('alpha', 1e-3, 10.0),\n",
            "/usr/local/lib/python3.9/dist-packages/xgboost/sklearn.py:835: UserWarning: `early_stopping_rounds` in `fit` method is deprecated for better compatibility with scikit-learn, use `early_stopping_rounds` in constructor or`set_params` instead.\n",
            "  warnings.warn(\n"
          ]
        },
        {
          "output_type": "stream",
          "name": "stdout",
          "text": [
            "[08:18:48] WARNING: ../src/learner.cc:767: \n",
            "Parameters: { \"folds\" } are not used.\n",
            "\n"
          ]
        },
        {
          "output_type": "stream",
          "name": "stderr",
          "text": [
            "\u001b[32m[I 2023-04-25 08:18:49,593]\u001b[0m Trial 88 finished with value: 1.3967917344091485 and parameters: {'lambda': 0.0025625213563139223, 'alpha': 2.413248168050375, 'colsample_bytree': 0.4, 'subsample': 0.5, 'learning_rate': 0.012, 'max_depth': 11, 'random_state': 48, 'min_child_weight': 23}. Best is trial 51 with value: 1.3912998772028544.\u001b[0m\n",
            "<ipython-input-50-9441937f327c>:7: FutureWarning: suggest_loguniform has been deprecated in v3.0.0. This feature will be removed in v6.0.0. See https://github.com/optuna/optuna/releases/tag/v3.0.0. Use :func:`~optuna.trial.Trial.suggest_float` instead.\n",
            "  'lambda': trial.suggest_loguniform('lambda', 1e-3, 10.0),\n",
            "<ipython-input-50-9441937f327c>:8: FutureWarning: suggest_loguniform has been deprecated in v3.0.0. This feature will be removed in v6.0.0. See https://github.com/optuna/optuna/releases/tag/v3.0.0. Use :func:`~optuna.trial.Trial.suggest_float` instead.\n",
            "  'alpha': trial.suggest_loguniform('alpha', 1e-3, 10.0),\n",
            "/usr/local/lib/python3.9/dist-packages/xgboost/sklearn.py:835: UserWarning: `early_stopping_rounds` in `fit` method is deprecated for better compatibility with scikit-learn, use `early_stopping_rounds` in constructor or`set_params` instead.\n",
            "  warnings.warn(\n"
          ]
        },
        {
          "output_type": "stream",
          "name": "stdout",
          "text": [
            "[08:18:49] WARNING: ../src/learner.cc:767: \n",
            "Parameters: { \"folds\" } are not used.\n",
            "\n"
          ]
        },
        {
          "output_type": "stream",
          "name": "stderr",
          "text": [
            "\u001b[32m[I 2023-04-25 08:18:50,308]\u001b[0m Trial 89 finished with value: 1.402136156558521 and parameters: {'lambda': 0.0016257866674745697, 'alpha': 2.621873685309087, 'colsample_bytree': 0.4, 'subsample': 0.5, 'learning_rate': 0.012, 'max_depth': 17, 'random_state': 48, 'min_child_weight': 21}. Best is trial 51 with value: 1.3912998772028544.\u001b[0m\n",
            "<ipython-input-50-9441937f327c>:7: FutureWarning: suggest_loguniform has been deprecated in v3.0.0. This feature will be removed in v6.0.0. See https://github.com/optuna/optuna/releases/tag/v3.0.0. Use :func:`~optuna.trial.Trial.suggest_float` instead.\n",
            "  'lambda': trial.suggest_loguniform('lambda', 1e-3, 10.0),\n",
            "<ipython-input-50-9441937f327c>:8: FutureWarning: suggest_loguniform has been deprecated in v3.0.0. This feature will be removed in v6.0.0. See https://github.com/optuna/optuna/releases/tag/v3.0.0. Use :func:`~optuna.trial.Trial.suggest_float` instead.\n",
            "  'alpha': trial.suggest_loguniform('alpha', 1e-3, 10.0),\n",
            "/usr/local/lib/python3.9/dist-packages/xgboost/sklearn.py:835: UserWarning: `early_stopping_rounds` in `fit` method is deprecated for better compatibility with scikit-learn, use `early_stopping_rounds` in constructor or`set_params` instead.\n",
            "  warnings.warn(\n"
          ]
        },
        {
          "output_type": "stream",
          "name": "stdout",
          "text": [
            "[08:18:50] WARNING: ../src/learner.cc:767: \n",
            "Parameters: { \"folds\" } are not used.\n",
            "\n"
          ]
        },
        {
          "output_type": "stream",
          "name": "stderr",
          "text": [
            "\u001b[32m[I 2023-04-25 08:18:51,029]\u001b[0m Trial 90 finished with value: 1.4768564394636914 and parameters: {'lambda': 0.002525555244521836, 'alpha': 6.0481108967089545, 'colsample_bytree': 0.8, 'subsample': 0.5, 'learning_rate': 0.012, 'max_depth': 11, 'random_state': 48, 'min_child_weight': 40}. Best is trial 51 with value: 1.3912998772028544.\u001b[0m\n",
            "<ipython-input-50-9441937f327c>:7: FutureWarning: suggest_loguniform has been deprecated in v3.0.0. This feature will be removed in v6.0.0. See https://github.com/optuna/optuna/releases/tag/v3.0.0. Use :func:`~optuna.trial.Trial.suggest_float` instead.\n",
            "  'lambda': trial.suggest_loguniform('lambda', 1e-3, 10.0),\n",
            "<ipython-input-50-9441937f327c>:8: FutureWarning: suggest_loguniform has been deprecated in v3.0.0. This feature will be removed in v6.0.0. See https://github.com/optuna/optuna/releases/tag/v3.0.0. Use :func:`~optuna.trial.Trial.suggest_float` instead.\n",
            "  'alpha': trial.suggest_loguniform('alpha', 1e-3, 10.0),\n",
            "/usr/local/lib/python3.9/dist-packages/xgboost/sklearn.py:835: UserWarning: `early_stopping_rounds` in `fit` method is deprecated for better compatibility with scikit-learn, use `early_stopping_rounds` in constructor or`set_params` instead.\n",
            "  warnings.warn(\n"
          ]
        },
        {
          "output_type": "stream",
          "name": "stdout",
          "text": [
            "[08:18:51] WARNING: ../src/learner.cc:767: \n",
            "Parameters: { \"folds\" } are not used.\n",
            "\n"
          ]
        },
        {
          "output_type": "stream",
          "name": "stderr",
          "text": [
            "\u001b[32m[I 2023-04-25 08:18:51,714]\u001b[0m Trial 91 finished with value: 1.4321375072333207 and parameters: {'lambda': 0.0035619951215754703, 'alpha': 0.8789445771547428, 'colsample_bytree': 0.4, 'subsample': 0.4, 'learning_rate': 0.02, 'max_depth': 11, 'random_state': 48, 'min_child_weight': 25}. Best is trial 51 with value: 1.3912998772028544.\u001b[0m\n",
            "<ipython-input-50-9441937f327c>:7: FutureWarning: suggest_loguniform has been deprecated in v3.0.0. This feature will be removed in v6.0.0. See https://github.com/optuna/optuna/releases/tag/v3.0.0. Use :func:`~optuna.trial.Trial.suggest_float` instead.\n",
            "  'lambda': trial.suggest_loguniform('lambda', 1e-3, 10.0),\n",
            "<ipython-input-50-9441937f327c>:8: FutureWarning: suggest_loguniform has been deprecated in v3.0.0. This feature will be removed in v6.0.0. See https://github.com/optuna/optuna/releases/tag/v3.0.0. Use :func:`~optuna.trial.Trial.suggest_float` instead.\n",
            "  'alpha': trial.suggest_loguniform('alpha', 1e-3, 10.0),\n",
            "/usr/local/lib/python3.9/dist-packages/xgboost/sklearn.py:835: UserWarning: `early_stopping_rounds` in `fit` method is deprecated for better compatibility with scikit-learn, use `early_stopping_rounds` in constructor or`set_params` instead.\n",
            "  warnings.warn(\n"
          ]
        },
        {
          "output_type": "stream",
          "name": "stdout",
          "text": [
            "[08:18:51] WARNING: ../src/learner.cc:767: \n",
            "Parameters: { \"folds\" } are not used.\n",
            "\n"
          ]
        },
        {
          "output_type": "stream",
          "name": "stderr",
          "text": [
            "\u001b[32m[I 2023-04-25 08:18:52,422]\u001b[0m Trial 92 finished with value: 1.501292431318039 and parameters: {'lambda': 0.0020639497263734456, 'alpha': 1.6185974504291998, 'colsample_bytree': 0.4, 'subsample': 0.4, 'learning_rate': 0.012, 'max_depth': 11, 'random_state': 48, 'min_child_weight': 34}. Best is trial 51 with value: 1.3912998772028544.\u001b[0m\n",
            "<ipython-input-50-9441937f327c>:7: FutureWarning: suggest_loguniform has been deprecated in v3.0.0. This feature will be removed in v6.0.0. See https://github.com/optuna/optuna/releases/tag/v3.0.0. Use :func:`~optuna.trial.Trial.suggest_float` instead.\n",
            "  'lambda': trial.suggest_loguniform('lambda', 1e-3, 10.0),\n",
            "<ipython-input-50-9441937f327c>:8: FutureWarning: suggest_loguniform has been deprecated in v3.0.0. This feature will be removed in v6.0.0. See https://github.com/optuna/optuna/releases/tag/v3.0.0. Use :func:`~optuna.trial.Trial.suggest_float` instead.\n",
            "  'alpha': trial.suggest_loguniform('alpha', 1e-3, 10.0),\n",
            "/usr/local/lib/python3.9/dist-packages/xgboost/sklearn.py:835: UserWarning: `early_stopping_rounds` in `fit` method is deprecated for better compatibility with scikit-learn, use `early_stopping_rounds` in constructor or`set_params` instead.\n",
            "  warnings.warn(\n"
          ]
        },
        {
          "output_type": "stream",
          "name": "stdout",
          "text": [
            "[08:18:52] WARNING: ../src/learner.cc:767: \n",
            "Parameters: { \"folds\" } are not used.\n",
            "\n"
          ]
        },
        {
          "output_type": "stream",
          "name": "stderr",
          "text": [
            "\u001b[32m[I 2023-04-25 08:18:52,932]\u001b[0m Trial 93 finished with value: 1.3977778422705267 and parameters: {'lambda': 0.0026369395757463495, 'alpha': 1.2849843756732602, 'colsample_bytree': 0.4, 'subsample': 0.5, 'learning_rate': 0.02, 'max_depth': 20, 'random_state': 24, 'min_child_weight': 19}. Best is trial 51 with value: 1.3912998772028544.\u001b[0m\n",
            "<ipython-input-50-9441937f327c>:7: FutureWarning: suggest_loguniform has been deprecated in v3.0.0. This feature will be removed in v6.0.0. See https://github.com/optuna/optuna/releases/tag/v3.0.0. Use :func:`~optuna.trial.Trial.suggest_float` instead.\n",
            "  'lambda': trial.suggest_loguniform('lambda', 1e-3, 10.0),\n",
            "<ipython-input-50-9441937f327c>:8: FutureWarning: suggest_loguniform has been deprecated in v3.0.0. This feature will be removed in v6.0.0. See https://github.com/optuna/optuna/releases/tag/v3.0.0. Use :func:`~optuna.trial.Trial.suggest_float` instead.\n",
            "  'alpha': trial.suggest_loguniform('alpha', 1e-3, 10.0),\n",
            "/usr/local/lib/python3.9/dist-packages/xgboost/sklearn.py:835: UserWarning: `early_stopping_rounds` in `fit` method is deprecated for better compatibility with scikit-learn, use `early_stopping_rounds` in constructor or`set_params` instead.\n",
            "  warnings.warn(\n"
          ]
        },
        {
          "output_type": "stream",
          "name": "stdout",
          "text": [
            "[08:18:52] WARNING: ../src/learner.cc:767: \n",
            "Parameters: { \"folds\" } are not used.\n",
            "\n"
          ]
        },
        {
          "output_type": "stream",
          "name": "stderr",
          "text": [
            "\u001b[32m[I 2023-04-25 08:18:53,538]\u001b[0m Trial 94 finished with value: 1.4176354298595295 and parameters: {'lambda': 0.0029574799458234624, 'alpha': 2.2094414846384645, 'colsample_bytree': 0.4, 'subsample': 0.5, 'learning_rate': 0.02, 'max_depth': 11, 'random_state': 48, 'min_child_weight': 21}. Best is trial 51 with value: 1.3912998772028544.\u001b[0m\n",
            "<ipython-input-50-9441937f327c>:7: FutureWarning: suggest_loguniform has been deprecated in v3.0.0. This feature will be removed in v6.0.0. See https://github.com/optuna/optuna/releases/tag/v3.0.0. Use :func:`~optuna.trial.Trial.suggest_float` instead.\n",
            "  'lambda': trial.suggest_loguniform('lambda', 1e-3, 10.0),\n",
            "<ipython-input-50-9441937f327c>:8: FutureWarning: suggest_loguniform has been deprecated in v3.0.0. This feature will be removed in v6.0.0. See https://github.com/optuna/optuna/releases/tag/v3.0.0. Use :func:`~optuna.trial.Trial.suggest_float` instead.\n",
            "  'alpha': trial.suggest_loguniform('alpha', 1e-3, 10.0),\n",
            "/usr/local/lib/python3.9/dist-packages/xgboost/sklearn.py:835: UserWarning: `early_stopping_rounds` in `fit` method is deprecated for better compatibility with scikit-learn, use `early_stopping_rounds` in constructor or`set_params` instead.\n",
            "  warnings.warn(\n"
          ]
        },
        {
          "output_type": "stream",
          "name": "stdout",
          "text": [
            "[08:18:53] WARNING: ../src/learner.cc:767: \n",
            "Parameters: { \"folds\" } are not used.\n",
            "\n"
          ]
        },
        {
          "output_type": "stream",
          "name": "stderr",
          "text": [
            "\u001b[32m[I 2023-04-25 08:18:54,341]\u001b[0m Trial 95 finished with value: 1.5241550404343378 and parameters: {'lambda': 0.0012576098779345378, 'alpha': 0.4933878732077086, 'colsample_bytree': 0.4, 'subsample': 0.5, 'learning_rate': 0.02, 'max_depth': 20, 'random_state': 24, 'min_child_weight': 48}. Best is trial 51 with value: 1.3912998772028544.\u001b[0m\n",
            "<ipython-input-50-9441937f327c>:7: FutureWarning: suggest_loguniform has been deprecated in v3.0.0. This feature will be removed in v6.0.0. See https://github.com/optuna/optuna/releases/tag/v3.0.0. Use :func:`~optuna.trial.Trial.suggest_float` instead.\n",
            "  'lambda': trial.suggest_loguniform('lambda', 1e-3, 10.0),\n",
            "<ipython-input-50-9441937f327c>:8: FutureWarning: suggest_loguniform has been deprecated in v3.0.0. This feature will be removed in v6.0.0. See https://github.com/optuna/optuna/releases/tag/v3.0.0. Use :func:`~optuna.trial.Trial.suggest_float` instead.\n",
            "  'alpha': trial.suggest_loguniform('alpha', 1e-3, 10.0),\n",
            "/usr/local/lib/python3.9/dist-packages/xgboost/sklearn.py:835: UserWarning: `early_stopping_rounds` in `fit` method is deprecated for better compatibility with scikit-learn, use `early_stopping_rounds` in constructor or`set_params` instead.\n",
            "  warnings.warn(\n"
          ]
        },
        {
          "output_type": "stream",
          "name": "stdout",
          "text": [
            "[08:18:54] WARNING: ../src/learner.cc:767: \n",
            "Parameters: { \"folds\" } are not used.\n",
            "\n"
          ]
        },
        {
          "output_type": "stream",
          "name": "stderr",
          "text": [
            "\u001b[32m[I 2023-04-25 08:18:57,280]\u001b[0m Trial 96 finished with value: 1.4096207527565072 and parameters: {'lambda': 0.0017491234289612515, 'alpha': 1.833957708549992, 'colsample_bytree': 0.3, 'subsample': 0.5, 'learning_rate': 0.02, 'max_depth': 5, 'random_state': 24, 'min_child_weight': 7}. Best is trial 51 with value: 1.3912998772028544.\u001b[0m\n",
            "<ipython-input-50-9441937f327c>:7: FutureWarning: suggest_loguniform has been deprecated in v3.0.0. This feature will be removed in v6.0.0. See https://github.com/optuna/optuna/releases/tag/v3.0.0. Use :func:`~optuna.trial.Trial.suggest_float` instead.\n",
            "  'lambda': trial.suggest_loguniform('lambda', 1e-3, 10.0),\n",
            "<ipython-input-50-9441937f327c>:8: FutureWarning: suggest_loguniform has been deprecated in v3.0.0. This feature will be removed in v6.0.0. See https://github.com/optuna/optuna/releases/tag/v3.0.0. Use :func:`~optuna.trial.Trial.suggest_float` instead.\n",
            "  'alpha': trial.suggest_loguniform('alpha', 1e-3, 10.0),\n",
            "/usr/local/lib/python3.9/dist-packages/xgboost/sklearn.py:835: UserWarning: `early_stopping_rounds` in `fit` method is deprecated for better compatibility with scikit-learn, use `early_stopping_rounds` in constructor or`set_params` instead.\n",
            "  warnings.warn(\n"
          ]
        },
        {
          "output_type": "stream",
          "name": "stdout",
          "text": [
            "[08:18:57] WARNING: ../src/learner.cc:767: \n",
            "Parameters: { \"folds\" } are not used.\n",
            "\n"
          ]
        },
        {
          "output_type": "stream",
          "name": "stderr",
          "text": [
            "\u001b[32m[I 2023-04-25 08:18:58,197]\u001b[0m Trial 97 finished with value: 2.434396945164302 and parameters: {'lambda': 0.002331865823004493, 'alpha': 1.3256313246237352, 'colsample_bytree': 0.7, 'subsample': 0.5, 'learning_rate': 0.02, 'max_depth': 7, 'random_state': 24, 'min_child_weight': 191}. Best is trial 51 with value: 1.3912998772028544.\u001b[0m\n",
            "<ipython-input-50-9441937f327c>:7: FutureWarning: suggest_loguniform has been deprecated in v3.0.0. This feature will be removed in v6.0.0. See https://github.com/optuna/optuna/releases/tag/v3.0.0. Use :func:`~optuna.trial.Trial.suggest_float` instead.\n",
            "  'lambda': trial.suggest_loguniform('lambda', 1e-3, 10.0),\n",
            "<ipython-input-50-9441937f327c>:8: FutureWarning: suggest_loguniform has been deprecated in v3.0.0. This feature will be removed in v6.0.0. See https://github.com/optuna/optuna/releases/tag/v3.0.0. Use :func:`~optuna.trial.Trial.suggest_float` instead.\n",
            "  'alpha': trial.suggest_loguniform('alpha', 1e-3, 10.0),\n",
            "/usr/local/lib/python3.9/dist-packages/xgboost/sklearn.py:835: UserWarning: `early_stopping_rounds` in `fit` method is deprecated for better compatibility with scikit-learn, use `early_stopping_rounds` in constructor or`set_params` instead.\n",
            "  warnings.warn(\n"
          ]
        },
        {
          "output_type": "stream",
          "name": "stdout",
          "text": [
            "[08:18:58] WARNING: ../src/learner.cc:767: \n",
            "Parameters: { \"folds\" } are not used.\n",
            "\n"
          ]
        },
        {
          "output_type": "stream",
          "name": "stderr",
          "text": [
            "\u001b[32m[I 2023-04-25 08:18:59,116]\u001b[0m Trial 98 finished with value: 1.5698446793191152 and parameters: {'lambda': 0.003194495174359373, 'alpha': 0.6373334050169919, 'colsample_bytree': 0.4, 'subsample': 0.5, 'learning_rate': 0.016, 'max_depth': 20, 'random_state': 24, 'min_child_weight': 57}. Best is trial 51 with value: 1.3912998772028544.\u001b[0m\n",
            "<ipython-input-50-9441937f327c>:7: FutureWarning: suggest_loguniform has been deprecated in v3.0.0. This feature will be removed in v6.0.0. See https://github.com/optuna/optuna/releases/tag/v3.0.0. Use :func:`~optuna.trial.Trial.suggest_float` instead.\n",
            "  'lambda': trial.suggest_loguniform('lambda', 1e-3, 10.0),\n",
            "<ipython-input-50-9441937f327c>:8: FutureWarning: suggest_loguniform has been deprecated in v3.0.0. This feature will be removed in v6.0.0. See https://github.com/optuna/optuna/releases/tag/v3.0.0. Use :func:`~optuna.trial.Trial.suggest_float` instead.\n",
            "  'alpha': trial.suggest_loguniform('alpha', 1e-3, 10.0),\n",
            "/usr/local/lib/python3.9/dist-packages/xgboost/sklearn.py:835: UserWarning: `early_stopping_rounds` in `fit` method is deprecated for better compatibility with scikit-learn, use `early_stopping_rounds` in constructor or`set_params` instead.\n",
            "  warnings.warn(\n"
          ]
        },
        {
          "output_type": "stream",
          "name": "stdout",
          "text": [
            "[08:18:59] WARNING: ../src/learner.cc:767: \n",
            "Parameters: { \"folds\" } are not used.\n",
            "\n"
          ]
        },
        {
          "output_type": "stream",
          "name": "stderr",
          "text": [
            "\u001b[32m[I 2023-04-25 08:18:59,635]\u001b[0m Trial 99 finished with value: 2.4344653654484567 and parameters: {'lambda': 0.0016015309219615018, 'alpha': 0.8666190708417577, 'colsample_bytree': 0.4, 'subsample': 1.0, 'learning_rate': 0.018, 'max_depth': 5, 'random_state': 48, 'min_child_weight': 295}. Best is trial 51 with value: 1.3912998772028544.\u001b[0m\n"
          ]
        },
        {
          "output_type": "stream",
          "name": "stdout",
          "text": [
            "Number of finished trials: 100\n",
            "Best trial: {'lambda': 0.003467815753759791, 'alpha': 0.6918624848427822, 'colsample_bytree': 0.4, 'subsample': 0.4, 'learning_rate': 0.014, 'max_depth': 20, 'random_state': 24, 'min_child_weight': 19}\n"
          ]
        }
      ]
    },
    {
      "cell_type": "code",
      "metadata": {
        "id": "XWvHnSqoLgSu",
        "colab": {
          "base_uri": "https://localhost:8080/"
        },
        "outputId": "4e1fcdb2-2f3e-4518-c020-4c4c566c1086"
      },
      "source": [
        "trial_gk = study_gk.best_trial\n",
        "trial_params_gk = trial_gk.params\n",
        "print('Best Trial: score {},\\nparams {}'.format(trial_gk.value, trial_params_gk))"
      ],
      "execution_count": 51,
      "outputs": [
        {
          "output_type": "stream",
          "name": "stdout",
          "text": [
            "Best Trial: score 1.3912998772028544,\n",
            "params {'lambda': 0.003467815753759791, 'alpha': 0.6918624848427822, 'colsample_bytree': 0.4, 'subsample': 0.4, 'learning_rate': 0.014, 'max_depth': 20, 'random_state': 24, 'min_child_weight': 19}\n"
          ]
        }
      ]
    },
    {
      "cell_type": "code",
      "metadata": {
        "id": "AjfM5iuGLgSu"
      },
      "source": [
        "# Fitting data for field players\n",
        "xgb_model = xgb.XGBRegressor(**trial_params)\n",
        "xgb_model.fit(X_train, y_train)\n",
        "y_pred = xgb_model.predict(X_test)"
      ],
      "execution_count": 52,
      "outputs": []
    },
    {
      "cell_type": "code",
      "metadata": {
        "id": "qgVTE5z0LgSu"
      },
      "source": [
        "# Fitting data for goalkeepers\n",
        "xgb_model_gk = xgb.XGBRegressor(**trial_params_gk)\n",
        "xgb_model_gk.fit(X_train_gk, y_train_gk)\n",
        "y_pred_gk = xgb_model_gk.predict(X_test_gk)"
      ],
      "execution_count": 53,
      "outputs": []
    },
    {
      "cell_type": "markdown",
      "metadata": {
        "id": "LQWUkiiLLgSv"
      },
      "source": [
        "## Model evaluation"
      ]
    },
    {
      "cell_type": "code",
      "metadata": {
        "id": "8nGgLbcqlFJe",
        "colab": {
          "base_uri": "https://localhost:8080/"
        },
        "outputId": "995723c8-0556-41ba-b6d5-57e8c810057f"
      },
      "source": [
        "rmse = mean_squared_error(y_test, y_pred, squared=False)\n",
        "print(rmse)"
      ],
      "execution_count": 54,
      "outputs": [
        {
          "output_type": "stream",
          "name": "stdout",
          "text": [
            "3.283394669299706\n"
          ]
        }
      ]
    },
    {
      "cell_type": "code",
      "metadata": {
        "id": "oXdJxAmkk9Kb",
        "colab": {
          "base_uri": "https://localhost:8080/"
        },
        "outputId": "d5d5a27a-9f1b-4392-e139-aa350964de3c"
      },
      "source": [
        "rmse_gk = mean_squared_error(y_test_gk, y_pred_gk, squared=False)\n",
        "print(rmse_gk)"
      ],
      "execution_count": 55,
      "outputs": [
        {
          "output_type": "stream",
          "name": "stdout",
          "text": [
            "3.83305167154716\n"
          ]
        }
      ]
    },
    {
      "cell_type": "code",
      "metadata": {
        "id": "KhEAdeOQLgSv",
        "colab": {
          "base_uri": "https://localhost:8080/",
          "height": 542
        },
        "outputId": "c114fcae-7b93-4357-eebf-68b9acbba967"
      },
      "source": [
        "# Feature importance for field players\n",
        "import plotly.express as px\n",
        "\n",
        "X_train = pd.DataFrame(X_train, columns = X_train.columns)\n",
        "X_test = pd.DataFrame(X_test, columns=X_test.columns)\n",
        "\n",
        "d={\"Stats\" : X_train.columns , \"FI\" : xgb_model.feature_importances_}\n",
        "df = pd.DataFrame(d)\n",
        "df = df.sort_values(by='FI', ascending=0)\n",
        "\n",
        "fig = px.bar(df, x='Stats', y='FI', color=\"Stats\", template=\"plotly_dark\")\n",
        "fig.show()"
      ],
      "execution_count": 56,
      "outputs": [
        {
          "output_type": "display_data",
          "data": {
            "text/html": [
              "<html>\n",
              "<head><meta charset=\"utf-8\" /></head>\n",
              "<body>\n",
              "    <div>            <script src=\"https://cdnjs.cloudflare.com/ajax/libs/mathjax/2.7.5/MathJax.js?config=TeX-AMS-MML_SVG\"></script><script type=\"text/javascript\">if (window.MathJax && window.MathJax.Hub && window.MathJax.Hub.Config) {window.MathJax.Hub.Config({SVG: {font: \"STIX-Web\"}});}</script>                <script type=\"text/javascript\">window.PlotlyConfig = {MathJaxConfig: 'local'};</script>\n",
              "        <script src=\"https://cdn.plot.ly/plotly-2.18.2.min.js\"></script>                <div id=\"a5a8c70e-103d-4ce7-9ec8-d3edeba01179\" class=\"plotly-graph-div\" style=\"height:525px; width:100%;\"></div>            <script type=\"text/javascript\">                                    window.PLOTLYENV=window.PLOTLYENV || {};                                    if (document.getElementById(\"a5a8c70e-103d-4ce7-9ec8-d3edeba01179\")) {                    Plotly.newPlot(                        \"a5a8c70e-103d-4ce7-9ec8-d3edeba01179\",                        [{\"alignmentgroup\":\"True\",\"hovertemplate\":\"Stats=%{x}<br>FI=%{y}<extra></extra>\",\"legendgroup\":\"0\",\"marker\":{\"color\":\"#636efa\",\"pattern\":{\"shape\":\"\"}},\"name\":\"0\",\"offsetgroup\":\"0\",\"orientation\":\"v\",\"showlegend\":true,\"textposition\":\"auto\",\"x\":[0],\"xaxis\":\"x\",\"y\":[0.3362555503845215],\"yaxis\":\"y\",\"type\":\"bar\"},{\"alignmentgroup\":\"True\",\"hovertemplate\":\"Stats=%{x}<br>FI=%{y}<extra></extra>\",\"legendgroup\":\"CL\",\"marker\":{\"color\":\"#EF553B\",\"pattern\":{\"shape\":\"\"}},\"name\":\"CL\",\"offsetgroup\":\"CL\",\"orientation\":\"v\",\"showlegend\":true,\"textposition\":\"auto\",\"x\":[\"CL\"],\"xaxis\":\"x\",\"y\":[0.14293953776359558],\"yaxis\":\"y\",\"type\":\"bar\"},{\"alignmentgroup\":\"True\",\"hovertemplate\":\"Stats=%{x}<br>FI=%{y}<extra></extra>\",\"legendgroup\":\"age\",\"marker\":{\"color\":\"#00cc96\",\"pattern\":{\"shape\":\"\"}},\"name\":\"age\",\"offsetgroup\":\"age\",\"orientation\":\"v\",\"showlegend\":true,\"textposition\":\"auto\",\"x\":[\"age\"],\"xaxis\":\"x\",\"y\":[0.10067219287157059],\"yaxis\":\"y\",\"type\":\"bar\"},{\"alignmentgroup\":\"True\",\"hovertemplate\":\"Stats=%{x}<br>FI=%{y}<extra></extra>\",\"legendgroup\":\"2\",\"marker\":{\"color\":\"#ab63fa\",\"pattern\":{\"shape\":\"\"}},\"name\":\"2\",\"offsetgroup\":\"2\",\"orientation\":\"v\",\"showlegend\":true,\"textposition\":\"auto\",\"x\":[2],\"xaxis\":\"x\",\"y\":[0.08892467617988586],\"yaxis\":\"y\",\"type\":\"bar\"},{\"alignmentgroup\":\"True\",\"hovertemplate\":\"Stats=%{x}<br>FI=%{y}<extra></extra>\",\"legendgroup\":\"7\",\"marker\":{\"color\":\"#FFA15A\",\"pattern\":{\"shape\":\"\"}},\"name\":\"7\",\"offsetgroup\":\"7\",\"orientation\":\"v\",\"showlegend\":true,\"textposition\":\"auto\",\"x\":[7],\"xaxis\":\"x\",\"y\":[0.0814460963010788],\"yaxis\":\"y\",\"type\":\"bar\"},{\"alignmentgroup\":\"True\",\"hovertemplate\":\"Stats=%{x}<br>FI=%{y}<extra></extra>\",\"legendgroup\":\"5\",\"marker\":{\"color\":\"#19d3f3\",\"pattern\":{\"shape\":\"\"}},\"name\":\"5\",\"offsetgroup\":\"5\",\"orientation\":\"v\",\"showlegend\":true,\"textposition\":\"auto\",\"x\":[5],\"xaxis\":\"x\",\"y\":[0.07786975800991058],\"yaxis\":\"y\",\"type\":\"bar\"},{\"alignmentgroup\":\"True\",\"hovertemplate\":\"Stats=%{x}<br>FI=%{y}<extra></extra>\",\"legendgroup\":\"league\",\"marker\":{\"color\":\"#FF6692\",\"pattern\":{\"shape\":\"\"}},\"name\":\"league\",\"offsetgroup\":\"league\",\"orientation\":\"v\",\"showlegend\":true,\"textposition\":\"auto\",\"x\":[\"league\"],\"xaxis\":\"x\",\"y\":[0.04210854321718216],\"yaxis\":\"y\",\"type\":\"bar\"},{\"alignmentgroup\":\"True\",\"hovertemplate\":\"Stats=%{x}<br>FI=%{y}<extra></extra>\",\"legendgroup\":\"4\",\"marker\":{\"color\":\"#B6E880\",\"pattern\":{\"shape\":\"\"}},\"name\":\"4\",\"offsetgroup\":\"4\",\"orientation\":\"v\",\"showlegend\":true,\"textposition\":\"auto\",\"x\":[4],\"xaxis\":\"x\",\"y\":[0.0312846377491951],\"yaxis\":\"y\",\"type\":\"bar\"},{\"alignmentgroup\":\"True\",\"hovertemplate\":\"Stats=%{x}<br>FI=%{y}<extra></extra>\",\"legendgroup\":\"1\",\"marker\":{\"color\":\"#FF97FF\",\"pattern\":{\"shape\":\"\"}},\"name\":\"1\",\"offsetgroup\":\"1\",\"orientation\":\"v\",\"showlegend\":true,\"textposition\":\"auto\",\"x\":[1],\"xaxis\":\"x\",\"y\":[0.02872473932802677],\"yaxis\":\"y\",\"type\":\"bar\"},{\"alignmentgroup\":\"True\",\"hovertemplate\":\"Stats=%{x}<br>FI=%{y}<extra></extra>\",\"legendgroup\":\"Season\",\"marker\":{\"color\":\"#FECB52\",\"pattern\":{\"shape\":\"\"}},\"name\":\"Season\",\"offsetgroup\":\"Season\",\"orientation\":\"v\",\"showlegend\":true,\"textposition\":\"auto\",\"x\":[\"Season\"],\"xaxis\":\"x\",\"y\":[0.014750942587852478],\"yaxis\":\"y\",\"type\":\"bar\"},{\"alignmentgroup\":\"True\",\"hovertemplate\":\"Stats=%{x}<br>FI=%{y}<extra></extra>\",\"legendgroup\":\"squad\",\"marker\":{\"color\":\"#636efa\",\"pattern\":{\"shape\":\"\"}},\"name\":\"squad\",\"offsetgroup\":\"squad\",\"orientation\":\"v\",\"showlegend\":true,\"textposition\":\"auto\",\"x\":[\"squad\"],\"xaxis\":\"x\",\"y\":[0.012311415746808052],\"yaxis\":\"y\",\"type\":\"bar\"},{\"alignmentgroup\":\"True\",\"hovertemplate\":\"Stats=%{x}<br>FI=%{y}<extra></extra>\",\"legendgroup\":\"9\",\"marker\":{\"color\":\"#EF553B\",\"pattern\":{\"shape\":\"\"}},\"name\":\"9\",\"offsetgroup\":\"9\",\"orientation\":\"v\",\"showlegend\":true,\"textposition\":\"auto\",\"x\":[9],\"xaxis\":\"x\",\"y\":[0.008063348941504955],\"yaxis\":\"y\",\"type\":\"bar\"},{\"alignmentgroup\":\"True\",\"hovertemplate\":\"Stats=%{x}<br>FI=%{y}<extra></extra>\",\"legendgroup\":\"8\",\"marker\":{\"color\":\"#00cc96\",\"pattern\":{\"shape\":\"\"}},\"name\":\"8\",\"offsetgroup\":\"8\",\"orientation\":\"v\",\"showlegend\":true,\"textposition\":\"auto\",\"x\":[8],\"xaxis\":\"x\",\"y\":[0.007437789812684059],\"yaxis\":\"y\",\"type\":\"bar\"},{\"alignmentgroup\":\"True\",\"hovertemplate\":\"Stats=%{x}<br>FI=%{y}<extra></extra>\",\"legendgroup\":\"nationality\",\"marker\":{\"color\":\"#ab63fa\",\"pattern\":{\"shape\":\"\"}},\"name\":\"nationality\",\"offsetgroup\":\"nationality\",\"orientation\":\"v\",\"showlegend\":true,\"textposition\":\"auto\",\"x\":[\"nationality\"],\"xaxis\":\"x\",\"y\":[0.006417916622012854],\"yaxis\":\"y\",\"type\":\"bar\"},{\"alignmentgroup\":\"True\",\"hovertemplate\":\"Stats=%{x}<br>FI=%{y}<extra></extra>\",\"legendgroup\":\"6\",\"marker\":{\"color\":\"#FFA15A\",\"pattern\":{\"shape\":\"\"}},\"name\":\"6\",\"offsetgroup\":\"6\",\"orientation\":\"v\",\"showlegend\":true,\"textposition\":\"auto\",\"x\":[6],\"xaxis\":\"x\",\"y\":[0.006377955432981253],\"yaxis\":\"y\",\"type\":\"bar\"},{\"alignmentgroup\":\"True\",\"hovertemplate\":\"Stats=%{x}<br>FI=%{y}<extra></extra>\",\"legendgroup\":\"3\",\"marker\":{\"color\":\"#19d3f3\",\"pattern\":{\"shape\":\"\"}},\"name\":\"3\",\"offsetgroup\":\"3\",\"orientation\":\"v\",\"showlegend\":true,\"textposition\":\"auto\",\"x\":[3],\"xaxis\":\"x\",\"y\":[0.006138283759355545],\"yaxis\":\"y\",\"type\":\"bar\"},{\"alignmentgroup\":\"True\",\"hovertemplate\":\"Stats=%{x}<br>FI=%{y}<extra></extra>\",\"legendgroup\":\"position\",\"marker\":{\"color\":\"#FF6692\",\"pattern\":{\"shape\":\"\"}},\"name\":\"position\",\"offsetgroup\":\"position\",\"orientation\":\"v\",\"showlegend\":true,\"textposition\":\"auto\",\"x\":[\"position\"],\"xaxis\":\"x\",\"y\":[0.004595191217958927],\"yaxis\":\"y\",\"type\":\"bar\"},{\"alignmentgroup\":\"True\",\"hovertemplate\":\"Stats=%{x}<br>FI=%{y}<extra></extra>\",\"legendgroup\":\"height\",\"marker\":{\"color\":\"#B6E880\",\"pattern\":{\"shape\":\"\"}},\"name\":\"height\",\"offsetgroup\":\"height\",\"orientation\":\"v\",\"showlegend\":true,\"textposition\":\"auto\",\"x\":[\"height\"],\"xaxis\":\"x\",\"y\":[0.003681371221318841],\"yaxis\":\"y\",\"type\":\"bar\"},{\"alignmentgroup\":\"True\",\"hovertemplate\":\"Stats=%{x}<br>FI=%{y}<extra></extra>\",\"legendgroup\":\"CLBestScorer\",\"marker\":{\"color\":\"#FF97FF\",\"pattern\":{\"shape\":\"\"}},\"name\":\"CLBestScorer\",\"offsetgroup\":\"CLBestScorer\",\"orientation\":\"v\",\"showlegend\":true,\"textposition\":\"auto\",\"x\":[\"CLBestScorer\"],\"xaxis\":\"x\",\"y\":[0.0],\"yaxis\":\"y\",\"type\":\"bar\"},{\"alignmentgroup\":\"True\",\"hovertemplate\":\"Stats=%{x}<br>FI=%{y}<extra></extra>\",\"legendgroup\":\"WinCL\",\"marker\":{\"color\":\"#FECB52\",\"pattern\":{\"shape\":\"\"}},\"name\":\"WinCL\",\"offsetgroup\":\"WinCL\",\"orientation\":\"v\",\"showlegend\":true,\"textposition\":\"auto\",\"x\":[\"WinCL\"],\"xaxis\":\"x\",\"y\":[0.0],\"yaxis\":\"y\",\"type\":\"bar\"},{\"alignmentgroup\":\"True\",\"hovertemplate\":\"Stats=%{x}<br>FI=%{y}<extra></extra>\",\"legendgroup\":\"foot\",\"marker\":{\"color\":\"#636efa\",\"pattern\":{\"shape\":\"\"}},\"name\":\"foot\",\"offsetgroup\":\"foot\",\"orientation\":\"v\",\"showlegend\":true,\"textposition\":\"auto\",\"x\":[\"foot\"],\"xaxis\":\"x\",\"y\":[0.0],\"yaxis\":\"y\",\"type\":\"bar\"}],                        {\"template\":{\"data\":{\"barpolar\":[{\"marker\":{\"line\":{\"color\":\"rgb(17,17,17)\",\"width\":0.5},\"pattern\":{\"fillmode\":\"overlay\",\"size\":10,\"solidity\":0.2}},\"type\":\"barpolar\"}],\"bar\":[{\"error_x\":{\"color\":\"#f2f5fa\"},\"error_y\":{\"color\":\"#f2f5fa\"},\"marker\":{\"line\":{\"color\":\"rgb(17,17,17)\",\"width\":0.5},\"pattern\":{\"fillmode\":\"overlay\",\"size\":10,\"solidity\":0.2}},\"type\":\"bar\"}],\"carpet\":[{\"aaxis\":{\"endlinecolor\":\"#A2B1C6\",\"gridcolor\":\"#506784\",\"linecolor\":\"#506784\",\"minorgridcolor\":\"#506784\",\"startlinecolor\":\"#A2B1C6\"},\"baxis\":{\"endlinecolor\":\"#A2B1C6\",\"gridcolor\":\"#506784\",\"linecolor\":\"#506784\",\"minorgridcolor\":\"#506784\",\"startlinecolor\":\"#A2B1C6\"},\"type\":\"carpet\"}],\"choropleth\":[{\"colorbar\":{\"outlinewidth\":0,\"ticks\":\"\"},\"type\":\"choropleth\"}],\"contourcarpet\":[{\"colorbar\":{\"outlinewidth\":0,\"ticks\":\"\"},\"type\":\"contourcarpet\"}],\"contour\":[{\"colorbar\":{\"outlinewidth\":0,\"ticks\":\"\"},\"colorscale\":[[0.0,\"#0d0887\"],[0.1111111111111111,\"#46039f\"],[0.2222222222222222,\"#7201a8\"],[0.3333333333333333,\"#9c179e\"],[0.4444444444444444,\"#bd3786\"],[0.5555555555555556,\"#d8576b\"],[0.6666666666666666,\"#ed7953\"],[0.7777777777777778,\"#fb9f3a\"],[0.8888888888888888,\"#fdca26\"],[1.0,\"#f0f921\"]],\"type\":\"contour\"}],\"heatmapgl\":[{\"colorbar\":{\"outlinewidth\":0,\"ticks\":\"\"},\"colorscale\":[[0.0,\"#0d0887\"],[0.1111111111111111,\"#46039f\"],[0.2222222222222222,\"#7201a8\"],[0.3333333333333333,\"#9c179e\"],[0.4444444444444444,\"#bd3786\"],[0.5555555555555556,\"#d8576b\"],[0.6666666666666666,\"#ed7953\"],[0.7777777777777778,\"#fb9f3a\"],[0.8888888888888888,\"#fdca26\"],[1.0,\"#f0f921\"]],\"type\":\"heatmapgl\"}],\"heatmap\":[{\"colorbar\":{\"outlinewidth\":0,\"ticks\":\"\"},\"colorscale\":[[0.0,\"#0d0887\"],[0.1111111111111111,\"#46039f\"],[0.2222222222222222,\"#7201a8\"],[0.3333333333333333,\"#9c179e\"],[0.4444444444444444,\"#bd3786\"],[0.5555555555555556,\"#d8576b\"],[0.6666666666666666,\"#ed7953\"],[0.7777777777777778,\"#fb9f3a\"],[0.8888888888888888,\"#fdca26\"],[1.0,\"#f0f921\"]],\"type\":\"heatmap\"}],\"histogram2dcontour\":[{\"colorbar\":{\"outlinewidth\":0,\"ticks\":\"\"},\"colorscale\":[[0.0,\"#0d0887\"],[0.1111111111111111,\"#46039f\"],[0.2222222222222222,\"#7201a8\"],[0.3333333333333333,\"#9c179e\"],[0.4444444444444444,\"#bd3786\"],[0.5555555555555556,\"#d8576b\"],[0.6666666666666666,\"#ed7953\"],[0.7777777777777778,\"#fb9f3a\"],[0.8888888888888888,\"#fdca26\"],[1.0,\"#f0f921\"]],\"type\":\"histogram2dcontour\"}],\"histogram2d\":[{\"colorbar\":{\"outlinewidth\":0,\"ticks\":\"\"},\"colorscale\":[[0.0,\"#0d0887\"],[0.1111111111111111,\"#46039f\"],[0.2222222222222222,\"#7201a8\"],[0.3333333333333333,\"#9c179e\"],[0.4444444444444444,\"#bd3786\"],[0.5555555555555556,\"#d8576b\"],[0.6666666666666666,\"#ed7953\"],[0.7777777777777778,\"#fb9f3a\"],[0.8888888888888888,\"#fdca26\"],[1.0,\"#f0f921\"]],\"type\":\"histogram2d\"}],\"histogram\":[{\"marker\":{\"pattern\":{\"fillmode\":\"overlay\",\"size\":10,\"solidity\":0.2}},\"type\":\"histogram\"}],\"mesh3d\":[{\"colorbar\":{\"outlinewidth\":0,\"ticks\":\"\"},\"type\":\"mesh3d\"}],\"parcoords\":[{\"line\":{\"colorbar\":{\"outlinewidth\":0,\"ticks\":\"\"}},\"type\":\"parcoords\"}],\"pie\":[{\"automargin\":true,\"type\":\"pie\"}],\"scatter3d\":[{\"line\":{\"colorbar\":{\"outlinewidth\":0,\"ticks\":\"\"}},\"marker\":{\"colorbar\":{\"outlinewidth\":0,\"ticks\":\"\"}},\"type\":\"scatter3d\"}],\"scattercarpet\":[{\"marker\":{\"colorbar\":{\"outlinewidth\":0,\"ticks\":\"\"}},\"type\":\"scattercarpet\"}],\"scattergeo\":[{\"marker\":{\"colorbar\":{\"outlinewidth\":0,\"ticks\":\"\"}},\"type\":\"scattergeo\"}],\"scattergl\":[{\"marker\":{\"line\":{\"color\":\"#283442\"}},\"type\":\"scattergl\"}],\"scattermapbox\":[{\"marker\":{\"colorbar\":{\"outlinewidth\":0,\"ticks\":\"\"}},\"type\":\"scattermapbox\"}],\"scatterpolargl\":[{\"marker\":{\"colorbar\":{\"outlinewidth\":0,\"ticks\":\"\"}},\"type\":\"scatterpolargl\"}],\"scatterpolar\":[{\"marker\":{\"colorbar\":{\"outlinewidth\":0,\"ticks\":\"\"}},\"type\":\"scatterpolar\"}],\"scatter\":[{\"marker\":{\"line\":{\"color\":\"#283442\"}},\"type\":\"scatter\"}],\"scatterternary\":[{\"marker\":{\"colorbar\":{\"outlinewidth\":0,\"ticks\":\"\"}},\"type\":\"scatterternary\"}],\"surface\":[{\"colorbar\":{\"outlinewidth\":0,\"ticks\":\"\"},\"colorscale\":[[0.0,\"#0d0887\"],[0.1111111111111111,\"#46039f\"],[0.2222222222222222,\"#7201a8\"],[0.3333333333333333,\"#9c179e\"],[0.4444444444444444,\"#bd3786\"],[0.5555555555555556,\"#d8576b\"],[0.6666666666666666,\"#ed7953\"],[0.7777777777777778,\"#fb9f3a\"],[0.8888888888888888,\"#fdca26\"],[1.0,\"#f0f921\"]],\"type\":\"surface\"}],\"table\":[{\"cells\":{\"fill\":{\"color\":\"#506784\"},\"line\":{\"color\":\"rgb(17,17,17)\"}},\"header\":{\"fill\":{\"color\":\"#2a3f5f\"},\"line\":{\"color\":\"rgb(17,17,17)\"}},\"type\":\"table\"}]},\"layout\":{\"annotationdefaults\":{\"arrowcolor\":\"#f2f5fa\",\"arrowhead\":0,\"arrowwidth\":1},\"autotypenumbers\":\"strict\",\"coloraxis\":{\"colorbar\":{\"outlinewidth\":0,\"ticks\":\"\"}},\"colorscale\":{\"diverging\":[[0,\"#8e0152\"],[0.1,\"#c51b7d\"],[0.2,\"#de77ae\"],[0.3,\"#f1b6da\"],[0.4,\"#fde0ef\"],[0.5,\"#f7f7f7\"],[0.6,\"#e6f5d0\"],[0.7,\"#b8e186\"],[0.8,\"#7fbc41\"],[0.9,\"#4d9221\"],[1,\"#276419\"]],\"sequential\":[[0.0,\"#0d0887\"],[0.1111111111111111,\"#46039f\"],[0.2222222222222222,\"#7201a8\"],[0.3333333333333333,\"#9c179e\"],[0.4444444444444444,\"#bd3786\"],[0.5555555555555556,\"#d8576b\"],[0.6666666666666666,\"#ed7953\"],[0.7777777777777778,\"#fb9f3a\"],[0.8888888888888888,\"#fdca26\"],[1.0,\"#f0f921\"]],\"sequentialminus\":[[0.0,\"#0d0887\"],[0.1111111111111111,\"#46039f\"],[0.2222222222222222,\"#7201a8\"],[0.3333333333333333,\"#9c179e\"],[0.4444444444444444,\"#bd3786\"],[0.5555555555555556,\"#d8576b\"],[0.6666666666666666,\"#ed7953\"],[0.7777777777777778,\"#fb9f3a\"],[0.8888888888888888,\"#fdca26\"],[1.0,\"#f0f921\"]]},\"colorway\":[\"#636efa\",\"#EF553B\",\"#00cc96\",\"#ab63fa\",\"#FFA15A\",\"#19d3f3\",\"#FF6692\",\"#B6E880\",\"#FF97FF\",\"#FECB52\"],\"font\":{\"color\":\"#f2f5fa\"},\"geo\":{\"bgcolor\":\"rgb(17,17,17)\",\"lakecolor\":\"rgb(17,17,17)\",\"landcolor\":\"rgb(17,17,17)\",\"showlakes\":true,\"showland\":true,\"subunitcolor\":\"#506784\"},\"hoverlabel\":{\"align\":\"left\"},\"hovermode\":\"closest\",\"mapbox\":{\"style\":\"dark\"},\"paper_bgcolor\":\"rgb(17,17,17)\",\"plot_bgcolor\":\"rgb(17,17,17)\",\"polar\":{\"angularaxis\":{\"gridcolor\":\"#506784\",\"linecolor\":\"#506784\",\"ticks\":\"\"},\"bgcolor\":\"rgb(17,17,17)\",\"radialaxis\":{\"gridcolor\":\"#506784\",\"linecolor\":\"#506784\",\"ticks\":\"\"}},\"scene\":{\"xaxis\":{\"backgroundcolor\":\"rgb(17,17,17)\",\"gridcolor\":\"#506784\",\"gridwidth\":2,\"linecolor\":\"#506784\",\"showbackground\":true,\"ticks\":\"\",\"zerolinecolor\":\"#C8D4E3\"},\"yaxis\":{\"backgroundcolor\":\"rgb(17,17,17)\",\"gridcolor\":\"#506784\",\"gridwidth\":2,\"linecolor\":\"#506784\",\"showbackground\":true,\"ticks\":\"\",\"zerolinecolor\":\"#C8D4E3\"},\"zaxis\":{\"backgroundcolor\":\"rgb(17,17,17)\",\"gridcolor\":\"#506784\",\"gridwidth\":2,\"linecolor\":\"#506784\",\"showbackground\":true,\"ticks\":\"\",\"zerolinecolor\":\"#C8D4E3\"}},\"shapedefaults\":{\"line\":{\"color\":\"#f2f5fa\"}},\"sliderdefaults\":{\"bgcolor\":\"#C8D4E3\",\"bordercolor\":\"rgb(17,17,17)\",\"borderwidth\":1,\"tickwidth\":0},\"ternary\":{\"aaxis\":{\"gridcolor\":\"#506784\",\"linecolor\":\"#506784\",\"ticks\":\"\"},\"baxis\":{\"gridcolor\":\"#506784\",\"linecolor\":\"#506784\",\"ticks\":\"\"},\"bgcolor\":\"rgb(17,17,17)\",\"caxis\":{\"gridcolor\":\"#506784\",\"linecolor\":\"#506784\",\"ticks\":\"\"}},\"title\":{\"x\":0.05},\"updatemenudefaults\":{\"bgcolor\":\"#506784\",\"borderwidth\":0},\"xaxis\":{\"automargin\":true,\"gridcolor\":\"#283442\",\"linecolor\":\"#506784\",\"ticks\":\"\",\"title\":{\"standoff\":15},\"zerolinecolor\":\"#283442\",\"zerolinewidth\":2},\"yaxis\":{\"automargin\":true,\"gridcolor\":\"#283442\",\"linecolor\":\"#506784\",\"ticks\":\"\",\"title\":{\"standoff\":15},\"zerolinecolor\":\"#283442\",\"zerolinewidth\":2}}},\"xaxis\":{\"anchor\":\"y\",\"domain\":[0.0,1.0],\"title\":{\"text\":\"Stats\"},\"categoryorder\":\"array\",\"categoryarray\":[0,\"CL\",\"age\",2,7,5,\"league\",4,1,\"Season\",\"squad\",9,8,\"nationality\",6,3,\"position\",\"height\",\"CLBestScorer\",\"WinCL\",\"foot\"]},\"yaxis\":{\"anchor\":\"x\",\"domain\":[0.0,1.0],\"title\":{\"text\":\"FI\"}},\"legend\":{\"title\":{\"text\":\"Stats\"},\"tracegroupgap\":0},\"margin\":{\"t\":60},\"barmode\":\"relative\"},                        {\"responsive\": true}                    ).then(function(){\n",
              "                            \n",
              "var gd = document.getElementById('a5a8c70e-103d-4ce7-9ec8-d3edeba01179');\n",
              "var x = new MutationObserver(function (mutations, observer) {{\n",
              "        var display = window.getComputedStyle(gd).display;\n",
              "        if (!display || display === 'none') {{\n",
              "            console.log([gd, 'removed!']);\n",
              "            Plotly.purge(gd);\n",
              "            observer.disconnect();\n",
              "        }}\n",
              "}});\n",
              "\n",
              "// Listen for the removal of the full notebook cells\n",
              "var notebookContainer = gd.closest('#notebook-container');\n",
              "if (notebookContainer) {{\n",
              "    x.observe(notebookContainer, {childList: true});\n",
              "}}\n",
              "\n",
              "// Listen for the clearing of the current output cell\n",
              "var outputEl = gd.closest('.output');\n",
              "if (outputEl) {{\n",
              "    x.observe(outputEl, {childList: true});\n",
              "}}\n",
              "\n",
              "                        })                };                            </script>        </div>\n",
              "</body>\n",
              "</html>"
            ]
          },
          "metadata": {}
        }
      ]
    },
    {
      "cell_type": "code",
      "metadata": {
        "id": "oeWuxK-hLgSv",
        "colab": {
          "base_uri": "https://localhost:8080/",
          "height": 542
        },
        "outputId": "6b09af28-c933-4647-98cc-9e5b49d69d02"
      },
      "source": [
        "# Feature importance for goalkeepers\n",
        "X_train_gk = pd.DataFrame(X_train_gk, columns = X_train_gk.columns)\n",
        "X_test_gk = pd.DataFrame(X_test_gk, columns=X_test_gk.columns)\n",
        "\n",
        "d={\"Stats\" : X_train_gk.columns , \"FI\" : xgb_model_gk.feature_importances_}\n",
        "df_gk = pd.DataFrame(d)\n",
        "df_gk = df_gk.sort_values(by='FI', ascending=0)\n",
        "\n",
        "fig = px.bar(df_gk, x='Stats', y='FI', color=\"Stats\", template=\"plotly_dark\")\n",
        "fig.show()  "
      ],
      "execution_count": 57,
      "outputs": [
        {
          "output_type": "display_data",
          "data": {
            "text/html": [
              "<html>\n",
              "<head><meta charset=\"utf-8\" /></head>\n",
              "<body>\n",
              "    <div>            <script src=\"https://cdnjs.cloudflare.com/ajax/libs/mathjax/2.7.5/MathJax.js?config=TeX-AMS-MML_SVG\"></script><script type=\"text/javascript\">if (window.MathJax && window.MathJax.Hub && window.MathJax.Hub.Config) {window.MathJax.Hub.Config({SVG: {font: \"STIX-Web\"}});}</script>                <script type=\"text/javascript\">window.PlotlyConfig = {MathJaxConfig: 'local'};</script>\n",
              "        <script src=\"https://cdn.plot.ly/plotly-2.18.2.min.js\"></script>                <div id=\"600a135a-138a-4e13-b36b-5698a2fd7348\" class=\"plotly-graph-div\" style=\"height:525px; width:100%;\"></div>            <script type=\"text/javascript\">                                    window.PLOTLYENV=window.PLOTLYENV || {};                                    if (document.getElementById(\"600a135a-138a-4e13-b36b-5698a2fd7348\")) {                    Plotly.newPlot(                        \"600a135a-138a-4e13-b36b-5698a2fd7348\",                        [{\"alignmentgroup\":\"True\",\"hovertemplate\":\"Stats=%{x}<br>FI=%{y}<extra></extra>\",\"legendgroup\":\"clean_sheets\",\"marker\":{\"color\":\"#636efa\",\"pattern\":{\"shape\":\"\"}},\"name\":\"clean_sheets\",\"offsetgroup\":\"clean_sheets\",\"orientation\":\"v\",\"showlegend\":true,\"textposition\":\"auto\",\"x\":[\"clean_sheets\"],\"xaxis\":\"x\",\"y\":[0.2873938977718353],\"yaxis\":\"y\",\"type\":\"bar\"},{\"alignmentgroup\":\"True\",\"hovertemplate\":\"Stats=%{x}<br>FI=%{y}<extra></extra>\",\"legendgroup\":\"passes_launched_gk\",\"marker\":{\"color\":\"#EF553B\",\"pattern\":{\"shape\":\"\"}},\"name\":\"passes_launched_gk\",\"offsetgroup\":\"passes_launched_gk\",\"orientation\":\"v\",\"showlegend\":true,\"textposition\":\"auto\",\"x\":[\"passes_launched_gk\"],\"xaxis\":\"x\",\"y\":[0.2149224877357483],\"yaxis\":\"y\",\"type\":\"bar\"},{\"alignmentgroup\":\"True\",\"hovertemplate\":\"Stats=%{x}<br>FI=%{y}<extra></extra>\",\"legendgroup\":\"age\",\"marker\":{\"color\":\"#00cc96\",\"pattern\":{\"shape\":\"\"}},\"name\":\"age\",\"offsetgroup\":\"age\",\"orientation\":\"v\",\"showlegend\":true,\"textposition\":\"auto\",\"x\":[\"age\"],\"xaxis\":\"x\",\"y\":[0.11964090913534164],\"yaxis\":\"y\",\"type\":\"bar\"},{\"alignmentgroup\":\"True\",\"hovertemplate\":\"Stats=%{x}<br>FI=%{y}<extra></extra>\",\"legendgroup\":\"pens_saved\",\"marker\":{\"color\":\"#ab63fa\",\"pattern\":{\"shape\":\"\"}},\"name\":\"pens_saved\",\"offsetgroup\":\"pens_saved\",\"orientation\":\"v\",\"showlegend\":true,\"textposition\":\"auto\",\"x\":[\"pens_saved\"],\"xaxis\":\"x\",\"y\":[0.09086231887340546],\"yaxis\":\"y\",\"type\":\"bar\"},{\"alignmentgroup\":\"True\",\"hovertemplate\":\"Stats=%{x}<br>FI=%{y}<extra></extra>\",\"legendgroup\":\"CL\",\"marker\":{\"color\":\"#FFA15A\",\"pattern\":{\"shape\":\"\"}},\"name\":\"CL\",\"offsetgroup\":\"CL\",\"orientation\":\"v\",\"showlegend\":true,\"textposition\":\"auto\",\"x\":[\"CL\"],\"xaxis\":\"x\",\"y\":[0.0807480663061142],\"yaxis\":\"y\",\"type\":\"bar\"},{\"alignmentgroup\":\"True\",\"hovertemplate\":\"Stats=%{x}<br>FI=%{y}<extra></extra>\",\"legendgroup\":\"Season\",\"marker\":{\"color\":\"#19d3f3\",\"pattern\":{\"shape\":\"\"}},\"name\":\"Season\",\"offsetgroup\":\"Season\",\"orientation\":\"v\",\"showlegend\":true,\"textposition\":\"auto\",\"x\":[\"Season\"],\"xaxis\":\"x\",\"y\":[0.0499361976981163],\"yaxis\":\"y\",\"type\":\"bar\"},{\"alignmentgroup\":\"True\",\"hovertemplate\":\"Stats=%{x}<br>FI=%{y}<extra></extra>\",\"legendgroup\":\"squad\",\"marker\":{\"color\":\"#FF6692\",\"pattern\":{\"shape\":\"\"}},\"name\":\"squad\",\"offsetgroup\":\"squad\",\"orientation\":\"v\",\"showlegend\":true,\"textposition\":\"auto\",\"x\":[\"squad\"],\"xaxis\":\"x\",\"y\":[0.03149745985865593],\"yaxis\":\"y\",\"type\":\"bar\"},{\"alignmentgroup\":\"True\",\"hovertemplate\":\"Stats=%{x}<br>FI=%{y}<extra></extra>\",\"legendgroup\":\"MP\",\"marker\":{\"color\":\"#B6E880\",\"pattern\":{\"shape\":\"\"}},\"name\":\"MP\",\"offsetgroup\":\"MP\",\"orientation\":\"v\",\"showlegend\":true,\"textposition\":\"auto\",\"x\":[\"MP\"],\"xaxis\":\"x\",\"y\":[0.03081849031150341],\"yaxis\":\"y\",\"type\":\"bar\"},{\"alignmentgroup\":\"True\",\"hovertemplate\":\"Stats=%{x}<br>FI=%{y}<extra></extra>\",\"legendgroup\":\"league\",\"marker\":{\"color\":\"#FF97FF\",\"pattern\":{\"shape\":\"\"}},\"name\":\"league\",\"offsetgroup\":\"league\",\"orientation\":\"v\",\"showlegend\":true,\"textposition\":\"auto\",\"x\":[\"league\"],\"xaxis\":\"x\",\"y\":[0.027959352359175682],\"yaxis\":\"y\",\"type\":\"bar\"},{\"alignmentgroup\":\"True\",\"hovertemplate\":\"Stats=%{x}<br>FI=%{y}<extra></extra>\",\"legendgroup\":\"nationality\",\"marker\":{\"color\":\"#FECB52\",\"pattern\":{\"shape\":\"\"}},\"name\":\"nationality\",\"offsetgroup\":\"nationality\",\"orientation\":\"v\",\"showlegend\":true,\"textposition\":\"auto\",\"x\":[\"nationality\"],\"xaxis\":\"x\",\"y\":[0.027007421478629112],\"yaxis\":\"y\",\"type\":\"bar\"},{\"alignmentgroup\":\"True\",\"hovertemplate\":\"Stats=%{x}<br>FI=%{y}<extra></extra>\",\"legendgroup\":\"height\",\"marker\":{\"color\":\"#636efa\",\"pattern\":{\"shape\":\"\"}},\"name\":\"height\",\"offsetgroup\":\"height\",\"orientation\":\"v\",\"showlegend\":true,\"textposition\":\"auto\",\"x\":[\"height\"],\"xaxis\":\"x\",\"y\":[0.023211659863591194],\"yaxis\":\"y\",\"type\":\"bar\"},{\"alignmentgroup\":\"True\",\"hovertemplate\":\"Stats=%{x}<br>FI=%{y}<extra></extra>\",\"legendgroup\":\"foot\",\"marker\":{\"color\":\"#EF553B\",\"pattern\":{\"shape\":\"\"}},\"name\":\"foot\",\"offsetgroup\":\"foot\",\"orientation\":\"v\",\"showlegend\":true,\"textposition\":\"auto\",\"x\":[\"foot\"],\"xaxis\":\"x\",\"y\":[0.016001837328076363],\"yaxis\":\"y\",\"type\":\"bar\"},{\"alignmentgroup\":\"True\",\"hovertemplate\":\"Stats=%{x}<br>FI=%{y}<extra></extra>\",\"legendgroup\":\"position\",\"marker\":{\"color\":\"#00cc96\",\"pattern\":{\"shape\":\"\"}},\"name\":\"position\",\"offsetgroup\":\"position\",\"orientation\":\"v\",\"showlegend\":true,\"textposition\":\"auto\",\"x\":[\"position\"],\"xaxis\":\"x\",\"y\":[0.0],\"yaxis\":\"y\",\"type\":\"bar\"},{\"alignmentgroup\":\"True\",\"hovertemplate\":\"Stats=%{x}<br>FI=%{y}<extra></extra>\",\"legendgroup\":\"WinCL\",\"marker\":{\"color\":\"#ab63fa\",\"pattern\":{\"shape\":\"\"}},\"name\":\"WinCL\",\"offsetgroup\":\"WinCL\",\"orientation\":\"v\",\"showlegend\":true,\"textposition\":\"auto\",\"x\":[\"WinCL\"],\"xaxis\":\"x\",\"y\":[0.0],\"yaxis\":\"y\",\"type\":\"bar\"},{\"alignmentgroup\":\"True\",\"hovertemplate\":\"Stats=%{x}<br>FI=%{y}<extra></extra>\",\"legendgroup\":\"CLBestScorer\",\"marker\":{\"color\":\"#FFA15A\",\"pattern\":{\"shape\":\"\"}},\"name\":\"CLBestScorer\",\"offsetgroup\":\"CLBestScorer\",\"orientation\":\"v\",\"showlegend\":true,\"textposition\":\"auto\",\"x\":[\"CLBestScorer\"],\"xaxis\":\"x\",\"y\":[0.0],\"yaxis\":\"y\",\"type\":\"bar\"}],                        {\"template\":{\"data\":{\"barpolar\":[{\"marker\":{\"line\":{\"color\":\"rgb(17,17,17)\",\"width\":0.5},\"pattern\":{\"fillmode\":\"overlay\",\"size\":10,\"solidity\":0.2}},\"type\":\"barpolar\"}],\"bar\":[{\"error_x\":{\"color\":\"#f2f5fa\"},\"error_y\":{\"color\":\"#f2f5fa\"},\"marker\":{\"line\":{\"color\":\"rgb(17,17,17)\",\"width\":0.5},\"pattern\":{\"fillmode\":\"overlay\",\"size\":10,\"solidity\":0.2}},\"type\":\"bar\"}],\"carpet\":[{\"aaxis\":{\"endlinecolor\":\"#A2B1C6\",\"gridcolor\":\"#506784\",\"linecolor\":\"#506784\",\"minorgridcolor\":\"#506784\",\"startlinecolor\":\"#A2B1C6\"},\"baxis\":{\"endlinecolor\":\"#A2B1C6\",\"gridcolor\":\"#506784\",\"linecolor\":\"#506784\",\"minorgridcolor\":\"#506784\",\"startlinecolor\":\"#A2B1C6\"},\"type\":\"carpet\"}],\"choropleth\":[{\"colorbar\":{\"outlinewidth\":0,\"ticks\":\"\"},\"type\":\"choropleth\"}],\"contourcarpet\":[{\"colorbar\":{\"outlinewidth\":0,\"ticks\":\"\"},\"type\":\"contourcarpet\"}],\"contour\":[{\"colorbar\":{\"outlinewidth\":0,\"ticks\":\"\"},\"colorscale\":[[0.0,\"#0d0887\"],[0.1111111111111111,\"#46039f\"],[0.2222222222222222,\"#7201a8\"],[0.3333333333333333,\"#9c179e\"],[0.4444444444444444,\"#bd3786\"],[0.5555555555555556,\"#d8576b\"],[0.6666666666666666,\"#ed7953\"],[0.7777777777777778,\"#fb9f3a\"],[0.8888888888888888,\"#fdca26\"],[1.0,\"#f0f921\"]],\"type\":\"contour\"}],\"heatmapgl\":[{\"colorbar\":{\"outlinewidth\":0,\"ticks\":\"\"},\"colorscale\":[[0.0,\"#0d0887\"],[0.1111111111111111,\"#46039f\"],[0.2222222222222222,\"#7201a8\"],[0.3333333333333333,\"#9c179e\"],[0.4444444444444444,\"#bd3786\"],[0.5555555555555556,\"#d8576b\"],[0.6666666666666666,\"#ed7953\"],[0.7777777777777778,\"#fb9f3a\"],[0.8888888888888888,\"#fdca26\"],[1.0,\"#f0f921\"]],\"type\":\"heatmapgl\"}],\"heatmap\":[{\"colorbar\":{\"outlinewidth\":0,\"ticks\":\"\"},\"colorscale\":[[0.0,\"#0d0887\"],[0.1111111111111111,\"#46039f\"],[0.2222222222222222,\"#7201a8\"],[0.3333333333333333,\"#9c179e\"],[0.4444444444444444,\"#bd3786\"],[0.5555555555555556,\"#d8576b\"],[0.6666666666666666,\"#ed7953\"],[0.7777777777777778,\"#fb9f3a\"],[0.8888888888888888,\"#fdca26\"],[1.0,\"#f0f921\"]],\"type\":\"heatmap\"}],\"histogram2dcontour\":[{\"colorbar\":{\"outlinewidth\":0,\"ticks\":\"\"},\"colorscale\":[[0.0,\"#0d0887\"],[0.1111111111111111,\"#46039f\"],[0.2222222222222222,\"#7201a8\"],[0.3333333333333333,\"#9c179e\"],[0.4444444444444444,\"#bd3786\"],[0.5555555555555556,\"#d8576b\"],[0.6666666666666666,\"#ed7953\"],[0.7777777777777778,\"#fb9f3a\"],[0.8888888888888888,\"#fdca26\"],[1.0,\"#f0f921\"]],\"type\":\"histogram2dcontour\"}],\"histogram2d\":[{\"colorbar\":{\"outlinewidth\":0,\"ticks\":\"\"},\"colorscale\":[[0.0,\"#0d0887\"],[0.1111111111111111,\"#46039f\"],[0.2222222222222222,\"#7201a8\"],[0.3333333333333333,\"#9c179e\"],[0.4444444444444444,\"#bd3786\"],[0.5555555555555556,\"#d8576b\"],[0.6666666666666666,\"#ed7953\"],[0.7777777777777778,\"#fb9f3a\"],[0.8888888888888888,\"#fdca26\"],[1.0,\"#f0f921\"]],\"type\":\"histogram2d\"}],\"histogram\":[{\"marker\":{\"pattern\":{\"fillmode\":\"overlay\",\"size\":10,\"solidity\":0.2}},\"type\":\"histogram\"}],\"mesh3d\":[{\"colorbar\":{\"outlinewidth\":0,\"ticks\":\"\"},\"type\":\"mesh3d\"}],\"parcoords\":[{\"line\":{\"colorbar\":{\"outlinewidth\":0,\"ticks\":\"\"}},\"type\":\"parcoords\"}],\"pie\":[{\"automargin\":true,\"type\":\"pie\"}],\"scatter3d\":[{\"line\":{\"colorbar\":{\"outlinewidth\":0,\"ticks\":\"\"}},\"marker\":{\"colorbar\":{\"outlinewidth\":0,\"ticks\":\"\"}},\"type\":\"scatter3d\"}],\"scattercarpet\":[{\"marker\":{\"colorbar\":{\"outlinewidth\":0,\"ticks\":\"\"}},\"type\":\"scattercarpet\"}],\"scattergeo\":[{\"marker\":{\"colorbar\":{\"outlinewidth\":0,\"ticks\":\"\"}},\"type\":\"scattergeo\"}],\"scattergl\":[{\"marker\":{\"line\":{\"color\":\"#283442\"}},\"type\":\"scattergl\"}],\"scattermapbox\":[{\"marker\":{\"colorbar\":{\"outlinewidth\":0,\"ticks\":\"\"}},\"type\":\"scattermapbox\"}],\"scatterpolargl\":[{\"marker\":{\"colorbar\":{\"outlinewidth\":0,\"ticks\":\"\"}},\"type\":\"scatterpolargl\"}],\"scatterpolar\":[{\"marker\":{\"colorbar\":{\"outlinewidth\":0,\"ticks\":\"\"}},\"type\":\"scatterpolar\"}],\"scatter\":[{\"marker\":{\"line\":{\"color\":\"#283442\"}},\"type\":\"scatter\"}],\"scatterternary\":[{\"marker\":{\"colorbar\":{\"outlinewidth\":0,\"ticks\":\"\"}},\"type\":\"scatterternary\"}],\"surface\":[{\"colorbar\":{\"outlinewidth\":0,\"ticks\":\"\"},\"colorscale\":[[0.0,\"#0d0887\"],[0.1111111111111111,\"#46039f\"],[0.2222222222222222,\"#7201a8\"],[0.3333333333333333,\"#9c179e\"],[0.4444444444444444,\"#bd3786\"],[0.5555555555555556,\"#d8576b\"],[0.6666666666666666,\"#ed7953\"],[0.7777777777777778,\"#fb9f3a\"],[0.8888888888888888,\"#fdca26\"],[1.0,\"#f0f921\"]],\"type\":\"surface\"}],\"table\":[{\"cells\":{\"fill\":{\"color\":\"#506784\"},\"line\":{\"color\":\"rgb(17,17,17)\"}},\"header\":{\"fill\":{\"color\":\"#2a3f5f\"},\"line\":{\"color\":\"rgb(17,17,17)\"}},\"type\":\"table\"}]},\"layout\":{\"annotationdefaults\":{\"arrowcolor\":\"#f2f5fa\",\"arrowhead\":0,\"arrowwidth\":1},\"autotypenumbers\":\"strict\",\"coloraxis\":{\"colorbar\":{\"outlinewidth\":0,\"ticks\":\"\"}},\"colorscale\":{\"diverging\":[[0,\"#8e0152\"],[0.1,\"#c51b7d\"],[0.2,\"#de77ae\"],[0.3,\"#f1b6da\"],[0.4,\"#fde0ef\"],[0.5,\"#f7f7f7\"],[0.6,\"#e6f5d0\"],[0.7,\"#b8e186\"],[0.8,\"#7fbc41\"],[0.9,\"#4d9221\"],[1,\"#276419\"]],\"sequential\":[[0.0,\"#0d0887\"],[0.1111111111111111,\"#46039f\"],[0.2222222222222222,\"#7201a8\"],[0.3333333333333333,\"#9c179e\"],[0.4444444444444444,\"#bd3786\"],[0.5555555555555556,\"#d8576b\"],[0.6666666666666666,\"#ed7953\"],[0.7777777777777778,\"#fb9f3a\"],[0.8888888888888888,\"#fdca26\"],[1.0,\"#f0f921\"]],\"sequentialminus\":[[0.0,\"#0d0887\"],[0.1111111111111111,\"#46039f\"],[0.2222222222222222,\"#7201a8\"],[0.3333333333333333,\"#9c179e\"],[0.4444444444444444,\"#bd3786\"],[0.5555555555555556,\"#d8576b\"],[0.6666666666666666,\"#ed7953\"],[0.7777777777777778,\"#fb9f3a\"],[0.8888888888888888,\"#fdca26\"],[1.0,\"#f0f921\"]]},\"colorway\":[\"#636efa\",\"#EF553B\",\"#00cc96\",\"#ab63fa\",\"#FFA15A\",\"#19d3f3\",\"#FF6692\",\"#B6E880\",\"#FF97FF\",\"#FECB52\"],\"font\":{\"color\":\"#f2f5fa\"},\"geo\":{\"bgcolor\":\"rgb(17,17,17)\",\"lakecolor\":\"rgb(17,17,17)\",\"landcolor\":\"rgb(17,17,17)\",\"showlakes\":true,\"showland\":true,\"subunitcolor\":\"#506784\"},\"hoverlabel\":{\"align\":\"left\"},\"hovermode\":\"closest\",\"mapbox\":{\"style\":\"dark\"},\"paper_bgcolor\":\"rgb(17,17,17)\",\"plot_bgcolor\":\"rgb(17,17,17)\",\"polar\":{\"angularaxis\":{\"gridcolor\":\"#506784\",\"linecolor\":\"#506784\",\"ticks\":\"\"},\"bgcolor\":\"rgb(17,17,17)\",\"radialaxis\":{\"gridcolor\":\"#506784\",\"linecolor\":\"#506784\",\"ticks\":\"\"}},\"scene\":{\"xaxis\":{\"backgroundcolor\":\"rgb(17,17,17)\",\"gridcolor\":\"#506784\",\"gridwidth\":2,\"linecolor\":\"#506784\",\"showbackground\":true,\"ticks\":\"\",\"zerolinecolor\":\"#C8D4E3\"},\"yaxis\":{\"backgroundcolor\":\"rgb(17,17,17)\",\"gridcolor\":\"#506784\",\"gridwidth\":2,\"linecolor\":\"#506784\",\"showbackground\":true,\"ticks\":\"\",\"zerolinecolor\":\"#C8D4E3\"},\"zaxis\":{\"backgroundcolor\":\"rgb(17,17,17)\",\"gridcolor\":\"#506784\",\"gridwidth\":2,\"linecolor\":\"#506784\",\"showbackground\":true,\"ticks\":\"\",\"zerolinecolor\":\"#C8D4E3\"}},\"shapedefaults\":{\"line\":{\"color\":\"#f2f5fa\"}},\"sliderdefaults\":{\"bgcolor\":\"#C8D4E3\",\"bordercolor\":\"rgb(17,17,17)\",\"borderwidth\":1,\"tickwidth\":0},\"ternary\":{\"aaxis\":{\"gridcolor\":\"#506784\",\"linecolor\":\"#506784\",\"ticks\":\"\"},\"baxis\":{\"gridcolor\":\"#506784\",\"linecolor\":\"#506784\",\"ticks\":\"\"},\"bgcolor\":\"rgb(17,17,17)\",\"caxis\":{\"gridcolor\":\"#506784\",\"linecolor\":\"#506784\",\"ticks\":\"\"}},\"title\":{\"x\":0.05},\"updatemenudefaults\":{\"bgcolor\":\"#506784\",\"borderwidth\":0},\"xaxis\":{\"automargin\":true,\"gridcolor\":\"#283442\",\"linecolor\":\"#506784\",\"ticks\":\"\",\"title\":{\"standoff\":15},\"zerolinecolor\":\"#283442\",\"zerolinewidth\":2},\"yaxis\":{\"automargin\":true,\"gridcolor\":\"#283442\",\"linecolor\":\"#506784\",\"ticks\":\"\",\"title\":{\"standoff\":15},\"zerolinecolor\":\"#283442\",\"zerolinewidth\":2}}},\"xaxis\":{\"anchor\":\"y\",\"domain\":[0.0,1.0],\"title\":{\"text\":\"Stats\"},\"categoryorder\":\"array\",\"categoryarray\":[\"clean_sheets\",\"passes_launched_gk\",\"age\",\"pens_saved\",\"CL\",\"Season\",\"squad\",\"MP\",\"league\",\"nationality\",\"height\",\"foot\",\"position\",\"WinCL\",\"CLBestScorer\"]},\"yaxis\":{\"anchor\":\"x\",\"domain\":[0.0,1.0],\"title\":{\"text\":\"FI\"}},\"legend\":{\"title\":{\"text\":\"Stats\"},\"tracegroupgap\":0},\"margin\":{\"t\":60},\"barmode\":\"relative\"},                        {\"responsive\": true}                    ).then(function(){\n",
              "                            \n",
              "var gd = document.getElementById('600a135a-138a-4e13-b36b-5698a2fd7348');\n",
              "var x = new MutationObserver(function (mutations, observer) {{\n",
              "        var display = window.getComputedStyle(gd).display;\n",
              "        if (!display || display === 'none') {{\n",
              "            console.log([gd, 'removed!']);\n",
              "            Plotly.purge(gd);\n",
              "            observer.disconnect();\n",
              "        }}\n",
              "}});\n",
              "\n",
              "// Listen for the removal of the full notebook cells\n",
              "var notebookContainer = gd.closest('#notebook-container');\n",
              "if (notebookContainer) {{\n",
              "    x.observe(notebookContainer, {childList: true});\n",
              "}}\n",
              "\n",
              "// Listen for the clearing of the current output cell\n",
              "var outputEl = gd.closest('.output');\n",
              "if (outputEl) {{\n",
              "    x.observe(outputEl, {childList: true});\n",
              "}}\n",
              "\n",
              "                        })                };                            </script>        </div>\n",
              "</body>\n",
              "</html>"
            ]
          },
          "metadata": {}
        }
      ]
    },
    {
      "cell_type": "code",
      "metadata": {
        "id": "kAhaWg1qNLoM"
      },
      "source": [],
      "execution_count": 57,
      "outputs": []
    }
  ]
}