{
  "nbformat": 4,
  "nbformat_minor": 0,
  "metadata": {
    "colab": {
      "provenance": [],
      "toc_visible": true,
      "include_colab_link": true
    },
    "kernelspec": {
      "display_name": "Python 3",
      "language": "python",
      "name": "python3"
    },
    "language_info": {
      "codemirror_mode": {
        "name": "ipython",
        "version": 3
      },
      "file_extension": ".py",
      "mimetype": "text/x-python",
      "name": "python",
      "nbconvert_exporter": "python",
      "pygments_lexer": "ipython3",
      "version": "3.7.4"
    }
  },
  "cells": [
    {
      "cell_type": "markdown",
      "metadata": {
        "id": "view-in-github",
        "colab_type": "text"
      },
      "source": [
        "<a href=\"https://colab.research.google.com/github/chanyoung98/predicting_the_transfer_fee_of_soccer_player/blob/main/fc203_%EC%B5%9C%EC%A2%85.ipynb\" target=\"_parent\"><img src=\"https://colab.research.google.com/assets/colab-badge.svg\" alt=\"Open In Colab\"/></a>"
      ]
    },
    {
      "cell_type": "markdown",
      "metadata": {
        "id": "3VdH_At4LgSD"
      },
      "source": [
        "# 축구선수 이적료 예측 모델링"
      ]
    },
    {
      "cell_type": "markdown",
      "metadata": {
        "id": "MNzRzj3FLgSK"
      },
      "source": [
        "#### 팀 FC203 [응용통계학과 김찬영, 김청환, 이현석]"
      ]
    },
    {
      "cell_type": "code",
      "metadata": {
        "id": "MGwgJL0KLp1f",
        "colab": {
          "base_uri": "https://localhost:8080/"
        },
        "outputId": "f6d57265-3671-4806-c16a-ba87fec4ade2"
      },
      "source": [
        "from google.colab import drive\n",
        "drive.mount('/content/drive')"
      ],
      "execution_count": 1,
      "outputs": [
        {
          "output_type": "stream",
          "name": "stdout",
          "text": [
            "Mounted at /content/drive\n"
          ]
        }
      ]
    },
    {
      "cell_type": "code",
      "metadata": {
        "id": "uI1fofKfLgSL",
        "scrolled": true
      },
      "source": [
        "import pandas as pd\n",
        "import numpy as np\n",
        "import statsmodels.api as sm\n",
        "import matplotlib.pyplot as plt"
      ],
      "execution_count": null,
      "outputs": []
    },
    {
      "cell_type": "code",
      "metadata": {
        "colab": {
          "base_uri": "https://localhost:8080/",
          "height": 388
        },
        "id": "zOS9J_3ZLndG",
        "outputId": "b4d8ff4e-3c53-4884-d999-fcc14bca1520"
      },
      "source": [
        "PATH = '/content/drive/MyDrive/Colab Notebooks/통계최강자전/'\n",
        "df17 = pd.read_csv(PATH + 'transfermarkt_fbref_201718.csv', sep=';')\n",
        "df18 = pd.read_csv(PATH + 'transfermarkt_fbref_201819.csv', sep=';')\n",
        "df19 = pd.read_csv(PATH + 'transfermarkt_fbref_201920.csv', sep=';')\n",
        "df17.head(3)"
      ],
      "execution_count": null,
      "outputs": [
        {
          "output_type": "stream",
          "name": "stderr",
          "text": [
            "/usr/local/lib/python3.7/dist-packages/IPython/core/interactiveshell.py:2718: DtypeWarning:\n",
            "\n",
            "Columns (395) have mixed types.Specify dtype option on import or set low_memory=False.\n",
            "\n"
          ]
        },
        {
          "output_type": "execute_result",
          "data": {
            "text/html": [
              "<div>\n",
              "<style scoped>\n",
              "    .dataframe tbody tr th:only-of-type {\n",
              "        vertical-align: middle;\n",
              "    }\n",
              "\n",
              "    .dataframe tbody tr th {\n",
              "        vertical-align: top;\n",
              "    }\n",
              "\n",
              "    .dataframe thead th {\n",
              "        text-align: right;\n",
              "    }\n",
              "</style>\n",
              "<table border=\"1\" class=\"dataframe\">\n",
              "  <thead>\n",
              "    <tr style=\"text-align: right;\">\n",
              "      <th></th>\n",
              "      <th>Unnamed: 0</th>\n",
              "      <th>player</th>\n",
              "      <th>nationality</th>\n",
              "      <th>position</th>\n",
              "      <th>squad</th>\n",
              "      <th>age</th>\n",
              "      <th>birth_year</th>\n",
              "      <th>value</th>\n",
              "      <th>height</th>\n",
              "      <th>position2</th>\n",
              "      <th>foot</th>\n",
              "      <th>league</th>\n",
              "      <th>games</th>\n",
              "      <th>games_starts</th>\n",
              "      <th>minutes</th>\n",
              "      <th>goals</th>\n",
              "      <th>assists</th>\n",
              "      <th>pens_made</th>\n",
              "      <th>pens_att</th>\n",
              "      <th>cards_yellow</th>\n",
              "      <th>cards_red</th>\n",
              "      <th>goals_per90</th>\n",
              "      <th>assists_per90</th>\n",
              "      <th>goals_assists_per90</th>\n",
              "      <th>goals_pens_per90</th>\n",
              "      <th>goals_assists_pens_per90</th>\n",
              "      <th>xg</th>\n",
              "      <th>npxg</th>\n",
              "      <th>xa</th>\n",
              "      <th>xg_per90</th>\n",
              "      <th>xa_per90</th>\n",
              "      <th>xg_xa_per90</th>\n",
              "      <th>npxg_per90</th>\n",
              "      <th>npxg_xa_per90</th>\n",
              "      <th>minutes_90s</th>\n",
              "      <th>shots_total</th>\n",
              "      <th>shots_on_target</th>\n",
              "      <th>shots_free_kicks</th>\n",
              "      <th>shots_on_target_pct</th>\n",
              "      <th>shots_total_per90</th>\n",
              "      <th>...</th>\n",
              "      <th>own_goals_against_gkm</th>\n",
              "      <th>psxg_gkm</th>\n",
              "      <th>psnpxg_per_shot_on_target_againstm</th>\n",
              "      <th>psxg_net_gkm</th>\n",
              "      <th>psxg_net_per90_gkm</th>\n",
              "      <th>passes_completed_launched_gkm</th>\n",
              "      <th>passes_launched_gkm</th>\n",
              "      <th>passes_pct_launched_gkm</th>\n",
              "      <th>passes_gkm</th>\n",
              "      <th>passes_throws_gkm</th>\n",
              "      <th>pct_passes_launched_gkm</th>\n",
              "      <th>passes_length_avg_gkm</th>\n",
              "      <th>goal_kicksm</th>\n",
              "      <th>pct_goal_kicks_launchedm</th>\n",
              "      <th>goal_kick_length_avgm</th>\n",
              "      <th>crosses_gkm</th>\n",
              "      <th>crosses_stopped_gkm</th>\n",
              "      <th>crosses_stopped_pct_gkm</th>\n",
              "      <th>def_actions_outside_pen_area_gkm</th>\n",
              "      <th>def_actions_outside_pen_area_per90_gkm</th>\n",
              "      <th>avg_distance_def_actions_gkm</th>\n",
              "      <th>LgRk</th>\n",
              "      <th>MP</th>\n",
              "      <th>W</th>\n",
              "      <th>D</th>\n",
              "      <th>L</th>\n",
              "      <th>GF</th>\n",
              "      <th>GA</th>\n",
              "      <th>GDiff</th>\n",
              "      <th>Pts</th>\n",
              "      <th>Pts/G</th>\n",
              "      <th>xG</th>\n",
              "      <th>xGA</th>\n",
              "      <th>xGDiff</th>\n",
              "      <th>xGDiff/90</th>\n",
              "      <th>Attendance</th>\n",
              "      <th>CL</th>\n",
              "      <th>WinCL</th>\n",
              "      <th>CLBestScorer</th>\n",
              "      <th>Season</th>\n",
              "    </tr>\n",
              "  </thead>\n",
              "  <tbody>\n",
              "    <tr>\n",
              "      <th>0</th>\n",
              "      <td>379</td>\n",
              "      <td>Burgui</td>\n",
              "      <td>es ESP</td>\n",
              "      <td>FW,MF</td>\n",
              "      <td>Alavés</td>\n",
              "      <td>23</td>\n",
              "      <td>1993</td>\n",
              "      <td>1800000</td>\n",
              "      <td>186</td>\n",
              "      <td>attack - Left Winger</td>\n",
              "      <td>right</td>\n",
              "      <td>La Liga</td>\n",
              "      <td>23</td>\n",
              "      <td>12</td>\n",
              "      <td>1037</td>\n",
              "      <td>1</td>\n",
              "      <td>1</td>\n",
              "      <td>0</td>\n",
              "      <td>0</td>\n",
              "      <td>1</td>\n",
              "      <td>0</td>\n",
              "      <td>0.09</td>\n",
              "      <td>0.09</td>\n",
              "      <td>0.17</td>\n",
              "      <td>0.09</td>\n",
              "      <td>0.17</td>\n",
              "      <td>0.9</td>\n",
              "      <td>0.9</td>\n",
              "      <td>1.7</td>\n",
              "      <td>0.08</td>\n",
              "      <td>0.15</td>\n",
              "      <td>0.23</td>\n",
              "      <td>0.08</td>\n",
              "      <td>0.23</td>\n",
              "      <td>11.5</td>\n",
              "      <td>14</td>\n",
              "      <td>4</td>\n",
              "      <td>1</td>\n",
              "      <td>28.6</td>\n",
              "      <td>1.22</td>\n",
              "      <td>...</td>\n",
              "      <td>0.0</td>\n",
              "      <td>0.000000</td>\n",
              "      <td>0.000000</td>\n",
              "      <td>0.0</td>\n",
              "      <td>0.0</td>\n",
              "      <td>0.000000</td>\n",
              "      <td>0.000000</td>\n",
              "      <td>0.00000</td>\n",
              "      <td>0.000000</td>\n",
              "      <td>0.000000</td>\n",
              "      <td>0.000000</td>\n",
              "      <td>0.000000</td>\n",
              "      <td>0.000000</td>\n",
              "      <td>0.000000</td>\n",
              "      <td>0.000000</td>\n",
              "      <td>0.000000</td>\n",
              "      <td>0.000000</td>\n",
              "      <td>0.000000</td>\n",
              "      <td>0.000000</td>\n",
              "      <td>0.000000</td>\n",
              "      <td>0.000000</td>\n",
              "      <td>14</td>\n",
              "      <td>38</td>\n",
              "      <td>15</td>\n",
              "      <td>2</td>\n",
              "      <td>21</td>\n",
              "      <td>40</td>\n",
              "      <td>50</td>\n",
              "      <td>-10</td>\n",
              "      <td>47</td>\n",
              "      <td>1.24</td>\n",
              "      <td>39.0</td>\n",
              "      <td>53.2</td>\n",
              "      <td>-14.2</td>\n",
              "      <td>-0.37</td>\n",
              "      <td>16,819</td>\n",
              "      <td>0</td>\n",
              "      <td>0</td>\n",
              "      <td>0</td>\n",
              "      <td>201718#</td>\n",
              "    </tr>\n",
              "    <tr>\n",
              "      <th>1</th>\n",
              "      <td>2530</td>\n",
              "      <td>Raphaël Varane</td>\n",
              "      <td>fr FRA</td>\n",
              "      <td>DF</td>\n",
              "      <td>Real Madrid</td>\n",
              "      <td>24</td>\n",
              "      <td>1993</td>\n",
              "      <td>70000000</td>\n",
              "      <td>191</td>\n",
              "      <td>Defender - Centre-Back</td>\n",
              "      <td>right</td>\n",
              "      <td>La Liga</td>\n",
              "      <td>27</td>\n",
              "      <td>27</td>\n",
              "      <td>2320</td>\n",
              "      <td>0</td>\n",
              "      <td>1</td>\n",
              "      <td>0</td>\n",
              "      <td>0</td>\n",
              "      <td>3</td>\n",
              "      <td>0</td>\n",
              "      <td>0.00</td>\n",
              "      <td>0.04</td>\n",
              "      <td>0.04</td>\n",
              "      <td>0.00</td>\n",
              "      <td>0.04</td>\n",
              "      <td>0.9</td>\n",
              "      <td>0.9</td>\n",
              "      <td>0.9</td>\n",
              "      <td>0.04</td>\n",
              "      <td>0.04</td>\n",
              "      <td>0.07</td>\n",
              "      <td>0.04</td>\n",
              "      <td>0.07</td>\n",
              "      <td>25.8</td>\n",
              "      <td>10</td>\n",
              "      <td>2</td>\n",
              "      <td>0</td>\n",
              "      <td>20.0</td>\n",
              "      <td>0.39</td>\n",
              "      <td>...</td>\n",
              "      <td>0.0</td>\n",
              "      <td>0.000000</td>\n",
              "      <td>0.000000</td>\n",
              "      <td>0.0</td>\n",
              "      <td>0.0</td>\n",
              "      <td>0.000000</td>\n",
              "      <td>0.000000</td>\n",
              "      <td>0.00000</td>\n",
              "      <td>0.000000</td>\n",
              "      <td>0.000000</td>\n",
              "      <td>0.000000</td>\n",
              "      <td>0.000000</td>\n",
              "      <td>0.000000</td>\n",
              "      <td>0.000000</td>\n",
              "      <td>0.000000</td>\n",
              "      <td>0.000000</td>\n",
              "      <td>0.000000</td>\n",
              "      <td>0.000000</td>\n",
              "      <td>0.000000</td>\n",
              "      <td>0.000000</td>\n",
              "      <td>0.000000</td>\n",
              "      <td>3</td>\n",
              "      <td>38</td>\n",
              "      <td>22</td>\n",
              "      <td>10</td>\n",
              "      <td>6</td>\n",
              "      <td>94</td>\n",
              "      <td>44</td>\n",
              "      <td>50</td>\n",
              "      <td>76</td>\n",
              "      <td>2.00</td>\n",
              "      <td>83.3</td>\n",
              "      <td>45.4</td>\n",
              "      <td>37.9</td>\n",
              "      <td>1.00</td>\n",
              "      <td>66161</td>\n",
              "      <td>1</td>\n",
              "      <td>1</td>\n",
              "      <td>0</td>\n",
              "      <td>201718#</td>\n",
              "    </tr>\n",
              "    <tr>\n",
              "      <th>2</th>\n",
              "      <td>721</td>\n",
              "      <td>Rubén Duarte</td>\n",
              "      <td>es ESP</td>\n",
              "      <td>DF</td>\n",
              "      <td>Alavés</td>\n",
              "      <td>21</td>\n",
              "      <td>1995</td>\n",
              "      <td>2000000</td>\n",
              "      <td>179</td>\n",
              "      <td>Defender - Left-Back</td>\n",
              "      <td>left</td>\n",
              "      <td>La Liga</td>\n",
              "      <td>24</td>\n",
              "      <td>24</td>\n",
              "      <td>2138</td>\n",
              "      <td>0</td>\n",
              "      <td>2</td>\n",
              "      <td>0</td>\n",
              "      <td>0</td>\n",
              "      <td>9</td>\n",
              "      <td>2</td>\n",
              "      <td>0.00</td>\n",
              "      <td>0.08</td>\n",
              "      <td>0.08</td>\n",
              "      <td>0.00</td>\n",
              "      <td>0.08</td>\n",
              "      <td>0.5</td>\n",
              "      <td>0.5</td>\n",
              "      <td>1.6</td>\n",
              "      <td>0.02</td>\n",
              "      <td>0.07</td>\n",
              "      <td>0.09</td>\n",
              "      <td>0.02</td>\n",
              "      <td>0.09</td>\n",
              "      <td>23.8</td>\n",
              "      <td>8</td>\n",
              "      <td>1</td>\n",
              "      <td>0</td>\n",
              "      <td>12.5</td>\n",
              "      <td>0.34</td>\n",
              "      <td>...</td>\n",
              "      <td>0.0</td>\n",
              "      <td>0.020175</td>\n",
              "      <td>0.000094</td>\n",
              "      <td>0.0</td>\n",
              "      <td>0.0</td>\n",
              "      <td>0.097368</td>\n",
              "      <td>0.322515</td>\n",
              "      <td>0.00883</td>\n",
              "      <td>0.254094</td>\n",
              "      <td>0.014327</td>\n",
              "      <td>0.026433</td>\n",
              "      <td>0.018012</td>\n",
              "      <td>0.093275</td>\n",
              "      <td>0.029064</td>\n",
              "      <td>0.020643</td>\n",
              "      <td>0.087427</td>\n",
              "      <td>0.006433</td>\n",
              "      <td>0.002164</td>\n",
              "      <td>0.011111</td>\n",
              "      <td>0.000292</td>\n",
              "      <td>0.004737</td>\n",
              "      <td>14</td>\n",
              "      <td>38</td>\n",
              "      <td>15</td>\n",
              "      <td>2</td>\n",
              "      <td>21</td>\n",
              "      <td>40</td>\n",
              "      <td>50</td>\n",
              "      <td>-10</td>\n",
              "      <td>47</td>\n",
              "      <td>1.24</td>\n",
              "      <td>39.0</td>\n",
              "      <td>53.2</td>\n",
              "      <td>-14.2</td>\n",
              "      <td>-0.37</td>\n",
              "      <td>16,819</td>\n",
              "      <td>0</td>\n",
              "      <td>0</td>\n",
              "      <td>0</td>\n",
              "      <td>201718#</td>\n",
              "    </tr>\n",
              "  </tbody>\n",
              "</table>\n",
              "<p>3 rows × 400 columns</p>\n",
              "</div>"
            ],
            "text/plain": [
              "   Unnamed: 0          player nationality  ... WinCL CLBestScorer   Season\n",
              "0         379          Burgui      es ESP  ...     0            0  201718#\n",
              "1        2530  Raphaël Varane      fr FRA  ...     1            0  201718#\n",
              "2         721    Rubén Duarte      es ESP  ...     0            0  201718#\n",
              "\n",
              "[3 rows x 400 columns]"
            ]
          },
          "metadata": {},
          "execution_count": 59
        }
      ]
    },
    {
      "cell_type": "markdown",
      "metadata": {
        "id": "GiS6Rpk-LgST"
      },
      "source": [
        "## Data preprocessing"
      ]
    },
    {
      "cell_type": "code",
      "metadata": {
        "colab": {
          "base_uri": "https://localhost:8080/",
          "height": 429
        },
        "id": "ICHA9epOLgSU",
        "outputId": "a2f54c4f-fa76-48b3-8428-61255c488524"
      },
      "source": [
        "# Processing missing values for each season's data\n",
        "df17 = df17.fillna(0)\n",
        "df17 = df17[df17.foot!=0]\n",
        "df18.dropna(axis=0, inplace=True)\n",
        "df19['CLBestScorer'] = df19['CLBestScorer'].fillna(0)\n",
        "df19.dropna(axis=0, inplace=True)\n",
        "\n",
        "# Changing column name('Unnamed: 0') / Data merging\n",
        "df17.rename(columns={'Unnamed: 0':'Column1'}, inplace=True)\n",
        "df0 = pd.concat([df17, df18])\n",
        "df1 = pd.concat([df0, df19])\n",
        "df1.tail()"
      ],
      "execution_count": null,
      "outputs": [
        {
          "output_type": "execute_result",
          "data": {
            "text/html": [
              "<div>\n",
              "<style scoped>\n",
              "    .dataframe tbody tr th:only-of-type {\n",
              "        vertical-align: middle;\n",
              "    }\n",
              "\n",
              "    .dataframe tbody tr th {\n",
              "        vertical-align: top;\n",
              "    }\n",
              "\n",
              "    .dataframe thead th {\n",
              "        text-align: right;\n",
              "    }\n",
              "</style>\n",
              "<table border=\"1\" class=\"dataframe\">\n",
              "  <thead>\n",
              "    <tr style=\"text-align: right;\">\n",
              "      <th></th>\n",
              "      <th>Column1</th>\n",
              "      <th>player</th>\n",
              "      <th>nationality</th>\n",
              "      <th>position</th>\n",
              "      <th>squad</th>\n",
              "      <th>age</th>\n",
              "      <th>birth_year</th>\n",
              "      <th>value</th>\n",
              "      <th>height</th>\n",
              "      <th>position2</th>\n",
              "      <th>foot</th>\n",
              "      <th>league</th>\n",
              "      <th>games</th>\n",
              "      <th>games_starts</th>\n",
              "      <th>minutes</th>\n",
              "      <th>goals</th>\n",
              "      <th>assists</th>\n",
              "      <th>pens_made</th>\n",
              "      <th>pens_att</th>\n",
              "      <th>cards_yellow</th>\n",
              "      <th>cards_red</th>\n",
              "      <th>goals_per90</th>\n",
              "      <th>assists_per90</th>\n",
              "      <th>goals_assists_per90</th>\n",
              "      <th>goals_pens_per90</th>\n",
              "      <th>goals_assists_pens_per90</th>\n",
              "      <th>xg</th>\n",
              "      <th>npxg</th>\n",
              "      <th>xa</th>\n",
              "      <th>xg_per90</th>\n",
              "      <th>xa_per90</th>\n",
              "      <th>xg_xa_per90</th>\n",
              "      <th>npxg_per90</th>\n",
              "      <th>npxg_xa_per90</th>\n",
              "      <th>minutes_90s</th>\n",
              "      <th>shots_total</th>\n",
              "      <th>shots_on_target</th>\n",
              "      <th>shots_free_kicks</th>\n",
              "      <th>shots_on_target_pct</th>\n",
              "      <th>shots_total_per90</th>\n",
              "      <th>...</th>\n",
              "      <th>own_goals_against_gkm</th>\n",
              "      <th>psxg_gkm</th>\n",
              "      <th>psnpxg_per_shot_on_target_againstm</th>\n",
              "      <th>psxg_net_gkm</th>\n",
              "      <th>psxg_net_per90_gkm</th>\n",
              "      <th>passes_completed_launched_gkm</th>\n",
              "      <th>passes_launched_gkm</th>\n",
              "      <th>passes_pct_launched_gkm</th>\n",
              "      <th>passes_gkm</th>\n",
              "      <th>passes_throws_gkm</th>\n",
              "      <th>pct_passes_launched_gkm</th>\n",
              "      <th>passes_length_avg_gkm</th>\n",
              "      <th>goal_kicksm</th>\n",
              "      <th>pct_goal_kicks_launchedm</th>\n",
              "      <th>goal_kick_length_avgm</th>\n",
              "      <th>crosses_gkm</th>\n",
              "      <th>crosses_stopped_gkm</th>\n",
              "      <th>crosses_stopped_pct_gkm</th>\n",
              "      <th>def_actions_outside_pen_area_gkm</th>\n",
              "      <th>def_actions_outside_pen_area_per90_gkm</th>\n",
              "      <th>avg_distance_def_actions_gkm</th>\n",
              "      <th>LgRk</th>\n",
              "      <th>MP</th>\n",
              "      <th>W</th>\n",
              "      <th>D</th>\n",
              "      <th>L</th>\n",
              "      <th>GF</th>\n",
              "      <th>GA</th>\n",
              "      <th>GDiff</th>\n",
              "      <th>Pts</th>\n",
              "      <th>Pts/G</th>\n",
              "      <th>xG</th>\n",
              "      <th>xGA</th>\n",
              "      <th>xGDiff</th>\n",
              "      <th>xGDiff/90</th>\n",
              "      <th>Attendance</th>\n",
              "      <th>CL</th>\n",
              "      <th>WinCL</th>\n",
              "      <th>CLBestScorer</th>\n",
              "      <th>Season</th>\n",
              "    </tr>\n",
              "  </thead>\n",
              "  <tbody>\n",
              "    <tr>\n",
              "      <th>2639</th>\n",
              "      <td>1997.0</td>\n",
              "      <td>Daniel Podence</td>\n",
              "      <td>pt POR</td>\n",
              "      <td>FW,MF</td>\n",
              "      <td>Wolves</td>\n",
              "      <td>23.0</td>\n",
              "      <td>1995.0</td>\n",
              "      <td>12000000.0</td>\n",
              "      <td>165.0</td>\n",
              "      <td>Forward - Right Winger</td>\n",
              "      <td>right</td>\n",
              "      <td>Premier League</td>\n",
              "      <td>9.0</td>\n",
              "      <td>3.0</td>\n",
              "      <td>289.0</td>\n",
              "      <td>1.0</td>\n",
              "      <td>0.0</td>\n",
              "      <td>0.0</td>\n",
              "      <td>0.0</td>\n",
              "      <td>0.0</td>\n",
              "      <td>0.0</td>\n",
              "      <td>0.31</td>\n",
              "      <td>0.00</td>\n",
              "      <td>0.31</td>\n",
              "      <td>0.31</td>\n",
              "      <td>0.31</td>\n",
              "      <td>1.6</td>\n",
              "      <td>1.6</td>\n",
              "      <td>0.4</td>\n",
              "      <td>0.49</td>\n",
              "      <td>0.13</td>\n",
              "      <td>0.62</td>\n",
              "      <td>0.49</td>\n",
              "      <td>0.62</td>\n",
              "      <td>3.2</td>\n",
              "      <td>10.0</td>\n",
              "      <td>4.0</td>\n",
              "      <td>0.0</td>\n",
              "      <td>40.0</td>\n",
              "      <td>3.11</td>\n",
              "      <td>...</td>\n",
              "      <td>0.0</td>\n",
              "      <td>0.0</td>\n",
              "      <td>0.0</td>\n",
              "      <td>0.0</td>\n",
              "      <td>0.0</td>\n",
              "      <td>0.0</td>\n",
              "      <td>0.0</td>\n",
              "      <td>0.0</td>\n",
              "      <td>0.0</td>\n",
              "      <td>0.0</td>\n",
              "      <td>0.0</td>\n",
              "      <td>0.0</td>\n",
              "      <td>0.0</td>\n",
              "      <td>0.0</td>\n",
              "      <td>0.0</td>\n",
              "      <td>0.0</td>\n",
              "      <td>0.0</td>\n",
              "      <td>0.0</td>\n",
              "      <td>0.0</td>\n",
              "      <td>0.0</td>\n",
              "      <td>0.0</td>\n",
              "      <td>7.0</td>\n",
              "      <td>38.0</td>\n",
              "      <td>15.0</td>\n",
              "      <td>14.0</td>\n",
              "      <td>9.0</td>\n",
              "      <td>51.0</td>\n",
              "      <td>40.0</td>\n",
              "      <td>11.0</td>\n",
              "      <td>59.0</td>\n",
              "      <td>1.55</td>\n",
              "      <td>47.1</td>\n",
              "      <td>34.8</td>\n",
              "      <td>12.3</td>\n",
              "      <td>0.32</td>\n",
              "      <td>24758</td>\n",
              "      <td>0.0</td>\n",
              "      <td>0.0</td>\n",
              "      <td>0.0</td>\n",
              "      <td>201920#</td>\n",
              "    </tr>\n",
              "    <tr>\n",
              "      <th>2640</th>\n",
              "      <td>2202.0</td>\n",
              "      <td>Romain SaĂŻss</td>\n",
              "      <td>ma MAR</td>\n",
              "      <td>DF</td>\n",
              "      <td>Wolves</td>\n",
              "      <td>29.0</td>\n",
              "      <td>1990.0</td>\n",
              "      <td>4000000.0</td>\n",
              "      <td>188.0</td>\n",
              "      <td>Defender - Centre-Back</td>\n",
              "      <td>left</td>\n",
              "      <td>Premier League</td>\n",
              "      <td>33.0</td>\n",
              "      <td>31.0</td>\n",
              "      <td>2705.0</td>\n",
              "      <td>2.0</td>\n",
              "      <td>1.0</td>\n",
              "      <td>0.0</td>\n",
              "      <td>0.0</td>\n",
              "      <td>12.0</td>\n",
              "      <td>1.0</td>\n",
              "      <td>0.07</td>\n",
              "      <td>0.03</td>\n",
              "      <td>0.10</td>\n",
              "      <td>0.07</td>\n",
              "      <td>0.10</td>\n",
              "      <td>2.7</td>\n",
              "      <td>2.7</td>\n",
              "      <td>0.5</td>\n",
              "      <td>0.09</td>\n",
              "      <td>0.02</td>\n",
              "      <td>0.11</td>\n",
              "      <td>0.09</td>\n",
              "      <td>0.11</td>\n",
              "      <td>30.1</td>\n",
              "      <td>23.0</td>\n",
              "      <td>8.0</td>\n",
              "      <td>1.0</td>\n",
              "      <td>34.8</td>\n",
              "      <td>0.77</td>\n",
              "      <td>...</td>\n",
              "      <td>0.0</td>\n",
              "      <td>0.0</td>\n",
              "      <td>0.0</td>\n",
              "      <td>0.0</td>\n",
              "      <td>0.0</td>\n",
              "      <td>0.0</td>\n",
              "      <td>0.0</td>\n",
              "      <td>0.0</td>\n",
              "      <td>0.0</td>\n",
              "      <td>0.0</td>\n",
              "      <td>0.0</td>\n",
              "      <td>0.0</td>\n",
              "      <td>0.0</td>\n",
              "      <td>0.0</td>\n",
              "      <td>0.0</td>\n",
              "      <td>0.0</td>\n",
              "      <td>0.0</td>\n",
              "      <td>0.0</td>\n",
              "      <td>0.0</td>\n",
              "      <td>0.0</td>\n",
              "      <td>0.0</td>\n",
              "      <td>7.0</td>\n",
              "      <td>38.0</td>\n",
              "      <td>15.0</td>\n",
              "      <td>14.0</td>\n",
              "      <td>9.0</td>\n",
              "      <td>51.0</td>\n",
              "      <td>40.0</td>\n",
              "      <td>11.0</td>\n",
              "      <td>59.0</td>\n",
              "      <td>1.55</td>\n",
              "      <td>47.1</td>\n",
              "      <td>34.8</td>\n",
              "      <td>12.3</td>\n",
              "      <td>0.32</td>\n",
              "      <td>24758</td>\n",
              "      <td>0.0</td>\n",
              "      <td>0.0</td>\n",
              "      <td>0.0</td>\n",
              "      <td>201920#</td>\n",
              "    </tr>\n",
              "    <tr>\n",
              "      <th>2641</th>\n",
              "      <td>2523.0</td>\n",
              "      <td>Adama TraorĂ©</td>\n",
              "      <td>es ESP</td>\n",
              "      <td>FW,MF</td>\n",
              "      <td>Wolves</td>\n",
              "      <td>23.0</td>\n",
              "      <td>1996.0</td>\n",
              "      <td>25000000.0</td>\n",
              "      <td>178.0</td>\n",
              "      <td>Forward - Right Winger</td>\n",
              "      <td>right</td>\n",
              "      <td>Premier League</td>\n",
              "      <td>37.0</td>\n",
              "      <td>27.0</td>\n",
              "      <td>2605.0</td>\n",
              "      <td>4.0</td>\n",
              "      <td>9.0</td>\n",
              "      <td>0.0</td>\n",
              "      <td>0.0</td>\n",
              "      <td>1.0</td>\n",
              "      <td>0.0</td>\n",
              "      <td>0.14</td>\n",
              "      <td>0.31</td>\n",
              "      <td>0.45</td>\n",
              "      <td>0.14</td>\n",
              "      <td>0.45</td>\n",
              "      <td>3.5</td>\n",
              "      <td>3.5</td>\n",
              "      <td>6.7</td>\n",
              "      <td>0.12</td>\n",
              "      <td>0.23</td>\n",
              "      <td>0.35</td>\n",
              "      <td>0.12</td>\n",
              "      <td>0.35</td>\n",
              "      <td>11.2</td>\n",
              "      <td>17.0</td>\n",
              "      <td>4.0</td>\n",
              "      <td>7.0</td>\n",
              "      <td>23.5</td>\n",
              "      <td>1.52</td>\n",
              "      <td>...</td>\n",
              "      <td>0.0</td>\n",
              "      <td>0.0</td>\n",
              "      <td>0.0</td>\n",
              "      <td>0.0</td>\n",
              "      <td>0.0</td>\n",
              "      <td>0.0</td>\n",
              "      <td>0.0</td>\n",
              "      <td>0.0</td>\n",
              "      <td>0.0</td>\n",
              "      <td>0.0</td>\n",
              "      <td>0.0</td>\n",
              "      <td>0.0</td>\n",
              "      <td>0.0</td>\n",
              "      <td>0.0</td>\n",
              "      <td>0.0</td>\n",
              "      <td>0.0</td>\n",
              "      <td>0.0</td>\n",
              "      <td>0.0</td>\n",
              "      <td>0.0</td>\n",
              "      <td>0.0</td>\n",
              "      <td>0.0</td>\n",
              "      <td>7.0</td>\n",
              "      <td>38.0</td>\n",
              "      <td>15.0</td>\n",
              "      <td>14.0</td>\n",
              "      <td>9.0</td>\n",
              "      <td>51.0</td>\n",
              "      <td>40.0</td>\n",
              "      <td>11.0</td>\n",
              "      <td>59.0</td>\n",
              "      <td>1.55</td>\n",
              "      <td>47.1</td>\n",
              "      <td>34.8</td>\n",
              "      <td>12.3</td>\n",
              "      <td>0.32</td>\n",
              "      <td>24758</td>\n",
              "      <td>0.0</td>\n",
              "      <td>0.0</td>\n",
              "      <td>0.0</td>\n",
              "      <td>201920#</td>\n",
              "    </tr>\n",
              "    <tr>\n",
              "      <th>2642</th>\n",
              "      <td>2567.0</td>\n",
              "      <td>JesĂşs Vallejo</td>\n",
              "      <td>es ESP</td>\n",
              "      <td>DF</td>\n",
              "      <td>Wolves</td>\n",
              "      <td>22.0</td>\n",
              "      <td>1997.0</td>\n",
              "      <td>6000000.0</td>\n",
              "      <td>184.0</td>\n",
              "      <td>Defender - Centre-Back</td>\n",
              "      <td>right</td>\n",
              "      <td>Premier League</td>\n",
              "      <td>2.0</td>\n",
              "      <td>1.0</td>\n",
              "      <td>163.0</td>\n",
              "      <td>0.0</td>\n",
              "      <td>0.0</td>\n",
              "      <td>0.0</td>\n",
              "      <td>0.0</td>\n",
              "      <td>1.0</td>\n",
              "      <td>0.0</td>\n",
              "      <td>0.00</td>\n",
              "      <td>0.00</td>\n",
              "      <td>0.00</td>\n",
              "      <td>0.00</td>\n",
              "      <td>0.00</td>\n",
              "      <td>0.0</td>\n",
              "      <td>0.0</td>\n",
              "      <td>0.0</td>\n",
              "      <td>0.00</td>\n",
              "      <td>0.00</td>\n",
              "      <td>0.00</td>\n",
              "      <td>0.00</td>\n",
              "      <td>0.00</td>\n",
              "      <td>1.8</td>\n",
              "      <td>0.0</td>\n",
              "      <td>0.0</td>\n",
              "      <td>0.0</td>\n",
              "      <td>0.0</td>\n",
              "      <td>0.00</td>\n",
              "      <td>...</td>\n",
              "      <td>0.0</td>\n",
              "      <td>0.0</td>\n",
              "      <td>0.0</td>\n",
              "      <td>0.0</td>\n",
              "      <td>0.0</td>\n",
              "      <td>0.0</td>\n",
              "      <td>0.0</td>\n",
              "      <td>0.0</td>\n",
              "      <td>0.0</td>\n",
              "      <td>0.0</td>\n",
              "      <td>0.0</td>\n",
              "      <td>0.0</td>\n",
              "      <td>0.0</td>\n",
              "      <td>0.0</td>\n",
              "      <td>0.0</td>\n",
              "      <td>0.0</td>\n",
              "      <td>0.0</td>\n",
              "      <td>0.0</td>\n",
              "      <td>0.0</td>\n",
              "      <td>0.0</td>\n",
              "      <td>0.0</td>\n",
              "      <td>7.0</td>\n",
              "      <td>38.0</td>\n",
              "      <td>15.0</td>\n",
              "      <td>14.0</td>\n",
              "      <td>9.0</td>\n",
              "      <td>51.0</td>\n",
              "      <td>40.0</td>\n",
              "      <td>11.0</td>\n",
              "      <td>59.0</td>\n",
              "      <td>1.55</td>\n",
              "      <td>47.1</td>\n",
              "      <td>34.8</td>\n",
              "      <td>12.3</td>\n",
              "      <td>0.32</td>\n",
              "      <td>24758</td>\n",
              "      <td>0.0</td>\n",
              "      <td>0.0</td>\n",
              "      <td>0.0</td>\n",
              "      <td>201920#</td>\n",
              "    </tr>\n",
              "    <tr>\n",
              "      <th>2643</th>\n",
              "      <td>2615.0</td>\n",
              "      <td>RĂşben Vinagre</td>\n",
              "      <td>pt POR</td>\n",
              "      <td>DF</td>\n",
              "      <td>Wolves</td>\n",
              "      <td>20.0</td>\n",
              "      <td>1999.0</td>\n",
              "      <td>9000000.0</td>\n",
              "      <td>174.0</td>\n",
              "      <td>Defender - Left-Back</td>\n",
              "      <td>left</td>\n",
              "      <td>Premier League</td>\n",
              "      <td>16.0</td>\n",
              "      <td>6.0</td>\n",
              "      <td>652.0</td>\n",
              "      <td>0.0</td>\n",
              "      <td>0.0</td>\n",
              "      <td>0.0</td>\n",
              "      <td>0.0</td>\n",
              "      <td>1.0</td>\n",
              "      <td>0.0</td>\n",
              "      <td>0.00</td>\n",
              "      <td>0.00</td>\n",
              "      <td>0.00</td>\n",
              "      <td>0.00</td>\n",
              "      <td>0.00</td>\n",
              "      <td>0.3</td>\n",
              "      <td>0.3</td>\n",
              "      <td>0.5</td>\n",
              "      <td>0.05</td>\n",
              "      <td>0.07</td>\n",
              "      <td>0.12</td>\n",
              "      <td>0.05</td>\n",
              "      <td>0.12</td>\n",
              "      <td>7.2</td>\n",
              "      <td>5.0</td>\n",
              "      <td>0.0</td>\n",
              "      <td>0.0</td>\n",
              "      <td>0.0</td>\n",
              "      <td>0.69</td>\n",
              "      <td>...</td>\n",
              "      <td>0.0</td>\n",
              "      <td>0.0</td>\n",
              "      <td>0.0</td>\n",
              "      <td>0.0</td>\n",
              "      <td>0.0</td>\n",
              "      <td>0.0</td>\n",
              "      <td>0.0</td>\n",
              "      <td>0.0</td>\n",
              "      <td>0.0</td>\n",
              "      <td>0.0</td>\n",
              "      <td>0.0</td>\n",
              "      <td>0.0</td>\n",
              "      <td>0.0</td>\n",
              "      <td>0.0</td>\n",
              "      <td>0.0</td>\n",
              "      <td>0.0</td>\n",
              "      <td>0.0</td>\n",
              "      <td>0.0</td>\n",
              "      <td>0.0</td>\n",
              "      <td>0.0</td>\n",
              "      <td>0.0</td>\n",
              "      <td>7.0</td>\n",
              "      <td>38.0</td>\n",
              "      <td>15.0</td>\n",
              "      <td>14.0</td>\n",
              "      <td>9.0</td>\n",
              "      <td>51.0</td>\n",
              "      <td>40.0</td>\n",
              "      <td>11.0</td>\n",
              "      <td>59.0</td>\n",
              "      <td>1.55</td>\n",
              "      <td>47.1</td>\n",
              "      <td>34.8</td>\n",
              "      <td>12.3</td>\n",
              "      <td>0.32</td>\n",
              "      <td>24758</td>\n",
              "      <td>0.0</td>\n",
              "      <td>0.0</td>\n",
              "      <td>0.0</td>\n",
              "      <td>201920#</td>\n",
              "    </tr>\n",
              "  </tbody>\n",
              "</table>\n",
              "<p>5 rows × 400 columns</p>\n",
              "</div>"
            ],
            "text/plain": [
              "      Column1          player nationality  ... WinCL CLBestScorer   Season\n",
              "2639   1997.0  Daniel Podence      pt POR  ...   0.0          0.0  201920#\n",
              "2640   2202.0   Romain SaĂŻss      ma MAR  ...   0.0          0.0  201920#\n",
              "2641   2523.0   Adama TraorĂ©      es ESP  ...   0.0          0.0  201920#\n",
              "2642   2567.0  JesĂşs Vallejo      es ESP  ...   0.0          0.0  201920#\n",
              "2643   2615.0  RĂşben Vinagre      pt POR  ...   0.0          0.0  201920#\n",
              "\n",
              "[5 rows x 400 columns]"
            ]
          },
          "metadata": {},
          "execution_count": 60
        }
      ]
    },
    {
      "cell_type": "code",
      "metadata": {
        "colab": {
          "base_uri": "https://localhost:8080/",
          "height": 99
        },
        "id": "gseuk5beLgSV",
        "outputId": "6009d629-3916-4a63-f6bb-976893fc62b5"
      },
      "source": [
        "# Identifying duplicated rows\n",
        "duplicated_data = df1[df1.duplicated()]\n",
        "duplicated_data = duplicated_data.dropna()\n",
        "duplicated_data"
      ],
      "execution_count": null,
      "outputs": [
        {
          "output_type": "execute_result",
          "data": {
            "text/html": [
              "<div>\n",
              "<style scoped>\n",
              "    .dataframe tbody tr th:only-of-type {\n",
              "        vertical-align: middle;\n",
              "    }\n",
              "\n",
              "    .dataframe tbody tr th {\n",
              "        vertical-align: top;\n",
              "    }\n",
              "\n",
              "    .dataframe thead th {\n",
              "        text-align: right;\n",
              "    }\n",
              "</style>\n",
              "<table border=\"1\" class=\"dataframe\">\n",
              "  <thead>\n",
              "    <tr style=\"text-align: right;\">\n",
              "      <th></th>\n",
              "      <th>Column1</th>\n",
              "      <th>player</th>\n",
              "      <th>nationality</th>\n",
              "      <th>position</th>\n",
              "      <th>squad</th>\n",
              "      <th>age</th>\n",
              "      <th>birth_year</th>\n",
              "      <th>value</th>\n",
              "      <th>height</th>\n",
              "      <th>position2</th>\n",
              "      <th>foot</th>\n",
              "      <th>league</th>\n",
              "      <th>games</th>\n",
              "      <th>games_starts</th>\n",
              "      <th>minutes</th>\n",
              "      <th>goals</th>\n",
              "      <th>assists</th>\n",
              "      <th>pens_made</th>\n",
              "      <th>pens_att</th>\n",
              "      <th>cards_yellow</th>\n",
              "      <th>cards_red</th>\n",
              "      <th>goals_per90</th>\n",
              "      <th>assists_per90</th>\n",
              "      <th>goals_assists_per90</th>\n",
              "      <th>goals_pens_per90</th>\n",
              "      <th>goals_assists_pens_per90</th>\n",
              "      <th>xg</th>\n",
              "      <th>npxg</th>\n",
              "      <th>xa</th>\n",
              "      <th>xg_per90</th>\n",
              "      <th>xa_per90</th>\n",
              "      <th>xg_xa_per90</th>\n",
              "      <th>npxg_per90</th>\n",
              "      <th>npxg_xa_per90</th>\n",
              "      <th>minutes_90s</th>\n",
              "      <th>shots_total</th>\n",
              "      <th>shots_on_target</th>\n",
              "      <th>shots_free_kicks</th>\n",
              "      <th>shots_on_target_pct</th>\n",
              "      <th>shots_total_per90</th>\n",
              "      <th>...</th>\n",
              "      <th>own_goals_against_gkm</th>\n",
              "      <th>psxg_gkm</th>\n",
              "      <th>psnpxg_per_shot_on_target_againstm</th>\n",
              "      <th>psxg_net_gkm</th>\n",
              "      <th>psxg_net_per90_gkm</th>\n",
              "      <th>passes_completed_launched_gkm</th>\n",
              "      <th>passes_launched_gkm</th>\n",
              "      <th>passes_pct_launched_gkm</th>\n",
              "      <th>passes_gkm</th>\n",
              "      <th>passes_throws_gkm</th>\n",
              "      <th>pct_passes_launched_gkm</th>\n",
              "      <th>passes_length_avg_gkm</th>\n",
              "      <th>goal_kicksm</th>\n",
              "      <th>pct_goal_kicks_launchedm</th>\n",
              "      <th>goal_kick_length_avgm</th>\n",
              "      <th>crosses_gkm</th>\n",
              "      <th>crosses_stopped_gkm</th>\n",
              "      <th>crosses_stopped_pct_gkm</th>\n",
              "      <th>def_actions_outside_pen_area_gkm</th>\n",
              "      <th>def_actions_outside_pen_area_per90_gkm</th>\n",
              "      <th>avg_distance_def_actions_gkm</th>\n",
              "      <th>LgRk</th>\n",
              "      <th>MP</th>\n",
              "      <th>W</th>\n",
              "      <th>D</th>\n",
              "      <th>L</th>\n",
              "      <th>GF</th>\n",
              "      <th>GA</th>\n",
              "      <th>GDiff</th>\n",
              "      <th>Pts</th>\n",
              "      <th>Pts/G</th>\n",
              "      <th>xG</th>\n",
              "      <th>xGA</th>\n",
              "      <th>xGDiff</th>\n",
              "      <th>xGDiff/90</th>\n",
              "      <th>Attendance</th>\n",
              "      <th>CL</th>\n",
              "      <th>WinCL</th>\n",
              "      <th>CLBestScorer</th>\n",
              "      <th>Season</th>\n",
              "    </tr>\n",
              "  </thead>\n",
              "  <tbody>\n",
              "  </tbody>\n",
              "</table>\n",
              "<p>0 rows × 400 columns</p>\n",
              "</div>"
            ],
            "text/plain": [
              "Empty DataFrame\n",
              "Columns: [Column1, player, nationality, position, squad, age, birth_year, value, height, position2, foot, league, games, games_starts, minutes, goals, assists, pens_made, pens_att, cards_yellow, cards_red, goals_per90, assists_per90, goals_assists_per90, goals_pens_per90, goals_assists_pens_per90, xg, npxg, xa, xg_per90, xa_per90, xg_xa_per90, npxg_per90, npxg_xa_per90, minutes_90s, shots_total, shots_on_target, shots_free_kicks, shots_on_target_pct, shots_total_per90, shots_on_target_per90, goals_per_shot, goals_per_shot_on_target, npxg_per_shot, xg_net, npxg_net, passes_completed, passes, passes_pct, passes_total_distance, passes_progressive_distance, passes_completed_short, passes_short, passes_pct_short, passes_completed_medium, passes_medium, passes_pct_medium, passes_completed_long, passes_long, passes_pct_long, xa_net, assisted_shots, passes_into_final_third, passes_into_penalty_area, crosses_into_penalty_area, progressive_passes, passes_live, passes_dead, passes_free_kicks, through_balls, passes_pressure, passes_switches, crosses, corner_kicks, corner_kicks_in, corner_kicks_out, corner_kicks_straight, passes_ground, passes_low, passes_high, passes_left_foot, passes_right_foot, passes_head, throw_ins, passes_other_body, passes_offsides, passes_oob, passes_intercepted, passes_blocked, sca, sca_per90, sca_passes_live, sca_passes_dead, sca_dribbles, sca_shots, sca_fouled, gca, gca_per90, gca_passes_live, gca_passes_dead, ...]\n",
              "Index: []\n",
              "\n",
              "[0 rows x 400 columns]"
            ]
          },
          "metadata": {},
          "execution_count": 61
        }
      ]
    },
    {
      "cell_type": "code",
      "metadata": {
        "colab": {
          "base_uri": "https://localhost:8080/",
          "height": 429
        },
        "id": "bGqKu-H0LgSX",
        "outputId": "437b40cb-e10d-477a-b59b-4fba89bbb00d"
      },
      "source": [
        "# Index reset\n",
        "df1.reset_index(drop=True, inplace=True)\n",
        "df1.tail()"
      ],
      "execution_count": null,
      "outputs": [
        {
          "output_type": "execute_result",
          "data": {
            "text/html": [
              "<div>\n",
              "<style scoped>\n",
              "    .dataframe tbody tr th:only-of-type {\n",
              "        vertical-align: middle;\n",
              "    }\n",
              "\n",
              "    .dataframe tbody tr th {\n",
              "        vertical-align: top;\n",
              "    }\n",
              "\n",
              "    .dataframe thead th {\n",
              "        text-align: right;\n",
              "    }\n",
              "</style>\n",
              "<table border=\"1\" class=\"dataframe\">\n",
              "  <thead>\n",
              "    <tr style=\"text-align: right;\">\n",
              "      <th></th>\n",
              "      <th>Column1</th>\n",
              "      <th>player</th>\n",
              "      <th>nationality</th>\n",
              "      <th>position</th>\n",
              "      <th>squad</th>\n",
              "      <th>age</th>\n",
              "      <th>birth_year</th>\n",
              "      <th>value</th>\n",
              "      <th>height</th>\n",
              "      <th>position2</th>\n",
              "      <th>foot</th>\n",
              "      <th>league</th>\n",
              "      <th>games</th>\n",
              "      <th>games_starts</th>\n",
              "      <th>minutes</th>\n",
              "      <th>goals</th>\n",
              "      <th>assists</th>\n",
              "      <th>pens_made</th>\n",
              "      <th>pens_att</th>\n",
              "      <th>cards_yellow</th>\n",
              "      <th>cards_red</th>\n",
              "      <th>goals_per90</th>\n",
              "      <th>assists_per90</th>\n",
              "      <th>goals_assists_per90</th>\n",
              "      <th>goals_pens_per90</th>\n",
              "      <th>goals_assists_pens_per90</th>\n",
              "      <th>xg</th>\n",
              "      <th>npxg</th>\n",
              "      <th>xa</th>\n",
              "      <th>xg_per90</th>\n",
              "      <th>xa_per90</th>\n",
              "      <th>xg_xa_per90</th>\n",
              "      <th>npxg_per90</th>\n",
              "      <th>npxg_xa_per90</th>\n",
              "      <th>minutes_90s</th>\n",
              "      <th>shots_total</th>\n",
              "      <th>shots_on_target</th>\n",
              "      <th>shots_free_kicks</th>\n",
              "      <th>shots_on_target_pct</th>\n",
              "      <th>shots_total_per90</th>\n",
              "      <th>...</th>\n",
              "      <th>own_goals_against_gkm</th>\n",
              "      <th>psxg_gkm</th>\n",
              "      <th>psnpxg_per_shot_on_target_againstm</th>\n",
              "      <th>psxg_net_gkm</th>\n",
              "      <th>psxg_net_per90_gkm</th>\n",
              "      <th>passes_completed_launched_gkm</th>\n",
              "      <th>passes_launched_gkm</th>\n",
              "      <th>passes_pct_launched_gkm</th>\n",
              "      <th>passes_gkm</th>\n",
              "      <th>passes_throws_gkm</th>\n",
              "      <th>pct_passes_launched_gkm</th>\n",
              "      <th>passes_length_avg_gkm</th>\n",
              "      <th>goal_kicksm</th>\n",
              "      <th>pct_goal_kicks_launchedm</th>\n",
              "      <th>goal_kick_length_avgm</th>\n",
              "      <th>crosses_gkm</th>\n",
              "      <th>crosses_stopped_gkm</th>\n",
              "      <th>crosses_stopped_pct_gkm</th>\n",
              "      <th>def_actions_outside_pen_area_gkm</th>\n",
              "      <th>def_actions_outside_pen_area_per90_gkm</th>\n",
              "      <th>avg_distance_def_actions_gkm</th>\n",
              "      <th>LgRk</th>\n",
              "      <th>MP</th>\n",
              "      <th>W</th>\n",
              "      <th>D</th>\n",
              "      <th>L</th>\n",
              "      <th>GF</th>\n",
              "      <th>GA</th>\n",
              "      <th>GDiff</th>\n",
              "      <th>Pts</th>\n",
              "      <th>Pts/G</th>\n",
              "      <th>xG</th>\n",
              "      <th>xGA</th>\n",
              "      <th>xGDiff</th>\n",
              "      <th>xGDiff/90</th>\n",
              "      <th>Attendance</th>\n",
              "      <th>CL</th>\n",
              "      <th>WinCL</th>\n",
              "      <th>CLBestScorer</th>\n",
              "      <th>Season</th>\n",
              "    </tr>\n",
              "  </thead>\n",
              "  <tbody>\n",
              "    <tr>\n",
              "      <th>6947</th>\n",
              "      <td>1997.0</td>\n",
              "      <td>Daniel Podence</td>\n",
              "      <td>pt POR</td>\n",
              "      <td>FW,MF</td>\n",
              "      <td>Wolves</td>\n",
              "      <td>23.0</td>\n",
              "      <td>1995.0</td>\n",
              "      <td>12000000.0</td>\n",
              "      <td>165.0</td>\n",
              "      <td>Forward - Right Winger</td>\n",
              "      <td>right</td>\n",
              "      <td>Premier League</td>\n",
              "      <td>9.0</td>\n",
              "      <td>3.0</td>\n",
              "      <td>289.0</td>\n",
              "      <td>1.0</td>\n",
              "      <td>0.0</td>\n",
              "      <td>0.0</td>\n",
              "      <td>0.0</td>\n",
              "      <td>0.0</td>\n",
              "      <td>0.0</td>\n",
              "      <td>0.31</td>\n",
              "      <td>0.00</td>\n",
              "      <td>0.31</td>\n",
              "      <td>0.31</td>\n",
              "      <td>0.31</td>\n",
              "      <td>1.6</td>\n",
              "      <td>1.6</td>\n",
              "      <td>0.4</td>\n",
              "      <td>0.49</td>\n",
              "      <td>0.13</td>\n",
              "      <td>0.62</td>\n",
              "      <td>0.49</td>\n",
              "      <td>0.62</td>\n",
              "      <td>3.2</td>\n",
              "      <td>10.0</td>\n",
              "      <td>4.0</td>\n",
              "      <td>0.0</td>\n",
              "      <td>40.0</td>\n",
              "      <td>3.11</td>\n",
              "      <td>...</td>\n",
              "      <td>0.0</td>\n",
              "      <td>0.0</td>\n",
              "      <td>0.0</td>\n",
              "      <td>0.0</td>\n",
              "      <td>0.0</td>\n",
              "      <td>0.0</td>\n",
              "      <td>0.0</td>\n",
              "      <td>0.0</td>\n",
              "      <td>0.0</td>\n",
              "      <td>0.0</td>\n",
              "      <td>0.0</td>\n",
              "      <td>0.0</td>\n",
              "      <td>0.0</td>\n",
              "      <td>0.0</td>\n",
              "      <td>0.0</td>\n",
              "      <td>0.0</td>\n",
              "      <td>0.0</td>\n",
              "      <td>0.0</td>\n",
              "      <td>0.0</td>\n",
              "      <td>0.0</td>\n",
              "      <td>0.0</td>\n",
              "      <td>7.0</td>\n",
              "      <td>38.0</td>\n",
              "      <td>15.0</td>\n",
              "      <td>14.0</td>\n",
              "      <td>9.0</td>\n",
              "      <td>51.0</td>\n",
              "      <td>40.0</td>\n",
              "      <td>11.0</td>\n",
              "      <td>59.0</td>\n",
              "      <td>1.55</td>\n",
              "      <td>47.1</td>\n",
              "      <td>34.8</td>\n",
              "      <td>12.3</td>\n",
              "      <td>0.32</td>\n",
              "      <td>24758</td>\n",
              "      <td>0.0</td>\n",
              "      <td>0.0</td>\n",
              "      <td>0.0</td>\n",
              "      <td>201920#</td>\n",
              "    </tr>\n",
              "    <tr>\n",
              "      <th>6948</th>\n",
              "      <td>2202.0</td>\n",
              "      <td>Romain SaĂŻss</td>\n",
              "      <td>ma MAR</td>\n",
              "      <td>DF</td>\n",
              "      <td>Wolves</td>\n",
              "      <td>29.0</td>\n",
              "      <td>1990.0</td>\n",
              "      <td>4000000.0</td>\n",
              "      <td>188.0</td>\n",
              "      <td>Defender - Centre-Back</td>\n",
              "      <td>left</td>\n",
              "      <td>Premier League</td>\n",
              "      <td>33.0</td>\n",
              "      <td>31.0</td>\n",
              "      <td>2705.0</td>\n",
              "      <td>2.0</td>\n",
              "      <td>1.0</td>\n",
              "      <td>0.0</td>\n",
              "      <td>0.0</td>\n",
              "      <td>12.0</td>\n",
              "      <td>1.0</td>\n",
              "      <td>0.07</td>\n",
              "      <td>0.03</td>\n",
              "      <td>0.10</td>\n",
              "      <td>0.07</td>\n",
              "      <td>0.10</td>\n",
              "      <td>2.7</td>\n",
              "      <td>2.7</td>\n",
              "      <td>0.5</td>\n",
              "      <td>0.09</td>\n",
              "      <td>0.02</td>\n",
              "      <td>0.11</td>\n",
              "      <td>0.09</td>\n",
              "      <td>0.11</td>\n",
              "      <td>30.1</td>\n",
              "      <td>23.0</td>\n",
              "      <td>8.0</td>\n",
              "      <td>1.0</td>\n",
              "      <td>34.8</td>\n",
              "      <td>0.77</td>\n",
              "      <td>...</td>\n",
              "      <td>0.0</td>\n",
              "      <td>0.0</td>\n",
              "      <td>0.0</td>\n",
              "      <td>0.0</td>\n",
              "      <td>0.0</td>\n",
              "      <td>0.0</td>\n",
              "      <td>0.0</td>\n",
              "      <td>0.0</td>\n",
              "      <td>0.0</td>\n",
              "      <td>0.0</td>\n",
              "      <td>0.0</td>\n",
              "      <td>0.0</td>\n",
              "      <td>0.0</td>\n",
              "      <td>0.0</td>\n",
              "      <td>0.0</td>\n",
              "      <td>0.0</td>\n",
              "      <td>0.0</td>\n",
              "      <td>0.0</td>\n",
              "      <td>0.0</td>\n",
              "      <td>0.0</td>\n",
              "      <td>0.0</td>\n",
              "      <td>7.0</td>\n",
              "      <td>38.0</td>\n",
              "      <td>15.0</td>\n",
              "      <td>14.0</td>\n",
              "      <td>9.0</td>\n",
              "      <td>51.0</td>\n",
              "      <td>40.0</td>\n",
              "      <td>11.0</td>\n",
              "      <td>59.0</td>\n",
              "      <td>1.55</td>\n",
              "      <td>47.1</td>\n",
              "      <td>34.8</td>\n",
              "      <td>12.3</td>\n",
              "      <td>0.32</td>\n",
              "      <td>24758</td>\n",
              "      <td>0.0</td>\n",
              "      <td>0.0</td>\n",
              "      <td>0.0</td>\n",
              "      <td>201920#</td>\n",
              "    </tr>\n",
              "    <tr>\n",
              "      <th>6949</th>\n",
              "      <td>2523.0</td>\n",
              "      <td>Adama TraorĂ©</td>\n",
              "      <td>es ESP</td>\n",
              "      <td>FW,MF</td>\n",
              "      <td>Wolves</td>\n",
              "      <td>23.0</td>\n",
              "      <td>1996.0</td>\n",
              "      <td>25000000.0</td>\n",
              "      <td>178.0</td>\n",
              "      <td>Forward - Right Winger</td>\n",
              "      <td>right</td>\n",
              "      <td>Premier League</td>\n",
              "      <td>37.0</td>\n",
              "      <td>27.0</td>\n",
              "      <td>2605.0</td>\n",
              "      <td>4.0</td>\n",
              "      <td>9.0</td>\n",
              "      <td>0.0</td>\n",
              "      <td>0.0</td>\n",
              "      <td>1.0</td>\n",
              "      <td>0.0</td>\n",
              "      <td>0.14</td>\n",
              "      <td>0.31</td>\n",
              "      <td>0.45</td>\n",
              "      <td>0.14</td>\n",
              "      <td>0.45</td>\n",
              "      <td>3.5</td>\n",
              "      <td>3.5</td>\n",
              "      <td>6.7</td>\n",
              "      <td>0.12</td>\n",
              "      <td>0.23</td>\n",
              "      <td>0.35</td>\n",
              "      <td>0.12</td>\n",
              "      <td>0.35</td>\n",
              "      <td>11.2</td>\n",
              "      <td>17.0</td>\n",
              "      <td>4.0</td>\n",
              "      <td>7.0</td>\n",
              "      <td>23.5</td>\n",
              "      <td>1.52</td>\n",
              "      <td>...</td>\n",
              "      <td>0.0</td>\n",
              "      <td>0.0</td>\n",
              "      <td>0.0</td>\n",
              "      <td>0.0</td>\n",
              "      <td>0.0</td>\n",
              "      <td>0.0</td>\n",
              "      <td>0.0</td>\n",
              "      <td>0.0</td>\n",
              "      <td>0.0</td>\n",
              "      <td>0.0</td>\n",
              "      <td>0.0</td>\n",
              "      <td>0.0</td>\n",
              "      <td>0.0</td>\n",
              "      <td>0.0</td>\n",
              "      <td>0.0</td>\n",
              "      <td>0.0</td>\n",
              "      <td>0.0</td>\n",
              "      <td>0.0</td>\n",
              "      <td>0.0</td>\n",
              "      <td>0.0</td>\n",
              "      <td>0.0</td>\n",
              "      <td>7.0</td>\n",
              "      <td>38.0</td>\n",
              "      <td>15.0</td>\n",
              "      <td>14.0</td>\n",
              "      <td>9.0</td>\n",
              "      <td>51.0</td>\n",
              "      <td>40.0</td>\n",
              "      <td>11.0</td>\n",
              "      <td>59.0</td>\n",
              "      <td>1.55</td>\n",
              "      <td>47.1</td>\n",
              "      <td>34.8</td>\n",
              "      <td>12.3</td>\n",
              "      <td>0.32</td>\n",
              "      <td>24758</td>\n",
              "      <td>0.0</td>\n",
              "      <td>0.0</td>\n",
              "      <td>0.0</td>\n",
              "      <td>201920#</td>\n",
              "    </tr>\n",
              "    <tr>\n",
              "      <th>6950</th>\n",
              "      <td>2567.0</td>\n",
              "      <td>JesĂşs Vallejo</td>\n",
              "      <td>es ESP</td>\n",
              "      <td>DF</td>\n",
              "      <td>Wolves</td>\n",
              "      <td>22.0</td>\n",
              "      <td>1997.0</td>\n",
              "      <td>6000000.0</td>\n",
              "      <td>184.0</td>\n",
              "      <td>Defender - Centre-Back</td>\n",
              "      <td>right</td>\n",
              "      <td>Premier League</td>\n",
              "      <td>2.0</td>\n",
              "      <td>1.0</td>\n",
              "      <td>163.0</td>\n",
              "      <td>0.0</td>\n",
              "      <td>0.0</td>\n",
              "      <td>0.0</td>\n",
              "      <td>0.0</td>\n",
              "      <td>1.0</td>\n",
              "      <td>0.0</td>\n",
              "      <td>0.00</td>\n",
              "      <td>0.00</td>\n",
              "      <td>0.00</td>\n",
              "      <td>0.00</td>\n",
              "      <td>0.00</td>\n",
              "      <td>0.0</td>\n",
              "      <td>0.0</td>\n",
              "      <td>0.0</td>\n",
              "      <td>0.00</td>\n",
              "      <td>0.00</td>\n",
              "      <td>0.00</td>\n",
              "      <td>0.00</td>\n",
              "      <td>0.00</td>\n",
              "      <td>1.8</td>\n",
              "      <td>0.0</td>\n",
              "      <td>0.0</td>\n",
              "      <td>0.0</td>\n",
              "      <td>0.0</td>\n",
              "      <td>0.00</td>\n",
              "      <td>...</td>\n",
              "      <td>0.0</td>\n",
              "      <td>0.0</td>\n",
              "      <td>0.0</td>\n",
              "      <td>0.0</td>\n",
              "      <td>0.0</td>\n",
              "      <td>0.0</td>\n",
              "      <td>0.0</td>\n",
              "      <td>0.0</td>\n",
              "      <td>0.0</td>\n",
              "      <td>0.0</td>\n",
              "      <td>0.0</td>\n",
              "      <td>0.0</td>\n",
              "      <td>0.0</td>\n",
              "      <td>0.0</td>\n",
              "      <td>0.0</td>\n",
              "      <td>0.0</td>\n",
              "      <td>0.0</td>\n",
              "      <td>0.0</td>\n",
              "      <td>0.0</td>\n",
              "      <td>0.0</td>\n",
              "      <td>0.0</td>\n",
              "      <td>7.0</td>\n",
              "      <td>38.0</td>\n",
              "      <td>15.0</td>\n",
              "      <td>14.0</td>\n",
              "      <td>9.0</td>\n",
              "      <td>51.0</td>\n",
              "      <td>40.0</td>\n",
              "      <td>11.0</td>\n",
              "      <td>59.0</td>\n",
              "      <td>1.55</td>\n",
              "      <td>47.1</td>\n",
              "      <td>34.8</td>\n",
              "      <td>12.3</td>\n",
              "      <td>0.32</td>\n",
              "      <td>24758</td>\n",
              "      <td>0.0</td>\n",
              "      <td>0.0</td>\n",
              "      <td>0.0</td>\n",
              "      <td>201920#</td>\n",
              "    </tr>\n",
              "    <tr>\n",
              "      <th>6951</th>\n",
              "      <td>2615.0</td>\n",
              "      <td>RĂşben Vinagre</td>\n",
              "      <td>pt POR</td>\n",
              "      <td>DF</td>\n",
              "      <td>Wolves</td>\n",
              "      <td>20.0</td>\n",
              "      <td>1999.0</td>\n",
              "      <td>9000000.0</td>\n",
              "      <td>174.0</td>\n",
              "      <td>Defender - Left-Back</td>\n",
              "      <td>left</td>\n",
              "      <td>Premier League</td>\n",
              "      <td>16.0</td>\n",
              "      <td>6.0</td>\n",
              "      <td>652.0</td>\n",
              "      <td>0.0</td>\n",
              "      <td>0.0</td>\n",
              "      <td>0.0</td>\n",
              "      <td>0.0</td>\n",
              "      <td>1.0</td>\n",
              "      <td>0.0</td>\n",
              "      <td>0.00</td>\n",
              "      <td>0.00</td>\n",
              "      <td>0.00</td>\n",
              "      <td>0.00</td>\n",
              "      <td>0.00</td>\n",
              "      <td>0.3</td>\n",
              "      <td>0.3</td>\n",
              "      <td>0.5</td>\n",
              "      <td>0.05</td>\n",
              "      <td>0.07</td>\n",
              "      <td>0.12</td>\n",
              "      <td>0.05</td>\n",
              "      <td>0.12</td>\n",
              "      <td>7.2</td>\n",
              "      <td>5.0</td>\n",
              "      <td>0.0</td>\n",
              "      <td>0.0</td>\n",
              "      <td>0.0</td>\n",
              "      <td>0.69</td>\n",
              "      <td>...</td>\n",
              "      <td>0.0</td>\n",
              "      <td>0.0</td>\n",
              "      <td>0.0</td>\n",
              "      <td>0.0</td>\n",
              "      <td>0.0</td>\n",
              "      <td>0.0</td>\n",
              "      <td>0.0</td>\n",
              "      <td>0.0</td>\n",
              "      <td>0.0</td>\n",
              "      <td>0.0</td>\n",
              "      <td>0.0</td>\n",
              "      <td>0.0</td>\n",
              "      <td>0.0</td>\n",
              "      <td>0.0</td>\n",
              "      <td>0.0</td>\n",
              "      <td>0.0</td>\n",
              "      <td>0.0</td>\n",
              "      <td>0.0</td>\n",
              "      <td>0.0</td>\n",
              "      <td>0.0</td>\n",
              "      <td>0.0</td>\n",
              "      <td>7.0</td>\n",
              "      <td>38.0</td>\n",
              "      <td>15.0</td>\n",
              "      <td>14.0</td>\n",
              "      <td>9.0</td>\n",
              "      <td>51.0</td>\n",
              "      <td>40.0</td>\n",
              "      <td>11.0</td>\n",
              "      <td>59.0</td>\n",
              "      <td>1.55</td>\n",
              "      <td>47.1</td>\n",
              "      <td>34.8</td>\n",
              "      <td>12.3</td>\n",
              "      <td>0.32</td>\n",
              "      <td>24758</td>\n",
              "      <td>0.0</td>\n",
              "      <td>0.0</td>\n",
              "      <td>0.0</td>\n",
              "      <td>201920#</td>\n",
              "    </tr>\n",
              "  </tbody>\n",
              "</table>\n",
              "<p>5 rows × 400 columns</p>\n",
              "</div>"
            ],
            "text/plain": [
              "      Column1          player nationality  ... WinCL CLBestScorer   Season\n",
              "6947   1997.0  Daniel Podence      pt POR  ...   0.0          0.0  201920#\n",
              "6948   2202.0   Romain SaĂŻss      ma MAR  ...   0.0          0.0  201920#\n",
              "6949   2523.0   Adama TraorĂ©      es ESP  ...   0.0          0.0  201920#\n",
              "6950   2567.0  JesĂşs Vallejo      es ESP  ...   0.0          0.0  201920#\n",
              "6951   2615.0  RĂşben Vinagre      pt POR  ...   0.0          0.0  201920#\n",
              "\n",
              "[5 rows x 400 columns]"
            ]
          },
          "metadata": {},
          "execution_count": 62
        }
      ]
    },
    {
      "cell_type": "code",
      "metadata": {
        "colab": {
          "base_uri": "https://localhost:8080/"
        },
        "id": "rkWCgjnmLgSY",
        "outputId": "dd64901a-bdd0-48fa-bc3f-350ba92beb48"
      },
      "source": [
        "# Delete 'birth_year' column\n",
        "df1.drop(columns=['birth_year'], axis=1, inplace=True)\n",
        "\n",
        "# Fill zero data\n",
        "df1.iloc[2218,5] = 19\n",
        "df1.iloc[4738,5] = 17\n",
        "df1.iloc[5024,5] = 20\n",
        "df1.iloc[6452,5] = 17\n",
        "\n",
        "df1.iloc[2218,2] = 'es ESP'\n",
        "\n",
        "df1.iloc[2218,3] = 'DF'\n",
        "\n",
        "df1.iloc[4494,7] = 183\n",
        "df1.iloc[4738,7] = 178\n",
        "df1.iloc[4836,7] = 182\n",
        "df1.iloc[4841,7] = 176\n",
        "df1.iloc[5189,7] = 179\n",
        "df1.iloc[5454,7] = 181\n",
        "df1.iloc[5488,7] = 188\n",
        "df1.iloc[6439,7] = 178\n",
        "\n",
        "# Reorganizing the values for 'position2'\n",
        "df1['position2'].value_counts()"
      ],
      "execution_count": null,
      "outputs": [
        {
          "output_type": "execute_result",
          "data": {
            "text/plain": [
              "Defender - Centre-Back             1248\n",
              "Forward - Centre-Forward            666\n",
              "Midfielder - Central Midfield       659\n",
              "Defender - Right-Back               593\n",
              "Goalkeeper                          531\n",
              "Defender - Left-Back                531\n",
              "Midfielder - Defensive Midfield     366\n",
              "Forward - Right Winger              337\n",
              "attack - Centre-Forward             324\n",
              "midfield - Central Midfield         313\n",
              "Forward - Left Winger               309\n",
              "Midfielder - Attacking Midfield     255\n",
              "midfield - Defensive Midfield       183\n",
              "attack - Left Winger                147\n",
              "attack - Right Winger               142\n",
              "midfield - Attacking Midfield       112\n",
              "Forward - Second Striker             62\n",
              "Midfielder - Left Midfield           55\n",
              "Midfielder - Right Midfield          41\n",
              "attack - Second Striker              34\n",
              "midfield - Right Midfield            22\n",
              "midfield - Left Midfield             21\n",
              "Central Midfield                      1\n",
              "Name: position2, dtype: int64"
            ]
          },
          "metadata": {},
          "execution_count": 63
        }
      ]
    },
    {
      "cell_type": "code",
      "metadata": {
        "colab": {
          "base_uri": "https://localhost:8080/"
        },
        "id": "AEgr5todLgSZ",
        "outputId": "8b08bd17-60a6-4062-aea2-2ac5b8e09334"
      },
      "source": [
        "df1['position2'] = df1['position2'].replace('attack - Centre-Forward','Forward - Centre-Forward')\n",
        "df1['position2'] = df1['position2'].replace('attack - Left Winger','Forward - Left Winger')\n",
        "df1['position2'] = df1['position2'].replace('attack - Right Winger','Forward - Right Winger')\n",
        "df1['position2'] = df1['position2'].replace('attack - Second Striker','Forward - Second Striker')\n",
        "\n",
        "df1['position2'] = df1['position2'].replace('Central Midfield','Midfielder - Central Midfield')\n",
        "df1['position2'] = df1['position2'].replace('midfield - Central Midfield','Midfielder - Central Midfield')\n",
        "df1['position2'] = df1['position2'].replace('midfield - Attacking Midfield','Midfielder - Attacking Midfield')\n",
        "df1['position2'] = df1['position2'].replace('midfield - Defensive Midfield','Midfielder - Defensive Midfield')\n",
        "df1['position2'] = df1['position2'].replace('midfield - Right Midfield','Midfielder - Right Midfield')\n",
        "df1['position2'] = df1['position2'].replace('midfield - Left Midfield','Midfielder - Left Midfield')\n",
        "\n",
        "df1['position2'].value_counts()"
      ],
      "execution_count": null,
      "outputs": [
        {
          "output_type": "execute_result",
          "data": {
            "text/plain": [
              "Defender - Centre-Back             1248\n",
              "Forward - Centre-Forward            990\n",
              "Midfielder - Central Midfield       973\n",
              "Defender - Right-Back               593\n",
              "Midfielder - Defensive Midfield     549\n",
              "Defender - Left-Back                531\n",
              "Goalkeeper                          531\n",
              "Forward - Right Winger              479\n",
              "Forward - Left Winger               456\n",
              "Midfielder - Attacking Midfield     367\n",
              "Forward - Second Striker             96\n",
              "Midfielder - Left Midfield           76\n",
              "Midfielder - Right Midfield          63\n",
              "Name: position2, dtype: int64"
            ]
          },
          "metadata": {},
          "execution_count": 64
        }
      ]
    },
    {
      "cell_type": "code",
      "metadata": {
        "colab": {
          "base_uri": "https://localhost:8080/"
        },
        "id": "N37uhfNOLgSc",
        "outputId": "9d7da2c9-471e-4732-d8b3-65433f839c1f"
      },
      "source": [
        "# Reorganizing the values for 'position'\n",
        "df1['position'].value_counts()"
      ],
      "execution_count": null,
      "outputs": [
        {
          "output_type": "execute_result",
          "data": {
            "text/plain": [
              "DF       2087\n",
              "MF       1412\n",
              "FW        908\n",
              "FW,MF     784\n",
              "MF,FW     668\n",
              "GK        524\n",
              "DF,MF     314\n",
              "MF,DF     152\n",
              "DF,FW      56\n",
              "FW,DF      46\n",
              "GK,MF       1\n",
              "Name: position, dtype: int64"
            ]
          },
          "metadata": {},
          "execution_count": 65
        }
      ]
    },
    {
      "cell_type": "code",
      "metadata": {
        "colab": {
          "base_uri": "https://localhost:8080/"
        },
        "id": "VeZRSpkxLgSd",
        "scrolled": true,
        "outputId": "e7ee2974-5a26-4781-e4b3-819fad271581"
      },
      "source": [
        "df1['position'] = df1['position'].replace('GK,MF','GK')\n",
        "for i in range(0,len(df1)-1):\n",
        "    if df1.iloc[i,8].startswith('Goalkeeper'):\n",
        "        df1.iloc[i,3] = 'GK'\n",
        "    elif df1.iloc[i,8].startswith('Defender'):\n",
        "        df1.iloc[i,3] = 'DF'\n",
        "    elif df1.iloc[i,8].startswith('Midfielder'):\n",
        "        df1.iloc[i,3] = 'MF'\n",
        "    elif df1.iloc[i,8].startswith('Forward'):\n",
        "        df1.iloc[i,3] = 'FW'\n",
        "\n",
        "df1['position'].value_counts()"
      ],
      "execution_count": null,
      "outputs": [
        {
          "output_type": "execute_result",
          "data": {
            "text/plain": [
              "DF    2372\n",
              "MF    2028\n",
              "FW    2021\n",
              "GK     531\n",
              "Name: position, dtype: int64"
            ]
          },
          "metadata": {},
          "execution_count": 66
        }
      ]
    },
    {
      "cell_type": "code",
      "metadata": {
        "id": "0ZdIoFZdLgSd"
      },
      "source": [
        "# Delete the columns whose names with 'm' on the back\n",
        "df1.drop(columns=list(df1)[197:380], axis=1, inplace=True)\n",
        "\n",
        "# Delete the column 'Attendance'\n",
        "df1.drop(columns=['Attendance'], axis=1, inplace=True)\n",
        "\n",
        "# Organizing the order of columns\n",
        "df1_1 = df1.columns[:11].tolist()\n",
        "df1_2 = df1.columns[11:-4].tolist()\n",
        "df1_3 = df1.columns[-4:].tolist()\n",
        "col = df1_1 + df1_3 + df1_2\n",
        "df1 = df1[col]\n",
        "df1_1 = df1.columns[:5].tolist()\n",
        "df1_2 = df1.columns[5:8].tolist()\n",
        "df1_3 = df1.columns[8:15].tolist()\n",
        "df1_4 = df1.columns[15:].tolist()\n",
        "col = df1_1 + df1_3 + df1_2 + df1_4\n",
        "df1 = df1[col]\n",
        "\n",
        "# Delete the column 'Column1'\n",
        "df1.drop(columns=['Column1'], axis=1, inplace=True)"
      ],
      "execution_count": null,
      "outputs": []
    },
    {
      "cell_type": "code",
      "metadata": {
        "colab": {
          "base_uri": "https://localhost:8080/",
          "height": 324
        },
        "id": "nbYe4ZiDLgSe",
        "outputId": "e71eb053-64d5-461a-9b9b-00ab6f5f7c5c"
      },
      "source": [
        "# Multiple columns label encoding\n",
        "\n",
        "from sklearn.preprocessing import LabelEncoder\n",
        "from collections import defaultdict\n",
        "class MultiColLabelEncoder:\n",
        "    def __init__(self):\n",
        "        self.encoder_dict = defaultdict(LabelEncoder)\n",
        "    def fit_transform(self, X: pd.DataFrame, columns: list):\n",
        "        if not isinstance(columns, list):\n",
        "            columns = [columns]\n",
        "        output = X.copy()\n",
        "        output[columns] = X[columns].apply(lambda x: self.encoder_dict[x.name].fit_transform(x))\n",
        "        \n",
        "        return output\n",
        "    \n",
        "    def inverse_transform(self, X: pd.DataFrame, columns: list):\n",
        "        if not isinstance(columns, list):\n",
        "            columns = [columns]\n",
        "        if not all(key in self.encoder_dict for key in columns):\n",
        "            raise KeyError(f'At least one of {columns} is not encoded before')\n",
        "        output = X.copy()\n",
        "        try:\n",
        "            output[columns] = X[columns].apply(lambda x: self.encoder_dict[x.name].inverse_transform(x))\n",
        "        except ValueError:\n",
        "            print(f'Need assignment when do \"fit_transform\" function')\n",
        "            raise\n",
        "        return output\n",
        "from collections import defaultdict\n",
        "class MultiColLabelEncoder:\n",
        "    def __init__(self):\n",
        "        self.encoder_dict = defaultdict(LabelEncoder)\n",
        "    def fit_transform(self, X: pd.DataFrame, columns: list):\n",
        "        if not isinstance(columns, list):\n",
        "            columns = [columns]\n",
        "        output = X.copy()\n",
        "        output[columns] = X[columns].apply(lambda x: self.encoder_dict[x.name].fit_transform(x))\n",
        "        \n",
        "        return output\n",
        "    \n",
        "    def inverse_transform(self, X: pd.DataFrame, columns: list):\n",
        "        if not isinstance(columns, list):\n",
        "            columns = [columns]\n",
        "        if not all(key in self.encoder_dict for key in columns):\n",
        "            raise KeyError(f'At least one of {columns} is not encoded before')\n",
        "        output = X.copy()\n",
        "        try:\n",
        "            output[columns] = X[columns].apply(lambda x: self.encoder_dict[x.name].inverse_transform(x))\n",
        "        except ValueError:\n",
        "            print(f'Need assignment when do \"fit_transform\" function')\n",
        "            raise\n",
        "        return output\n",
        "\n",
        "mcle = MultiColLabelEncoder()\n",
        "df2 = mcle.fit_transform(df1, columns=['nationality','position','squad','position2','foot','league','Season'])\n",
        "df2.head()"
      ],
      "execution_count": null,
      "outputs": [
        {
          "output_type": "execute_result",
          "data": {
            "text/html": [
              "<div>\n",
              "<style scoped>\n",
              "    .dataframe tbody tr th:only-of-type {\n",
              "        vertical-align: middle;\n",
              "    }\n",
              "\n",
              "    .dataframe tbody tr th {\n",
              "        vertical-align: top;\n",
              "    }\n",
              "\n",
              "    .dataframe thead th {\n",
              "        text-align: right;\n",
              "    }\n",
              "</style>\n",
              "<table border=\"1\" class=\"dataframe\">\n",
              "  <thead>\n",
              "    <tr style=\"text-align: right;\">\n",
              "      <th></th>\n",
              "      <th>player</th>\n",
              "      <th>nationality</th>\n",
              "      <th>position</th>\n",
              "      <th>squad</th>\n",
              "      <th>position2</th>\n",
              "      <th>foot</th>\n",
              "      <th>league</th>\n",
              "      <th>CL</th>\n",
              "      <th>WinCL</th>\n",
              "      <th>CLBestScorer</th>\n",
              "      <th>Season</th>\n",
              "      <th>age</th>\n",
              "      <th>value</th>\n",
              "      <th>height</th>\n",
              "      <th>games</th>\n",
              "      <th>games_starts</th>\n",
              "      <th>minutes</th>\n",
              "      <th>goals</th>\n",
              "      <th>assists</th>\n",
              "      <th>pens_made</th>\n",
              "      <th>pens_att</th>\n",
              "      <th>cards_yellow</th>\n",
              "      <th>cards_red</th>\n",
              "      <th>goals_per90</th>\n",
              "      <th>assists_per90</th>\n",
              "      <th>goals_assists_per90</th>\n",
              "      <th>goals_pens_per90</th>\n",
              "      <th>goals_assists_pens_per90</th>\n",
              "      <th>xg</th>\n",
              "      <th>npxg</th>\n",
              "      <th>xa</th>\n",
              "      <th>xg_per90</th>\n",
              "      <th>xa_per90</th>\n",
              "      <th>xg_xa_per90</th>\n",
              "      <th>npxg_per90</th>\n",
              "      <th>npxg_xa_per90</th>\n",
              "      <th>minutes_90s</th>\n",
              "      <th>shots_total</th>\n",
              "      <th>shots_on_target</th>\n",
              "      <th>shots_free_kicks</th>\n",
              "      <th>...</th>\n",
              "      <th>pens_saved</th>\n",
              "      <th>pens_missed_gk</th>\n",
              "      <th>minutes_90s_gk</th>\n",
              "      <th>free_kick_goals_against_gk</th>\n",
              "      <th>corner_kick_goals_against_gk</th>\n",
              "      <th>own_goals_against_gk</th>\n",
              "      <th>psxg_gk</th>\n",
              "      <th>psnpxg_per_shot_on_target_against</th>\n",
              "      <th>psxg_net_gk</th>\n",
              "      <th>psxg_net_per90_gk</th>\n",
              "      <th>passes_completed_launched_gk</th>\n",
              "      <th>passes_launched_gk</th>\n",
              "      <th>passes_pct_launched_gk</th>\n",
              "      <th>passes_gk</th>\n",
              "      <th>passes_throws_gk</th>\n",
              "      <th>pct_passes_launched_gk</th>\n",
              "      <th>passes_length_avg_gk</th>\n",
              "      <th>goal_kicks</th>\n",
              "      <th>pct_goal_kicks_launched</th>\n",
              "      <th>goal_kick_length_avg</th>\n",
              "      <th>crosses_gk</th>\n",
              "      <th>crosses_stopped_gk</th>\n",
              "      <th>crosses_stopped_pct_gk</th>\n",
              "      <th>def_actions_outside_pen_area_gk</th>\n",
              "      <th>def_actions_outside_pen_area_per90_gk</th>\n",
              "      <th>avg_distance_def_actions_gk</th>\n",
              "      <th>LgRk</th>\n",
              "      <th>MP</th>\n",
              "      <th>W</th>\n",
              "      <th>D</th>\n",
              "      <th>L</th>\n",
              "      <th>GF</th>\n",
              "      <th>GA</th>\n",
              "      <th>GDiff</th>\n",
              "      <th>Pts</th>\n",
              "      <th>Pts/G</th>\n",
              "      <th>xG</th>\n",
              "      <th>xGA</th>\n",
              "      <th>xGDiff</th>\n",
              "      <th>xGDiff/90</th>\n",
              "    </tr>\n",
              "  </thead>\n",
              "  <tbody>\n",
              "    <tr>\n",
              "      <th>0</th>\n",
              "      <td>Burgui</td>\n",
              "      <td>41</td>\n",
              "      <td>1</td>\n",
              "      <td>0</td>\n",
              "      <td>4</td>\n",
              "      <td>2</td>\n",
              "      <td>1</td>\n",
              "      <td>0.0</td>\n",
              "      <td>0.0</td>\n",
              "      <td>0.0</td>\n",
              "      <td>0</td>\n",
              "      <td>23.0</td>\n",
              "      <td>1800000.0</td>\n",
              "      <td>186.0</td>\n",
              "      <td>23.0</td>\n",
              "      <td>12.0</td>\n",
              "      <td>1037.0</td>\n",
              "      <td>1.0</td>\n",
              "      <td>1.0</td>\n",
              "      <td>0.0</td>\n",
              "      <td>0.0</td>\n",
              "      <td>1.0</td>\n",
              "      <td>0.0</td>\n",
              "      <td>0.09</td>\n",
              "      <td>0.09</td>\n",
              "      <td>0.17</td>\n",
              "      <td>0.09</td>\n",
              "      <td>0.17</td>\n",
              "      <td>0.9</td>\n",
              "      <td>0.9</td>\n",
              "      <td>1.7</td>\n",
              "      <td>0.08</td>\n",
              "      <td>0.15</td>\n",
              "      <td>0.23</td>\n",
              "      <td>0.08</td>\n",
              "      <td>0.23</td>\n",
              "      <td>11.5</td>\n",
              "      <td>14.0</td>\n",
              "      <td>4.0</td>\n",
              "      <td>1.0</td>\n",
              "      <td>...</td>\n",
              "      <td>0.0</td>\n",
              "      <td>0.0</td>\n",
              "      <td>0.0</td>\n",
              "      <td>0.0</td>\n",
              "      <td>0.0</td>\n",
              "      <td>0.0</td>\n",
              "      <td>0.0</td>\n",
              "      <td>0.0</td>\n",
              "      <td>0.0</td>\n",
              "      <td>0.0</td>\n",
              "      <td>0.0</td>\n",
              "      <td>0.0</td>\n",
              "      <td>0.0</td>\n",
              "      <td>0.0</td>\n",
              "      <td>0.0</td>\n",
              "      <td>0.0</td>\n",
              "      <td>0.0</td>\n",
              "      <td>0.0</td>\n",
              "      <td>0.0</td>\n",
              "      <td>0.0</td>\n",
              "      <td>0.0</td>\n",
              "      <td>0.0</td>\n",
              "      <td>0.0</td>\n",
              "      <td>0.0</td>\n",
              "      <td>0.0</td>\n",
              "      <td>0.0</td>\n",
              "      <td>14.0</td>\n",
              "      <td>38.0</td>\n",
              "      <td>15.0</td>\n",
              "      <td>2.0</td>\n",
              "      <td>21.0</td>\n",
              "      <td>40.0</td>\n",
              "      <td>50.0</td>\n",
              "      <td>-10.0</td>\n",
              "      <td>47.0</td>\n",
              "      <td>1.24</td>\n",
              "      <td>39.0</td>\n",
              "      <td>53.2</td>\n",
              "      <td>-14.2</td>\n",
              "      <td>-0.37</td>\n",
              "    </tr>\n",
              "    <tr>\n",
              "      <th>1</th>\n",
              "      <td>Raphaël Varane</td>\n",
              "      <td>43</td>\n",
              "      <td>0</td>\n",
              "      <td>96</td>\n",
              "      <td>0</td>\n",
              "      <td>2</td>\n",
              "      <td>1</td>\n",
              "      <td>1.0</td>\n",
              "      <td>1.0</td>\n",
              "      <td>0.0</td>\n",
              "      <td>0</td>\n",
              "      <td>24.0</td>\n",
              "      <td>70000000.0</td>\n",
              "      <td>191.0</td>\n",
              "      <td>27.0</td>\n",
              "      <td>27.0</td>\n",
              "      <td>2320.0</td>\n",
              "      <td>0.0</td>\n",
              "      <td>1.0</td>\n",
              "      <td>0.0</td>\n",
              "      <td>0.0</td>\n",
              "      <td>3.0</td>\n",
              "      <td>0.0</td>\n",
              "      <td>0.00</td>\n",
              "      <td>0.04</td>\n",
              "      <td>0.04</td>\n",
              "      <td>0.00</td>\n",
              "      <td>0.04</td>\n",
              "      <td>0.9</td>\n",
              "      <td>0.9</td>\n",
              "      <td>0.9</td>\n",
              "      <td>0.04</td>\n",
              "      <td>0.04</td>\n",
              "      <td>0.07</td>\n",
              "      <td>0.04</td>\n",
              "      <td>0.07</td>\n",
              "      <td>25.8</td>\n",
              "      <td>10.0</td>\n",
              "      <td>2.0</td>\n",
              "      <td>0.0</td>\n",
              "      <td>...</td>\n",
              "      <td>0.0</td>\n",
              "      <td>0.0</td>\n",
              "      <td>0.0</td>\n",
              "      <td>0.0</td>\n",
              "      <td>0.0</td>\n",
              "      <td>0.0</td>\n",
              "      <td>0.0</td>\n",
              "      <td>0.0</td>\n",
              "      <td>0.0</td>\n",
              "      <td>0.0</td>\n",
              "      <td>0.0</td>\n",
              "      <td>0.0</td>\n",
              "      <td>0.0</td>\n",
              "      <td>0.0</td>\n",
              "      <td>0.0</td>\n",
              "      <td>0.0</td>\n",
              "      <td>0.0</td>\n",
              "      <td>0.0</td>\n",
              "      <td>0.0</td>\n",
              "      <td>0.0</td>\n",
              "      <td>0.0</td>\n",
              "      <td>0.0</td>\n",
              "      <td>0.0</td>\n",
              "      <td>0.0</td>\n",
              "      <td>0.0</td>\n",
              "      <td>0.0</td>\n",
              "      <td>3.0</td>\n",
              "      <td>38.0</td>\n",
              "      <td>22.0</td>\n",
              "      <td>10.0</td>\n",
              "      <td>6.0</td>\n",
              "      <td>94.0</td>\n",
              "      <td>44.0</td>\n",
              "      <td>50.0</td>\n",
              "      <td>76.0</td>\n",
              "      <td>2.00</td>\n",
              "      <td>83.3</td>\n",
              "      <td>45.4</td>\n",
              "      <td>37.9</td>\n",
              "      <td>1.00</td>\n",
              "    </tr>\n",
              "    <tr>\n",
              "      <th>2</th>\n",
              "      <td>Rubén Duarte</td>\n",
              "      <td>41</td>\n",
              "      <td>0</td>\n",
              "      <td>0</td>\n",
              "      <td>1</td>\n",
              "      <td>1</td>\n",
              "      <td>1</td>\n",
              "      <td>0.0</td>\n",
              "      <td>0.0</td>\n",
              "      <td>0.0</td>\n",
              "      <td>0</td>\n",
              "      <td>21.0</td>\n",
              "      <td>2000000.0</td>\n",
              "      <td>179.0</td>\n",
              "      <td>24.0</td>\n",
              "      <td>24.0</td>\n",
              "      <td>2138.0</td>\n",
              "      <td>0.0</td>\n",
              "      <td>2.0</td>\n",
              "      <td>0.0</td>\n",
              "      <td>0.0</td>\n",
              "      <td>9.0</td>\n",
              "      <td>2.0</td>\n",
              "      <td>0.00</td>\n",
              "      <td>0.08</td>\n",
              "      <td>0.08</td>\n",
              "      <td>0.00</td>\n",
              "      <td>0.08</td>\n",
              "      <td>0.5</td>\n",
              "      <td>0.5</td>\n",
              "      <td>1.6</td>\n",
              "      <td>0.02</td>\n",
              "      <td>0.07</td>\n",
              "      <td>0.09</td>\n",
              "      <td>0.02</td>\n",
              "      <td>0.09</td>\n",
              "      <td>23.8</td>\n",
              "      <td>8.0</td>\n",
              "      <td>1.0</td>\n",
              "      <td>0.0</td>\n",
              "      <td>...</td>\n",
              "      <td>0.0</td>\n",
              "      <td>0.0</td>\n",
              "      <td>0.0</td>\n",
              "      <td>0.0</td>\n",
              "      <td>0.0</td>\n",
              "      <td>0.0</td>\n",
              "      <td>0.0</td>\n",
              "      <td>0.0</td>\n",
              "      <td>0.0</td>\n",
              "      <td>0.0</td>\n",
              "      <td>0.0</td>\n",
              "      <td>0.0</td>\n",
              "      <td>0.0</td>\n",
              "      <td>0.0</td>\n",
              "      <td>0.0</td>\n",
              "      <td>0.0</td>\n",
              "      <td>0.0</td>\n",
              "      <td>0.0</td>\n",
              "      <td>0.0</td>\n",
              "      <td>0.0</td>\n",
              "      <td>0.0</td>\n",
              "      <td>0.0</td>\n",
              "      <td>0.0</td>\n",
              "      <td>0.0</td>\n",
              "      <td>0.0</td>\n",
              "      <td>0.0</td>\n",
              "      <td>14.0</td>\n",
              "      <td>38.0</td>\n",
              "      <td>15.0</td>\n",
              "      <td>2.0</td>\n",
              "      <td>21.0</td>\n",
              "      <td>40.0</td>\n",
              "      <td>50.0</td>\n",
              "      <td>-10.0</td>\n",
              "      <td>47.0</td>\n",
              "      <td>1.24</td>\n",
              "      <td>39.0</td>\n",
              "      <td>53.2</td>\n",
              "      <td>-14.2</td>\n",
              "      <td>-0.37</td>\n",
              "    </tr>\n",
              "    <tr>\n",
              "      <th>3</th>\n",
              "      <td>Samuel Umtiti</td>\n",
              "      <td>43</td>\n",
              "      <td>0</td>\n",
              "      <td>11</td>\n",
              "      <td>0</td>\n",
              "      <td>1</td>\n",
              "      <td>1</td>\n",
              "      <td>1.0</td>\n",
              "      <td>0.0</td>\n",
              "      <td>0.0</td>\n",
              "      <td>0</td>\n",
              "      <td>23.0</td>\n",
              "      <td>60000000.0</td>\n",
              "      <td>182.0</td>\n",
              "      <td>25.0</td>\n",
              "      <td>24.0</td>\n",
              "      <td>2189.0</td>\n",
              "      <td>1.0</td>\n",
              "      <td>0.0</td>\n",
              "      <td>0.0</td>\n",
              "      <td>0.0</td>\n",
              "      <td>7.0</td>\n",
              "      <td>0.0</td>\n",
              "      <td>0.04</td>\n",
              "      <td>0.00</td>\n",
              "      <td>0.04</td>\n",
              "      <td>0.04</td>\n",
              "      <td>0.04</td>\n",
              "      <td>1.1</td>\n",
              "      <td>1.1</td>\n",
              "      <td>0.0</td>\n",
              "      <td>0.05</td>\n",
              "      <td>0.00</td>\n",
              "      <td>0.05</td>\n",
              "      <td>0.05</td>\n",
              "      <td>0.05</td>\n",
              "      <td>24.3</td>\n",
              "      <td>11.0</td>\n",
              "      <td>6.0</td>\n",
              "      <td>0.0</td>\n",
              "      <td>...</td>\n",
              "      <td>0.0</td>\n",
              "      <td>0.0</td>\n",
              "      <td>0.0</td>\n",
              "      <td>0.0</td>\n",
              "      <td>0.0</td>\n",
              "      <td>0.0</td>\n",
              "      <td>0.0</td>\n",
              "      <td>0.0</td>\n",
              "      <td>0.0</td>\n",
              "      <td>0.0</td>\n",
              "      <td>0.0</td>\n",
              "      <td>0.0</td>\n",
              "      <td>0.0</td>\n",
              "      <td>0.0</td>\n",
              "      <td>0.0</td>\n",
              "      <td>0.0</td>\n",
              "      <td>0.0</td>\n",
              "      <td>0.0</td>\n",
              "      <td>0.0</td>\n",
              "      <td>0.0</td>\n",
              "      <td>0.0</td>\n",
              "      <td>0.0</td>\n",
              "      <td>0.0</td>\n",
              "      <td>0.0</td>\n",
              "      <td>0.0</td>\n",
              "      <td>0.0</td>\n",
              "      <td>1.0</td>\n",
              "      <td>38.0</td>\n",
              "      <td>28.0</td>\n",
              "      <td>9.0</td>\n",
              "      <td>1.0</td>\n",
              "      <td>99.0</td>\n",
              "      <td>29.0</td>\n",
              "      <td>70.0</td>\n",
              "      <td>93.0</td>\n",
              "      <td>2.45</td>\n",
              "      <td>78.3</td>\n",
              "      <td>41.1</td>\n",
              "      <td>37.2</td>\n",
              "      <td>0.98</td>\n",
              "    </tr>\n",
              "    <tr>\n",
              "      <th>4</th>\n",
              "      <td>Manu García</td>\n",
              "      <td>41</td>\n",
              "      <td>3</td>\n",
              "      <td>0</td>\n",
              "      <td>10</td>\n",
              "      <td>1</td>\n",
              "      <td>1</td>\n",
              "      <td>0.0</td>\n",
              "      <td>0.0</td>\n",
              "      <td>0.0</td>\n",
              "      <td>0</td>\n",
              "      <td>31.0</td>\n",
              "      <td>1800000.0</td>\n",
              "      <td>183.0</td>\n",
              "      <td>30.0</td>\n",
              "      <td>27.0</td>\n",
              "      <td>2438.0</td>\n",
              "      <td>3.0</td>\n",
              "      <td>0.0</td>\n",
              "      <td>0.0</td>\n",
              "      <td>2.0</td>\n",
              "      <td>9.0</td>\n",
              "      <td>0.0</td>\n",
              "      <td>0.11</td>\n",
              "      <td>0.00</td>\n",
              "      <td>0.11</td>\n",
              "      <td>0.11</td>\n",
              "      <td>0.11</td>\n",
              "      <td>3.1</td>\n",
              "      <td>1.6</td>\n",
              "      <td>1.4</td>\n",
              "      <td>0.11</td>\n",
              "      <td>0.05</td>\n",
              "      <td>0.17</td>\n",
              "      <td>0.06</td>\n",
              "      <td>0.11</td>\n",
              "      <td>27.1</td>\n",
              "      <td>26.0</td>\n",
              "      <td>8.0</td>\n",
              "      <td>0.0</td>\n",
              "      <td>...</td>\n",
              "      <td>0.0</td>\n",
              "      <td>0.0</td>\n",
              "      <td>0.0</td>\n",
              "      <td>0.0</td>\n",
              "      <td>0.0</td>\n",
              "      <td>0.0</td>\n",
              "      <td>0.0</td>\n",
              "      <td>0.0</td>\n",
              "      <td>0.0</td>\n",
              "      <td>0.0</td>\n",
              "      <td>0.0</td>\n",
              "      <td>0.0</td>\n",
              "      <td>0.0</td>\n",
              "      <td>0.0</td>\n",
              "      <td>0.0</td>\n",
              "      <td>0.0</td>\n",
              "      <td>0.0</td>\n",
              "      <td>0.0</td>\n",
              "      <td>0.0</td>\n",
              "      <td>0.0</td>\n",
              "      <td>0.0</td>\n",
              "      <td>0.0</td>\n",
              "      <td>0.0</td>\n",
              "      <td>0.0</td>\n",
              "      <td>0.0</td>\n",
              "      <td>0.0</td>\n",
              "      <td>14.0</td>\n",
              "      <td>38.0</td>\n",
              "      <td>15.0</td>\n",
              "      <td>2.0</td>\n",
              "      <td>21.0</td>\n",
              "      <td>40.0</td>\n",
              "      <td>50.0</td>\n",
              "      <td>-10.0</td>\n",
              "      <td>47.0</td>\n",
              "      <td>1.24</td>\n",
              "      <td>39.0</td>\n",
              "      <td>53.2</td>\n",
              "      <td>-14.2</td>\n",
              "      <td>-0.37</td>\n",
              "    </tr>\n",
              "  </tbody>\n",
              "</table>\n",
              "<p>5 rows × 214 columns</p>\n",
              "</div>"
            ],
            "text/plain": [
              "           player  nationality  position  squad  ...    xG   xGA  xGDiff  xGDiff/90\n",
              "0          Burgui           41         1      0  ...  39.0  53.2   -14.2      -0.37\n",
              "1  Raphaël Varane           43         0     96  ...  83.3  45.4    37.9       1.00\n",
              "2    Rubén Duarte           41         0      0  ...  39.0  53.2   -14.2      -0.37\n",
              "3   Samuel Umtiti           43         0     11  ...  78.3  41.1    37.2       0.98\n",
              "4     Manu García           41         3      0  ...  39.0  53.2   -14.2      -0.37\n",
              "\n",
              "[5 rows x 214 columns]"
            ]
          },
          "metadata": {},
          "execution_count": 68
        }
      ]
    },
    {
      "cell_type": "code",
      "metadata": {
        "colab": {
          "base_uri": "https://localhost:8080/",
          "height": 447
        },
        "id": "oBj8rC4kLgSg",
        "outputId": "3245257b-9062-4040-b5d3-ea86ac663697"
      },
      "source": [
        "inverse_df2 = mcle.inverse_transform(df2, columns=['nationality','position','squad','position2','foot','league','Season'])\n",
        "inverse_df2.head()"
      ],
      "execution_count": null,
      "outputs": [
        {
          "output_type": "execute_result",
          "data": {
            "text/html": [
              "<div>\n",
              "<style scoped>\n",
              "    .dataframe tbody tr th:only-of-type {\n",
              "        vertical-align: middle;\n",
              "    }\n",
              "\n",
              "    .dataframe tbody tr th {\n",
              "        vertical-align: top;\n",
              "    }\n",
              "\n",
              "    .dataframe thead th {\n",
              "        text-align: right;\n",
              "    }\n",
              "</style>\n",
              "<table border=\"1\" class=\"dataframe\">\n",
              "  <thead>\n",
              "    <tr style=\"text-align: right;\">\n",
              "      <th></th>\n",
              "      <th>player</th>\n",
              "      <th>nationality</th>\n",
              "      <th>position</th>\n",
              "      <th>squad</th>\n",
              "      <th>position2</th>\n",
              "      <th>foot</th>\n",
              "      <th>league</th>\n",
              "      <th>CL</th>\n",
              "      <th>WinCL</th>\n",
              "      <th>CLBestScorer</th>\n",
              "      <th>Season</th>\n",
              "      <th>age</th>\n",
              "      <th>value</th>\n",
              "      <th>height</th>\n",
              "      <th>games</th>\n",
              "      <th>games_starts</th>\n",
              "      <th>minutes</th>\n",
              "      <th>goals</th>\n",
              "      <th>assists</th>\n",
              "      <th>pens_made</th>\n",
              "      <th>pens_att</th>\n",
              "      <th>cards_yellow</th>\n",
              "      <th>cards_red</th>\n",
              "      <th>goals_per90</th>\n",
              "      <th>assists_per90</th>\n",
              "      <th>goals_assists_per90</th>\n",
              "      <th>goals_pens_per90</th>\n",
              "      <th>goals_assists_pens_per90</th>\n",
              "      <th>xg</th>\n",
              "      <th>npxg</th>\n",
              "      <th>xa</th>\n",
              "      <th>xg_per90</th>\n",
              "      <th>xa_per90</th>\n",
              "      <th>xg_xa_per90</th>\n",
              "      <th>npxg_per90</th>\n",
              "      <th>npxg_xa_per90</th>\n",
              "      <th>minutes_90s</th>\n",
              "      <th>shots_total</th>\n",
              "      <th>shots_on_target</th>\n",
              "      <th>shots_free_kicks</th>\n",
              "      <th>...</th>\n",
              "      <th>pens_saved</th>\n",
              "      <th>pens_missed_gk</th>\n",
              "      <th>minutes_90s_gk</th>\n",
              "      <th>free_kick_goals_against_gk</th>\n",
              "      <th>corner_kick_goals_against_gk</th>\n",
              "      <th>own_goals_against_gk</th>\n",
              "      <th>psxg_gk</th>\n",
              "      <th>psnpxg_per_shot_on_target_against</th>\n",
              "      <th>psxg_net_gk</th>\n",
              "      <th>psxg_net_per90_gk</th>\n",
              "      <th>passes_completed_launched_gk</th>\n",
              "      <th>passes_launched_gk</th>\n",
              "      <th>passes_pct_launched_gk</th>\n",
              "      <th>passes_gk</th>\n",
              "      <th>passes_throws_gk</th>\n",
              "      <th>pct_passes_launched_gk</th>\n",
              "      <th>passes_length_avg_gk</th>\n",
              "      <th>goal_kicks</th>\n",
              "      <th>pct_goal_kicks_launched</th>\n",
              "      <th>goal_kick_length_avg</th>\n",
              "      <th>crosses_gk</th>\n",
              "      <th>crosses_stopped_gk</th>\n",
              "      <th>crosses_stopped_pct_gk</th>\n",
              "      <th>def_actions_outside_pen_area_gk</th>\n",
              "      <th>def_actions_outside_pen_area_per90_gk</th>\n",
              "      <th>avg_distance_def_actions_gk</th>\n",
              "      <th>LgRk</th>\n",
              "      <th>MP</th>\n",
              "      <th>W</th>\n",
              "      <th>D</th>\n",
              "      <th>L</th>\n",
              "      <th>GF</th>\n",
              "      <th>GA</th>\n",
              "      <th>GDiff</th>\n",
              "      <th>Pts</th>\n",
              "      <th>Pts/G</th>\n",
              "      <th>xG</th>\n",
              "      <th>xGA</th>\n",
              "      <th>xGDiff</th>\n",
              "      <th>xGDiff/90</th>\n",
              "    </tr>\n",
              "  </thead>\n",
              "  <tbody>\n",
              "    <tr>\n",
              "      <th>0</th>\n",
              "      <td>Burgui</td>\n",
              "      <td>es ESP</td>\n",
              "      <td>FW</td>\n",
              "      <td>Alavés</td>\n",
              "      <td>Forward - Left Winger</td>\n",
              "      <td>right</td>\n",
              "      <td>La Liga</td>\n",
              "      <td>0.0</td>\n",
              "      <td>0.0</td>\n",
              "      <td>0.0</td>\n",
              "      <td>201718#</td>\n",
              "      <td>23.0</td>\n",
              "      <td>1800000.0</td>\n",
              "      <td>186.0</td>\n",
              "      <td>23.0</td>\n",
              "      <td>12.0</td>\n",
              "      <td>1037.0</td>\n",
              "      <td>1.0</td>\n",
              "      <td>1.0</td>\n",
              "      <td>0.0</td>\n",
              "      <td>0.0</td>\n",
              "      <td>1.0</td>\n",
              "      <td>0.0</td>\n",
              "      <td>0.09</td>\n",
              "      <td>0.09</td>\n",
              "      <td>0.17</td>\n",
              "      <td>0.09</td>\n",
              "      <td>0.17</td>\n",
              "      <td>0.9</td>\n",
              "      <td>0.9</td>\n",
              "      <td>1.7</td>\n",
              "      <td>0.08</td>\n",
              "      <td>0.15</td>\n",
              "      <td>0.23</td>\n",
              "      <td>0.08</td>\n",
              "      <td>0.23</td>\n",
              "      <td>11.5</td>\n",
              "      <td>14.0</td>\n",
              "      <td>4.0</td>\n",
              "      <td>1.0</td>\n",
              "      <td>...</td>\n",
              "      <td>0.0</td>\n",
              "      <td>0.0</td>\n",
              "      <td>0.0</td>\n",
              "      <td>0.0</td>\n",
              "      <td>0.0</td>\n",
              "      <td>0.0</td>\n",
              "      <td>0.0</td>\n",
              "      <td>0.0</td>\n",
              "      <td>0.0</td>\n",
              "      <td>0.0</td>\n",
              "      <td>0.0</td>\n",
              "      <td>0.0</td>\n",
              "      <td>0.0</td>\n",
              "      <td>0.0</td>\n",
              "      <td>0.0</td>\n",
              "      <td>0.0</td>\n",
              "      <td>0.0</td>\n",
              "      <td>0.0</td>\n",
              "      <td>0.0</td>\n",
              "      <td>0.0</td>\n",
              "      <td>0.0</td>\n",
              "      <td>0.0</td>\n",
              "      <td>0.0</td>\n",
              "      <td>0.0</td>\n",
              "      <td>0.0</td>\n",
              "      <td>0.0</td>\n",
              "      <td>14.0</td>\n",
              "      <td>38.0</td>\n",
              "      <td>15.0</td>\n",
              "      <td>2.0</td>\n",
              "      <td>21.0</td>\n",
              "      <td>40.0</td>\n",
              "      <td>50.0</td>\n",
              "      <td>-10.0</td>\n",
              "      <td>47.0</td>\n",
              "      <td>1.24</td>\n",
              "      <td>39.0</td>\n",
              "      <td>53.2</td>\n",
              "      <td>-14.2</td>\n",
              "      <td>-0.37</td>\n",
              "    </tr>\n",
              "    <tr>\n",
              "      <th>1</th>\n",
              "      <td>Raphaël Varane</td>\n",
              "      <td>fr FRA</td>\n",
              "      <td>DF</td>\n",
              "      <td>Real Madrid</td>\n",
              "      <td>Defender - Centre-Back</td>\n",
              "      <td>right</td>\n",
              "      <td>La Liga</td>\n",
              "      <td>1.0</td>\n",
              "      <td>1.0</td>\n",
              "      <td>0.0</td>\n",
              "      <td>201718#</td>\n",
              "      <td>24.0</td>\n",
              "      <td>70000000.0</td>\n",
              "      <td>191.0</td>\n",
              "      <td>27.0</td>\n",
              "      <td>27.0</td>\n",
              "      <td>2320.0</td>\n",
              "      <td>0.0</td>\n",
              "      <td>1.0</td>\n",
              "      <td>0.0</td>\n",
              "      <td>0.0</td>\n",
              "      <td>3.0</td>\n",
              "      <td>0.0</td>\n",
              "      <td>0.00</td>\n",
              "      <td>0.04</td>\n",
              "      <td>0.04</td>\n",
              "      <td>0.00</td>\n",
              "      <td>0.04</td>\n",
              "      <td>0.9</td>\n",
              "      <td>0.9</td>\n",
              "      <td>0.9</td>\n",
              "      <td>0.04</td>\n",
              "      <td>0.04</td>\n",
              "      <td>0.07</td>\n",
              "      <td>0.04</td>\n",
              "      <td>0.07</td>\n",
              "      <td>25.8</td>\n",
              "      <td>10.0</td>\n",
              "      <td>2.0</td>\n",
              "      <td>0.0</td>\n",
              "      <td>...</td>\n",
              "      <td>0.0</td>\n",
              "      <td>0.0</td>\n",
              "      <td>0.0</td>\n",
              "      <td>0.0</td>\n",
              "      <td>0.0</td>\n",
              "      <td>0.0</td>\n",
              "      <td>0.0</td>\n",
              "      <td>0.0</td>\n",
              "      <td>0.0</td>\n",
              "      <td>0.0</td>\n",
              "      <td>0.0</td>\n",
              "      <td>0.0</td>\n",
              "      <td>0.0</td>\n",
              "      <td>0.0</td>\n",
              "      <td>0.0</td>\n",
              "      <td>0.0</td>\n",
              "      <td>0.0</td>\n",
              "      <td>0.0</td>\n",
              "      <td>0.0</td>\n",
              "      <td>0.0</td>\n",
              "      <td>0.0</td>\n",
              "      <td>0.0</td>\n",
              "      <td>0.0</td>\n",
              "      <td>0.0</td>\n",
              "      <td>0.0</td>\n",
              "      <td>0.0</td>\n",
              "      <td>3.0</td>\n",
              "      <td>38.0</td>\n",
              "      <td>22.0</td>\n",
              "      <td>10.0</td>\n",
              "      <td>6.0</td>\n",
              "      <td>94.0</td>\n",
              "      <td>44.0</td>\n",
              "      <td>50.0</td>\n",
              "      <td>76.0</td>\n",
              "      <td>2.00</td>\n",
              "      <td>83.3</td>\n",
              "      <td>45.4</td>\n",
              "      <td>37.9</td>\n",
              "      <td>1.00</td>\n",
              "    </tr>\n",
              "    <tr>\n",
              "      <th>2</th>\n",
              "      <td>Rubén Duarte</td>\n",
              "      <td>es ESP</td>\n",
              "      <td>DF</td>\n",
              "      <td>Alavés</td>\n",
              "      <td>Defender - Left-Back</td>\n",
              "      <td>left</td>\n",
              "      <td>La Liga</td>\n",
              "      <td>0.0</td>\n",
              "      <td>0.0</td>\n",
              "      <td>0.0</td>\n",
              "      <td>201718#</td>\n",
              "      <td>21.0</td>\n",
              "      <td>2000000.0</td>\n",
              "      <td>179.0</td>\n",
              "      <td>24.0</td>\n",
              "      <td>24.0</td>\n",
              "      <td>2138.0</td>\n",
              "      <td>0.0</td>\n",
              "      <td>2.0</td>\n",
              "      <td>0.0</td>\n",
              "      <td>0.0</td>\n",
              "      <td>9.0</td>\n",
              "      <td>2.0</td>\n",
              "      <td>0.00</td>\n",
              "      <td>0.08</td>\n",
              "      <td>0.08</td>\n",
              "      <td>0.00</td>\n",
              "      <td>0.08</td>\n",
              "      <td>0.5</td>\n",
              "      <td>0.5</td>\n",
              "      <td>1.6</td>\n",
              "      <td>0.02</td>\n",
              "      <td>0.07</td>\n",
              "      <td>0.09</td>\n",
              "      <td>0.02</td>\n",
              "      <td>0.09</td>\n",
              "      <td>23.8</td>\n",
              "      <td>8.0</td>\n",
              "      <td>1.0</td>\n",
              "      <td>0.0</td>\n",
              "      <td>...</td>\n",
              "      <td>0.0</td>\n",
              "      <td>0.0</td>\n",
              "      <td>0.0</td>\n",
              "      <td>0.0</td>\n",
              "      <td>0.0</td>\n",
              "      <td>0.0</td>\n",
              "      <td>0.0</td>\n",
              "      <td>0.0</td>\n",
              "      <td>0.0</td>\n",
              "      <td>0.0</td>\n",
              "      <td>0.0</td>\n",
              "      <td>0.0</td>\n",
              "      <td>0.0</td>\n",
              "      <td>0.0</td>\n",
              "      <td>0.0</td>\n",
              "      <td>0.0</td>\n",
              "      <td>0.0</td>\n",
              "      <td>0.0</td>\n",
              "      <td>0.0</td>\n",
              "      <td>0.0</td>\n",
              "      <td>0.0</td>\n",
              "      <td>0.0</td>\n",
              "      <td>0.0</td>\n",
              "      <td>0.0</td>\n",
              "      <td>0.0</td>\n",
              "      <td>0.0</td>\n",
              "      <td>14.0</td>\n",
              "      <td>38.0</td>\n",
              "      <td>15.0</td>\n",
              "      <td>2.0</td>\n",
              "      <td>21.0</td>\n",
              "      <td>40.0</td>\n",
              "      <td>50.0</td>\n",
              "      <td>-10.0</td>\n",
              "      <td>47.0</td>\n",
              "      <td>1.24</td>\n",
              "      <td>39.0</td>\n",
              "      <td>53.2</td>\n",
              "      <td>-14.2</td>\n",
              "      <td>-0.37</td>\n",
              "    </tr>\n",
              "    <tr>\n",
              "      <th>3</th>\n",
              "      <td>Samuel Umtiti</td>\n",
              "      <td>fr FRA</td>\n",
              "      <td>DF</td>\n",
              "      <td>Barcelona</td>\n",
              "      <td>Defender - Centre-Back</td>\n",
              "      <td>left</td>\n",
              "      <td>La Liga</td>\n",
              "      <td>1.0</td>\n",
              "      <td>0.0</td>\n",
              "      <td>0.0</td>\n",
              "      <td>201718#</td>\n",
              "      <td>23.0</td>\n",
              "      <td>60000000.0</td>\n",
              "      <td>182.0</td>\n",
              "      <td>25.0</td>\n",
              "      <td>24.0</td>\n",
              "      <td>2189.0</td>\n",
              "      <td>1.0</td>\n",
              "      <td>0.0</td>\n",
              "      <td>0.0</td>\n",
              "      <td>0.0</td>\n",
              "      <td>7.0</td>\n",
              "      <td>0.0</td>\n",
              "      <td>0.04</td>\n",
              "      <td>0.00</td>\n",
              "      <td>0.04</td>\n",
              "      <td>0.04</td>\n",
              "      <td>0.04</td>\n",
              "      <td>1.1</td>\n",
              "      <td>1.1</td>\n",
              "      <td>0.0</td>\n",
              "      <td>0.05</td>\n",
              "      <td>0.00</td>\n",
              "      <td>0.05</td>\n",
              "      <td>0.05</td>\n",
              "      <td>0.05</td>\n",
              "      <td>24.3</td>\n",
              "      <td>11.0</td>\n",
              "      <td>6.0</td>\n",
              "      <td>0.0</td>\n",
              "      <td>...</td>\n",
              "      <td>0.0</td>\n",
              "      <td>0.0</td>\n",
              "      <td>0.0</td>\n",
              "      <td>0.0</td>\n",
              "      <td>0.0</td>\n",
              "      <td>0.0</td>\n",
              "      <td>0.0</td>\n",
              "      <td>0.0</td>\n",
              "      <td>0.0</td>\n",
              "      <td>0.0</td>\n",
              "      <td>0.0</td>\n",
              "      <td>0.0</td>\n",
              "      <td>0.0</td>\n",
              "      <td>0.0</td>\n",
              "      <td>0.0</td>\n",
              "      <td>0.0</td>\n",
              "      <td>0.0</td>\n",
              "      <td>0.0</td>\n",
              "      <td>0.0</td>\n",
              "      <td>0.0</td>\n",
              "      <td>0.0</td>\n",
              "      <td>0.0</td>\n",
              "      <td>0.0</td>\n",
              "      <td>0.0</td>\n",
              "      <td>0.0</td>\n",
              "      <td>0.0</td>\n",
              "      <td>1.0</td>\n",
              "      <td>38.0</td>\n",
              "      <td>28.0</td>\n",
              "      <td>9.0</td>\n",
              "      <td>1.0</td>\n",
              "      <td>99.0</td>\n",
              "      <td>29.0</td>\n",
              "      <td>70.0</td>\n",
              "      <td>93.0</td>\n",
              "      <td>2.45</td>\n",
              "      <td>78.3</td>\n",
              "      <td>41.1</td>\n",
              "      <td>37.2</td>\n",
              "      <td>0.98</td>\n",
              "    </tr>\n",
              "    <tr>\n",
              "      <th>4</th>\n",
              "      <td>Manu García</td>\n",
              "      <td>es ESP</td>\n",
              "      <td>MF</td>\n",
              "      <td>Alavés</td>\n",
              "      <td>Midfielder - Defensive Midfield</td>\n",
              "      <td>left</td>\n",
              "      <td>La Liga</td>\n",
              "      <td>0.0</td>\n",
              "      <td>0.0</td>\n",
              "      <td>0.0</td>\n",
              "      <td>201718#</td>\n",
              "      <td>31.0</td>\n",
              "      <td>1800000.0</td>\n",
              "      <td>183.0</td>\n",
              "      <td>30.0</td>\n",
              "      <td>27.0</td>\n",
              "      <td>2438.0</td>\n",
              "      <td>3.0</td>\n",
              "      <td>0.0</td>\n",
              "      <td>0.0</td>\n",
              "      <td>2.0</td>\n",
              "      <td>9.0</td>\n",
              "      <td>0.0</td>\n",
              "      <td>0.11</td>\n",
              "      <td>0.00</td>\n",
              "      <td>0.11</td>\n",
              "      <td>0.11</td>\n",
              "      <td>0.11</td>\n",
              "      <td>3.1</td>\n",
              "      <td>1.6</td>\n",
              "      <td>1.4</td>\n",
              "      <td>0.11</td>\n",
              "      <td>0.05</td>\n",
              "      <td>0.17</td>\n",
              "      <td>0.06</td>\n",
              "      <td>0.11</td>\n",
              "      <td>27.1</td>\n",
              "      <td>26.0</td>\n",
              "      <td>8.0</td>\n",
              "      <td>0.0</td>\n",
              "      <td>...</td>\n",
              "      <td>0.0</td>\n",
              "      <td>0.0</td>\n",
              "      <td>0.0</td>\n",
              "      <td>0.0</td>\n",
              "      <td>0.0</td>\n",
              "      <td>0.0</td>\n",
              "      <td>0.0</td>\n",
              "      <td>0.0</td>\n",
              "      <td>0.0</td>\n",
              "      <td>0.0</td>\n",
              "      <td>0.0</td>\n",
              "      <td>0.0</td>\n",
              "      <td>0.0</td>\n",
              "      <td>0.0</td>\n",
              "      <td>0.0</td>\n",
              "      <td>0.0</td>\n",
              "      <td>0.0</td>\n",
              "      <td>0.0</td>\n",
              "      <td>0.0</td>\n",
              "      <td>0.0</td>\n",
              "      <td>0.0</td>\n",
              "      <td>0.0</td>\n",
              "      <td>0.0</td>\n",
              "      <td>0.0</td>\n",
              "      <td>0.0</td>\n",
              "      <td>0.0</td>\n",
              "      <td>14.0</td>\n",
              "      <td>38.0</td>\n",
              "      <td>15.0</td>\n",
              "      <td>2.0</td>\n",
              "      <td>21.0</td>\n",
              "      <td>40.0</td>\n",
              "      <td>50.0</td>\n",
              "      <td>-10.0</td>\n",
              "      <td>47.0</td>\n",
              "      <td>1.24</td>\n",
              "      <td>39.0</td>\n",
              "      <td>53.2</td>\n",
              "      <td>-14.2</td>\n",
              "      <td>-0.37</td>\n",
              "    </tr>\n",
              "  </tbody>\n",
              "</table>\n",
              "<p>5 rows × 214 columns</p>\n",
              "</div>"
            ],
            "text/plain": [
              "           player nationality position  ...   xGA xGDiff xGDiff/90\n",
              "0          Burgui      es ESP       FW  ...  53.2  -14.2     -0.37\n",
              "1  Raphaël Varane      fr FRA       DF  ...  45.4   37.9      1.00\n",
              "2    Rubén Duarte      es ESP       DF  ...  53.2  -14.2     -0.37\n",
              "3   Samuel Umtiti      fr FRA       DF  ...  41.1   37.2      0.98\n",
              "4     Manu García      es ESP       MF  ...  53.2  -14.2     -0.37\n",
              "\n",
              "[5 rows x 214 columns]"
            ]
          },
          "metadata": {},
          "execution_count": 69
        }
      ]
    },
    {
      "cell_type": "code",
      "metadata": {
        "id": "lIK43_rvLgSh"
      },
      "source": [
        "# Split df into field players and goalkeepers\n",
        "c1 = df2.columns[:14].tolist()\n",
        "c2 = df2.columns[-55:].tolist()\n",
        "gkcol = c1 + c2\n",
        "df2_gk = df2[gkcol]\n",
        "gks = df2_gk['position'] == 2\n",
        "df2_gk = df2_gk.loc[gks, :]\n",
        "\n",
        "c3 = df2.columns[:-55].tolist()\n",
        "c4 = df2.columns[-13:].tolist()\n",
        "fpcol = c3 + c4\n",
        "df2_fp = df2[fpcol]\n",
        "fps = df2_fp['position'] != 2\n",
        "df2_fp = df2_fp.loc[fps, :]\n",
        "\n",
        "# Reset each index\n",
        "df2_fp.reset_index(drop=True, inplace=True)\n",
        "df2_gk.reset_index(drop=True, inplace=True)"
      ],
      "execution_count": null,
      "outputs": []
    },
    {
      "cell_type": "code",
      "metadata": {
        "colab": {
          "base_uri": "https://localhost:8080/"
        },
        "id": "H8TwFznPLgSh",
        "outputId": "52ff51c1-081b-4aa1-eace-4210b8302ee2"
      },
      "source": [
        "# Stepwise variables selection of field players data\n",
        "\n",
        "# Delete columns for response and categorical variables\n",
        "df0_fp = df2_fp.drop(['value','player','nationality','position','squad','position2','foot','league','CL','WinCL','CLBestScorer','Season','age','height'], axis=1)\n",
        "\n",
        "# Explanatory variables and response variable\n",
        "variables = df0_fp.columns.tolist()\n",
        "y = df2_fp['value']\n",
        "selected_variables = []\n",
        "# Significance level\n",
        "sl_enter = 0.05\n",
        "sl_remove = 0.05\n",
        "sv_per_step = []\n",
        "adjusted_r_squared = []\n",
        "steps = []\n",
        "step = 0\n",
        "\n",
        "while len(variables) > 0:\n",
        "    remainder = list(set(variables) - set(selected_variables))\n",
        "    pval = pd.Series(index=remainder) ## p-value\n",
        "    ## 기존에 포함된 변수와 새로운 변수 하나씩 돌아가면서 \n",
        "    ## 선형 모형을 적합한다.\n",
        "    for col in remainder: \n",
        "        X = df0_fp[selected_variables+[col]]\n",
        "        X = sm.add_constant(X)\n",
        "        model = sm.OLS(y,X).fit()\n",
        "        pval[col] = model.pvalues[col]\n",
        " \n",
        "    min_pval = pval.min()\n",
        "    if min_pval < sl_enter: ## 최소 p-value 값이 기준 값보다 작으면 포함\n",
        "        selected_variables.append(pval.idxmin())\n",
        "        ## 선택된 변수들에대해서\n",
        "        ## 어떤 변수를 제거할지 고른다.\n",
        "        while len(selected_variables) > 0:\n",
        "            selected_X = df0_fp[selected_variables]\n",
        "            selected_X = sm.add_constant(selected_X)\n",
        "            selected_pval = sm.OLS(y,selected_X).fit().pvalues[1:] ## 절편항의 p-value는 뺀다\n",
        "            max_pval = selected_pval.max()\n",
        "            if max_pval >= sl_remove: ## 최대 p-value값이 기준값보다 크거나 같으면 제외\n",
        "                remove_variable = selected_pval.idxmax()\n",
        "                selected_variables.remove(remove_variable)\n",
        "            else:\n",
        "                break\n",
        "        \n",
        "        step += 1\n",
        "        steps.append(step)\n",
        "        adj_r_squared = sm.OLS(y,sm.add_constant(df0_fp[selected_variables])).fit().rsquared_adj\n",
        "        adjusted_r_squared.append(adj_r_squared)\n",
        "        sv_per_step.append(selected_variables.copy())\n",
        "    else:\n",
        "        break"
      ],
      "execution_count": null,
      "outputs": [
        {
          "output_type": "stream",
          "name": "stderr",
          "text": [
            "/usr/local/lib/python3.7/dist-packages/ipykernel_launcher.py:20: DeprecationWarning:\n",
            "\n",
            "The default dtype for empty Series will be 'object' instead of 'float64' in a future version. Specify a dtype explicitly to silence this warning.\n",
            "\n"
          ]
        }
      ]
    },
    {
      "cell_type": "code",
      "metadata": {
        "colab": {
          "base_uri": "https://localhost:8080/"
        },
        "id": "8kz7a1WiLgSj",
        "outputId": "96cd6a00-e68c-4f82-d381-97d8780c46f7"
      },
      "source": [
        "# Number of selected variables\n",
        "len_stepwise_fp = len(selected_variables)\n",
        "len_stepwise_fp"
      ],
      "execution_count": null,
      "outputs": [
        {
          "output_type": "execute_result",
          "data": {
            "text/plain": [
              "45"
            ]
          },
          "metadata": {},
          "execution_count": 73
        }
      ]
    },
    {
      "cell_type": "code",
      "metadata": {
        "colab": {
          "base_uri": "https://localhost:8080/"
        },
        "id": "dx_YMEgjLgSj",
        "scrolled": false,
        "outputId": "fe351314-a99b-4412-f815-46afef4e7e5d"
      },
      "source": [
        "# List of selected variables\n",
        "stepwise_variables_fp = selected_variables\n",
        "stepwise_variables_fp"
      ],
      "execution_count": null,
      "outputs": [
        {
          "output_type": "execute_result",
          "data": {
            "text/plain": [
              "['sca_passes_live',\n",
              " 'goals',\n",
              " 'passes_ground',\n",
              " 'W',\n",
              " 'touches_att_pen_area',\n",
              " 'passes_into_penalty_area',\n",
              " 'crosses_into_penalty_area',\n",
              " 'passes_other_body',\n",
              " 'pens_att',\n",
              " 'games',\n",
              " 'gca',\n",
              " 'passes_total_distance',\n",
              " 'players_dribbled_past',\n",
              " 'miscontrols',\n",
              " 'xGA',\n",
              " 'passes_free_kicks',\n",
              " 'passes_completed_medium',\n",
              " 'xg_net',\n",
              " 'MP',\n",
              " 'aerials_won',\n",
              " 'pressures_def_3rd',\n",
              " 'dribbles_vs',\n",
              " 'passes_into_final_third',\n",
              " 'progressive_passes',\n",
              " 'fouls',\n",
              " 'tackles_won',\n",
              " 'shots_free_kicks',\n",
              " 'passes_oob',\n",
              " 'ball_recoveries',\n",
              " 'through_balls',\n",
              " 'dribbles_completed',\n",
              " 'pressures',\n",
              " 'goals_per_shot_on_target',\n",
              " 'sca_shots',\n",
              " 'gca_dribbles',\n",
              " 'touches_def_3rd',\n",
              " 'touches_def_pen_area',\n",
              " 'passes',\n",
              " 'sca_fouled',\n",
              " 'dribbles_completed_pct',\n",
              " 'pens_conceded',\n",
              " 'shots_on_target',\n",
              " 'minutes_90s',\n",
              " 'passes_low',\n",
              " 'fouled']"
            ]
          },
          "metadata": {},
          "execution_count": 74
        }
      ]
    },
    {
      "cell_type": "code",
      "metadata": {
        "colab": {
          "base_uri": "https://localhost:8080/",
          "height": 806
        },
        "id": "j3yvNW5FLgSj",
        "scrolled": false,
        "outputId": "26d8c56d-0eba-40d6-d91c-60b9cb234903"
      },
      "source": [
        "# Visulalization of stepwise selection for field players\n",
        "fig = plt.figure(figsize=(10,10))\n",
        "fig.set_facecolor('white')\n",
        " \n",
        "font_size = 5\n",
        "plt.xticks(steps,[f'step {s}\\n'+'\\n'.join(sv_per_step[i]) for i,s in enumerate(steps)], fontsize=3)\n",
        "plt.plot(steps,adjusted_r_squared, marker='o')\n",
        "    \n",
        "plt.ylabel('Adjusted R Squared',fontsize=font_size)\n",
        "plt.grid(True)\n",
        "plt.show()"
      ],
      "execution_count": null,
      "outputs": [
        {
          "output_type": "display_data",
          "data": {
            "image/png": "[encoded data removed]",
            "text/plain": [
              "<Figure size 720x720 with 1 Axes>"
            ]
          },
          "metadata": {}
        }
      ]
    },
    {
      "cell_type": "code",
      "metadata": {
        "colab": {
          "base_uri": "https://localhost:8080/"
        },
        "collapsed": true,
        "id": "aYhKTYLNLgSk",
        "outputId": "760e490d-fb17-4fba-e48a-f3e722d58a50"
      },
      "source": [
        "# Stepwise variables selection of goalkeepers data\n",
        "\n",
        "# Delete columns for response and categorical variables\n",
        "df0_gk = df2_gk.drop(['value','player','nationality','position','squad','position2','foot','league','CL','WinCL','CLBestScorer','Season','age','height'], axis=1)\n",
        "\n",
        "# Explanatory variables and response variable\n",
        "variables = df0_gk.columns.tolist()\n",
        "y = df2_gk['value']\n",
        "selected_variables = []\n",
        "# Significance level\n",
        "sl_enter = 0.05\n",
        "sl_remove = 0.05\n",
        "sv_per_step = []\n",
        "adjusted_r_squared = []\n",
        "steps = []\n",
        "step = 0\n",
        "\n",
        "while len(variables) > 0:\n",
        "    remainder = list(set(variables) - set(selected_variables))\n",
        "    pval = pd.Series(index=remainder) ## p-value\n",
        "    ## 기존에 포함된 변수와 새로운 변수 하나씩 돌아가면서 \n",
        "    ## 선형 모형을 적합한다.\n",
        "    for col in remainder: \n",
        "        X = df0_gk[selected_variables+[col]]\n",
        "        X = sm.add_constant(X)\n",
        "        model = sm.OLS(y,X).fit()\n",
        "        pval[col] = model.pvalues[col]\n",
        " \n",
        "    min_pval = pval.min()\n",
        "    if min_pval < sl_enter: ## 최소 p-value 값이 기준 값보다 작으면 포함\n",
        "        selected_variables.append(pval.idxmin())\n",
        "        ## 선택된 변수들에대해서\n",
        "        ## 어떤 변수를 제거할지 고른다.\n",
        "        while len(selected_variables) > 0:\n",
        "            selected_X = df0_gk[selected_variables]\n",
        "            selected_X = sm.add_constant(selected_X)\n",
        "            selected_pval = sm.OLS(y,selected_X).fit().pvalues[1:] ## 절편항의 p-value는 뺀다\n",
        "            max_pval = selected_pval.max()\n",
        "            if max_pval >= sl_remove: ## 최대 p-value값이 기준값보다 크거나 같으면 제외\n",
        "                remove_variable = selected_pval.idxmax()\n",
        "                selected_variables.remove(remove_variable)\n",
        "            else:\n",
        "                break\n",
        "        \n",
        "        step += 1\n",
        "        steps.append(step)\n",
        "        adj_r_squared = sm.OLS(y,sm.add_constant(df0_gk[selected_variables])).fit().rsquared_adj\n",
        "        adjusted_r_squared.append(adj_r_squared)\n",
        "        sv_per_step.append(selected_variables.copy())\n",
        "    else:\n",
        "        break"
      ],
      "execution_count": null,
      "outputs": [
        {
          "output_type": "stream",
          "name": "stderr",
          "text": [
            "/usr/local/lib/python3.7/dist-packages/ipykernel_launcher.py:20: DeprecationWarning:\n",
            "\n",
            "The default dtype for empty Series will be 'object' instead of 'float64' in a future version. Specify a dtype explicitly to silence this warning.\n",
            "\n"
          ]
        }
      ]
    },
    {
      "cell_type": "code",
      "metadata": {
        "colab": {
          "base_uri": "https://localhost:8080/"
        },
        "id": "L9vwkft3LgSk",
        "outputId": "543531d5-cfbd-4990-a526-0d9b4ce33ffa"
      },
      "source": [
        "# Number of selected variables\n",
        "len_stepwise_gk = len(selected_variables)\n",
        "len_stepwise_gk"
      ],
      "execution_count": null,
      "outputs": [
        {
          "output_type": "execute_result",
          "data": {
            "text/plain": [
              "5"
            ]
          },
          "metadata": {},
          "execution_count": 77
        }
      ]
    },
    {
      "cell_type": "code",
      "metadata": {
        "colab": {
          "base_uri": "https://localhost:8080/"
        },
        "id": "AyLWq0WnLgSl",
        "outputId": "71c37906-92cf-46ad-9ab6-2beaa3f3c632"
      },
      "source": [
        "# List of selected variables\n",
        "stepwise_variables_gk = selected_variables\n",
        "stepwise_variables_gk"
      ],
      "execution_count": null,
      "outputs": [
        {
          "output_type": "execute_result",
          "data": {
            "text/plain": [
              "['wins_gk', 'clean_sheets', 'passes_launched_gk', 'pens_saved', 'MP']"
            ]
          },
          "metadata": {},
          "execution_count": 78
        }
      ]
    },
    {
      "cell_type": "code",
      "metadata": {
        "colab": {
          "base_uri": "https://localhost:8080/",
          "height": 608
        },
        "id": "cdrDlUXiLgSl",
        "scrolled": false,
        "outputId": "6f99a1bb-6fae-430f-c249-a278b5a24ac6"
      },
      "source": [
        "# Visualization of stepwise selection for goalkeepers\n",
        "fig = plt.figure(figsize=(10,10))\n",
        "fig.set_facecolor('white')\n",
        " \n",
        "font_size = 5\n",
        "plt.xticks(steps,[f'step {s}\\n'+'\\n'.join(sv_per_step[i]) for i,s in enumerate(steps)], fontsize=3)\n",
        "plt.plot(steps,adjusted_r_squared, marker='o')\n",
        "    \n",
        "plt.ylabel('Adjusted R Squared',fontsize=font_size)\n",
        "plt.grid(True)\n",
        "plt.show()"
      ],
      "execution_count": null,
      "outputs": [
        {
          "output_type": "display_data",
          "data": {
            "image/png": "[encoded data removed]",
            "text/plain": [
              "<Figure size 720x720 with 1 Axes>"
            ]
          },
          "metadata": {}
        }
      ]
    },
    {
      "cell_type": "code",
      "metadata": {
        "colab": {
          "base_uri": "https://localhost:8080/",
          "height": 1000
        },
        "id": "RAYdULAvLgSl",
        "scrolled": false,
        "outputId": "2b09f61a-96f0-45e4-fe1f-e70ec70dcfc8"
      },
      "source": [
        "# Vif for field players data\n",
        "vif_fp = df2_fp[stepwise_variables_fp]\n",
        "from statsmodels.stats.outliers_influence import variance_inflation_factor\n",
        "vif = pd.DataFrame()\n",
        "vif[\"VIF Factor\"] = [variance_inflation_factor(vif_fp.values, i) for i in range(vif_fp.shape[1])]\n",
        "vif[\"features\"] = vif_fp.columns\n",
        "vif = vif.sort_values(\"VIF Factor\").reset_index(drop=True)\n",
        "vif"
      ],
      "execution_count": null,
      "outputs": [
        {
          "output_type": "execute_result",
          "data": {
            "text/html": [
              "<div>\n",
              "<style scoped>\n",
              "    .dataframe tbody tr th:only-of-type {\n",
              "        vertical-align: middle;\n",
              "    }\n",
              "\n",
              "    .dataframe tbody tr th {\n",
              "        vertical-align: top;\n",
              "    }\n",
              "\n",
              "    .dataframe thead th {\n",
              "        text-align: right;\n",
              "    }\n",
              "</style>\n",
              "<table border=\"1\" class=\"dataframe\">\n",
              "  <thead>\n",
              "    <tr style=\"text-align: right;\">\n",
              "      <th></th>\n",
              "      <th>VIF Factor</th>\n",
              "      <th>features</th>\n",
              "    </tr>\n",
              "  </thead>\n",
              "  <tbody>\n",
              "    <tr>\n",
              "      <th>0</th>\n",
              "      <td>1.485017</td>\n",
              "      <td>pens_conceded</td>\n",
              "    </tr>\n",
              "    <tr>\n",
              "      <th>1</th>\n",
              "      <td>2.324860</td>\n",
              "      <td>gca_dribbles</td>\n",
              "    </tr>\n",
              "    <tr>\n",
              "      <th>2</th>\n",
              "      <td>2.393209</td>\n",
              "      <td>shots_free_kicks</td>\n",
              "    </tr>\n",
              "    <tr>\n",
              "      <th>3</th>\n",
              "      <td>2.467419</td>\n",
              "      <td>goals_per_shot_on_target</td>\n",
              "    </tr>\n",
              "    <tr>\n",
              "      <th>4</th>\n",
              "      <td>2.708104</td>\n",
              "      <td>pens_att</td>\n",
              "    </tr>\n",
              "    <tr>\n",
              "      <th>5</th>\n",
              "      <td>3.156319</td>\n",
              "      <td>through_balls</td>\n",
              "    </tr>\n",
              "    <tr>\n",
              "      <th>6</th>\n",
              "      <td>3.414008</td>\n",
              "      <td>xg_net</td>\n",
              "    </tr>\n",
              "    <tr>\n",
              "      <th>7</th>\n",
              "      <td>3.890012</td>\n",
              "      <td>passes_other_body</td>\n",
              "    </tr>\n",
              "    <tr>\n",
              "      <th>8</th>\n",
              "      <td>4.382470</td>\n",
              "      <td>sca_shots</td>\n",
              "    </tr>\n",
              "    <tr>\n",
              "      <th>9</th>\n",
              "      <td>4.897236</td>\n",
              "      <td>sca_fouled</td>\n",
              "    </tr>\n",
              "    <tr>\n",
              "      <th>10</th>\n",
              "      <td>5.378947</td>\n",
              "      <td>aerials_won</td>\n",
              "    </tr>\n",
              "    <tr>\n",
              "      <th>11</th>\n",
              "      <td>5.445274</td>\n",
              "      <td>passes_free_kicks</td>\n",
              "    </tr>\n",
              "    <tr>\n",
              "      <th>12</th>\n",
              "      <td>6.658303</td>\n",
              "      <td>crosses_into_penalty_area</td>\n",
              "    </tr>\n",
              "    <tr>\n",
              "      <th>13</th>\n",
              "      <td>7.083557</td>\n",
              "      <td>dribbles_completed_pct</td>\n",
              "    </tr>\n",
              "    <tr>\n",
              "      <th>14</th>\n",
              "      <td>9.461171</td>\n",
              "      <td>fouled</td>\n",
              "    </tr>\n",
              "    <tr>\n",
              "      <th>15</th>\n",
              "      <td>9.608095</td>\n",
              "      <td>gca</td>\n",
              "    </tr>\n",
              "    <tr>\n",
              "      <th>16</th>\n",
              "      <td>10.948917</td>\n",
              "      <td>passes_oob</td>\n",
              "    </tr>\n",
              "    <tr>\n",
              "      <th>17</th>\n",
              "      <td>10.962983</td>\n",
              "      <td>fouls</td>\n",
              "    </tr>\n",
              "    <tr>\n",
              "      <th>18</th>\n",
              "      <td>16.031411</td>\n",
              "      <td>W</td>\n",
              "    </tr>\n",
              "    <tr>\n",
              "      <th>19</th>\n",
              "      <td>16.516598</td>\n",
              "      <td>miscontrols</td>\n",
              "    </tr>\n",
              "    <tr>\n",
              "      <th>20</th>\n",
              "      <td>17.042119</td>\n",
              "      <td>passes_low</td>\n",
              "    </tr>\n",
              "    <tr>\n",
              "      <th>21</th>\n",
              "      <td>18.303770</td>\n",
              "      <td>tackles_won</td>\n",
              "    </tr>\n",
              "    <tr>\n",
              "      <th>22</th>\n",
              "      <td>18.744143</td>\n",
              "      <td>dribbles_vs</td>\n",
              "    </tr>\n",
              "    <tr>\n",
              "      <th>23</th>\n",
              "      <td>19.962341</td>\n",
              "      <td>shots_on_target</td>\n",
              "    </tr>\n",
              "    <tr>\n",
              "      <th>24</th>\n",
              "      <td>23.471256</td>\n",
              "      <td>touches_att_pen_area</td>\n",
              "    </tr>\n",
              "    <tr>\n",
              "      <th>25</th>\n",
              "      <td>26.191997</td>\n",
              "      <td>passes_into_penalty_area</td>\n",
              "    </tr>\n",
              "    <tr>\n",
              "      <th>26</th>\n",
              "      <td>26.996103</td>\n",
              "      <td>pressures_def_3rd</td>\n",
              "    </tr>\n",
              "    <tr>\n",
              "      <th>27</th>\n",
              "      <td>27.314308</td>\n",
              "      <td>sca_passes_live</td>\n",
              "    </tr>\n",
              "    <tr>\n",
              "      <th>28</th>\n",
              "      <td>28.576897</td>\n",
              "      <td>goals</td>\n",
              "    </tr>\n",
              "    <tr>\n",
              "      <th>29</th>\n",
              "      <td>29.390900</td>\n",
              "      <td>touches_def_pen_area</td>\n",
              "    </tr>\n",
              "    <tr>\n",
              "      <th>30</th>\n",
              "      <td>33.073532</td>\n",
              "      <td>ball_recoveries</td>\n",
              "    </tr>\n",
              "    <tr>\n",
              "      <th>31</th>\n",
              "      <td>37.726270</td>\n",
              "      <td>games</td>\n",
              "    </tr>\n",
              "    <tr>\n",
              "      <th>32</th>\n",
              "      <td>39.757513</td>\n",
              "      <td>pressures</td>\n",
              "    </tr>\n",
              "    <tr>\n",
              "      <th>33</th>\n",
              "      <td>40.291718</td>\n",
              "      <td>passes_into_final_third</td>\n",
              "    </tr>\n",
              "    <tr>\n",
              "      <th>34</th>\n",
              "      <td>52.194814</td>\n",
              "      <td>xGA</td>\n",
              "    </tr>\n",
              "    <tr>\n",
              "      <th>35</th>\n",
              "      <td>58.381406</td>\n",
              "      <td>progressive_passes</td>\n",
              "    </tr>\n",
              "    <tr>\n",
              "      <th>36</th>\n",
              "      <td>72.995581</td>\n",
              "      <td>touches_def_3rd</td>\n",
              "    </tr>\n",
              "    <tr>\n",
              "      <th>37</th>\n",
              "      <td>76.219890</td>\n",
              "      <td>passes_ground</td>\n",
              "    </tr>\n",
              "    <tr>\n",
              "      <th>38</th>\n",
              "      <td>93.168869</td>\n",
              "      <td>minutes_90s</td>\n",
              "    </tr>\n",
              "    <tr>\n",
              "      <th>39</th>\n",
              "      <td>103.007268</td>\n",
              "      <td>MP</td>\n",
              "    </tr>\n",
              "    <tr>\n",
              "      <th>40</th>\n",
              "      <td>183.758501</td>\n",
              "      <td>passes_completed_medium</td>\n",
              "    </tr>\n",
              "    <tr>\n",
              "      <th>41</th>\n",
              "      <td>266.805617</td>\n",
              "      <td>passes_total_distance</td>\n",
              "    </tr>\n",
              "    <tr>\n",
              "      <th>42</th>\n",
              "      <td>300.066155</td>\n",
              "      <td>passes</td>\n",
              "    </tr>\n",
              "    <tr>\n",
              "      <th>43</th>\n",
              "      <td>423.896515</td>\n",
              "      <td>dribbles_completed</td>\n",
              "    </tr>\n",
              "    <tr>\n",
              "      <th>44</th>\n",
              "      <td>437.811073</td>\n",
              "      <td>players_dribbled_past</td>\n",
              "    </tr>\n",
              "  </tbody>\n",
              "</table>\n",
              "</div>"
            ],
            "text/plain": [
              "    VIF Factor                   features\n",
              "0     1.485017              pens_conceded\n",
              "1     2.324860               gca_dribbles\n",
              "2     2.393209           shots_free_kicks\n",
              "3     2.467419   goals_per_shot_on_target\n",
              "4     2.708104                   pens_att\n",
              "5     3.156319              through_balls\n",
              "6     3.414008                     xg_net\n",
              "7     3.890012          passes_other_body\n",
              "8     4.382470                  sca_shots\n",
              "9     4.897236                 sca_fouled\n",
              "10    5.378947                aerials_won\n",
              "11    5.445274          passes_free_kicks\n",
              "12    6.658303  crosses_into_penalty_area\n",
              "13    7.083557     dribbles_completed_pct\n",
              "14    9.461171                     fouled\n",
              "15    9.608095                        gca\n",
              "16   10.948917                 passes_oob\n",
              "17   10.962983                      fouls\n",
              "18   16.031411                          W\n",
              "19   16.516598                miscontrols\n",
              "20   17.042119                 passes_low\n",
              "21   18.303770                tackles_won\n",
              "22   18.744143                dribbles_vs\n",
              "23   19.962341            shots_on_target\n",
              "24   23.471256       touches_att_pen_area\n",
              "25   26.191997   passes_into_penalty_area\n",
              "26   26.996103          pressures_def_3rd\n",
              "27   27.314308            sca_passes_live\n",
              "28   28.576897                      goals\n",
              "29   29.390900       touches_def_pen_area\n",
              "30   33.073532            ball_recoveries\n",
              "31   37.726270                      games\n",
              "32   39.757513                  pressures\n",
              "33   40.291718    passes_into_final_third\n",
              "34   52.194814                        xGA\n",
              "35   58.381406         progressive_passes\n",
              "36   72.995581            touches_def_3rd\n",
              "37   76.219890              passes_ground\n",
              "38   93.168869                minutes_90s\n",
              "39  103.007268                         MP\n",
              "40  183.758501    passes_completed_medium\n",
              "41  266.805617      passes_total_distance\n",
              "42  300.066155                     passes\n",
              "43  423.896515         dribbles_completed\n",
              "44  437.811073      players_dribbled_past"
            ]
          },
          "metadata": {},
          "execution_count": 80
        }
      ]
    },
    {
      "cell_type": "code",
      "metadata": {
        "colab": {
          "base_uri": "https://localhost:8080/",
          "height": 206
        },
        "id": "dkEdo3ONLgSm",
        "scrolled": false,
        "outputId": "cf686c1b-081b-4ab8-c20c-4ccb57ee6208"
      },
      "source": [
        "# Vif for goalkeepers data\n",
        "vif_gk = df2_gk[stepwise_variables_gk]\n",
        "from statsmodels.stats.outliers_influence import variance_inflation_factor\n",
        "vif = pd.DataFrame()\n",
        "vif[\"VIF Factor\"] = [variance_inflation_factor(vif_gk.values, i) for i in range(vif_gk.shape[1])]\n",
        "vif[\"features\"] = vif_gk.columns\n",
        "vif = vif.sort_values(\"VIF Factor\").reset_index(drop=True)\n",
        "vif"
      ],
      "execution_count": null,
      "outputs": [
        {
          "output_type": "execute_result",
          "data": {
            "text/html": [
              "<div>\n",
              "<style scoped>\n",
              "    .dataframe tbody tr th:only-of-type {\n",
              "        vertical-align: middle;\n",
              "    }\n",
              "\n",
              "    .dataframe tbody tr th {\n",
              "        vertical-align: top;\n",
              "    }\n",
              "\n",
              "    .dataframe thead th {\n",
              "        text-align: right;\n",
              "    }\n",
              "</style>\n",
              "<table border=\"1\" class=\"dataframe\">\n",
              "  <thead>\n",
              "    <tr style=\"text-align: right;\">\n",
              "      <th></th>\n",
              "      <th>VIF Factor</th>\n",
              "      <th>features</th>\n",
              "    </tr>\n",
              "  </thead>\n",
              "  <tbody>\n",
              "    <tr>\n",
              "      <th>0</th>\n",
              "      <td>1.783736</td>\n",
              "      <td>pens_saved</td>\n",
              "    </tr>\n",
              "    <tr>\n",
              "      <th>1</th>\n",
              "      <td>2.328734</td>\n",
              "      <td>MP</td>\n",
              "    </tr>\n",
              "    <tr>\n",
              "      <th>2</th>\n",
              "      <td>4.768164</td>\n",
              "      <td>passes_launched_gk</td>\n",
              "    </tr>\n",
              "    <tr>\n",
              "      <th>3</th>\n",
              "      <td>12.012378</td>\n",
              "      <td>wins_gk</td>\n",
              "    </tr>\n",
              "    <tr>\n",
              "      <th>4</th>\n",
              "      <td>15.321328</td>\n",
              "      <td>clean_sheets</td>\n",
              "    </tr>\n",
              "  </tbody>\n",
              "</table>\n",
              "</div>"
            ],
            "text/plain": [
              "   VIF Factor            features\n",
              "0    1.783736          pens_saved\n",
              "1    2.328734                  MP\n",
              "2    4.768164  passes_launched_gk\n",
              "3   12.012378             wins_gk\n",
              "4   15.321328        clean_sheets"
            ]
          },
          "metadata": {},
          "execution_count": 81
        }
      ]
    },
    {
      "cell_type": "code",
      "metadata": {
        "colab": {
          "base_uri": "https://localhost:8080/",
          "height": 304
        },
        "id": "ivq4k6mOLgSm",
        "scrolled": true,
        "outputId": "c7fe97d6-74ff-4c14-defe-25f27b359ca9"
      },
      "source": [
        "# Vif for goalkeepers data\n",
        "vif_gk = df2_gk[stepwise_variables_gk]\n",
        "vif_gk.drop(columns=['wins_gk'], axis=1, inplace=True)\n",
        "from statsmodels.stats.outliers_influence import variance_inflation_factor\n",
        "vif = pd.DataFrame()\n",
        "vif[\"VIF Factor\"] = [variance_inflation_factor(vif_gk.values, i) for i in range(vif_gk.shape[1])]\n",
        "vif[\"features\"] = vif_gk.columns\n",
        "vif = vif.sort_values(\"VIF Factor\").reset_index(drop=True)\n",
        "vif"
      ],
      "execution_count": null,
      "outputs": [
        {
          "output_type": "stream",
          "name": "stderr",
          "text": [
            "/usr/local/lib/python3.7/dist-packages/pandas/core/frame.py:4174: SettingWithCopyWarning:\n",
            "\n",
            "\n",
            "A value is trying to be set on a copy of a slice from a DataFrame\n",
            "\n",
            "See the caveats in the documentation: https://pandas.pydata.org/pandas-docs/stable/user_guide/indexing.html#returning-a-view-versus-a-copy\n",
            "\n"
          ]
        },
        {
          "output_type": "execute_result",
          "data": {
            "text/html": [
              "<div>\n",
              "<style scoped>\n",
              "    .dataframe tbody tr th:only-of-type {\n",
              "        vertical-align: middle;\n",
              "    }\n",
              "\n",
              "    .dataframe tbody tr th {\n",
              "        vertical-align: top;\n",
              "    }\n",
              "\n",
              "    .dataframe thead th {\n",
              "        text-align: right;\n",
              "    }\n",
              "</style>\n",
              "<table border=\"1\" class=\"dataframe\">\n",
              "  <thead>\n",
              "    <tr style=\"text-align: right;\">\n",
              "      <th></th>\n",
              "      <th>VIF Factor</th>\n",
              "      <th>features</th>\n",
              "    </tr>\n",
              "  </thead>\n",
              "  <tbody>\n",
              "    <tr>\n",
              "      <th>0</th>\n",
              "      <td>1.778623</td>\n",
              "      <td>pens_saved</td>\n",
              "    </tr>\n",
              "    <tr>\n",
              "      <th>1</th>\n",
              "      <td>2.280624</td>\n",
              "      <td>MP</td>\n",
              "    </tr>\n",
              "    <tr>\n",
              "      <th>2</th>\n",
              "      <td>4.145338</td>\n",
              "      <td>clean_sheets</td>\n",
              "    </tr>\n",
              "    <tr>\n",
              "      <th>3</th>\n",
              "      <td>4.697773</td>\n",
              "      <td>passes_launched_gk</td>\n",
              "    </tr>\n",
              "  </tbody>\n",
              "</table>\n",
              "</div>"
            ],
            "text/plain": [
              "   VIF Factor            features\n",
              "0    1.778623          pens_saved\n",
              "1    2.280624                  MP\n",
              "2    4.145338        clean_sheets\n",
              "3    4.697773  passes_launched_gk"
            ]
          },
          "metadata": {},
          "execution_count": 82
        }
      ]
    },
    {
      "cell_type": "code",
      "metadata": {
        "colab": {
          "base_uri": "https://localhost:8080/"
        },
        "collapsed": true,
        "id": "eR7l6wjgLgSm",
        "outputId": "fd2a33b4-7945-47fb-f0dd-8c755cdd2852"
      },
      "source": [
        "# Applying the result\n",
        "vif_col_fp = ['pens_conceded','gca_dribbles','shots_free_kicks','goals_per_shot_on_target','pens_att','through_balls','xg_net',\n",
        "             'passes_other_body','sca_shots','sca_fouled','aerials_won','passes_free_kicks','crosses_into_penalty_area',\n",
        "             'dribbles_completed_pct','fouled','gca']\n",
        "vif_col_gk = ['pens_saved','MP','clean_sheets','passes_launched_gk']\n",
        "col_fp = list(df2_fp.iloc[:, 0:14]) + vif_col_fp\n",
        "df3_fp = df2_fp[col_fp]\n",
        "col_gk = list(df2_gk.iloc[:, 0:14]) + vif_col_gk\n",
        "df3_gk = df2_gk[col_gk]\n",
        "\n",
        "# Delete the columns 'plyaer', 'position2'\n",
        "df3_fp.drop(columns=['player','position2'], axis=1, inplace=True)\n",
        "df3_gk.drop(columns=['player','position2'], axis=1, inplace=True)"
      ],
      "execution_count": null,
      "outputs": [
        {
          "output_type": "stream",
          "name": "stderr",
          "text": [
            "/usr/local/lib/python3.7/dist-packages/pandas/core/frame.py:4174: SettingWithCopyWarning:\n",
            "\n",
            "\n",
            "A value is trying to be set on a copy of a slice from a DataFrame\n",
            "\n",
            "See the caveats in the documentation: https://pandas.pydata.org/pandas-docs/stable/user_guide/indexing.html#returning-a-view-versus-a-copy\n",
            "\n"
          ]
        }
      ]
    },
    {
      "cell_type": "code",
      "metadata": {
        "colab": {
          "base_uri": "https://localhost:8080/",
          "height": 226
        },
        "id": "bPwMSXAQLgSn",
        "outputId": "a0d69d58-cbf8-474f-9b29-e439b8c39deb"
      },
      "source": [
        "df3_fp.head()"
      ],
      "execution_count": null,
      "outputs": [
        {
          "output_type": "execute_result",
          "data": {
            "text/html": [
              "<div>\n",
              "<style scoped>\n",
              "    .dataframe tbody tr th:only-of-type {\n",
              "        vertical-align: middle;\n",
              "    }\n",
              "\n",
              "    .dataframe tbody tr th {\n",
              "        vertical-align: top;\n",
              "    }\n",
              "\n",
              "    .dataframe thead th {\n",
              "        text-align: right;\n",
              "    }\n",
              "</style>\n",
              "<table border=\"1\" class=\"dataframe\">\n",
              "  <thead>\n",
              "    <tr style=\"text-align: right;\">\n",
              "      <th></th>\n",
              "      <th>nationality</th>\n",
              "      <th>position</th>\n",
              "      <th>squad</th>\n",
              "      <th>foot</th>\n",
              "      <th>league</th>\n",
              "      <th>CL</th>\n",
              "      <th>WinCL</th>\n",
              "      <th>CLBestScorer</th>\n",
              "      <th>Season</th>\n",
              "      <th>age</th>\n",
              "      <th>value</th>\n",
              "      <th>height</th>\n",
              "      <th>pens_conceded</th>\n",
              "      <th>gca_dribbles</th>\n",
              "      <th>shots_free_kicks</th>\n",
              "      <th>goals_per_shot_on_target</th>\n",
              "      <th>pens_att</th>\n",
              "      <th>through_balls</th>\n",
              "      <th>xg_net</th>\n",
              "      <th>passes_other_body</th>\n",
              "      <th>sca_shots</th>\n",
              "      <th>sca_fouled</th>\n",
              "      <th>aerials_won</th>\n",
              "      <th>passes_free_kicks</th>\n",
              "      <th>crosses_into_penalty_area</th>\n",
              "      <th>dribbles_completed_pct</th>\n",
              "      <th>fouled</th>\n",
              "      <th>gca</th>\n",
              "    </tr>\n",
              "  </thead>\n",
              "  <tbody>\n",
              "    <tr>\n",
              "      <th>0</th>\n",
              "      <td>41</td>\n",
              "      <td>1</td>\n",
              "      <td>0</td>\n",
              "      <td>2</td>\n",
              "      <td>1</td>\n",
              "      <td>0.0</td>\n",
              "      <td>0.0</td>\n",
              "      <td>0.0</td>\n",
              "      <td>0</td>\n",
              "      <td>23.0</td>\n",
              "      <td>1800000.0</td>\n",
              "      <td>186.0</td>\n",
              "      <td>0.0</td>\n",
              "      <td>0.0</td>\n",
              "      <td>1.0</td>\n",
              "      <td>0.25</td>\n",
              "      <td>0.0</td>\n",
              "      <td>2.0</td>\n",
              "      <td>0.1</td>\n",
              "      <td>0.0</td>\n",
              "      <td>2.0</td>\n",
              "      <td>4.0</td>\n",
              "      <td>1.0</td>\n",
              "      <td>3.0</td>\n",
              "      <td>1.0</td>\n",
              "      <td>77.4</td>\n",
              "      <td>19.0</td>\n",
              "      <td>3.0</td>\n",
              "    </tr>\n",
              "    <tr>\n",
              "      <th>1</th>\n",
              "      <td>43</td>\n",
              "      <td>0</td>\n",
              "      <td>96</td>\n",
              "      <td>2</td>\n",
              "      <td>1</td>\n",
              "      <td>1.0</td>\n",
              "      <td>1.0</td>\n",
              "      <td>0.0</td>\n",
              "      <td>0</td>\n",
              "      <td>24.0</td>\n",
              "      <td>70000000.0</td>\n",
              "      <td>191.0</td>\n",
              "      <td>0.0</td>\n",
              "      <td>0.0</td>\n",
              "      <td>0.0</td>\n",
              "      <td>0.00</td>\n",
              "      <td>0.0</td>\n",
              "      <td>1.0</td>\n",
              "      <td>-0.9</td>\n",
              "      <td>5.0</td>\n",
              "      <td>3.0</td>\n",
              "      <td>0.0</td>\n",
              "      <td>31.0</td>\n",
              "      <td>24.0</td>\n",
              "      <td>0.0</td>\n",
              "      <td>83.3</td>\n",
              "      <td>12.0</td>\n",
              "      <td>2.0</td>\n",
              "    </tr>\n",
              "    <tr>\n",
              "      <th>2</th>\n",
              "      <td>41</td>\n",
              "      <td>0</td>\n",
              "      <td>0</td>\n",
              "      <td>1</td>\n",
              "      <td>1</td>\n",
              "      <td>0.0</td>\n",
              "      <td>0.0</td>\n",
              "      <td>0.0</td>\n",
              "      <td>0</td>\n",
              "      <td>21.0</td>\n",
              "      <td>2000000.0</td>\n",
              "      <td>179.0</td>\n",
              "      <td>2.0</td>\n",
              "      <td>0.0</td>\n",
              "      <td>0.0</td>\n",
              "      <td>0.00</td>\n",
              "      <td>0.0</td>\n",
              "      <td>1.0</td>\n",
              "      <td>-0.5</td>\n",
              "      <td>2.0</td>\n",
              "      <td>1.0</td>\n",
              "      <td>5.0</td>\n",
              "      <td>22.0</td>\n",
              "      <td>5.0</td>\n",
              "      <td>8.0</td>\n",
              "      <td>91.7</td>\n",
              "      <td>35.0</td>\n",
              "      <td>2.0</td>\n",
              "    </tr>\n",
              "    <tr>\n",
              "      <th>3</th>\n",
              "      <td>43</td>\n",
              "      <td>0</td>\n",
              "      <td>11</td>\n",
              "      <td>1</td>\n",
              "      <td>1</td>\n",
              "      <td>1.0</td>\n",
              "      <td>0.0</td>\n",
              "      <td>0.0</td>\n",
              "      <td>0</td>\n",
              "      <td>23.0</td>\n",
              "      <td>60000000.0</td>\n",
              "      <td>182.0</td>\n",
              "      <td>0.0</td>\n",
              "      <td>0.0</td>\n",
              "      <td>0.0</td>\n",
              "      <td>0.17</td>\n",
              "      <td>0.0</td>\n",
              "      <td>1.0</td>\n",
              "      <td>-0.1</td>\n",
              "      <td>8.0</td>\n",
              "      <td>0.0</td>\n",
              "      <td>1.0</td>\n",
              "      <td>41.0</td>\n",
              "      <td>19.0</td>\n",
              "      <td>0.0</td>\n",
              "      <td>75.0</td>\n",
              "      <td>25.0</td>\n",
              "      <td>1.0</td>\n",
              "    </tr>\n",
              "    <tr>\n",
              "      <th>4</th>\n",
              "      <td>41</td>\n",
              "      <td>3</td>\n",
              "      <td>0</td>\n",
              "      <td>1</td>\n",
              "      <td>1</td>\n",
              "      <td>0.0</td>\n",
              "      <td>0.0</td>\n",
              "      <td>0.0</td>\n",
              "      <td>0</td>\n",
              "      <td>31.0</td>\n",
              "      <td>1800000.0</td>\n",
              "      <td>183.0</td>\n",
              "      <td>0.0</td>\n",
              "      <td>0.0</td>\n",
              "      <td>0.0</td>\n",
              "      <td>0.38</td>\n",
              "      <td>2.0</td>\n",
              "      <td>1.0</td>\n",
              "      <td>-0.1</td>\n",
              "      <td>2.0</td>\n",
              "      <td>2.0</td>\n",
              "      <td>6.0</td>\n",
              "      <td>42.0</td>\n",
              "      <td>7.0</td>\n",
              "      <td>2.0</td>\n",
              "      <td>81.0</td>\n",
              "      <td>72.0</td>\n",
              "      <td>2.0</td>\n",
              "    </tr>\n",
              "  </tbody>\n",
              "</table>\n",
              "</div>"
            ],
            "text/plain": [
              "   nationality  position  squad  ...  dribbles_completed_pct  fouled  gca\n",
              "0           41         1      0  ...                    77.4    19.0  3.0\n",
              "1           43         0     96  ...                    83.3    12.0  2.0\n",
              "2           41         0      0  ...                    91.7    35.0  2.0\n",
              "3           43         0     11  ...                    75.0    25.0  1.0\n",
              "4           41         3      0  ...                    81.0    72.0  2.0\n",
              "\n",
              "[5 rows x 28 columns]"
            ]
          },
          "metadata": {},
          "execution_count": 84
        }
      ]
    },
    {
      "cell_type": "code",
      "metadata": {
        "colab": {
          "base_uri": "https://localhost:8080/",
          "height": 206
        },
        "id": "7-u4cVWhLgSn",
        "outputId": "2f5bccf8-6067-47ad-8730-75175e13aca0"
      },
      "source": [
        "df3_gk.head()"
      ],
      "execution_count": null,
      "outputs": [
        {
          "output_type": "execute_result",
          "data": {
            "text/html": [
              "<div>\n",
              "<style scoped>\n",
              "    .dataframe tbody tr th:only-of-type {\n",
              "        vertical-align: middle;\n",
              "    }\n",
              "\n",
              "    .dataframe tbody tr th {\n",
              "        vertical-align: top;\n",
              "    }\n",
              "\n",
              "    .dataframe thead th {\n",
              "        text-align: right;\n",
              "    }\n",
              "</style>\n",
              "<table border=\"1\" class=\"dataframe\">\n",
              "  <thead>\n",
              "    <tr style=\"text-align: right;\">\n",
              "      <th></th>\n",
              "      <th>nationality</th>\n",
              "      <th>position</th>\n",
              "      <th>squad</th>\n",
              "      <th>foot</th>\n",
              "      <th>league</th>\n",
              "      <th>CL</th>\n",
              "      <th>WinCL</th>\n",
              "      <th>CLBestScorer</th>\n",
              "      <th>Season</th>\n",
              "      <th>age</th>\n",
              "      <th>value</th>\n",
              "      <th>height</th>\n",
              "      <th>pens_saved</th>\n",
              "      <th>MP</th>\n",
              "      <th>clean_sheets</th>\n",
              "      <th>passes_launched_gk</th>\n",
              "    </tr>\n",
              "  </thead>\n",
              "  <tbody>\n",
              "    <tr>\n",
              "      <th>0</th>\n",
              "      <td>41</td>\n",
              "      <td>2</td>\n",
              "      <td>0</td>\n",
              "      <td>1</td>\n",
              "      <td>1</td>\n",
              "      <td>0.0</td>\n",
              "      <td>0.0</td>\n",
              "      <td>0.0</td>\n",
              "      <td>0</td>\n",
              "      <td>25.0</td>\n",
              "      <td>9000000.0</td>\n",
              "      <td>185.0</td>\n",
              "      <td>3.0</td>\n",
              "      <td>38.0</td>\n",
              "      <td>12.0</td>\n",
              "      <td>586.0</td>\n",
              "    </tr>\n",
              "    <tr>\n",
              "      <th>1</th>\n",
              "      <td>41</td>\n",
              "      <td>2</td>\n",
              "      <td>0</td>\n",
              "      <td>2</td>\n",
              "      <td>1</td>\n",
              "      <td>0.0</td>\n",
              "      <td>0.0</td>\n",
              "      <td>0.0</td>\n",
              "      <td>0</td>\n",
              "      <td>20.0</td>\n",
              "      <td>1000000.0</td>\n",
              "      <td>185.0</td>\n",
              "      <td>0.0</td>\n",
              "      <td>38.0</td>\n",
              "      <td>0.0</td>\n",
              "      <td>10.0</td>\n",
              "    </tr>\n",
              "    <tr>\n",
              "      <th>2</th>\n",
              "      <td>43</td>\n",
              "      <td>2</td>\n",
              "      <td>2</td>\n",
              "      <td>2</td>\n",
              "      <td>2</td>\n",
              "      <td>0.0</td>\n",
              "      <td>0.0</td>\n",
              "      <td>0.0</td>\n",
              "      <td>0</td>\n",
              "      <td>34.0</td>\n",
              "      <td>20000.0</td>\n",
              "      <td>184.0</td>\n",
              "      <td>0.0</td>\n",
              "      <td>38.0</td>\n",
              "      <td>0.0</td>\n",
              "      <td>15.0</td>\n",
              "    </tr>\n",
              "    <tr>\n",
              "      <th>3</th>\n",
              "      <td>43</td>\n",
              "      <td>2</td>\n",
              "      <td>2</td>\n",
              "      <td>2</td>\n",
              "      <td>2</td>\n",
              "      <td>0.0</td>\n",
              "      <td>0.0</td>\n",
              "      <td>0.0</td>\n",
              "      <td>0</td>\n",
              "      <td>30.0</td>\n",
              "      <td>3000000.0</td>\n",
              "      <td>182.0</td>\n",
              "      <td>0.0</td>\n",
              "      <td>38.0</td>\n",
              "      <td>11.0</td>\n",
              "      <td>725.0</td>\n",
              "    </tr>\n",
              "    <tr>\n",
              "      <th>4</th>\n",
              "      <td>43</td>\n",
              "      <td>2</td>\n",
              "      <td>3</td>\n",
              "      <td>1</td>\n",
              "      <td>2</td>\n",
              "      <td>0.0</td>\n",
              "      <td>0.0</td>\n",
              "      <td>0.0</td>\n",
              "      <td>0</td>\n",
              "      <td>34.0</td>\n",
              "      <td>50000.0</td>\n",
              "      <td>188.0</td>\n",
              "      <td>0.0</td>\n",
              "      <td>38.0</td>\n",
              "      <td>4.0</td>\n",
              "      <td>228.0</td>\n",
              "    </tr>\n",
              "  </tbody>\n",
              "</table>\n",
              "</div>"
            ],
            "text/plain": [
              "   nationality  position  squad  ...    MP  clean_sheets  passes_launched_gk\n",
              "0           41         2      0  ...  38.0          12.0               586.0\n",
              "1           41         2      0  ...  38.0           0.0                10.0\n",
              "2           43         2      2  ...  38.0           0.0                15.0\n",
              "3           43         2      2  ...  38.0          11.0               725.0\n",
              "4           43         2      3  ...  38.0           4.0               228.0\n",
              "\n",
              "[5 rows x 16 columns]"
            ]
          },
          "metadata": {},
          "execution_count": 85
        }
      ]
    },
    {
      "cell_type": "code",
      "metadata": {
        "colab": {
          "base_uri": "https://localhost:8080/"
        },
        "id": "-nAVMbNCLgSo",
        "scrolled": true,
        "outputId": "7d4bd625-6366-40de-c1da-ad14ea0fc6dc"
      },
      "source": [
        "print(df3_fp.shape)\n",
        "print(df3_gk.shape)"
      ],
      "execution_count": null,
      "outputs": [
        {
          "output_type": "stream",
          "name": "stdout",
          "text": [
            "(6421, 28)\n",
            "(531, 16)\n"
          ]
        }
      ]
    },
    {
      "cell_type": "code",
      "metadata": {
        "colab": {
          "base_uri": "https://localhost:8080/",
          "height": 300
        },
        "id": "u0wIJLTCLgSo",
        "outputId": "b21c8aad-14d2-43ae-8322-d1ff11946618"
      },
      "source": [
        "# Data scaling for PCA\n",
        "df3_fp_pca = df3_fp.iloc[:, 12:]\n",
        "\n",
        "from sklearn.preprocessing import StandardScaler\n",
        "scaler = StandardScaler()\n",
        "result = scaler.fit_transform(df3_fp_pca)\n",
        "data_scaled = pd.DataFrame(result)\n",
        "data_scaled.describe()"
      ],
      "execution_count": null,
      "outputs": [
        {
          "output_type": "execute_result",
          "data": {
            "text/html": [
              "<div>\n",
              "<style scoped>\n",
              "    .dataframe tbody tr th:only-of-type {\n",
              "        vertical-align: middle;\n",
              "    }\n",
              "\n",
              "    .dataframe tbody tr th {\n",
              "        vertical-align: top;\n",
              "    }\n",
              "\n",
              "    .dataframe thead th {\n",
              "        text-align: right;\n",
              "    }\n",
              "</style>\n",
              "<table border=\"1\" class=\"dataframe\">\n",
              "  <thead>\n",
              "    <tr style=\"text-align: right;\">\n",
              "      <th></th>\n",
              "      <th>0</th>\n",
              "      <th>1</th>\n",
              "      <th>2</th>\n",
              "      <th>3</th>\n",
              "      <th>4</th>\n",
              "      <th>5</th>\n",
              "      <th>6</th>\n",
              "      <th>7</th>\n",
              "      <th>8</th>\n",
              "      <th>9</th>\n",
              "      <th>10</th>\n",
              "      <th>11</th>\n",
              "      <th>12</th>\n",
              "      <th>13</th>\n",
              "      <th>14</th>\n",
              "      <th>15</th>\n",
              "    </tr>\n",
              "  </thead>\n",
              "  <tbody>\n",
              "    <tr>\n",
              "      <th>count</th>\n",
              "      <td>6.421000e+03</td>\n",
              "      <td>6.421000e+03</td>\n",
              "      <td>6.421000e+03</td>\n",
              "      <td>6.421000e+03</td>\n",
              "      <td>6.421000e+03</td>\n",
              "      <td>6.421000e+03</td>\n",
              "      <td>6.421000e+03</td>\n",
              "      <td>6.421000e+03</td>\n",
              "      <td>6.421000e+03</td>\n",
              "      <td>6.421000e+03</td>\n",
              "      <td>6.421000e+03</td>\n",
              "      <td>6.421000e+03</td>\n",
              "      <td>6.421000e+03</td>\n",
              "      <td>6.421000e+03</td>\n",
              "      <td>6.421000e+03</td>\n",
              "      <td>6.421000e+03</td>\n",
              "    </tr>\n",
              "    <tr>\n",
              "      <th>mean</th>\n",
              "      <td>1.134412e-15</td>\n",
              "      <td>1.928582e-16</td>\n",
              "      <td>1.221747e-16</td>\n",
              "      <td>-1.080310e-16</td>\n",
              "      <td>-2.744867e-16</td>\n",
              "      <td>1.902612e-15</td>\n",
              "      <td>-7.929856e-17</td>\n",
              "      <td>-1.054202e-16</td>\n",
              "      <td>4.381759e-16</td>\n",
              "      <td>8.806743e-16</td>\n",
              "      <td>1.723863e-17</td>\n",
              "      <td>-6.346737e-16</td>\n",
              "      <td>2.386089e-16</td>\n",
              "      <td>-1.853196e-16</td>\n",
              "      <td>-2.040279e-16</td>\n",
              "      <td>-4.465790e-16</td>\n",
              "    </tr>\n",
              "    <tr>\n",
              "      <th>std</th>\n",
              "      <td>1.000078e+00</td>\n",
              "      <td>1.000078e+00</td>\n",
              "      <td>1.000078e+00</td>\n",
              "      <td>1.000078e+00</td>\n",
              "      <td>1.000078e+00</td>\n",
              "      <td>1.000078e+00</td>\n",
              "      <td>1.000078e+00</td>\n",
              "      <td>1.000078e+00</td>\n",
              "      <td>1.000078e+00</td>\n",
              "      <td>1.000078e+00</td>\n",
              "      <td>1.000078e+00</td>\n",
              "      <td>1.000078e+00</td>\n",
              "      <td>1.000078e+00</td>\n",
              "      <td>1.000078e+00</td>\n",
              "      <td>1.000078e+00</td>\n",
              "      <td>1.000078e+00</td>\n",
              "    </tr>\n",
              "    <tr>\n",
              "      <th>min</th>\n",
              "      <td>-4.049025e-01</td>\n",
              "      <td>-3.497560e-01</td>\n",
              "      <td>-3.125010e-01</td>\n",
              "      <td>-8.033159e-01</td>\n",
              "      <td>-2.603871e-01</td>\n",
              "      <td>-5.519409e-01</td>\n",
              "      <td>-6.164943e+00</td>\n",
              "      <td>-7.973580e-01</td>\n",
              "      <td>-6.832236e-01</td>\n",
              "      <td>-6.437464e-01</td>\n",
              "      <td>-8.107176e-01</td>\n",
              "      <td>-7.201735e-01</td>\n",
              "      <td>-6.381164e-01</td>\n",
              "      <td>-2.227858e+00</td>\n",
              "      <td>-1.029660e+00</td>\n",
              "      <td>-7.652776e-01</td>\n",
              "    </tr>\n",
              "    <tr>\n",
              "      <th>25%</th>\n",
              "      <td>-4.049025e-01</td>\n",
              "      <td>-3.497560e-01</td>\n",
              "      <td>-3.125010e-01</td>\n",
              "      <td>-8.033159e-01</td>\n",
              "      <td>-2.603871e-01</td>\n",
              "      <td>-5.519409e-01</td>\n",
              "      <td>-4.058073e-01</td>\n",
              "      <td>-5.830314e-01</td>\n",
              "      <td>-6.832236e-01</td>\n",
              "      <td>-6.437464e-01</td>\n",
              "      <td>-6.517589e-01</td>\n",
              "      <td>-6.703944e-01</td>\n",
              "      <td>-6.381164e-01</td>\n",
              "      <td>-3.096647e-01</td>\n",
              "      <td>-7.388117e-01</td>\n",
              "      <td>-7.652776e-01</td>\n",
              "    </tr>\n",
              "    <tr>\n",
              "      <th>50%</th>\n",
              "      <td>-4.049025e-01</td>\n",
              "      <td>-3.497560e-01</td>\n",
              "      <td>-3.125010e-01</td>\n",
              "      <td>-2.962709e-01</td>\n",
              "      <td>-2.603871e-01</td>\n",
              "      <td>-5.519409e-01</td>\n",
              "      <td>-8.585536e-02</td>\n",
              "      <td>-3.687047e-01</td>\n",
              "      <td>-2.214364e-01</td>\n",
              "      <td>-2.731290e-01</td>\n",
              "      <td>-3.338416e-01</td>\n",
              "      <td>-4.214986e-01</td>\n",
              "      <td>-4.457618e-01</td>\n",
              "      <td>1.085015e-01</td>\n",
              "      <td>-2.734545e-01</td>\n",
              "      <td>-3.091302e-01</td>\n",
              "    </tr>\n",
              "    <tr>\n",
              "      <th>75%</th>\n",
              "      <td>-4.049025e-01</td>\n",
              "      <td>-3.497560e-01</td>\n",
              "      <td>-3.125010e-01</td>\n",
              "      <td>4.837985e-01</td>\n",
              "      <td>-2.603871e-01</td>\n",
              "      <td>2.864817e-01</td>\n",
              "      <td>3.140846e-01</td>\n",
              "      <td>2.742754e-01</td>\n",
              "      <td>2.403509e-01</td>\n",
              "      <td>9.748835e-02</td>\n",
              "      <td>2.622533e-01</td>\n",
              "      <td>2.754095e-01</td>\n",
              "      <td>1.313020e-01</td>\n",
              "      <td>5.842135e-01</td>\n",
              "      <td>4.827511e-01</td>\n",
              "      <td>3.750908e-01</td>\n",
              "    </tr>\n",
              "    <tr>\n",
              "      <th>max</th>\n",
              "      <td>9.556319e+00</td>\n",
              "      <td>1.553681e+01</td>\n",
              "      <td>1.838471e+01</td>\n",
              "      <td>3.097031e+00</td>\n",
              "      <td>1.600368e+01</td>\n",
              "      <td>1.957020e+01</td>\n",
              "      <td>1.015261e+01</td>\n",
              "      <td>1.313388e+01</td>\n",
              "      <td>1.178503e+01</td>\n",
              "      <td>1.121601e+01</td>\n",
              "      <td>9.760032e+00</td>\n",
              "      <td>8.538748e+00</td>\n",
              "      <td>8.787260e+00</td>\n",
              "      <td>1.608529e+00</td>\n",
              "      <td>8.684673e+00</td>\n",
              "      <td>9.041891e+00</td>\n",
              "    </tr>\n",
              "  </tbody>\n",
              "</table>\n",
              "</div>"
            ],
            "text/plain": [
              "                 0             1   ...            14            15\n",
              "count  6.421000e+03  6.421000e+03  ...  6.421000e+03  6.421000e+03\n",
              "mean   1.134412e-15  1.928582e-16  ... -2.040279e-16 -4.465790e-16\n",
              "std    1.000078e+00  1.000078e+00  ...  1.000078e+00  1.000078e+00\n",
              "min   -4.049025e-01 -3.497560e-01  ... -1.029660e+00 -7.652776e-01\n",
              "25%   -4.049025e-01 -3.497560e-01  ... -7.388117e-01 -7.652776e-01\n",
              "50%   -4.049025e-01 -3.497560e-01  ... -2.734545e-01 -3.091302e-01\n",
              "75%   -4.049025e-01 -3.497560e-01  ...  4.827511e-01  3.750908e-01\n",
              "max    9.556319e+00  1.553681e+01  ...  8.684673e+00  9.041891e+00\n",
              "\n",
              "[8 rows x 16 columns]"
            ]
          },
          "metadata": {},
          "execution_count": 87
        }
      ]
    },
    {
      "cell_type": "code",
      "metadata": {
        "colab": {
          "base_uri": "https://localhost:8080/"
        },
        "id": "_Xar4aw9LgSo",
        "outputId": "9b9d6c3f-644a-4d95-f5c3-a554f86bd094"
      },
      "source": [
        "from sklearn.decomposition import PCA\n",
        "\n",
        "pca = PCA()\n",
        "pca.fit(data_scaled)\n",
        "cumsum = np.cumsum(pca.explained_variance_ratio_)\n",
        "d = np.argmax(cumsum>=0.90)+1\n",
        "\n",
        "print(d)"
      ],
      "execution_count": null,
      "outputs": [
        {
          "output_type": "stream",
          "name": "stdout",
          "text": [
            "11\n"
          ]
        }
      ]
    },
    {
      "cell_type": "code",
      "metadata": {
        "colab": {
          "base_uri": "https://localhost:8080/",
          "height": 423
        },
        "id": "qsdjq8whLgSo",
        "scrolled": false,
        "outputId": "863ae996-265e-49c1-9634-a908afe391bd"
      },
      "source": [
        "# Processing PCA\n",
        "pca = PCA(n_components=10)\n",
        "X_redufced = pca.fit_transform(data_scaled)\n",
        "result = pd.DataFrame(X_redufced) \n",
        "result"
      ],
      "execution_count": null,
      "outputs": [
        {
          "output_type": "execute_result",
          "data": {
            "text/html": [
              "<div>\n",
              "<style scoped>\n",
              "    .dataframe tbody tr th:only-of-type {\n",
              "        vertical-align: middle;\n",
              "    }\n",
              "\n",
              "    .dataframe tbody tr th {\n",
              "        vertical-align: top;\n",
              "    }\n",
              "\n",
              "    .dataframe thead th {\n",
              "        text-align: right;\n",
              "    }\n",
              "</style>\n",
              "<table border=\"1\" class=\"dataframe\">\n",
              "  <thead>\n",
              "    <tr style=\"text-align: right;\">\n",
              "      <th></th>\n",
              "      <th>0</th>\n",
              "      <th>1</th>\n",
              "      <th>2</th>\n",
              "      <th>3</th>\n",
              "      <th>4</th>\n",
              "      <th>5</th>\n",
              "      <th>6</th>\n",
              "      <th>7</th>\n",
              "      <th>8</th>\n",
              "      <th>9</th>\n",
              "    </tr>\n",
              "  </thead>\n",
              "  <tbody>\n",
              "    <tr>\n",
              "      <th>0</th>\n",
              "      <td>-0.114021</td>\n",
              "      <td>0.794820</td>\n",
              "      <td>0.048132</td>\n",
              "      <td>0.200802</td>\n",
              "      <td>-0.006153</td>\n",
              "      <td>-1.066376</td>\n",
              "      <td>0.003152</td>\n",
              "      <td>-0.097474</td>\n",
              "      <td>1.060440</td>\n",
              "      <td>0.537769</td>\n",
              "    </tr>\n",
              "    <tr>\n",
              "      <th>1</th>\n",
              "      <td>-0.551850</td>\n",
              "      <td>-0.853237</td>\n",
              "      <td>-0.716878</td>\n",
              "      <td>-0.571188</td>\n",
              "      <td>0.403582</td>\n",
              "      <td>-1.100049</td>\n",
              "      <td>-0.342823</td>\n",
              "      <td>0.366134</td>\n",
              "      <td>-0.486845</td>\n",
              "      <td>0.221188</td>\n",
              "    </tr>\n",
              "    <tr>\n",
              "      <th>2</th>\n",
              "      <td>0.315503</td>\n",
              "      <td>-1.940694</td>\n",
              "      <td>-1.050466</td>\n",
              "      <td>0.383511</td>\n",
              "      <td>-0.964051</td>\n",
              "      <td>0.113453</td>\n",
              "      <td>2.835954</td>\n",
              "      <td>-1.176430</td>\n",
              "      <td>1.406322</td>\n",
              "      <td>0.348393</td>\n",
              "    </tr>\n",
              "    <tr>\n",
              "      <th>3</th>\n",
              "      <td>-0.388489</td>\n",
              "      <td>-1.180292</td>\n",
              "      <td>0.252729</td>\n",
              "      <td>-0.673271</td>\n",
              "      <td>0.133535</td>\n",
              "      <td>-0.622214</td>\n",
              "      <td>-0.683045</td>\n",
              "      <td>0.360870</td>\n",
              "      <td>0.093796</td>\n",
              "      <td>-0.738499</td>\n",
              "    </tr>\n",
              "    <tr>\n",
              "      <th>4</th>\n",
              "      <td>1.912225</td>\n",
              "      <td>-0.549556</td>\n",
              "      <td>0.277757</td>\n",
              "      <td>-1.349356</td>\n",
              "      <td>0.326239</td>\n",
              "      <td>-0.775639</td>\n",
              "      <td>-0.355057</td>\n",
              "      <td>-1.582995</td>\n",
              "      <td>2.055626</td>\n",
              "      <td>-0.763453</td>\n",
              "    </tr>\n",
              "    <tr>\n",
              "      <th>...</th>\n",
              "      <td>...</td>\n",
              "      <td>...</td>\n",
              "      <td>...</td>\n",
              "      <td>...</td>\n",
              "      <td>...</td>\n",
              "      <td>...</td>\n",
              "      <td>...</td>\n",
              "      <td>...</td>\n",
              "      <td>...</td>\n",
              "      <td>...</td>\n",
              "    </tr>\n",
              "    <tr>\n",
              "      <th>6416</th>\n",
              "      <td>-0.827285</td>\n",
              "      <td>1.094987</td>\n",
              "      <td>0.273594</td>\n",
              "      <td>-0.178586</td>\n",
              "      <td>-0.211198</td>\n",
              "      <td>-1.027333</td>\n",
              "      <td>0.736182</td>\n",
              "      <td>0.214511</td>\n",
              "      <td>0.167914</td>\n",
              "      <td>0.213800</td>\n",
              "    </tr>\n",
              "    <tr>\n",
              "      <th>6417</th>\n",
              "      <td>0.516999</td>\n",
              "      <td>-2.980781</td>\n",
              "      <td>0.190652</td>\n",
              "      <td>-1.039191</td>\n",
              "      <td>0.502628</td>\n",
              "      <td>-0.332186</td>\n",
              "      <td>-1.255526</td>\n",
              "      <td>0.732786</td>\n",
              "      <td>-0.755802</td>\n",
              "      <td>-0.151114</td>\n",
              "    </tr>\n",
              "    <tr>\n",
              "      <th>6418</th>\n",
              "      <td>4.581098</td>\n",
              "      <td>0.462026</td>\n",
              "      <td>-0.456580</td>\n",
              "      <td>-0.825325</td>\n",
              "      <td>-0.560257</td>\n",
              "      <td>-0.823766</td>\n",
              "      <td>0.060652</td>\n",
              "      <td>0.448670</td>\n",
              "      <td>3.060358</td>\n",
              "      <td>-1.203156</td>\n",
              "    </tr>\n",
              "    <tr>\n",
              "      <th>6419</th>\n",
              "      <td>-2.056018</td>\n",
              "      <td>0.202595</td>\n",
              "      <td>-0.099135</td>\n",
              "      <td>0.263833</td>\n",
              "      <td>0.272449</td>\n",
              "      <td>-1.826330</td>\n",
              "      <td>0.307526</td>\n",
              "      <td>-0.434713</td>\n",
              "      <td>-0.190398</td>\n",
              "      <td>-0.103663</td>\n",
              "    </tr>\n",
              "    <tr>\n",
              "      <th>6420</th>\n",
              "      <td>-1.750758</td>\n",
              "      <td>0.668921</td>\n",
              "      <td>-0.646665</td>\n",
              "      <td>0.116098</td>\n",
              "      <td>-0.319683</td>\n",
              "      <td>0.356444</td>\n",
              "      <td>-0.176668</td>\n",
              "      <td>-0.393541</td>\n",
              "      <td>-0.346361</td>\n",
              "      <td>-0.327183</td>\n",
              "    </tr>\n",
              "  </tbody>\n",
              "</table>\n",
              "<p>6421 rows × 10 columns</p>\n",
              "</div>"
            ],
            "text/plain": [
              "             0         1         2  ...         7         8         9\n",
              "0    -0.114021  0.794820  0.048132  ... -0.097474  1.060440  0.537769\n",
              "1    -0.551850 -0.853237 -0.716878  ...  0.366134 -0.486845  0.221188\n",
              "2     0.315503 -1.940694 -1.050466  ... -1.176430  1.406322  0.348393\n",
              "3    -0.388489 -1.180292  0.252729  ...  0.360870  0.093796 -0.738499\n",
              "4     1.912225 -0.549556  0.277757  ... -1.582995  2.055626 -0.763453\n",
              "...        ...       ...       ...  ...       ...       ...       ...\n",
              "6416 -0.827285  1.094987  0.273594  ...  0.214511  0.167914  0.213800\n",
              "6417  0.516999 -2.980781  0.190652  ...  0.732786 -0.755802 -0.151114\n",
              "6418  4.581098  0.462026 -0.456580  ...  0.448670  3.060358 -1.203156\n",
              "6419 -2.056018  0.202595 -0.099135  ... -0.434713 -0.190398 -0.103663\n",
              "6420 -1.750758  0.668921 -0.646665  ... -0.393541 -0.346361 -0.327183\n",
              "\n",
              "[6421 rows x 10 columns]"
            ]
          },
          "metadata": {},
          "execution_count": 89
        }
      ]
    },
    {
      "cell_type": "code",
      "metadata": {
        "colab": {
          "base_uri": "https://localhost:8080/",
          "height": 423
        },
        "id": "OYZXPmGFLgSp",
        "outputId": "ec374413-d007-4114-8712-0d05e8391394"
      },
      "source": [
        "# Applying the PCA result\n",
        "df4_fp = df3_fp.iloc[:,0:12]\n",
        "df4_fp = pd.concat([df4_fp, result], axis=1)\n",
        "df4_gk = df3_gk\n",
        "df4_fp"
      ],
      "execution_count": null,
      "outputs": [
        {
          "output_type": "execute_result",
          "data": {
            "text/html": [
              "<div>\n",
              "<style scoped>\n",
              "    .dataframe tbody tr th:only-of-type {\n",
              "        vertical-align: middle;\n",
              "    }\n",
              "\n",
              "    .dataframe tbody tr th {\n",
              "        vertical-align: top;\n",
              "    }\n",
              "\n",
              "    .dataframe thead th {\n",
              "        text-align: right;\n",
              "    }\n",
              "</style>\n",
              "<table border=\"1\" class=\"dataframe\">\n",
              "  <thead>\n",
              "    <tr style=\"text-align: right;\">\n",
              "      <th></th>\n",
              "      <th>nationality</th>\n",
              "      <th>position</th>\n",
              "      <th>squad</th>\n",
              "      <th>foot</th>\n",
              "      <th>league</th>\n",
              "      <th>CL</th>\n",
              "      <th>WinCL</th>\n",
              "      <th>CLBestScorer</th>\n",
              "      <th>Season</th>\n",
              "      <th>age</th>\n",
              "      <th>value</th>\n",
              "      <th>height</th>\n",
              "      <th>0</th>\n",
              "      <th>1</th>\n",
              "      <th>2</th>\n",
              "      <th>3</th>\n",
              "      <th>4</th>\n",
              "      <th>5</th>\n",
              "      <th>6</th>\n",
              "      <th>7</th>\n",
              "      <th>8</th>\n",
              "      <th>9</th>\n",
              "    </tr>\n",
              "  </thead>\n",
              "  <tbody>\n",
              "    <tr>\n",
              "      <th>0</th>\n",
              "      <td>41</td>\n",
              "      <td>1</td>\n",
              "      <td>0</td>\n",
              "      <td>2</td>\n",
              "      <td>1</td>\n",
              "      <td>0.0</td>\n",
              "      <td>0.0</td>\n",
              "      <td>0.0</td>\n",
              "      <td>0</td>\n",
              "      <td>23.0</td>\n",
              "      <td>1800000.0</td>\n",
              "      <td>186.0</td>\n",
              "      <td>-0.114021</td>\n",
              "      <td>0.794820</td>\n",
              "      <td>0.048132</td>\n",
              "      <td>0.200802</td>\n",
              "      <td>-0.006153</td>\n",
              "      <td>-1.066376</td>\n",
              "      <td>0.003152</td>\n",
              "      <td>-0.097474</td>\n",
              "      <td>1.060440</td>\n",
              "      <td>0.537769</td>\n",
              "    </tr>\n",
              "    <tr>\n",
              "      <th>1</th>\n",
              "      <td>43</td>\n",
              "      <td>0</td>\n",
              "      <td>96</td>\n",
              "      <td>2</td>\n",
              "      <td>1</td>\n",
              "      <td>1.0</td>\n",
              "      <td>1.0</td>\n",
              "      <td>0.0</td>\n",
              "      <td>0</td>\n",
              "      <td>24.0</td>\n",
              "      <td>70000000.0</td>\n",
              "      <td>191.0</td>\n",
              "      <td>-0.551850</td>\n",
              "      <td>-0.853237</td>\n",
              "      <td>-0.716878</td>\n",
              "      <td>-0.571188</td>\n",
              "      <td>0.403582</td>\n",
              "      <td>-1.100049</td>\n",
              "      <td>-0.342823</td>\n",
              "      <td>0.366134</td>\n",
              "      <td>-0.486845</td>\n",
              "      <td>0.221188</td>\n",
              "    </tr>\n",
              "    <tr>\n",
              "      <th>2</th>\n",
              "      <td>41</td>\n",
              "      <td>0</td>\n",
              "      <td>0</td>\n",
              "      <td>1</td>\n",
              "      <td>1</td>\n",
              "      <td>0.0</td>\n",
              "      <td>0.0</td>\n",
              "      <td>0.0</td>\n",
              "      <td>0</td>\n",
              "      <td>21.0</td>\n",
              "      <td>2000000.0</td>\n",
              "      <td>179.0</td>\n",
              "      <td>0.315503</td>\n",
              "      <td>-1.940694</td>\n",
              "      <td>-1.050466</td>\n",
              "      <td>0.383511</td>\n",
              "      <td>-0.964051</td>\n",
              "      <td>0.113453</td>\n",
              "      <td>2.835954</td>\n",
              "      <td>-1.176430</td>\n",
              "      <td>1.406322</td>\n",
              "      <td>0.348393</td>\n",
              "    </tr>\n",
              "    <tr>\n",
              "      <th>3</th>\n",
              "      <td>43</td>\n",
              "      <td>0</td>\n",
              "      <td>11</td>\n",
              "      <td>1</td>\n",
              "      <td>1</td>\n",
              "      <td>1.0</td>\n",
              "      <td>0.0</td>\n",
              "      <td>0.0</td>\n",
              "      <td>0</td>\n",
              "      <td>23.0</td>\n",
              "      <td>60000000.0</td>\n",
              "      <td>182.0</td>\n",
              "      <td>-0.388489</td>\n",
              "      <td>-1.180292</td>\n",
              "      <td>0.252729</td>\n",
              "      <td>-0.673271</td>\n",
              "      <td>0.133535</td>\n",
              "      <td>-0.622214</td>\n",
              "      <td>-0.683045</td>\n",
              "      <td>0.360870</td>\n",
              "      <td>0.093796</td>\n",
              "      <td>-0.738499</td>\n",
              "    </tr>\n",
              "    <tr>\n",
              "      <th>4</th>\n",
              "      <td>41</td>\n",
              "      <td>3</td>\n",
              "      <td>0</td>\n",
              "      <td>1</td>\n",
              "      <td>1</td>\n",
              "      <td>0.0</td>\n",
              "      <td>0.0</td>\n",
              "      <td>0.0</td>\n",
              "      <td>0</td>\n",
              "      <td>31.0</td>\n",
              "      <td>1800000.0</td>\n",
              "      <td>183.0</td>\n",
              "      <td>1.912225</td>\n",
              "      <td>-0.549556</td>\n",
              "      <td>0.277757</td>\n",
              "      <td>-1.349356</td>\n",
              "      <td>0.326239</td>\n",
              "      <td>-0.775639</td>\n",
              "      <td>-0.355057</td>\n",
              "      <td>-1.582995</td>\n",
              "      <td>2.055626</td>\n",
              "      <td>-0.763453</td>\n",
              "    </tr>\n",
              "    <tr>\n",
              "      <th>...</th>\n",
              "      <td>...</td>\n",
              "      <td>...</td>\n",
              "      <td>...</td>\n",
              "      <td>...</td>\n",
              "      <td>...</td>\n",
              "      <td>...</td>\n",
              "      <td>...</td>\n",
              "      <td>...</td>\n",
              "      <td>...</td>\n",
              "      <td>...</td>\n",
              "      <td>...</td>\n",
              "      <td>...</td>\n",
              "      <td>...</td>\n",
              "      <td>...</td>\n",
              "      <td>...</td>\n",
              "      <td>...</td>\n",
              "      <td>...</td>\n",
              "      <td>...</td>\n",
              "      <td>...</td>\n",
              "      <td>...</td>\n",
              "      <td>...</td>\n",
              "      <td>...</td>\n",
              "    </tr>\n",
              "    <tr>\n",
              "      <th>6416</th>\n",
              "      <td>89</td>\n",
              "      <td>1</td>\n",
              "      <td>128</td>\n",
              "      <td>2</td>\n",
              "      <td>3</td>\n",
              "      <td>0.0</td>\n",
              "      <td>0.0</td>\n",
              "      <td>0.0</td>\n",
              "      <td>2</td>\n",
              "      <td>23.0</td>\n",
              "      <td>12000000.0</td>\n",
              "      <td>165.0</td>\n",
              "      <td>-0.827285</td>\n",
              "      <td>1.094987</td>\n",
              "      <td>0.273594</td>\n",
              "      <td>-0.178586</td>\n",
              "      <td>-0.211198</td>\n",
              "      <td>-1.027333</td>\n",
              "      <td>0.736182</td>\n",
              "      <td>0.214511</td>\n",
              "      <td>0.167914</td>\n",
              "      <td>0.213800</td>\n",
              "    </tr>\n",
              "    <tr>\n",
              "      <th>6417</th>\n",
              "      <td>69</td>\n",
              "      <td>0</td>\n",
              "      <td>128</td>\n",
              "      <td>1</td>\n",
              "      <td>3</td>\n",
              "      <td>0.0</td>\n",
              "      <td>0.0</td>\n",
              "      <td>0.0</td>\n",
              "      <td>2</td>\n",
              "      <td>29.0</td>\n",
              "      <td>4000000.0</td>\n",
              "      <td>188.0</td>\n",
              "      <td>0.516999</td>\n",
              "      <td>-2.980781</td>\n",
              "      <td>0.190652</td>\n",
              "      <td>-1.039191</td>\n",
              "      <td>0.502628</td>\n",
              "      <td>-0.332186</td>\n",
              "      <td>-1.255526</td>\n",
              "      <td>0.732786</td>\n",
              "      <td>-0.755802</td>\n",
              "      <td>-0.151114</td>\n",
              "    </tr>\n",
              "    <tr>\n",
              "      <th>6418</th>\n",
              "      <td>41</td>\n",
              "      <td>1</td>\n",
              "      <td>128</td>\n",
              "      <td>2</td>\n",
              "      <td>3</td>\n",
              "      <td>0.0</td>\n",
              "      <td>0.0</td>\n",
              "      <td>0.0</td>\n",
              "      <td>2</td>\n",
              "      <td>23.0</td>\n",
              "      <td>25000000.0</td>\n",
              "      <td>178.0</td>\n",
              "      <td>4.581098</td>\n",
              "      <td>0.462026</td>\n",
              "      <td>-0.456580</td>\n",
              "      <td>-0.825325</td>\n",
              "      <td>-0.560257</td>\n",
              "      <td>-0.823766</td>\n",
              "      <td>0.060652</td>\n",
              "      <td>0.448670</td>\n",
              "      <td>3.060358</td>\n",
              "      <td>-1.203156</td>\n",
              "    </tr>\n",
              "    <tr>\n",
              "      <th>6419</th>\n",
              "      <td>41</td>\n",
              "      <td>0</td>\n",
              "      <td>128</td>\n",
              "      <td>2</td>\n",
              "      <td>3</td>\n",
              "      <td>0.0</td>\n",
              "      <td>0.0</td>\n",
              "      <td>0.0</td>\n",
              "      <td>2</td>\n",
              "      <td>22.0</td>\n",
              "      <td>6000000.0</td>\n",
              "      <td>184.0</td>\n",
              "      <td>-2.056018</td>\n",
              "      <td>0.202595</td>\n",
              "      <td>-0.099135</td>\n",
              "      <td>0.263833</td>\n",
              "      <td>0.272449</td>\n",
              "      <td>-1.826330</td>\n",
              "      <td>0.307526</td>\n",
              "      <td>-0.434713</td>\n",
              "      <td>-0.190398</td>\n",
              "      <td>-0.103663</td>\n",
              "    </tr>\n",
              "    <tr>\n",
              "      <th>6420</th>\n",
              "      <td>89</td>\n",
              "      <td>0</td>\n",
              "      <td>128</td>\n",
              "      <td>1</td>\n",
              "      <td>3</td>\n",
              "      <td>0.0</td>\n",
              "      <td>0.0</td>\n",
              "      <td>0.0</td>\n",
              "      <td>2</td>\n",
              "      <td>20.0</td>\n",
              "      <td>9000000.0</td>\n",
              "      <td>174.0</td>\n",
              "      <td>-1.750758</td>\n",
              "      <td>0.668921</td>\n",
              "      <td>-0.646665</td>\n",
              "      <td>0.116098</td>\n",
              "      <td>-0.319683</td>\n",
              "      <td>0.356444</td>\n",
              "      <td>-0.176668</td>\n",
              "      <td>-0.393541</td>\n",
              "      <td>-0.346361</td>\n",
              "      <td>-0.327183</td>\n",
              "    </tr>\n",
              "  </tbody>\n",
              "</table>\n",
              "<p>6421 rows × 22 columns</p>\n",
              "</div>"
            ],
            "text/plain": [
              "      nationality  position  squad  ...         7         8         9\n",
              "0              41         1      0  ... -0.097474  1.060440  0.537769\n",
              "1              43         0     96  ...  0.366134 -0.486845  0.221188\n",
              "2              41         0      0  ... -1.176430  1.406322  0.348393\n",
              "3              43         0     11  ...  0.360870  0.093796 -0.738499\n",
              "4              41         3      0  ... -1.582995  2.055626 -0.763453\n",
              "...           ...       ...    ...  ...       ...       ...       ...\n",
              "6416           89         1    128  ...  0.214511  0.167914  0.213800\n",
              "6417           69         0    128  ...  0.732786 -0.755802 -0.151114\n",
              "6418           41         1    128  ...  0.448670  3.060358 -1.203156\n",
              "6419           41         0    128  ... -0.434713 -0.190398 -0.103663\n",
              "6420           89         0    128  ... -0.393541 -0.346361 -0.327183\n",
              "\n",
              "[6421 rows x 22 columns]"
            ]
          },
          "metadata": {},
          "execution_count": 90
        }
      ]
    },
    {
      "cell_type": "code",
      "metadata": {
        "colab": {
          "base_uri": "https://localhost:8080/",
          "height": 532
        },
        "id": "bipBPp5DLgSp",
        "scrolled": false,
        "outputId": "6578cfe4-63c5-4142-8225-f113a539488d"
      },
      "source": [
        "# Checking the distribution of 'value'\n",
        "fig = plt.figure(figsize=(8,8))\n",
        "plt.hist(df3_fp['value'])\n",
        "plt.figure()"
      ],
      "execution_count": null,
      "outputs": [
        {
          "output_type": "execute_result",
          "data": {
            "text/plain": [
              "<Figure size 432x288 with 0 Axes>"
            ]
          },
          "metadata": {},
          "execution_count": 91
        },
        {
          "output_type": "display_data",
          "data": {
            "image/png": "[encoded data removed]",
            "text/plain": [
              "<Figure size 576x576 with 1 Axes>"
            ]
          },
          "metadata": {
            "needs_background": "light"
          }
        },
        {
          "output_type": "display_data",
          "data": {
            "text/plain": [
              "<Figure size 432x288 with 0 Axes>"
            ]
          },
          "metadata": {}
        }
      ]
    },
    {
      "cell_type": "code",
      "metadata": {
        "colab": {
          "base_uri": "https://localhost:8080/",
          "height": 358
        },
        "id": "qvzo8JOVLgSq",
        "outputId": "154d4be8-4788-4ca8-e310-256c3d6145b0"
      },
      "source": [
        "# Changing the column 'value' to 'log_value'\n",
        "df4_fp['log_value'] = np.log1p(df4_fp['value'])\n",
        "real_value = df4_fp['value']\n",
        "df4_fp.drop('value', axis=1, inplace=True)\n",
        "\n",
        "df4_gk['log_value'] = np.log1p(df4_gk['value'])\n",
        "real_value = df4_gk['value']\n",
        "df4_gk.drop('value', axis=1, inplace=True)\n",
        "\n",
        "df4_fp.head(1)"
      ],
      "execution_count": null,
      "outputs": [
        {
          "output_type": "stream",
          "name": "stderr",
          "text": [
            "/usr/local/lib/python3.7/dist-packages/ipykernel_launcher.py:6: SettingWithCopyWarning:\n",
            "\n",
            "\n",
            "A value is trying to be set on a copy of a slice from a DataFrame.\n",
            "Try using .loc[row_indexer,col_indexer] = value instead\n",
            "\n",
            "See the caveats in the documentation: https://pandas.pydata.org/pandas-docs/stable/user_guide/indexing.html#returning-a-view-versus-a-copy\n",
            "\n",
            "/usr/local/lib/python3.7/dist-packages/pandas/core/frame.py:4174: SettingWithCopyWarning:\n",
            "\n",
            "\n",
            "A value is trying to be set on a copy of a slice from a DataFrame\n",
            "\n",
            "See the caveats in the documentation: https://pandas.pydata.org/pandas-docs/stable/user_guide/indexing.html#returning-a-view-versus-a-copy\n",
            "\n"
          ]
        },
        {
          "output_type": "execute_result",
          "data": {
            "text/html": [
              "<div>\n",
              "<style scoped>\n",
              "    .dataframe tbody tr th:only-of-type {\n",
              "        vertical-align: middle;\n",
              "    }\n",
              "\n",
              "    .dataframe tbody tr th {\n",
              "        vertical-align: top;\n",
              "    }\n",
              "\n",
              "    .dataframe thead th {\n",
              "        text-align: right;\n",
              "    }\n",
              "</style>\n",
              "<table border=\"1\" class=\"dataframe\">\n",
              "  <thead>\n",
              "    <tr style=\"text-align: right;\">\n",
              "      <th></th>\n",
              "      <th>nationality</th>\n",
              "      <th>position</th>\n",
              "      <th>squad</th>\n",
              "      <th>foot</th>\n",
              "      <th>league</th>\n",
              "      <th>CL</th>\n",
              "      <th>WinCL</th>\n",
              "      <th>CLBestScorer</th>\n",
              "      <th>Season</th>\n",
              "      <th>age</th>\n",
              "      <th>height</th>\n",
              "      <th>0</th>\n",
              "      <th>1</th>\n",
              "      <th>2</th>\n",
              "      <th>3</th>\n",
              "      <th>4</th>\n",
              "      <th>5</th>\n",
              "      <th>6</th>\n",
              "      <th>7</th>\n",
              "      <th>8</th>\n",
              "      <th>9</th>\n",
              "      <th>log_value</th>\n",
              "    </tr>\n",
              "  </thead>\n",
              "  <tbody>\n",
              "    <tr>\n",
              "      <th>0</th>\n",
              "      <td>41</td>\n",
              "      <td>1</td>\n",
              "      <td>0</td>\n",
              "      <td>2</td>\n",
              "      <td>1</td>\n",
              "      <td>0.0</td>\n",
              "      <td>0.0</td>\n",
              "      <td>0.0</td>\n",
              "      <td>0</td>\n",
              "      <td>23.0</td>\n",
              "      <td>186.0</td>\n",
              "      <td>-0.114021</td>\n",
              "      <td>0.79482</td>\n",
              "      <td>0.048132</td>\n",
              "      <td>0.200802</td>\n",
              "      <td>-0.006153</td>\n",
              "      <td>-1.066376</td>\n",
              "      <td>0.003152</td>\n",
              "      <td>-0.097474</td>\n",
              "      <td>1.06044</td>\n",
              "      <td>0.537769</td>\n",
              "      <td>14.403298</td>\n",
              "    </tr>\n",
              "  </tbody>\n",
              "</table>\n",
              "</div>"
            ],
            "text/plain": [
              "   nationality  position  squad  foot  ...         7        8         9  log_value\n",
              "0           41         1      0     2  ... -0.097474  1.06044  0.537769  14.403298\n",
              "\n",
              "[1 rows x 22 columns]"
            ]
          },
          "metadata": {},
          "execution_count": 92
        }
      ]
    },
    {
      "cell_type": "code",
      "metadata": {
        "colab": {
          "base_uri": "https://localhost:8080/",
          "height": 350
        },
        "id": "k1bAizFLLgSq",
        "outputId": "8e16f330-afa8-49f7-fb85-3096fda59a3d"
      },
      "source": [
        "# Visualization for the distributions\n",
        "f, (ax1, ax2) = plt.subplots(1,2,figsize=(12,5))\n",
        "ax1.hist(real_value, bins=30)\n",
        "ax1.set_title('Price Distribution')\n",
        "ax1.set_xlabel('Price')\n",
        "\n",
        "ax2.hist(df4_fp['log_value'], bins=30)\n",
        "ax2.set_title('Log Price Distribution')\n",
        "ax2.set_xlabel('Log Price')\n",
        "plt.show()"
      ],
      "execution_count": null,
      "outputs": [
        {
          "output_type": "display_data",
          "data": {
            "image/png": "[encoded data removed]",
            "text/plain": [
              "<Figure size 864x360 with 2 Axes>"
            ]
          },
          "metadata": {
            "needs_background": "light"
          }
        }
      ]
    },
    {
      "cell_type": "code",
      "metadata": {
        "colab": {
          "base_uri": "https://localhost:8080/",
          "height": 350
        },
        "id": "N2a62EW-LgSr",
        "outputId": "f1657329-8983-4b43-8e5b-b7ffaa24697f"
      },
      "source": [
        "# Same process for goalkeepers data\n",
        "f, (ax1, ax2) = plt.subplots(1,2,figsize=(12,5))\n",
        "ax1.hist(real_value, bins=30)\n",
        "ax1.set_title('Price Distribution')\n",
        "ax1.set_xlabel('Price')\n",
        "\n",
        "ax2.hist(df4_gk['log_value'], bins=30)\n",
        "ax2.set_title('Log Price Distribution')\n",
        "ax2.set_xlabel('Log Price')\n",
        "plt.show()"
      ],
      "execution_count": null,
      "outputs": [
        {
          "output_type": "display_data",
          "data": {
            "image/png": "[encoded data removed]",
            "text/plain": [
              "<Figure size 864x360 with 2 Axes>"
            ]
          },
          "metadata": {
            "needs_background": "light"
          }
        }
      ]
    },
    {
      "cell_type": "markdown",
      "metadata": {
        "id": "mMQ18qNBLgSr"
      },
      "source": [
        "## Data modeling"
      ]
    },
    {
      "cell_type": "code",
      "metadata": {
        "colab": {
          "base_uri": "https://localhost:8080/"
        },
        "id": "le-G9dCGLgSs",
        "outputId": "7504fbdf-fb59-4d7c-fd4f-8bf4b3c2a18e"
      },
      "source": [
        "!pip3 install optuna\n",
        "\n",
        "# Split the data into explanatory variables and response variable\n",
        "df_X = df4_fp.drop('log_value', axis=1)\n",
        "df_y = pd.DataFrame(df4_fp['log_value'])\n",
        "\n",
        "df_gk_X = df3_gk.drop('log_value', axis=1)\n",
        "df_gk_y = pd.DataFrame(df3_gk['log_value'])"
      ],
      "execution_count": null,
      "outputs": [
        {
          "output_type": "stream",
          "name": "stdout",
          "text": [
            "Requirement already satisfied: optuna in /usr/local/lib/python3.7/dist-packages (2.10.0)\n",
            "Requirement already satisfied: scipy!=1.4.0 in /usr/local/lib/python3.7/dist-packages (from optuna) (1.4.1)\n",
            "Requirement already satisfied: cliff in /usr/local/lib/python3.7/dist-packages (from optuna) (3.10.0)\n",
            "Requirement already satisfied: alembic in /usr/local/lib/python3.7/dist-packages (from optuna) (1.7.5)\n",
            "Requirement already satisfied: cmaes>=0.8.2 in /usr/local/lib/python3.7/dist-packages (from optuna) (0.8.2)\n",
            "Requirement already satisfied: colorlog in /usr/local/lib/python3.7/dist-packages (from optuna) (6.6.0)\n",
            "Requirement already satisfied: numpy in /usr/local/lib/python3.7/dist-packages (from optuna) (1.19.5)\n",
            "Requirement already satisfied: sqlalchemy>=1.1.0 in /usr/local/lib/python3.7/dist-packages (from optuna) (1.4.27)\n",
            "Requirement already satisfied: tqdm in /usr/local/lib/python3.7/dist-packages (from optuna) (4.62.3)\n",
            "Requirement already satisfied: PyYAML in /usr/local/lib/python3.7/dist-packages (from optuna) (3.13)\n",
            "Requirement already satisfied: packaging>=20.0 in /usr/local/lib/python3.7/dist-packages (from optuna) (21.3)\n",
            "Requirement already satisfied: pyparsing!=3.0.5,>=2.0.2 in /usr/local/lib/python3.7/dist-packages (from packaging>=20.0->optuna) (3.0.6)\n",
            "Requirement already satisfied: importlib-metadata in /usr/local/lib/python3.7/dist-packages (from sqlalchemy>=1.1.0->optuna) (4.8.2)\n",
            "Requirement already satisfied: greenlet!=0.4.17 in /usr/local/lib/python3.7/dist-packages (from sqlalchemy>=1.1.0->optuna) (1.1.2)\n",
            "Requirement already satisfied: importlib-resources in /usr/local/lib/python3.7/dist-packages (from alembic->optuna) (5.4.0)\n",
            "Requirement already satisfied: Mako in /usr/local/lib/python3.7/dist-packages (from alembic->optuna) (1.1.6)\n",
            "Requirement already satisfied: autopage>=0.4.0 in /usr/local/lib/python3.7/dist-packages (from cliff->optuna) (0.4.0)\n",
            "Requirement already satisfied: pbr!=2.1.0,>=2.0.0 in /usr/local/lib/python3.7/dist-packages (from cliff->optuna) (5.8.0)\n",
            "Requirement already satisfied: stevedore>=2.0.1 in /usr/local/lib/python3.7/dist-packages (from cliff->optuna) (3.5.0)\n",
            "Requirement already satisfied: PrettyTable>=0.7.2 in /usr/local/lib/python3.7/dist-packages (from cliff->optuna) (2.4.0)\n",
            "Requirement already satisfied: cmd2>=1.0.0 in /usr/local/lib/python3.7/dist-packages (from cliff->optuna) (2.3.3)\n",
            "Requirement already satisfied: typing-extensions in /usr/local/lib/python3.7/dist-packages (from cmd2>=1.0.0->cliff->optuna) (3.10.0.2)\n",
            "Requirement already satisfied: attrs>=16.3.0 in /usr/local/lib/python3.7/dist-packages (from cmd2>=1.0.0->cliff->optuna) (21.2.0)\n",
            "Requirement already satisfied: pyperclip>=1.6 in /usr/local/lib/python3.7/dist-packages (from cmd2>=1.0.0->cliff->optuna) (1.8.2)\n",
            "Requirement already satisfied: wcwidth>=0.1.7 in /usr/local/lib/python3.7/dist-packages (from cmd2>=1.0.0->cliff->optuna) (0.2.5)\n",
            "Requirement already satisfied: zipp>=0.5 in /usr/local/lib/python3.7/dist-packages (from importlib-metadata->sqlalchemy>=1.1.0->optuna) (3.6.0)\n",
            "Requirement already satisfied: MarkupSafe>=0.9.2 in /usr/local/lib/python3.7/dist-packages (from Mako->alembic->optuna) (2.0.1)\n"
          ]
        }
      ]
    },
    {
      "cell_type": "code",
      "metadata": {
        "id": "nK85wyd2LgSs"
      },
      "source": [
        "from sklearn.model_selection import train_test_split\n",
        "X_train, X_test, y_train, y_test = train_test_split(df_X, df_y, test_size=0.2, random_state=2012)\n",
        "X_train_gk, X_test_gk, y_train_gk, y_test_gk = train_test_split(df_gk_X, df_gk_y, test_size=0.2, random_state=2012)"
      ],
      "execution_count": null,
      "outputs": []
    },
    {
      "cell_type": "code",
      "metadata": {
        "colab": {
          "base_uri": "https://localhost:8080/"
        },
        "id": "LtVw-bmsLgSs",
        "outputId": "b29c9c01-d65a-4e80-8224-00e0e8e1e2d8"
      },
      "source": [
        "# Field players\n",
        "print(X_train.shape)\n",
        "print(X_test.shape)\n",
        "print(y_train.shape)\n",
        "print(y_test.shape)\n",
        "# Goalkeepers\n",
        "print(X_train_gk.shape)\n",
        "print(X_test_gk.shape)\n",
        "print(y_train_gk.shape)\n",
        "print(y_test_gk.shape)"
      ],
      "execution_count": null,
      "outputs": [
        {
          "output_type": "stream",
          "name": "stdout",
          "text": [
            "(5136, 21)\n",
            "(1285, 21)\n",
            "(5136, 1)\n",
            "(1285, 1)\n",
            "(424, 15)\n",
            "(107, 15)\n",
            "(424, 1)\n",
            "(107, 1)\n"
          ]
        }
      ]
    },
    {
      "cell_type": "code",
      "metadata": {
        "colab": {
          "base_uri": "https://localhost:8080/"
        },
        "id": "zMNciq98LgSs",
        "scrolled": true,
        "outputId": "523f40c6-460d-42ca-d125-e6eb3a6d3180"
      },
      "source": [
        "# Modeling\n",
        "def my_regressor(df_X, df_y):\n",
        "  from sklearn.linear_model import LinearRegression\n",
        "  from sklearn.linear_model import Ridge, Lasso, ElasticNet\n",
        "  from sklearn.linear_model import ARDRegression, BayesianRidge\n",
        "  from sklearn.ensemble import RandomForestRegressor\n",
        "  from xgboost import XGBRegressor\n",
        "  from sklearn.model_selection import cross_val_score\n",
        "  \n",
        "  import ast\n",
        "  \n",
        "  linear = LinearRegression()\n",
        "  ridge, lasso, elasticnet = Ridge(), Lasso(), ElasticNet()\n",
        "  ardr_linear, baysian_ridge = ARDRegression(), BayesianRidge()\n",
        "  random_forest = RandomForestRegressor()\n",
        "  xgboost_linear = XGBRegressor()\n",
        "\n",
        "  my_model_list = ['linear','ridge','lasso','elasticnet','ardr_linear','baysian_ridge','random_forest','xgboost_linear']\n",
        "\n",
        "  score_dic = dict()\n",
        "\n",
        "  for model_nm in my_model_list:\n",
        "    scores = cross_val_score(eval(model_nm), df_X, df_y, scoring = \"neg_mean_squared_error\", cv=5)\n",
        "    rmse_score = np.sqrt(-scores)\n",
        "    rmse_sm = rmse_score.mean()\n",
        "    score_dic[model_nm] = rmse_sm\n",
        "\n",
        "  score_dic = sorted(score_dic.items(), key=lambda t : t[1])\n",
        "\n",
        "  return score_dic\n",
        "\n",
        "linear_model_train_score = my_regressor(X_train, y_train)\n",
        "linear_model_train_score_gk = my_regressor(X_train_gk, y_train_gk)\n",
        "print(linear_model_train_score)\n",
        "print(linear_model_train_score_gk)"
      ],
      "execution_count": null,
      "outputs": [
        {
          "output_type": "stream",
          "name": "stderr",
          "text": [
            "/usr/local/lib/python3.7/dist-packages/sklearn/utils/validation.py:1679: FutureWarning:\n",
            "\n",
            "Feature names only support names that are all strings. Got feature names with dtypes: ['int', 'str']. An error will be raised in 1.2.\n",
            "\n",
            "/usr/local/lib/python3.7/dist-packages/sklearn/utils/validation.py:1679: FutureWarning:\n",
            "\n",
            "Feature names only support names that are all strings. Got feature names with dtypes: ['int', 'str']. An error will be raised in 1.2.\n",
            "\n",
            "/usr/local/lib/python3.7/dist-packages/sklearn/utils/validation.py:1679: FutureWarning:\n",
            "\n",
            "Feature names only support names that are all strings. Got feature names with dtypes: ['int', 'str']. An error will be raised in 1.2.\n",
            "\n",
            "/usr/local/lib/python3.7/dist-packages/sklearn/utils/validation.py:1679: FutureWarning:\n",
            "\n",
            "Feature names only support names that are all strings. Got feature names with dtypes: ['int', 'str']. An error will be raised in 1.2.\n",
            "\n",
            "/usr/local/lib/python3.7/dist-packages/sklearn/utils/validation.py:1679: FutureWarning:\n",
            "\n",
            "Feature names only support names that are all strings. Got feature names with dtypes: ['int', 'str']. An error will be raised in 1.2.\n",
            "\n",
            "/usr/local/lib/python3.7/dist-packages/sklearn/utils/validation.py:1679: FutureWarning:\n",
            "\n",
            "Feature names only support names that are all strings. Got feature names with dtypes: ['int', 'str']. An error will be raised in 1.2.\n",
            "\n",
            "/usr/local/lib/python3.7/dist-packages/sklearn/utils/validation.py:1679: FutureWarning:\n",
            "\n",
            "Feature names only support names that are all strings. Got feature names with dtypes: ['int', 'str']. An error will be raised in 1.2.\n",
            "\n",
            "/usr/local/lib/python3.7/dist-packages/sklearn/utils/validation.py:1679: FutureWarning:\n",
            "\n",
            "Feature names only support names that are all strings. Got feature names with dtypes: ['int', 'str']. An error will be raised in 1.2.\n",
            "\n",
            "/usr/local/lib/python3.7/dist-packages/sklearn/utils/validation.py:1679: FutureWarning:\n",
            "\n",
            "Feature names only support names that are all strings. Got feature names with dtypes: ['int', 'str']. An error will be raised in 1.2.\n",
            "\n",
            "/usr/local/lib/python3.7/dist-packages/sklearn/utils/validation.py:1679: FutureWarning:\n",
            "\n",
            "Feature names only support names that are all strings. Got feature names with dtypes: ['int', 'str']. An error will be raised in 1.2.\n",
            "\n",
            "/usr/local/lib/python3.7/dist-packages/sklearn/utils/validation.py:1679: FutureWarning:\n",
            "\n",
            "Feature names only support names that are all strings. Got feature names with dtypes: ['int', 'str']. An error will be raised in 1.2.\n",
            "\n",
            "/usr/local/lib/python3.7/dist-packages/sklearn/utils/validation.py:1679: FutureWarning:\n",
            "\n",
            "Feature names only support names that are all strings. Got feature names with dtypes: ['int', 'str']. An error will be raised in 1.2.\n",
            "\n",
            "/usr/local/lib/python3.7/dist-packages/sklearn/utils/validation.py:1679: FutureWarning:\n",
            "\n",
            "Feature names only support names that are all strings. Got feature names with dtypes: ['int', 'str']. An error will be raised in 1.2.\n",
            "\n",
            "/usr/local/lib/python3.7/dist-packages/sklearn/utils/validation.py:1679: FutureWarning:\n",
            "\n",
            "Feature names only support names that are all strings. Got feature names with dtypes: ['int', 'str']. An error will be raised in 1.2.\n",
            "\n",
            "/usr/local/lib/python3.7/dist-packages/sklearn/utils/validation.py:1679: FutureWarning:\n",
            "\n",
            "Feature names only support names that are all strings. Got feature names with dtypes: ['int', 'str']. An error will be raised in 1.2.\n",
            "\n",
            "/usr/local/lib/python3.7/dist-packages/sklearn/utils/validation.py:1679: FutureWarning:\n",
            "\n",
            "Feature names only support names that are all strings. Got feature names with dtypes: ['int', 'str']. An error will be raised in 1.2.\n",
            "\n",
            "/usr/local/lib/python3.7/dist-packages/sklearn/utils/validation.py:1679: FutureWarning:\n",
            "\n",
            "Feature names only support names that are all strings. Got feature names with dtypes: ['int', 'str']. An error will be raised in 1.2.\n",
            "\n",
            "/usr/local/lib/python3.7/dist-packages/sklearn/utils/validation.py:1679: FutureWarning:\n",
            "\n",
            "Feature names only support names that are all strings. Got feature names with dtypes: ['int', 'str']. An error will be raised in 1.2.\n",
            "\n",
            "/usr/local/lib/python3.7/dist-packages/sklearn/utils/validation.py:1679: FutureWarning:\n",
            "\n",
            "Feature names only support names that are all strings. Got feature names with dtypes: ['int', 'str']. An error will be raised in 1.2.\n",
            "\n",
            "/usr/local/lib/python3.7/dist-packages/sklearn/utils/validation.py:1679: FutureWarning:\n",
            "\n",
            "Feature names only support names that are all strings. Got feature names with dtypes: ['int', 'str']. An error will be raised in 1.2.\n",
            "\n",
            "/usr/local/lib/python3.7/dist-packages/sklearn/utils/validation.py:1679: FutureWarning:\n",
            "\n",
            "Feature names only support names that are all strings. Got feature names with dtypes: ['int', 'str']. An error will be raised in 1.2.\n",
            "\n",
            "/usr/local/lib/python3.7/dist-packages/sklearn/utils/validation.py:1679: FutureWarning:\n",
            "\n",
            "Feature names only support names that are all strings. Got feature names with dtypes: ['int', 'str']. An error will be raised in 1.2.\n",
            "\n",
            "/usr/local/lib/python3.7/dist-packages/sklearn/utils/validation.py:1679: FutureWarning:\n",
            "\n",
            "Feature names only support names that are all strings. Got feature names with dtypes: ['int', 'str']. An error will be raised in 1.2.\n",
            "\n",
            "/usr/local/lib/python3.7/dist-packages/sklearn/utils/validation.py:1679: FutureWarning:\n",
            "\n",
            "Feature names only support names that are all strings. Got feature names with dtypes: ['int', 'str']. An error will be raised in 1.2.\n",
            "\n",
            "/usr/local/lib/python3.7/dist-packages/sklearn/utils/validation.py:1679: FutureWarning:\n",
            "\n",
            "Feature names only support names that are all strings. Got feature names with dtypes: ['int', 'str']. An error will be raised in 1.2.\n",
            "\n",
            "/usr/local/lib/python3.7/dist-packages/sklearn/utils/validation.py:1679: FutureWarning:\n",
            "\n",
            "Feature names only support names that are all strings. Got feature names with dtypes: ['int', 'str']. An error will be raised in 1.2.\n",
            "\n",
            "/usr/local/lib/python3.7/dist-packages/sklearn/utils/validation.py:1679: FutureWarning:\n",
            "\n",
            "Feature names only support names that are all strings. Got feature names with dtypes: ['int', 'str']. An error will be raised in 1.2.\n",
            "\n",
            "/usr/local/lib/python3.7/dist-packages/sklearn/utils/validation.py:1679: FutureWarning:\n",
            "\n",
            "Feature names only support names that are all strings. Got feature names with dtypes: ['int', 'str']. An error will be raised in 1.2.\n",
            "\n",
            "/usr/local/lib/python3.7/dist-packages/sklearn/utils/validation.py:1679: FutureWarning:\n",
            "\n",
            "Feature names only support names that are all strings. Got feature names with dtypes: ['int', 'str']. An error will be raised in 1.2.\n",
            "\n",
            "/usr/local/lib/python3.7/dist-packages/sklearn/utils/validation.py:1679: FutureWarning:\n",
            "\n",
            "Feature names only support names that are all strings. Got feature names with dtypes: ['int', 'str']. An error will be raised in 1.2.\n",
            "\n",
            "/usr/local/lib/python3.7/dist-packages/sklearn/utils/validation.py:1679: FutureWarning:\n",
            "\n",
            "Feature names only support names that are all strings. Got feature names with dtypes: ['int', 'str']. An error will be raised in 1.2.\n",
            "\n",
            "/usr/local/lib/python3.7/dist-packages/sklearn/utils/validation.py:1679: FutureWarning:\n",
            "\n",
            "Feature names only support names that are all strings. Got feature names with dtypes: ['int', 'str']. An error will be raised in 1.2.\n",
            "\n",
            "/usr/local/lib/python3.7/dist-packages/sklearn/utils/validation.py:1679: FutureWarning:\n",
            "\n",
            "Feature names only support names that are all strings. Got feature names with dtypes: ['int', 'str']. An error will be raised in 1.2.\n",
            "\n",
            "/usr/local/lib/python3.7/dist-packages/sklearn/utils/validation.py:1679: FutureWarning:\n",
            "\n",
            "Feature names only support names that are all strings. Got feature names with dtypes: ['int', 'str']. An error will be raised in 1.2.\n",
            "\n",
            "/usr/local/lib/python3.7/dist-packages/sklearn/utils/validation.py:1679: FutureWarning:\n",
            "\n",
            "Feature names only support names that are all strings. Got feature names with dtypes: ['int', 'str']. An error will be raised in 1.2.\n",
            "\n",
            "/usr/local/lib/python3.7/dist-packages/sklearn/utils/validation.py:1679: FutureWarning:\n",
            "\n",
            "Feature names only support names that are all strings. Got feature names with dtypes: ['int', 'str']. An error will be raised in 1.2.\n",
            "\n",
            "/usr/local/lib/python3.7/dist-packages/sklearn/utils/validation.py:1679: FutureWarning:\n",
            "\n",
            "Feature names only support names that are all strings. Got feature names with dtypes: ['int', 'str']. An error will be raised in 1.2.\n",
            "\n",
            "/usr/local/lib/python3.7/dist-packages/sklearn/utils/validation.py:1679: FutureWarning:\n",
            "\n",
            "Feature names only support names that are all strings. Got feature names with dtypes: ['int', 'str']. An error will be raised in 1.2.\n",
            "\n",
            "/usr/local/lib/python3.7/dist-packages/sklearn/utils/validation.py:1679: FutureWarning:\n",
            "\n",
            "Feature names only support names that are all strings. Got feature names with dtypes: ['int', 'str']. An error will be raised in 1.2.\n",
            "\n",
            "/usr/local/lib/python3.7/dist-packages/sklearn/utils/validation.py:1679: FutureWarning:\n",
            "\n",
            "Feature names only support names that are all strings. Got feature names with dtypes: ['int', 'str']. An error will be raised in 1.2.\n",
            "\n",
            "/usr/local/lib/python3.7/dist-packages/sklearn/utils/validation.py:1679: FutureWarning:\n",
            "\n",
            "Feature names only support names that are all strings. Got feature names with dtypes: ['int', 'str']. An error will be raised in 1.2.\n",
            "\n",
            "/usr/local/lib/python3.7/dist-packages/sklearn/utils/validation.py:985: DataConversionWarning:\n",
            "\n",
            "A column-vector y was passed when a 1d array was expected. Please change the shape of y to (n_samples, ), for example using ravel().\n",
            "\n",
            "/usr/local/lib/python3.7/dist-packages/sklearn/utils/validation.py:1679: FutureWarning:\n",
            "\n",
            "Feature names only support names that are all strings. Got feature names with dtypes: ['int', 'str']. An error will be raised in 1.2.\n",
            "\n",
            "/usr/local/lib/python3.7/dist-packages/sklearn/utils/validation.py:1679: FutureWarning:\n",
            "\n",
            "Feature names only support names that are all strings. Got feature names with dtypes: ['int', 'str']. An error will be raised in 1.2.\n",
            "\n",
            "/usr/local/lib/python3.7/dist-packages/sklearn/utils/validation.py:985: DataConversionWarning:\n",
            "\n",
            "A column-vector y was passed when a 1d array was expected. Please change the shape of y to (n_samples, ), for example using ravel().\n",
            "\n",
            "/usr/local/lib/python3.7/dist-packages/sklearn/utils/validation.py:1679: FutureWarning:\n",
            "\n",
            "Feature names only support names that are all strings. Got feature names with dtypes: ['int', 'str']. An error will be raised in 1.2.\n",
            "\n",
            "/usr/local/lib/python3.7/dist-packages/sklearn/utils/validation.py:1679: FutureWarning:\n",
            "\n",
            "Feature names only support names that are all strings. Got feature names with dtypes: ['int', 'str']. An error will be raised in 1.2.\n",
            "\n",
            "/usr/local/lib/python3.7/dist-packages/sklearn/utils/validation.py:985: DataConversionWarning:\n",
            "\n",
            "A column-vector y was passed when a 1d array was expected. Please change the shape of y to (n_samples, ), for example using ravel().\n",
            "\n",
            "/usr/local/lib/python3.7/dist-packages/sklearn/utils/validation.py:1679: FutureWarning:\n",
            "\n",
            "Feature names only support names that are all strings. Got feature names with dtypes: ['int', 'str']. An error will be raised in 1.2.\n",
            "\n",
            "/usr/local/lib/python3.7/dist-packages/sklearn/utils/validation.py:1679: FutureWarning:\n",
            "\n",
            "Feature names only support names that are all strings. Got feature names with dtypes: ['int', 'str']. An error will be raised in 1.2.\n",
            "\n",
            "/usr/local/lib/python3.7/dist-packages/sklearn/utils/validation.py:985: DataConversionWarning:\n",
            "\n",
            "A column-vector y was passed when a 1d array was expected. Please change the shape of y to (n_samples, ), for example using ravel().\n",
            "\n",
            "/usr/local/lib/python3.7/dist-packages/sklearn/utils/validation.py:1679: FutureWarning:\n",
            "\n",
            "Feature names only support names that are all strings. Got feature names with dtypes: ['int', 'str']. An error will be raised in 1.2.\n",
            "\n",
            "/usr/local/lib/python3.7/dist-packages/sklearn/utils/validation.py:1679: FutureWarning:\n",
            "\n",
            "Feature names only support names that are all strings. Got feature names with dtypes: ['int', 'str']. An error will be raised in 1.2.\n",
            "\n",
            "/usr/local/lib/python3.7/dist-packages/sklearn/utils/validation.py:985: DataConversionWarning:\n",
            "\n",
            "A column-vector y was passed when a 1d array was expected. Please change the shape of y to (n_samples, ), for example using ravel().\n",
            "\n",
            "/usr/local/lib/python3.7/dist-packages/sklearn/utils/validation.py:1679: FutureWarning:\n",
            "\n",
            "Feature names only support names that are all strings. Got feature names with dtypes: ['int', 'str']. An error will be raised in 1.2.\n",
            "\n",
            "/usr/local/lib/python3.7/dist-packages/sklearn/utils/validation.py:1679: FutureWarning:\n",
            "\n",
            "Feature names only support names that are all strings. Got feature names with dtypes: ['int', 'str']. An error will be raised in 1.2.\n",
            "\n",
            "/usr/local/lib/python3.7/dist-packages/sklearn/utils/validation.py:985: DataConversionWarning:\n",
            "\n",
            "A column-vector y was passed when a 1d array was expected. Please change the shape of y to (n_samples, ), for example using ravel().\n",
            "\n",
            "/usr/local/lib/python3.7/dist-packages/sklearn/utils/validation.py:1679: FutureWarning:\n",
            "\n",
            "Feature names only support names that are all strings. Got feature names with dtypes: ['int', 'str']. An error will be raised in 1.2.\n",
            "\n",
            "/usr/local/lib/python3.7/dist-packages/sklearn/utils/validation.py:1679: FutureWarning:\n",
            "\n",
            "Feature names only support names that are all strings. Got feature names with dtypes: ['int', 'str']. An error will be raised in 1.2.\n",
            "\n",
            "/usr/local/lib/python3.7/dist-packages/sklearn/utils/validation.py:985: DataConversionWarning:\n",
            "\n",
            "A column-vector y was passed when a 1d array was expected. Please change the shape of y to (n_samples, ), for example using ravel().\n",
            "\n",
            "/usr/local/lib/python3.7/dist-packages/sklearn/utils/validation.py:1679: FutureWarning:\n",
            "\n",
            "Feature names only support names that are all strings. Got feature names with dtypes: ['int', 'str']. An error will be raised in 1.2.\n",
            "\n",
            "/usr/local/lib/python3.7/dist-packages/sklearn/utils/validation.py:1679: FutureWarning:\n",
            "\n",
            "Feature names only support names that are all strings. Got feature names with dtypes: ['int', 'str']. An error will be raised in 1.2.\n",
            "\n",
            "/usr/local/lib/python3.7/dist-packages/sklearn/utils/validation.py:985: DataConversionWarning:\n",
            "\n",
            "A column-vector y was passed when a 1d array was expected. Please change the shape of y to (n_samples, ), for example using ravel().\n",
            "\n",
            "/usr/local/lib/python3.7/dist-packages/sklearn/utils/validation.py:1679: FutureWarning:\n",
            "\n",
            "Feature names only support names that are all strings. Got feature names with dtypes: ['int', 'str']. An error will be raised in 1.2.\n",
            "\n",
            "/usr/local/lib/python3.7/dist-packages/sklearn/utils/validation.py:1679: FutureWarning:\n",
            "\n",
            "Feature names only support names that are all strings. Got feature names with dtypes: ['int', 'str']. An error will be raised in 1.2.\n",
            "\n",
            "/usr/local/lib/python3.7/dist-packages/sklearn/utils/validation.py:985: DataConversionWarning:\n",
            "\n",
            "A column-vector y was passed when a 1d array was expected. Please change the shape of y to (n_samples, ), for example using ravel().\n",
            "\n",
            "/usr/local/lib/python3.7/dist-packages/sklearn/utils/validation.py:1679: FutureWarning:\n",
            "\n",
            "Feature names only support names that are all strings. Got feature names with dtypes: ['int', 'str']. An error will be raised in 1.2.\n",
            "\n",
            "/usr/local/lib/python3.7/dist-packages/sklearn/utils/validation.py:1679: FutureWarning:\n",
            "\n",
            "Feature names only support names that are all strings. Got feature names with dtypes: ['int', 'str']. An error will be raised in 1.2.\n",
            "\n",
            "/usr/local/lib/python3.7/dist-packages/sklearn/utils/validation.py:985: DataConversionWarning:\n",
            "\n",
            "A column-vector y was passed when a 1d array was expected. Please change the shape of y to (n_samples, ), for example using ravel().\n",
            "\n",
            "/usr/local/lib/python3.7/dist-packages/sklearn/utils/validation.py:1679: FutureWarning:\n",
            "\n",
            "Feature names only support names that are all strings. Got feature names with dtypes: ['int', 'str']. An error will be raised in 1.2.\n",
            "\n",
            "/usr/local/lib/python3.7/dist-packages/sklearn/utils/validation.py:1679: FutureWarning:\n",
            "\n",
            "Feature names only support names that are all strings. Got feature names with dtypes: ['int', 'str']. An error will be raised in 1.2.\n",
            "\n",
            "/usr/local/lib/python3.7/dist-packages/sklearn/model_selection/_validation.py:681: DataConversionWarning:\n",
            "\n",
            "A column-vector y was passed when a 1d array was expected. Please change the shape of y to (n_samples,), for example using ravel().\n",
            "\n",
            "/usr/local/lib/python3.7/dist-packages/sklearn/utils/validation.py:1679: FutureWarning:\n",
            "\n",
            "Feature names only support names that are all strings. Got feature names with dtypes: ['int', 'str']. An error will be raised in 1.2.\n",
            "\n",
            "/usr/local/lib/python3.7/dist-packages/sklearn/utils/validation.py:1679: FutureWarning:\n",
            "\n",
            "Feature names only support names that are all strings. Got feature names with dtypes: ['int', 'str']. An error will be raised in 1.2.\n",
            "\n",
            "/usr/local/lib/python3.7/dist-packages/sklearn/model_selection/_validation.py:681: DataConversionWarning:\n",
            "\n",
            "A column-vector y was passed when a 1d array was expected. Please change the shape of y to (n_samples,), for example using ravel().\n",
            "\n",
            "/usr/local/lib/python3.7/dist-packages/sklearn/utils/validation.py:1679: FutureWarning:\n",
            "\n",
            "Feature names only support names that are all strings. Got feature names with dtypes: ['int', 'str']. An error will be raised in 1.2.\n",
            "\n",
            "/usr/local/lib/python3.7/dist-packages/sklearn/utils/validation.py:1679: FutureWarning:\n",
            "\n",
            "Feature names only support names that are all strings. Got feature names with dtypes: ['int', 'str']. An error will be raised in 1.2.\n",
            "\n",
            "/usr/local/lib/python3.7/dist-packages/sklearn/model_selection/_validation.py:681: DataConversionWarning:\n",
            "\n",
            "A column-vector y was passed when a 1d array was expected. Please change the shape of y to (n_samples,), for example using ravel().\n",
            "\n",
            "/usr/local/lib/python3.7/dist-packages/sklearn/utils/validation.py:1679: FutureWarning:\n",
            "\n",
            "Feature names only support names that are all strings. Got feature names with dtypes: ['int', 'str']. An error will be raised in 1.2.\n",
            "\n",
            "/usr/local/lib/python3.7/dist-packages/sklearn/utils/validation.py:1679: FutureWarning:\n",
            "\n",
            "Feature names only support names that are all strings. Got feature names with dtypes: ['int', 'str']. An error will be raised in 1.2.\n",
            "\n",
            "/usr/local/lib/python3.7/dist-packages/sklearn/model_selection/_validation.py:681: DataConversionWarning:\n",
            "\n",
            "A column-vector y was passed when a 1d array was expected. Please change the shape of y to (n_samples,), for example using ravel().\n",
            "\n",
            "/usr/local/lib/python3.7/dist-packages/sklearn/utils/validation.py:1679: FutureWarning:\n",
            "\n",
            "Feature names only support names that are all strings. Got feature names with dtypes: ['int', 'str']. An error will be raised in 1.2.\n",
            "\n",
            "/usr/local/lib/python3.7/dist-packages/sklearn/utils/validation.py:1679: FutureWarning:\n",
            "\n",
            "Feature names only support names that are all strings. Got feature names with dtypes: ['int', 'str']. An error will be raised in 1.2.\n",
            "\n",
            "/usr/local/lib/python3.7/dist-packages/sklearn/model_selection/_validation.py:681: DataConversionWarning:\n",
            "\n",
            "A column-vector y was passed when a 1d array was expected. Please change the shape of y to (n_samples,), for example using ravel().\n",
            "\n",
            "/usr/local/lib/python3.7/dist-packages/sklearn/utils/validation.py:1679: FutureWarning:\n",
            "\n",
            "Feature names only support names that are all strings. Got feature names with dtypes: ['int', 'str']. An error will be raised in 1.2.\n",
            "\n"
          ]
        },
        {
          "output_type": "stream",
          "name": "stdout",
          "text": [
            "[04:48:08] WARNING: /workspace/src/objective/regression_obj.cu:152: reg:linear is now deprecated in favor of reg:squarederror.\n",
            "[04:48:08] WARNING: /workspace/src/objective/regression_obj.cu:152: reg:linear is now deprecated in favor of reg:squarederror.\n",
            "[04:48:08] WARNING: /workspace/src/objective/regression_obj.cu:152: reg:linear is now deprecated in favor of reg:squarederror.\n",
            "[04:48:09] WARNING: /workspace/src/objective/regression_obj.cu:152: reg:linear is now deprecated in favor of reg:squarederror.\n",
            "[04:48:09] WARNING: /workspace/src/objective/regression_obj.cu:152: reg:linear is now deprecated in favor of reg:squarederror.\n"
          ]
        },
        {
          "output_type": "stream",
          "name": "stderr",
          "text": [
            "/usr/local/lib/python3.7/dist-packages/sklearn/utils/validation.py:985: DataConversionWarning:\n",
            "\n",
            "A column-vector y was passed when a 1d array was expected. Please change the shape of y to (n_samples, ), for example using ravel().\n",
            "\n",
            "/usr/local/lib/python3.7/dist-packages/sklearn/utils/validation.py:985: DataConversionWarning:\n",
            "\n",
            "A column-vector y was passed when a 1d array was expected. Please change the shape of y to (n_samples, ), for example using ravel().\n",
            "\n",
            "/usr/local/lib/python3.7/dist-packages/sklearn/utils/validation.py:985: DataConversionWarning:\n",
            "\n",
            "A column-vector y was passed when a 1d array was expected. Please change the shape of y to (n_samples, ), for example using ravel().\n",
            "\n",
            "/usr/local/lib/python3.7/dist-packages/sklearn/utils/validation.py:985: DataConversionWarning:\n",
            "\n",
            "A column-vector y was passed when a 1d array was expected. Please change the shape of y to (n_samples, ), for example using ravel().\n",
            "\n",
            "/usr/local/lib/python3.7/dist-packages/sklearn/utils/validation.py:985: DataConversionWarning:\n",
            "\n",
            "A column-vector y was passed when a 1d array was expected. Please change the shape of y to (n_samples, ), for example using ravel().\n",
            "\n",
            "/usr/local/lib/python3.7/dist-packages/sklearn/utils/validation.py:985: DataConversionWarning:\n",
            "\n",
            "A column-vector y was passed when a 1d array was expected. Please change the shape of y to (n_samples, ), for example using ravel().\n",
            "\n",
            "/usr/local/lib/python3.7/dist-packages/sklearn/utils/validation.py:985: DataConversionWarning:\n",
            "\n",
            "A column-vector y was passed when a 1d array was expected. Please change the shape of y to (n_samples, ), for example using ravel().\n",
            "\n",
            "/usr/local/lib/python3.7/dist-packages/sklearn/utils/validation.py:985: DataConversionWarning:\n",
            "\n",
            "A column-vector y was passed when a 1d array was expected. Please change the shape of y to (n_samples, ), for example using ravel().\n",
            "\n",
            "/usr/local/lib/python3.7/dist-packages/sklearn/utils/validation.py:985: DataConversionWarning:\n",
            "\n",
            "A column-vector y was passed when a 1d array was expected. Please change the shape of y to (n_samples, ), for example using ravel().\n",
            "\n",
            "/usr/local/lib/python3.7/dist-packages/sklearn/utils/validation.py:985: DataConversionWarning:\n",
            "\n",
            "A column-vector y was passed when a 1d array was expected. Please change the shape of y to (n_samples, ), for example using ravel().\n",
            "\n",
            "/usr/local/lib/python3.7/dist-packages/sklearn/model_selection/_validation.py:681: DataConversionWarning:\n",
            "\n",
            "A column-vector y was passed when a 1d array was expected. Please change the shape of y to (n_samples,), for example using ravel().\n",
            "\n",
            "/usr/local/lib/python3.7/dist-packages/sklearn/model_selection/_validation.py:681: DataConversionWarning:\n",
            "\n",
            "A column-vector y was passed when a 1d array was expected. Please change the shape of y to (n_samples,), for example using ravel().\n",
            "\n",
            "/usr/local/lib/python3.7/dist-packages/sklearn/model_selection/_validation.py:681: DataConversionWarning:\n",
            "\n",
            "A column-vector y was passed when a 1d array was expected. Please change the shape of y to (n_samples,), for example using ravel().\n",
            "\n",
            "/usr/local/lib/python3.7/dist-packages/sklearn/model_selection/_validation.py:681: DataConversionWarning:\n",
            "\n",
            "A column-vector y was passed when a 1d array was expected. Please change the shape of y to (n_samples,), for example using ravel().\n",
            "\n",
            "/usr/local/lib/python3.7/dist-packages/sklearn/model_selection/_validation.py:681: DataConversionWarning:\n",
            "\n",
            "A column-vector y was passed when a 1d array was expected. Please change the shape of y to (n_samples,), for example using ravel().\n",
            "\n"
          ]
        },
        {
          "output_type": "stream",
          "name": "stdout",
          "text": [
            "[04:48:11] WARNING: /workspace/src/objective/regression_obj.cu:152: reg:linear is now deprecated in favor of reg:squarederror.\n",
            "[04:48:11] WARNING: /workspace/src/objective/regression_obj.cu:152: reg:linear is now deprecated in favor of reg:squarederror.\n",
            "[04:48:11] WARNING: /workspace/src/objective/regression_obj.cu:152: reg:linear is now deprecated in favor of reg:squarederror.\n",
            "[04:48:11] WARNING: /workspace/src/objective/regression_obj.cu:152: reg:linear is now deprecated in favor of reg:squarederror.\n",
            "[04:48:11] WARNING: /workspace/src/objective/regression_obj.cu:152: reg:linear is now deprecated in favor of reg:squarederror.\n",
            "[('xgboost_linear', 1.2895178088268244), ('random_forest', 1.3521977282864572), ('baysian_ridge', 1.6005872242015822), ('ridge', 1.6006124799423531), ('linear', 1.6009018485469), ('ardr_linear', 1.6016165484135283), ('elasticnet', 1.7782286495882063), ('lasso', 1.8280869176495664)]\n",
            "[('xgboost_linear', 1.4812884415856096), ('random_forest', 1.5124788404870262), ('ridge', 1.8115938757547672), ('linear', 1.8139077636950767), ('ardr_linear', 1.8204328508446495), ('baysian_ridge', 1.8287638730970905), ('elasticnet', 1.8495212834872539), ('lasso', 1.8694847754098567)]\n"
          ]
        }
      ]
    },
    {
      "cell_type": "code",
      "metadata": {
        "colab": {
          "base_uri": "https://localhost:8080/"
        },
        "id": "jZoarEw0LgSt",
        "scrolled": true,
        "outputId": "7a049f0b-8b19-4b82-c3a7-5163f19c59d9"
      },
      "source": [
        "# Hyper-parameter tuning for Field players\n",
        "import xgboost as xgb\n",
        "from sklearn.model_selection import KFold\n",
        "import optuna\n",
        "from optuna import Trial\n",
        "from optuna.samplers import TPESampler\n",
        "from xgboost import XGBRegressor\n",
        "from sklearn.model_selection import KFold\n",
        "from sklearn.metrics import mean_squared_error\n",
        "\n",
        "def objective(trial):\n",
        "\n",
        "    kf = KFold(n_splits=10, shuffle=True)\n",
        "    \n",
        "    param = {\n",
        "        'lambda': trial.suggest_loguniform('lambda', 1e-3, 10.0),\n",
        "        'alpha': trial.suggest_loguniform('alpha', 1e-3, 10.0),\n",
        "        'colsample_bytree': trial.suggest_categorical('colsample_bytree', [0.3,0.4,0.5,0.6,0.7,0.8,0.9, 1.0]),\n",
        "        'subsample': trial.suggest_categorical('subsample', [0.4,0.5,0.6,0.7,0.8,1.0]),\n",
        "        'learning_rate': trial.suggest_categorical('learning_rate', [0.008,0.009,0.01,0.012,0.014,0.016,0.018, 0.02]),\n",
        "        'n_estimators': 4000,\n",
        "        'max_depth': trial.suggest_categorical('max_depth', [5,7,9,11,13,15,17,20]),\n",
        "        'random_state': trial.suggest_categorical('random_state', [24, 48,2020]),\n",
        "        'min_child_weight': trial.suggest_int('min_child_weight', 1, 300),\n",
        "        'folds' : kf\n",
        "    }\n",
        "    model = xgb.XGBRegressor(**param)  \n",
        "    \n",
        "    model.fit(X_train,y_train,eval_set=[(X_train, y_train),(X_test,y_test)],early_stopping_rounds=100,verbose=False)\n",
        "    \n",
        "    preds = model.predict(X_test)\n",
        "    \n",
        "    rmse = mean_squared_error(y_test, preds,squared=False)\n",
        "    \n",
        "    return rmse\n",
        "\n",
        "study = optuna.create_study(direction='minimize')\n",
        "study.optimize(objective, n_trials=100)\n",
        "print('Number of finished trials:', len(study.trials))\n",
        "print('Best trial:', study.best_trial.params)"
      ],
      "execution_count": null,
      "outputs": [
        {
          "output_type": "stream",
          "name": "stderr",
          "text": [
            "\u001b[32m[I 2021-12-03 04:49:11,300]\u001b[0m A new study created in memory with name: no-name-63c14795-bf31-48a4-89ba-f149c3eb51dd\u001b[0m\n"
          ]
        },
        {
          "output_type": "stream",
          "name": "stdout",
          "text": [
            "[04:49:11] WARNING: /workspace/src/objective/regression_obj.cu:152: reg:linear is now deprecated in favor of reg:squarederror.\n"
          ]
        },
        {
          "output_type": "stream",
          "name": "stderr",
          "text": [
            "\u001b[32m[I 2021-12-03 04:49:27,202]\u001b[0m Trial 0 finished with value: 1.2724318763014097 and parameters: {'lambda': 5.470646064517804, 'alpha': 0.0062203649263950465, 'colsample_bytree': 1.0, 'subsample': 0.4, 'learning_rate': 0.014, 'max_depth': 7, 'random_state': 24, 'min_child_weight': 106}. Best is trial 0 with value: 1.2724318763014097.\u001b[0m\n"
          ]
        },
        {
          "output_type": "stream",
          "name": "stdout",
          "text": [
            "[04:49:27] WARNING: /workspace/src/objective/regression_obj.cu:152: reg:linear is now deprecated in favor of reg:squarederror.\n"
          ]
        },
        {
          "output_type": "stream",
          "name": "stderr",
          "text": [
            "\u001b[32m[I 2021-12-03 04:49:46,859]\u001b[0m Trial 1 finished with value: 1.3090006320827325 and parameters: {'lambda': 0.011792148614839593, 'alpha': 0.2212941401901674, 'colsample_bytree': 0.4, 'subsample': 0.6, 'learning_rate': 0.014, 'max_depth': 11, 'random_state': 2020, 'min_child_weight': 295}. Best is trial 0 with value: 1.2724318763014097.\u001b[0m\n"
          ]
        },
        {
          "output_type": "stream",
          "name": "stdout",
          "text": [
            "[04:49:46] WARNING: /workspace/src/objective/regression_obj.cu:152: reg:linear is now deprecated in favor of reg:squarederror.\n"
          ]
        },
        {
          "output_type": "stream",
          "name": "stderr",
          "text": [
            "\u001b[32m[I 2021-12-03 04:49:59,002]\u001b[0m Trial 2 finished with value: 1.3011847058341874 and parameters: {'lambda': 5.39810445687079, 'alpha': 0.011529128974597565, 'colsample_bytree': 0.4, 'subsample': 0.4, 'learning_rate': 0.016, 'max_depth': 13, 'random_state': 2020, 'min_child_weight': 146}. Best is trial 0 with value: 1.2724318763014097.\u001b[0m\n"
          ]
        },
        {
          "output_type": "stream",
          "name": "stdout",
          "text": [
            "[04:49:59] WARNING: /workspace/src/objective/regression_obj.cu:152: reg:linear is now deprecated in favor of reg:squarederror.\n"
          ]
        },
        {
          "output_type": "stream",
          "name": "stderr",
          "text": [
            "\u001b[32m[I 2021-12-03 04:50:20,347]\u001b[0m Trial 3 finished with value: 1.2901455554226302 and parameters: {'lambda': 0.350811700055824, 'alpha': 0.0026357753778836726, 'colsample_bytree': 0.3, 'subsample': 0.8, 'learning_rate': 0.009, 'max_depth': 5, 'random_state': 48, 'min_child_weight': 288}. Best is trial 0 with value: 1.2724318763014097.\u001b[0m\n"
          ]
        },
        {
          "output_type": "stream",
          "name": "stdout",
          "text": [
            "[04:50:20] WARNING: /workspace/src/objective/regression_obj.cu:152: reg:linear is now deprecated in favor of reg:squarederror.\n"
          ]
        },
        {
          "output_type": "stream",
          "name": "stderr",
          "text": [
            "\u001b[32m[I 2021-12-03 04:50:44,500]\u001b[0m Trial 4 finished with value: 1.2120803056185134 and parameters: {'lambda': 0.038183970838480887, 'alpha': 0.10307569252052964, 'colsample_bytree': 0.9, 'subsample': 0.6, 'learning_rate': 0.01, 'max_depth': 13, 'random_state': 48, 'min_child_weight': 29}. Best is trial 4 with value: 1.2120803056185134.\u001b[0m\n"
          ]
        },
        {
          "output_type": "stream",
          "name": "stdout",
          "text": [
            "[04:50:44] WARNING: /workspace/src/objective/regression_obj.cu:152: reg:linear is now deprecated in favor of reg:squarederror.\n"
          ]
        },
        {
          "output_type": "stream",
          "name": "stderr",
          "text": [
            "\u001b[32m[I 2021-12-03 04:51:09,074]\u001b[0m Trial 5 finished with value: 1.1945272413921322 and parameters: {'lambda': 0.3054727528654893, 'alpha': 0.09640740022328834, 'colsample_bytree': 0.9, 'subsample': 1.0, 'learning_rate': 0.01, 'max_depth': 15, 'random_state': 48, 'min_child_weight': 38}. Best is trial 5 with value: 1.1945272413921322.\u001b[0m\n"
          ]
        },
        {
          "output_type": "stream",
          "name": "stdout",
          "text": [
            "[04:51:09] WARNING: /workspace/src/objective/regression_obj.cu:152: reg:linear is now deprecated in favor of reg:squarederror.\n"
          ]
        },
        {
          "output_type": "stream",
          "name": "stderr",
          "text": [
            "\u001b[32m[I 2021-12-03 04:51:25,433]\u001b[0m Trial 6 finished with value: 1.2883046923853827 and parameters: {'lambda': 0.0012106471981386427, 'alpha': 2.0750593802646184, 'colsample_bytree': 0.3, 'subsample': 0.7, 'learning_rate': 0.014, 'max_depth': 5, 'random_state': 48, 'min_child_weight': 258}. Best is trial 5 with value: 1.1945272413921322.\u001b[0m\n"
          ]
        },
        {
          "output_type": "stream",
          "name": "stdout",
          "text": [
            "[04:51:25] WARNING: /workspace/src/objective/regression_obj.cu:152: reg:linear is now deprecated in favor of reg:squarederror.\n"
          ]
        },
        {
          "output_type": "stream",
          "name": "stderr",
          "text": [
            "\u001b[32m[I 2021-12-03 04:51:40,179]\u001b[0m Trial 7 finished with value: 1.324620718062923 and parameters: {'lambda': 0.6097790722156108, 'alpha': 0.3873564792646745, 'colsample_bytree': 0.3, 'subsample': 0.4, 'learning_rate': 0.02, 'max_depth': 5, 'random_state': 2020, 'min_child_weight': 233}. Best is trial 5 with value: 1.1945272413921322.\u001b[0m\n"
          ]
        },
        {
          "output_type": "stream",
          "name": "stdout",
          "text": [
            "[04:51:40] WARNING: /workspace/src/objective/regression_obj.cu:152: reg:linear is now deprecated in favor of reg:squarederror.\n"
          ]
        },
        {
          "output_type": "stream",
          "name": "stderr",
          "text": [
            "\u001b[32m[I 2021-12-03 04:51:58,111]\u001b[0m Trial 8 finished with value: 1.3268402410118414 and parameters: {'lambda': 0.5748427952485992, 'alpha': 0.0120832655000651, 'colsample_bytree': 0.5, 'subsample': 0.5, 'learning_rate': 0.012, 'max_depth': 11, 'random_state': 24, 'min_child_weight': 300}. Best is trial 5 with value: 1.1945272413921322.\u001b[0m\n"
          ]
        },
        {
          "output_type": "stream",
          "name": "stdout",
          "text": [
            "[04:51:58] WARNING: /workspace/src/objective/regression_obj.cu:152: reg:linear is now deprecated in favor of reg:squarederror.\n"
          ]
        },
        {
          "output_type": "stream",
          "name": "stderr",
          "text": [
            "\u001b[32m[I 2021-12-03 04:52:29,610]\u001b[0m Trial 9 finished with value: 1.2454686441362024 and parameters: {'lambda': 0.35747431551004466, 'alpha': 0.0016741383670093952, 'colsample_bytree': 0.3, 'subsample': 0.8, 'learning_rate': 0.008, 'max_depth': 13, 'random_state': 48, 'min_child_weight': 135}. Best is trial 5 with value: 1.1945272413921322.\u001b[0m\n"
          ]
        },
        {
          "output_type": "stream",
          "name": "stdout",
          "text": [
            "[04:52:29] WARNING: /workspace/src/objective/regression_obj.cu:152: reg:linear is now deprecated in favor of reg:squarederror.\n"
          ]
        },
        {
          "output_type": "stream",
          "name": "stderr",
          "text": [
            "\u001b[32m[I 2021-12-03 04:52:48,020]\u001b[0m Trial 10 finished with value: 1.1986537148661107 and parameters: {'lambda': 0.007175250042734753, 'alpha': 8.223427926894928, 'colsample_bytree': 0.8, 'subsample': 1.0, 'learning_rate': 0.01, 'max_depth': 15, 'random_state': 48, 'min_child_weight': 16}. Best is trial 5 with value: 1.1945272413921322.\u001b[0m\n"
          ]
        },
        {
          "output_type": "stream",
          "name": "stdout",
          "text": [
            "[04:52:48] WARNING: /workspace/src/objective/regression_obj.cu:152: reg:linear is now deprecated in favor of reg:squarederror.\n"
          ]
        },
        {
          "output_type": "stream",
          "name": "stderr",
          "text": [
            "\u001b[32m[I 2021-12-03 04:53:38,732]\u001b[0m Trial 11 finished with value: 1.2268468754379804 and parameters: {'lambda': 0.004227153184021447, 'alpha': 9.81396911626321, 'colsample_bytree': 0.8, 'subsample': 1.0, 'learning_rate': 0.01, 'max_depth': 15, 'random_state': 48, 'min_child_weight': 2}. Best is trial 5 with value: 1.1945272413921322.\u001b[0m\n"
          ]
        },
        {
          "output_type": "stream",
          "name": "stdout",
          "text": [
            "[04:53:38] WARNING: /workspace/src/objective/regression_obj.cu:152: reg:linear is now deprecated in favor of reg:squarederror.\n"
          ]
        },
        {
          "output_type": "stream",
          "name": "stderr",
          "text": [
            "\u001b[32m[I 2021-12-03 04:54:05,614]\u001b[0m Trial 12 finished with value: 1.2012123830984502 and parameters: {'lambda': 0.05122305270709477, 'alpha': 0.6985732407553321, 'colsample_bytree': 0.7, 'subsample': 1.0, 'learning_rate': 0.01, 'max_depth': 15, 'random_state': 48, 'min_child_weight': 72}. Best is trial 5 with value: 1.1945272413921322.\u001b[0m\n"
          ]
        },
        {
          "output_type": "stream",
          "name": "stdout",
          "text": [
            "[04:54:05] WARNING: /workspace/src/objective/regression_obj.cu:152: reg:linear is now deprecated in favor of reg:squarederror.\n"
          ]
        },
        {
          "output_type": "stream",
          "name": "stderr",
          "text": [
            "\u001b[32m[I 2021-12-03 04:54:23,891]\u001b[0m Trial 13 finished with value: 1.2029212694005758 and parameters: {'lambda': 0.012176058346371161, 'alpha': 0.04227705190644671, 'colsample_bytree': 0.9, 'subsample': 1.0, 'learning_rate': 0.018, 'max_depth': 17, 'random_state': 48, 'min_child_weight': 63}. Best is trial 5 with value: 1.1945272413921322.\u001b[0m\n"
          ]
        },
        {
          "output_type": "stream",
          "name": "stdout",
          "text": [
            "[04:54:23] WARNING: /workspace/src/objective/regression_obj.cu:152: reg:linear is now deprecated in favor of reg:squarederror.\n"
          ]
        },
        {
          "output_type": "stream",
          "name": "stderr",
          "text": [
            "\u001b[32m[I 2021-12-03 04:55:00,962]\u001b[0m Trial 14 finished with value: 1.2326196746818656 and parameters: {'lambda': 0.14844620804901937, 'alpha': 9.797062725427189, 'colsample_bytree': 0.8, 'subsample': 1.0, 'learning_rate': 0.01, 'max_depth': 15, 'random_state': 48, 'min_child_weight': 198}. Best is trial 5 with value: 1.1945272413921322.\u001b[0m\n"
          ]
        },
        {
          "output_type": "stream",
          "name": "stdout",
          "text": [
            "[04:55:00] WARNING: /workspace/src/objective/regression_obj.cu:152: reg:linear is now deprecated in favor of reg:squarederror.\n"
          ]
        },
        {
          "output_type": "stream",
          "name": "stderr",
          "text": [
            "\u001b[32m[I 2021-12-03 04:55:30,400]\u001b[0m Trial 15 finished with value: 1.1959982107980638 and parameters: {'lambda': 1.4471107719128493, 'alpha': 0.0508696253653455, 'colsample_bytree': 0.6, 'subsample': 1.0, 'learning_rate': 0.01, 'max_depth': 20, 'random_state': 24, 'min_child_weight': 49}. Best is trial 5 with value: 1.1945272413921322.\u001b[0m\n"
          ]
        },
        {
          "output_type": "stream",
          "name": "stdout",
          "text": [
            "[04:55:30] WARNING: /workspace/src/objective/regression_obj.cu:152: reg:linear is now deprecated in favor of reg:squarederror.\n"
          ]
        },
        {
          "output_type": "stream",
          "name": "stderr",
          "text": [
            "\u001b[32m[I 2021-12-03 04:55:47,542]\u001b[0m Trial 16 finished with value: 1.2163389996363525 and parameters: {'lambda': 2.1221047407976714, 'alpha': 0.07009885224616344, 'colsample_bytree': 0.6, 'subsample': 0.7, 'learning_rate': 0.018, 'max_depth': 20, 'random_state': 24, 'min_child_weight': 68}. Best is trial 5 with value: 1.1945272413921322.\u001b[0m\n"
          ]
        },
        {
          "output_type": "stream",
          "name": "stdout",
          "text": [
            "[04:55:47] WARNING: /workspace/src/objective/regression_obj.cu:152: reg:linear is now deprecated in favor of reg:squarederror.\n"
          ]
        },
        {
          "output_type": "stream",
          "name": "stderr",
          "text": [
            "\u001b[32m[I 2021-12-03 04:56:02,916]\u001b[0m Trial 17 finished with value: 1.2598055418511958 and parameters: {'lambda': 1.869613258808741, 'alpha': 0.023903998083355363, 'colsample_bytree': 0.6, 'subsample': 0.5, 'learning_rate': 0.012, 'max_depth': 9, 'random_state': 24, 'min_child_weight': 110}. Best is trial 5 with value: 1.1945272413921322.\u001b[0m\n"
          ]
        },
        {
          "output_type": "stream",
          "name": "stdout",
          "text": [
            "[04:56:02] WARNING: /workspace/src/objective/regression_obj.cu:152: reg:linear is now deprecated in favor of reg:squarederror.\n"
          ]
        },
        {
          "output_type": "stream",
          "name": "stderr",
          "text": [
            "\u001b[32m[I 2021-12-03 04:56:15,739]\u001b[0m Trial 18 finished with value: 1.236781296291774 and parameters: {'lambda': 1.4624663880595112, 'alpha': 0.1273561039043968, 'colsample_bytree': 0.6, 'subsample': 1.0, 'learning_rate': 0.02, 'max_depth': 20, 'random_state': 24, 'min_child_weight': 186}. Best is trial 5 with value: 1.1945272413921322.\u001b[0m\n"
          ]
        },
        {
          "output_type": "stream",
          "name": "stdout",
          "text": [
            "[04:56:15] WARNING: /workspace/src/objective/regression_obj.cu:152: reg:linear is now deprecated in favor of reg:squarederror.\n"
          ]
        },
        {
          "output_type": "stream",
          "name": "stderr",
          "text": [
            "\u001b[32m[I 2021-12-03 04:56:43,139]\u001b[0m Trial 19 finished with value: 1.2005518708009089 and parameters: {'lambda': 0.10317208072179487, 'alpha': 0.822111063419322, 'colsample_bytree': 0.9, 'subsample': 1.0, 'learning_rate': 0.009, 'max_depth': 20, 'random_state': 24, 'min_child_weight': 45}. Best is trial 5 with value: 1.1945272413921322.\u001b[0m\n"
          ]
        },
        {
          "output_type": "stream",
          "name": "stdout",
          "text": [
            "[04:56:43] WARNING: /workspace/src/objective/regression_obj.cu:152: reg:linear is now deprecated in favor of reg:squarederror.\n"
          ]
        },
        {
          "output_type": "stream",
          "name": "stderr",
          "text": [
            "\u001b[32m[I 2021-12-03 04:57:11,894]\u001b[0m Trial 20 finished with value: 1.2116278252482398 and parameters: {'lambda': 8.549746757217884, 'alpha': 0.030792011463210627, 'colsample_bytree': 0.5, 'subsample': 1.0, 'learning_rate': 0.008, 'max_depth': 9, 'random_state': 24, 'min_child_weight': 101}. Best is trial 5 with value: 1.1945272413921322.\u001b[0m\n"
          ]
        },
        {
          "output_type": "stream",
          "name": "stdout",
          "text": [
            "[04:57:11] WARNING: /workspace/src/objective/regression_obj.cu:152: reg:linear is now deprecated in favor of reg:squarederror.\n"
          ]
        },
        {
          "output_type": "stream",
          "name": "stderr",
          "text": [
            "\u001b[32m[I 2021-12-03 04:57:41,611]\u001b[0m Trial 21 finished with value: 1.2046685679474138 and parameters: {'lambda': 0.0012389633191702363, 'alpha': 2.705875605727035, 'colsample_bytree': 0.8, 'subsample': 1.0, 'learning_rate': 0.01, 'max_depth': 15, 'random_state': 48, 'min_child_weight': 5}. Best is trial 5 with value: 1.1945272413921322.\u001b[0m\n"
          ]
        },
        {
          "output_type": "stream",
          "name": "stdout",
          "text": [
            "[04:57:41] WARNING: /workspace/src/objective/regression_obj.cu:152: reg:linear is now deprecated in favor of reg:squarederror.\n"
          ]
        },
        {
          "output_type": "stream",
          "name": "stderr",
          "text": [
            "\u001b[32m[I 2021-12-03 04:58:09,743]\u001b[0m Trial 22 finished with value: 1.201687915201256 and parameters: {'lambda': 0.21095875843642858, 'alpha': 0.20270889255977195, 'colsample_bytree': 1.0, 'subsample': 1.0, 'learning_rate': 0.01, 'max_depth': 15, 'random_state': 48, 'min_child_weight': 32}. Best is trial 5 with value: 1.1945272413921322.\u001b[0m\n"
          ]
        },
        {
          "output_type": "stream",
          "name": "stdout",
          "text": [
            "[04:58:09] WARNING: /workspace/src/objective/regression_obj.cu:152: reg:linear is now deprecated in favor of reg:squarederror.\n"
          ]
        },
        {
          "output_type": "stream",
          "name": "stderr",
          "text": [
            "\u001b[32m[I 2021-12-03 04:58:28,483]\u001b[0m Trial 23 finished with value: 1.1989685092868234 and parameters: {'lambda': 0.03715788469744769, 'alpha': 0.056826370461587686, 'colsample_bytree': 0.7, 'subsample': 1.0, 'learning_rate': 0.01, 'max_depth': 7, 'random_state': 2020, 'min_child_weight': 25}. Best is trial 5 with value: 1.1945272413921322.\u001b[0m\n"
          ]
        },
        {
          "output_type": "stream",
          "name": "stdout",
          "text": [
            "[04:58:28] WARNING: /workspace/src/objective/regression_obj.cu:152: reg:linear is now deprecated in favor of reg:squarederror.\n"
          ]
        },
        {
          "output_type": "stream",
          "name": "stderr",
          "text": [
            "\u001b[32m[I 2021-12-03 04:58:45,634]\u001b[0m Trial 24 finished with value: 1.2071007950700652 and parameters: {'lambda': 1.0160436751263322, 'alpha': 2.344292229923183, 'colsample_bytree': 0.9, 'subsample': 1.0, 'learning_rate': 0.016, 'max_depth': 17, 'random_state': 48, 'min_child_weight': 85}. Best is trial 5 with value: 1.1945272413921322.\u001b[0m\n"
          ]
        },
        {
          "output_type": "stream",
          "name": "stdout",
          "text": [
            "[04:58:45] WARNING: /workspace/src/objective/regression_obj.cu:152: reg:linear is now deprecated in favor of reg:squarederror.\n"
          ]
        },
        {
          "output_type": "stream",
          "name": "stderr",
          "text": [
            "\u001b[32m[I 2021-12-03 04:59:13,233]\u001b[0m Trial 25 finished with value: 1.2081691523360738 and parameters: {'lambda': 0.015419707572922811, 'alpha': 0.8878890693131718, 'colsample_bytree': 0.8, 'subsample': 0.8, 'learning_rate': 0.01, 'max_depth': 20, 'random_state': 24, 'min_child_weight': 49}. Best is trial 5 with value: 1.1945272413921322.\u001b[0m\n"
          ]
        },
        {
          "output_type": "stream",
          "name": "stdout",
          "text": [
            "[04:59:13] WARNING: /workspace/src/objective/regression_obj.cu:152: reg:linear is now deprecated in favor of reg:squarederror.\n"
          ]
        },
        {
          "output_type": "stream",
          "name": "stderr",
          "text": [
            "\u001b[32m[I 2021-12-03 04:59:51,290]\u001b[0m Trial 26 finished with value: 1.2388403022006707 and parameters: {'lambda': 0.0036071116826034673, 'alpha': 0.0165336577308905, 'colsample_bytree': 0.6, 'subsample': 0.5, 'learning_rate': 0.01, 'max_depth': 15, 'random_state': 48, 'min_child_weight': 1}. Best is trial 5 with value: 1.1945272413921322.\u001b[0m\n"
          ]
        },
        {
          "output_type": "stream",
          "name": "stdout",
          "text": [
            "[04:59:51] WARNING: /workspace/src/objective/regression_obj.cu:152: reg:linear is now deprecated in favor of reg:squarederror.\n"
          ]
        },
        {
          "output_type": "stream",
          "name": "stderr",
          "text": [
            "\u001b[32m[I 2021-12-03 05:00:24,062]\u001b[0m Trial 27 finished with value: 1.2556119099689775 and parameters: {'lambda': 0.06533382421536817, 'alpha': 0.005777410557842944, 'colsample_bytree': 0.8, 'subsample': 0.7, 'learning_rate': 0.01, 'max_depth': 15, 'random_state': 24, 'min_child_weight': 179}. Best is trial 5 with value: 1.1945272413921322.\u001b[0m\n"
          ]
        },
        {
          "output_type": "stream",
          "name": "stdout",
          "text": [
            "[05:00:24] WARNING: /workspace/src/objective/regression_obj.cu:152: reg:linear is now deprecated in favor of reg:squarederror.\n"
          ]
        },
        {
          "output_type": "stream",
          "name": "stderr",
          "text": [
            "\u001b[32m[I 2021-12-03 05:00:46,082]\u001b[0m Trial 28 finished with value: 1.218132860176421 and parameters: {'lambda': 2.9884339645421836, 'alpha': 0.23194945449182175, 'colsample_bytree': 0.6, 'subsample': 0.6, 'learning_rate': 0.01, 'max_depth': 20, 'random_state': 48, 'min_child_weight': 45}. Best is trial 5 with value: 1.1945272413921322.\u001b[0m\n"
          ]
        },
        {
          "output_type": "stream",
          "name": "stdout",
          "text": [
            "[05:00:46] WARNING: /workspace/src/objective/regression_obj.cu:152: reg:linear is now deprecated in favor of reg:squarederror.\n"
          ]
        },
        {
          "output_type": "stream",
          "name": "stderr",
          "text": [
            "\u001b[32m[I 2021-12-03 05:01:05,140]\u001b[0m Trial 29 finished with value: 1.282418025297389 and parameters: {'lambda': 4.104040910882543, 'alpha': 0.00538605565400717, 'colsample_bytree': 1.0, 'subsample': 0.4, 'learning_rate': 0.012, 'max_depth': 7, 'random_state': 2020, 'min_child_weight': 121}. Best is trial 5 with value: 1.1945272413921322.\u001b[0m\n"
          ]
        },
        {
          "output_type": "stream",
          "name": "stdout",
          "text": [
            "[05:01:05] WARNING: /workspace/src/objective/regression_obj.cu:152: reg:linear is now deprecated in favor of reg:squarederror.\n"
          ]
        },
        {
          "output_type": "stream",
          "name": "stderr",
          "text": [
            "\u001b[32m[I 2021-12-03 05:01:18,585]\u001b[0m Trial 30 finished with value: 1.2172756362171513 and parameters: {'lambda': 0.9092446228706632, 'alpha': 0.39062728440593336, 'colsample_bytree': 0.9, 'subsample': 1.0, 'learning_rate': 0.02, 'max_depth': 15, 'random_state': 24, 'min_child_weight': 93}. Best is trial 5 with value: 1.1945272413921322.\u001b[0m\n"
          ]
        },
        {
          "output_type": "stream",
          "name": "stdout",
          "text": [
            "[05:01:18] WARNING: /workspace/src/objective/regression_obj.cu:152: reg:linear is now deprecated in favor of reg:squarederror.\n"
          ]
        },
        {
          "output_type": "stream",
          "name": "stderr",
          "text": [
            "\u001b[32m[I 2021-12-03 05:01:37,161]\u001b[0m Trial 31 finished with value: 1.1989685092868234 and parameters: {'lambda': 0.03209184768189384, 'alpha': 0.06150283942445019, 'colsample_bytree': 0.7, 'subsample': 1.0, 'learning_rate': 0.01, 'max_depth': 7, 'random_state': 2020, 'min_child_weight': 25}. Best is trial 5 with value: 1.1945272413921322.\u001b[0m\n"
          ]
        },
        {
          "output_type": "stream",
          "name": "stdout",
          "text": [
            "[05:01:37] WARNING: /workspace/src/objective/regression_obj.cu:152: reg:linear is now deprecated in favor of reg:squarederror.\n"
          ]
        },
        {
          "output_type": "stream",
          "name": "stderr",
          "text": [
            "\u001b[32m[I 2021-12-03 05:01:55,651]\u001b[0m Trial 32 finished with value: 1.1923833634141954 and parameters: {'lambda': 0.02010963130741836, 'alpha': 0.05964163401883547, 'colsample_bytree': 0.7, 'subsample': 1.0, 'learning_rate': 0.014, 'max_depth': 7, 'random_state': 2020, 'min_child_weight': 31}. Best is trial 32 with value: 1.1923833634141954.\u001b[0m\n"
          ]
        },
        {
          "output_type": "stream",
          "name": "stdout",
          "text": [
            "[05:01:55] WARNING: /workspace/src/objective/regression_obj.cu:152: reg:linear is now deprecated in favor of reg:squarederror.\n"
          ]
        },
        {
          "output_type": "stream",
          "name": "stderr",
          "text": [
            "\u001b[32m[I 2021-12-03 05:02:09,327]\u001b[0m Trial 33 finished with value: 1.2036960078982093 and parameters: {'lambda': 0.019698868179490302, 'alpha': 0.12332878044087336, 'colsample_bytree': 0.4, 'subsample': 1.0, 'learning_rate': 0.014, 'max_depth': 7, 'random_state': 2020, 'min_child_weight': 57}. Best is trial 32 with value: 1.1923833634141954.\u001b[0m\n"
          ]
        },
        {
          "output_type": "stream",
          "name": "stdout",
          "text": [
            "[05:02:09] WARNING: /workspace/src/objective/regression_obj.cu:152: reg:linear is now deprecated in favor of reg:squarederror.\n"
          ]
        },
        {
          "output_type": "stream",
          "name": "stderr",
          "text": [
            "\u001b[32m[I 2021-12-03 05:02:22,484]\u001b[0m Trial 34 finished with value: 1.2335996340300261 and parameters: {'lambda': 0.005942489965486883, 'alpha': 0.019329282551398576, 'colsample_bytree': 0.7, 'subsample': 0.6, 'learning_rate': 0.014, 'max_depth': 11, 'random_state': 2020, 'min_child_weight': 80}. Best is trial 32 with value: 1.1923833634141954.\u001b[0m\n"
          ]
        },
        {
          "output_type": "stream",
          "name": "stdout",
          "text": [
            "[05:02:22] WARNING: /workspace/src/objective/regression_obj.cu:152: reg:linear is now deprecated in favor of reg:squarederror.\n"
          ]
        },
        {
          "output_type": "stream",
          "name": "stderr",
          "text": [
            "\u001b[32m[I 2021-12-03 05:02:37,077]\u001b[0m Trial 35 finished with value: 1.198493526349204 and parameters: {'lambda': 0.006896329820897204, 'alpha': 0.03283223079196523, 'colsample_bytree': 0.7, 'subsample': 1.0, 'learning_rate': 0.014, 'max_depth': 7, 'random_state': 2020, 'min_child_weight': 18}. Best is trial 32 with value: 1.1923833634141954.\u001b[0m\n"
          ]
        },
        {
          "output_type": "stream",
          "name": "stdout",
          "text": [
            "[05:02:37] WARNING: /workspace/src/objective/regression_obj.cu:152: reg:linear is now deprecated in favor of reg:squarederror.\n"
          ]
        },
        {
          "output_type": "stream",
          "name": "stderr",
          "text": [
            "\u001b[32m[I 2021-12-03 05:02:49,275]\u001b[0m Trial 36 finished with value: 1.2435736763794416 and parameters: {'lambda': 0.20105959077034585, 'alpha': 0.03716954001941532, 'colsample_bytree': 0.7, 'subsample': 0.4, 'learning_rate': 0.014, 'max_depth': 7, 'random_state': 2020, 'min_child_weight': 40}. Best is trial 32 with value: 1.1923833634141954.\u001b[0m\n"
          ]
        },
        {
          "output_type": "stream",
          "name": "stdout",
          "text": [
            "[05:02:49] WARNING: /workspace/src/objective/regression_obj.cu:152: reg:linear is now deprecated in favor of reg:squarederror.\n"
          ]
        },
        {
          "output_type": "stream",
          "name": "stderr",
          "text": [
            "\u001b[32m[I 2021-12-03 05:03:12,210]\u001b[0m Trial 37 finished with value: 1.2437164204698852 and parameters: {'lambda': 0.0018514613121728616, 'alpha': 0.08855993458923521, 'colsample_bytree': 0.7, 'subsample': 0.8, 'learning_rate': 0.014, 'max_depth': 7, 'random_state': 2020, 'min_child_weight': 158}. Best is trial 32 with value: 1.1923833634141954.\u001b[0m\n"
          ]
        },
        {
          "output_type": "stream",
          "name": "stdout",
          "text": [
            "[05:03:12] WARNING: /workspace/src/objective/regression_obj.cu:152: reg:linear is now deprecated in favor of reg:squarederror.\n"
          ]
        },
        {
          "output_type": "stream",
          "name": "stderr",
          "text": [
            "\u001b[32m[I 2021-12-03 05:03:28,439]\u001b[0m Trial 38 finished with value: 1.189512072590879 and parameters: {'lambda': 0.02408193403779396, 'alpha': 0.009074187206470085, 'colsample_bytree': 0.4, 'subsample': 1.0, 'learning_rate': 0.014, 'max_depth': 7, 'random_state': 2020, 'min_child_weight': 19}. Best is trial 38 with value: 1.189512072590879.\u001b[0m\n"
          ]
        },
        {
          "output_type": "stream",
          "name": "stdout",
          "text": [
            "[05:03:28] WARNING: /workspace/src/objective/regression_obj.cu:152: reg:linear is now deprecated in favor of reg:squarederror.\n"
          ]
        },
        {
          "output_type": "stream",
          "name": "stderr",
          "text": [
            "\u001b[32m[I 2021-12-03 05:03:39,177]\u001b[0m Trial 39 finished with value: 1.2202775854779015 and parameters: {'lambda': 0.020831842481598084, 'alpha': 0.003263549636222248, 'colsample_bytree': 0.4, 'subsample': 0.7, 'learning_rate': 0.016, 'max_depth': 5, 'random_state': 2020, 'min_child_weight': 60}. Best is trial 38 with value: 1.189512072590879.\u001b[0m\n"
          ]
        },
        {
          "output_type": "stream",
          "name": "stdout",
          "text": [
            "[05:03:39] WARNING: /workspace/src/objective/regression_obj.cu:152: reg:linear is now deprecated in favor of reg:squarederror.\n"
          ]
        },
        {
          "output_type": "stream",
          "name": "stderr",
          "text": [
            "\u001b[32m[I 2021-12-03 05:04:00,386]\u001b[0m Trial 40 finished with value: 1.2202956068013704 and parameters: {'lambda': 0.079779808821487, 'alpha': 0.009835658284986889, 'colsample_bytree': 0.4, 'subsample': 0.6, 'learning_rate': 0.009, 'max_depth': 13, 'random_state': 2020, 'min_child_weight': 33}. Best is trial 38 with value: 1.189512072590879.\u001b[0m\n"
          ]
        },
        {
          "output_type": "stream",
          "name": "stdout",
          "text": [
            "[05:04:00] WARNING: /workspace/src/objective/regression_obj.cu:152: reg:linear is now deprecated in favor of reg:squarederror.\n"
          ]
        },
        {
          "output_type": "stream",
          "name": "stderr",
          "text": [
            "\u001b[32m[I 2021-12-03 05:04:16,645]\u001b[0m Trial 41 finished with value: 1.189512072590879 and parameters: {'lambda': 0.008770900855568647, 'alpha': 0.00850756679199725, 'colsample_bytree': 0.4, 'subsample': 1.0, 'learning_rate': 0.014, 'max_depth': 7, 'random_state': 2020, 'min_child_weight': 19}. Best is trial 38 with value: 1.189512072590879.\u001b[0m\n"
          ]
        },
        {
          "output_type": "stream",
          "name": "stdout",
          "text": [
            "[05:04:16] WARNING: /workspace/src/objective/regression_obj.cu:152: reg:linear is now deprecated in favor of reg:squarederror.\n"
          ]
        },
        {
          "output_type": "stream",
          "name": "stderr",
          "text": [
            "\u001b[32m[I 2021-12-03 05:04:29,352]\u001b[0m Trial 42 finished with value: 1.1898521089130165 and parameters: {'lambda': 0.3787994725374828, 'alpha': 0.00963294724444123, 'colsample_bytree': 0.4, 'subsample': 1.0, 'learning_rate': 0.014, 'max_depth': 7, 'random_state': 2020, 'min_child_weight': 15}. Best is trial 38 with value: 1.189512072590879.\u001b[0m\n"
          ]
        },
        {
          "output_type": "stream",
          "name": "stdout",
          "text": [
            "[05:04:29] WARNING: /workspace/src/objective/regression_obj.cu:152: reg:linear is now deprecated in favor of reg:squarederror.\n"
          ]
        },
        {
          "output_type": "stream",
          "name": "stderr",
          "text": [
            "\u001b[32m[I 2021-12-03 05:04:40,623]\u001b[0m Trial 43 finished with value: 1.183084765002578 and parameters: {'lambda': 0.44789466560214525, 'alpha': 0.0013906912653865316, 'colsample_bytree': 0.4, 'subsample': 1.0, 'learning_rate': 0.014, 'max_depth': 7, 'random_state': 2020, 'min_child_weight': 10}. Best is trial 43 with value: 1.183084765002578.\u001b[0m\n"
          ]
        },
        {
          "output_type": "stream",
          "name": "stdout",
          "text": [
            "[05:04:40] WARNING: /workspace/src/objective/regression_obj.cu:152: reg:linear is now deprecated in favor of reg:squarederror.\n"
          ]
        },
        {
          "output_type": "stream",
          "name": "stderr",
          "text": [
            "\u001b[32m[I 2021-12-03 05:04:52,053]\u001b[0m Trial 44 finished with value: 1.183386043959159 and parameters: {'lambda': 0.4501120083615014, 'alpha': 0.0010868006753610845, 'colsample_bytree': 0.4, 'subsample': 1.0, 'learning_rate': 0.014, 'max_depth': 7, 'random_state': 2020, 'min_child_weight': 13}. Best is trial 43 with value: 1.183084765002578.\u001b[0m\n"
          ]
        },
        {
          "output_type": "stream",
          "name": "stdout",
          "text": [
            "[05:04:52] WARNING: /workspace/src/objective/regression_obj.cu:152: reg:linear is now deprecated in favor of reg:squarederror.\n"
          ]
        },
        {
          "output_type": "stream",
          "name": "stderr",
          "text": [
            "\u001b[32m[I 2021-12-03 05:05:04,876]\u001b[0m Trial 45 finished with value: 1.1898521089130165 and parameters: {'lambda': 0.4499865512340657, 'alpha': 0.001826464874830541, 'colsample_bytree': 0.4, 'subsample': 1.0, 'learning_rate': 0.014, 'max_depth': 7, 'random_state': 2020, 'min_child_weight': 15}. Best is trial 43 with value: 1.183084765002578.\u001b[0m\n"
          ]
        },
        {
          "output_type": "stream",
          "name": "stdout",
          "text": [
            "[05:05:04] WARNING: /workspace/src/objective/regression_obj.cu:152: reg:linear is now deprecated in favor of reg:squarederror.\n"
          ]
        },
        {
          "output_type": "stream",
          "name": "stderr",
          "text": [
            "\u001b[32m[I 2021-12-03 05:05:18,538]\u001b[0m Trial 46 finished with value: 1.2162595786001236 and parameters: {'lambda': 0.5378812982539222, 'alpha': 0.0015793898336279807, 'colsample_bytree': 0.4, 'subsample': 0.5, 'learning_rate': 0.014, 'max_depth': 7, 'random_state': 2020, 'min_child_weight': 11}. Best is trial 43 with value: 1.183084765002578.\u001b[0m\n"
          ]
        },
        {
          "output_type": "stream",
          "name": "stdout",
          "text": [
            "[05:05:18] WARNING: /workspace/src/objective/regression_obj.cu:152: reg:linear is now deprecated in favor of reg:squarederror.\n"
          ]
        },
        {
          "output_type": "stream",
          "name": "stderr",
          "text": [
            "\u001b[32m[I 2021-12-03 05:05:34,955]\u001b[0m Trial 47 finished with value: 1.3231674417103574 and parameters: {'lambda': 0.3131872806152908, 'alpha': 0.0033138374971395986, 'colsample_bytree': 0.4, 'subsample': 0.4, 'learning_rate': 0.014, 'max_depth': 7, 'random_state': 2020, 'min_child_weight': 226}. Best is trial 43 with value: 1.183084765002578.\u001b[0m\n"
          ]
        },
        {
          "output_type": "stream",
          "name": "stdout",
          "text": [
            "[05:05:34] WARNING: /workspace/src/objective/regression_obj.cu:152: reg:linear is now deprecated in favor of reg:squarederror.\n"
          ]
        },
        {
          "output_type": "stream",
          "name": "stderr",
          "text": [
            "\u001b[32m[I 2021-12-03 05:05:56,205]\u001b[0m Trial 48 finished with value: 1.2592326005703338 and parameters: {'lambda': 0.12027954163155324, 'alpha': 0.001330682918788759, 'colsample_bytree': 0.4, 'subsample': 1.0, 'learning_rate': 0.014, 'max_depth': 7, 'random_state': 2020, 'min_child_weight': 272}. Best is trial 43 with value: 1.183084765002578.\u001b[0m\n"
          ]
        },
        {
          "output_type": "stream",
          "name": "stdout",
          "text": [
            "[05:05:56] WARNING: /workspace/src/objective/regression_obj.cu:152: reg:linear is now deprecated in favor of reg:squarederror.\n"
          ]
        },
        {
          "output_type": "stream",
          "name": "stderr",
          "text": [
            "\u001b[32m[I 2021-12-03 05:06:10,198]\u001b[0m Trial 49 finished with value: 1.2085356621753574 and parameters: {'lambda': 0.8158889198742864, 'alpha': 0.002317912166584738, 'colsample_bytree': 0.4, 'subsample': 0.8, 'learning_rate': 0.014, 'max_depth': 7, 'random_state': 2020, 'min_child_weight': 1}. Best is trial 43 with value: 1.183084765002578.\u001b[0m\n"
          ]
        },
        {
          "output_type": "stream",
          "name": "stdout",
          "text": [
            "[05:06:10] WARNING: /workspace/src/objective/regression_obj.cu:152: reg:linear is now deprecated in favor of reg:squarederror.\n"
          ]
        },
        {
          "output_type": "stream",
          "name": "stderr",
          "text": [
            "\u001b[32m[I 2021-12-03 05:06:23,039]\u001b[0m Trial 50 finished with value: 1.192631973112678 and parameters: {'lambda': 0.19962654792087933, 'alpha': 0.0010780664571794665, 'colsample_bytree': 0.4, 'subsample': 1.0, 'learning_rate': 0.014, 'max_depth': 11, 'random_state': 2020, 'min_child_weight': 14}. Best is trial 43 with value: 1.183084765002578.\u001b[0m\n"
          ]
        },
        {
          "output_type": "stream",
          "name": "stdout",
          "text": [
            "[05:06:23] WARNING: /workspace/src/objective/regression_obj.cu:152: reg:linear is now deprecated in favor of reg:squarederror.\n"
          ]
        },
        {
          "output_type": "stream",
          "name": "stderr",
          "text": [
            "\u001b[32m[I 2021-12-03 05:06:34,382]\u001b[0m Trial 51 finished with value: 1.1916991475682304 and parameters: {'lambda': 0.45084331541629397, 'alpha': 0.00915931817693552, 'colsample_bytree': 0.4, 'subsample': 1.0, 'learning_rate': 0.014, 'max_depth': 7, 'random_state': 2020, 'min_child_weight': 20}. Best is trial 43 with value: 1.183084765002578.\u001b[0m\n"
          ]
        },
        {
          "output_type": "stream",
          "name": "stdout",
          "text": [
            "[05:06:34] WARNING: /workspace/src/objective/regression_obj.cu:152: reg:linear is now deprecated in favor of reg:squarederror.\n"
          ]
        },
        {
          "output_type": "stream",
          "name": "stderr",
          "text": [
            "\u001b[32m[I 2021-12-03 05:06:46,716]\u001b[0m Trial 52 finished with value: 1.1885163849863887 and parameters: {'lambda': 0.47058427595396596, 'alpha': 0.004395749214819947, 'colsample_bytree': 0.4, 'subsample': 1.0, 'learning_rate': 0.014, 'max_depth': 7, 'random_state': 2020, 'min_child_weight': 16}. Best is trial 43 with value: 1.183084765002578.\u001b[0m\n"
          ]
        },
        {
          "output_type": "stream",
          "name": "stdout",
          "text": [
            "[05:06:46] WARNING: /workspace/src/objective/regression_obj.cu:152: reg:linear is now deprecated in favor of reg:squarederror.\n"
          ]
        },
        {
          "output_type": "stream",
          "name": "stderr",
          "text": [
            "\u001b[32m[I 2021-12-03 05:06:56,812]\u001b[0m Trial 53 finished with value: 1.1943312759034919 and parameters: {'lambda': 0.6846097796612695, 'alpha': 0.0024338294614950095, 'colsample_bytree': 0.4, 'subsample': 1.0, 'learning_rate': 0.014, 'max_depth': 7, 'random_state': 2020, 'min_child_weight': 37}. Best is trial 43 with value: 1.183084765002578.\u001b[0m\n"
          ]
        },
        {
          "output_type": "stream",
          "name": "stdout",
          "text": [
            "[05:06:56] WARNING: /workspace/src/objective/regression_obj.cu:152: reg:linear is now deprecated in favor of reg:squarederror.\n"
          ]
        },
        {
          "output_type": "stream",
          "name": "stderr",
          "text": [
            "\u001b[32m[I 2021-12-03 05:07:23,672]\u001b[0m Trial 54 finished with value: 1.195016891289029 and parameters: {'lambda': 0.009600648384761518, 'alpha': 0.00456864068745896, 'colsample_bytree': 0.4, 'subsample': 1.0, 'learning_rate': 0.008, 'max_depth': 17, 'random_state': 2020, 'min_child_weight': 54}. Best is trial 43 with value: 1.183084765002578.\u001b[0m\n"
          ]
        },
        {
          "output_type": "stream",
          "name": "stdout",
          "text": [
            "[05:07:23] WARNING: /workspace/src/objective/regression_obj.cu:152: reg:linear is now deprecated in favor of reg:squarederror.\n"
          ]
        },
        {
          "output_type": "stream",
          "name": "stderr",
          "text": [
            "\u001b[32m[I 2021-12-03 05:07:33,483]\u001b[0m Trial 55 finished with value: 1.186392249598807 and parameters: {'lambda': 0.2652676195571414, 'alpha': 0.007812729743256006, 'colsample_bytree': 0.4, 'subsample': 1.0, 'learning_rate': 0.018, 'max_depth': 9, 'random_state': 2020, 'min_child_weight': 11}. Best is trial 43 with value: 1.183084765002578.\u001b[0m\n"
          ]
        },
        {
          "output_type": "stream",
          "name": "stdout",
          "text": [
            "[05:07:33] WARNING: /workspace/src/objective/regression_obj.cu:152: reg:linear is now deprecated in favor of reg:squarederror.\n"
          ]
        },
        {
          "output_type": "stream",
          "name": "stderr",
          "text": [
            "\u001b[32m[I 2021-12-03 05:07:44,023]\u001b[0m Trial 56 finished with value: 1.210706703404184 and parameters: {'lambda': 0.2746419351204051, 'alpha': 0.007441739049198115, 'colsample_bytree': 0.3, 'subsample': 1.0, 'learning_rate': 0.018, 'max_depth': 9, 'random_state': 2020, 'min_child_weight': 71}. Best is trial 43 with value: 1.183084765002578.\u001b[0m\n"
          ]
        },
        {
          "output_type": "stream",
          "name": "stdout",
          "text": [
            "[05:07:44] WARNING: /workspace/src/objective/regression_obj.cu:152: reg:linear is now deprecated in favor of reg:squarederror.\n"
          ]
        },
        {
          "output_type": "stream",
          "name": "stderr",
          "text": [
            "\u001b[32m[I 2021-12-03 05:07:55,399]\u001b[0m Trial 57 finished with value: 1.188638978159397 and parameters: {'lambda': 0.1464659324309493, 'alpha': 0.004073766696224738, 'colsample_bytree': 0.5, 'subsample': 1.0, 'learning_rate': 0.018, 'max_depth': 9, 'random_state': 2020, 'min_child_weight': 28}. Best is trial 43 with value: 1.183084765002578.\u001b[0m\n"
          ]
        },
        {
          "output_type": "stream",
          "name": "stdout",
          "text": [
            "[05:07:55] WARNING: /workspace/src/objective/regression_obj.cu:152: reg:linear is now deprecated in favor of reg:squarederror.\n"
          ]
        },
        {
          "output_type": "stream",
          "name": "stderr",
          "text": [
            "\u001b[32m[I 2021-12-03 05:08:05,357]\u001b[0m Trial 58 finished with value: 1.2106985658384315 and parameters: {'lambda': 0.13740296317423084, 'alpha': 0.003741549419584449, 'colsample_bytree': 0.5, 'subsample': 0.7, 'learning_rate': 0.018, 'max_depth': 9, 'random_state': 2020, 'min_child_weight': 28}. Best is trial 43 with value: 1.183084765002578.\u001b[0m\n"
          ]
        },
        {
          "output_type": "stream",
          "name": "stdout",
          "text": [
            "[05:08:05] WARNING: /workspace/src/objective/regression_obj.cu:152: reg:linear is now deprecated in favor of reg:squarederror.\n"
          ]
        },
        {
          "output_type": "stream",
          "name": "stderr",
          "text": [
            "\u001b[32m[I 2021-12-03 05:08:15,957]\u001b[0m Trial 59 finished with value: 1.1846810693684295 and parameters: {'lambda': 1.1808563399143324, 'alpha': 0.0010657623880014188, 'colsample_bytree': 0.5, 'subsample': 1.0, 'learning_rate': 0.018, 'max_depth': 9, 'random_state': 2020, 'min_child_weight': 8}. Best is trial 43 with value: 1.183084765002578.\u001b[0m\n"
          ]
        },
        {
          "output_type": "stream",
          "name": "stdout",
          "text": [
            "[05:08:15] WARNING: /workspace/src/objective/regression_obj.cu:152: reg:linear is now deprecated in favor of reg:squarederror.\n"
          ]
        },
        {
          "output_type": "stream",
          "name": "stderr",
          "text": [
            "\u001b[32m[I 2021-12-03 05:08:27,647]\u001b[0m Trial 60 finished with value: 1.2154028198896243 and parameters: {'lambda': 1.181768107217813, 'alpha': 0.0010810969174465642, 'colsample_bytree': 0.5, 'subsample': 0.5, 'learning_rate': 0.018, 'max_depth': 9, 'random_state': 2020, 'min_child_weight': 5}. Best is trial 43 with value: 1.183084765002578.\u001b[0m\n"
          ]
        },
        {
          "output_type": "stream",
          "name": "stdout",
          "text": [
            "[05:08:27] WARNING: /workspace/src/objective/regression_obj.cu:152: reg:linear is now deprecated in favor of reg:squarederror.\n"
          ]
        },
        {
          "output_type": "stream",
          "name": "stderr",
          "text": [
            "\u001b[32m[I 2021-12-03 05:08:41,110]\u001b[0m Trial 61 finished with value: 1.1858153568617373 and parameters: {'lambda': 0.25499999842518495, 'alpha': 0.0019082935306967736, 'colsample_bytree': 0.5, 'subsample': 1.0, 'learning_rate': 0.018, 'max_depth': 9, 'random_state': 2020, 'min_child_weight': 40}. Best is trial 43 with value: 1.183084765002578.\u001b[0m\n"
          ]
        },
        {
          "output_type": "stream",
          "name": "stdout",
          "text": [
            "[05:08:41] WARNING: /workspace/src/objective/regression_obj.cu:152: reg:linear is now deprecated in favor of reg:squarederror.\n"
          ]
        },
        {
          "output_type": "stream",
          "name": "stderr",
          "text": [
            "\u001b[32m[I 2021-12-03 05:08:56,405]\u001b[0m Trial 62 finished with value: 1.1896203600388993 and parameters: {'lambda': 0.2373358974397134, 'alpha': 0.002151859365011939, 'colsample_bytree': 0.5, 'subsample': 1.0, 'learning_rate': 0.018, 'max_depth': 9, 'random_state': 2020, 'min_child_weight': 43}. Best is trial 43 with value: 1.183084765002578.\u001b[0m\n"
          ]
        },
        {
          "output_type": "stream",
          "name": "stdout",
          "text": [
            "[05:08:56] WARNING: /workspace/src/objective/regression_obj.cu:152: reg:linear is now deprecated in favor of reg:squarederror.\n"
          ]
        },
        {
          "output_type": "stream",
          "name": "stderr",
          "text": [
            "\u001b[32m[I 2021-12-03 05:09:05,252]\u001b[0m Trial 63 finished with value: 1.1819705125825097 and parameters: {'lambda': 0.6106899368498404, 'alpha': 0.001558377624059179, 'colsample_bytree': 0.5, 'subsample': 1.0, 'learning_rate': 0.018, 'max_depth': 9, 'random_state': 2020, 'min_child_weight': 10}. Best is trial 63 with value: 1.1819705125825097.\u001b[0m\n"
          ]
        },
        {
          "output_type": "stream",
          "name": "stdout",
          "text": [
            "[05:09:05] WARNING: /workspace/src/objective/regression_obj.cu:152: reg:linear is now deprecated in favor of reg:squarederror.\n"
          ]
        },
        {
          "output_type": "stream",
          "name": "stderr",
          "text": [
            "\u001b[32m[I 2021-12-03 05:09:14,776]\u001b[0m Trial 64 finished with value: 1.1881866889035817 and parameters: {'lambda': 1.9680790827995482, 'alpha': 0.001394221585414367, 'colsample_bytree': 0.5, 'subsample': 1.0, 'learning_rate': 0.018, 'max_depth': 9, 'random_state': 2020, 'min_child_weight': 7}. Best is trial 63 with value: 1.1819705125825097.\u001b[0m\n"
          ]
        },
        {
          "output_type": "stream",
          "name": "stdout",
          "text": [
            "[05:09:14] WARNING: /workspace/src/objective/regression_obj.cu:152: reg:linear is now deprecated in favor of reg:squarederror.\n"
          ]
        },
        {
          "output_type": "stream",
          "name": "stderr",
          "text": [
            "\u001b[32m[I 2021-12-03 05:09:33,130]\u001b[0m Trial 65 finished with value: 1.2107714945529722 and parameters: {'lambda': 1.7777205327095662, 'alpha': 0.0014368334218120265, 'colsample_bytree': 0.5, 'subsample': 1.0, 'learning_rate': 0.018, 'max_depth': 9, 'random_state': 2020, 'min_child_weight': 1}. Best is trial 63 with value: 1.1819705125825097.\u001b[0m\n"
          ]
        },
        {
          "output_type": "stream",
          "name": "stdout",
          "text": [
            "[05:09:33] WARNING: /workspace/src/objective/regression_obj.cu:152: reg:linear is now deprecated in favor of reg:squarederror.\n"
          ]
        },
        {
          "output_type": "stream",
          "name": "stderr",
          "text": [
            "\u001b[32m[I 2021-12-03 05:09:42,013]\u001b[0m Trial 66 finished with value: 1.1819705125825097 and parameters: {'lambda': 2.715356006102565, 'alpha': 0.0011024120633562813, 'colsample_bytree': 0.5, 'subsample': 1.0, 'learning_rate': 0.018, 'max_depth': 9, 'random_state': 2020, 'min_child_weight': 10}. Best is trial 63 with value: 1.1819705125825097.\u001b[0m\n"
          ]
        },
        {
          "output_type": "stream",
          "name": "stdout",
          "text": [
            "[05:09:42] WARNING: /workspace/src/objective/regression_obj.cu:152: reg:linear is now deprecated in favor of reg:squarederror.\n"
          ]
        },
        {
          "output_type": "stream",
          "name": "stderr",
          "text": [
            "\u001b[32m[I 2021-12-03 05:09:52,157]\u001b[0m Trial 67 finished with value: 1.1896798789860668 and parameters: {'lambda': 2.721346980748161, 'alpha': 0.0010104818256536684, 'colsample_bytree': 0.5, 'subsample': 1.0, 'learning_rate': 0.018, 'max_depth': 9, 'random_state': 2020, 'min_child_weight': 37}. Best is trial 63 with value: 1.1819705125825097.\u001b[0m\n"
          ]
        },
        {
          "output_type": "stream",
          "name": "stdout",
          "text": [
            "[05:09:52] WARNING: /workspace/src/objective/regression_obj.cu:152: reg:linear is now deprecated in favor of reg:squarederror.\n"
          ]
        },
        {
          "output_type": "stream",
          "name": "stderr",
          "text": [
            "\u001b[32m[I 2021-12-03 05:10:01,444]\u001b[0m Trial 68 finished with value: 1.207140308450021 and parameters: {'lambda': 1.3006936488085805, 'alpha': 0.002649930914772159, 'colsample_bytree': 0.5, 'subsample': 0.8, 'learning_rate': 0.018, 'max_depth': 9, 'random_state': 2020, 'min_child_weight': 29}. Best is trial 63 with value: 1.1819705125825097.\u001b[0m\n"
          ]
        },
        {
          "output_type": "stream",
          "name": "stdout",
          "text": [
            "[05:10:01] WARNING: /workspace/src/objective/regression_obj.cu:152: reg:linear is now deprecated in favor of reg:squarederror.\n"
          ]
        },
        {
          "output_type": "stream",
          "name": "stderr",
          "text": [
            "\u001b[32m[I 2021-12-03 05:10:12,537]\u001b[0m Trial 69 finished with value: 1.2259801834593522 and parameters: {'lambda': 8.198838807439278, 'alpha': 0.0018532679367683298, 'colsample_bytree': 0.5, 'subsample': 0.6, 'learning_rate': 0.018, 'max_depth': 9, 'random_state': 2020, 'min_child_weight': 47}. Best is trial 63 with value: 1.1819705125825097.\u001b[0m\n"
          ]
        },
        {
          "output_type": "stream",
          "name": "stdout",
          "text": [
            "[05:10:12] WARNING: /workspace/src/objective/regression_obj.cu:152: reg:linear is now deprecated in favor of reg:squarederror.\n"
          ]
        },
        {
          "output_type": "stream",
          "name": "stderr",
          "text": [
            "\u001b[32m[I 2021-12-03 05:10:25,976]\u001b[0m Trial 70 finished with value: 1.194452867547689 and parameters: {'lambda': 0.6870290972874156, 'alpha': 0.00272741969078762, 'colsample_bytree': 1.0, 'subsample': 1.0, 'learning_rate': 0.018, 'max_depth': 9, 'random_state': 2020, 'min_child_weight': 9}. Best is trial 63 with value: 1.1819705125825097.\u001b[0m\n"
          ]
        },
        {
          "output_type": "stream",
          "name": "stdout",
          "text": [
            "[05:10:25] WARNING: /workspace/src/objective/regression_obj.cu:152: reg:linear is now deprecated in favor of reg:squarederror.\n"
          ]
        },
        {
          "output_type": "stream",
          "name": "stderr",
          "text": [
            "\u001b[32m[I 2021-12-03 05:10:34,887]\u001b[0m Trial 71 finished with value: 1.1819705125825097 and parameters: {'lambda': 5.393199435256156, 'alpha': 0.001341115929489642, 'colsample_bytree': 0.5, 'subsample': 1.0, 'learning_rate': 0.018, 'max_depth': 9, 'random_state': 2020, 'min_child_weight': 10}. Best is trial 63 with value: 1.1819705125825097.\u001b[0m\n"
          ]
        },
        {
          "output_type": "stream",
          "name": "stdout",
          "text": [
            "[05:10:34] WARNING: /workspace/src/objective/regression_obj.cu:152: reg:linear is now deprecated in favor of reg:squarederror.\n"
          ]
        },
        {
          "output_type": "stream",
          "name": "stderr",
          "text": [
            "\u001b[32m[I 2021-12-03 05:10:45,535]\u001b[0m Trial 72 finished with value: 1.1846810693684295 and parameters: {'lambda': 4.648136248249549, 'alpha': 0.0013176738964404257, 'colsample_bytree': 0.5, 'subsample': 1.0, 'learning_rate': 0.018, 'max_depth': 9, 'random_state': 2020, 'min_child_weight': 8}. Best is trial 63 with value: 1.1819705125825097.\u001b[0m\n"
          ]
        },
        {
          "output_type": "stream",
          "name": "stdout",
          "text": [
            "[05:10:45] WARNING: /workspace/src/objective/regression_obj.cu:152: reg:linear is now deprecated in favor of reg:squarederror.\n"
          ]
        },
        {
          "output_type": "stream",
          "name": "stderr",
          "text": [
            "\u001b[32m[I 2021-12-03 05:10:56,583]\u001b[0m Trial 73 finished with value: 1.1851879922335757 and parameters: {'lambda': 5.471883840823751, 'alpha': 0.0018054293336394523, 'colsample_bytree': 0.5, 'subsample': 1.0, 'learning_rate': 0.018, 'max_depth': 9, 'random_state': 2020, 'min_child_weight': 24}. Best is trial 63 with value: 1.1819705125825097.\u001b[0m\n"
          ]
        },
        {
          "output_type": "stream",
          "name": "stdout",
          "text": [
            "[05:10:56] WARNING: /workspace/src/objective/regression_obj.cu:152: reg:linear is now deprecated in favor of reg:squarederror.\n"
          ]
        },
        {
          "output_type": "stream",
          "name": "stderr",
          "text": [
            "\u001b[32m[I 2021-12-03 05:11:10,103]\u001b[0m Trial 74 finished with value: 1.229763864305901 and parameters: {'lambda': 5.260852790681832, 'alpha': 0.0012955654756907676, 'colsample_bytree': 0.5, 'subsample': 0.4, 'learning_rate': 0.012, 'max_depth': 13, 'random_state': 2020, 'min_child_weight': 23}. Best is trial 63 with value: 1.1819705125825097.\u001b[0m\n"
          ]
        },
        {
          "output_type": "stream",
          "name": "stdout",
          "text": [
            "[05:11:10] WARNING: /workspace/src/objective/regression_obj.cu:152: reg:linear is now deprecated in favor of reg:squarederror.\n"
          ]
        },
        {
          "output_type": "stream",
          "name": "stderr",
          "text": [
            "\u001b[32m[I 2021-12-03 05:11:25,170]\u001b[0m Trial 75 finished with value: 1.1901621719780302 and parameters: {'lambda': 3.8979309867216214, 'alpha': 0.0010148056832466163, 'colsample_bytree': 0.5, 'subsample': 1.0, 'learning_rate': 0.018, 'max_depth': 5, 'random_state': 2020, 'min_child_weight': 1}. Best is trial 63 with value: 1.1819705125825097.\u001b[0m\n"
          ]
        },
        {
          "output_type": "stream",
          "name": "stdout",
          "text": [
            "[05:11:25] WARNING: /workspace/src/objective/regression_obj.cu:152: reg:linear is now deprecated in favor of reg:squarederror.\n"
          ]
        },
        {
          "output_type": "stream",
          "name": "stderr",
          "text": [
            "\u001b[32m[I 2021-12-03 05:11:46,377]\u001b[0m Trial 76 finished with value: 1.190930218627683 and parameters: {'lambda': 2.5602037578596772, 'alpha': 0.0015826473515432634, 'colsample_bytree': 0.5, 'subsample': 1.0, 'learning_rate': 0.009, 'max_depth': 9, 'random_state': 2020, 'min_child_weight': 25}. Best is trial 63 with value: 1.1819705125825097.\u001b[0m\n"
          ]
        },
        {
          "output_type": "stream",
          "name": "stdout",
          "text": [
            "[05:11:46] WARNING: /workspace/src/objective/regression_obj.cu:152: reg:linear is now deprecated in favor of reg:squarederror.\n"
          ]
        },
        {
          "output_type": "stream",
          "name": "stderr",
          "text": [
            "\u001b[32m[I 2021-12-03 05:11:55,740]\u001b[0m Trial 77 finished with value: 1.1874874562204945 and parameters: {'lambda': 6.527464075316631, 'alpha': 0.0029586375821031748, 'colsample_bytree': 0.5, 'subsample': 1.0, 'learning_rate': 0.02, 'max_depth': 9, 'random_state': 2020, 'min_child_weight': 9}. Best is trial 63 with value: 1.1819705125825097.\u001b[0m\n"
          ]
        },
        {
          "output_type": "stream",
          "name": "stdout",
          "text": [
            "[05:11:55] WARNING: /workspace/src/objective/regression_obj.cu:152: reg:linear is now deprecated in favor of reg:squarederror.\n"
          ]
        },
        {
          "output_type": "stream",
          "name": "stderr",
          "text": [
            "\u001b[32m[I 2021-12-03 05:12:10,406]\u001b[0m Trial 78 finished with value: 1.2075303590316637 and parameters: {'lambda': 3.970819384836671, 'alpha': 0.002165607924060481, 'colsample_bytree': 0.3, 'subsample': 1.0, 'learning_rate': 0.016, 'max_depth': 9, 'random_state': 24, 'min_child_weight': 63}. Best is trial 63 with value: 1.1819705125825097.\u001b[0m\n"
          ]
        },
        {
          "output_type": "stream",
          "name": "stdout",
          "text": [
            "[05:12:10] WARNING: /workspace/src/objective/regression_obj.cu:152: reg:linear is now deprecated in favor of reg:squarederror.\n"
          ]
        },
        {
          "output_type": "stream",
          "name": "stderr",
          "text": [
            "\u001b[32m[I 2021-12-03 05:12:25,190]\u001b[0m Trial 79 finished with value: 1.2184392530823123 and parameters: {'lambda': 5.899153368844804, 'alpha': 0.0013337933771175607, 'colsample_bytree': 0.5, 'subsample': 0.7, 'learning_rate': 0.018, 'max_depth': 17, 'random_state': 2020, 'min_child_weight': 53}. Best is trial 63 with value: 1.1819705125825097.\u001b[0m\n"
          ]
        },
        {
          "output_type": "stream",
          "name": "stdout",
          "text": [
            "[05:12:25] WARNING: /workspace/src/objective/regression_obj.cu:152: reg:linear is now deprecated in favor of reg:squarederror.\n"
          ]
        },
        {
          "output_type": "stream",
          "name": "stderr",
          "text": [
            "\u001b[32m[I 2021-12-03 05:12:35,739]\u001b[0m Trial 80 finished with value: 1.2215309497654279 and parameters: {'lambda': 8.011856875821088, 'alpha': 0.001765917626963288, 'colsample_bytree': 0.5, 'subsample': 0.5, 'learning_rate': 0.018, 'max_depth': 9, 'random_state': 48, 'min_child_weight': 31}. Best is trial 63 with value: 1.1819705125825097.\u001b[0m\n"
          ]
        },
        {
          "output_type": "stream",
          "name": "stdout",
          "text": [
            "[05:12:35] WARNING: /workspace/src/objective/regression_obj.cu:152: reg:linear is now deprecated in favor of reg:squarederror.\n"
          ]
        },
        {
          "output_type": "stream",
          "name": "stderr",
          "text": [
            "\u001b[32m[I 2021-12-03 05:12:49,076]\u001b[0m Trial 81 finished with value: 1.1858153568617373 and parameters: {'lambda': 3.3985706408746292, 'alpha': 0.0019688592012142192, 'colsample_bytree': 0.5, 'subsample': 1.0, 'learning_rate': 0.018, 'max_depth': 9, 'random_state': 2020, 'min_child_weight': 40}. Best is trial 63 with value: 1.1819705125825097.\u001b[0m\n"
          ]
        },
        {
          "output_type": "stream",
          "name": "stdout",
          "text": [
            "[05:12:49] WARNING: /workspace/src/objective/regression_obj.cu:152: reg:linear is now deprecated in favor of reg:squarederror.\n"
          ]
        },
        {
          "output_type": "stream",
          "name": "stderr",
          "text": [
            "\u001b[32m[I 2021-12-03 05:12:59,450]\u001b[0m Trial 82 finished with value: 1.189770189681735 and parameters: {'lambda': 3.2369910643139037, 'alpha': 0.0012322163891253764, 'colsample_bytree': 0.5, 'subsample': 1.0, 'learning_rate': 0.018, 'max_depth': 9, 'random_state': 2020, 'min_child_weight': 21}. Best is trial 63 with value: 1.1819705125825097.\u001b[0m\n"
          ]
        },
        {
          "output_type": "stream",
          "name": "stdout",
          "text": [
            "[05:12:59] WARNING: /workspace/src/objective/regression_obj.cu:152: reg:linear is now deprecated in favor of reg:squarederror.\n"
          ]
        },
        {
          "output_type": "stream",
          "name": "stderr",
          "text": [
            "\u001b[32m[I 2021-12-03 05:13:19,023]\u001b[0m Trial 83 finished with value: 1.187056125447929 and parameters: {'lambda': 4.787667051080915, 'alpha': 0.0017042641631402585, 'colsample_bytree': 0.5, 'subsample': 1.0, 'learning_rate': 0.008, 'max_depth': 9, 'random_state': 2020, 'min_child_weight': 8}. Best is trial 63 with value: 1.1819705125825097.\u001b[0m\n"
          ]
        },
        {
          "output_type": "stream",
          "name": "stdout",
          "text": [
            "[05:13:19] WARNING: /workspace/src/objective/regression_obj.cu:152: reg:linear is now deprecated in favor of reg:squarederror.\n"
          ]
        },
        {
          "output_type": "stream",
          "name": "stderr",
          "text": [
            "\u001b[32m[I 2021-12-03 05:13:28,588]\u001b[0m Trial 84 finished with value: 1.1850163132892935 and parameters: {'lambda': 9.929938997531204, 'alpha': 0.002293668148790606, 'colsample_bytree': 0.5, 'subsample': 1.0, 'learning_rate': 0.018, 'max_depth': 11, 'random_state': 2020, 'min_child_weight': 36}. Best is trial 63 with value: 1.1819705125825097.\u001b[0m\n"
          ]
        },
        {
          "output_type": "stream",
          "name": "stdout",
          "text": [
            "[05:13:28] WARNING: /workspace/src/objective/regression_obj.cu:152: reg:linear is now deprecated in favor of reg:squarederror.\n"
          ]
        },
        {
          "output_type": "stream",
          "name": "stderr",
          "text": [
            "\u001b[32m[I 2021-12-03 05:13:49,921]\u001b[0m Trial 85 finished with value: 1.230017531434058 and parameters: {'lambda': 1.5532080078158876, 'alpha': 0.005605937114904706, 'colsample_bytree': 0.9, 'subsample': 1.0, 'learning_rate': 0.018, 'max_depth': 11, 'random_state': 2020, 'min_child_weight': 154}. Best is trial 63 with value: 1.1819705125825097.\u001b[0m\n"
          ]
        },
        {
          "output_type": "stream",
          "name": "stdout",
          "text": [
            "[05:13:49] WARNING: /workspace/src/objective/regression_obj.cu:152: reg:linear is now deprecated in favor of reg:squarederror.\n"
          ]
        },
        {
          "output_type": "stream",
          "name": "stderr",
          "text": [
            "\u001b[32m[I 2021-12-03 05:14:01,181]\u001b[0m Trial 86 finished with value: 1.191391783499045 and parameters: {'lambda': 6.810672894570827, 'alpha': 0.0031390494764459583, 'colsample_bytree': 0.5, 'subsample': 1.0, 'learning_rate': 0.018, 'max_depth': 11, 'random_state': 2020, 'min_child_weight': 13}. Best is trial 63 with value: 1.1819705125825097.\u001b[0m\n"
          ]
        },
        {
          "output_type": "stream",
          "name": "stdout",
          "text": [
            "[05:14:01] WARNING: /workspace/src/objective/regression_obj.cu:152: reg:linear is now deprecated in favor of reg:squarederror.\n"
          ]
        },
        {
          "output_type": "stream",
          "name": "stderr",
          "text": [
            "\u001b[32m[I 2021-12-03 05:14:13,114]\u001b[0m Trial 87 finished with value: 1.2165768298702544 and parameters: {'lambda': 9.97873128844357, 'alpha': 0.0012270409419579836, 'colsample_bytree': 1.0, 'subsample': 0.6, 'learning_rate': 0.02, 'max_depth': 11, 'random_state': 2020, 'min_child_weight': 34}. Best is trial 63 with value: 1.1819705125825097.\u001b[0m\n"
          ]
        },
        {
          "output_type": "stream",
          "name": "stdout",
          "text": [
            "[05:14:13] WARNING: /workspace/src/objective/regression_obj.cu:152: reg:linear is now deprecated in favor of reg:squarederror.\n"
          ]
        },
        {
          "output_type": "stream",
          "name": "stderr",
          "text": [
            "\u001b[32m[I 2021-12-03 05:14:32,566]\u001b[0m Trial 88 finished with value: 1.2136423436901551 and parameters: {'lambda': 2.466549539009522, 'alpha': 0.0024658406542619814, 'colsample_bytree': 0.8, 'subsample': 1.0, 'learning_rate': 0.012, 'max_depth': 5, 'random_state': 2020, 'min_child_weight': 130}. Best is trial 63 with value: 1.1819705125825097.\u001b[0m\n"
          ]
        },
        {
          "output_type": "stream",
          "name": "stdout",
          "text": [
            "[05:14:32] WARNING: /workspace/src/objective/regression_obj.cu:152: reg:linear is now deprecated in favor of reg:squarederror.\n"
          ]
        },
        {
          "output_type": "stream",
          "name": "stderr",
          "text": [
            "\u001b[32m[I 2021-12-03 05:14:43,209]\u001b[0m Trial 89 finished with value: 1.2273868216433024 and parameters: {'lambda': 5.1138007650717245, 'alpha': 0.0010107232717538257, 'colsample_bytree': 0.5, 'subsample': 0.4, 'learning_rate': 0.018, 'max_depth': 13, 'random_state': 2020, 'min_child_weight': 21}. Best is trial 63 with value: 1.1819705125825097.\u001b[0m\n"
          ]
        },
        {
          "output_type": "stream",
          "name": "stdout",
          "text": [
            "[05:14:43] WARNING: /workspace/src/objective/regression_obj.cu:152: reg:linear is now deprecated in favor of reg:squarederror.\n"
          ]
        },
        {
          "output_type": "stream",
          "name": "stderr",
          "text": [
            "\u001b[32m[I 2021-12-03 05:15:10,192]\u001b[0m Trial 90 finished with value: 1.1927621670725028 and parameters: {'lambda': 1.0311502840281233, 'alpha': 3.763654032997669, 'colsample_bytree': 0.5, 'subsample': 1.0, 'learning_rate': 0.009, 'max_depth': 9, 'random_state': 24, 'min_child_weight': 48}. Best is trial 63 with value: 1.1819705125825097.\u001b[0m\n"
          ]
        },
        {
          "output_type": "stream",
          "name": "stdout",
          "text": [
            "[05:15:10] WARNING: /workspace/src/objective/regression_obj.cu:152: reg:linear is now deprecated in favor of reg:squarederror.\n"
          ]
        },
        {
          "output_type": "stream",
          "name": "stderr",
          "text": [
            "\u001b[32m[I 2021-12-03 05:15:19,890]\u001b[0m Trial 91 finished with value: 1.1850163132892935 and parameters: {'lambda': 0.38761207927168806, 'alpha': 0.001630956738889068, 'colsample_bytree': 0.5, 'subsample': 1.0, 'learning_rate': 0.018, 'max_depth': 11, 'random_state': 2020, 'min_child_weight': 36}. Best is trial 63 with value: 1.1819705125825097.\u001b[0m\n"
          ]
        },
        {
          "output_type": "stream",
          "name": "stdout",
          "text": [
            "[05:15:19] WARNING: /workspace/src/objective/regression_obj.cu:152: reg:linear is now deprecated in favor of reg:squarederror.\n"
          ]
        },
        {
          "output_type": "stream",
          "name": "stderr",
          "text": [
            "\u001b[32m[I 2021-12-03 05:15:34,844]\u001b[0m Trial 92 finished with value: 1.200719028921903 and parameters: {'lambda': 0.8640628865278795, 'alpha': 0.0014450698508437282, 'colsample_bytree': 0.5, 'subsample': 1.0, 'learning_rate': 0.018, 'max_depth': 11, 'random_state': 2020, 'min_child_weight': 81}. Best is trial 63 with value: 1.1819705125825097.\u001b[0m\n"
          ]
        },
        {
          "output_type": "stream",
          "name": "stdout",
          "text": [
            "[05:15:34] WARNING: /workspace/src/objective/regression_obj.cu:152: reg:linear is now deprecated in favor of reg:squarederror.\n"
          ]
        },
        {
          "output_type": "stream",
          "name": "stderr",
          "text": [
            "\u001b[32m[I 2021-12-03 05:15:46,660]\u001b[0m Trial 93 finished with value: 1.1869273547333015 and parameters: {'lambda': 2.219898317339247, 'alpha': 0.0016200703577717817, 'colsample_bytree': 0.5, 'subsample': 1.0, 'learning_rate': 0.018, 'max_depth': 11, 'random_state': 2020, 'min_child_weight': 23}. Best is trial 63 with value: 1.1819705125825097.\u001b[0m\n"
          ]
        },
        {
          "output_type": "stream",
          "name": "stdout",
          "text": [
            "[05:15:46] WARNING: /workspace/src/objective/regression_obj.cu:152: reg:linear is now deprecated in favor of reg:squarederror.\n"
          ]
        },
        {
          "output_type": "stream",
          "name": "stderr",
          "text": [
            "\u001b[32m[I 2021-12-03 05:15:58,264]\u001b[0m Trial 94 finished with value: 1.1871796382428834 and parameters: {'lambda': 0.3607785129212057, 'alpha': 0.002171641445947762, 'colsample_bytree': 0.6, 'subsample': 1.0, 'learning_rate': 0.018, 'max_depth': 11, 'random_state': 2020, 'min_child_weight': 14}. Best is trial 63 with value: 1.1819705125825097.\u001b[0m\n"
          ]
        },
        {
          "output_type": "stream",
          "name": "stdout",
          "text": [
            "[05:15:58] WARNING: /workspace/src/objective/regression_obj.cu:152: reg:linear is now deprecated in favor of reg:squarederror.\n"
          ]
        },
        {
          "output_type": "stream",
          "name": "stderr",
          "text": [
            "\u001b[32m[I 2021-12-03 05:16:12,719]\u001b[0m Trial 95 finished with value: 1.2095058649602624 and parameters: {'lambda': 9.798687923259152, 'alpha': 0.003357578314116151, 'colsample_bytree': 0.5, 'subsample': 0.8, 'learning_rate': 0.016, 'max_depth': 11, 'random_state': 2020, 'min_child_weight': 8}. Best is trial 63 with value: 1.1819705125825097.\u001b[0m\n"
          ]
        },
        {
          "output_type": "stream",
          "name": "stdout",
          "text": [
            "[05:16:12] WARNING: /workspace/src/objective/regression_obj.cu:152: reg:linear is now deprecated in favor of reg:squarederror.\n"
          ]
        },
        {
          "output_type": "stream",
          "name": "stderr",
          "text": [
            "\u001b[32m[I 2021-12-03 05:16:27,855]\u001b[0m Trial 96 finished with value: 1.2005426338565062 and parameters: {'lambda': 0.5909073118803733, 'alpha': 0.0012078422804218556, 'colsample_bytree': 0.3, 'subsample': 1.0, 'learning_rate': 0.018, 'max_depth': 20, 'random_state': 2020, 'min_child_weight': 34}. Best is trial 63 with value: 1.1819705125825097.\u001b[0m\n"
          ]
        },
        {
          "output_type": "stream",
          "name": "stdout",
          "text": [
            "[05:16:27] WARNING: /workspace/src/objective/regression_obj.cu:152: reg:linear is now deprecated in favor of reg:squarederror.\n"
          ]
        },
        {
          "output_type": "stream",
          "name": "stderr",
          "text": [
            "\u001b[32m[I 2021-12-03 05:16:57,100]\u001b[0m Trial 97 finished with value: 1.1948064391897413 and parameters: {'lambda': 4.5697142312857535, 'alpha': 0.0024534497096423097, 'colsample_bytree': 0.5, 'subsample': 1.0, 'learning_rate': 0.008, 'max_depth': 17, 'random_state': 48, 'min_child_weight': 17}. Best is trial 63 with value: 1.1819705125825097.\u001b[0m\n"
          ]
        },
        {
          "output_type": "stream",
          "name": "stdout",
          "text": [
            "[05:16:57] WARNING: /workspace/src/objective/regression_obj.cu:152: reg:linear is now deprecated in favor of reg:squarederror.\n"
          ]
        },
        {
          "output_type": "stream",
          "name": "stderr",
          "text": [
            "\u001b[32m[I 2021-12-03 05:17:08,681]\u001b[0m Trial 98 finished with value: 1.1860785220796923 and parameters: {'lambda': 7.39289548850275, 'alpha': 0.0015544297088642919, 'colsample_bytree': 0.5, 'subsample': 1.0, 'learning_rate': 0.018, 'max_depth': 11, 'random_state': 2020, 'min_child_weight': 27}. Best is trial 63 with value: 1.1819705125825097.\u001b[0m\n"
          ]
        },
        {
          "output_type": "stream",
          "name": "stdout",
          "text": [
            "[05:17:08] WARNING: /workspace/src/objective/regression_obj.cu:152: reg:linear is now deprecated in favor of reg:squarederror.\n"
          ]
        },
        {
          "output_type": "stream",
          "name": "stderr",
          "text": [
            "\u001b[32m[I 2021-12-03 05:17:21,740]\u001b[0m Trial 99 finished with value: 1.2029769226325304 and parameters: {'lambda': 0.7385915294157587, 'alpha': 0.004698361782749541, 'colsample_bytree': 0.9, 'subsample': 0.7, 'learning_rate': 0.018, 'max_depth': 9, 'random_state': 2020, 'min_child_weight': 5}. Best is trial 63 with value: 1.1819705125825097.\u001b[0m\n"
          ]
        },
        {
          "output_type": "stream",
          "name": "stdout",
          "text": [
            "Number of finished trials: 100\n",
            "Best trial: {'lambda': 0.6106899368498404, 'alpha': 0.001558377624059179, 'colsample_bytree': 0.5, 'subsample': 1.0, 'learning_rate': 0.018, 'max_depth': 9, 'random_state': 2020, 'min_child_weight': 10}\n"
          ]
        }
      ]
    },
    {
      "cell_type": "code",
      "metadata": {
        "id": "sd4yAXfWLgSt",
        "colab": {
          "base_uri": "https://localhost:8080/"
        },
        "outputId": "3f5e9f84-cea0-419f-f045-16a765e93b32"
      },
      "source": [
        "trial = study.best_trial\n",
        "trial_params = trial.params\n",
        "print('Best Trial: score {},\\nparams {}'.format(trial.value, trial_params))"
      ],
      "execution_count": null,
      "outputs": [
        {
          "output_type": "stream",
          "name": "stdout",
          "text": [
            "Best Trial: score 1.1819705125825097,\n",
            "params {'lambda': 0.6106899368498404, 'alpha': 0.001558377624059179, 'colsample_bytree': 0.5, 'subsample': 1.0, 'learning_rate': 0.018, 'max_depth': 9, 'random_state': 2020, 'min_child_weight': 10}\n"
          ]
        }
      ]
    },
    {
      "cell_type": "code",
      "metadata": {
        "id": "2SyJokSGLgSt",
        "scrolled": true,
        "colab": {
          "base_uri": "https://localhost:8080/"
        },
        "outputId": "1d1ca5e9-4085-4fe4-cea8-66c7c56593af"
      },
      "source": [
        "# Hyper-parameter tuning for goalkeepers\n",
        "def objective_gk(trial):\n",
        "    \n",
        "    kf = KFold(n_splits=10, shuffle=True)\n",
        "\n",
        "    param = {\n",
        "        'lambda': trial.suggest_loguniform('lambda', 1e-3, 10.0),\n",
        "        'alpha': trial.suggest_loguniform('alpha', 1e-3, 10.0),\n",
        "        'colsample_bytree': trial.suggest_categorical('colsample_bytree', [0.3,0.4,0.5,0.6,0.7,0.8,0.9, 1.0]),\n",
        "        'subsample': trial.suggest_categorical('subsample', [0.4,0.5,0.6,0.7,0.8,1.0]),\n",
        "        'learning_rate': trial.suggest_categorical('learning_rate', [0.008,0.009,0.01,0.012,0.014,0.016,0.018, 0.02]),\n",
        "        'n_estimators': 4000,\n",
        "        'max_depth': trial.suggest_categorical('max_depth', [5,7,9,11,13,15,17,20]),\n",
        "        'random_state': trial.suggest_categorical('random_state', [24, 48,2020]),\n",
        "        'min_child_weight': trial.suggest_int('min_child_weight', 1, 300),\n",
        "        'folds' : kf\n",
        "    }\n",
        "    model = xgb.XGBRegressor(**param)  \n",
        "    \n",
        "    model.fit(X_train_gk,y_train_gk,eval_set=[(X_train_gk, y_train_gk),(X_test_gk,y_test_gk)],early_stopping_rounds=100,verbose=False)\n",
        "    \n",
        "    preds = model.predict(X_test_gk)\n",
        "    \n",
        "    rmse = mean_squared_error(y_test_gk, preds,squared=False)\n",
        "    \n",
        "    return rmse\n",
        "\n",
        "study_gk = optuna.create_study(direction='minimize')\n",
        "study_gk.optimize(objective_gk, n_trials=100)\n",
        "print('Number of finished trials:', len(study_gk.trials))\n",
        "print('Best trial:', study_gk.best_trial.params)"
      ],
      "execution_count": null,
      "outputs": [
        {
          "output_type": "stream",
          "name": "stderr",
          "text": [
            "\u001b[32m[I 2021-12-03 05:17:21,808]\u001b[0m A new study created in memory with name: no-name-78dc69f7-30ce-4d2d-af01-119b5f9ac2a4\u001b[0m\n"
          ]
        },
        {
          "output_type": "stream",
          "name": "stdout",
          "text": [
            "[05:17:21] WARNING: /workspace/src/objective/regression_obj.cu:152: reg:linear is now deprecated in favor of reg:squarederror.\n"
          ]
        },
        {
          "output_type": "stream",
          "name": "stderr",
          "text": [
            "\u001b[32m[I 2021-12-03 05:17:23,011]\u001b[0m Trial 0 finished with value: 1.5174028069101024 and parameters: {'lambda': 0.004094176003734977, 'alpha': 0.6568441579972806, 'colsample_bytree': 0.7, 'subsample': 0.8, 'learning_rate': 0.016, 'max_depth': 9, 'random_state': 48, 'min_child_weight': 71}. Best is trial 0 with value: 1.5174028069101024.\u001b[0m\n"
          ]
        },
        {
          "output_type": "stream",
          "name": "stdout",
          "text": [
            "[05:17:23] WARNING: /workspace/src/objective/regression_obj.cu:152: reg:linear is now deprecated in favor of reg:squarederror.\n"
          ]
        },
        {
          "output_type": "stream",
          "name": "stderr",
          "text": [
            "\u001b[32m[I 2021-12-03 05:17:23,869]\u001b[0m Trial 1 finished with value: 2.434397197446976 and parameters: {'lambda': 0.4711826278024551, 'alpha': 0.009635649997326655, 'colsample_bytree': 0.3, 'subsample': 0.4, 'learning_rate': 0.012, 'max_depth': 5, 'random_state': 48, 'min_child_weight': 267}. Best is trial 0 with value: 1.5174028069101024.\u001b[0m\n"
          ]
        },
        {
          "output_type": "stream",
          "name": "stdout",
          "text": [
            "[05:17:23] WARNING: /workspace/src/objective/regression_obj.cu:152: reg:linear is now deprecated in favor of reg:squarederror.\n"
          ]
        },
        {
          "output_type": "stream",
          "name": "stderr",
          "text": [
            "\u001b[32m[I 2021-12-03 05:17:26,570]\u001b[0m Trial 2 finished with value: 1.8318041181346605 and parameters: {'lambda': 0.01350963244638867, 'alpha': 9.82253922917407, 'colsample_bytree': 0.3, 'subsample': 0.7, 'learning_rate': 0.008, 'max_depth': 9, 'random_state': 24, 'min_child_weight': 131}. Best is trial 0 with value: 1.5174028069101024.\u001b[0m\n"
          ]
        },
        {
          "output_type": "stream",
          "name": "stdout",
          "text": [
            "[05:17:26] WARNING: /workspace/src/objective/regression_obj.cu:152: reg:linear is now deprecated in favor of reg:squarederror.\n"
          ]
        },
        {
          "output_type": "stream",
          "name": "stderr",
          "text": [
            "\u001b[32m[I 2021-12-03 05:17:28,072]\u001b[0m Trial 3 finished with value: 1.8038649554934914 and parameters: {'lambda': 0.07552753453459594, 'alpha': 2.755658795308519, 'colsample_bytree': 0.6, 'subsample': 0.7, 'learning_rate': 0.014, 'max_depth': 7, 'random_state': 2020, 'min_child_weight': 124}. Best is trial 0 with value: 1.5174028069101024.\u001b[0m\n"
          ]
        },
        {
          "output_type": "stream",
          "name": "stdout",
          "text": [
            "[05:17:28] WARNING: /workspace/src/objective/regression_obj.cu:152: reg:linear is now deprecated in favor of reg:squarederror.\n"
          ]
        },
        {
          "output_type": "stream",
          "name": "stderr",
          "text": [
            "\u001b[32m[I 2021-12-03 05:17:28,895]\u001b[0m Trial 4 finished with value: 2.4343976739413993 and parameters: {'lambda': 0.9745551393378512, 'alpha': 0.3318705593433195, 'colsample_bytree': 0.6, 'subsample': 0.6, 'learning_rate': 0.016, 'max_depth': 7, 'random_state': 24, 'min_child_weight': 204}. Best is trial 0 with value: 1.5174028069101024.\u001b[0m\n"
          ]
        },
        {
          "output_type": "stream",
          "name": "stdout",
          "text": [
            "[05:17:28] WARNING: /workspace/src/objective/regression_obj.cu:152: reg:linear is now deprecated in favor of reg:squarederror.\n"
          ]
        },
        {
          "output_type": "stream",
          "name": "stderr",
          "text": [
            "\u001b[32m[I 2021-12-03 05:17:30,203]\u001b[0m Trial 5 finished with value: 2.4344902504765167 and parameters: {'lambda': 0.026075716142640308, 'alpha': 0.30036661981694895, 'colsample_bytree': 0.7, 'subsample': 0.8, 'learning_rate': 0.008, 'max_depth': 13, 'random_state': 2020, 'min_child_weight': 228}. Best is trial 0 with value: 1.5174028069101024.\u001b[0m\n"
          ]
        },
        {
          "output_type": "stream",
          "name": "stdout",
          "text": [
            "[05:17:30] WARNING: /workspace/src/objective/regression_obj.cu:152: reg:linear is now deprecated in favor of reg:squarederror.\n"
          ]
        },
        {
          "output_type": "stream",
          "name": "stderr",
          "text": [
            "\u001b[32m[I 2021-12-03 05:17:32,049]\u001b[0m Trial 6 finished with value: 2.434451818656411 and parameters: {'lambda': 5.925995532738928, 'alpha': 0.26049936121725853, 'colsample_bytree': 0.5, 'subsample': 1.0, 'learning_rate': 0.008, 'max_depth': 11, 'random_state': 48, 'min_child_weight': 267}. Best is trial 0 with value: 1.5174028069101024.\u001b[0m\n"
          ]
        },
        {
          "output_type": "stream",
          "name": "stdout",
          "text": [
            "[05:17:32] WARNING: /workspace/src/objective/regression_obj.cu:152: reg:linear is now deprecated in favor of reg:squarederror.\n"
          ]
        },
        {
          "output_type": "stream",
          "name": "stderr",
          "text": [
            "\u001b[32m[I 2021-12-03 05:17:33,660]\u001b[0m Trial 7 finished with value: 1.416997244650436 and parameters: {'lambda': 0.047580582148200254, 'alpha': 0.002775152347978055, 'colsample_bytree': 1.0, 'subsample': 0.8, 'learning_rate': 0.008, 'max_depth': 17, 'random_state': 48, 'min_child_weight': 32}. Best is trial 7 with value: 1.416997244650436.\u001b[0m\n"
          ]
        },
        {
          "output_type": "stream",
          "name": "stdout",
          "text": [
            "[05:17:33] WARNING: /workspace/src/objective/regression_obj.cu:152: reg:linear is now deprecated in favor of reg:squarederror.\n"
          ]
        },
        {
          "output_type": "stream",
          "name": "stderr",
          "text": [
            "\u001b[32m[I 2021-12-03 05:17:35,025]\u001b[0m Trial 8 finished with value: 1.4254419312281486 and parameters: {'lambda': 0.004149292296461134, 'alpha': 0.018461499509665205, 'colsample_bytree': 0.8, 'subsample': 0.6, 'learning_rate': 0.009, 'max_depth': 11, 'random_state': 48, 'min_child_weight': 18}. Best is trial 7 with value: 1.416997244650436.\u001b[0m\n"
          ]
        },
        {
          "output_type": "stream",
          "name": "stdout",
          "text": [
            "[05:17:35] WARNING: /workspace/src/objective/regression_obj.cu:152: reg:linear is now deprecated in favor of reg:squarederror.\n"
          ]
        },
        {
          "output_type": "stream",
          "name": "stderr",
          "text": [
            "\u001b[32m[I 2021-12-03 05:17:35,833]\u001b[0m Trial 9 finished with value: 1.408860878944678 and parameters: {'lambda': 4.114864866082339, 'alpha': 0.025033743438562912, 'colsample_bytree': 0.8, 'subsample': 0.7, 'learning_rate': 0.018, 'max_depth': 20, 'random_state': 48, 'min_child_weight': 34}. Best is trial 9 with value: 1.408860878944678.\u001b[0m\n"
          ]
        },
        {
          "output_type": "stream",
          "name": "stdout",
          "text": [
            "[05:17:35] WARNING: /workspace/src/objective/regression_obj.cu:152: reg:linear is now deprecated in favor of reg:squarederror.\n"
          ]
        },
        {
          "output_type": "stream",
          "name": "stderr",
          "text": [
            "\u001b[32m[I 2021-12-03 05:17:37,505]\u001b[0m Trial 10 finished with value: 1.7022522279407595 and parameters: {'lambda': 9.424565022161424, 'alpha': 0.03966196316071432, 'colsample_bytree': 0.4, 'subsample': 0.5, 'learning_rate': 0.018, 'max_depth': 20, 'random_state': 24, 'min_child_weight': 77}. Best is trial 9 with value: 1.408860878944678.\u001b[0m\n"
          ]
        },
        {
          "output_type": "stream",
          "name": "stdout",
          "text": [
            "[05:17:37] WARNING: /workspace/src/objective/regression_obj.cu:152: reg:linear is now deprecated in favor of reg:squarederror.\n"
          ]
        },
        {
          "output_type": "stream",
          "name": "stderr",
          "text": [
            "\u001b[32m[I 2021-12-03 05:17:38,929]\u001b[0m Trial 11 finished with value: 1.4969951726809105 and parameters: {'lambda': 0.33451141800794326, 'alpha': 0.0012111673249200728, 'colsample_bytree': 1.0, 'subsample': 0.7, 'learning_rate': 0.018, 'max_depth': 17, 'random_state': 48, 'min_child_weight': 1}. Best is trial 9 with value: 1.408860878944678.\u001b[0m\n"
          ]
        },
        {
          "output_type": "stream",
          "name": "stdout",
          "text": [
            "[05:17:38] WARNING: /workspace/src/objective/regression_obj.cu:152: reg:linear is now deprecated in favor of reg:squarederror.\n"
          ]
        },
        {
          "output_type": "stream",
          "name": "stderr",
          "text": [
            "\u001b[32m[I 2021-12-03 05:17:39,581]\u001b[0m Trial 12 finished with value: 1.5072115717792773 and parameters: {'lambda': 1.7888552338207946, 'alpha': 0.0026290871708513366, 'colsample_bytree': 0.9, 'subsample': 0.8, 'learning_rate': 0.02, 'max_depth': 15, 'random_state': 48, 'min_child_weight': 64}. Best is trial 9 with value: 1.408860878944678.\u001b[0m\n"
          ]
        },
        {
          "output_type": "stream",
          "name": "stdout",
          "text": [
            "[05:17:39] WARNING: /workspace/src/objective/regression_obj.cu:152: reg:linear is now deprecated in favor of reg:squarederror.\n"
          ]
        },
        {
          "output_type": "stream",
          "name": "stderr",
          "text": [
            "\u001b[32m[I 2021-12-03 05:17:40,873]\u001b[0m Trial 13 finished with value: 1.4968485955590445 and parameters: {'lambda': 0.14583745530701767, 'alpha': 0.004638991536771966, 'colsample_bytree': 0.8, 'subsample': 0.5, 'learning_rate': 0.01, 'max_depth': 20, 'random_state': 48, 'min_child_weight': 42}. Best is trial 9 with value: 1.408860878944678.\u001b[0m\n"
          ]
        },
        {
          "output_type": "stream",
          "name": "stdout",
          "text": [
            "[05:17:40] WARNING: /workspace/src/objective/regression_obj.cu:152: reg:linear is now deprecated in favor of reg:squarederror.\n"
          ]
        },
        {
          "output_type": "stream",
          "name": "stderr",
          "text": [
            "\u001b[32m[I 2021-12-03 05:17:41,591]\u001b[0m Trial 14 finished with value: 1.6185397295582955 and parameters: {'lambda': 0.001167059755718296, 'alpha': 0.053483789133355095, 'colsample_bytree': 1.0, 'subsample': 1.0, 'learning_rate': 0.018, 'max_depth': 17, 'random_state': 48, 'min_child_weight': 103}. Best is trial 9 with value: 1.408860878944678.\u001b[0m\n"
          ]
        },
        {
          "output_type": "stream",
          "name": "stdout",
          "text": [
            "[05:17:41] WARNING: /workspace/src/objective/regression_obj.cu:152: reg:linear is now deprecated in favor of reg:squarederror.\n"
          ]
        },
        {
          "output_type": "stream",
          "name": "stderr",
          "text": [
            "\u001b[32m[I 2021-12-03 05:17:42,515]\u001b[0m Trial 15 finished with value: 2.4343971261681823 and parameters: {'lambda': 0.03939630683643208, 'alpha': 0.011177516380705884, 'colsample_bytree': 0.8, 'subsample': 0.4, 'learning_rate': 0.012, 'max_depth': 20, 'random_state': 2020, 'min_child_weight': 167}. Best is trial 9 with value: 1.408860878944678.\u001b[0m\n"
          ]
        },
        {
          "output_type": "stream",
          "name": "stdout",
          "text": [
            "[05:17:42] WARNING: /workspace/src/objective/regression_obj.cu:152: reg:linear is now deprecated in favor of reg:squarederror.\n"
          ]
        },
        {
          "output_type": "stream",
          "name": "stderr",
          "text": [
            "\u001b[32m[I 2021-12-03 05:17:43,405]\u001b[0m Trial 16 finished with value: 1.4190548230321243 and parameters: {'lambda': 0.16107620296047886, 'alpha': 0.0010027496532949009, 'colsample_bytree': 1.0, 'subsample': 0.8, 'learning_rate': 0.014, 'max_depth': 17, 'random_state': 48, 'min_child_weight': 33}. Best is trial 9 with value: 1.408860878944678.\u001b[0m\n"
          ]
        },
        {
          "output_type": "stream",
          "name": "stdout",
          "text": [
            "[05:17:43] WARNING: /workspace/src/objective/regression_obj.cu:152: reg:linear is now deprecated in favor of reg:squarederror.\n"
          ]
        },
        {
          "output_type": "stream",
          "name": "stderr",
          "text": [
            "\u001b[32m[I 2021-12-03 05:17:44,751]\u001b[0m Trial 17 finished with value: 2.4344086020839546 and parameters: {'lambda': 1.8545443645807627, 'alpha': 0.005051584768939852, 'colsample_bytree': 0.9, 'subsample': 0.7, 'learning_rate': 0.009, 'max_depth': 5, 'random_state': 48, 'min_child_weight': 166}. Best is trial 9 with value: 1.408860878944678.\u001b[0m\n"
          ]
        },
        {
          "output_type": "stream",
          "name": "stdout",
          "text": [
            "[05:17:44] WARNING: /workspace/src/objective/regression_obj.cu:152: reg:linear is now deprecated in favor of reg:squarederror.\n"
          ]
        },
        {
          "output_type": "stream",
          "name": "stderr",
          "text": [
            "\u001b[32m[I 2021-12-03 05:17:45,750]\u001b[0m Trial 18 finished with value: 1.6791613334887112 and parameters: {'lambda': 3.5998343865917333, 'alpha': 0.02716486347250863, 'colsample_bytree': 0.4, 'subsample': 0.8, 'learning_rate': 0.02, 'max_depth': 13, 'random_state': 2020, 'min_child_weight': 101}. Best is trial 9 with value: 1.408860878944678.\u001b[0m\n"
          ]
        },
        {
          "output_type": "stream",
          "name": "stdout",
          "text": [
            "[05:17:45] WARNING: /workspace/src/objective/regression_obj.cu:152: reg:linear is now deprecated in favor of reg:squarederror.\n"
          ]
        },
        {
          "output_type": "stream",
          "name": "stderr",
          "text": [
            "\u001b[32m[I 2021-12-03 05:17:47,011]\u001b[0m Trial 19 finished with value: 1.4042097957284005 and parameters: {'lambda': 0.4019831783245801, 'alpha': 0.11975086534785695, 'colsample_bytree': 0.5, 'subsample': 0.7, 'learning_rate': 0.01, 'max_depth': 17, 'random_state': 24, 'min_child_weight': 44}. Best is trial 19 with value: 1.4042097957284005.\u001b[0m\n"
          ]
        },
        {
          "output_type": "stream",
          "name": "stdout",
          "text": [
            "[05:17:47] WARNING: /workspace/src/objective/regression_obj.cu:152: reg:linear is now deprecated in favor of reg:squarederror.\n"
          ]
        },
        {
          "output_type": "stream",
          "name": "stderr",
          "text": [
            "\u001b[32m[I 2021-12-03 05:17:48,437]\u001b[0m Trial 20 finished with value: 1.4257412515866685 and parameters: {'lambda': 0.4807870723203649, 'alpha': 0.1073390760094669, 'colsample_bytree': 0.5, 'subsample': 0.7, 'learning_rate': 0.01, 'max_depth': 15, 'random_state': 24, 'min_child_weight': 4}. Best is trial 19 with value: 1.4042097957284005.\u001b[0m\n"
          ]
        },
        {
          "output_type": "stream",
          "name": "stdout",
          "text": [
            "[05:17:48] WARNING: /workspace/src/objective/regression_obj.cu:152: reg:linear is now deprecated in favor of reg:squarederror.\n"
          ]
        },
        {
          "output_type": "stream",
          "name": "stderr",
          "text": [
            "\u001b[32m[I 2021-12-03 05:17:49,840]\u001b[0m Trial 21 finished with value: 1.4459872121684332 and parameters: {'lambda': 0.061012119053388984, 'alpha': 0.09660760697172673, 'colsample_bytree': 0.5, 'subsample': 0.7, 'learning_rate': 0.01, 'max_depth': 17, 'random_state': 24, 'min_child_weight': 52}. Best is trial 19 with value: 1.4042097957284005.\u001b[0m\n"
          ]
        },
        {
          "output_type": "stream",
          "name": "stdout",
          "text": [
            "[05:17:49] WARNING: /workspace/src/objective/regression_obj.cu:152: reg:linear is now deprecated in favor of reg:squarederror.\n"
          ]
        },
        {
          "output_type": "stream",
          "name": "stderr",
          "text": [
            "\u001b[32m[I 2021-12-03 05:17:51,279]\u001b[0m Trial 22 finished with value: 1.4198567931992045 and parameters: {'lambda': 0.01121733229779835, 'alpha': 0.10799261454010567, 'colsample_bytree': 1.0, 'subsample': 0.7, 'learning_rate': 0.008, 'max_depth': 17, 'random_state': 24, 'min_child_weight': 30}. Best is trial 19 with value: 1.4042097957284005.\u001b[0m\n"
          ]
        },
        {
          "output_type": "stream",
          "name": "stdout",
          "text": [
            "[05:17:51] WARNING: /workspace/src/objective/regression_obj.cu:152: reg:linear is now deprecated in favor of reg:squarederror.\n"
          ]
        },
        {
          "output_type": "stream",
          "name": "stderr",
          "text": [
            "\u001b[32m[I 2021-12-03 05:17:53,051]\u001b[0m Trial 23 finished with value: 1.6833513544961178 and parameters: {'lambda': 0.2368284758382919, 'alpha': 0.0026511057767107755, 'colsample_bytree': 0.8, 'subsample': 0.7, 'learning_rate': 0.01, 'max_depth': 20, 'random_state': 24, 'min_child_weight': 92}. Best is trial 19 with value: 1.4042097957284005.\u001b[0m\n"
          ]
        },
        {
          "output_type": "stream",
          "name": "stdout",
          "text": [
            "[05:17:53] WARNING: /workspace/src/objective/regression_obj.cu:152: reg:linear is now deprecated in favor of reg:squarederror.\n"
          ]
        },
        {
          "output_type": "stream",
          "name": "stderr",
          "text": [
            "\u001b[32m[I 2021-12-03 05:17:54,209]\u001b[0m Trial 24 finished with value: 1.5107754291443702 and parameters: {'lambda': 0.9572051420533816, 'alpha': 0.8494463582555352, 'colsample_bytree': 0.5, 'subsample': 0.5, 'learning_rate': 0.018, 'max_depth': 17, 'random_state': 48, 'min_child_weight': 44}. Best is trial 19 with value: 1.4042097957284005.\u001b[0m\n"
          ]
        },
        {
          "output_type": "stream",
          "name": "stdout",
          "text": [
            "[05:17:54] WARNING: /workspace/src/objective/regression_obj.cu:152: reg:linear is now deprecated in favor of reg:squarederror.\n"
          ]
        },
        {
          "output_type": "stream",
          "name": "stderr",
          "text": [
            "\u001b[32m[I 2021-12-03 05:17:55,099]\u001b[0m Trial 25 finished with value: 2.434451697059301 and parameters: {'lambda': 3.955935290353194, 'alpha': 0.016013589765752203, 'colsample_bytree': 1.0, 'subsample': 1.0, 'learning_rate': 0.018, 'max_depth': 17, 'random_state': 24, 'min_child_weight': 297}. Best is trial 19 with value: 1.4042097957284005.\u001b[0m\n"
          ]
        },
        {
          "output_type": "stream",
          "name": "stdout",
          "text": [
            "[05:17:55] WARNING: /workspace/src/objective/regression_obj.cu:152: reg:linear is now deprecated in favor of reg:squarederror.\n"
          ]
        },
        {
          "output_type": "stream",
          "name": "stderr",
          "text": [
            "\u001b[32m[I 2021-12-03 05:17:56,509]\u001b[0m Trial 26 finished with value: 1.4144248002546906 and parameters: {'lambda': 1.0558356689020343, 'alpha': 0.00574755234552557, 'colsample_bytree': 0.8, 'subsample': 0.6, 'learning_rate': 0.008, 'max_depth': 20, 'random_state': 48, 'min_child_weight': 16}. Best is trial 19 with value: 1.4042097957284005.\u001b[0m\n"
          ]
        },
        {
          "output_type": "stream",
          "name": "stdout",
          "text": [
            "[05:17:56] WARNING: /workspace/src/objective/regression_obj.cu:152: reg:linear is now deprecated in favor of reg:squarederror.\n"
          ]
        },
        {
          "output_type": "stream",
          "name": "stderr",
          "text": [
            "\u001b[32m[I 2021-12-03 05:17:57,656]\u001b[0m Trial 27 finished with value: 1.4035757467010017 and parameters: {'lambda': 1.2931193795096407, 'alpha': 0.05877372795661994, 'colsample_bytree': 0.8, 'subsample': 0.6, 'learning_rate': 0.01, 'max_depth': 20, 'random_state': 24, 'min_child_weight': 16}. Best is trial 27 with value: 1.4035757467010017.\u001b[0m\n"
          ]
        },
        {
          "output_type": "stream",
          "name": "stdout",
          "text": [
            "[05:17:57] WARNING: /workspace/src/objective/regression_obj.cu:152: reg:linear is now deprecated in favor of reg:squarederror.\n"
          ]
        },
        {
          "output_type": "stream",
          "name": "stderr",
          "text": [
            "\u001b[32m[I 2021-12-03 05:17:59,431]\u001b[0m Trial 28 finished with value: 1.6818702413268427 and parameters: {'lambda': 2.2661513116610834, 'alpha': 0.04834500308613237, 'colsample_bytree': 0.8, 'subsample': 0.6, 'learning_rate': 0.01, 'max_depth': 20, 'random_state': 24, 'min_child_weight': 79}. Best is trial 27 with value: 1.4035757467010017.\u001b[0m\n"
          ]
        },
        {
          "output_type": "stream",
          "name": "stdout",
          "text": [
            "[05:17:59] WARNING: /workspace/src/objective/regression_obj.cu:152: reg:linear is now deprecated in favor of reg:squarederror.\n"
          ]
        },
        {
          "output_type": "stream",
          "name": "stderr",
          "text": [
            "\u001b[32m[I 2021-12-03 05:18:00,424]\u001b[0m Trial 29 finished with value: 1.5384306390479536 and parameters: {'lambda': 0.6950035619820031, 'alpha': 0.7566123439689915, 'colsample_bytree': 0.7, 'subsample': 0.6, 'learning_rate': 0.016, 'max_depth': 9, 'random_state': 24, 'min_child_weight': 59}. Best is trial 27 with value: 1.4035757467010017.\u001b[0m\n"
          ]
        },
        {
          "output_type": "stream",
          "name": "stdout",
          "text": [
            "[05:18:00] WARNING: /workspace/src/objective/regression_obj.cu:152: reg:linear is now deprecated in favor of reg:squarederror.\n"
          ]
        },
        {
          "output_type": "stream",
          "name": "stderr",
          "text": [
            "\u001b[32m[I 2021-12-03 05:18:01,428]\u001b[0m Trial 30 finished with value: 2.434458993041988 and parameters: {'lambda': 8.104037965390166, 'alpha': 0.13669746746622716, 'colsample_bytree': 0.8, 'subsample': 0.4, 'learning_rate': 0.01, 'max_depth': 20, 'random_state': 24, 'min_child_weight': 128}. Best is trial 27 with value: 1.4035757467010017.\u001b[0m\n"
          ]
        },
        {
          "output_type": "stream",
          "name": "stdout",
          "text": [
            "[05:18:01] WARNING: /workspace/src/objective/regression_obj.cu:152: reg:linear is now deprecated in favor of reg:squarederror.\n"
          ]
        },
        {
          "output_type": "stream",
          "name": "stderr",
          "text": [
            "\u001b[32m[I 2021-12-03 05:18:02,567]\u001b[0m Trial 31 finished with value: 1.3967772204790017 and parameters: {'lambda': 1.3120145689500533, 'alpha': 0.006385222981931739, 'colsample_bytree': 0.8, 'subsample': 0.6, 'learning_rate': 0.01, 'max_depth': 20, 'random_state': 24, 'min_child_weight': 15}. Best is trial 31 with value: 1.3967772204790017.\u001b[0m\n"
          ]
        },
        {
          "output_type": "stream",
          "name": "stdout",
          "text": [
            "[05:18:02] WARNING: /workspace/src/objective/regression_obj.cu:152: reg:linear is now deprecated in favor of reg:squarederror.\n"
          ]
        },
        {
          "output_type": "stream",
          "name": "stderr",
          "text": [
            "\u001b[32m[I 2021-12-03 05:18:04,730]\u001b[0m Trial 32 finished with value: 1.459550166765193 and parameters: {'lambda': 3.6118025049393285, 'alpha': 0.028206688211279817, 'colsample_bytree': 0.8, 'subsample': 0.6, 'learning_rate': 0.01, 'max_depth': 20, 'random_state': 24, 'min_child_weight': 1}. Best is trial 31 with value: 1.3967772204790017.\u001b[0m\n"
          ]
        },
        {
          "output_type": "stream",
          "name": "stdout",
          "text": [
            "[05:18:04] WARNING: /workspace/src/objective/regression_obj.cu:152: reg:linear is now deprecated in favor of reg:squarederror.\n"
          ]
        },
        {
          "output_type": "stream",
          "name": "stderr",
          "text": [
            "\u001b[32m[I 2021-12-03 05:18:06,316]\u001b[0m Trial 33 finished with value: 1.401423841132227 and parameters: {'lambda': 0.4003907065010021, 'alpha': 0.010331625208177962, 'colsample_bytree': 0.3, 'subsample': 0.6, 'learning_rate': 0.01, 'max_depth': 5, 'random_state': 24, 'min_child_weight': 21}. Best is trial 31 with value: 1.3967772204790017.\u001b[0m\n"
          ]
        },
        {
          "output_type": "stream",
          "name": "stdout",
          "text": [
            "[05:18:06] WARNING: /workspace/src/objective/regression_obj.cu:152: reg:linear is now deprecated in favor of reg:squarederror.\n"
          ]
        },
        {
          "output_type": "stream",
          "name": "stderr",
          "text": [
            "\u001b[32m[I 2021-12-03 05:18:07,903]\u001b[0m Trial 34 finished with value: 1.4111272095232685 and parameters: {'lambda': 0.47315871940300036, 'alpha': 0.011866606176267142, 'colsample_bytree': 0.3, 'subsample': 0.6, 'learning_rate': 0.01, 'max_depth': 5, 'random_state': 24, 'min_child_weight': 19}. Best is trial 31 with value: 1.3967772204790017.\u001b[0m\n"
          ]
        },
        {
          "output_type": "stream",
          "name": "stdout",
          "text": [
            "[05:18:07] WARNING: /workspace/src/objective/regression_obj.cu:152: reg:linear is now deprecated in favor of reg:squarederror.\n"
          ]
        },
        {
          "output_type": "stream",
          "name": "stderr",
          "text": [
            "\u001b[32m[I 2021-12-03 05:18:10,065]\u001b[0m Trial 35 finished with value: 1.5632977661746827 and parameters: {'lambda': 0.21875559347765752, 'alpha': 1.5609610464202368, 'colsample_bytree': 0.3, 'subsample': 0.6, 'learning_rate': 0.01, 'max_depth': 5, 'random_state': 24, 'min_child_weight': 62}. Best is trial 31 with value: 1.3967772204790017.\u001b[0m\n"
          ]
        },
        {
          "output_type": "stream",
          "name": "stdout",
          "text": [
            "[05:18:10] WARNING: /workspace/src/objective/regression_obj.cu:152: reg:linear is now deprecated in favor of reg:squarederror.\n"
          ]
        },
        {
          "output_type": "stream",
          "name": "stderr",
          "text": [
            "\u001b[32m[I 2021-12-03 05:18:12,566]\u001b[0m Trial 36 finished with value: 1.6883161034595118 and parameters: {'lambda': 1.3721009777829503, 'alpha': 0.00830197156387661, 'colsample_bytree': 0.3, 'subsample': 0.6, 'learning_rate': 0.01, 'max_depth': 7, 'random_state': 24, 'min_child_weight': 85}. Best is trial 31 with value: 1.3967772204790017.\u001b[0m\n"
          ]
        },
        {
          "output_type": "stream",
          "name": "stdout",
          "text": [
            "[05:18:12] WARNING: /workspace/src/objective/regression_obj.cu:152: reg:linear is now deprecated in favor of reg:squarederror.\n"
          ]
        },
        {
          "output_type": "stream",
          "name": "stderr",
          "text": [
            "\u001b[32m[I 2021-12-03 05:18:13,612]\u001b[0m Trial 37 finished with value: 1.3993012701539034 and parameters: {'lambda': 0.10193164338423578, 'alpha': 9.897411641736698, 'colsample_bytree': 0.6, 'subsample': 0.6, 'learning_rate': 0.012, 'max_depth': 5, 'random_state': 24, 'min_child_weight': 17}. Best is trial 31 with value: 1.3967772204790017.\u001b[0m\n"
          ]
        },
        {
          "output_type": "stream",
          "name": "stdout",
          "text": [
            "[05:18:13] WARNING: /workspace/src/objective/regression_obj.cu:152: reg:linear is now deprecated in favor of reg:squarederror.\n"
          ]
        },
        {
          "output_type": "stream",
          "name": "stderr",
          "text": [
            "\u001b[32m[I 2021-12-03 05:18:14,516]\u001b[0m Trial 38 finished with value: 2.4344193919443193 and parameters: {'lambda': 0.09976520611625458, 'alpha': 9.873593658320885, 'colsample_bytree': 0.6, 'subsample': 0.6, 'learning_rate': 0.012, 'max_depth': 5, 'random_state': 24, 'min_child_weight': 205}. Best is trial 31 with value: 1.3967772204790017.\u001b[0m\n"
          ]
        },
        {
          "output_type": "stream",
          "name": "stdout",
          "text": [
            "[05:18:14] WARNING: /workspace/src/objective/regression_obj.cu:152: reg:linear is now deprecated in favor of reg:squarederror.\n"
          ]
        },
        {
          "output_type": "stream",
          "name": "stderr",
          "text": [
            "\u001b[32m[I 2021-12-03 05:18:15,583]\u001b[0m Trial 39 finished with value: 1.4083191742287937 and parameters: {'lambda': 0.022019504697422372, 'alpha': 0.41057061581653626, 'colsample_bytree': 0.6, 'subsample': 0.6, 'learning_rate': 0.012, 'max_depth': 5, 'random_state': 2020, 'min_child_weight': 20}. Best is trial 31 with value: 1.3967772204790017.\u001b[0m\n"
          ]
        },
        {
          "output_type": "stream",
          "name": "stdout",
          "text": [
            "[05:18:15] WARNING: /workspace/src/objective/regression_obj.cu:152: reg:linear is now deprecated in favor of reg:squarederror.\n"
          ]
        },
        {
          "output_type": "stream",
          "name": "stderr",
          "text": [
            "\u001b[32m[I 2021-12-03 05:18:16,983]\u001b[0m Trial 40 finished with value: 1.8129755756042765 and parameters: {'lambda': 0.6844589602389034, 'alpha': 4.779730197058452, 'colsample_bytree': 0.6, 'subsample': 0.6, 'learning_rate': 0.012, 'max_depth': 5, 'random_state': 24, 'min_child_weight': 111}. Best is trial 31 with value: 1.3967772204790017.\u001b[0m\n"
          ]
        },
        {
          "output_type": "stream",
          "name": "stdout",
          "text": [
            "[05:18:17] WARNING: /workspace/src/objective/regression_obj.cu:152: reg:linear is now deprecated in favor of reg:squarederror.\n"
          ]
        },
        {
          "output_type": "stream",
          "name": "stderr",
          "text": [
            "\u001b[32m[I 2021-12-03 05:18:18,390]\u001b[0m Trial 41 finished with value: 1.4625957858505914 and parameters: {'lambda': 0.2997751146970525, 'alpha': 3.6729478662858877, 'colsample_bytree': 0.3, 'subsample': 0.6, 'learning_rate': 0.014, 'max_depth': 9, 'random_state': 24, 'min_child_weight': 46}. Best is trial 31 with value: 1.3967772204790017.\u001b[0m\n"
          ]
        },
        {
          "output_type": "stream",
          "name": "stdout",
          "text": [
            "[05:18:18] WARNING: /workspace/src/objective/regression_obj.cu:152: reg:linear is now deprecated in favor of reg:squarederror.\n"
          ]
        },
        {
          "output_type": "stream",
          "name": "stderr",
          "text": [
            "\u001b[32m[I 2021-12-03 05:18:19,299]\u001b[0m Trial 42 finished with value: 1.414367925073617 and parameters: {'lambda': 0.1469096702443546, 'alpha': 0.06947682448990596, 'colsample_bytree': 0.5, 'subsample': 0.6, 'learning_rate': 0.016, 'max_depth': 11, 'random_state': 24, 'min_child_weight': 18}. Best is trial 31 with value: 1.3967772204790017.\u001b[0m\n"
          ]
        },
        {
          "output_type": "stream",
          "name": "stdout",
          "text": [
            "[05:18:19] WARNING: /workspace/src/objective/regression_obj.cu:152: reg:linear is now deprecated in favor of reg:squarederror.\n"
          ]
        },
        {
          "output_type": "stream",
          "name": "stderr",
          "text": [
            "\u001b[32m[I 2021-12-03 05:18:20,600]\u001b[0m Trial 43 finished with value: 1.3972816738903948 and parameters: {'lambda': 0.5816429676038151, 'alpha': 1.6395336585534546, 'colsample_bytree': 0.7, 'subsample': 0.4, 'learning_rate': 0.01, 'max_depth': 13, 'random_state': 24, 'min_child_weight': 9}. Best is trial 31 with value: 1.3967772204790017.\u001b[0m\n"
          ]
        },
        {
          "output_type": "stream",
          "name": "stdout",
          "text": [
            "[05:18:20] WARNING: /workspace/src/objective/regression_obj.cu:152: reg:linear is now deprecated in favor of reg:squarederror.\n"
          ]
        },
        {
          "output_type": "stream",
          "name": "stderr",
          "text": [
            "\u001b[32m[I 2021-12-03 05:18:21,941]\u001b[0m Trial 44 finished with value: 1.4127801048455353 and parameters: {'lambda': 0.7175172193714813, 'alpha': 2.026033949689742, 'colsample_bytree': 0.7, 'subsample': 0.4, 'learning_rate': 0.009, 'max_depth': 13, 'random_state': 24, 'min_child_weight': 13}. Best is trial 31 with value: 1.3967772204790017.\u001b[0m\n"
          ]
        },
        {
          "output_type": "stream",
          "name": "stdout",
          "text": [
            "[05:18:21] WARNING: /workspace/src/objective/regression_obj.cu:152: reg:linear is now deprecated in favor of reg:squarederror.\n"
          ]
        },
        {
          "output_type": "stream",
          "name": "stderr",
          "text": [
            "\u001b[32m[I 2021-12-03 05:18:23,206]\u001b[0m Trial 45 finished with value: 1.4401684416957312 and parameters: {'lambda': 2.2576876308330474, 'alpha': 6.310552436238657, 'colsample_bytree': 0.7, 'subsample': 0.4, 'learning_rate': 0.01, 'max_depth': 13, 'random_state': 24, 'min_child_weight': 29}. Best is trial 31 with value: 1.3967772204790017.\u001b[0m\n"
          ]
        },
        {
          "output_type": "stream",
          "name": "stdout",
          "text": [
            "[05:18:23] WARNING: /workspace/src/objective/regression_obj.cu:152: reg:linear is now deprecated in favor of reg:squarederror.\n"
          ]
        },
        {
          "output_type": "stream",
          "name": "stderr",
          "text": [
            "\u001b[32m[I 2021-12-03 05:18:24,413]\u001b[0m Trial 46 finished with value: 1.4438666454957394 and parameters: {'lambda': 0.10129320188085568, 'alpha': 1.2848672600540396, 'colsample_bytree': 0.7, 'subsample': 0.4, 'learning_rate': 0.012, 'max_depth': 13, 'random_state': 24, 'min_child_weight': 2}. Best is trial 31 with value: 1.3967772204790017.\u001b[0m\n"
          ]
        },
        {
          "output_type": "stream",
          "name": "stdout",
          "text": [
            "[05:18:24] WARNING: /workspace/src/objective/regression_obj.cu:152: reg:linear is now deprecated in favor of reg:squarederror.\n"
          ]
        },
        {
          "output_type": "stream",
          "name": "stderr",
          "text": [
            "\u001b[32m[I 2021-12-03 05:18:25,048]\u001b[0m Trial 47 finished with value: 2.4344014810652572 and parameters: {'lambda': 1.3236976801814153, 'alpha': 0.18406587103145108, 'colsample_bytree': 0.6, 'subsample': 0.6, 'learning_rate': 0.02, 'max_depth': 7, 'random_state': 2020, 'min_child_weight': 145}. Best is trial 31 with value: 1.3967772204790017.\u001b[0m\n"
          ]
        },
        {
          "output_type": "stream",
          "name": "stdout",
          "text": [
            "[05:18:25] WARNING: /workspace/src/objective/regression_obj.cu:152: reg:linear is now deprecated in favor of reg:squarederror.\n"
          ]
        },
        {
          "output_type": "stream",
          "name": "stderr",
          "text": [
            "\u001b[32m[I 2021-12-03 05:18:26,485]\u001b[0m Trial 48 finished with value: 1.3981946533180778 and parameters: {'lambda': 0.6459620683075404, 'alpha': 0.47205810814447857, 'colsample_bytree': 0.4, 'subsample': 1.0, 'learning_rate': 0.01, 'max_depth': 5, 'random_state': 24, 'min_child_weight': 55}. Best is trial 31 with value: 1.3967772204790017.\u001b[0m\n"
          ]
        },
        {
          "output_type": "stream",
          "name": "stdout",
          "text": [
            "[05:18:26] WARNING: /workspace/src/objective/regression_obj.cu:152: reg:linear is now deprecated in favor of reg:squarederror.\n"
          ]
        },
        {
          "output_type": "stream",
          "name": "stderr",
          "text": [
            "\u001b[32m[I 2021-12-03 05:18:27,421]\u001b[0m Trial 49 finished with value: 1.3895877726865158 and parameters: {'lambda': 0.571919290169876, 'alpha': 0.47520687071319473, 'colsample_bytree': 0.4, 'subsample': 1.0, 'learning_rate': 0.014, 'max_depth': 5, 'random_state': 24, 'min_child_weight': 68}. Best is trial 49 with value: 1.3895877726865158.\u001b[0m\n"
          ]
        },
        {
          "output_type": "stream",
          "name": "stdout",
          "text": [
            "[05:18:27] WARNING: /workspace/src/objective/regression_obj.cu:152: reg:linear is now deprecated in favor of reg:squarederror.\n"
          ]
        },
        {
          "output_type": "stream",
          "name": "stderr",
          "text": [
            "\u001b[32m[I 2021-12-03 05:18:28,344]\u001b[0m Trial 50 finished with value: 1.5017267110347905 and parameters: {'lambda': 0.6742618492634332, 'alpha': 0.46396097600363756, 'colsample_bytree': 0.4, 'subsample': 1.0, 'learning_rate': 0.014, 'max_depth': 5, 'random_state': 24, 'min_child_weight': 72}. Best is trial 49 with value: 1.3895877726865158.\u001b[0m\n"
          ]
        },
        {
          "output_type": "stream",
          "name": "stdout",
          "text": [
            "[05:18:28] WARNING: /workspace/src/objective/regression_obj.cu:152: reg:linear is now deprecated in favor of reg:squarederror.\n"
          ]
        },
        {
          "output_type": "stream",
          "name": "stderr",
          "text": [
            "\u001b[32m[I 2021-12-03 05:18:29,212]\u001b[0m Trial 51 finished with value: 1.4070813910666387 and parameters: {'lambda': 0.26067533857678793, 'alpha': 1.0280152327095753, 'colsample_bytree': 0.4, 'subsample': 1.0, 'learning_rate': 0.014, 'max_depth': 5, 'random_state': 24, 'min_child_weight': 33}. Best is trial 49 with value: 1.3895877726865158.\u001b[0m\n"
          ]
        },
        {
          "output_type": "stream",
          "name": "stdout",
          "text": [
            "[05:18:29] WARNING: /workspace/src/objective/regression_obj.cu:152: reg:linear is now deprecated in favor of reg:squarederror.\n"
          ]
        },
        {
          "output_type": "stream",
          "name": "stderr",
          "text": [
            "\u001b[32m[I 2021-12-03 05:18:30,261]\u001b[0m Trial 52 finished with value: 1.3938052329459045 and parameters: {'lambda': 0.4475525970057224, 'alpha': 0.2314095580892006, 'colsample_bytree': 0.4, 'subsample': 1.0, 'learning_rate': 0.014, 'max_depth': 5, 'random_state': 24, 'min_child_weight': 54}. Best is trial 49 with value: 1.3895877726865158.\u001b[0m\n"
          ]
        },
        {
          "output_type": "stream",
          "name": "stdout",
          "text": [
            "[05:18:30] WARNING: /workspace/src/objective/regression_obj.cu:152: reg:linear is now deprecated in favor of reg:squarederror.\n"
          ]
        },
        {
          "output_type": "stream",
          "name": "stderr",
          "text": [
            "\u001b[32m[I 2021-12-03 05:18:31,413]\u001b[0m Trial 53 finished with value: 1.397926953592546 and parameters: {'lambda': 0.18003664105057232, 'alpha': 0.5512885409111731, 'colsample_bytree': 0.4, 'subsample': 1.0, 'learning_rate': 0.014, 'max_depth': 5, 'random_state': 24, 'min_child_weight': 55}. Best is trial 49 with value: 1.3895877726865158.\u001b[0m\n"
          ]
        },
        {
          "output_type": "stream",
          "name": "stdout",
          "text": [
            "[05:18:31] WARNING: /workspace/src/objective/regression_obj.cu:152: reg:linear is now deprecated in favor of reg:squarederror.\n"
          ]
        },
        {
          "output_type": "stream",
          "name": "stderr",
          "text": [
            "\u001b[32m[I 2021-12-03 05:18:32,507]\u001b[0m Trial 54 finished with value: 1.3938052329459045 and parameters: {'lambda': 0.173138688739932, 'alpha': 0.24493153723266714, 'colsample_bytree': 0.4, 'subsample': 1.0, 'learning_rate': 0.014, 'max_depth': 5, 'random_state': 24, 'min_child_weight': 54}. Best is trial 49 with value: 1.3895877726865158.\u001b[0m\n"
          ]
        },
        {
          "output_type": "stream",
          "name": "stdout",
          "text": [
            "[05:18:32] WARNING: /workspace/src/objective/regression_obj.cu:152: reg:linear is now deprecated in favor of reg:squarederror.\n"
          ]
        },
        {
          "output_type": "stream",
          "name": "stderr",
          "text": [
            "\u001b[32m[I 2021-12-03 05:18:33,522]\u001b[0m Trial 55 finished with value: 1.4084077026823403 and parameters: {'lambda': 0.22092178904056767, 'alpha': 0.25881702417498503, 'colsample_bytree': 0.4, 'subsample': 1.0, 'learning_rate': 0.014, 'max_depth': 15, 'random_state': 2020, 'min_child_weight': 65}. Best is trial 49 with value: 1.3895877726865158.\u001b[0m\n"
          ]
        },
        {
          "output_type": "stream",
          "name": "stdout",
          "text": [
            "[05:18:33] WARNING: /workspace/src/objective/regression_obj.cu:152: reg:linear is now deprecated in favor of reg:squarederror.\n"
          ]
        },
        {
          "output_type": "stream",
          "name": "stderr",
          "text": [
            "\u001b[32m[I 2021-12-03 05:18:34,812]\u001b[0m Trial 56 finished with value: 1.5134936952678486 and parameters: {'lambda': 0.16569974229983134, 'alpha': 0.20069822066033147, 'colsample_bytree': 0.4, 'subsample': 1.0, 'learning_rate': 0.014, 'max_depth': 11, 'random_state': 24, 'min_child_weight': 83}. Best is trial 49 with value: 1.3895877726865158.\u001b[0m\n"
          ]
        },
        {
          "output_type": "stream",
          "name": "stdout",
          "text": [
            "[05:18:34] WARNING: /workspace/src/objective/regression_obj.cu:152: reg:linear is now deprecated in favor of reg:squarederror.\n"
          ]
        },
        {
          "output_type": "stream",
          "name": "stderr",
          "text": [
            "\u001b[32m[I 2021-12-03 05:18:36,423]\u001b[0m Trial 57 finished with value: 1.5959248057869413 and parameters: {'lambda': 0.06431506652654506, 'alpha': 0.5227408042946736, 'colsample_bytree': 0.4, 'subsample': 1.0, 'learning_rate': 0.014, 'max_depth': 5, 'random_state': 24, 'min_child_weight': 109}. Best is trial 49 with value: 1.3895877726865158.\u001b[0m\n"
          ]
        },
        {
          "output_type": "stream",
          "name": "stdout",
          "text": [
            "[05:18:36] WARNING: /workspace/src/objective/regression_obj.cu:152: reg:linear is now deprecated in favor of reg:squarederror.\n"
          ]
        },
        {
          "output_type": "stream",
          "name": "stderr",
          "text": [
            "\u001b[32m[I 2021-12-03 05:18:37,328]\u001b[0m Trial 58 finished with value: 1.38797514011396 and parameters: {'lambda': 0.36328234789849156, 'alpha': 0.2837071871422936, 'colsample_bytree': 0.4, 'subsample': 1.0, 'learning_rate': 0.014, 'max_depth': 5, 'random_state': 24, 'min_child_weight': 38}. Best is trial 58 with value: 1.38797514011396.\u001b[0m\n"
          ]
        },
        {
          "output_type": "stream",
          "name": "stdout",
          "text": [
            "[05:18:37] WARNING: /workspace/src/objective/regression_obj.cu:152: reg:linear is now deprecated in favor of reg:squarederror.\n"
          ]
        },
        {
          "output_type": "stream",
          "name": "stderr",
          "text": [
            "\u001b[32m[I 2021-12-03 05:18:38,440]\u001b[0m Trial 59 finished with value: 1.3817517720779375 and parameters: {'lambda': 0.35218662653959276, 'alpha': 0.28338135686328153, 'colsample_bytree': 0.4, 'subsample': 1.0, 'learning_rate': 0.014, 'max_depth': 13, 'random_state': 24, 'min_child_weight': 41}. Best is trial 59 with value: 1.3817517720779375.\u001b[0m\n"
          ]
        },
        {
          "output_type": "stream",
          "name": "stdout",
          "text": [
            "[05:18:38] WARNING: /workspace/src/objective/regression_obj.cu:152: reg:linear is now deprecated in favor of reg:squarederror.\n"
          ]
        },
        {
          "output_type": "stream",
          "name": "stderr",
          "text": [
            "\u001b[32m[I 2021-12-03 05:18:39,374]\u001b[0m Trial 60 finished with value: 1.5054660970237521 and parameters: {'lambda': 0.3464287574312616, 'alpha': 0.32306676738688395, 'colsample_bytree': 0.4, 'subsample': 1.0, 'learning_rate': 0.014, 'max_depth': 5, 'random_state': 24, 'min_child_weight': 71}. Best is trial 59 with value: 1.3817517720779375.\u001b[0m\n"
          ]
        },
        {
          "output_type": "stream",
          "name": "stdout",
          "text": [
            "[05:18:39] WARNING: /workspace/src/objective/regression_obj.cu:152: reg:linear is now deprecated in favor of reg:squarederror.\n"
          ]
        },
        {
          "output_type": "stream",
          "name": "stderr",
          "text": [
            "\u001b[32m[I 2021-12-03 05:18:40,389]\u001b[0m Trial 61 finished with value: 1.3882083094954212 and parameters: {'lambda': 0.5052738703847668, 'alpha': 0.21125554210462466, 'colsample_bytree': 0.4, 'subsample': 1.0, 'learning_rate': 0.014, 'max_depth': 13, 'random_state': 24, 'min_child_weight': 39}. Best is trial 59 with value: 1.3817517720779375.\u001b[0m\n"
          ]
        },
        {
          "output_type": "stream",
          "name": "stdout",
          "text": [
            "[05:18:40] WARNING: /workspace/src/objective/regression_obj.cu:152: reg:linear is now deprecated in favor of reg:squarederror.\n"
          ]
        },
        {
          "output_type": "stream",
          "name": "stderr",
          "text": [
            "\u001b[32m[I 2021-12-03 05:18:41,485]\u001b[0m Trial 62 finished with value: 1.3817517720779375 and parameters: {'lambda': 0.9298483301793856, 'alpha': 0.1791205668661726, 'colsample_bytree': 0.4, 'subsample': 1.0, 'learning_rate': 0.014, 'max_depth': 13, 'random_state': 24, 'min_child_weight': 41}. Best is trial 59 with value: 1.3817517720779375.\u001b[0m\n"
          ]
        },
        {
          "output_type": "stream",
          "name": "stdout",
          "text": [
            "[05:18:41] WARNING: /workspace/src/objective/regression_obj.cu:152: reg:linear is now deprecated in favor of reg:squarederror.\n"
          ]
        },
        {
          "output_type": "stream",
          "name": "stderr",
          "text": [
            "\u001b[32m[I 2021-12-03 05:18:42,621]\u001b[0m Trial 63 finished with value: 1.3874233282181063 and parameters: {'lambda': 0.9273002937532323, 'alpha': 0.20921938160642956, 'colsample_bytree': 0.4, 'subsample': 1.0, 'learning_rate': 0.014, 'max_depth': 13, 'random_state': 24, 'min_child_weight': 40}. Best is trial 59 with value: 1.3817517720779375.\u001b[0m\n"
          ]
        },
        {
          "output_type": "stream",
          "name": "stdout",
          "text": [
            "[05:18:42] WARNING: /workspace/src/objective/regression_obj.cu:152: reg:linear is now deprecated in favor of reg:squarederror.\n"
          ]
        },
        {
          "output_type": "stream",
          "name": "stderr",
          "text": [
            "\u001b[32m[I 2021-12-03 05:18:43,750]\u001b[0m Trial 64 finished with value: 1.3874233282181063 and parameters: {'lambda': 0.9423963977444869, 'alpha': 0.14154746173645613, 'colsample_bytree': 0.4, 'subsample': 1.0, 'learning_rate': 0.014, 'max_depth': 13, 'random_state': 24, 'min_child_weight': 40}. Best is trial 59 with value: 1.3817517720779375.\u001b[0m\n"
          ]
        },
        {
          "output_type": "stream",
          "name": "stdout",
          "text": [
            "[05:18:43] WARNING: /workspace/src/objective/regression_obj.cu:152: reg:linear is now deprecated in favor of reg:squarederror.\n"
          ]
        },
        {
          "output_type": "stream",
          "name": "stderr",
          "text": [
            "\u001b[32m[I 2021-12-03 05:18:44,760]\u001b[0m Trial 65 finished with value: 1.3882083094954212 and parameters: {'lambda': 0.9206551492331732, 'alpha': 0.15551010085718434, 'colsample_bytree': 0.4, 'subsample': 1.0, 'learning_rate': 0.014, 'max_depth': 13, 'random_state': 24, 'min_child_weight': 39}. Best is trial 59 with value: 1.3817517720779375.\u001b[0m\n"
          ]
        },
        {
          "output_type": "stream",
          "name": "stdout",
          "text": [
            "[05:18:44] WARNING: /workspace/src/objective/regression_obj.cu:152: reg:linear is now deprecated in favor of reg:squarederror.\n"
          ]
        },
        {
          "output_type": "stream",
          "name": "stderr",
          "text": [
            "\u001b[32m[I 2021-12-03 05:18:45,822]\u001b[0m Trial 66 finished with value: 1.4247379522241097 and parameters: {'lambda': 0.8668077662089575, 'alpha': 0.1414287949708742, 'colsample_bytree': 0.9, 'subsample': 1.0, 'learning_rate': 0.014, 'max_depth': 13, 'random_state': 2020, 'min_child_weight': 39}. Best is trial 59 with value: 1.3817517720779375.\u001b[0m\n"
          ]
        },
        {
          "output_type": "stream",
          "name": "stdout",
          "text": [
            "[05:18:45] WARNING: /workspace/src/objective/regression_obj.cu:152: reg:linear is now deprecated in favor of reg:squarederror.\n"
          ]
        },
        {
          "output_type": "stream",
          "name": "stderr",
          "text": [
            "\u001b[32m[I 2021-12-03 05:18:46,848]\u001b[0m Trial 67 finished with value: 1.3867147857625322 and parameters: {'lambda': 2.548568225228099, 'alpha': 0.08009399793629352, 'colsample_bytree': 0.4, 'subsample': 1.0, 'learning_rate': 0.014, 'max_depth': 13, 'random_state': 24, 'min_child_weight': 42}. Best is trial 59 with value: 1.3817517720779375.\u001b[0m\n"
          ]
        },
        {
          "output_type": "stream",
          "name": "stdout",
          "text": [
            "[05:18:46] WARNING: /workspace/src/objective/regression_obj.cu:152: reg:linear is now deprecated in favor of reg:squarederror.\n"
          ]
        },
        {
          "output_type": "stream",
          "name": "stderr",
          "text": [
            "\u001b[32m[I 2021-12-03 05:18:47,881]\u001b[0m Trial 68 finished with value: 1.416076726448352 and parameters: {'lambda': 2.8002193887062687, 'alpha': 0.08282687625583462, 'colsample_bytree': 0.4, 'subsample': 1.0, 'learning_rate': 0.014, 'max_depth': 13, 'random_state': 24, 'min_child_weight': 28}. Best is trial 59 with value: 1.3817517720779375.\u001b[0m\n"
          ]
        },
        {
          "output_type": "stream",
          "name": "stdout",
          "text": [
            "[05:18:47] WARNING: /workspace/src/objective/regression_obj.cu:152: reg:linear is now deprecated in favor of reg:squarederror.\n"
          ]
        },
        {
          "output_type": "stream",
          "name": "stderr",
          "text": [
            "\u001b[32m[I 2021-12-03 05:18:48,780]\u001b[0m Trial 69 finished with value: 2.434397197885032 and parameters: {'lambda': 5.001171980452648, 'alpha': 0.03942529545186002, 'colsample_bytree': 0.4, 'subsample': 0.5, 'learning_rate': 0.014, 'max_depth': 13, 'random_state': 24, 'min_child_weight': 252}. Best is trial 59 with value: 1.3817517720779375.\u001b[0m\n"
          ]
        },
        {
          "output_type": "stream",
          "name": "stdout",
          "text": [
            "[05:18:48] WARNING: /workspace/src/objective/regression_obj.cu:152: reg:linear is now deprecated in favor of reg:squarederror.\n"
          ]
        },
        {
          "output_type": "stream",
          "name": "stderr",
          "text": [
            "\u001b[32m[I 2021-12-03 05:18:49,929]\u001b[0m Trial 70 finished with value: 1.5458075508073457 and parameters: {'lambda': 1.75673875122306, 'alpha': 0.14648381878110991, 'colsample_bytree': 0.4, 'subsample': 1.0, 'learning_rate': 0.014, 'max_depth': 13, 'random_state': 48, 'min_child_weight': 94}. Best is trial 59 with value: 1.3817517720779375.\u001b[0m\n"
          ]
        },
        {
          "output_type": "stream",
          "name": "stdout",
          "text": [
            "[05:18:49] WARNING: /workspace/src/objective/regression_obj.cu:152: reg:linear is now deprecated in favor of reg:squarederror.\n"
          ]
        },
        {
          "output_type": "stream",
          "name": "stderr",
          "text": [
            "\u001b[32m[I 2021-12-03 05:18:50,926]\u001b[0m Trial 71 finished with value: 1.4010182759583698 and parameters: {'lambda': 0.9559655461845739, 'alpha': 0.17913042456930792, 'colsample_bytree': 0.4, 'subsample': 1.0, 'learning_rate': 0.014, 'max_depth': 13, 'random_state': 24, 'min_child_weight': 45}. Best is trial 59 with value: 1.3817517720779375.\u001b[0m\n"
          ]
        },
        {
          "output_type": "stream",
          "name": "stdout",
          "text": [
            "[05:18:50] WARNING: /workspace/src/objective/regression_obj.cu:152: reg:linear is now deprecated in favor of reg:squarederror.\n"
          ]
        },
        {
          "output_type": "stream",
          "name": "stderr",
          "text": [
            "\u001b[32m[I 2021-12-03 05:18:51,900]\u001b[0m Trial 72 finished with value: 1.3886006392483425 and parameters: {'lambda': 2.510172451263142, 'alpha': 0.35339502000436973, 'colsample_bytree': 0.4, 'subsample': 1.0, 'learning_rate': 0.014, 'max_depth': 13, 'random_state': 24, 'min_child_weight': 38}. Best is trial 59 with value: 1.3817517720779375.\u001b[0m\n"
          ]
        },
        {
          "output_type": "stream",
          "name": "stdout",
          "text": [
            "[05:18:51] WARNING: /workspace/src/objective/regression_obj.cu:152: reg:linear is now deprecated in favor of reg:squarederror.\n"
          ]
        },
        {
          "output_type": "stream",
          "name": "stderr",
          "text": [
            "\u001b[32m[I 2021-12-03 05:18:52,942]\u001b[0m Trial 73 finished with value: 1.3901084382684832 and parameters: {'lambda': 1.8634131786713666, 'alpha': 0.08217594934183987, 'colsample_bytree': 0.4, 'subsample': 1.0, 'learning_rate': 0.014, 'max_depth': 13, 'random_state': 24, 'min_child_weight': 43}. Best is trial 59 with value: 1.3817517720779375.\u001b[0m\n"
          ]
        },
        {
          "output_type": "stream",
          "name": "stdout",
          "text": [
            "[05:18:52] WARNING: /workspace/src/objective/regression_obj.cu:152: reg:linear is now deprecated in favor of reg:squarederror.\n"
          ]
        },
        {
          "output_type": "stream",
          "name": "stderr",
          "text": [
            "\u001b[32m[I 2021-12-03 05:18:53,974]\u001b[0m Trial 74 finished with value: 1.4037376953689358 and parameters: {'lambda': 1.1416694768703353, 'alpha': 0.1677764697233735, 'colsample_bytree': 0.4, 'subsample': 0.8, 'learning_rate': 0.014, 'max_depth': 13, 'random_state': 24, 'min_child_weight': 31}. Best is trial 59 with value: 1.3817517720779375.\u001b[0m\n"
          ]
        },
        {
          "output_type": "stream",
          "name": "stdout",
          "text": [
            "[05:18:53] WARNING: /workspace/src/objective/regression_obj.cu:152: reg:linear is now deprecated in favor of reg:squarederror.\n"
          ]
        },
        {
          "output_type": "stream",
          "name": "stderr",
          "text": [
            "\u001b[32m[I 2021-12-03 05:18:55,506]\u001b[0m Trial 75 finished with value: 1.4022801790851476 and parameters: {'lambda': 0.0011780476374495324, 'alpha': 0.11239407037892339, 'colsample_bytree': 0.4, 'subsample': 1.0, 'learning_rate': 0.009, 'max_depth': 13, 'random_state': 24, 'min_child_weight': 27}. Best is trial 59 with value: 1.3817517720779375.\u001b[0m\n"
          ]
        },
        {
          "output_type": "stream",
          "name": "stdout",
          "text": [
            "[05:18:55] WARNING: /workspace/src/objective/regression_obj.cu:152: reg:linear is now deprecated in favor of reg:squarederror.\n"
          ]
        },
        {
          "output_type": "stream",
          "name": "stderr",
          "text": [
            "\u001b[32m[I 2021-12-03 05:18:56,485]\u001b[0m Trial 76 finished with value: 1.4146377736516693 and parameters: {'lambda': 1.5845748284363397, 'alpha': 0.2967979990700992, 'colsample_bytree': 0.9, 'subsample': 1.0, 'learning_rate': 0.014, 'max_depth': 13, 'random_state': 24, 'min_child_weight': 49}. Best is trial 59 with value: 1.3817517720779375.\u001b[0m\n"
          ]
        },
        {
          "output_type": "stream",
          "name": "stdout",
          "text": [
            "[05:18:56] WARNING: /workspace/src/objective/regression_obj.cu:152: reg:linear is now deprecated in favor of reg:squarederror.\n"
          ]
        },
        {
          "output_type": "stream",
          "name": "stderr",
          "text": [
            "\u001b[32m[I 2021-12-03 05:18:57,993]\u001b[0m Trial 77 finished with value: 1.3986588851132755 and parameters: {'lambda': 0.8289542943272346, 'alpha': 0.7062109143973982, 'colsample_bytree': 0.4, 'subsample': 1.0, 'learning_rate': 0.008, 'max_depth': 13, 'random_state': 24, 'min_child_weight': 37}. Best is trial 59 with value: 1.3817517720779375.\u001b[0m\n"
          ]
        },
        {
          "output_type": "stream",
          "name": "stdout",
          "text": [
            "[05:18:58] WARNING: /workspace/src/objective/regression_obj.cu:152: reg:linear is now deprecated in favor of reg:squarederror.\n"
          ]
        },
        {
          "output_type": "stream",
          "name": "stderr",
          "text": [
            "\u001b[32m[I 2021-12-03 05:18:59,006]\u001b[0m Trial 78 finished with value: 1.3998925811587786 and parameters: {'lambda': 0.3634800850072508, 'alpha': 0.037050262549340074, 'colsample_bytree': 0.4, 'subsample': 1.0, 'learning_rate': 0.014, 'max_depth': 13, 'random_state': 24, 'min_child_weight': 61}. Best is trial 59 with value: 1.3817517720779375.\u001b[0m\n"
          ]
        },
        {
          "output_type": "stream",
          "name": "stdout",
          "text": [
            "[05:18:59] WARNING: /workspace/src/objective/regression_obj.cu:152: reg:linear is now deprecated in favor of reg:squarederror.\n"
          ]
        },
        {
          "output_type": "stream",
          "name": "stderr",
          "text": [
            "\u001b[32m[I 2021-12-03 05:18:59,694]\u001b[0m Trial 79 finished with value: 1.399466210444932 and parameters: {'lambda': 3.1291943300472007, 'alpha': 0.06071966510566233, 'colsample_bytree': 0.4, 'subsample': 1.0, 'learning_rate': 0.02, 'max_depth': 13, 'random_state': 24, 'min_child_weight': 25}. Best is trial 59 with value: 1.3817517720779375.\u001b[0m\n"
          ]
        },
        {
          "output_type": "stream",
          "name": "stdout",
          "text": [
            "[05:18:59] WARNING: /workspace/src/objective/regression_obj.cu:152: reg:linear is now deprecated in favor of reg:squarederror.\n"
          ]
        },
        {
          "output_type": "stream",
          "name": "stderr",
          "text": [
            "\u001b[32m[I 2021-12-03 05:19:00,473]\u001b[0m Trial 80 finished with value: 2.4343971209951683 and parameters: {'lambda': 0.5356821754490343, 'alpha': 0.08717374933943713, 'colsample_bytree': 0.4, 'subsample': 0.5, 'learning_rate': 0.014, 'max_depth': 9, 'random_state': 48, 'min_child_weight': 183}. Best is trial 59 with value: 1.3817517720779375.\u001b[0m\n"
          ]
        },
        {
          "output_type": "stream",
          "name": "stdout",
          "text": [
            "[05:19:00] WARNING: /workspace/src/objective/regression_obj.cu:152: reg:linear is now deprecated in favor of reg:squarederror.\n"
          ]
        },
        {
          "output_type": "stream",
          "name": "stderr",
          "text": [
            "\u001b[32m[I 2021-12-03 05:19:01,440]\u001b[0m Trial 81 finished with value: 1.3886006392483425 and parameters: {'lambda': 6.356201665049787, 'alpha': 0.360043382289345, 'colsample_bytree': 0.4, 'subsample': 1.0, 'learning_rate': 0.014, 'max_depth': 13, 'random_state': 24, 'min_child_weight': 38}. Best is trial 59 with value: 1.3817517720779375.\u001b[0m\n"
          ]
        },
        {
          "output_type": "stream",
          "name": "stdout",
          "text": [
            "[05:19:01] WARNING: /workspace/src/objective/regression_obj.cu:152: reg:linear is now deprecated in favor of reg:squarederror.\n"
          ]
        },
        {
          "output_type": "stream",
          "name": "stderr",
          "text": [
            "\u001b[32m[I 2021-12-03 05:19:02,477]\u001b[0m Trial 82 finished with value: 1.3939053194066726 and parameters: {'lambda': 9.02327119159406, 'alpha': 0.3603249860224626, 'colsample_bytree': 0.4, 'subsample': 1.0, 'learning_rate': 0.016, 'max_depth': 13, 'random_state': 24, 'min_child_weight': 9}. Best is trial 59 with value: 1.3817517720779375.\u001b[0m\n"
          ]
        },
        {
          "output_type": "stream",
          "name": "stdout",
          "text": [
            "[05:19:02] WARNING: /workspace/src/objective/regression_obj.cu:152: reg:linear is now deprecated in favor of reg:squarederror.\n"
          ]
        },
        {
          "output_type": "stream",
          "name": "stderr",
          "text": [
            "\u001b[32m[I 2021-12-03 05:19:03,507]\u001b[0m Trial 83 finished with value: 1.3882083094954212 and parameters: {'lambda': 4.477298992694539, 'alpha': 0.2105872172149645, 'colsample_bytree': 0.4, 'subsample': 1.0, 'learning_rate': 0.014, 'max_depth': 13, 'random_state': 24, 'min_child_weight': 39}. Best is trial 59 with value: 1.3817517720779375.\u001b[0m\n"
          ]
        },
        {
          "output_type": "stream",
          "name": "stdout",
          "text": [
            "[05:19:03] WARNING: /workspace/src/objective/regression_obj.cu:152: reg:linear is now deprecated in favor of reg:squarederror.\n"
          ]
        },
        {
          "output_type": "stream",
          "name": "stderr",
          "text": [
            "\u001b[32m[I 2021-12-03 05:19:04,527]\u001b[0m Trial 84 finished with value: 1.3978528656540283 and parameters: {'lambda': 6.011895583284054, 'alpha': 0.21681178457520042, 'colsample_bytree': 0.4, 'subsample': 1.0, 'learning_rate': 0.014, 'max_depth': 13, 'random_state': 24, 'min_child_weight': 44}. Best is trial 59 with value: 1.3817517720779375.\u001b[0m\n"
          ]
        },
        {
          "output_type": "stream",
          "name": "stdout",
          "text": [
            "[05:19:04] WARNING: /workspace/src/objective/regression_obj.cu:152: reg:linear is now deprecated in favor of reg:squarederror.\n"
          ]
        },
        {
          "output_type": "stream",
          "name": "stderr",
          "text": [
            "\u001b[32m[I 2021-12-03 05:19:05,803]\u001b[0m Trial 85 finished with value: 1.5484641384462894 and parameters: {'lambda': 1.0730453473208539, 'alpha': 0.15125973200110576, 'colsample_bytree': 1.0, 'subsample': 0.8, 'learning_rate': 0.018, 'max_depth': 15, 'random_state': 24, 'min_child_weight': 78}. Best is trial 59 with value: 1.3817517720779375.\u001b[0m\n"
          ]
        },
        {
          "output_type": "stream",
          "name": "stdout",
          "text": [
            "[05:19:05] WARNING: /workspace/src/objective/regression_obj.cu:152: reg:linear is now deprecated in favor of reg:squarederror.\n"
          ]
        },
        {
          "output_type": "stream",
          "name": "stderr",
          "text": [
            "\u001b[32m[I 2021-12-03 05:19:06,967]\u001b[0m Trial 86 finished with value: 1.389013869037168 and parameters: {'lambda': 2.1912598218249326, 'alpha': 0.12441644509047277, 'colsample_bytree': 0.4, 'subsample': 1.0, 'learning_rate': 0.014, 'max_depth': 13, 'random_state': 24, 'min_child_weight': 50}. Best is trial 59 with value: 1.3817517720779375.\u001b[0m\n"
          ]
        },
        {
          "output_type": "stream",
          "name": "stdout",
          "text": [
            "[05:19:06] WARNING: /workspace/src/objective/regression_obj.cu:152: reg:linear is now deprecated in favor of reg:squarederror.\n"
          ]
        },
        {
          "output_type": "stream",
          "name": "stderr",
          "text": [
            "\u001b[32m[I 2021-12-03 05:19:08,029]\u001b[0m Trial 87 finished with value: 1.3775470652078008 and parameters: {'lambda': 0.2908119670332509, 'alpha': 0.2630126371564937, 'colsample_bytree': 0.4, 'subsample': 1.0, 'learning_rate': 0.014, 'max_depth': 13, 'random_state': 2020, 'min_child_weight': 24}. Best is trial 87 with value: 1.3775470652078008.\u001b[0m\n"
          ]
        },
        {
          "output_type": "stream",
          "name": "stdout",
          "text": [
            "[05:19:08] WARNING: /workspace/src/objective/regression_obj.cu:152: reg:linear is now deprecated in favor of reg:squarederror.\n"
          ]
        },
        {
          "output_type": "stream",
          "name": "stderr",
          "text": [
            "\u001b[32m[I 2021-12-03 05:19:08,934]\u001b[0m Trial 88 finished with value: 1.4060910330054737 and parameters: {'lambda': 0.28143475886590585, 'alpha': 0.2836488952253573, 'colsample_bytree': 0.4, 'subsample': 1.0, 'learning_rate': 0.014, 'max_depth': 13, 'random_state': 2020, 'min_child_weight': 9}. Best is trial 87 with value: 1.3775470652078008.\u001b[0m\n"
          ]
        },
        {
          "output_type": "stream",
          "name": "stdout",
          "text": [
            "[05:19:08] WARNING: /workspace/src/objective/regression_obj.cu:152: reg:linear is now deprecated in favor of reg:squarederror.\n"
          ]
        },
        {
          "output_type": "stream",
          "name": "stderr",
          "text": [
            "\u001b[32m[I 2021-12-03 05:19:09,982]\u001b[0m Trial 89 finished with value: 1.382040252469657 and parameters: {'lambda': 0.4606060075819375, 'alpha': 0.10381262426916871, 'colsample_bytree': 0.4, 'subsample': 1.0, 'learning_rate': 0.014, 'max_depth': 7, 'random_state': 2020, 'min_child_weight': 22}. Best is trial 87 with value: 1.3775470652078008.\u001b[0m\n"
          ]
        },
        {
          "output_type": "stream",
          "name": "stdout",
          "text": [
            "[05:19:10] WARNING: /workspace/src/objective/regression_obj.cu:152: reg:linear is now deprecated in favor of reg:squarederror.\n"
          ]
        },
        {
          "output_type": "stream",
          "name": "stderr",
          "text": [
            "\u001b[32m[I 2021-12-03 05:19:11,502]\u001b[0m Trial 90 finished with value: 1.4025414958877078 and parameters: {'lambda': 0.12636536645329943, 'alpha': 0.619837988923806, 'colsample_bytree': 0.4, 'subsample': 1.0, 'learning_rate': 0.009, 'max_depth': 7, 'random_state': 2020, 'min_child_weight': 61}. Best is trial 87 with value: 1.3775470652078008.\u001b[0m\n"
          ]
        },
        {
          "output_type": "stream",
          "name": "stdout",
          "text": [
            "[05:19:11] WARNING: /workspace/src/objective/regression_obj.cu:152: reg:linear is now deprecated in favor of reg:squarederror.\n"
          ]
        },
        {
          "output_type": "stream",
          "name": "stderr",
          "text": [
            "\u001b[32m[I 2021-12-03 05:19:12,576]\u001b[0m Trial 91 finished with value: 1.3775472199323218 and parameters: {'lambda': 0.41693884745720133, 'alpha': 0.09779112054893693, 'colsample_bytree': 0.4, 'subsample': 1.0, 'learning_rate': 0.014, 'max_depth': 7, 'random_state': 2020, 'min_child_weight': 24}. Best is trial 87 with value: 1.3775470652078008.\u001b[0m\n"
          ]
        },
        {
          "output_type": "stream",
          "name": "stdout",
          "text": [
            "[05:19:12] WARNING: /workspace/src/objective/regression_obj.cu:152: reg:linear is now deprecated in favor of reg:squarederror.\n"
          ]
        },
        {
          "output_type": "stream",
          "name": "stderr",
          "text": [
            "\u001b[32m[I 2021-12-03 05:19:13,484]\u001b[0m Trial 92 finished with value: 1.4039430179259367 and parameters: {'lambda': 4.550769878429552, 'alpha': 0.11041197799434407, 'colsample_bytree': 0.5, 'subsample': 1.0, 'learning_rate': 0.014, 'max_depth': 7, 'random_state': 2020, 'min_child_weight': 21}. Best is trial 87 with value: 1.3775470652078008.\u001b[0m\n"
          ]
        },
        {
          "output_type": "stream",
          "name": "stdout",
          "text": [
            "[05:19:13] WARNING: /workspace/src/objective/regression_obj.cu:152: reg:linear is now deprecated in favor of reg:squarederror.\n"
          ]
        },
        {
          "output_type": "stream",
          "name": "stderr",
          "text": [
            "\u001b[32m[I 2021-12-03 05:19:14,537]\u001b[0m Trial 93 finished with value: 1.3775472199323218 and parameters: {'lambda': 0.4269590229340445, 'alpha': 0.06740832363141418, 'colsample_bytree': 0.4, 'subsample': 1.0, 'learning_rate': 0.014, 'max_depth': 7, 'random_state': 2020, 'min_child_weight': 24}. Best is trial 87 with value: 1.3775470652078008.\u001b[0m\n"
          ]
        },
        {
          "output_type": "stream",
          "name": "stdout",
          "text": [
            "[05:19:14] WARNING: /workspace/src/objective/regression_obj.cu:152: reg:linear is now deprecated in favor of reg:squarederror.\n"
          ]
        },
        {
          "output_type": "stream",
          "name": "stderr",
          "text": [
            "\u001b[32m[I 2021-12-03 05:19:16,203]\u001b[0m Trial 94 finished with value: 1.3956756432810256 and parameters: {'lambda': 0.3287916201076862, 'alpha': 0.07048093849018494, 'colsample_bytree': 0.4, 'subsample': 1.0, 'learning_rate': 0.008, 'max_depth': 7, 'random_state': 2020, 'min_child_weight': 24}. Best is trial 87 with value: 1.3775470652078008.\u001b[0m\n"
          ]
        },
        {
          "output_type": "stream",
          "name": "stdout",
          "text": [
            "[05:19:16] WARNING: /workspace/src/objective/regression_obj.cu:152: reg:linear is now deprecated in favor of reg:squarederror.\n"
          ]
        },
        {
          "output_type": "stream",
          "name": "stderr",
          "text": [
            "\u001b[32m[I 2021-12-03 05:19:17,144]\u001b[0m Trial 95 finished with value: 1.4222703324750439 and parameters: {'lambda': 0.41433772670369007, 'alpha': 0.048391271987117616, 'colsample_bytree': 0.9, 'subsample': 0.7, 'learning_rate': 0.014, 'max_depth': 7, 'random_state': 2020, 'min_child_weight': 7}. Best is trial 87 with value: 1.3775470652078008.\u001b[0m\n"
          ]
        },
        {
          "output_type": "stream",
          "name": "stdout",
          "text": [
            "[05:19:17] WARNING: /workspace/src/objective/regression_obj.cu:152: reg:linear is now deprecated in favor of reg:squarederror.\n"
          ]
        },
        {
          "output_type": "stream",
          "name": "stderr",
          "text": [
            "\u001b[32m[I 2021-12-03 05:19:18,008]\u001b[0m Trial 96 finished with value: 1.4059165622287946 and parameters: {'lambda': 0.21185911574278612, 'alpha': 0.09760591518981787, 'colsample_bytree': 0.4, 'subsample': 1.0, 'learning_rate': 0.016, 'max_depth': 7, 'random_state': 2020, 'min_child_weight': 29}. Best is trial 87 with value: 1.3775470652078008.\u001b[0m\n"
          ]
        },
        {
          "output_type": "stream",
          "name": "stdout",
          "text": [
            "[05:19:18] WARNING: /workspace/src/objective/regression_obj.cu:152: reg:linear is now deprecated in favor of reg:squarederror.\n"
          ]
        },
        {
          "output_type": "stream",
          "name": "stderr",
          "text": [
            "\u001b[32m[I 2021-12-03 05:19:18,589]\u001b[0m Trial 97 finished with value: 1.5073609340743503 and parameters: {'lambda': 0.27440021250319613, 'alpha': 0.029319822780303473, 'colsample_bytree': 1.0, 'subsample': 1.0, 'learning_rate': 0.02, 'max_depth': 7, 'random_state': 2020, 'min_child_weight': 11}. Best is trial 87 with value: 1.3775470652078008.\u001b[0m\n"
          ]
        },
        {
          "output_type": "stream",
          "name": "stdout",
          "text": [
            "[05:19:18] WARNING: /workspace/src/objective/regression_obj.cu:152: reg:linear is now deprecated in favor of reg:squarederror.\n"
          ]
        },
        {
          "output_type": "stream",
          "name": "stderr",
          "text": [
            "\u001b[32m[I 2021-12-03 05:19:19,550]\u001b[0m Trial 98 finished with value: 1.404582115798004 and parameters: {'lambda': 0.7236370617308714, 'alpha': 0.0625144014521897, 'colsample_bytree': 0.4, 'subsample': 0.5, 'learning_rate': 0.014, 'max_depth': 7, 'random_state': 2020, 'min_child_weight': 1}. Best is trial 87 with value: 1.3775470652078008.\u001b[0m\n"
          ]
        },
        {
          "output_type": "stream",
          "name": "stdout",
          "text": [
            "[05:19:19] WARNING: /workspace/src/objective/regression_obj.cu:152: reg:linear is now deprecated in favor of reg:squarederror.\n"
          ]
        },
        {
          "output_type": "stream",
          "name": "stderr",
          "text": [
            "\u001b[32m[I 2021-12-03 05:19:20,432]\u001b[0m Trial 99 finished with value: 1.4127228930611235 and parameters: {'lambda': 0.4512906902348375, 'alpha': 0.07331817626819713, 'colsample_bytree': 0.4, 'subsample': 1.0, 'learning_rate': 0.014, 'max_depth': 7, 'random_state': 2020, 'min_child_weight': 32}. Best is trial 87 with value: 1.3775470652078008.\u001b[0m\n"
          ]
        },
        {
          "output_type": "stream",
          "name": "stdout",
          "text": [
            "Number of finished trials: 100\n",
            "Best trial: {'lambda': 0.2908119670332509, 'alpha': 0.2630126371564937, 'colsample_bytree': 0.4, 'subsample': 1.0, 'learning_rate': 0.014, 'max_depth': 13, 'random_state': 2020, 'min_child_weight': 24}\n"
          ]
        }
      ]
    },
    {
      "cell_type": "code",
      "metadata": {
        "id": "XWvHnSqoLgSu",
        "colab": {
          "base_uri": "https://localhost:8080/"
        },
        "outputId": "e615bee1-f80d-4f0d-83f7-b80532136486"
      },
      "source": [
        "trial_gk = study_gk.best_trial\n",
        "trial_params_gk = trial_gk.params\n",
        "print('Best Trial: score {},\\nparams {}'.format(trial_gk.value, trial_params_gk))"
      ],
      "execution_count": null,
      "outputs": [
        {
          "output_type": "stream",
          "name": "stdout",
          "text": [
            "Best Trial: score 1.3775470652078008,\n",
            "params {'lambda': 0.2908119670332509, 'alpha': 0.2630126371564937, 'colsample_bytree': 0.4, 'subsample': 1.0, 'learning_rate': 0.014, 'max_depth': 13, 'random_state': 2020, 'min_child_weight': 24}\n"
          ]
        }
      ]
    },
    {
      "cell_type": "code",
      "metadata": {
        "id": "AjfM5iuGLgSu",
        "colab": {
          "base_uri": "https://localhost:8080/"
        },
        "outputId": "e0325d04-06a5-416a-e820-95b33fa7cd2b"
      },
      "source": [
        "# Fitting data for field players\n",
        "xgb_model = xgb.XGBRegressor(**trial_params)\n",
        "xgb_model.fit(X_train, y_train)\n",
        "y_pred = xgb_model.predict(X_test)"
      ],
      "execution_count": null,
      "outputs": [
        {
          "output_type": "stream",
          "name": "stdout",
          "text": [
            "[05:19:20] WARNING: /workspace/src/objective/regression_obj.cu:152: reg:linear is now deprecated in favor of reg:squarederror.\n"
          ]
        }
      ]
    },
    {
      "cell_type": "code",
      "metadata": {
        "id": "qgVTE5z0LgSu",
        "colab": {
          "base_uri": "https://localhost:8080/"
        },
        "outputId": "cfddbf98-f465-4ba5-e28f-3428a02b019e"
      },
      "source": [
        "# Fitting data for goalkeepers\n",
        "xgb_model_gk = xgb.XGBRegressor(**trial_params_gk)\n",
        "xgb_model_gk.fit(X_train_gk, y_train_gk)\n",
        "y_pred_gk = xgb_model_gk.predict(X_test_gk)"
      ],
      "execution_count": null,
      "outputs": [
        {
          "output_type": "stream",
          "name": "stdout",
          "text": [
            "[05:19:21] WARNING: /workspace/src/objective/regression_obj.cu:152: reg:linear is now deprecated in favor of reg:squarederror.\n"
          ]
        }
      ]
    },
    {
      "cell_type": "markdown",
      "metadata": {
        "id": "LQWUkiiLLgSv"
      },
      "source": [
        "## Model evaluation"
      ]
    },
    {
      "cell_type": "code",
      "metadata": {
        "id": "8nGgLbcqlFJe",
        "colab": {
          "base_uri": "https://localhost:8080/"
        },
        "outputId": "4900559a-0411-43be-91da-5220731a05b3"
      },
      "source": [
        "rmse = mean_squared_error(y_test, y_pred, squared=False)\n",
        "print(rmse)"
      ],
      "execution_count": null,
      "outputs": [
        {
          "output_type": "stream",
          "name": "stdout",
          "text": [
            "2.8011435170178807\n"
          ]
        }
      ]
    },
    {
      "cell_type": "code",
      "metadata": {
        "id": "oXdJxAmkk9Kb",
        "colab": {
          "base_uri": "https://localhost:8080/"
        },
        "outputId": "b940c73d-d4df-48fb-d9e0-5187da0dee28"
      },
      "source": [
        "rmse_gk = mean_squared_error(y_test_gk, y_pred_gk, squared=False)\n",
        "print(rmse_gk)"
      ],
      "execution_count": null,
      "outputs": [
        {
          "output_type": "stream",
          "name": "stdout",
          "text": [
            "3.8474891838713163\n"
          ]
        }
      ]
    },
    {
      "cell_type": "code",
      "metadata": {
        "id": "KhEAdeOQLgSv",
        "colab": {
          "base_uri": "https://localhost:8080/",
          "height": 542
        },
        "outputId": "e6aca8b7-3799-4e16-a633-ebc67cc2a4d2"
      },
      "source": [
        "# Feature importance for field players\n",
        "import plotly.express as px\n",
        "\n",
        "X_train = pd.DataFrame(X_train, columns = X_train.columns)\n",
        "X_test = pd.DataFrame(X_test, columns=X_test.columns)\n",
        "\n",
        "d={\"Stats\" : X_train.columns , \"FI\" : xgb_model.feature_importances_}\n",
        "df = pd.DataFrame(d)\n",
        "df = df.sort_values(by='FI', ascending=0)\n",
        "\n",
        "fig = px.bar(df, x='Stats', y='FI', color=\"Stats\", template=\"plotly_dark\")\n",
        "fig.show()"
      ],
      "execution_count": null,
      "outputs": [
        {
          "output_type": "display_data",
          "data": {
            "text/html": [
              "<html>\n",
              "<head><meta charset=\"utf-8\" /></head>\n",
              "<body>\n",
              "    <div>\n",
              "            <script src=\"https://cdnjs.cloudflare.com/ajax/libs/mathjax/2.7.5/MathJax.js?config=TeX-AMS-MML_SVG\"></script><script type=\"text/javascript\">if (window.MathJax) {MathJax.Hub.Config({SVG: {font: \"STIX-Web\"}});}</script>\n",
              "                <script type=\"text/javascript\">window.PlotlyConfig = {MathJaxConfig: 'local'};</script>\n",
              "        <script src=\"https://cdn.plot.ly/plotly-latest.min.js\"></script>    \n",
              "            <div id=\"8490e2a4-e766-441e-8d2d-f45e9deb2ae2\" class=\"plotly-graph-div\" style=\"height:525px; width:100%;\"></div>\n",
              "            <script type=\"text/javascript\">\n",
              "                \n",
              "                    window.PLOTLYENV=window.PLOTLYENV || {};\n",
              "                    \n",
              "                if (document.getElementById(\"8490e2a4-e766-441e-8d2d-f45e9deb2ae2\")) {\n",
              "                    Plotly.newPlot(\n",
              "                        '8490e2a4-e766-441e-8d2d-f45e9deb2ae2',\n",
              "                        [{\"alignmentgroup\": \"True\", \"hoverlabel\": {\"namelength\": 0}, \"hovertemplate\": \"Stats=%{x}<br>FI=%{y}\", \"legendgroup\": \"Stats=CL\", \"marker\": {\"color\": \"#636efa\"}, \"name\": \"Stats=CL\", \"offsetgroup\": \"Stats=CL\", \"orientation\": \"v\", \"showlegend\": true, \"textposition\": \"auto\", \"type\": \"bar\", \"x\": [\"CL\"], \"xaxis\": \"x\", \"y\": [0.37701109051704407], \"yaxis\": \"y\"}, {\"alignmentgroup\": \"True\", \"hoverlabel\": {\"namelength\": 0}, \"hovertemplate\": \"Stats=%{x}<br>FI=%{y}\", \"legendgroup\": \"Stats=0\", \"marker\": {\"color\": \"#EF553B\"}, \"name\": \"Stats=0\", \"offsetgroup\": \"Stats=0\", \"orientation\": \"v\", \"showlegend\": true, \"textposition\": \"auto\", \"type\": \"bar\", \"x\": [0], \"xaxis\": \"x\", \"y\": [0.18818999826908112], \"yaxis\": \"y\"}, {\"alignmentgroup\": \"True\", \"hoverlabel\": {\"namelength\": 0}, \"hovertemplate\": \"Stats=%{x}<br>FI=%{y}\", \"legendgroup\": \"Stats=age\", \"marker\": {\"color\": \"#00cc96\"}, \"name\": \"Stats=age\", \"offsetgroup\": \"Stats=age\", \"orientation\": \"v\", \"showlegend\": true, \"textposition\": \"auto\", \"type\": \"bar\", \"x\": [\"age\"], \"xaxis\": \"x\", \"y\": [0.10672491788864136], \"yaxis\": \"y\"}, {\"alignmentgroup\": \"True\", \"hoverlabel\": {\"namelength\": 0}, \"hovertemplate\": \"Stats=%{x}<br>FI=%{y}\", \"legendgroup\": \"Stats=5\", \"marker\": {\"color\": \"#ab63fa\"}, \"name\": \"Stats=5\", \"offsetgroup\": \"Stats=5\", \"orientation\": \"v\", \"showlegend\": true, \"textposition\": \"auto\", \"type\": \"bar\", \"x\": [5], \"xaxis\": \"x\", \"y\": [0.0623588040471077], \"yaxis\": \"y\"}, {\"alignmentgroup\": \"True\", \"hoverlabel\": {\"namelength\": 0}, \"hovertemplate\": \"Stats=%{x}<br>FI=%{y}\", \"legendgroup\": \"Stats=league\", \"marker\": {\"color\": \"#FFA15A\"}, \"name\": \"Stats=league\", \"offsetgroup\": \"Stats=league\", \"orientation\": \"v\", \"showlegend\": true, \"textposition\": \"auto\", \"type\": \"bar\", \"x\": [\"league\"], \"xaxis\": \"x\", \"y\": [0.04166358336806297], \"yaxis\": \"y\"}, {\"alignmentgroup\": \"True\", \"hoverlabel\": {\"namelength\": 0}, \"hovertemplate\": \"Stats=%{x}<br>FI=%{y}\", \"legendgroup\": \"Stats=7\", \"marker\": {\"color\": \"#19d3f3\"}, \"name\": \"Stats=7\", \"offsetgroup\": \"Stats=7\", \"orientation\": \"v\", \"showlegend\": true, \"textposition\": \"auto\", \"type\": \"bar\", \"x\": [7], \"xaxis\": \"x\", \"y\": [0.029427366331219673], \"yaxis\": \"y\"}, {\"alignmentgroup\": \"True\", \"hoverlabel\": {\"namelength\": 0}, \"hovertemplate\": \"Stats=%{x}<br>FI=%{y}\", \"legendgroup\": \"Stats=Season\", \"marker\": {\"color\": \"#FF6692\"}, \"name\": \"Stats=Season\", \"offsetgroup\": \"Stats=Season\", \"orientation\": \"v\", \"showlegend\": true, \"textposition\": \"auto\", \"type\": \"bar\", \"x\": [\"Season\"], \"xaxis\": \"x\", \"y\": [0.02867778390645981], \"yaxis\": \"y\"}, {\"alignmentgroup\": \"True\", \"hoverlabel\": {\"namelength\": 0}, \"hovertemplate\": \"Stats=%{x}<br>FI=%{y}\", \"legendgroup\": \"Stats=2\", \"marker\": {\"color\": \"#B6E880\"}, \"name\": \"Stats=2\", \"offsetgroup\": \"Stats=2\", \"orientation\": \"v\", \"showlegend\": true, \"textposition\": \"auto\", \"type\": \"bar\", \"x\": [2], \"xaxis\": \"x\", \"y\": [0.025173520669341087], \"yaxis\": \"y\"}, {\"alignmentgroup\": \"True\", \"hoverlabel\": {\"namelength\": 0}, \"hovertemplate\": \"Stats=%{x}<br>FI=%{y}\", \"legendgroup\": \"Stats=4\", \"marker\": {\"color\": \"#FF97FF\"}, \"name\": \"Stats=4\", \"offsetgroup\": \"Stats=4\", \"orientation\": \"v\", \"showlegend\": true, \"textposition\": \"auto\", \"type\": \"bar\", \"x\": [4], \"xaxis\": \"x\", \"y\": [0.02511678636074066], \"yaxis\": \"y\"}, {\"alignmentgroup\": \"True\", \"hoverlabel\": {\"namelength\": 0}, \"hovertemplate\": \"Stats=%{x}<br>FI=%{y}\", \"legendgroup\": \"Stats=1\", \"marker\": {\"color\": \"#FECB52\"}, \"name\": \"Stats=1\", \"offsetgroup\": \"Stats=1\", \"orientation\": \"v\", \"showlegend\": true, \"textposition\": \"auto\", \"type\": \"bar\", \"x\": [1], \"xaxis\": \"x\", \"y\": [0.024276282638311386], \"yaxis\": \"y\"}, {\"alignmentgroup\": \"True\", \"hoverlabel\": {\"namelength\": 0}, \"hovertemplate\": \"Stats=%{x}<br>FI=%{y}\", \"legendgroup\": \"Stats=6\", \"marker\": {\"color\": \"#636efa\"}, \"name\": \"Stats=6\", \"offsetgroup\": \"Stats=6\", \"orientation\": \"v\", \"showlegend\": true, \"textposition\": \"auto\", \"type\": \"bar\", \"x\": [6], \"xaxis\": \"x\", \"y\": [0.0172882042825222], \"yaxis\": \"y\"}, {\"alignmentgroup\": \"True\", \"hoverlabel\": {\"namelength\": 0}, \"hovertemplate\": \"Stats=%{x}<br>FI=%{y}\", \"legendgroup\": \"Stats=squad\", \"marker\": {\"color\": \"#EF553B\"}, \"name\": \"Stats=squad\", \"offsetgroup\": \"Stats=squad\", \"orientation\": \"v\", \"showlegend\": true, \"textposition\": \"auto\", \"type\": \"bar\", \"x\": [\"squad\"], \"xaxis\": \"x\", \"y\": [0.01269419863820076], \"yaxis\": \"y\"}, {\"alignmentgroup\": \"True\", \"hoverlabel\": {\"namelength\": 0}, \"hovertemplate\": \"Stats=%{x}<br>FI=%{y}\", \"legendgroup\": \"Stats=9\", \"marker\": {\"color\": \"#00cc96\"}, \"name\": \"Stats=9\", \"offsetgroup\": \"Stats=9\", \"orientation\": \"v\", \"showlegend\": true, \"textposition\": \"auto\", \"type\": \"bar\", \"x\": [9], \"xaxis\": \"x\", \"y\": [0.012281369417905807], \"yaxis\": \"y\"}, {\"alignmentgroup\": \"True\", \"hoverlabel\": {\"namelength\": 0}, \"hovertemplate\": \"Stats=%{x}<br>FI=%{y}\", \"legendgroup\": \"Stats=8\", \"marker\": {\"color\": \"#ab63fa\"}, \"name\": \"Stats=8\", \"offsetgroup\": \"Stats=8\", \"orientation\": \"v\", \"showlegend\": true, \"textposition\": \"auto\", \"type\": \"bar\", \"x\": [8], \"xaxis\": \"x\", \"y\": [0.010140488855540752], \"yaxis\": \"y\"}, {\"alignmentgroup\": \"True\", \"hoverlabel\": {\"namelength\": 0}, \"hovertemplate\": \"Stats=%{x}<br>FI=%{y}\", \"legendgroup\": \"Stats=nationality\", \"marker\": {\"color\": \"#FFA15A\"}, \"name\": \"Stats=nationality\", \"offsetgroup\": \"Stats=nationality\", \"orientation\": \"v\", \"showlegend\": true, \"textposition\": \"auto\", \"type\": \"bar\", \"x\": [\"nationality\"], \"xaxis\": \"x\", \"y\": [0.009948763065040112], \"yaxis\": \"y\"}, {\"alignmentgroup\": \"True\", \"hoverlabel\": {\"namelength\": 0}, \"hovertemplate\": \"Stats=%{x}<br>FI=%{y}\", \"legendgroup\": \"Stats=foot\", \"marker\": {\"color\": \"#19d3f3\"}, \"name\": \"Stats=foot\", \"offsetgroup\": \"Stats=foot\", \"orientation\": \"v\", \"showlegend\": true, \"textposition\": \"auto\", \"type\": \"bar\", \"x\": [\"foot\"], \"xaxis\": \"x\", \"y\": [0.008601180277764797], \"yaxis\": \"y\"}, {\"alignmentgroup\": \"True\", \"hoverlabel\": {\"namelength\": 0}, \"hovertemplate\": \"Stats=%{x}<br>FI=%{y}\", \"legendgroup\": \"Stats=3\", \"marker\": {\"color\": \"#FF6692\"}, \"name\": \"Stats=3\", \"offsetgroup\": \"Stats=3\", \"orientation\": \"v\", \"showlegend\": true, \"textposition\": \"auto\", \"type\": \"bar\", \"x\": [3], \"xaxis\": \"x\", \"y\": [0.0081876115873456], \"yaxis\": \"y\"}, {\"alignmentgroup\": \"True\", \"hoverlabel\": {\"namelength\": 0}, \"hovertemplate\": \"Stats=%{x}<br>FI=%{y}\", \"legendgroup\": \"Stats=height\", \"marker\": {\"color\": \"#B6E880\"}, \"name\": \"Stats=height\", \"offsetgroup\": \"Stats=height\", \"orientation\": \"v\", \"showlegend\": true, \"textposition\": \"auto\", \"type\": \"bar\", \"x\": [\"height\"], \"xaxis\": \"x\", \"y\": [0.0074072531424462795], \"yaxis\": \"y\"}, {\"alignmentgroup\": \"True\", \"hoverlabel\": {\"namelength\": 0}, \"hovertemplate\": \"Stats=%{x}<br>FI=%{y}\", \"legendgroup\": \"Stats=position\", \"marker\": {\"color\": \"#FF97FF\"}, \"name\": \"Stats=position\", \"offsetgroup\": \"Stats=position\", \"orientation\": \"v\", \"showlegend\": true, \"textposition\": \"auto\", \"type\": \"bar\", \"x\": [\"position\"], \"xaxis\": \"x\", \"y\": [0.004830704536288977], \"yaxis\": \"y\"}, {\"alignmentgroup\": \"True\", \"hoverlabel\": {\"namelength\": 0}, \"hovertemplate\": \"Stats=%{x}<br>FI=%{y}\", \"legendgroup\": \"Stats=CLBestScorer\", \"marker\": {\"color\": \"#FECB52\"}, \"name\": \"Stats=CLBestScorer\", \"offsetgroup\": \"Stats=CLBestScorer\", \"orientation\": \"v\", \"showlegend\": true, \"textposition\": \"auto\", \"type\": \"bar\", \"x\": [\"CLBestScorer\"], \"xaxis\": \"x\", \"y\": [0.0], \"yaxis\": \"y\"}, {\"alignmentgroup\": \"True\", \"hoverlabel\": {\"namelength\": 0}, \"hovertemplate\": \"Stats=%{x}<br>FI=%{y}\", \"legendgroup\": \"Stats=WinCL\", \"marker\": {\"color\": \"#636efa\"}, \"name\": \"Stats=WinCL\", \"offsetgroup\": \"Stats=WinCL\", \"orientation\": \"v\", \"showlegend\": true, \"textposition\": \"auto\", \"type\": \"bar\", \"x\": [\"WinCL\"], \"xaxis\": \"x\", \"y\": [0.0], \"yaxis\": \"y\"}],\n",
              "                        {\"barmode\": \"relative\", \"legend\": {\"tracegroupgap\": 0}, \"margin\": {\"t\": 60}, \"template\": {\"data\": {\"bar\": [{\"error_x\": {\"color\": \"#f2f5fa\"}, \"error_y\": {\"color\": \"#f2f5fa\"}, \"marker\": {\"line\": {\"color\": \"rgb(17,17,17)\", \"width\": 0.5}}, \"type\": \"bar\"}], \"barpolar\": [{\"marker\": {\"line\": {\"color\": \"rgb(17,17,17)\", \"width\": 0.5}}, \"type\": \"barpolar\"}], \"carpet\": [{\"aaxis\": {\"endlinecolor\": \"#A2B1C6\", \"gridcolor\": \"#506784\", \"linecolor\": \"#506784\", \"minorgridcolor\": \"#506784\", \"startlinecolor\": \"#A2B1C6\"}, \"baxis\": {\"endlinecolor\": \"#A2B1C6\", \"gridcolor\": \"#506784\", \"linecolor\": \"#506784\", \"minorgridcolor\": \"#506784\", \"startlinecolor\": \"#A2B1C6\"}, \"type\": \"carpet\"}], \"choropleth\": [{\"colorbar\": {\"outlinewidth\": 0, \"ticks\": \"\"}, \"type\": \"choropleth\"}], \"contour\": [{\"colorbar\": {\"outlinewidth\": 0, \"ticks\": \"\"}, \"colorscale\": [[0.0, \"#0d0887\"], [0.1111111111111111, \"#46039f\"], [0.2222222222222222, \"#7201a8\"], [0.3333333333333333, \"#9c179e\"], [0.4444444444444444, \"#bd3786\"], [0.5555555555555556, \"#d8576b\"], [0.6666666666666666, \"#ed7953\"], [0.7777777777777778, \"#fb9f3a\"], [0.8888888888888888, \"#fdca26\"], [1.0, \"#f0f921\"]], \"type\": \"contour\"}], \"contourcarpet\": [{\"colorbar\": {\"outlinewidth\": 0, \"ticks\": \"\"}, \"type\": \"contourcarpet\"}], \"heatmap\": [{\"colorbar\": {\"outlinewidth\": 0, \"ticks\": \"\"}, \"colorscale\": [[0.0, \"#0d0887\"], [0.1111111111111111, \"#46039f\"], [0.2222222222222222, \"#7201a8\"], [0.3333333333333333, \"#9c179e\"], [0.4444444444444444, \"#bd3786\"], [0.5555555555555556, \"#d8576b\"], [0.6666666666666666, \"#ed7953\"], [0.7777777777777778, \"#fb9f3a\"], [0.8888888888888888, \"#fdca26\"], [1.0, \"#f0f921\"]], \"type\": \"heatmap\"}], \"heatmapgl\": [{\"colorbar\": {\"outlinewidth\": 0, \"ticks\": \"\"}, \"colorscale\": [[0.0, \"#0d0887\"], [0.1111111111111111, \"#46039f\"], [0.2222222222222222, \"#7201a8\"], [0.3333333333333333, \"#9c179e\"], [0.4444444444444444, \"#bd3786\"], [0.5555555555555556, \"#d8576b\"], [0.6666666666666666, \"#ed7953\"], [0.7777777777777778, \"#fb9f3a\"], [0.8888888888888888, \"#fdca26\"], [1.0, \"#f0f921\"]], \"type\": \"heatmapgl\"}], \"histogram\": [{\"marker\": {\"colorbar\": {\"outlinewidth\": 0, \"ticks\": \"\"}}, \"type\": \"histogram\"}], \"histogram2d\": [{\"colorbar\": {\"outlinewidth\": 0, \"ticks\": \"\"}, \"colorscale\": [[0.0, \"#0d0887\"], [0.1111111111111111, \"#46039f\"], [0.2222222222222222, \"#7201a8\"], [0.3333333333333333, \"#9c179e\"], [0.4444444444444444, \"#bd3786\"], [0.5555555555555556, \"#d8576b\"], [0.6666666666666666, \"#ed7953\"], [0.7777777777777778, \"#fb9f3a\"], [0.8888888888888888, \"#fdca26\"], [1.0, \"#f0f921\"]], \"type\": \"histogram2d\"}], \"histogram2dcontour\": [{\"colorbar\": {\"outlinewidth\": 0, \"ticks\": \"\"}, \"colorscale\": [[0.0, \"#0d0887\"], [0.1111111111111111, \"#46039f\"], [0.2222222222222222, \"#7201a8\"], [0.3333333333333333, \"#9c179e\"], [0.4444444444444444, \"#bd3786\"], [0.5555555555555556, \"#d8576b\"], [0.6666666666666666, \"#ed7953\"], [0.7777777777777778, \"#fb9f3a\"], [0.8888888888888888, \"#fdca26\"], [1.0, \"#f0f921\"]], \"type\": \"histogram2dcontour\"}], \"mesh3d\": [{\"colorbar\": {\"outlinewidth\": 0, \"ticks\": \"\"}, \"type\": \"mesh3d\"}], \"parcoords\": [{\"line\": {\"colorbar\": {\"outlinewidth\": 0, \"ticks\": \"\"}}, \"type\": \"parcoords\"}], \"pie\": [{\"automargin\": true, \"type\": \"pie\"}], \"scatter\": [{\"marker\": {\"line\": {\"color\": \"#283442\"}}, \"type\": \"scatter\"}], \"scatter3d\": [{\"line\": {\"colorbar\": {\"outlinewidth\": 0, \"ticks\": \"\"}}, \"marker\": {\"colorbar\": {\"outlinewidth\": 0, \"ticks\": \"\"}}, \"type\": \"scatter3d\"}], \"scattercarpet\": [{\"marker\": {\"colorbar\": {\"outlinewidth\": 0, \"ticks\": \"\"}}, \"type\": \"scattercarpet\"}], \"scattergeo\": [{\"marker\": {\"colorbar\": {\"outlinewidth\": 0, \"ticks\": \"\"}}, \"type\": \"scattergeo\"}], \"scattergl\": [{\"marker\": {\"line\": {\"color\": \"#283442\"}}, \"type\": \"scattergl\"}], \"scattermapbox\": [{\"marker\": {\"colorbar\": {\"outlinewidth\": 0, \"ticks\": \"\"}}, \"type\": \"scattermapbox\"}], \"scatterpolar\": [{\"marker\": {\"colorbar\": {\"outlinewidth\": 0, \"ticks\": \"\"}}, \"type\": \"scatterpolar\"}], \"scatterpolargl\": [{\"marker\": {\"colorbar\": {\"outlinewidth\": 0, \"ticks\": \"\"}}, \"type\": \"scatterpolargl\"}], \"scatterternary\": [{\"marker\": {\"colorbar\": {\"outlinewidth\": 0, \"ticks\": \"\"}}, \"type\": \"scatterternary\"}], \"surface\": [{\"colorbar\": {\"outlinewidth\": 0, \"ticks\": \"\"}, \"colorscale\": [[0.0, \"#0d0887\"], [0.1111111111111111, \"#46039f\"], [0.2222222222222222, \"#7201a8\"], [0.3333333333333333, \"#9c179e\"], [0.4444444444444444, \"#bd3786\"], [0.5555555555555556, \"#d8576b\"], [0.6666666666666666, \"#ed7953\"], [0.7777777777777778, \"#fb9f3a\"], [0.8888888888888888, \"#fdca26\"], [1.0, \"#f0f921\"]], \"type\": \"surface\"}], \"table\": [{\"cells\": {\"fill\": {\"color\": \"#506784\"}, \"line\": {\"color\": \"rgb(17,17,17)\"}}, \"header\": {\"fill\": {\"color\": \"#2a3f5f\"}, \"line\": {\"color\": \"rgb(17,17,17)\"}}, \"type\": \"table\"}]}, \"layout\": {\"annotationdefaults\": {\"arrowcolor\": \"#f2f5fa\", \"arrowhead\": 0, \"arrowwidth\": 1}, \"coloraxis\": {\"colorbar\": {\"outlinewidth\": 0, \"ticks\": \"\"}}, \"colorscale\": {\"diverging\": [[0, \"#8e0152\"], [0.1, \"#c51b7d\"], [0.2, \"#de77ae\"], [0.3, \"#f1b6da\"], [0.4, \"#fde0ef\"], [0.5, \"#f7f7f7\"], [0.6, \"#e6f5d0\"], [0.7, \"#b8e186\"], [0.8, \"#7fbc41\"], [0.9, \"#4d9221\"], [1, \"#276419\"]], \"sequential\": [[0.0, \"#0d0887\"], [0.1111111111111111, \"#46039f\"], [0.2222222222222222, \"#7201a8\"], [0.3333333333333333, \"#9c179e\"], [0.4444444444444444, \"#bd3786\"], [0.5555555555555556, \"#d8576b\"], [0.6666666666666666, \"#ed7953\"], [0.7777777777777778, \"#fb9f3a\"], [0.8888888888888888, \"#fdca26\"], [1.0, \"#f0f921\"]], \"sequentialminus\": [[0.0, \"#0d0887\"], [0.1111111111111111, \"#46039f\"], [0.2222222222222222, \"#7201a8\"], [0.3333333333333333, \"#9c179e\"], [0.4444444444444444, \"#bd3786\"], [0.5555555555555556, \"#d8576b\"], [0.6666666666666666, \"#ed7953\"], [0.7777777777777778, \"#fb9f3a\"], [0.8888888888888888, \"#fdca26\"], [1.0, \"#f0f921\"]]}, \"colorway\": [\"#636efa\", \"#EF553B\", \"#00cc96\", \"#ab63fa\", \"#FFA15A\", \"#19d3f3\", \"#FF6692\", \"#B6E880\", \"#FF97FF\", \"#FECB52\"], \"font\": {\"color\": \"#f2f5fa\"}, \"geo\": {\"bgcolor\": \"rgb(17,17,17)\", \"lakecolor\": \"rgb(17,17,17)\", \"landcolor\": \"rgb(17,17,17)\", \"showlakes\": true, \"showland\": true, \"subunitcolor\": \"#506784\"}, \"hoverlabel\": {\"align\": \"left\"}, \"hovermode\": \"closest\", \"mapbox\": {\"style\": \"dark\"}, \"paper_bgcolor\": \"rgb(17,17,17)\", \"plot_bgcolor\": \"rgb(17,17,17)\", \"polar\": {\"angularaxis\": {\"gridcolor\": \"#506784\", \"linecolor\": \"#506784\", \"ticks\": \"\"}, \"bgcolor\": \"rgb(17,17,17)\", \"radialaxis\": {\"gridcolor\": \"#506784\", \"linecolor\": \"#506784\", \"ticks\": \"\"}}, \"scene\": {\"xaxis\": {\"backgroundcolor\": \"rgb(17,17,17)\", \"gridcolor\": \"#506784\", \"gridwidth\": 2, \"linecolor\": \"#506784\", \"showbackground\": true, \"ticks\": \"\", \"zerolinecolor\": \"#C8D4E3\"}, \"yaxis\": {\"backgroundcolor\": \"rgb(17,17,17)\", \"gridcolor\": \"#506784\", \"gridwidth\": 2, \"linecolor\": \"#506784\", \"showbackground\": true, \"ticks\": \"\", \"zerolinecolor\": \"#C8D4E3\"}, \"zaxis\": {\"backgroundcolor\": \"rgb(17,17,17)\", \"gridcolor\": \"#506784\", \"gridwidth\": 2, \"linecolor\": \"#506784\", \"showbackground\": true, \"ticks\": \"\", \"zerolinecolor\": \"#C8D4E3\"}}, \"shapedefaults\": {\"line\": {\"color\": \"#f2f5fa\"}}, \"sliderdefaults\": {\"bgcolor\": \"#C8D4E3\", \"bordercolor\": \"rgb(17,17,17)\", \"borderwidth\": 1, \"tickwidth\": 0}, \"ternary\": {\"aaxis\": {\"gridcolor\": \"#506784\", \"linecolor\": \"#506784\", \"ticks\": \"\"}, \"baxis\": {\"gridcolor\": \"#506784\", \"linecolor\": \"#506784\", \"ticks\": \"\"}, \"bgcolor\": \"rgb(17,17,17)\", \"caxis\": {\"gridcolor\": \"#506784\", \"linecolor\": \"#506784\", \"ticks\": \"\"}}, \"title\": {\"x\": 0.05}, \"updatemenudefaults\": {\"bgcolor\": \"#506784\", \"borderwidth\": 0}, \"xaxis\": {\"automargin\": true, \"gridcolor\": \"#283442\", \"linecolor\": \"#506784\", \"ticks\": \"\", \"title\": {\"standoff\": 15}, \"zerolinecolor\": \"#283442\", \"zerolinewidth\": 2}, \"yaxis\": {\"automargin\": true, \"gridcolor\": \"#283442\", \"linecolor\": \"#506784\", \"ticks\": \"\", \"title\": {\"standoff\": 15}, \"zerolinecolor\": \"#283442\", \"zerolinewidth\": 2}}}, \"xaxis\": {\"anchor\": \"y\", \"categoryarray\": [\"CL\", 0, \"age\", 5, \"league\", 7, \"Season\", 2, 4, 1, 6, \"squad\", 9, 8, \"nationality\", \"foot\", 3, \"height\", \"position\", \"CLBestScorer\", \"WinCL\"], \"categoryorder\": \"array\", \"domain\": [0.0, 1.0], \"title\": {\"text\": \"Stats\"}}, \"yaxis\": {\"anchor\": \"x\", \"domain\": [0.0, 1.0], \"title\": {\"text\": \"FI\"}}},\n",
              "                        {\"responsive\": true}\n",
              "                    ).then(function(){\n",
              "                            \n",
              "var gd = document.getElementById('8490e2a4-e766-441e-8d2d-f45e9deb2ae2');\n",
              "var x = new MutationObserver(function (mutations, observer) {{\n",
              "        var display = window.getComputedStyle(gd).display;\n",
              "        if (!display || display === 'none') {{\n",
              "            console.log([gd, 'removed!']);\n",
              "            Plotly.purge(gd);\n",
              "            observer.disconnect();\n",
              "        }}\n",
              "}});\n",
              "\n",
              "// Listen for the removal of the full notebook cells\n",
              "var notebookContainer = gd.closest('#notebook-container');\n",
              "if (notebookContainer) {{\n",
              "    x.observe(notebookContainer, {childList: true});\n",
              "}}\n",
              "\n",
              "// Listen for the clearing of the current output cell\n",
              "var outputEl = gd.closest('.output');\n",
              "if (outputEl) {{\n",
              "    x.observe(outputEl, {childList: true});\n",
              "}}\n",
              "\n",
              "                        })\n",
              "                };\n",
              "                \n",
              "            </script>\n",
              "        </div>\n",
              "</body>\n",
              "</html>"
            ]
          },
          "metadata": {}
        }
      ]
    },
    {
      "cell_type": "code",
      "metadata": {
        "id": "oeWuxK-hLgSv",
        "colab": {
          "base_uri": "https://localhost:8080/",
          "height": 542
        },
        "outputId": "743ca066-327b-475d-cbaf-7f6bf79d22d1"
      },
      "source": [
        "# Feature importance for goalkeepers\n",
        "X_train_gk = pd.DataFrame(X_train_gk, columns = X_train_gk.columns)\n",
        "X_test_gk = pd.DataFrame(X_test_gk, columns=X_test_gk.columns)\n",
        "\n",
        "d={\"Stats\" : X_train_gk.columns , \"FI\" : xgb_model_gk.feature_importances_}\n",
        "df_gk = pd.DataFrame(d)\n",
        "df_gk = df_gk.sort_values(by='FI', ascending=0)\n",
        "\n",
        "fig = px.bar(df_gk, x='Stats', y='FI', color=\"Stats\", template=\"plotly_dark\")\n",
        "fig.show()  "
      ],
      "execution_count": null,
      "outputs": [
        {
          "output_type": "display_data",
          "data": {
            "text/html": [
              "<html>\n",
              "<head><meta charset=\"utf-8\" /></head>\n",
              "<body>\n",
              "    <div>\n",
              "            <script src=\"https://cdnjs.cloudflare.com/ajax/libs/mathjax/2.7.5/MathJax.js?config=TeX-AMS-MML_SVG\"></script><script type=\"text/javascript\">if (window.MathJax) {MathJax.Hub.Config({SVG: {font: \"STIX-Web\"}});}</script>\n",
              "                <script type=\"text/javascript\">window.PlotlyConfig = {MathJaxConfig: 'local'};</script>\n",
              "        <script src=\"https://cdn.plot.ly/plotly-latest.min.js\"></script>    \n",
              "            <div id=\"0d45df97-adac-4234-aa2c-31ae10ebfd42\" class=\"plotly-graph-div\" style=\"height:525px; width:100%;\"></div>\n",
              "            <script type=\"text/javascript\">\n",
              "                \n",
              "                    window.PLOTLYENV=window.PLOTLYENV || {};\n",
              "                    \n",
              "                if (document.getElementById(\"0d45df97-adac-4234-aa2c-31ae10ebfd42\")) {\n",
              "                    Plotly.newPlot(\n",
              "                        '0d45df97-adac-4234-aa2c-31ae10ebfd42',\n",
              "                        [{\"alignmentgroup\": \"True\", \"hoverlabel\": {\"namelength\": 0}, \"hovertemplate\": \"Stats=%{x}<br>FI=%{y}\", \"legendgroup\": \"Stats=passes_launched_gk\", \"marker\": {\"color\": \"#636efa\"}, \"name\": \"Stats=passes_launched_gk\", \"offsetgroup\": \"Stats=passes_launched_gk\", \"orientation\": \"v\", \"showlegend\": true, \"textposition\": \"auto\", \"type\": \"bar\", \"x\": [\"passes_launched_gk\"], \"xaxis\": \"x\", \"y\": [0.32778626680374146], \"yaxis\": \"y\"}, {\"alignmentgroup\": \"True\", \"hoverlabel\": {\"namelength\": 0}, \"hovertemplate\": \"Stats=%{x}<br>FI=%{y}\", \"legendgroup\": \"Stats=clean_sheets\", \"marker\": {\"color\": \"#EF553B\"}, \"name\": \"Stats=clean_sheets\", \"offsetgroup\": \"Stats=clean_sheets\", \"orientation\": \"v\", \"showlegend\": true, \"textposition\": \"auto\", \"type\": \"bar\", \"x\": [\"clean_sheets\"], \"xaxis\": \"x\", \"y\": [0.31113073229789734], \"yaxis\": \"y\"}, {\"alignmentgroup\": \"True\", \"hoverlabel\": {\"namelength\": 0}, \"hovertemplate\": \"Stats=%{x}<br>FI=%{y}\", \"legendgroup\": \"Stats=age\", \"marker\": {\"color\": \"#00cc96\"}, \"name\": \"Stats=age\", \"offsetgroup\": \"Stats=age\", \"orientation\": \"v\", \"showlegend\": true, \"textposition\": \"auto\", \"type\": \"bar\", \"x\": [\"age\"], \"xaxis\": \"x\", \"y\": [0.12433554232120514], \"yaxis\": \"y\"}, {\"alignmentgroup\": \"True\", \"hoverlabel\": {\"namelength\": 0}, \"hovertemplate\": \"Stats=%{x}<br>FI=%{y}\", \"legendgroup\": \"Stats=pens_saved\", \"marker\": {\"color\": \"#ab63fa\"}, \"name\": \"Stats=pens_saved\", \"offsetgroup\": \"Stats=pens_saved\", \"orientation\": \"v\", \"showlegend\": true, \"textposition\": \"auto\", \"type\": \"bar\", \"x\": [\"pens_saved\"], \"xaxis\": \"x\", \"y\": [0.081123486161232], \"yaxis\": \"y\"}, {\"alignmentgroup\": \"True\", \"hoverlabel\": {\"namelength\": 0}, \"hovertemplate\": \"Stats=%{x}<br>FI=%{y}\", \"legendgroup\": \"Stats=CL\", \"marker\": {\"color\": \"#FFA15A\"}, \"name\": \"Stats=CL\", \"offsetgroup\": \"Stats=CL\", \"orientation\": \"v\", \"showlegend\": true, \"textposition\": \"auto\", \"type\": \"bar\", \"x\": [\"CL\"], \"xaxis\": \"x\", \"y\": [0.057382982224226], \"yaxis\": \"y\"}, {\"alignmentgroup\": \"True\", \"hoverlabel\": {\"namelength\": 0}, \"hovertemplate\": \"Stats=%{x}<br>FI=%{y}\", \"legendgroup\": \"Stats=Season\", \"marker\": {\"color\": \"#19d3f3\"}, \"name\": \"Stats=Season\", \"offsetgroup\": \"Stats=Season\", \"orientation\": \"v\", \"showlegend\": true, \"textposition\": \"auto\", \"type\": \"bar\", \"x\": [\"Season\"], \"xaxis\": \"x\", \"y\": [0.039237238466739655], \"yaxis\": \"y\"}, {\"alignmentgroup\": \"True\", \"hoverlabel\": {\"namelength\": 0}, \"hovertemplate\": \"Stats=%{x}<br>FI=%{y}\", \"legendgroup\": \"Stats=squad\", \"marker\": {\"color\": \"#FF6692\"}, \"name\": \"Stats=squad\", \"offsetgroup\": \"Stats=squad\", \"orientation\": \"v\", \"showlegend\": true, \"textposition\": \"auto\", \"type\": \"bar\", \"x\": [\"squad\"], \"xaxis\": \"x\", \"y\": [0.022548222914338112], \"yaxis\": \"y\"}, {\"alignmentgroup\": \"True\", \"hoverlabel\": {\"namelength\": 0}, \"hovertemplate\": \"Stats=%{x}<br>FI=%{y}\", \"legendgroup\": \"Stats=league\", \"marker\": {\"color\": \"#B6E880\"}, \"name\": \"Stats=league\", \"offsetgroup\": \"Stats=league\", \"orientation\": \"v\", \"showlegend\": true, \"textposition\": \"auto\", \"type\": \"bar\", \"x\": [\"league\"], \"xaxis\": \"x\", \"y\": [0.020968623459339142], \"yaxis\": \"y\"}, {\"alignmentgroup\": \"True\", \"hoverlabel\": {\"namelength\": 0}, \"hovertemplate\": \"Stats=%{x}<br>FI=%{y}\", \"legendgroup\": \"Stats=height\", \"marker\": {\"color\": \"#FF97FF\"}, \"name\": \"Stats=height\", \"offsetgroup\": \"Stats=height\", \"orientation\": \"v\", \"showlegend\": true, \"textposition\": \"auto\", \"type\": \"bar\", \"x\": [\"height\"], \"xaxis\": \"x\", \"y\": [0.01021921169012785], \"yaxis\": \"y\"}, {\"alignmentgroup\": \"True\", \"hoverlabel\": {\"namelength\": 0}, \"hovertemplate\": \"Stats=%{x}<br>FI=%{y}\", \"legendgroup\": \"Stats=foot\", \"marker\": {\"color\": \"#FECB52\"}, \"name\": \"Stats=foot\", \"offsetgroup\": \"Stats=foot\", \"orientation\": \"v\", \"showlegend\": true, \"textposition\": \"auto\", \"type\": \"bar\", \"x\": [\"foot\"], \"xaxis\": \"x\", \"y\": [0.005267668049782515], \"yaxis\": \"y\"}, {\"alignmentgroup\": \"True\", \"hoverlabel\": {\"namelength\": 0}, \"hovertemplate\": \"Stats=%{x}<br>FI=%{y}\", \"legendgroup\": \"Stats=nationality\", \"marker\": {\"color\": \"#636efa\"}, \"name\": \"Stats=nationality\", \"offsetgroup\": \"Stats=nationality\", \"orientation\": \"v\", \"showlegend\": true, \"textposition\": \"auto\", \"type\": \"bar\", \"x\": [\"nationality\"], \"xaxis\": \"x\", \"y\": [0.0], \"yaxis\": \"y\"}, {\"alignmentgroup\": \"True\", \"hoverlabel\": {\"namelength\": 0}, \"hovertemplate\": \"Stats=%{x}<br>FI=%{y}\", \"legendgroup\": \"Stats=position\", \"marker\": {\"color\": \"#EF553B\"}, \"name\": \"Stats=position\", \"offsetgroup\": \"Stats=position\", \"orientation\": \"v\", \"showlegend\": true, \"textposition\": \"auto\", \"type\": \"bar\", \"x\": [\"position\"], \"xaxis\": \"x\", \"y\": [0.0], \"yaxis\": \"y\"}, {\"alignmentgroup\": \"True\", \"hoverlabel\": {\"namelength\": 0}, \"hovertemplate\": \"Stats=%{x}<br>FI=%{y}\", \"legendgroup\": \"Stats=WinCL\", \"marker\": {\"color\": \"#00cc96\"}, \"name\": \"Stats=WinCL\", \"offsetgroup\": \"Stats=WinCL\", \"orientation\": \"v\", \"showlegend\": true, \"textposition\": \"auto\", \"type\": \"bar\", \"x\": [\"WinCL\"], \"xaxis\": \"x\", \"y\": [0.0], \"yaxis\": \"y\"}, {\"alignmentgroup\": \"True\", \"hoverlabel\": {\"namelength\": 0}, \"hovertemplate\": \"Stats=%{x}<br>FI=%{y}\", \"legendgroup\": \"Stats=CLBestScorer\", \"marker\": {\"color\": \"#ab63fa\"}, \"name\": \"Stats=CLBestScorer\", \"offsetgroup\": \"Stats=CLBestScorer\", \"orientation\": \"v\", \"showlegend\": true, \"textposition\": \"auto\", \"type\": \"bar\", \"x\": [\"CLBestScorer\"], \"xaxis\": \"x\", \"y\": [0.0], \"yaxis\": \"y\"}, {\"alignmentgroup\": \"True\", \"hoverlabel\": {\"namelength\": 0}, \"hovertemplate\": \"Stats=%{x}<br>FI=%{y}\", \"legendgroup\": \"Stats=MP\", \"marker\": {\"color\": \"#FFA15A\"}, \"name\": \"Stats=MP\", \"offsetgroup\": \"Stats=MP\", \"orientation\": \"v\", \"showlegend\": true, \"textposition\": \"auto\", \"type\": \"bar\", \"x\": [\"MP\"], \"xaxis\": \"x\", \"y\": [0.0], \"yaxis\": \"y\"}],\n",
              "                        {\"barmode\": \"relative\", \"legend\": {\"tracegroupgap\": 0}, \"margin\": {\"t\": 60}, \"template\": {\"data\": {\"bar\": [{\"error_x\": {\"color\": \"#f2f5fa\"}, \"error_y\": {\"color\": \"#f2f5fa\"}, \"marker\": {\"line\": {\"color\": \"rgb(17,17,17)\", \"width\": 0.5}}, \"type\": \"bar\"}], \"barpolar\": [{\"marker\": {\"line\": {\"color\": \"rgb(17,17,17)\", \"width\": 0.5}}, \"type\": \"barpolar\"}], \"carpet\": [{\"aaxis\": {\"endlinecolor\": \"#A2B1C6\", \"gridcolor\": \"#506784\", \"linecolor\": \"#506784\", \"minorgridcolor\": \"#506784\", \"startlinecolor\": \"#A2B1C6\"}, \"baxis\": {\"endlinecolor\": \"#A2B1C6\", \"gridcolor\": \"#506784\", \"linecolor\": \"#506784\", \"minorgridcolor\": \"#506784\", \"startlinecolor\": \"#A2B1C6\"}, \"type\": \"carpet\"}], \"choropleth\": [{\"colorbar\": {\"outlinewidth\": 0, \"ticks\": \"\"}, \"type\": \"choropleth\"}], \"contour\": [{\"colorbar\": {\"outlinewidth\": 0, \"ticks\": \"\"}, \"colorscale\": [[0.0, \"#0d0887\"], [0.1111111111111111, \"#46039f\"], [0.2222222222222222, \"#7201a8\"], [0.3333333333333333, \"#9c179e\"], [0.4444444444444444, \"#bd3786\"], [0.5555555555555556, \"#d8576b\"], [0.6666666666666666, \"#ed7953\"], [0.7777777777777778, \"#fb9f3a\"], [0.8888888888888888, \"#fdca26\"], [1.0, \"#f0f921\"]], \"type\": \"contour\"}], \"contourcarpet\": [{\"colorbar\": {\"outlinewidth\": 0, \"ticks\": \"\"}, \"type\": \"contourcarpet\"}], \"heatmap\": [{\"colorbar\": {\"outlinewidth\": 0, \"ticks\": \"\"}, \"colorscale\": [[0.0, \"#0d0887\"], [0.1111111111111111, \"#46039f\"], [0.2222222222222222, \"#7201a8\"], [0.3333333333333333, \"#9c179e\"], [0.4444444444444444, \"#bd3786\"], [0.5555555555555556, \"#d8576b\"], [0.6666666666666666, \"#ed7953\"], [0.7777777777777778, \"#fb9f3a\"], [0.8888888888888888, \"#fdca26\"], [1.0, \"#f0f921\"]], \"type\": \"heatmap\"}], \"heatmapgl\": [{\"colorbar\": {\"outlinewidth\": 0, \"ticks\": \"\"}, \"colorscale\": [[0.0, \"#0d0887\"], [0.1111111111111111, \"#46039f\"], [0.2222222222222222, \"#7201a8\"], [0.3333333333333333, \"#9c179e\"], [0.4444444444444444, \"#bd3786\"], [0.5555555555555556, \"#d8576b\"], [0.6666666666666666, \"#ed7953\"], [0.7777777777777778, \"#fb9f3a\"], [0.8888888888888888, \"#fdca26\"], [1.0, \"#f0f921\"]], \"type\": \"heatmapgl\"}], \"histogram\": [{\"marker\": {\"colorbar\": {\"outlinewidth\": 0, \"ticks\": \"\"}}, \"type\": \"histogram\"}], \"histogram2d\": [{\"colorbar\": {\"outlinewidth\": 0, \"ticks\": \"\"}, \"colorscale\": [[0.0, \"#0d0887\"], [0.1111111111111111, \"#46039f\"], [0.2222222222222222, \"#7201a8\"], [0.3333333333333333, \"#9c179e\"], [0.4444444444444444, \"#bd3786\"], [0.5555555555555556, \"#d8576b\"], [0.6666666666666666, \"#ed7953\"], [0.7777777777777778, \"#fb9f3a\"], [0.8888888888888888, \"#fdca26\"], [1.0, \"#f0f921\"]], \"type\": \"histogram2d\"}], \"histogram2dcontour\": [{\"colorbar\": {\"outlinewidth\": 0, \"ticks\": \"\"}, \"colorscale\": [[0.0, \"#0d0887\"], [0.1111111111111111, \"#46039f\"], [0.2222222222222222, \"#7201a8\"], [0.3333333333333333, \"#9c179e\"], [0.4444444444444444, \"#bd3786\"], [0.5555555555555556, \"#d8576b\"], [0.6666666666666666, \"#ed7953\"], [0.7777777777777778, \"#fb9f3a\"], [0.8888888888888888, \"#fdca26\"], [1.0, \"#f0f921\"]], \"type\": \"histogram2dcontour\"}], \"mesh3d\": [{\"colorbar\": {\"outlinewidth\": 0, \"ticks\": \"\"}, \"type\": \"mesh3d\"}], \"parcoords\": [{\"line\": {\"colorbar\": {\"outlinewidth\": 0, \"ticks\": \"\"}}, \"type\": \"parcoords\"}], \"pie\": [{\"automargin\": true, \"type\": \"pie\"}], \"scatter\": [{\"marker\": {\"line\": {\"color\": \"#283442\"}}, \"type\": \"scatter\"}], \"scatter3d\": [{\"line\": {\"colorbar\": {\"outlinewidth\": 0, \"ticks\": \"\"}}, \"marker\": {\"colorbar\": {\"outlinewidth\": 0, \"ticks\": \"\"}}, \"type\": \"scatter3d\"}], \"scattercarpet\": [{\"marker\": {\"colorbar\": {\"outlinewidth\": 0, \"ticks\": \"\"}}, \"type\": \"scattercarpet\"}], \"scattergeo\": [{\"marker\": {\"colorbar\": {\"outlinewidth\": 0, \"ticks\": \"\"}}, \"type\": \"scattergeo\"}], \"scattergl\": [{\"marker\": {\"line\": {\"color\": \"#283442\"}}, \"type\": \"scattergl\"}], \"scattermapbox\": [{\"marker\": {\"colorbar\": {\"outlinewidth\": 0, \"ticks\": \"\"}}, \"type\": \"scattermapbox\"}], \"scatterpolar\": [{\"marker\": {\"colorbar\": {\"outlinewidth\": 0, \"ticks\": \"\"}}, \"type\": \"scatterpolar\"}], \"scatterpolargl\": [{\"marker\": {\"colorbar\": {\"outlinewidth\": 0, \"ticks\": \"\"}}, \"type\": \"scatterpolargl\"}], \"scatterternary\": [{\"marker\": {\"colorbar\": {\"outlinewidth\": 0, \"ticks\": \"\"}}, \"type\": \"scatterternary\"}], \"surface\": [{\"colorbar\": {\"outlinewidth\": 0, \"ticks\": \"\"}, \"colorscale\": [[0.0, \"#0d0887\"], [0.1111111111111111, \"#46039f\"], [0.2222222222222222, \"#7201a8\"], [0.3333333333333333, \"#9c179e\"], [0.4444444444444444, \"#bd3786\"], [0.5555555555555556, \"#d8576b\"], [0.6666666666666666, \"#ed7953\"], [0.7777777777777778, \"#fb9f3a\"], [0.8888888888888888, \"#fdca26\"], [1.0, \"#f0f921\"]], \"type\": \"surface\"}], \"table\": [{\"cells\": {\"fill\": {\"color\": \"#506784\"}, \"line\": {\"color\": \"rgb(17,17,17)\"}}, \"header\": {\"fill\": {\"color\": \"#2a3f5f\"}, \"line\": {\"color\": \"rgb(17,17,17)\"}}, \"type\": \"table\"}]}, \"layout\": {\"annotationdefaults\": {\"arrowcolor\": \"#f2f5fa\", \"arrowhead\": 0, \"arrowwidth\": 1}, \"coloraxis\": {\"colorbar\": {\"outlinewidth\": 0, \"ticks\": \"\"}}, \"colorscale\": {\"diverging\": [[0, \"#8e0152\"], [0.1, \"#c51b7d\"], [0.2, \"#de77ae\"], [0.3, \"#f1b6da\"], [0.4, \"#fde0ef\"], [0.5, \"#f7f7f7\"], [0.6, \"#e6f5d0\"], [0.7, \"#b8e186\"], [0.8, \"#7fbc41\"], [0.9, \"#4d9221\"], [1, \"#276419\"]], \"sequential\": [[0.0, \"#0d0887\"], [0.1111111111111111, \"#46039f\"], [0.2222222222222222, \"#7201a8\"], [0.3333333333333333, \"#9c179e\"], [0.4444444444444444, \"#bd3786\"], [0.5555555555555556, \"#d8576b\"], [0.6666666666666666, \"#ed7953\"], [0.7777777777777778, \"#fb9f3a\"], [0.8888888888888888, \"#fdca26\"], [1.0, \"#f0f921\"]], \"sequentialminus\": [[0.0, \"#0d0887\"], [0.1111111111111111, \"#46039f\"], [0.2222222222222222, \"#7201a8\"], [0.3333333333333333, \"#9c179e\"], [0.4444444444444444, \"#bd3786\"], [0.5555555555555556, \"#d8576b\"], [0.6666666666666666, \"#ed7953\"], [0.7777777777777778, \"#fb9f3a\"], [0.8888888888888888, \"#fdca26\"], [1.0, \"#f0f921\"]]}, \"colorway\": [\"#636efa\", \"#EF553B\", \"#00cc96\", \"#ab63fa\", \"#FFA15A\", \"#19d3f3\", \"#FF6692\", \"#B6E880\", \"#FF97FF\", \"#FECB52\"], \"font\": {\"color\": \"#f2f5fa\"}, \"geo\": {\"bgcolor\": \"rgb(17,17,17)\", \"lakecolor\": \"rgb(17,17,17)\", \"landcolor\": \"rgb(17,17,17)\", \"showlakes\": true, \"showland\": true, \"subunitcolor\": \"#506784\"}, \"hoverlabel\": {\"align\": \"left\"}, \"hovermode\": \"closest\", \"mapbox\": {\"style\": \"dark\"}, \"paper_bgcolor\": \"rgb(17,17,17)\", \"plot_bgcolor\": \"rgb(17,17,17)\", \"polar\": {\"angularaxis\": {\"gridcolor\": \"#506784\", \"linecolor\": \"#506784\", \"ticks\": \"\"}, \"bgcolor\": \"rgb(17,17,17)\", \"radialaxis\": {\"gridcolor\": \"#506784\", \"linecolor\": \"#506784\", \"ticks\": \"\"}}, \"scene\": {\"xaxis\": {\"backgroundcolor\": \"rgb(17,17,17)\", \"gridcolor\": \"#506784\", \"gridwidth\": 2, \"linecolor\": \"#506784\", \"showbackground\": true, \"ticks\": \"\", \"zerolinecolor\": \"#C8D4E3\"}, \"yaxis\": {\"backgroundcolor\": \"rgb(17,17,17)\", \"gridcolor\": \"#506784\", \"gridwidth\": 2, \"linecolor\": \"#506784\", \"showbackground\": true, \"ticks\": \"\", \"zerolinecolor\": \"#C8D4E3\"}, \"zaxis\": {\"backgroundcolor\": \"rgb(17,17,17)\", \"gridcolor\": \"#506784\", \"gridwidth\": 2, \"linecolor\": \"#506784\", \"showbackground\": true, \"ticks\": \"\", \"zerolinecolor\": \"#C8D4E3\"}}, \"shapedefaults\": {\"line\": {\"color\": \"#f2f5fa\"}}, \"sliderdefaults\": {\"bgcolor\": \"#C8D4E3\", \"bordercolor\": \"rgb(17,17,17)\", \"borderwidth\": 1, \"tickwidth\": 0}, \"ternary\": {\"aaxis\": {\"gridcolor\": \"#506784\", \"linecolor\": \"#506784\", \"ticks\": \"\"}, \"baxis\": {\"gridcolor\": \"#506784\", \"linecolor\": \"#506784\", \"ticks\": \"\"}, \"bgcolor\": \"rgb(17,17,17)\", \"caxis\": {\"gridcolor\": \"#506784\", \"linecolor\": \"#506784\", \"ticks\": \"\"}}, \"title\": {\"x\": 0.05}, \"updatemenudefaults\": {\"bgcolor\": \"#506784\", \"borderwidth\": 0}, \"xaxis\": {\"automargin\": true, \"gridcolor\": \"#283442\", \"linecolor\": \"#506784\", \"ticks\": \"\", \"title\": {\"standoff\": 15}, \"zerolinecolor\": \"#283442\", \"zerolinewidth\": 2}, \"yaxis\": {\"automargin\": true, \"gridcolor\": \"#283442\", \"linecolor\": \"#506784\", \"ticks\": \"\", \"title\": {\"standoff\": 15}, \"zerolinecolor\": \"#283442\", \"zerolinewidth\": 2}}}, \"xaxis\": {\"anchor\": \"y\", \"categoryarray\": [\"passes_launched_gk\", \"clean_sheets\", \"age\", \"pens_saved\", \"CL\", \"Season\", \"squad\", \"league\", \"height\", \"foot\", \"nationality\", \"position\", \"WinCL\", \"CLBestScorer\", \"MP\"], \"categoryorder\": \"array\", \"domain\": [0.0, 1.0], \"title\": {\"text\": \"Stats\"}}, \"yaxis\": {\"anchor\": \"x\", \"domain\": [0.0, 1.0], \"title\": {\"text\": \"FI\"}}},\n",
              "                        {\"responsive\": true}\n",
              "                    ).then(function(){\n",
              "                            \n",
              "var gd = document.getElementById('0d45df97-adac-4234-aa2c-31ae10ebfd42');\n",
              "var x = new MutationObserver(function (mutations, observer) {{\n",
              "        var display = window.getComputedStyle(gd).display;\n",
              "        if (!display || display === 'none') {{\n",
              "            console.log([gd, 'removed!']);\n",
              "            Plotly.purge(gd);\n",
              "            observer.disconnect();\n",
              "        }}\n",
              "}});\n",
              "\n",
              "// Listen for the removal of the full notebook cells\n",
              "var notebookContainer = gd.closest('#notebook-container');\n",
              "if (notebookContainer) {{\n",
              "    x.observe(notebookContainer, {childList: true});\n",
              "}}\n",
              "\n",
              "// Listen for the clearing of the current output cell\n",
              "var outputEl = gd.closest('.output');\n",
              "if (outputEl) {{\n",
              "    x.observe(outputEl, {childList: true});\n",
              "}}\n",
              "\n",
              "                        })\n",
              "                };\n",
              "                \n",
              "            </script>\n",
              "        </div>\n",
              "</body>\n",
              "</html>"
            ]
          },
          "metadata": {}
        }
      ]
    },
    {
      "cell_type": "code",
      "metadata": {
        "id": "kAhaWg1qNLoM"
      },
      "source": [],
      "execution_count": null,
      "outputs": []
    }
  ]
}